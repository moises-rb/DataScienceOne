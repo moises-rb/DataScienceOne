{
  "cells": [
    {
      "cell_type": "markdown",
      "metadata": {
        "id": "view-in-github",
        "colab_type": "text"
      },
      "source": [
        "<a href=\"https://colab.research.google.com/github/moises-rb/DataScienceOne/blob/main/IA_Aplicada_DataScience%20/Desafios.ipynb\" target=\"_parent\"><img src=\"https://colab.research.google.com/assets/colab-badge.svg\" alt=\"Open In Colab\"/></a>"
      ]
    },
    {
      "cell_type": "markdown",
      "metadata": {
        "id": "qxah03ikONCD"
      },
      "source": [
        "# Sobre o notebook\n",
        "\n",
        "Aproveite esse espaço para as atividades do curso de **IA aplicada a Data Science: utilizando IA na construção de visualização de dados** da Alura. Aqui você pode escrever e testar os códigos dos diversos exercícios do **Mão na Massa** envolvendo os aprendizados de cada aula.\n",
        "\n",
        "Este notebook foi construído com espaços para adicionar o prompt que será utilizado para criar o código pelo ChatGPT e as células dos desafios propostos no curso, com eles você tem espaço para construir e executar suas soluções.\n"
      ]
    },
    {
      "cell_type": "markdown",
      "metadata": {
        "id": "VU-HzHdFuIJF"
      },
      "source": [
        "Logo abaixo, temos as url's onde estão localizadas as bases utilizadas no projeto juntamente com a url com dados que utilizaremos também no desafio"
      ]
    },
    {
      "cell_type": "code",
      "execution_count": 3,
      "metadata": {
        "id": "hwXpW9_yuIJG"
      },
      "outputs": [],
      "source": [
        "url_clientes = \"https://raw.githubusercontent.com/alura-cursos/ia-datascience-dataviz/main/dados/zoop_clientes.csv\"\n",
        "url_vendas = \"https://raw.githubusercontent.com/alura-cursos/ia-datascience-dataviz/main/dados/zoop_vendas.csv\"\n",
        "url_zoop_pay = \"https://raw.githubusercontent.com/alura-cursos/ia-datascience-dataviz/main/dados/cadastro_zoop_pay.csv\""
      ]
    },
    {
      "cell_type": "markdown",
      "metadata": {
        "id": "IA3M1eso_L2Z"
      },
      "source": [
        "## Aula 01 - Conhecendo os dados"
      ]
    },
    {
      "cell_type": "markdown",
      "metadata": {
        "id": "AmpR_VE4CImQ"
      },
      "source": [
        "### Mão na Massa - Zoop Pay"
      ]
    },
    {
      "cell_type": "markdown",
      "metadata": {
        "id": "jhjVM18auIJL"
      },
      "source": [
        "> #### <strong><font color=\"#203f75\" size= 6>Prompt:</font></strong>\n",
        "\n",
        "Escreva aqui o prompt que você utilizou para gerar o código do desafio!"
      ]
    },
    {
      "cell_type": "markdown",
      "source": [
        "Tenho três bases de dados no formato csv com os respectivos nomes: clientes, vendas e zoop_pay. Preciso antes de começar explorar os dados, conhecer as tabelas. Seguir com a escrita de um código em Python, utilizando a biblioteca Pandas. Os arquivos já foram carregados nas seguintes variáveis:\n",
        "url_clientes\n",
        "url_vendas\n",
        "url_zoop_pay"
      ],
      "metadata": {
        "id": "TYVuAMJqGv4D"
      }
    },
    {
      "cell_type": "code",
      "execution_count": 4,
      "metadata": {
        "id": "ZruvypSoO6oP",
        "colab": {
          "base_uri": "https://localhost:8080/"
        },
        "outputId": "5bfdaa2a-0946-40a5-aab3-5203638e79ff"
      },
      "outputs": [
        {
          "output_type": "stream",
          "name": "stdout",
          "text": [
            "\n",
            "🗂️ Tabela CLIENTES:\n",
            "['ID_compra', 'ID_cliente', 'cidade', 'uf', 'regiao', 'idade', 'sexo_biologico', 'cashback', 'avaliacao_compra']\n",
            "\n",
            "🗂️ Tabela VENDAS:\n",
            "['ID_compra', 'data', 'horario', 'categoria', 'preco_unitario', 'quantidade', 'frete', 'metodo_pagamento']\n",
            "\n",
            "🗂️ Tabela ZOOP_PAY:\n",
            "['ID_cliente', 'zoop_pay']\n"
          ]
        }
      ],
      "source": [
        "import pandas as pd\n",
        "\n",
        "# Carregar os dados\n",
        "df_clientes = pd.read_csv(url_clientes)\n",
        "df_vendas = pd.read_csv(url_vendas)\n",
        "df_zoop_pay = pd.read_csv(url_zoop_pay)\n",
        "\n",
        "# Exibir os campos (colunas) de cada tabela\n",
        "print(\"\\n🗂️ Tabela CLIENTES:\")\n",
        "print(df_clientes.columns.tolist())\n",
        "\n",
        "print(\"\\n🗂️ Tabela VENDAS:\")\n",
        "print(df_vendas.columns.tolist())\n",
        "\n",
        "print(\"\\n🗂️ Tabela ZOOP_PAY:\")\n",
        "print(df_zoop_pay.columns.tolist())\n"
      ]
    },
    {
      "cell_type": "markdown",
      "metadata": {
        "id": "DgLNFyNWuIJM"
      },
      "source": [
        "> #### <strong><font color=\"#203f75\" size= 6>Prompt:</font></strong>\n",
        "\n",
        "Escreva aqui o prompt que você utilizou para gerar o código do desafio!"
      ]
    },
    {
      "cell_type": "code",
      "execution_count": 5,
      "metadata": {
        "id": "wN0_cal1O6FJ",
        "colab": {
          "base_uri": "https://localhost:8080/",
          "height": 382
        },
        "outputId": "dadeb30d-3b08-4728-aee4-83d47028405d"
      },
      "outputs": [
        {
          "output_type": "execute_result",
          "data": {
            "text/plain": [
              "   ID_compra        data horario                   categoria  preco_unitario  \\\n",
              "0          6  2023-01-03   20:40                 Eletrônicos          4457.9   \n",
              "1          5  2023-01-03   21:48    Ferramentas e construção           115.9   \n",
              "2          9  2023-01-03   17:08  Beleza e cuidados pessoais            68.9   \n",
              "3          4  2023-01-03   14:29    Ferramentas e construção            80.9   \n",
              "4          8  2023-01-03   18:02  Beleza e cuidados pessoais           165.0   \n",
              "\n",
              "   quantidade   frete   metodo_pagamento  ID_cliente  idade sexo_biologico  \\\n",
              "0           4  713.26             Boleto        6149     30      Masculino   \n",
              "1           1    0.00                PIX        9491     36      Masculino   \n",
              "2           2   13.78  Cartão de Crédito        5288     39       Feminino   \n",
              "3           5   40.45                PIX        9679     35      Masculino   \n",
              "4           4    0.00                PIX        1380     50      Masculino   \n",
              "\n",
              "         cidade                 uf    regiao cashback  avaliacao_compra  \n",
              "0  Porto Alegre  Rio Grande do Sul       Sul      Sim                10  \n",
              "1     São Paulo          São Paulo   Sudeste      Sim                 8  \n",
              "2   Porto Velho           Rondônia     Norte      Não                 7  \n",
              "3        Recife         Pernambuco  Nordeste      Sim                 9  \n",
              "4     São Paulo          São Paulo   Sudeste      Não                 9  "
            ],
            "text/html": [
              "\n",
              "  <div id=\"df-663170b3-d2fa-48aa-af0c-4db5162b4211\" class=\"colab-df-container\">\n",
              "    <div>\n",
              "<style scoped>\n",
              "    .dataframe tbody tr th:only-of-type {\n",
              "        vertical-align: middle;\n",
              "    }\n",
              "\n",
              "    .dataframe tbody tr th {\n",
              "        vertical-align: top;\n",
              "    }\n",
              "\n",
              "    .dataframe thead th {\n",
              "        text-align: right;\n",
              "    }\n",
              "</style>\n",
              "<table border=\"1\" class=\"dataframe\">\n",
              "  <thead>\n",
              "    <tr style=\"text-align: right;\">\n",
              "      <th></th>\n",
              "      <th>ID_compra</th>\n",
              "      <th>data</th>\n",
              "      <th>horario</th>\n",
              "      <th>categoria</th>\n",
              "      <th>preco_unitario</th>\n",
              "      <th>quantidade</th>\n",
              "      <th>frete</th>\n",
              "      <th>metodo_pagamento</th>\n",
              "      <th>ID_cliente</th>\n",
              "      <th>idade</th>\n",
              "      <th>sexo_biologico</th>\n",
              "      <th>cidade</th>\n",
              "      <th>uf</th>\n",
              "      <th>regiao</th>\n",
              "      <th>cashback</th>\n",
              "      <th>avaliacao_compra</th>\n",
              "    </tr>\n",
              "  </thead>\n",
              "  <tbody>\n",
              "    <tr>\n",
              "      <th>0</th>\n",
              "      <td>6</td>\n",
              "      <td>2023-01-03</td>\n",
              "      <td>20:40</td>\n",
              "      <td>Eletrônicos</td>\n",
              "      <td>4457.9</td>\n",
              "      <td>4</td>\n",
              "      <td>713.26</td>\n",
              "      <td>Boleto</td>\n",
              "      <td>6149</td>\n",
              "      <td>30</td>\n",
              "      <td>Masculino</td>\n",
              "      <td>Porto Alegre</td>\n",
              "      <td>Rio Grande do Sul</td>\n",
              "      <td>Sul</td>\n",
              "      <td>Sim</td>\n",
              "      <td>10</td>\n",
              "    </tr>\n",
              "    <tr>\n",
              "      <th>1</th>\n",
              "      <td>5</td>\n",
              "      <td>2023-01-03</td>\n",
              "      <td>21:48</td>\n",
              "      <td>Ferramentas e construção</td>\n",
              "      <td>115.9</td>\n",
              "      <td>1</td>\n",
              "      <td>0.00</td>\n",
              "      <td>PIX</td>\n",
              "      <td>9491</td>\n",
              "      <td>36</td>\n",
              "      <td>Masculino</td>\n",
              "      <td>São Paulo</td>\n",
              "      <td>São Paulo</td>\n",
              "      <td>Sudeste</td>\n",
              "      <td>Sim</td>\n",
              "      <td>8</td>\n",
              "    </tr>\n",
              "    <tr>\n",
              "      <th>2</th>\n",
              "      <td>9</td>\n",
              "      <td>2023-01-03</td>\n",
              "      <td>17:08</td>\n",
              "      <td>Beleza e cuidados pessoais</td>\n",
              "      <td>68.9</td>\n",
              "      <td>2</td>\n",
              "      <td>13.78</td>\n",
              "      <td>Cartão de Crédito</td>\n",
              "      <td>5288</td>\n",
              "      <td>39</td>\n",
              "      <td>Feminino</td>\n",
              "      <td>Porto Velho</td>\n",
              "      <td>Rondônia</td>\n",
              "      <td>Norte</td>\n",
              "      <td>Não</td>\n",
              "      <td>7</td>\n",
              "    </tr>\n",
              "    <tr>\n",
              "      <th>3</th>\n",
              "      <td>4</td>\n",
              "      <td>2023-01-03</td>\n",
              "      <td>14:29</td>\n",
              "      <td>Ferramentas e construção</td>\n",
              "      <td>80.9</td>\n",
              "      <td>5</td>\n",
              "      <td>40.45</td>\n",
              "      <td>PIX</td>\n",
              "      <td>9679</td>\n",
              "      <td>35</td>\n",
              "      <td>Masculino</td>\n",
              "      <td>Recife</td>\n",
              "      <td>Pernambuco</td>\n",
              "      <td>Nordeste</td>\n",
              "      <td>Sim</td>\n",
              "      <td>9</td>\n",
              "    </tr>\n",
              "    <tr>\n",
              "      <th>4</th>\n",
              "      <td>8</td>\n",
              "      <td>2023-01-03</td>\n",
              "      <td>18:02</td>\n",
              "      <td>Beleza e cuidados pessoais</td>\n",
              "      <td>165.0</td>\n",
              "      <td>4</td>\n",
              "      <td>0.00</td>\n",
              "      <td>PIX</td>\n",
              "      <td>1380</td>\n",
              "      <td>50</td>\n",
              "      <td>Masculino</td>\n",
              "      <td>São Paulo</td>\n",
              "      <td>São Paulo</td>\n",
              "      <td>Sudeste</td>\n",
              "      <td>Não</td>\n",
              "      <td>9</td>\n",
              "    </tr>\n",
              "  </tbody>\n",
              "</table>\n",
              "</div>\n",
              "    <div class=\"colab-df-buttons\">\n",
              "\n",
              "  <div class=\"colab-df-container\">\n",
              "    <button class=\"colab-df-convert\" onclick=\"convertToInteractive('df-663170b3-d2fa-48aa-af0c-4db5162b4211')\"\n",
              "            title=\"Convert this dataframe to an interactive table.\"\n",
              "            style=\"display:none;\">\n",
              "\n",
              "  <svg xmlns=\"http://www.w3.org/2000/svg\" height=\"24px\" viewBox=\"0 -960 960 960\">\n",
              "    <path d=\"M120-120v-720h720v720H120Zm60-500h600v-160H180v160Zm220 220h160v-160H400v160Zm0 220h160v-160H400v160ZM180-400h160v-160H180v160Zm440 0h160v-160H620v160ZM180-180h160v-160H180v160Zm440 0h160v-160H620v160Z\"/>\n",
              "  </svg>\n",
              "    </button>\n",
              "\n",
              "  <style>\n",
              "    .colab-df-container {\n",
              "      display:flex;\n",
              "      gap: 12px;\n",
              "    }\n",
              "\n",
              "    .colab-df-convert {\n",
              "      background-color: #E8F0FE;\n",
              "      border: none;\n",
              "      border-radius: 50%;\n",
              "      cursor: pointer;\n",
              "      display: none;\n",
              "      fill: #1967D2;\n",
              "      height: 32px;\n",
              "      padding: 0 0 0 0;\n",
              "      width: 32px;\n",
              "    }\n",
              "\n",
              "    .colab-df-convert:hover {\n",
              "      background-color: #E2EBFA;\n",
              "      box-shadow: 0px 1px 2px rgba(60, 64, 67, 0.3), 0px 1px 3px 1px rgba(60, 64, 67, 0.15);\n",
              "      fill: #174EA6;\n",
              "    }\n",
              "\n",
              "    .colab-df-buttons div {\n",
              "      margin-bottom: 4px;\n",
              "    }\n",
              "\n",
              "    [theme=dark] .colab-df-convert {\n",
              "      background-color: #3B4455;\n",
              "      fill: #D2E3FC;\n",
              "    }\n",
              "\n",
              "    [theme=dark] .colab-df-convert:hover {\n",
              "      background-color: #434B5C;\n",
              "      box-shadow: 0px 1px 3px 1px rgba(0, 0, 0, 0.15);\n",
              "      filter: drop-shadow(0px 1px 2px rgba(0, 0, 0, 0.3));\n",
              "      fill: #FFFFFF;\n",
              "    }\n",
              "  </style>\n",
              "\n",
              "    <script>\n",
              "      const buttonEl =\n",
              "        document.querySelector('#df-663170b3-d2fa-48aa-af0c-4db5162b4211 button.colab-df-convert');\n",
              "      buttonEl.style.display =\n",
              "        google.colab.kernel.accessAllowed ? 'block' : 'none';\n",
              "\n",
              "      async function convertToInteractive(key) {\n",
              "        const element = document.querySelector('#df-663170b3-d2fa-48aa-af0c-4db5162b4211');\n",
              "        const dataTable =\n",
              "          await google.colab.kernel.invokeFunction('convertToInteractive',\n",
              "                                                    [key], {});\n",
              "        if (!dataTable) return;\n",
              "\n",
              "        const docLinkHtml = 'Like what you see? Visit the ' +\n",
              "          '<a target=\"_blank\" href=https://colab.research.google.com/notebooks/data_table.ipynb>data table notebook</a>'\n",
              "          + ' to learn more about interactive tables.';\n",
              "        element.innerHTML = '';\n",
              "        dataTable['output_type'] = 'display_data';\n",
              "        await google.colab.output.renderOutput(dataTable, element);\n",
              "        const docLink = document.createElement('div');\n",
              "        docLink.innerHTML = docLinkHtml;\n",
              "        element.appendChild(docLink);\n",
              "      }\n",
              "    </script>\n",
              "  </div>\n",
              "\n",
              "\n",
              "    <div id=\"df-15550fe2-6c02-4878-b027-b8d431652326\">\n",
              "      <button class=\"colab-df-quickchart\" onclick=\"quickchart('df-15550fe2-6c02-4878-b027-b8d431652326')\"\n",
              "                title=\"Suggest charts\"\n",
              "                style=\"display:none;\">\n",
              "\n",
              "<svg xmlns=\"http://www.w3.org/2000/svg\" height=\"24px\"viewBox=\"0 0 24 24\"\n",
              "     width=\"24px\">\n",
              "    <g>\n",
              "        <path d=\"M19 3H5c-1.1 0-2 .9-2 2v14c0 1.1.9 2 2 2h14c1.1 0 2-.9 2-2V5c0-1.1-.9-2-2-2zM9 17H7v-7h2v7zm4 0h-2V7h2v10zm4 0h-2v-4h2v4z\"/>\n",
              "    </g>\n",
              "</svg>\n",
              "      </button>\n",
              "\n",
              "<style>\n",
              "  .colab-df-quickchart {\n",
              "      --bg-color: #E8F0FE;\n",
              "      --fill-color: #1967D2;\n",
              "      --hover-bg-color: #E2EBFA;\n",
              "      --hover-fill-color: #174EA6;\n",
              "      --disabled-fill-color: #AAA;\n",
              "      --disabled-bg-color: #DDD;\n",
              "  }\n",
              "\n",
              "  [theme=dark] .colab-df-quickchart {\n",
              "      --bg-color: #3B4455;\n",
              "      --fill-color: #D2E3FC;\n",
              "      --hover-bg-color: #434B5C;\n",
              "      --hover-fill-color: #FFFFFF;\n",
              "      --disabled-bg-color: #3B4455;\n",
              "      --disabled-fill-color: #666;\n",
              "  }\n",
              "\n",
              "  .colab-df-quickchart {\n",
              "    background-color: var(--bg-color);\n",
              "    border: none;\n",
              "    border-radius: 50%;\n",
              "    cursor: pointer;\n",
              "    display: none;\n",
              "    fill: var(--fill-color);\n",
              "    height: 32px;\n",
              "    padding: 0;\n",
              "    width: 32px;\n",
              "  }\n",
              "\n",
              "  .colab-df-quickchart:hover {\n",
              "    background-color: var(--hover-bg-color);\n",
              "    box-shadow: 0 1px 2px rgba(60, 64, 67, 0.3), 0 1px 3px 1px rgba(60, 64, 67, 0.15);\n",
              "    fill: var(--button-hover-fill-color);\n",
              "  }\n",
              "\n",
              "  .colab-df-quickchart-complete:disabled,\n",
              "  .colab-df-quickchart-complete:disabled:hover {\n",
              "    background-color: var(--disabled-bg-color);\n",
              "    fill: var(--disabled-fill-color);\n",
              "    box-shadow: none;\n",
              "  }\n",
              "\n",
              "  .colab-df-spinner {\n",
              "    border: 2px solid var(--fill-color);\n",
              "    border-color: transparent;\n",
              "    border-bottom-color: var(--fill-color);\n",
              "    animation:\n",
              "      spin 1s steps(1) infinite;\n",
              "  }\n",
              "\n",
              "  @keyframes spin {\n",
              "    0% {\n",
              "      border-color: transparent;\n",
              "      border-bottom-color: var(--fill-color);\n",
              "      border-left-color: var(--fill-color);\n",
              "    }\n",
              "    20% {\n",
              "      border-color: transparent;\n",
              "      border-left-color: var(--fill-color);\n",
              "      border-top-color: var(--fill-color);\n",
              "    }\n",
              "    30% {\n",
              "      border-color: transparent;\n",
              "      border-left-color: var(--fill-color);\n",
              "      border-top-color: var(--fill-color);\n",
              "      border-right-color: var(--fill-color);\n",
              "    }\n",
              "    40% {\n",
              "      border-color: transparent;\n",
              "      border-right-color: var(--fill-color);\n",
              "      border-top-color: var(--fill-color);\n",
              "    }\n",
              "    60% {\n",
              "      border-color: transparent;\n",
              "      border-right-color: var(--fill-color);\n",
              "    }\n",
              "    80% {\n",
              "      border-color: transparent;\n",
              "      border-right-color: var(--fill-color);\n",
              "      border-bottom-color: var(--fill-color);\n",
              "    }\n",
              "    90% {\n",
              "      border-color: transparent;\n",
              "      border-bottom-color: var(--fill-color);\n",
              "    }\n",
              "  }\n",
              "</style>\n",
              "\n",
              "      <script>\n",
              "        async function quickchart(key) {\n",
              "          const quickchartButtonEl =\n",
              "            document.querySelector('#' + key + ' button');\n",
              "          quickchartButtonEl.disabled = true;  // To prevent multiple clicks.\n",
              "          quickchartButtonEl.classList.add('colab-df-spinner');\n",
              "          try {\n",
              "            const charts = await google.colab.kernel.invokeFunction(\n",
              "                'suggestCharts', [key], {});\n",
              "          } catch (error) {\n",
              "            console.error('Error during call to suggestCharts:', error);\n",
              "          }\n",
              "          quickchartButtonEl.classList.remove('colab-df-spinner');\n",
              "          quickchartButtonEl.classList.add('colab-df-quickchart-complete');\n",
              "        }\n",
              "        (() => {\n",
              "          let quickchartButtonEl =\n",
              "            document.querySelector('#df-15550fe2-6c02-4878-b027-b8d431652326 button');\n",
              "          quickchartButtonEl.style.display =\n",
              "            google.colab.kernel.accessAllowed ? 'block' : 'none';\n",
              "        })();\n",
              "      </script>\n",
              "    </div>\n",
              "\n",
              "    </div>\n",
              "  </div>\n"
            ],
            "application/vnd.google.colaboratory.intrinsic+json": {
              "type": "dataframe",
              "variable_name": "df",
              "summary": "{\n  \"name\": \"df\",\n  \"rows\": 6169,\n  \"fields\": [\n    {\n      \"column\": \"ID_compra\",\n      \"properties\": {\n        \"dtype\": \"number\",\n        \"std\": 1780,\n        \"min\": 1,\n        \"max\": 6169,\n        \"num_unique_values\": 6169,\n        \"samples\": [\n          5998,\n          409,\n          1489\n        ],\n        \"semantic_type\": \"\",\n        \"description\": \"\"\n      }\n    },\n    {\n      \"column\": \"data\",\n      \"properties\": {\n        \"dtype\": \"object\",\n        \"num_unique_values\": 304,\n        \"samples\": [\n          \"2023-08-05\",\n          \"2023-07-06\",\n          \"2023-05-17\"\n        ],\n        \"semantic_type\": \"\",\n        \"description\": \"\"\n      }\n    },\n    {\n      \"column\": \"horario\",\n      \"properties\": {\n        \"dtype\": \"object\",\n        \"num_unique_values\": 659,\n        \"samples\": [\n          \"19:04\",\n          \"21:53\",\n          \"21:42\"\n        ],\n        \"semantic_type\": \"\",\n        \"description\": \"\"\n      }\n    },\n    {\n      \"column\": \"categoria\",\n      \"properties\": {\n        \"dtype\": \"category\",\n        \"num_unique_values\": 8,\n        \"samples\": [\n          \"Ferramentas e constru\\u00e7\\u00e3o\",\n          \"Livros\",\n          \"Eletr\\u00f4nicos\"\n        ],\n        \"semantic_type\": \"\",\n        \"description\": \"\"\n      }\n    },\n    {\n      \"column\": \"preco_unitario\",\n      \"properties\": {\n        \"dtype\": \"number\",\n        \"std\": 1852.0643423194142,\n        \"min\": 2.9,\n        \"max\": 8000.0,\n        \"num_unique_values\": 1655,\n        \"samples\": [\n          6291.9,\n          52.9,\n          31.0\n        ],\n        \"semantic_type\": \"\",\n        \"description\": \"\"\n      }\n    },\n    {\n      \"column\": \"quantidade\",\n      \"properties\": {\n        \"dtype\": \"number\",\n        \"std\": 1,\n        \"min\": 1,\n        \"max\": 5,\n        \"num_unique_values\": 5,\n        \"samples\": [\n          1,\n          3,\n          2\n        ],\n        \"semantic_type\": \"\",\n        \"description\": \"\"\n      }\n    },\n    {\n      \"column\": \"frete\",\n      \"properties\": {\n        \"dtype\": \"number\",\n        \"std\": 366.14922483792856,\n        \"min\": 0.0,\n        \"max\": 4521.54,\n        \"num_unique_values\": 2934,\n        \"samples\": [\n          30.58,\n          21.21,\n          14.23\n        ],\n        \"semantic_type\": \"\",\n        \"description\": \"\"\n      }\n    },\n    {\n      \"column\": \"metodo_pagamento\",\n      \"properties\": {\n        \"dtype\": \"category\",\n        \"num_unique_values\": 4,\n        \"samples\": [\n          \"PIX\",\n          \"Cart\\u00e3o de D\\u00e9bito\",\n          \"Boleto\"\n        ],\n        \"semantic_type\": \"\",\n        \"description\": \"\"\n      }\n    },\n    {\n      \"column\": \"ID_cliente\",\n      \"properties\": {\n        \"dtype\": \"number\",\n        \"std\": 2610,\n        \"min\": 1005,\n        \"max\": 9999,\n        \"num_unique_values\": 4453,\n        \"samples\": [\n          7826,\n          3212,\n          2734\n        ],\n        \"semantic_type\": \"\",\n        \"description\": \"\"\n      }\n    },\n    {\n      \"column\": \"idade\",\n      \"properties\": {\n        \"dtype\": \"number\",\n        \"std\": 9,\n        \"min\": 18,\n        \"max\": 70,\n        \"num_unique_values\": 53,\n        \"samples\": [\n          47,\n          20,\n          70\n        ],\n        \"semantic_type\": \"\",\n        \"description\": \"\"\n      }\n    },\n    {\n      \"column\": \"sexo_biologico\",\n      \"properties\": {\n        \"dtype\": \"category\",\n        \"num_unique_values\": 2,\n        \"samples\": [\n          \"Feminino\",\n          \"Masculino\"\n        ],\n        \"semantic_type\": \"\",\n        \"description\": \"\"\n      }\n    },\n    {\n      \"column\": \"cidade\",\n      \"properties\": {\n        \"dtype\": \"category\",\n        \"num_unique_values\": 96,\n        \"samples\": [\n          \"Vit\\u00f3ria da Conquista\",\n          \"Feira de Santana\"\n        ],\n        \"semantic_type\": \"\",\n        \"description\": \"\"\n      }\n    },\n    {\n      \"column\": \"uf\",\n      \"properties\": {\n        \"dtype\": \"category\",\n        \"num_unique_values\": 27,\n        \"samples\": [\n          \"Par\\u00e1\",\n          \"Minas Gerais\"\n        ],\n        \"semantic_type\": \"\",\n        \"description\": \"\"\n      }\n    },\n    {\n      \"column\": \"regiao\",\n      \"properties\": {\n        \"dtype\": \"category\",\n        \"num_unique_values\": 5,\n        \"samples\": [\n          \"Sudeste\",\n          \"Centro-Oeste\"\n        ],\n        \"semantic_type\": \"\",\n        \"description\": \"\"\n      }\n    },\n    {\n      \"column\": \"cashback\",\n      \"properties\": {\n        \"dtype\": \"category\",\n        \"num_unique_values\": 2,\n        \"samples\": [\n          \"N\\u00e3o\",\n          \"Sim\"\n        ],\n        \"semantic_type\": \"\",\n        \"description\": \"\"\n      }\n    },\n    {\n      \"column\": \"avaliacao_compra\",\n      \"properties\": {\n        \"dtype\": \"number\",\n        \"std\": 1,\n        \"min\": 0,\n        \"max\": 10,\n        \"num_unique_values\": 11,\n        \"samples\": [\n          2,\n          10\n        ],\n        \"semantic_type\": \"\",\n        \"description\": \"\"\n      }\n    }\n  ]\n}"
            }
          },
          "metadata": {},
          "execution_count": 5
        }
      ],
      "source": [
        "# Realizar o merge (junção) das tabelas usando a chave 'ID_compra'\n",
        "df = pd.merge(\n",
        "    df_vendas,\n",
        "    df_clientes,\n",
        "    on='ID_compra',\n",
        "    how='inner'  # Mantém apenas as compras que estão nas duas tabelas\n",
        ")\n",
        "\n",
        "# Organizar as colunas na ordem especificada\n",
        "colunas_ordenadas = [\n",
        "    \"ID_compra\", \"data\", \"horario\", \"categoria\", \"preco_unitario\", \"quantidade\",\n",
        "    \"frete\", \"metodo_pagamento\", \"ID_cliente\", \"idade\", \"sexo_biologico\",\n",
        "    \"cidade\", \"uf\", \"regiao\", \"cashback\", \"avaliacao_compra\"\n",
        "]\n",
        "\n",
        "# Reordenar o dataframe\n",
        "df = df[colunas_ordenadas]\n",
        "\n",
        "# Visualizar as primeiras linhas para conferir\n",
        "df.head()\n"
      ]
    },
    {
      "cell_type": "code",
      "source": [
        "# Realizar o merge entre o dataframe 'df' e 'df_zoop' usando 'ID_cliente' como chave\n",
        "df = pd.merge(\n",
        "    df,\n",
        "    df_zoop_pay,\n",
        "    on='ID_cliente',\n",
        "    how='left'  # Mantém todos os registros de df, adicionando info da zoop quando existir\n",
        ")\n",
        "\n",
        "# Ajustar a coluna 'data' para o tipo datetime no formato 'YYYY-MM-DD'\n",
        "df['data'] = pd.to_datetime(df['data'], format='%Y-%m-%d')\n",
        "\n",
        "# Conferir se ficou tudo certo\n",
        "df.head()\n",
        "df.dtypes"
      ],
      "metadata": {
        "colab": {
          "base_uri": "https://localhost:8080/",
          "height": 617
        },
        "id": "3hv0b2FLYDdD",
        "outputId": "f20e258e-4e4b-4902-e1d7-cb8f7a2a7019"
      },
      "execution_count": 6,
      "outputs": [
        {
          "output_type": "execute_result",
          "data": {
            "text/plain": [
              "ID_compra                    int64\n",
              "data                datetime64[ns]\n",
              "horario                     object\n",
              "categoria                   object\n",
              "preco_unitario             float64\n",
              "quantidade                   int64\n",
              "frete                      float64\n",
              "metodo_pagamento            object\n",
              "ID_cliente                   int64\n",
              "idade                        int64\n",
              "sexo_biologico              object\n",
              "cidade                      object\n",
              "uf                          object\n",
              "regiao                      object\n",
              "cashback                    object\n",
              "avaliacao_compra             int64\n",
              "zoop_pay                    object\n",
              "dtype: object"
            ],
            "text/html": [
              "<div>\n",
              "<style scoped>\n",
              "    .dataframe tbody tr th:only-of-type {\n",
              "        vertical-align: middle;\n",
              "    }\n",
              "\n",
              "    .dataframe tbody tr th {\n",
              "        vertical-align: top;\n",
              "    }\n",
              "\n",
              "    .dataframe thead th {\n",
              "        text-align: right;\n",
              "    }\n",
              "</style>\n",
              "<table border=\"1\" class=\"dataframe\">\n",
              "  <thead>\n",
              "    <tr style=\"text-align: right;\">\n",
              "      <th></th>\n",
              "      <th>0</th>\n",
              "    </tr>\n",
              "  </thead>\n",
              "  <tbody>\n",
              "    <tr>\n",
              "      <th>ID_compra</th>\n",
              "      <td>int64</td>\n",
              "    </tr>\n",
              "    <tr>\n",
              "      <th>data</th>\n",
              "      <td>datetime64[ns]</td>\n",
              "    </tr>\n",
              "    <tr>\n",
              "      <th>horario</th>\n",
              "      <td>object</td>\n",
              "    </tr>\n",
              "    <tr>\n",
              "      <th>categoria</th>\n",
              "      <td>object</td>\n",
              "    </tr>\n",
              "    <tr>\n",
              "      <th>preco_unitario</th>\n",
              "      <td>float64</td>\n",
              "    </tr>\n",
              "    <tr>\n",
              "      <th>quantidade</th>\n",
              "      <td>int64</td>\n",
              "    </tr>\n",
              "    <tr>\n",
              "      <th>frete</th>\n",
              "      <td>float64</td>\n",
              "    </tr>\n",
              "    <tr>\n",
              "      <th>metodo_pagamento</th>\n",
              "      <td>object</td>\n",
              "    </tr>\n",
              "    <tr>\n",
              "      <th>ID_cliente</th>\n",
              "      <td>int64</td>\n",
              "    </tr>\n",
              "    <tr>\n",
              "      <th>idade</th>\n",
              "      <td>int64</td>\n",
              "    </tr>\n",
              "    <tr>\n",
              "      <th>sexo_biologico</th>\n",
              "      <td>object</td>\n",
              "    </tr>\n",
              "    <tr>\n",
              "      <th>cidade</th>\n",
              "      <td>object</td>\n",
              "    </tr>\n",
              "    <tr>\n",
              "      <th>uf</th>\n",
              "      <td>object</td>\n",
              "    </tr>\n",
              "    <tr>\n",
              "      <th>regiao</th>\n",
              "      <td>object</td>\n",
              "    </tr>\n",
              "    <tr>\n",
              "      <th>cashback</th>\n",
              "      <td>object</td>\n",
              "    </tr>\n",
              "    <tr>\n",
              "      <th>avaliacao_compra</th>\n",
              "      <td>int64</td>\n",
              "    </tr>\n",
              "    <tr>\n",
              "      <th>zoop_pay</th>\n",
              "      <td>object</td>\n",
              "    </tr>\n",
              "  </tbody>\n",
              "</table>\n",
              "</div><br><label><b>dtype:</b> object</label>"
            ]
          },
          "metadata": {},
          "execution_count": 6
        }
      ]
    },
    {
      "cell_type": "markdown",
      "metadata": {
        "id": "ix1N_JAH_T1C"
      },
      "source": [
        "## Aula 02 - Visualizando os dados"
      ]
    },
    {
      "cell_type": "markdown",
      "metadata": {
        "id": "1sZUt4Nk_scq"
      },
      "source": [
        "### Mão na Massa - Gerando visuais em relação a localidade"
      ]
    },
    {
      "cell_type": "markdown",
      "metadata": {
        "id": "6rPSt8tRuIJO"
      },
      "source": [
        "#### Desafio 1:"
      ]
    },
    {
      "cell_type": "markdown",
      "metadata": {
        "id": "OHF5y_KFuIJP"
      },
      "source": [
        "> #### <strong><font color=\"#203f75\" size= 6>Prompt:</font></strong>\n",
        "\n",
        "### Escreva aqui o prompt que você utilizou para gerar o código do desafio!\n",
        "\n",
        "Temos um DataFrame chamado \"df\" e queremos construir um gráfico de linha que apresente as vendas de \"Panini\" por mês.\n",
        "\n",
        "Utilize apenas as colunas de \"df\":\n",
        "\n",
        "data: com a data das vendas já no formato datetime (aaaa-mm-dd)\n",
        "valor: com o valor de cada venda.\n",
        "produto: com os produtos vendidos. Vamos utilizar o produto \"Panini\".\n",
        "Agrupe as datas da coluna \"data\" por mês e agregue os dados apenas pela soma das vendas. Por fim, mude o eixo das datas para apresentar os meses em escrito.\n",
        "\n",
        "Utilize as bibliotecas de visualização de dados do Python para criar essa visualização."
      ]
    },
    {
      "cell_type": "code",
      "execution_count": 7,
      "metadata": {
        "id": "EQ2k1j6f_scv",
        "colab": {
          "base_uri": "https://localhost:8080/",
          "height": 206
        },
        "outputId": "bbd04da3-6222-4173-cc2e-3e5fbbf9e7a4"
      },
      "outputs": [
        {
          "output_type": "execute_result",
          "data": {
            "text/plain": [
              "     id        data           produto  valor   metodo_pagamento\n",
              "0  2720  2023-07-01  Risoto de Funghi   13.0   Cartão de Débito\n",
              "1  2721  2023-07-02          Tiramisù   10.0   Cartão de Débito\n",
              "2  2722  2023-07-02          Tiramisù   10.0  Cartão de Crédito\n",
              "3  2723  2023-07-02       Ratatouille    8.5                PIX\n",
              "4  2724  2023-07-03       Ratatouille    8.5           Dinheiro"
            ],
            "text/html": [
              "\n",
              "  <div id=\"df-e09084a4-eb1f-4deb-b58e-86d4bc2b36e0\" class=\"colab-df-container\">\n",
              "    <div>\n",
              "<style scoped>\n",
              "    .dataframe tbody tr th:only-of-type {\n",
              "        vertical-align: middle;\n",
              "    }\n",
              "\n",
              "    .dataframe tbody tr th {\n",
              "        vertical-align: top;\n",
              "    }\n",
              "\n",
              "    .dataframe thead th {\n",
              "        text-align: right;\n",
              "    }\n",
              "</style>\n",
              "<table border=\"1\" class=\"dataframe\">\n",
              "  <thead>\n",
              "    <tr style=\"text-align: right;\">\n",
              "      <th></th>\n",
              "      <th>id</th>\n",
              "      <th>data</th>\n",
              "      <th>produto</th>\n",
              "      <th>valor</th>\n",
              "      <th>metodo_pagamento</th>\n",
              "    </tr>\n",
              "  </thead>\n",
              "  <tbody>\n",
              "    <tr>\n",
              "      <th>0</th>\n",
              "      <td>2720</td>\n",
              "      <td>2023-07-01</td>\n",
              "      <td>Risoto de Funghi</td>\n",
              "      <td>13.0</td>\n",
              "      <td>Cartão de Débito</td>\n",
              "    </tr>\n",
              "    <tr>\n",
              "      <th>1</th>\n",
              "      <td>2721</td>\n",
              "      <td>2023-07-02</td>\n",
              "      <td>Tiramisù</td>\n",
              "      <td>10.0</td>\n",
              "      <td>Cartão de Débito</td>\n",
              "    </tr>\n",
              "    <tr>\n",
              "      <th>2</th>\n",
              "      <td>2722</td>\n",
              "      <td>2023-07-02</td>\n",
              "      <td>Tiramisù</td>\n",
              "      <td>10.0</td>\n",
              "      <td>Cartão de Crédito</td>\n",
              "    </tr>\n",
              "    <tr>\n",
              "      <th>3</th>\n",
              "      <td>2723</td>\n",
              "      <td>2023-07-02</td>\n",
              "      <td>Ratatouille</td>\n",
              "      <td>8.5</td>\n",
              "      <td>PIX</td>\n",
              "    </tr>\n",
              "    <tr>\n",
              "      <th>4</th>\n",
              "      <td>2724</td>\n",
              "      <td>2023-07-03</td>\n",
              "      <td>Ratatouille</td>\n",
              "      <td>8.5</td>\n",
              "      <td>Dinheiro</td>\n",
              "    </tr>\n",
              "  </tbody>\n",
              "</table>\n",
              "</div>\n",
              "    <div class=\"colab-df-buttons\">\n",
              "\n",
              "  <div class=\"colab-df-container\">\n",
              "    <button class=\"colab-df-convert\" onclick=\"convertToInteractive('df-e09084a4-eb1f-4deb-b58e-86d4bc2b36e0')\"\n",
              "            title=\"Convert this dataframe to an interactive table.\"\n",
              "            style=\"display:none;\">\n",
              "\n",
              "  <svg xmlns=\"http://www.w3.org/2000/svg\" height=\"24px\" viewBox=\"0 -960 960 960\">\n",
              "    <path d=\"M120-120v-720h720v720H120Zm60-500h600v-160H180v160Zm220 220h160v-160H400v160Zm0 220h160v-160H400v160ZM180-400h160v-160H180v160Zm440 0h160v-160H620v160ZM180-180h160v-160H180v160Zm440 0h160v-160H620v160Z\"/>\n",
              "  </svg>\n",
              "    </button>\n",
              "\n",
              "  <style>\n",
              "    .colab-df-container {\n",
              "      display:flex;\n",
              "      gap: 12px;\n",
              "    }\n",
              "\n",
              "    .colab-df-convert {\n",
              "      background-color: #E8F0FE;\n",
              "      border: none;\n",
              "      border-radius: 50%;\n",
              "      cursor: pointer;\n",
              "      display: none;\n",
              "      fill: #1967D2;\n",
              "      height: 32px;\n",
              "      padding: 0 0 0 0;\n",
              "      width: 32px;\n",
              "    }\n",
              "\n",
              "    .colab-df-convert:hover {\n",
              "      background-color: #E2EBFA;\n",
              "      box-shadow: 0px 1px 2px rgba(60, 64, 67, 0.3), 0px 1px 3px 1px rgba(60, 64, 67, 0.15);\n",
              "      fill: #174EA6;\n",
              "    }\n",
              "\n",
              "    .colab-df-buttons div {\n",
              "      margin-bottom: 4px;\n",
              "    }\n",
              "\n",
              "    [theme=dark] .colab-df-convert {\n",
              "      background-color: #3B4455;\n",
              "      fill: #D2E3FC;\n",
              "    }\n",
              "\n",
              "    [theme=dark] .colab-df-convert:hover {\n",
              "      background-color: #434B5C;\n",
              "      box-shadow: 0px 1px 3px 1px rgba(0, 0, 0, 0.15);\n",
              "      filter: drop-shadow(0px 1px 2px rgba(0, 0, 0, 0.3));\n",
              "      fill: #FFFFFF;\n",
              "    }\n",
              "  </style>\n",
              "\n",
              "    <script>\n",
              "      const buttonEl =\n",
              "        document.querySelector('#df-e09084a4-eb1f-4deb-b58e-86d4bc2b36e0 button.colab-df-convert');\n",
              "      buttonEl.style.display =\n",
              "        google.colab.kernel.accessAllowed ? 'block' : 'none';\n",
              "\n",
              "      async function convertToInteractive(key) {\n",
              "        const element = document.querySelector('#df-e09084a4-eb1f-4deb-b58e-86d4bc2b36e0');\n",
              "        const dataTable =\n",
              "          await google.colab.kernel.invokeFunction('convertToInteractive',\n",
              "                                                    [key], {});\n",
              "        if (!dataTable) return;\n",
              "\n",
              "        const docLinkHtml = 'Like what you see? Visit the ' +\n",
              "          '<a target=\"_blank\" href=https://colab.research.google.com/notebooks/data_table.ipynb>data table notebook</a>'\n",
              "          + ' to learn more about interactive tables.';\n",
              "        element.innerHTML = '';\n",
              "        dataTable['output_type'] = 'display_data';\n",
              "        await google.colab.output.renderOutput(dataTable, element);\n",
              "        const docLink = document.createElement('div');\n",
              "        docLink.innerHTML = docLinkHtml;\n",
              "        element.appendChild(docLink);\n",
              "      }\n",
              "    </script>\n",
              "  </div>\n",
              "\n",
              "\n",
              "    <div id=\"df-2a988a6d-2fb1-4c9e-85e3-a05927873240\">\n",
              "      <button class=\"colab-df-quickchart\" onclick=\"quickchart('df-2a988a6d-2fb1-4c9e-85e3-a05927873240')\"\n",
              "                title=\"Suggest charts\"\n",
              "                style=\"display:none;\">\n",
              "\n",
              "<svg xmlns=\"http://www.w3.org/2000/svg\" height=\"24px\"viewBox=\"0 0 24 24\"\n",
              "     width=\"24px\">\n",
              "    <g>\n",
              "        <path d=\"M19 3H5c-1.1 0-2 .9-2 2v14c0 1.1.9 2 2 2h14c1.1 0 2-.9 2-2V5c0-1.1-.9-2-2-2zM9 17H7v-7h2v7zm4 0h-2V7h2v10zm4 0h-2v-4h2v4z\"/>\n",
              "    </g>\n",
              "</svg>\n",
              "      </button>\n",
              "\n",
              "<style>\n",
              "  .colab-df-quickchart {\n",
              "      --bg-color: #E8F0FE;\n",
              "      --fill-color: #1967D2;\n",
              "      --hover-bg-color: #E2EBFA;\n",
              "      --hover-fill-color: #174EA6;\n",
              "      --disabled-fill-color: #AAA;\n",
              "      --disabled-bg-color: #DDD;\n",
              "  }\n",
              "\n",
              "  [theme=dark] .colab-df-quickchart {\n",
              "      --bg-color: #3B4455;\n",
              "      --fill-color: #D2E3FC;\n",
              "      --hover-bg-color: #434B5C;\n",
              "      --hover-fill-color: #FFFFFF;\n",
              "      --disabled-bg-color: #3B4455;\n",
              "      --disabled-fill-color: #666;\n",
              "  }\n",
              "\n",
              "  .colab-df-quickchart {\n",
              "    background-color: var(--bg-color);\n",
              "    border: none;\n",
              "    border-radius: 50%;\n",
              "    cursor: pointer;\n",
              "    display: none;\n",
              "    fill: var(--fill-color);\n",
              "    height: 32px;\n",
              "    padding: 0;\n",
              "    width: 32px;\n",
              "  }\n",
              "\n",
              "  .colab-df-quickchart:hover {\n",
              "    background-color: var(--hover-bg-color);\n",
              "    box-shadow: 0 1px 2px rgba(60, 64, 67, 0.3), 0 1px 3px 1px rgba(60, 64, 67, 0.15);\n",
              "    fill: var(--button-hover-fill-color);\n",
              "  }\n",
              "\n",
              "  .colab-df-quickchart-complete:disabled,\n",
              "  .colab-df-quickchart-complete:disabled:hover {\n",
              "    background-color: var(--disabled-bg-color);\n",
              "    fill: var(--disabled-fill-color);\n",
              "    box-shadow: none;\n",
              "  }\n",
              "\n",
              "  .colab-df-spinner {\n",
              "    border: 2px solid var(--fill-color);\n",
              "    border-color: transparent;\n",
              "    border-bottom-color: var(--fill-color);\n",
              "    animation:\n",
              "      spin 1s steps(1) infinite;\n",
              "  }\n",
              "\n",
              "  @keyframes spin {\n",
              "    0% {\n",
              "      border-color: transparent;\n",
              "      border-bottom-color: var(--fill-color);\n",
              "      border-left-color: var(--fill-color);\n",
              "    }\n",
              "    20% {\n",
              "      border-color: transparent;\n",
              "      border-left-color: var(--fill-color);\n",
              "      border-top-color: var(--fill-color);\n",
              "    }\n",
              "    30% {\n",
              "      border-color: transparent;\n",
              "      border-left-color: var(--fill-color);\n",
              "      border-top-color: var(--fill-color);\n",
              "      border-right-color: var(--fill-color);\n",
              "    }\n",
              "    40% {\n",
              "      border-color: transparent;\n",
              "      border-right-color: var(--fill-color);\n",
              "      border-top-color: var(--fill-color);\n",
              "    }\n",
              "    60% {\n",
              "      border-color: transparent;\n",
              "      border-right-color: var(--fill-color);\n",
              "    }\n",
              "    80% {\n",
              "      border-color: transparent;\n",
              "      border-right-color: var(--fill-color);\n",
              "      border-bottom-color: var(--fill-color);\n",
              "    }\n",
              "    90% {\n",
              "      border-color: transparent;\n",
              "      border-bottom-color: var(--fill-color);\n",
              "    }\n",
              "  }\n",
              "</style>\n",
              "\n",
              "      <script>\n",
              "        async function quickchart(key) {\n",
              "          const quickchartButtonEl =\n",
              "            document.querySelector('#' + key + ' button');\n",
              "          quickchartButtonEl.disabled = true;  // To prevent multiple clicks.\n",
              "          quickchartButtonEl.classList.add('colab-df-spinner');\n",
              "          try {\n",
              "            const charts = await google.colab.kernel.invokeFunction(\n",
              "                'suggestCharts', [key], {});\n",
              "          } catch (error) {\n",
              "            console.error('Error during call to suggestCharts:', error);\n",
              "          }\n",
              "          quickchartButtonEl.classList.remove('colab-df-spinner');\n",
              "          quickchartButtonEl.classList.add('colab-df-quickchart-complete');\n",
              "        }\n",
              "        (() => {\n",
              "          let quickchartButtonEl =\n",
              "            document.querySelector('#df-2a988a6d-2fb1-4c9e-85e3-a05927873240 button');\n",
              "          quickchartButtonEl.style.display =\n",
              "            google.colab.kernel.accessAllowed ? 'block' : 'none';\n",
              "        })();\n",
              "      </script>\n",
              "    </div>\n",
              "\n",
              "    </div>\n",
              "  </div>\n"
            ],
            "application/vnd.google.colaboratory.intrinsic+json": {
              "type": "dataframe",
              "variable_name": "df_pan",
              "summary": "{\n  \"name\": \"df_pan\",\n  \"rows\": 856,\n  \"fields\": [\n    {\n      \"column\": \"id\",\n      \"properties\": {\n        \"dtype\": \"number\",\n        \"std\": 247,\n        \"min\": 2720,\n        \"max\": 3575,\n        \"num_unique_values\": 856,\n        \"samples\": [\n          3431,\n          3323,\n          2840\n        ],\n        \"semantic_type\": \"\",\n        \"description\": \"\"\n      }\n    },\n    {\n      \"column\": \"data\",\n      \"properties\": {\n        \"dtype\": \"object\",\n        \"num_unique_values\": 182,\n        \"samples\": [\n          \"2023-07-20\",\n          \"2023-08-12\",\n          \"2023-12-03\"\n        ],\n        \"semantic_type\": \"\",\n        \"description\": \"\"\n      }\n    },\n    {\n      \"column\": \"produto\",\n      \"properties\": {\n        \"dtype\": \"category\",\n        \"num_unique_values\": 20,\n        \"samples\": [\n          \"Risoto de Funghi\",\n          \"Bruschetta\",\n          \"Baguete\"\n        ],\n        \"semantic_type\": \"\",\n        \"description\": \"\"\n      }\n    },\n    {\n      \"column\": \"valor\",\n      \"properties\": {\n        \"dtype\": \"number\",\n        \"std\": 3.174246845218125,\n        \"min\": 2.5,\n        \"max\": 13.0,\n        \"num_unique_values\": 20,\n        \"samples\": [\n          13.0,\n          7.0,\n          3.0\n        ],\n        \"semantic_type\": \"\",\n        \"description\": \"\"\n      }\n    },\n    {\n      \"column\": \"metodo_pagamento\",\n      \"properties\": {\n        \"dtype\": \"category\",\n        \"num_unique_values\": 4,\n        \"samples\": [\n          \"Cart\\u00e3o de Cr\\u00e9dito\",\n          \"Dinheiro\",\n          \"Cart\\u00e3o de D\\u00e9bito\"\n        ],\n        \"semantic_type\": \"\",\n        \"description\": \"\"\n      }\n    }\n  ]\n}"
            }
          },
          "metadata": {},
          "execution_count": 7
        }
      ],
      "source": [
        "url = 'https://raw.githubusercontent.com/moises-rb/DataScienceOne/refs/heads/main/IA_Aplicada_DataScience/base_dados/serenatto_2sem_2023.csv'\n",
        "df_pan = pd.read_csv(url)\n",
        "df_pan.head()"
      ]
    },
    {
      "cell_type": "code",
      "source": [
        "df_panini = df_pan[df_pan['produto'] == 'Panini']"
      ],
      "metadata": {
        "id": "3TRWmlBu2CLN"
      },
      "execution_count": 8,
      "outputs": []
    },
    {
      "cell_type": "code",
      "source": [
        "df_panini['data'] = pd.to_datetime(df_panini['data'], errors='coerce')\n",
        "print(df_panini['data'].dtypes)"
      ],
      "metadata": {
        "colab": {
          "base_uri": "https://localhost:8080/"
        },
        "id": "RqFZzq5n1p4u",
        "outputId": "40bc5294-a210-4cf7-b1f7-d0063fb8cbd3"
      },
      "execution_count": 9,
      "outputs": [
        {
          "output_type": "stream",
          "name": "stdout",
          "text": [
            "datetime64[ns]\n"
          ]
        },
        {
          "output_type": "stream",
          "name": "stderr",
          "text": [
            "<ipython-input-9-c5f44465e34c>:1: SettingWithCopyWarning: \n",
            "A value is trying to be set on a copy of a slice from a DataFrame.\n",
            "Try using .loc[row_indexer,col_indexer] = value instead\n",
            "\n",
            "See the caveats in the documentation: https://pandas.pydata.org/pandas-docs/stable/user_guide/indexing.html#returning-a-view-versus-a-copy\n",
            "  df_panini['data'] = pd.to_datetime(df_panini['data'], errors='coerce')\n"
          ]
        }
      ]
    },
    {
      "cell_type": "code",
      "source": [
        "import matplotlib.pyplot as plt\n",
        "\n",
        "# 🧠 Garantir que a coluna 'data' está no formato datetime\n",
        "df['data'] = pd.to_datetime(df['data'])\n",
        "vendas_por_mes = df_panini.groupby(df_panini['data'].dt.to_period('M'))['valor'].sum()\n",
        "\n",
        "plt.figure(figsize=(10, 6))\n",
        "plt.plot(vendas_por_mes.index.to_timestamp(), vendas_por_mes, marker='o', linestyle='-')\n",
        "plt.title('Vendas mensais de Panini')\n",
        "plt.xlabel('Mês')\n",
        "plt.ylabel('Total de vendas')\n",
        "plt.xticks(vendas_por_mes.index.to_timestamp(), [x.strftime('%b %Y') for x in vendas_por_mes.index.to_timestamp()], rotation=45)\n",
        "plt.grid(True)\n",
        "plt.tight_layout()\n",
        "plt.show()"
      ],
      "metadata": {
        "colab": {
          "base_uri": "https://localhost:8080/",
          "height": 607
        },
        "id": "6tYAuT3I3QXM",
        "outputId": "20c177b7-6136-4843-9b33-4784c4e0e7ae"
      },
      "execution_count": 10,
      "outputs": [
        {
          "output_type": "display_data",
          "data": {
            "text/plain": [
              "<Figure size 1000x600 with 1 Axes>"
            ],
            "image/png": "[encoded data removed]"
          },
          "metadata": {}
        }
      ]
    },
    {
      "cell_type": "markdown",
      "metadata": {
        "id": "MN6_iyD4uIJQ"
      },
      "source": [
        "#### Desafio 2:"
      ]
    },
    {
      "cell_type": "markdown",
      "metadata": {
        "id": "MsE_IJeKuIJQ"
      },
      "source": [
        "> #### <strong><font color=\"#203f75\" size= 6>Prompt:</font></strong>\n",
        "\n",
        "Escreva aqui o prompt que você utilizou para gerar o código do desafio!\n",
        "\n",
        "Desafio 1:\n",
        "\n",
        "Temos uma nova solicitação, para gerarmos um gráfico que apresente o faturamento das vendas por região. Este faturamento é calculado a partir do valor unitário do produto, multiplicado pela quantidade comprada e acrescentado o frete. Não tenho sugestão de gráfico, preciso que faça no visual recomendado.\n",
        "\n",
        "O dataframe chama-se df e já esta carregado, juntamente com as bibliotecas em Python."
      ]
    },
    {
      "cell_type": "code",
      "execution_count": 11,
      "metadata": {
        "id": "kz2xGyH0_scv",
        "colab": {
          "base_uri": "https://localhost:8080/",
          "height": 607
        },
        "outputId": "044ff47b-c64f-409b-c02e-4b918ac21d5d"
      },
      "outputs": [
        {
          "output_type": "display_data",
          "data": {
            "text/plain": [
              "<Figure size 1000x600 with 1 Axes>"
            ],
            "image/png": "[encoded data removed]"
          },
          "metadata": {}
        }
      ],
      "source": [
        "# ✅ Garantir que a coluna 'faturamento' está calculada corretamente\n",
        "df['faturamento'] = (df['preco_unitario'] * df['quantidade']) + df['frete']\n",
        "\n",
        "# 🔍 Agrupar por região\n",
        "faturamento_regiao = df.groupby('regiao')['faturamento'].sum().sort_values(ascending=True)\n",
        "\n",
        "# 🎨 Plotar gráfico de barras horizontais\n",
        "plt.figure(figsize=(10, 6))\n",
        "faturamento_regiao.plot(\n",
        "    kind='barh',\n",
        "    color='mediumseagreen'\n",
        ")\n",
        "\n",
        "plt.title('Faturamento por Região - Zoop', fontsize=16, weight='bold')\n",
        "plt.xlabel('Faturamento (R$)')\n",
        "plt.ylabel('Região')\n",
        "plt.grid(axis='x', linestyle='--', alpha=0.6)\n",
        "plt.tight_layout()\n",
        "\n",
        "plt.show()\n"
      ]
    },
    {
      "cell_type": "code",
      "source": [
        "print(df.columns)"
      ],
      "metadata": {
        "id": "_cKTyRea2VI-",
        "outputId": "fd30a5e2-3def-4be7-9bae-36d7a606e223",
        "colab": {
          "base_uri": "https://localhost:8080/"
        }
      },
      "execution_count": 14,
      "outputs": [
        {
          "output_type": "stream",
          "name": "stdout",
          "text": [
            "Index(['ID_compra', 'data', 'horario', 'categoria', 'preco_unitario',\n",
            "       'quantidade', 'frete', 'metodo_pagamento', 'ID_cliente', 'idade',\n",
            "       'sexo_biologico', 'cidade', 'uf', 'regiao', 'cashback',\n",
            "       'avaliacao_compra', 'zoop_pay', 'faturamento'],\n",
            "      dtype='object')\n"
          ]
        }
      ]
    },
    {
      "cell_type": "markdown",
      "source": [
        "Desafio 2:\n",
        "\n",
        "Temos uma nova solicitação, para gerarmos um gráfico que apresente apenas para os estados de São Paulo e Rio de Janeiro o perfil do público de acordo com o sexo biológico. Este gráfico será utilizado para uma campanha nesses estados e quero que seja feito um agrupamento ou empilhamento na apresentação visual dos dados.\n",
        "O dataframe chama-se df e já esta carregado, juntamente com as bibliotecas em Python."
      ],
      "metadata": {
        "id": "JP4UXFFB_myf"
      }
    },
    {
      "cell_type": "code",
      "source": [
        "# 🧹 Padronizando os dados\n",
        "df['sexo_biologico'] = df['sexo_biologico'].astype(str).str.strip().str.capitalize()\n",
        "df['uf'] = df['uf'].astype(str).str.strip().str.upper()\n",
        "\n",
        "# 🔍 Filtrar SP e RJ\n",
        "filtro_estados = df[df['uf'].isin(['SP', 'RJ'])]\n",
        "\n",
        "# ✅ Agrupar por estado e sexo biológico\n",
        "perfil_sexo = filtro_estados.groupby(['uf', 'sexo_biologico']).size().unstack(fill_value=0)\n",
        "\n",
        "print(perfil_sexo)  # Conferir se a tabela está ok\n",
        "\n",
        "# 🎨 Plotar gráfico de barras empilhadas\n",
        "perfil_sexo.plot(\n",
        "    kind='bar',\n",
        "    stacked=True,\n",
        "    color=['cornflowerblue', 'lightcoral', 'mediumseagreen'],\n",
        "    figsize=(8,6)\n",
        ")\n",
        "\n",
        "plt.title('Perfil do Público por Sexo Biológico - SP e RJ', fontsize=16, weight='bold')\n",
        "plt.xlabel('Estado')\n",
        "plt.ylabel('Quantidade de Clientes')\n",
        "plt.xticks(rotation=0)\n",
        "plt.legend(title='Sexo Biológico')\n",
        "plt.grid(axis='y', linestyle='--', alpha=0.5)\n",
        "plt.tight_layout()\n",
        "\n",
        "plt.show()"
      ],
      "metadata": {
        "id": "K1glCUwrBq2b",
        "outputId": "5a13e493-ed83-4b08-8c59-2c0f1c323bea",
        "colab": {
          "base_uri": "https://localhost:8080/",
          "height": 424
        }
      },
      "execution_count": 15,
      "outputs": [
        {
          "output_type": "stream",
          "name": "stdout",
          "text": [
            "Empty DataFrame\n",
            "Columns: []\n",
            "Index: []\n"
          ]
        },
        {
          "output_type": "error",
          "ename": "TypeError",
          "evalue": "no numeric data to plot",
          "traceback": [
            "\u001b[0;31m---------------------------------------------------------------------------\u001b[0m",
            "\u001b[0;31mTypeError\u001b[0m                                 Traceback (most recent call last)",
            "\u001b[0;32m<ipython-input-15-1b618461f920>\u001b[0m in \u001b[0;36m<cell line: 0>\u001b[0;34m()\u001b[0m\n\u001b[1;32m     12\u001b[0m \u001b[0;34m\u001b[0m\u001b[0m\n\u001b[1;32m     13\u001b[0m \u001b[0;31m# 🎨 Plotar gráfico de barras empilhadas\u001b[0m\u001b[0;34m\u001b[0m\u001b[0;34m\u001b[0m\u001b[0m\n\u001b[0;32m---> 14\u001b[0;31m perfil_sexo.plot(\n\u001b[0m\u001b[1;32m     15\u001b[0m     \u001b[0mkind\u001b[0m\u001b[0;34m=\u001b[0m\u001b[0;34m'bar'\u001b[0m\u001b[0;34m,\u001b[0m\u001b[0;34m\u001b[0m\u001b[0;34m\u001b[0m\u001b[0m\n\u001b[1;32m     16\u001b[0m     \u001b[0mstacked\u001b[0m\u001b[0;34m=\u001b[0m\u001b[0;32mTrue\u001b[0m\u001b[0;34m,\u001b[0m\u001b[0;34m\u001b[0m\u001b[0;34m\u001b[0m\u001b[0m\n",
            "\u001b[0;32m/usr/local/lib/python3.11/dist-packages/pandas/plotting/_core.py\u001b[0m in \u001b[0;36m__call__\u001b[0;34m(self, *args, **kwargs)\u001b[0m\n\u001b[1;32m   1028\u001b[0m                     \u001b[0mdata\u001b[0m\u001b[0;34m.\u001b[0m\u001b[0mcolumns\u001b[0m \u001b[0;34m=\u001b[0m \u001b[0mlabel_name\u001b[0m\u001b[0;34m\u001b[0m\u001b[0;34m\u001b[0m\u001b[0m\n\u001b[1;32m   1029\u001b[0m \u001b[0;34m\u001b[0m\u001b[0m\n\u001b[0;32m-> 1030\u001b[0;31m         \u001b[0;32mreturn\u001b[0m \u001b[0mplot_backend\u001b[0m\u001b[0;34m.\u001b[0m\u001b[0mplot\u001b[0m\u001b[0;34m(\u001b[0m\u001b[0mdata\u001b[0m\u001b[0;34m,\u001b[0m \u001b[0mkind\u001b[0m\u001b[0;34m=\u001b[0m\u001b[0mkind\u001b[0m\u001b[0;34m,\u001b[0m \u001b[0;34m**\u001b[0m\u001b[0mkwargs\u001b[0m\u001b[0;34m)\u001b[0m\u001b[0;34m\u001b[0m\u001b[0;34m\u001b[0m\u001b[0m\n\u001b[0m\u001b[1;32m   1031\u001b[0m \u001b[0;34m\u001b[0m\u001b[0m\n\u001b[1;32m   1032\u001b[0m     \u001b[0m__call__\u001b[0m\u001b[0;34m.\u001b[0m\u001b[0m__doc__\u001b[0m \u001b[0;34m=\u001b[0m \u001b[0m__doc__\u001b[0m\u001b[0;34m\u001b[0m\u001b[0;34m\u001b[0m\u001b[0m\n",
            "\u001b[0;32m/usr/local/lib/python3.11/dist-packages/pandas/plotting/_matplotlib/__init__.py\u001b[0m in \u001b[0;36mplot\u001b[0;34m(data, kind, **kwargs)\u001b[0m\n\u001b[1;32m     69\u001b[0m             \u001b[0mkwargs\u001b[0m\u001b[0;34m[\u001b[0m\u001b[0;34m\"ax\"\u001b[0m\u001b[0;34m]\u001b[0m \u001b[0;34m=\u001b[0m \u001b[0mgetattr\u001b[0m\u001b[0;34m(\u001b[0m\u001b[0max\u001b[0m\u001b[0;34m,\u001b[0m \u001b[0;34m\"left_ax\"\u001b[0m\u001b[0;34m,\u001b[0m \u001b[0max\u001b[0m\u001b[0;34m)\u001b[0m\u001b[0;34m\u001b[0m\u001b[0;34m\u001b[0m\u001b[0m\n\u001b[1;32m     70\u001b[0m     \u001b[0mplot_obj\u001b[0m \u001b[0;34m=\u001b[0m \u001b[0mPLOT_CLASSES\u001b[0m\u001b[0;34m[\u001b[0m\u001b[0mkind\u001b[0m\u001b[0;34m]\u001b[0m\u001b[0;34m(\u001b[0m\u001b[0mdata\u001b[0m\u001b[0;34m,\u001b[0m \u001b[0;34m**\u001b[0m\u001b[0mkwargs\u001b[0m\u001b[0;34m)\u001b[0m\u001b[0;34m\u001b[0m\u001b[0;34m\u001b[0m\u001b[0m\n\u001b[0;32m---> 71\u001b[0;31m     \u001b[0mplot_obj\u001b[0m\u001b[0;34m.\u001b[0m\u001b[0mgenerate\u001b[0m\u001b[0;34m(\u001b[0m\u001b[0;34m)\u001b[0m\u001b[0;34m\u001b[0m\u001b[0;34m\u001b[0m\u001b[0m\n\u001b[0m\u001b[1;32m     72\u001b[0m     \u001b[0mplot_obj\u001b[0m\u001b[0;34m.\u001b[0m\u001b[0mdraw\u001b[0m\u001b[0;34m(\u001b[0m\u001b[0;34m)\u001b[0m\u001b[0;34m\u001b[0m\u001b[0;34m\u001b[0m\u001b[0m\n\u001b[1;32m     73\u001b[0m     \u001b[0;32mreturn\u001b[0m \u001b[0mplot_obj\u001b[0m\u001b[0;34m.\u001b[0m\u001b[0mresult\u001b[0m\u001b[0;34m\u001b[0m\u001b[0;34m\u001b[0m\u001b[0m\n",
            "\u001b[0;32m/usr/local/lib/python3.11/dist-packages/pandas/plotting/_matplotlib/core.py\u001b[0m in \u001b[0;36mgenerate\u001b[0;34m(self)\u001b[0m\n\u001b[1;32m    497\u001b[0m     \u001b[0;34m@\u001b[0m\u001b[0mfinal\u001b[0m\u001b[0;34m\u001b[0m\u001b[0;34m\u001b[0m\u001b[0m\n\u001b[1;32m    498\u001b[0m     \u001b[0;32mdef\u001b[0m \u001b[0mgenerate\u001b[0m\u001b[0;34m(\u001b[0m\u001b[0mself\u001b[0m\u001b[0;34m)\u001b[0m \u001b[0;34m->\u001b[0m \u001b[0;32mNone\u001b[0m\u001b[0;34m:\u001b[0m\u001b[0;34m\u001b[0m\u001b[0;34m\u001b[0m\u001b[0m\n\u001b[0;32m--> 499\u001b[0;31m         \u001b[0mself\u001b[0m\u001b[0;34m.\u001b[0m\u001b[0m_compute_plot_data\u001b[0m\u001b[0;34m(\u001b[0m\u001b[0;34m)\u001b[0m\u001b[0;34m\u001b[0m\u001b[0;34m\u001b[0m\u001b[0m\n\u001b[0m\u001b[1;32m    500\u001b[0m         \u001b[0mfig\u001b[0m \u001b[0;34m=\u001b[0m \u001b[0mself\u001b[0m\u001b[0;34m.\u001b[0m\u001b[0mfig\u001b[0m\u001b[0;34m\u001b[0m\u001b[0;34m\u001b[0m\u001b[0m\n\u001b[1;32m    501\u001b[0m         \u001b[0mself\u001b[0m\u001b[0;34m.\u001b[0m\u001b[0m_make_plot\u001b[0m\u001b[0;34m(\u001b[0m\u001b[0mfig\u001b[0m\u001b[0;34m)\u001b[0m\u001b[0;34m\u001b[0m\u001b[0;34m\u001b[0m\u001b[0m\n",
            "\u001b[0;32m/usr/local/lib/python3.11/dist-packages/pandas/plotting/_matplotlib/core.py\u001b[0m in \u001b[0;36m_compute_plot_data\u001b[0;34m(self)\u001b[0m\n\u001b[1;32m    696\u001b[0m         \u001b[0;31m# no non-numeric frames or series allowed\u001b[0m\u001b[0;34m\u001b[0m\u001b[0;34m\u001b[0m\u001b[0m\n\u001b[1;32m    697\u001b[0m         \u001b[0;32mif\u001b[0m \u001b[0mis_empty\u001b[0m\u001b[0;34m:\u001b[0m\u001b[0;34m\u001b[0m\u001b[0;34m\u001b[0m\u001b[0m\n\u001b[0;32m--> 698\u001b[0;31m             \u001b[0;32mraise\u001b[0m \u001b[0mTypeError\u001b[0m\u001b[0;34m(\u001b[0m\u001b[0;34m\"no numeric data to plot\"\u001b[0m\u001b[0;34m)\u001b[0m\u001b[0;34m\u001b[0m\u001b[0;34m\u001b[0m\u001b[0m\n\u001b[0m\u001b[1;32m    699\u001b[0m \u001b[0;34m\u001b[0m\u001b[0m\n\u001b[1;32m    700\u001b[0m         \u001b[0mself\u001b[0m\u001b[0;34m.\u001b[0m\u001b[0mdata\u001b[0m \u001b[0;34m=\u001b[0m \u001b[0mnumeric_data\u001b[0m\u001b[0;34m.\u001b[0m\u001b[0mapply\u001b[0m\u001b[0;34m(\u001b[0m\u001b[0mtype\u001b[0m\u001b[0;34m(\u001b[0m\u001b[0mself\u001b[0m\u001b[0;34m)\u001b[0m\u001b[0;34m.\u001b[0m\u001b[0m_convert_to_ndarray\u001b[0m\u001b[0;34m)\u001b[0m\u001b[0;34m\u001b[0m\u001b[0;34m\u001b[0m\u001b[0m\n",
            "\u001b[0;31mTypeError\u001b[0m: no numeric data to plot"
          ]
        }
      ]
    },
    {
      "cell_type": "code",
      "source": [
        "print(df.dtypes)"
      ],
      "metadata": {
        "id": "rYo5ZzV1CkO4",
        "outputId": "892a606d-7479-4df1-8aec-f9d7b23c2e23",
        "colab": {
          "base_uri": "https://localhost:8080/"
        }
      },
      "execution_count": 17,
      "outputs": [
        {
          "output_type": "stream",
          "name": "stdout",
          "text": [
            "ID_compra                    int64\n",
            "data                datetime64[ns]\n",
            "horario                     object\n",
            "categoria                   object\n",
            "preco_unitario             float64\n",
            "quantidade                   int64\n",
            "frete                      float64\n",
            "metodo_pagamento            object\n",
            "ID_cliente                   int64\n",
            "idade                        int64\n",
            "sexo_biologico              object\n",
            "cidade                      object\n",
            "uf                          object\n",
            "regiao                      object\n",
            "cashback                    object\n",
            "avaliacao_compra             int64\n",
            "zoop_pay                    object\n",
            "faturamento                float64\n",
            "dtype: object\n"
          ]
        }
      ]
    },
    {
      "cell_type": "code",
      "source": [
        "# Conferir se o agrupamento está correto\n",
        "print(perfil_sexo)"
      ],
      "metadata": {
        "id": "bniNw4P6CzkM",
        "outputId": "5cca5c14-3e54-4857-af11-881790114be7",
        "colab": {
          "base_uri": "https://localhost:8080/"
        }
      },
      "execution_count": 16,
      "outputs": [
        {
          "output_type": "stream",
          "name": "stdout",
          "text": [
            "Empty DataFrame\n",
            "Columns: []\n",
            "Index: []\n"
          ]
        }
      ]
    },
    {
      "cell_type": "code",
      "source": [
        "import pandas as pd\n",
        "import matplotlib.pyplot as plt\n",
        "\n",
        "# 🔥 Limpeza bruta\n",
        "df['sexo_biologico'] = df['sexo_biologico'].astype(str).str.strip().str.capitalize()\n",
        "df['uf'] = df['uf'].astype(str).str.strip().str.upper()\n",
        "\n",
        "# ✅ Conferir os valores únicos pra garantir que o filtro vai funcionar\n",
        "print('Valores únicos de UF:', df['uf'].unique())\n",
        "print('Valores únicos de sexo_biologico:', df['sexo_biologico'].unique())\n",
        "\n",
        "# 🔍 Filtrar SP e RJ\n",
        "filtro_estados = df[df['uf'].isin(['SP', 'RJ'])]\n",
        "\n",
        "# 🚨 Conferir se há dados depois do filtro\n",
        "if filtro_estados.empty:\n",
        "    print(\"🚫 Atenção: Nenhum dado encontrado para SP e RJ. Verifique a coluna 'uf'.\")\n",
        "else:\n",
        "    # 🎯 Agrupar os dados\n",
        "    perfil_sexo = filtro_estados.groupby(['uf', 'sexo_biologico']).size().unstack(fill_value=0)\n",
        "\n",
        "    print(perfil_sexo)  # Verificar se a tabela está correta\n",
        "\n",
        "    # 🎨 Plotar gráfico de barras empilhadas\n",
        "    perfil_sexo.plot(\n",
        "        kind='bar',\n",
        "        stacked=True,\n",
        "        color=['cornflowerblue', 'lightcoral', 'mediumseagreen'],\n",
        "        figsize=(8,6)\n",
        "    )\n",
        "\n",
        "    plt.title('Perfil do Público por Sexo Biológico - SP e RJ', fontsize=16, weight='bold')\n",
        "    plt.xlabel('Estado')\n",
        "    plt.ylabel('Quantidade de Clientes')\n",
        "    plt.xticks(rotation=0)\n",
        "    plt.legend(title='Sexo Biológico')\n",
        "    plt.grid(axis='y', linestyle='--', alpha=0.5)\n",
        "    plt.tight_layout()\n",
        "\n",
        "    plt.show()\n"
      ],
      "metadata": {
        "id": "zFsKAUbFC_9w",
        "outputId": "e4ce645a-bc5b-4356-b263-fef2e237228a",
        "colab": {
          "base_uri": "https://localhost:8080/"
        }
      },
      "execution_count": 18,
      "outputs": [
        {
          "output_type": "stream",
          "name": "stdout",
          "text": [
            "Valores únicos de UF: ['RIO GRANDE DO SUL' 'SÃO PAULO' 'RONDÔNIA' 'PERNAMBUCO' 'BAHIA'\n",
            " 'RIO DE JANEIRO' 'PARANÁ' 'RIO GRANDE DO NORTE' 'PARÁ' 'PARAÍBA' 'GOIÁS'\n",
            " 'ACRE' 'CEARÁ' 'MINAS GERAIS' 'DISTRITO FEDERAL' 'SANTA CATARINA'\n",
            " 'ESPÍRITO SANTO' 'PIAUÍ' 'MATO GROSSO' 'TOCANTINS' 'SERGIPE' 'MARANHÃO'\n",
            " 'MATO GROSSO DO SUL' 'AMAZONAS' 'ALAGOAS' 'AMAPÁ' 'RORAIMA']\n",
            "Valores únicos de sexo_biologico: ['Masculino' 'Feminino']\n",
            "🚫 Atenção: Nenhum dado encontrado para SP e RJ. Verifique a coluna 'uf'.\n"
          ]
        }
      ]
    },
    {
      "cell_type": "code",
      "source": [
        "import pandas as pd\n",
        "import matplotlib.pyplot as plt\n",
        "\n",
        "# 🔥 Conferir que os dados estão limpos (mas nem precisa mexer no sexo, já tá bonitão)\n",
        "df['uf'] = df['uf'].str.strip().str.upper()\n",
        "\n",
        "# 📌 Filtrar apenas São Paulo e Rio de Janeiro\n",
        "df_filtrado = df[df['uf'].isin(['SÃO PAULO', 'RIO DE JANEIRO'])]\n",
        "\n",
        "# 🚨 Checar se o filtro trouxe dados\n",
        "if df_filtrado.empty:\n",
        "    print(\"🚫 Nenhum dado encontrado para SP e RJ. Verifique os dados.\")\n",
        "else:\n",
        "    # 🎯 Agrupar os dados\n",
        "    perfil = df_filtrado.groupby(['uf', 'sexo_biologico']).size().unstack(fill_value=0)\n",
        "\n",
        "    print(perfil)  # Conferência dos dados agrupados\n",
        "\n",
        "    # 🎨 Plotar gráfico de barras empilhadas\n",
        "    perfil.plot(\n",
        "        kind='bar',\n",
        "        stacked=True,\n",
        "        color=['cornflowerblue', 'lightcoral'],\n",
        "        figsize=(8,6)\n",
        "    )\n",
        "\n",
        "    plt.title('Perfil do Público por Sexo Biológico - São Paulo e Rio de Janeiro', fontsize=16, weight='bold')\n",
        "    plt.xlabel('Estado')\n",
        "    plt.ylabel('Quantidade de Clientes')\n",
        "    plt.xticks(rotation=0)\n",
        "    plt.legend(title='Sexo Biológico')\n",
        "    plt.grid(axis='y', linestyle='--', alpha=0.5)\n",
        "    plt.tight_layout()\n",
        "\n",
        "    plt.show()\n"
      ],
      "metadata": {
        "id": "n9asIhieD9Pl",
        "outputId": "3729d3a0-79b7-498d-9382-521a654abc23",
        "colab": {
          "base_uri": "https://localhost:8080/",
          "height": 680
        }
      },
      "execution_count": 19,
      "outputs": [
        {
          "output_type": "stream",
          "name": "stdout",
          "text": [
            "sexo_biologico  Feminino  Masculino\n",
            "uf                                 \n",
            "RIO DE JANEIRO       303        267\n",
            "SÃO PAULO            838        662\n"
          ]
        },
        {
          "output_type": "display_data",
          "data": {
            "text/plain": [
              "<Figure size 800x600 with 1 Axes>"
            ],
            "image/png": "[encoded data removed]"
          },
          "metadata": {}
        }
      ]
    },
    {
      "cell_type": "markdown",
      "metadata": {
        "id": "1uTAdILB_T6m"
      },
      "source": [
        "## Aula 03 - Gerando mais visuais"
      ]
    },
    {
      "cell_type": "markdown",
      "metadata": {
        "id": "SsQ3DvzR_t-L"
      },
      "source": [
        "### Mão na Massa - Perfil dos clientes"
      ]
    },
    {
      "cell_type": "markdown",
      "metadata": {
        "id": "sDoT56GbuIJT"
      },
      "source": [
        "#### Desafio 1:"
      ]
    },
    {
      "cell_type": "markdown",
      "metadata": {
        "id": "x8Pf37mXuIJT"
      },
      "source": [
        "> #### <strong><font color=\"#203f75\" size= 6>Prompt:</font></strong>\n",
        "\n",
        "Escreva aqui o prompt que você utilizou para gerar o código do desafio!"
      ]
    },
    {
      "cell_type": "code",
      "execution_count": 20,
      "metadata": {
        "id": "bIoMVk5r_t-Q",
        "outputId": "812e41ce-4223-4f44-e459-c1eec986049c",
        "colab": {
          "base_uri": "https://localhost:8080/",
          "height": 617
        }
      },
      "outputs": [
        {
          "output_type": "display_data",
          "data": {
            "text/html": [
              "<html>\n",
              "<head><meta charset=\"utf-8\" /></head>\n",
              "<body>\n",
              "    <div>            <script src=\"https://cdnjs.cloudflare.com/ajax/libs/mathjax/2.7.5/MathJax.js?config=TeX-AMS-MML_SVG\"></script><script type=\"text/javascript\">if (window.MathJax && window.MathJax.Hub && window.MathJax.Hub.Config) {window.MathJax.Hub.Config({SVG: {font: \"STIX-Web\"}});}</script>                <script type=\"text/javascript\">window.PlotlyConfig = {MathJaxConfig: 'local'};</script>\n",
              "        <script charset=\"utf-8\" src=\"https://cdn.plot.ly/plotly-2.35.2.min.js\"></script>                <div id=\"d313c4d6-0529-48c7-b953-1d63d084a68f\" class=\"plotly-graph-div\" style=\"height:600px; width:1400px;\"></div>            <script type=\"text/javascript\">                                    window.PLOTLYENV=window.PLOTLYENV || {};                                    if (document.getElementById(\"d313c4d6-0529-48c7-b953-1d63d084a68f\")) {                    Plotly.newPlot(                        \"d313c4d6-0529-48c7-b953-1d63d084a68f\",                        [{\"branchvalues\":\"total\",\"customdata\":[[\"Norte\"],[\"Norte\"],[\"Nordeste\"],[\"Centro-Oeste\"],[\"Sul\"],[\"Norte\"],[\"Nordeste\"],[\"Sul\"],[\"Sudeste\"],[\"Sul\"],[\"Norte\"],[\"Nordeste\"],[\"Nordeste\"],[\"Centro-Oeste\"],[\"Norte\"],[\"Sul\"],[\"Nordeste\"],[\"Nordeste\"],[\"Sudeste\"],[\"Nordeste\"],[\"Centro-Oeste\"],[\"Sudeste\"],[\"Nordeste\"],[\"Nordeste\"],[\"Sudeste\"],[\"Norte\"],[\"Centro-Oeste\"],[\"Nordeste\"],[\"Sudeste\"],[\"Norte\"],[\"Centro-Oeste\"],[\"Norte\"]],\"domain\":{\"x\":[0.0,1.0],\"y\":[0.0,1.0]},\"hovertemplate\":\"labels=%{label}\\u003cbr\\u003efaturamento=%{value}\\u003cbr\\u003eparent=%{parent}\\u003cbr\\u003eid=%{id}\\u003cbr\\u003eregiao=%{customdata[0]}\\u003cextra\\u003e\\u003c\\u002fextra\\u003e\",\"ids\":[\"Norte\\u002fPARÁ\",\"Norte\",\"Nordeste\",\"Centro-Oeste\",\"Sul\\u002fSANTA CATARINA\",\"Norte\\u002fRORAIMA\",\"Nordeste\\u002fPARAÍBA\",\"Sul\\u002fPARANÁ\",\"Sudeste\\u002fMINAS GERAIS\",\"Sul\",\"Norte\\u002fAMAZONAS\",\"Nordeste\\u002fCEARÁ\",\"Nordeste\\u002fMARANHÃO\",\"Centro-Oeste\\u002fMATO GROSSO\",\"Norte\\u002fAMAPÁ\",\"Sul\\u002fRIO GRANDE DO SUL\",\"Nordeste\\u002fPERNAMBUCO\",\"Nordeste\\u002fPIAUÍ\",\"Sudeste\\u002fRIO DE JANEIRO\",\"Nordeste\\u002fRIO GRANDE DO NORTE\",\"Centro-Oeste\\u002fDISTRITO FEDERAL\",\"Sudeste\\u002fESPÍRITO SANTO\",\"Nordeste\\u002fBAHIA\",\"Nordeste\\u002fSERGIPE\",\"Sudeste\\u002fSÃO PAULO\",\"Norte\\u002fTOCANTINS\",\"Centro-Oeste\\u002fMATO GROSSO DO SUL\",\"Nordeste\\u002fALAGOAS\",\"Sudeste\",\"Norte\\u002fRONDÔNIA\",\"Centro-Oeste\\u002fGOIÁS\",\"Norte\\u002fACRE\"],\"labels\":[\"PARÁ\",\"Norte\",\"Nordeste\",\"Centro-Oeste\",\"SANTA CATARINA\",\"RORAIMA\",\"PARAÍBA\",\"PARANÁ\",\"MINAS GERAIS\",\"Sul\",\"AMAZONAS\",\"CEARÁ\",\"MARANHÃO\",\"MATO GROSSO\",\"AMAPÁ\",\"RIO GRANDE DO SUL\",\"PERNAMBUCO\",\"PIAUÍ\",\"RIO DE JANEIRO\",\"RIO GRANDE DO NORTE\",\"DISTRITO FEDERAL\",\"ESPÍRITO SANTO\",\"BAHIA\",\"SERGIPE\",\"SÃO PAULO\",\"TOCANTINS\",\"MATO GROSSO DO SUL\",\"ALAGOAS\",\"Sudeste\",\"RONDÔNIA\",\"GOIÁS\",\"ACRE\"],\"marker\":{\"colors\":[\"#fdfcdc\",\"#fdfcdc\",\"#00afb9\",\"#0081a7\",\"#f07167\",\"#fdfcdc\",\"#00afb9\",\"#f07167\",\"#fed9b7\",\"#f07167\",\"#fdfcdc\",\"#00afb9\",\"#00afb9\",\"#0081a7\",\"#fdfcdc\",\"#f07167\",\"#00afb9\",\"#00afb9\",\"#fed9b7\",\"#00afb9\",\"#0081a7\",\"#fed9b7\",\"#00afb9\",\"#00afb9\",\"#fed9b7\",\"#fdfcdc\",\"#0081a7\",\"#00afb9\",\"#fed9b7\",\"#fdfcdc\",\"#0081a7\",\"#fdfcdc\"]},\"name\":\"\",\"parents\":[\"Norte\",\"\",\"\",\"\",\"Sul\",\"Norte\",\"Nordeste\",\"Sul\",\"Sudeste\",\"\",\"Norte\",\"Nordeste\",\"Nordeste\",\"Centro-Oeste\",\"Norte\",\"Sul\",\"Nordeste\",\"Nordeste\",\"Sudeste\",\"Nordeste\",\"Centro-Oeste\",\"Sudeste\",\"Nordeste\",\"Nordeste\",\"Sudeste\",\"Norte\",\"Centro-Oeste\",\"Nordeste\",\"\",\"Norte\",\"Centro-Oeste\",\"Norte\"],\"values\":[576832.87,1047876.52,5249059.11,1393880.91,350391.6,71984.42,948365.49,1317884.94,1084740.28,2454932.45,72622.21,752505.08,90641.22,205851.54,138021.05000000002,786655.91,1112592.94,185929.91,1560518.09,709089.22,771016.5399999999,397610.14999999997,1200113.81,139341.05,3790390.0,18863.27,76021.42,110480.39,6833258.52,85832.58,340991.41,83720.12],\"type\":\"treemap\",\"textinfo\":\"label+value\"}],                        {\"template\":{\"data\":{\"histogram2dcontour\":[{\"type\":\"histogram2dcontour\",\"colorbar\":{\"outlinewidth\":0,\"ticks\":\"\"},\"colorscale\":[[0.0,\"#0d0887\"],[0.1111111111111111,\"#46039f\"],[0.2222222222222222,\"#7201a8\"],[0.3333333333333333,\"#9c179e\"],[0.4444444444444444,\"#bd3786\"],[0.5555555555555556,\"#d8576b\"],[0.6666666666666666,\"#ed7953\"],[0.7777777777777778,\"#fb9f3a\"],[0.8888888888888888,\"#fdca26\"],[1.0,\"#f0f921\"]]}],\"choropleth\":[{\"type\":\"choropleth\",\"colorbar\":{\"outlinewidth\":0,\"ticks\":\"\"}}],\"histogram2d\":[{\"type\":\"histogram2d\",\"colorbar\":{\"outlinewidth\":0,\"ticks\":\"\"},\"colorscale\":[[0.0,\"#0d0887\"],[0.1111111111111111,\"#46039f\"],[0.2222222222222222,\"#7201a8\"],[0.3333333333333333,\"#9c179e\"],[0.4444444444444444,\"#bd3786\"],[0.5555555555555556,\"#d8576b\"],[0.6666666666666666,\"#ed7953\"],[0.7777777777777778,\"#fb9f3a\"],[0.8888888888888888,\"#fdca26\"],[1.0,\"#f0f921\"]]}],\"heatmap\":[{\"type\":\"heatmap\",\"colorbar\":{\"outlinewidth\":0,\"ticks\":\"\"},\"colorscale\":[[0.0,\"#0d0887\"],[0.1111111111111111,\"#46039f\"],[0.2222222222222222,\"#7201a8\"],[0.3333333333333333,\"#9c179e\"],[0.4444444444444444,\"#bd3786\"],[0.5555555555555556,\"#d8576b\"],[0.6666666666666666,\"#ed7953\"],[0.7777777777777778,\"#fb9f3a\"],[0.8888888888888888,\"#fdca26\"],[1.0,\"#f0f921\"]]}],\"heatmapgl\":[{\"type\":\"heatmapgl\",\"colorbar\":{\"outlinewidth\":0,\"ticks\":\"\"},\"colorscale\":[[0.0,\"#0d0887\"],[0.1111111111111111,\"#46039f\"],[0.2222222222222222,\"#7201a8\"],[0.3333333333333333,\"#9c179e\"],[0.4444444444444444,\"#bd3786\"],[0.5555555555555556,\"#d8576b\"],[0.6666666666666666,\"#ed7953\"],[0.7777777777777778,\"#fb9f3a\"],[0.8888888888888888,\"#fdca26\"],[1.0,\"#f0f921\"]]}],\"contourcarpet\":[{\"type\":\"contourcarpet\",\"colorbar\":{\"outlinewidth\":0,\"ticks\":\"\"}}],\"contour\":[{\"type\":\"contour\",\"colorbar\":{\"outlinewidth\":0,\"ticks\":\"\"},\"colorscale\":[[0.0,\"#0d0887\"],[0.1111111111111111,\"#46039f\"],[0.2222222222222222,\"#7201a8\"],[0.3333333333333333,\"#9c179e\"],[0.4444444444444444,\"#bd3786\"],[0.5555555555555556,\"#d8576b\"],[0.6666666666666666,\"#ed7953\"],[0.7777777777777778,\"#fb9f3a\"],[0.8888888888888888,\"#fdca26\"],[1.0,\"#f0f921\"]]}],\"surface\":[{\"type\":\"surface\",\"colorbar\":{\"outlinewidth\":0,\"ticks\":\"\"},\"colorscale\":[[0.0,\"#0d0887\"],[0.1111111111111111,\"#46039f\"],[0.2222222222222222,\"#7201a8\"],[0.3333333333333333,\"#9c179e\"],[0.4444444444444444,\"#bd3786\"],[0.5555555555555556,\"#d8576b\"],[0.6666666666666666,\"#ed7953\"],[0.7777777777777778,\"#fb9f3a\"],[0.8888888888888888,\"#fdca26\"],[1.0,\"#f0f921\"]]}],\"mesh3d\":[{\"type\":\"mesh3d\",\"colorbar\":{\"outlinewidth\":0,\"ticks\":\"\"}}],\"scatter\":[{\"fillpattern\":{\"fillmode\":\"overlay\",\"size\":10,\"solidity\":0.2},\"type\":\"scatter\"}],\"parcoords\":[{\"type\":\"parcoords\",\"line\":{\"colorbar\":{\"outlinewidth\":0,\"ticks\":\"\"}}}],\"scatterpolargl\":[{\"type\":\"scatterpolargl\",\"marker\":{\"colorbar\":{\"outlinewidth\":0,\"ticks\":\"\"}}}],\"bar\":[{\"error_x\":{\"color\":\"#2a3f5f\"},\"error_y\":{\"color\":\"#2a3f5f\"},\"marker\":{\"line\":{\"color\":\"#E5ECF6\",\"width\":0.5},\"pattern\":{\"fillmode\":\"overlay\",\"size\":10,\"solidity\":0.2}},\"type\":\"bar\"}],\"scattergeo\":[{\"type\":\"scattergeo\",\"marker\":{\"colorbar\":{\"outlinewidth\":0,\"ticks\":\"\"}}}],\"scatterpolar\":[{\"type\":\"scatterpolar\",\"marker\":{\"colorbar\":{\"outlinewidth\":0,\"ticks\":\"\"}}}],\"histogram\":[{\"marker\":{\"pattern\":{\"fillmode\":\"overlay\",\"size\":10,\"solidity\":0.2}},\"type\":\"histogram\"}],\"scattergl\":[{\"type\":\"scattergl\",\"marker\":{\"colorbar\":{\"outlinewidth\":0,\"ticks\":\"\"}}}],\"scatter3d\":[{\"type\":\"scatter3d\",\"line\":{\"colorbar\":{\"outlinewidth\":0,\"ticks\":\"\"}},\"marker\":{\"colorbar\":{\"outlinewidth\":0,\"ticks\":\"\"}}}],\"scattermapbox\":[{\"type\":\"scattermapbox\",\"marker\":{\"colorbar\":{\"outlinewidth\":0,\"ticks\":\"\"}}}],\"scatterternary\":[{\"type\":\"scatterternary\",\"marker\":{\"colorbar\":{\"outlinewidth\":0,\"ticks\":\"\"}}}],\"scattercarpet\":[{\"type\":\"scattercarpet\",\"marker\":{\"colorbar\":{\"outlinewidth\":0,\"ticks\":\"\"}}}],\"carpet\":[{\"aaxis\":{\"endlinecolor\":\"#2a3f5f\",\"gridcolor\":\"white\",\"linecolor\":\"white\",\"minorgridcolor\":\"white\",\"startlinecolor\":\"#2a3f5f\"},\"baxis\":{\"endlinecolor\":\"#2a3f5f\",\"gridcolor\":\"white\",\"linecolor\":\"white\",\"minorgridcolor\":\"white\",\"startlinecolor\":\"#2a3f5f\"},\"type\":\"carpet\"}],\"table\":[{\"cells\":{\"fill\":{\"color\":\"#EBF0F8\"},\"line\":{\"color\":\"white\"}},\"header\":{\"fill\":{\"color\":\"#C8D4E3\"},\"line\":{\"color\":\"white\"}},\"type\":\"table\"}],\"barpolar\":[{\"marker\":{\"line\":{\"color\":\"#E5ECF6\",\"width\":0.5},\"pattern\":{\"fillmode\":\"overlay\",\"size\":10,\"solidity\":0.2}},\"type\":\"barpolar\"}],\"pie\":[{\"automargin\":true,\"type\":\"pie\"}]},\"layout\":{\"autotypenumbers\":\"strict\",\"colorway\":[\"#636efa\",\"#EF553B\",\"#00cc96\",\"#ab63fa\",\"#FFA15A\",\"#19d3f3\",\"#FF6692\",\"#B6E880\",\"#FF97FF\",\"#FECB52\"],\"font\":{\"color\":\"#2a3f5f\"},\"hovermode\":\"closest\",\"hoverlabel\":{\"align\":\"left\"},\"paper_bgcolor\":\"white\",\"plot_bgcolor\":\"#E5ECF6\",\"polar\":{\"bgcolor\":\"#E5ECF6\",\"angularaxis\":{\"gridcolor\":\"white\",\"linecolor\":\"white\",\"ticks\":\"\"},\"radialaxis\":{\"gridcolor\":\"white\",\"linecolor\":\"white\",\"ticks\":\"\"}},\"ternary\":{\"bgcolor\":\"#E5ECF6\",\"aaxis\":{\"gridcolor\":\"white\",\"linecolor\":\"white\",\"ticks\":\"\"},\"baxis\":{\"gridcolor\":\"white\",\"linecolor\":\"white\",\"ticks\":\"\"},\"caxis\":{\"gridcolor\":\"white\",\"linecolor\":\"white\",\"ticks\":\"\"}},\"coloraxis\":{\"colorbar\":{\"outlinewidth\":0,\"ticks\":\"\"}},\"colorscale\":{\"sequential\":[[0.0,\"#0d0887\"],[0.1111111111111111,\"#46039f\"],[0.2222222222222222,\"#7201a8\"],[0.3333333333333333,\"#9c179e\"],[0.4444444444444444,\"#bd3786\"],[0.5555555555555556,\"#d8576b\"],[0.6666666666666666,\"#ed7953\"],[0.7777777777777778,\"#fb9f3a\"],[0.8888888888888888,\"#fdca26\"],[1.0,\"#f0f921\"]],\"sequentialminus\":[[0.0,\"#0d0887\"],[0.1111111111111111,\"#46039f\"],[0.2222222222222222,\"#7201a8\"],[0.3333333333333333,\"#9c179e\"],[0.4444444444444444,\"#bd3786\"],[0.5555555555555556,\"#d8576b\"],[0.6666666666666666,\"#ed7953\"],[0.7777777777777778,\"#fb9f3a\"],[0.8888888888888888,\"#fdca26\"],[1.0,\"#f0f921\"]],\"diverging\":[[0,\"#8e0152\"],[0.1,\"#c51b7d\"],[0.2,\"#de77ae\"],[0.3,\"#f1b6da\"],[0.4,\"#fde0ef\"],[0.5,\"#f7f7f7\"],[0.6,\"#e6f5d0\"],[0.7,\"#b8e186\"],[0.8,\"#7fbc41\"],[0.9,\"#4d9221\"],[1,\"#276419\"]]},\"xaxis\":{\"gridcolor\":\"white\",\"linecolor\":\"white\",\"ticks\":\"\",\"title\":{\"standoff\":15},\"zerolinecolor\":\"white\",\"automargin\":true,\"zerolinewidth\":2},\"yaxis\":{\"gridcolor\":\"white\",\"linecolor\":\"white\",\"ticks\":\"\",\"title\":{\"standoff\":15},\"zerolinecolor\":\"white\",\"automargin\":true,\"zerolinewidth\":2},\"scene\":{\"xaxis\":{\"backgroundcolor\":\"#E5ECF6\",\"gridcolor\":\"white\",\"linecolor\":\"white\",\"showbackground\":true,\"ticks\":\"\",\"zerolinecolor\":\"white\",\"gridwidth\":2},\"yaxis\":{\"backgroundcolor\":\"#E5ECF6\",\"gridcolor\":\"white\",\"linecolor\":\"white\",\"showbackground\":true,\"ticks\":\"\",\"zerolinecolor\":\"white\",\"gridwidth\":2},\"zaxis\":{\"backgroundcolor\":\"#E5ECF6\",\"gridcolor\":\"white\",\"linecolor\":\"white\",\"showbackground\":true,\"ticks\":\"\",\"zerolinecolor\":\"white\",\"gridwidth\":2}},\"shapedefaults\":{\"line\":{\"color\":\"#2a3f5f\"}},\"annotationdefaults\":{\"arrowcolor\":\"#2a3f5f\",\"arrowhead\":0,\"arrowwidth\":1},\"geo\":{\"bgcolor\":\"white\",\"landcolor\":\"#E5ECF6\",\"subunitcolor\":\"white\",\"showland\":true,\"showlakes\":true,\"lakecolor\":\"white\"},\"title\":{\"x\":0.05},\"mapbox\":{\"style\":\"light\"}}},\"legend\":{\"tracegroupgap\":0},\"margin\":{\"t\":25,\"l\":0,\"r\":0,\"b\":0},\"width\":1400,\"height\":600,\"title\":{\"text\":\"Faturamento Total por Região e Estado\"}},                        {\"responsive\": true}                    ).then(function(){\n",
              "                            \n",
              "var gd = document.getElementById('d313c4d6-0529-48c7-b953-1d63d084a68f');\n",
              "var x = new MutationObserver(function (mutations, observer) {{\n",
              "        var display = window.getComputedStyle(gd).display;\n",
              "        if (!display || display === 'none') {{\n",
              "            console.log([gd, 'removed!']);\n",
              "            Plotly.purge(gd);\n",
              "            observer.disconnect();\n",
              "        }}\n",
              "}});\n",
              "\n",
              "// Listen for the removal of the full notebook cells\n",
              "var notebookContainer = gd.closest('#notebook-container');\n",
              "if (notebookContainer) {{\n",
              "    x.observe(notebookContainer, {childList: true});\n",
              "}}\n",
              "\n",
              "// Listen for the clearing of the current output cell\n",
              "var outputEl = gd.closest('.output');\n",
              "if (outputEl) {{\n",
              "    x.observe(outputEl, {childList: true});\n",
              "}}\n",
              "\n",
              "                        })                };                            </script>        </div>\n",
              "</body>\n",
              "</html>"
            ]
          },
          "metadata": {}
        }
      ],
      "source": [
        "import pandas as pd\n",
        "import plotly.express as px\n",
        "\n",
        "# Supondo que você já tenha o DataFrame df\n",
        "# Filtrar as colunas desejadas\n",
        "vendas_2023 = df[['regiao', 'uf', 'faturamento']]\n",
        "\n",
        "# Criar o gráfico Treemap\n",
        "fig = px.treemap(vendas_2023, path=['regiao', 'uf'], values='faturamento', color='regiao',\n",
        "                 color_discrete_map={'Centro-Oeste': '#0081a7',\n",
        "                                     'Nordeste': '#00afb9',\n",
        "                                     'Norte': '#fdfcdc',\n",
        "                                     'Sudeste': '#fed9b7',\n",
        "                                     'Sul': '#f07167'}\n",
        "                 )\n",
        "\n",
        "# Atualizando o layout para adicionar título\n",
        "fig.update_layout(width=1400, height=600, title='Faturamento Total por Região e Estado', margin = dict(t=25, l=0, r=0, b=0))\n",
        "\n",
        "# Adicionar os valores dentro dos retângulos\n",
        "fig.update_traces(textinfo='label+value')\n",
        "\n",
        "# Exibir o gráfico\n",
        "fig.show()"
      ]
    },
    {
      "cell_type": "markdown",
      "metadata": {
        "id": "NynWDSbpuIJU"
      },
      "source": [
        "#### Desafio 2:"
      ]
    },
    {
      "cell_type": "markdown",
      "metadata": {
        "id": "JK6vNKKfuIJU"
      },
      "source": [
        "> #### <strong><font color=\"#203f75\" size= 6>Prompt:</font></strong>\n",
        "\n",
        "Escreva aqui o prompt que você utilizou para gerar o código do desafio!"
      ]
    },
    {
      "cell_type": "code",
      "execution_count": 21,
      "metadata": {
        "id": "0lEwT00p_t-Q",
        "outputId": "c4901ebb-1b82-4f84-e202-35d8ba59caca",
        "colab": {
          "base_uri": "https://localhost:8080/",
          "height": 521
        }
      },
      "outputs": [
        {
          "output_type": "display_data",
          "data": {
            "text/plain": [
              "<Figure size 800x600 with 1 Axes>"
            ],
            "image/png": "[encoded data removed]"
          },
          "metadata": {}
        }
      ],
      "source": [
        "# Contabiliza a quantidade de usuários que realizaram o pré-cadastro na Zoop Pay\n",
        "pre_cadastro_counts = df_zoop_pay['zoop_pay'].value_counts()\n",
        "\n",
        "# Define as cores para cada valor\n",
        "colors = ['#2a9d8f' if label == 'Sim' else '#d0d0d0' for label in pre_cadastro_counts.index]\n",
        "\n",
        "# Cria o gráfico de rosca\n",
        "plt.figure(figsize=(8, 6))\n",
        "plt.pie(pre_cadastro_counts, labels=pre_cadastro_counts.index, autopct='%1.1f%%', startangle=140, colors=colors, wedgeprops=dict(width=0.3))\n",
        "\n",
        "# Adiciona um título ao gráfico\n",
        "plt.title('Proporção de Pré-cadastro na Zoop Pay')\n",
        "\n",
        "# Exibe o gráfico\n",
        "plt.show()"
      ]
    },
    {
      "cell_type": "code",
      "source": [
        "import seaborn as sns\n",
        "\n",
        "# Criação do boxplot\n",
        "plt.figure(figsize=(12, 8))  # Define o tamanho do gráfico\n",
        "boxplot = sns.boxplot(x='idade', y='regiao', data=df, palette=\"colorblind\", hue='regiao')  # Cria o boxplot\n",
        "\n",
        "# Adiciona títulos e rótulos aos eixos\n",
        "plt.title('Distribuição das Idades dos Clientes por Região')  # Título do gráfico\n",
        "plt.xlabel('Idade')  # Rótulo do eixo X\n",
        "plt.ylabel('Região')  # Rótulo do eixo Y\n",
        "\n",
        "# Exibe o gráfico\n",
        "plt.show()"
      ],
      "metadata": {
        "id": "df_fxppU9lwl",
        "outputId": "38fe9b78-6ffb-4eab-9e13-39d01939c529",
        "colab": {
          "base_uri": "https://localhost:8080/",
          "height": 718
        }
      },
      "execution_count": 22,
      "outputs": [
        {
          "output_type": "display_data",
          "data": {
            "text/plain": [
              "<Figure size 1200x800 with 1 Axes>"
            ],
            "image/png": "[encoded data removed]"
          },
          "metadata": {}
        }
      ]
    },
    {
      "cell_type": "markdown",
      "metadata": {
        "id": "i_X1NcH9_T-u"
      },
      "source": [
        "## Aula 04 - Técnicas de storytelling"
      ]
    },
    {
      "cell_type": "markdown",
      "metadata": {
        "id": "-9SRrCB7uIJU"
      },
      "source": [
        "### Paleta de Cores"
      ]
    },
    {
      "cell_type": "markdown",
      "metadata": {
        "id": "bsCN6KY8uIJV"
      },
      "source": [
        "Vamos compartilhar aqui a paleta de cores que usamos durante o curso pra você executar e usar em seu projeto, mas sinta-se livre para construir a sua própria."
      ]
    },
    {
      "cell_type": "code",
      "execution_count": 23,
      "metadata": {
        "id": "Ej62LroLuIJV"
      },
      "outputs": [],
      "source": [
        "# Adicionando as cores como variáveis do projeto\n",
        "VERMELHO_1,\tVERMELHO_2,\tVERMELHO_3 = \"#e23155\",\t\"#cc2c4e\", \"#b32742\"\n",
        "AZUL_1,\tAZUL_2,\tAZUL_3 = \"#203f75\",\t\"#1c3867\", \"#19325b\"\n",
        "BRANCO,\tCINZA_1, CINZA_2, CINZA_3, CINZA_4,\tCINZA_5 = \"#ffffff\", \"#ebebeb\",\t\"#d9d9d9\", \"#cccccc\", \"#555655\", \"#231f20\"\n",
        "AQUA_1,\tAQUA_2,\tAQUA_3 = \"#addcd4\",\t\"#9fccc5\", \"#96bfb9\""
      ]
    },
    {
      "cell_type": "markdown",
      "metadata": {
        "id": "jQGogqg0_uiR"
      },
      "source": [
        "### Mão na Massa - Refinando os visuais escolhidos"
      ]
    },
    {
      "cell_type": "markdown",
      "metadata": {
        "id": "6eiWl7EHuIJV"
      },
      "source": [
        "#### Desafio 1:"
      ]
    },
    {
      "cell_type": "markdown",
      "metadata": {
        "id": "qsb1AWwluIJV"
      },
      "source": [
        "##### Gráfico sem refinamento"
      ]
    },
    {
      "cell_type": "code",
      "execution_count": 27,
      "metadata": {
        "id": "kHsVLA2b_uiS",
        "outputId": "17722fae-3c67-45fb-dcda-a5b2bab36038",
        "colab": {
          "base_uri": "https://localhost:8080/",
          "height": 1000
        }
      },
      "outputs": [
        {
          "output_type": "display_data",
          "data": {
            "text/plain": [
              "<Figure size 1000x600 with 1 Axes>"
            ],
            "image/png": "[encoded data removed]"
          },
          "metadata": {}
        }
      ],
      "source": [
        "metodos_pagamento = df['metodo_pagamento'].value_counts()\n",
        "metodo_mais_utilizado = metodos_pagamento.idxmax()\n",
        "cores = ['honeydew'] * len(metodos_pagamento)\n",
        "cores[metodos_pagamento.index.get_loc(metodo_mais_utilizado)] = 'seagreen'\n",
        "\n",
        "plt.figure(figsize=(10, 6))\n",
        "plt.bar(metodos_pagamento.index, metodos_pagamento.values, color=cores)\n",
        "\n",
        "for i, valor in enumerate(metodos_pagamento.values):\n",
        "    plt.text(i, valor + 5, str(valor), ha='center', fontsize=12, weight='bold' if valor == metodos_pagamento.max() else 'normal')\n",
        "\n",
        "plt.title('Métodos de pagamentos mais utilizados no 2º semestre de 2023', fontsize=14)\n",
        "plt.xticks(fontsize=12)\n",
        "plt.yticks([])\n",
        "plt.ylim(0, 280)\n",
        "plt.xlabel('')\n",
        "plt.ylabel('')\n",
        "plt.gca().spines[['top', 'right','left', 'bottom']].set_visible(False)\n",
        "plt.show()"
      ]
    },
    {
      "cell_type": "markdown",
      "metadata": {
        "id": "VUyeO_SLuIJW"
      },
      "source": [
        "> #### <strong><font color=\"#203f75\" size= 6>Prompt:</font></strong>\n",
        "\n",
        "Escreva aqui o prompt que você utilizou para gerar o código do desafio!\n"
      ]
    },
    {
      "cell_type": "code",
      "execution_count": null,
      "metadata": {
        "id": "T1dqk3Al_uiS"
      },
      "outputs": [],
      "source": []
    },
    {
      "cell_type": "markdown",
      "metadata": {
        "id": "WqZzTybbuIJW"
      },
      "source": [
        "#### Desafio 2:"
      ]
    },
    {
      "cell_type": "markdown",
      "metadata": {
        "id": "_TORxp7KuIJW"
      },
      "source": [
        "##### Gráfico sem refinamento"
      ]
    },
    {
      "cell_type": "code",
      "execution_count": null,
      "metadata": {
        "id": "uaVxWWPC_uiS"
      },
      "outputs": [],
      "source": []
    },
    {
      "cell_type": "markdown",
      "metadata": {
        "id": "z9x6BP5NuIJX"
      },
      "source": [
        "> #### <strong><font color=\"#203f75\" size= 6>Prompt:</font></strong>\n",
        "\n",
        "Escreva aqui o prompt que você utilizou para gerar o código do desafio!"
      ]
    },
    {
      "cell_type": "code",
      "execution_count": null,
      "metadata": {
        "id": "L51uTAPZuIJc"
      },
      "outputs": [],
      "source": []
    }
  ],
  "metadata": {
    "colab": {
      "provenance": [],
      "include_colab_link": true
    },
    "kernelspec": {
      "display_name": "base",
      "language": "python",
      "name": "python3"
    },
    "language_info": {
      "codemirror_mode": {
        "name": "ipython",
        "version": 3
      },
      "file_extension": ".py",
      "mimetype": "text/x-python",
      "name": "python",
      "nbconvert_exporter": "python",
      "pygments_lexer": "ipython3",
      "version": "3.10.5"
    },
    "orig_nbformat": 4
  },
  "nbformat": 4,
  "nbformat_minor": 0
}