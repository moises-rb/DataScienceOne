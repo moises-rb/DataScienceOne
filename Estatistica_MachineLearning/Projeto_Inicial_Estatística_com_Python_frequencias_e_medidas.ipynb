{
  "cells": [
    {
      "cell_type": "markdown",
      "metadata": {
        "colab_type": "text",
        "id": "view-in-github"
      },
      "source": [
        "<a href=\"https://colab.research.google.com/github/moises-rb/DataScienceOne/blob/main/Estatistica_MachineLearning/Projeto_Inicial_Estat%C3%ADstica_com_Python_frequencias_e_medidas.ipynb\" target=\"_parent\"><img src=\"https://colab.research.google.com/assets/colab-badge.svg\" alt=\"Open In Colab\"/></a>"
      ]
    },
    {
      "cell_type": "markdown",
      "metadata": {
        "id": "aXvD2rsPDicS"
      },
      "source": [
        "# <font size=6>**Estatística com Python: resumindo e analisando dados**</font>"
      ]
    },
    {
      "cell_type": "markdown",
      "metadata": {
        "id": "VtyprZfbDlwW"
      },
      "source": [
        "Estamos prestando consultoria como **cientistas de dados** em uma grande rede de varejo que atende em todo Brasil.\n",
        "\n",
        "Aqui, precisaremos utilizar uma série de conceitos da estatística para investigar e auxiliar nos problemas e demandas que essa empresa está enfrentando, baseando suas decisões na análise dos dados recebidos.\n",
        "\n",
        "Neste projeto, vamos ter acesso a duas bases de dados passando por dois contextos distintos dentro da empresa:\n",
        "1. Análise do público e vendas, traçando o perfil da nossa clientela e gerando insights com esses dados respondendo a perguntas levantadas pelo setor de marketing e vendas\n",
        "2. Análise da remuneração dos colaboradores, passando pelos salários, desempenho atual e analisando criticamente a equidade salarial entre cargos e gênero, por exemplo. Isto, respondendo a perguntas do setor do RH e financeiro da empresa.\n",
        "\n",
        "**Base de dados**\n",
        "\n",
        "Vamos importar duas bases de dados:\n",
        "\n",
        "> Dados das vendas do e-commerce, separados pelo código identificador da compra.\n",
        "\n",
        "> Dados da remuneração dos colaboradores da empresa, separados pelo código identificador do(a) colaborador(a).\n",
        "\n",
        "Esses dados serão lidos a partir do repositório compartilhado pelo GitHub.\n",
        "\n",
        "**Desafio**\n",
        "\n",
        "Nosso desafio é aplicar os conceitos de **distribuições de frequência, medidas de tendência central, medidas separatizes e de dispersão e visualização de dados** para cada caso trazido por essa empresa para que possa agregar valor aos times e ajudar nos processos de decisão. Para isso, serão repassados alguns questionamentos ao longo do nosso projeto para que possamos contribuir na execução dessa demanda.\n",
        "\n",
        "Vamos utilizar a **linguagem Python** para responder todos os questionamentos levantados."
      ]
    },
    {
      "cell_type": "markdown",
      "metadata": {
        "id": "UNZZiHpAnSS-"
      },
      "source": [
        "# **1. Entendendo os dados**\n",
        "\n",
        "---\n"
      ]
    },
    {
      "cell_type": "markdown",
      "metadata": {
        "id": "AxaRaI7hnZsA"
      },
      "source": [
        "## **1.1  Importando os pacotes e lendo os dados**"
      ]
    },
    {
      "cell_type": "markdown",
      "metadata": {
        "id": "SQWrAZuzHh2i"
      },
      "source": [
        "Como vamos explorar os dados das bases, gerar visualizações e responder a perguntas, vamos trazer um pacote extremamente importante e bastante utilizado por pessoas cientistas e pesquisadoras que é o `pandas`.\n",
        "\n",
        "https://pandas.pydata.org/"
      ]
    },
    {
      "cell_type": "code",
      "execution_count": null,
      "metadata": {
        "id": "O6BY_gF0ihGR"
      },
      "outputs": [],
      "source": [
        "import pandas as pd"
      ]
    },
    {
      "cell_type": "markdown",
      "metadata": {
        "id": "2uF5RbNzIGeo"
      },
      "source": [
        "Vamos ler a nossa primeira base de dados para as análises do perfil da nossa clientela de acordo com as compras que realizaram.\n",
        "\n",
        "Vamos também salvar os dados em uma variável, para que possamos manipulá-los"
      ]
    },
    {
      "cell_type": "code",
      "execution_count": null,
      "metadata": {
        "id": "FSAhtmGJijsk"
      },
      "outputs": [],
      "source": [
        "url = 'https://raw.githubusercontent.com/alura-cursos/Estatisticas-Python-frequencias-medidas/refs/heads/main/dados/vendas_ecommerce.csv'\n",
        "df = pd.read_csv(url)"
      ]
    },
    {
      "cell_type": "markdown",
      "metadata": {
        "id": "sTHXHYDHpMJD"
      },
      "source": [
        "Retornar a quantidade de linhas e colunas do dataset"
      ]
    },
    {
      "cell_type": "code",
      "execution_count": null,
      "metadata": {
        "id": "x3UnzGIOilr0"
      },
      "outputs": [],
      "source": []
    },
    {
      "cell_type": "markdown",
      "metadata": {
        "id": "qudYCFeSpQwt"
      },
      "source": [
        "Verificar o nome de cada coluna, a quantidade de dados não nulos existente na coluna em questão e o tipo de dado.\n"
      ]
    },
    {
      "cell_type": "code",
      "execution_count": null,
      "metadata": {
        "id": "O0nK_TMgio0g"
      },
      "outputs": [],
      "source": []
    },
    {
      "cell_type": "markdown",
      "metadata": {
        "id": "s_SxEZvdIZ-U"
      },
      "source": [
        "Conseguimos observar aqui os dados das vendas da empresa com algumas colunas interessantes.\n",
        "\n",
        "Podemos realizar talvez uma análise de vendas por região, por gênero, podemos explorar os tipos de produtos, o tempo de entrega e avaliação. Ou seja, bastante coisa!\n",
        "\n",
        "Para todas essas análises que podemos traçar, temos 2 pontos extremamente importantes:\n",
        "\n",
        "1. Qual o tipo de dado que tenho?\n",
        "2. O que desejo investigar com este dado?\n",
        "\n",
        "A estatística, é muito importante aqui, pois a depender do tipo do dado e como ele se comporta temos diferentes formas de analisá-lo para responder a necessidade do nosso cliente. Tudo isso focado no tripé da ciência de dados: **estatística**, **programação** e **conhecimento do negócio**\n",
        "\n",
        "Vamos aplicar as 3 aqui apontando o seu potencial na análise de dados e extração de insights utilizando a linguagem Python.\n",
        "\n",
        "Vamos nessa?"
      ]
    },
    {
      "cell_type": "markdown",
      "metadata": {
        "id": "lmFhWRkinnP0"
      },
      "source": [
        "## **1.2 Investigando os tipos dos dados**"
      ]
    },
    {
      "cell_type": "markdown",
      "metadata": {
        "id": "AnVZHaxMJIyE"
      },
      "source": [
        "Observando rapidamente os dados, podemos notar dados em formato de textos, números inteiros, números com casas decimais. A depender da análise que queremos fazer, cada um tem uma forma de ser trabalhado e adequado para a extração de informação dos dados"
      ]
    },
    {
      "cell_type": "code",
      "execution_count": null,
      "metadata": {
        "id": "8mnPTNAzir4M"
      },
      "outputs": [],
      "source": []
    },
    {
      "cell_type": "markdown",
      "metadata": {
        "id": "3u7VM4iMJXCW"
      },
      "source": [
        "Ou seja, temos aqui dados categóricos (qualitativos) e numéricos (quantitativos)."
      ]
    },
    {
      "cell_type": "markdown",
      "metadata": {
        "id": "_7SMi1PuJQKW"
      },
      "source": [
        "### Tipos de Variáveis:\n",
        "\n",
        "![texto do link](https://github.com/afonsosr2/estatistica-r-frequencias-medidas/blob/main/imagens/outros/tipos_variaveis.png?raw=true)\n",
        "\n",
        "- **Qualitativas (Categóricas):** São variáveis que representam características ou categorias. Geralmente, são usadas para classificar ou categorizar dados. Por exemplo: sexo biólogico e região\n",
        "  - **Nominais:** quando não possuem uma ordem natural. (Ex.: tipo de produto).  \n",
        "  - **Ordinais:** Possuem uma ordem ou hierarquia. (Ex.: Níveis de escolaridade).\n",
        "\n",
        "- **Quantitativas (Numéricas):** São variáveis que representam números e podem ser mensuradas. Estas variáveis têm significado matemático e podem ser usadas para cálculos. Por exemplo: idade e total de compra\n",
        "  - **Discretas:** Valores inteiros e contáveis (Ex.: quantidade de produtos).  \n",
        "  - **Contínuas:** Qualquer valor em um intervalo (Ex.: Altura de pessoas)."
      ]
    },
    {
      "cell_type": "markdown",
      "metadata": {
        "id": "2ifPBhSUJkO0"
      },
      "source": [
        "Podemos então realizar uma análise simples aqui, investigando uma **variável qualitativa nominal** como, por exemplo, a quantidade de vendas por categoria:"
      ]
    },
    {
      "cell_type": "code",
      "execution_count": null,
      "metadata": {
        "id": "55tKpewIiuzD"
      },
      "outputs": [],
      "source": []
    },
    {
      "cell_type": "code",
      "execution_count": null,
      "metadata": {
        "id": "mRvVjeIXiurJ"
      },
      "outputs": [],
      "source": []
    },
    {
      "cell_type": "code",
      "execution_count": null,
      "metadata": {
        "id": "j4xzQ4h-iuj-"
      },
      "outputs": [],
      "source": []
    },
    {
      "cell_type": "code",
      "execution_count": null,
      "metadata": {
        "id": "BvkcjXKxiueq"
      },
      "outputs": [],
      "source": []
    },
    {
      "cell_type": "markdown",
      "metadata": {
        "id": "Esn8ePB_abtg"
      },
      "source": [
        "Olha só! Apenas analisando uma única coluna já podemos extrair uma informação bem relevante sobre os registros de venda por categoria.\n",
        "\n",
        "Vamos na sequência analisar e aprender como utilizar uma **variável qualitativa ordinal** deixando-a preparada em nossa base."
      ]
    },
    {
      "cell_type": "markdown",
      "metadata": {
        "id": "eUBRumYDo7Hu"
      },
      "source": [
        "## **1.3 Manipulando dados qualitativos ordinais**\n",
        "\n",
        "---"
      ]
    },
    {
      "cell_type": "markdown",
      "metadata": {
        "id": "pWte-bp4Jysp"
      },
      "source": [
        "A gente já observou anteriormente os diferentes tipos de variáveis e começamos a entender como analisar os dados categóricos de uma base.\n",
        "\n",
        "Uma variável bem interessante em nossa base é a `avaliacao` do produto. Mesmo com dados numéricos, pode ser interpretada como uma variável qualitativa, pois as notas representam uma ordem relacionada a satisfação do cliente. Partindo do Péssimo (nota 1) ao Ótimo (nota 5)."
      ]
    },
    {
      "cell_type": "code",
      "execution_count": null,
      "metadata": {
        "id": "BvU1nTZzjhZF"
      },
      "outputs": [],
      "source": []
    },
    {
      "cell_type": "code",
      "execution_count": null,
      "metadata": {
        "id": "QN7LFlcIjhSJ"
      },
      "outputs": [],
      "source": []
    },
    {
      "cell_type": "code",
      "execution_count": null,
      "metadata": {
        "id": "--a0wfacjhNr"
      },
      "outputs": [],
      "source": []
    },
    {
      "cell_type": "code",
      "execution_count": null,
      "metadata": {
        "id": "M9Bm5T5PkcXh"
      },
      "outputs": [],
      "source": []
    },
    {
      "cell_type": "code",
      "execution_count": null,
      "metadata": {
        "id": "F6dzuzZwlPfE"
      },
      "outputs": [],
      "source": []
    },
    {
      "cell_type": "code",
      "execution_count": null,
      "metadata": {
        "id": "glNB-vHtjj0z"
      },
      "outputs": [],
      "source": []
    },
    {
      "cell_type": "code",
      "execution_count": null,
      "metadata": {
        "id": "Cc9LnoqUjjwp"
      },
      "outputs": [],
      "source": []
    },
    {
      "cell_type": "markdown",
      "metadata": {
        "id": "t9YXItFpJ6R6"
      },
      "source": [
        "Passando por alguns exemplos de variáveis qualitativas em nosso dado. Mas que tal analisarmos também os diferentes dados numéricos?"
      ]
    },
    {
      "cell_type": "markdown",
      "metadata": {
        "id": "PjCs3WacJ8xh"
      },
      "source": [
        "## **1.4 Diferenciando dados discretos de contínuos**\n",
        "\n",
        "---"
      ]
    },
    {
      "cell_type": "markdown",
      "metadata": {
        "id": "0J7x2jptJ-va"
      },
      "source": [
        "Temos alguns dados numéricos em nossa base de dados. Mas cada variável  tem a sua forma de ser analisada. Algumas delas até com possibilidades de serem encaixadas em 2 ou mais subdivisões."
      ]
    },
    {
      "cell_type": "code",
      "execution_count": null,
      "metadata": {
        "id": "gk_La5MGjcS9"
      },
      "outputs": [],
      "source": []
    },
    {
      "cell_type": "code",
      "execution_count": null,
      "metadata": {
        "id": "_i1Q4Oaojb_3"
      },
      "outputs": [],
      "source": []
    },
    {
      "cell_type": "code",
      "execution_count": null,
      "metadata": {
        "id": "ZApQiQUujb7D"
      },
      "outputs": [],
      "source": []
    },
    {
      "cell_type": "code",
      "execution_count": null,
      "metadata": {
        "id": "I-zXWVt0jb2Q"
      },
      "outputs": [],
      "source": []
    },
    {
      "cell_type": "code",
      "execution_count": null,
      "metadata": {
        "id": "IAGw2SkQjeY2"
      },
      "outputs": [],
      "source": []
    },
    {
      "cell_type": "code",
      "execution_count": null,
      "metadata": {
        "id": "ROhf5_rAjeUq"
      },
      "outputs": [],
      "source": []
    },
    {
      "cell_type": "markdown",
      "metadata": {
        "id": "Rv8nz9vMKGvn"
      },
      "source": [
        "Agora que já entendemos a importância de como trabalhar e analisar diferentes tipos de dados, estamos prontos(as) para responder às perguntas levantadas pelas lideranças da empresa trazendo informações relevantes para o que desejam."
      ]
    },
    {
      "cell_type": "markdown",
      "metadata": {
        "id": "lz_rMlOtDtso"
      },
      "source": [
        "# **2. Identificando o perfil do público**\n",
        "\n",
        "---"
      ]
    },
    {
      "cell_type": "markdown",
      "metadata": {
        "id": "MCK8Qk47FzQz"
      },
      "source": [
        "Agora, vamos partir para as análises acerca do perfil do público, como requisitado pelo time de marketing e vendas da empresa varejista que estamos estudando.\n",
        "\n",
        "Para isso, vamos utilizar uma ferramenta estatística muito importante, que organiza e resume dados em grupos ou classes: a distribuição de frequência. Com ela iremos analisar de maneira mais direta e eficiente as informações dos clientes com os dados qualitativos que possuímos.\n",
        "\n",
        "Mas, antes disso, vamos interpretar as perguntas que devemos responder e como este tipo de distribuição poderá nos ajudar."
      ]
    },
    {
      "cell_type": "markdown",
      "metadata": {
        "id": "zHp0nFexFz6t"
      },
      "source": [
        "## **2.1 Distribuindo frequências de dados qualitativos - 1 variável**\n",
        "\n",
        "---"
      ]
    },
    {
      "cell_type": "markdown",
      "metadata": {
        "id": "GMfPrLjdF8jM"
      },
      "source": [
        "### <font color=\"#E23155\" face=\"Verdana\">Demanda 1: Acompanhamento das avaliações dos clientes</font>"
      ]
    },
    {
      "cell_type": "markdown",
      "metadata": {
        "id": "W77K13p0F9mz"
      },
      "source": [
        "A empresa quer acompanhar as **avaliações dos clientes** sobre seus produtos a fim de priorizar ações, como melhorar produtos com maior proporção de feedbacks negativos, investigar causas e explorar pontos fortes apontados pelos clientes satisfeitos. Essas avaliações variam entre:\n",
        "\n",
        "1. **Péssimo**\n",
        "2. **Ruim**\n",
        "3. **Regular**\n",
        "4. **Bom**\n",
        "5. **Ótimo**\n",
        "\n",
        "Como a **equipe de marketing e vendas** poderá investigar a percepção geral dos clientes sobre os produtos e identificar possíveis comportamentos para ajustar suas estratégias de comunicação e melhoria de produtos?"
      ]
    },
    {
      "cell_type": "markdown",
      "metadata": {
        "id": "60Ji6SohGDU-"
      },
      "source": [
        "### <font color=\"#E23155\" face=\"Verdana\">Solução:</font>"
      ]
    },
    {
      "cell_type": "markdown",
      "metadata": {
        "id": "pL3InDboGD42"
      },
      "source": [
        "### **Distribuição de frequência**\n",
        "\n",
        "A **distribuição de frequência** é uma tabela que contêm os dados de acordo com a sua **frequência** ($f_i$ = quantidade de vezes que uma determinada variável ocorre). Ela é utilizada tanto para dados **qualitativos** quanto **quantitativos**.\n",
        "\n",
        "Cada entrada na tabela contém a contagem de ocorrências de valores dentro de um grupo ou intervalo específico, resumindo a distribuição destes valores. Por exemplo, classifica a quantidade de pessoas pelo sexo biológico, a quantidade de itens de um produto vendido, a faixa de renda de pessoas, etc.\n",
        "\n",
        "#### **Frequência absoluta ($f_i$)**\n",
        "\n",
        "É o número de vezes em que uma dada observação aparece numa variável. Para cada valor possível, você tem uma dada frequência, cuja soma seria igual a frequência total absoluta, ou melhor, o número total de registros.\n",
        "\n",
        "# $$F = \\sum_{i=1}^{n}f_i = f_1 + f_2 + ... + f_n$$\n",
        "\n",
        "&nbsp;\n",
        "\n",
        "#### **Como construir:**\n",
        "\n",
        "1.  Ordenar os valores das variáveis em ordem crescente ou decrescente;\n",
        "\n",
        "2.  Determinar a frequência de cada valor;\n",
        "\n",
        "3.  Agrupar os dados em classes ou intervalos"
      ]
    },
    {
      "cell_type": "markdown",
      "metadata": {
        "id": "eYh8sWFRJP-6"
      },
      "source": [
        "As avaliações são armazenadas em uma variável chamada `avaliacao_indicador` dentro do banco de dados da empresa."
      ]
    },
    {
      "cell_type": "code",
      "execution_count": null,
      "metadata": {
        "id": "4Dteb-mWjYjK"
      },
      "outputs": [],
      "source": []
    },
    {
      "cell_type": "code",
      "execution_count": null,
      "metadata": {
        "id": "08cp-Ig_jYfD"
      },
      "outputs": [],
      "source": []
    },
    {
      "cell_type": "markdown",
      "metadata": {
        "id": "xPQj8G88L2Ss"
      },
      "source": [
        "#### **Frequência relativa ($f_{ri}$)**\n",
        "\n",
        "Ela é dada pela razão entre a frequência absoluta de cada classe e a frequência total ou soma das frequências absolutas:\n",
        "\n",
        "# $$f_{ri} = \\frac{f_i}{F}$$\n",
        "\n",
        "Para valores percentuais, basta multiplicar cada frequência relativa por 100."
      ]
    },
    {
      "cell_type": "code",
      "execution_count": null,
      "metadata": {
        "id": "8qTzyU0LjW9H"
      },
      "outputs": [],
      "source": []
    },
    {
      "cell_type": "code",
      "execution_count": null,
      "metadata": {
        "id": "ScDP5E1sjW4W"
      },
      "outputs": [],
      "source": []
    },
    {
      "cell_type": "code",
      "execution_count": null,
      "metadata": {
        "id": "6JfIP9YcCKQA"
      },
      "outputs": [],
      "source": []
    },
    {
      "cell_type": "code",
      "execution_count": null,
      "metadata": {
        "id": "2RSwUXWajVPd"
      },
      "outputs": [],
      "source": []
    },
    {
      "cell_type": "markdown",
      "metadata": {
        "id": "XktCzlTwtP0J"
      },
      "source": [
        "Conseguimos perceber que de modo geral possuímos mais avaliações positivas (\"Ótimo\" e \"Bom\") que negativas (\"Péssimo\" e \"Ruim\"), porém o número de avaliações \"Péssimo\" está acima das avaliações neutras.\n",
        "\n",
        "Reportar esse comportamento pode ser importante, pois a equipe de marketing poderá investigar com mais detalhes o que levou a esse nível de avaliação negativa."
      ]
    },
    {
      "cell_type": "markdown",
      "metadata": {
        "id": "PG13hWS7L-k_"
      },
      "source": [
        "## **2.2 Distribuindo frequências de dados qualitativos - 2 variáveis**\n",
        "\n",
        "---\n"
      ]
    },
    {
      "cell_type": "markdown",
      "metadata": {
        "id": "12OWccByMAGl"
      },
      "source": [
        "### <font color=\"#E23155\" face=\"Verdana\">Demanda 2: Avaliações dos clientes por região</font>"
      ]
    },
    {
      "cell_type": "markdown",
      "metadata": {
        "id": "I5UEG4lYwmlv"
      },
      "source": [
        "A equipe de marketing e vendas da empresa trouxe uma nova demanda para a análise das avaliações. Além de entender o comportamento geral das avaliações (avaliacao_indicador), agora desejam saber também como essas avaliações variam de acordo com a região do país.\n",
        "\n",
        "Com isso, gostariam de identificar como as percepções dos clientes variam regionalmente, respondendo questões como:\n",
        "\n",
        "* Qual região tem mais avaliações positivas?\n",
        "* Alguma região concentra a maior parte das avaliações negativas?\n",
        "* Existe alguma diferença relevante que indique a necessidade de ações específicas para uma região?"
      ]
    },
    {
      "cell_type": "markdown",
      "metadata": {
        "id": "VOyJcglDwnHl"
      },
      "source": [
        "### <font color=\"#E23155\" face=\"Verdana\">Solução:</font>"
      ]
    },
    {
      "cell_type": "markdown",
      "metadata": {
        "id": "DG17O0LEwqXq"
      },
      "source": [
        "### **Tabela de contingência (distribuição de frequência bivariada)**\n",
        "\n",
        "A **tabela de contingência**, também conhecida como tabela cruzada ou tabela bidirecional, tem como objetivo representar de forma resumida a relação entre diferentes variáveis categóricas. Ela é uma espécie de **distribuição de frequência entre 2 variáveis** que analisa a relação entre as variáveis qualitativas, sejam elas dependentes ou independentes.\n",
        "\n",
        "Geralmente, ela é construída com base em dados qualitativos, os quais são divididos em grupos mutuamente exclusivos. Por exemplo: quantidade de pessoas por sexo biológico e grau de instrução.\n",
        "\n",
        "Uma das principais utilizações de uma tabela de contingência é analisar a relação entre dados que não são facilmente identificáveis."
      ]
    },
    {
      "cell_type": "code",
      "execution_count": null,
      "metadata": {
        "id": "Mh-WWywQjQ_O"
      },
      "outputs": [],
      "source": []
    },
    {
      "cell_type": "code",
      "execution_count": null,
      "metadata": {
        "id": "qa3ln_rxwvGg"
      },
      "outputs": [],
      "source": []
    },
    {
      "cell_type": "markdown",
      "metadata": {
        "id": "4fxcIrt5w2cf"
      },
      "source": [
        "#### **Quais as vantagens de uma tabela de contigência**\n",
        "\n",
        "1. **Visualização das informações:** Organiza dados categóricos num formato compacto e legível, que podem ser transformadas em gráficos;\n",
        "\n",
        "2. **Análises rápidas:** correlaciona variáveis de forma rápida e visual auxiliando na tomada de decisões informadas e com agilidade;\n",
        "\n",
        "3. **Testes estatísticos:** Serve como base para realizar testes estatísticos a fim de avaliar a independência entre variáveis categóricas."
      ]
    },
    {
      "cell_type": "code",
      "execution_count": null,
      "metadata": {
        "id": "hTYX1DmhjNP4"
      },
      "outputs": [],
      "source": []
    },
    {
      "cell_type": "markdown",
      "metadata": {
        "id": "q_L4Hc--w-aU"
      },
      "source": [
        "#### ***Qual região tem mais avaliações positivas?***\n",
        "\n",
        "Considerando \"Ótimo\" e \"Bom\" as Regiões Centro-Oeste e Nordeste dividem o ranking de avaliações mais positivas com mais de 55% de satisfação com as compras"
      ]
    },
    {
      "cell_type": "code",
      "execution_count": null,
      "metadata": {
        "id": "bfzcuAVWjNsH"
      },
      "outputs": [],
      "source": []
    },
    {
      "cell_type": "markdown",
      "metadata": {
        "id": "2ZBErGC-xBrT"
      },
      "source": [
        "#### ***Alguma região concentra a maior parte das avaliações negativas?***\n",
        "\n",
        "Analisando a tabela de valores absolutos conseguimos notar que a Região Sul tem a maior porcentagem de avaliações negativas (34.3%), sendo a única com quase 20% das notas no nível de satisfação \"Péssimo\"."
      ]
    },
    {
      "cell_type": "code",
      "execution_count": null,
      "metadata": {
        "id": "pWoIWukojPSc"
      },
      "outputs": [],
      "source": []
    },
    {
      "cell_type": "markdown",
      "metadata": {
        "id": "xzKZE1AuxEBG"
      },
      "source": [
        "#### ***Existe alguma diferença relevante que indique a necessidade de ações específicas para uma região?***\n",
        "\n",
        "Sim! Como vimos anteriormente é necessário investigar a baixa avaliação na Região Sul comparada às outras regiões. Outro ponto de atenção está também nas Regiões Sudeste e Norte que concentram cada uma mais de 20% de notas \"Regular\".\n",
        "\n",
        "Seriam pontos interessantes de reportar as partes interessadas!"
      ]
    },
    {
      "cell_type": "markdown",
      "metadata": {
        "id": "GNOLac1oMBot"
      },
      "source": [
        "## **2.3 Cruzando os dados dos clientes**\n",
        "\n",
        "---\n"
      ]
    },
    {
      "cell_type": "markdown",
      "metadata": {
        "id": "x4GnMOdAMDaa"
      },
      "source": [
        "### <font color=\"#E23155\" face=\"Verdana\">Demanda 3: Perfil dos clientes</font>"
      ]
    },
    {
      "cell_type": "markdown",
      "metadata": {
        "id": "L-3eRgUzxb9q"
      },
      "source": [
        "A equipe de marketing e vendas da empresa trouxe mais uma demanda, desta vez, visando traçar o **perfil dos clientes** para melhorar suas campanhas publicitárias. Ela quer entender como o **ticket médio** varia entre o **sexo biológico** e a **região** onde a clientela reside. Com base nessa análise, será possível identificar oportunidades para segmentação de mercado e personalização de campanhas.\n",
        "\n",
        "Não existe ainda uma análise cruzada dessas informações, portanto, a equipe precisa de uma tabela ou visual que resuma o **ticket médio por sexo e região** para extrair insights sobre o comportamento de consumo."
      ]
    },
    {
      "cell_type": "markdown",
      "metadata": {
        "id": "2md7fHcQxeTX"
      },
      "source": [
        "### <font color=\"#E23155\" face=\"Verdana\">Solução:</font>"
      ]
    },
    {
      "cell_type": "markdown",
      "metadata": {
        "id": "Eq0sYi5DxhgF"
      },
      "source": [
        "A gente já aprendeu a criar uma distribuição de frequência cruzando duas variáveis diferentes. Para este problema precisamos adicionar a estatística descritiva de uma variável quantitativa, no caso a média, dentro dessa nova tabela."
      ]
    },
    {
      "cell_type": "code",
      "execution_count": null,
      "metadata": {
        "id": "V_XKeYyljncX"
      },
      "outputs": [],
      "source": []
    },
    {
      "cell_type": "markdown",
      "metadata": {
        "id": "S4XYUAUvxkHr"
      },
      "source": [
        "Temos o total de cada compra dentro do nosso dataset. Precisamos então calcular o ticket médio das pessoas por sexo e região para encontrar, por exemplo, a média de compras de uma pessoa do sexo masculino da região Sudeste ou uma pessoa do sexo feminino da região Norte. Bem interessante, não é?"
      ]
    },
    {
      "cell_type": "code",
      "execution_count": null,
      "metadata": {
        "id": "VOWDn8PtjoWx"
      },
      "outputs": [],
      "source": []
    },
    {
      "cell_type": "markdown",
      "metadata": {
        "id": "q6C0M73FxoIR"
      },
      "source": [
        "Observando a matriz, percebemos que as pessoas de sexo biológico masculino possuem um ticket médio acima do feminino nas regiões Centro-Oeste e Nordeste, com uma diferença próxima de **R\\$150,00**. Em contrapartida, as pessoas de sexo biológico feminino gastam mais do que o masculino nas regiões Sul e Sudeste, com uma diferença por volta de **R\\$300,00** reais.\n",
        "\n",
        "A análise de ticket médio aqui nos ajudou a entender o comportamento de consumo de diferentes segmentos de clientes."
      ]
    },
    {
      "cell_type": "markdown",
      "metadata": {
        "id": "V6iS-yqwDwQm"
      },
      "source": [
        "# **3. Analisando a tendência dos dados**\n",
        "\n",
        "---\n"
      ]
    },
    {
      "cell_type": "markdown",
      "metadata": {
        "id": "Y3nmdRYXPJgZ"
      },
      "source": [
        "## **3.1 Calculando a média de uma variável**\n",
        "\n",
        "---\n"
      ]
    },
    {
      "cell_type": "markdown",
      "metadata": {
        "id": "eQxC56cwPLm8"
      },
      "source": [
        "### <font color=\"#E23155\" face=\"Verdana\">Demanda 4: Tempo de entrega por tipo de produto</font>"
      ]
    },
    {
      "cell_type": "markdown",
      "metadata": {
        "id": "YtGCCinfPMJ_"
      },
      "source": [
        "A equipe de marketing e vendas está buscando formas de melhorar a experiência do cliente, e percebeu que o **tempo de entrega** é um fator crítico para aumentar a satisfação.\n",
        "\n",
        "Por exemplo, produtos de categorias diferentes, como eletrônicos e roupas, podem ter tempos de entrega distintos devido a fatores como peso, localização dos fornecedores e demanda.\n",
        "\n",
        "Por isso, precisamos calcular o **tempo médio de entrega para cada categoria de produto** com base nos dados históricos, visando fornecer estimativas mais precisas no site e permitir ajustes na logística."
      ]
    },
    {
      "cell_type": "markdown",
      "metadata": {
        "id": "fqVLiEFNPOLr"
      },
      "source": [
        "### **Medidas de Tendência Central**\n",
        "\n",
        "As **medidas de tendência central** são ferramentas estatísticas que ajudam a descrever as características dos dados resumindo-os em um único valor. Essas medidas (média, mediana e moda) são utilizadas em diversas análises e técnicas visando extrair informações dos dados.\n",
        "\n",
        "### **Média aritmética ($\\mu$)**\n",
        "\n",
        "A **média aritmética**  é uma das mais conhecidas medidas de resumo. Ela é a soma de todos os valores divididos pelo número de observações. Representa um ponto central dos dados, ou seja, um ponto de equilíbrio.\n",
        "\n",
        "\n",
        "# $$\\mu = \\frac 1n\\sum_{i=1}^{n}X_i = \\frac{X_1 + X_2 + ... + X_n}{n}$$\n",
        "\n",
        "Onde:\n",
        "\n",
        "$n$ = número de observações (registros)\n",
        "\n",
        "$X_i$ = valor da i-ésima observação (registro)"
      ]
    },
    {
      "cell_type": "markdown",
      "metadata": {
        "id": "zUPF3EKovM-H"
      },
      "source": [
        "### <font color=\"#E23155\" face=\"Verdana\">Solução:</font>"
      ]
    },
    {
      "cell_type": "code",
      "execution_count": null,
      "metadata": {
        "id": "usZVyOnDjspA"
      },
      "outputs": [],
      "source": []
    },
    {
      "cell_type": "code",
      "execution_count": null,
      "metadata": {
        "id": "3psl3zMmjsi5"
      },
      "outputs": [],
      "source": []
    },
    {
      "cell_type": "code",
      "execution_count": null,
      "metadata": {
        "id": "0mJkOTp_jsdw"
      },
      "outputs": [],
      "source": []
    },
    {
      "cell_type": "markdown",
      "metadata": {
        "id": "U6m4kbzAvVFR"
      },
      "source": [
        "#### ***A média é sempre a melhor forma de resumir os dados***\n",
        "\n",
        "A resposta é **não**! Por ser um ponto de equilíbrio, em algumas análises ela pode não ser a forma mais correta de indicar a tendência central.\n",
        "\n",
        "Isto porque ela é muito influenciada pelos extremos da distribuição. Entretanto, com outras informações aliadas à média podemos tirar boas conclusões e investigar se precisamos ou não de algum tratamento e/ou transformação do dado."
      ]
    },
    {
      "cell_type": "code",
      "execution_count": null,
      "metadata": {
        "id": "kXRQXvX7jvCM"
      },
      "outputs": [],
      "source": []
    },
    {
      "cell_type": "code",
      "execution_count": null,
      "metadata": {
        "id": "b3syv8W-ju9S"
      },
      "outputs": [],
      "source": []
    },
    {
      "cell_type": "code",
      "execution_count": null,
      "metadata": {
        "id": "2Gs0aZ2ejxtC"
      },
      "outputs": [],
      "source": []
    },
    {
      "cell_type": "code",
      "execution_count": null,
      "metadata": {
        "id": "3y61GdeQjwcT"
      },
      "outputs": [],
      "source": []
    },
    {
      "cell_type": "markdown",
      "metadata": {
        "id": "01oDFiZtvXkn"
      },
      "source": [
        "Como a empresa não possuia informações precisas sobre como os tempos de entrega variam entre as categorias de produtos, isso dificultava a definição de estimativas para os clientes, gerando frustrações quando o tempo real de entrega não corresponde ao esperado.\n",
        "\n",
        "Aqui conseguimos apontar os gargalos e quais as categorias que precisam de atenção, seja pela dificuldade de transporte ou outros problemas."
      ]
    },
    {
      "cell_type": "markdown",
      "metadata": {
        "id": "g3zvC6ITMMWw"
      },
      "source": [
        "## **3.2 Aplicando a mediana na investigação dos dados**\n",
        "\n",
        "---"
      ]
    },
    {
      "cell_type": "markdown",
      "metadata": {
        "id": "vx45hn83MN-K"
      },
      "source": [
        "### <font color=\"#E23155\" face=\"Verdana\">Demanda 5: Vendas de eletrônicos na região Nordeste</font>"
      ]
    },
    {
      "cell_type": "markdown",
      "metadata": {
        "id": "GcRbqpbN7I28"
      },
      "source": [
        "Para nossa nova demanda, a divisão da equipe de marketing e vendas que cuida das vendas no Nordeste está buscando investigar o comportamento dos consumidores nessa área, devido ao crescimento significativo nas vendas de **Eletrônicos**. A equipe deseja entender melhor a distribuição dos valores de vendas para ajustar sua estratégia de preços e campanhas.\n",
        "\n",
        "Embora a média das vendas de eletrônicos forneça uma visão geral, ela pode ser influenciada por valores extremos, como compras muito altas ou muito baixas.\n",
        "\n",
        "Para capturar um retrato mais representativo do comportamento típico dos consumidores qual medida podemos utilizar?"
      ]
    },
    {
      "cell_type": "markdown",
      "metadata": {
        "id": "Jt3utyFQ7Kn4"
      },
      "source": [
        "### **Mediana ($M_d$)**\n",
        "\n",
        "A **mediana** representa o valor central de um conjunto de dados, passando o número que divide um conjunto de dados exatamente ao meio. Para obtermos a mediana de uma conjunto de dados devemos proceder da seguinte maneira:\n",
        "\n",
        "1. Ordenar o conjunto de dados;\n",
        "2. Identificar o número de observações (registros) do conjunto de dados ($n$);\n",
        "3. Identificar o elemento mediano:\n",
        "\n",
        "$$ Elemento_{Md} = \\left\\{\\begin{matrix}\n",
        "\\frac{n+1}2 & ,se \\ n \\ for \\ ímpar \\\\\n",
        " &  \\\\\n",
        "\\frac{n}2 & ,se \\ n \\ for \\ par \\\\\n",
        "\\end{matrix}\\right.$$\n",
        "\n",
        "&nbsp;\n",
        "\n",
        "4. Obter a mediana:\n",
        "\n",
        "$$ M_d = \\left\\{\\begin{matrix}\n",
        "X_{Elemento_{Md}} & ,se \\ n \\ for \\ ímpar \\\\\n",
        " &  \\\\\n",
        "\\frac{X_{Elemento_{Md}} + X_{Elemento_{Md}+1}}2 & ,se \\ n \\ for \\ par \\\\\n",
        "\\end{matrix}\\right.$$\n",
        "\n",
        "&nbsp;"
      ]
    },
    {
      "cell_type": "markdown",
      "metadata": {
        "id": "WVbkrC4g7Mm5"
      },
      "source": [
        "### <font color=\"#E23155\" face=\"Verdana\">Solução:</font>"
      ]
    },
    {
      "cell_type": "markdown",
      "metadata": {
        "id": "nX-DvrzN7OWb"
      },
      "source": [
        "##### **Usando a fórmula**"
      ]
    },
    {
      "cell_type": "code",
      "execution_count": null,
      "metadata": {
        "id": "ad8GTBgQj5nn"
      },
      "outputs": [],
      "source": []
    },
    {
      "cell_type": "code",
      "execution_count": null,
      "metadata": {
        "id": "vnIzYHr5j5h5"
      },
      "outputs": [],
      "source": []
    },
    {
      "cell_type": "code",
      "execution_count": null,
      "metadata": {
        "id": "k-m1URvNj5av"
      },
      "outputs": [],
      "source": []
    },
    {
      "cell_type": "code",
      "execution_count": null,
      "metadata": {
        "id": "LhyuApCtj5UJ"
      },
      "outputs": [],
      "source": []
    },
    {
      "cell_type": "code",
      "execution_count": null,
      "metadata": {
        "id": "6JCffF2Kj5Pg"
      },
      "outputs": [],
      "source": []
    },
    {
      "cell_type": "markdown",
      "metadata": {
        "id": "Y8Lb4RpO7Rlx"
      },
      "source": [
        "##### **Usando a função `median()`**"
      ]
    },
    {
      "cell_type": "code",
      "execution_count": null,
      "metadata": {
        "id": "BI2m6lP1j0SN"
      },
      "outputs": [],
      "source": []
    },
    {
      "cell_type": "code",
      "execution_count": null,
      "metadata": {
        "id": "JUY8KyNHj0OF"
      },
      "outputs": [],
      "source": []
    },
    {
      "cell_type": "markdown",
      "metadata": {
        "id": "tWyxUtqq7UYq"
      },
      "source": [
        "#### ***Por que usar a mediana ao invés da média neste caso?***\n",
        "\n",
        "Porque a **média** pode ser influenciada por valores extremos, enquanto a **mediana** reflete o ponto central das vendas, oferecendo uma medida de tendência central mais adequada em casos de dados assimétricos.\n",
        "\n",
        "A mediana indica aqui que metade dos clientes gasta até, aproximadamente, R\\$ 2.990,00 em eletrônicos, enquanto a média (R$ 3.970,00) sugere que há vendas bastante altas puxando o valor médio para cima.\n",
        "\n",
        "---\n",
        "\n"
      ]
    },
    {
      "cell_type": "markdown",
      "metadata": {
        "id": "338fE8qL7WGa"
      },
      "source": [
        "##### **Visualizando diferença graficamente**\n",
        "\n",
        "Para visualizar essa discrepância entre os dados, vamos criar um gráfico chamado **histograma**. Ele é uma espécie de gráfico de barras que demonstra uma distribuição de frequências.\n",
        "\n",
        "No histograma, a base de cada uma das barras representa uma classe e a altura representa a quantidade ou frequência absoluta com que o valor de cada classe ocorre."
      ]
    },
    {
      "cell_type": "code",
      "execution_count": null,
      "metadata": {
        "id": "SuOptAnsj2p9"
      },
      "outputs": [],
      "source": []
    },
    {
      "cell_type": "markdown",
      "metadata": {
        "id": "6qKzxqOa7ZPd"
      },
      "source": [
        "Como os dados de vendas de eletrônicos tiveram valores muito altos, o que elevou a média para **uma diferença de quase R$1.000,00** em relação à mediana, a mediana oferece uma métrica mais confiável para entender o comportamento típico do consumidor.\n",
        "\n",
        "Neste caso, a mediana seria o ideal para reportar ao time de vendas como valor esperado de compra das pessoas clientes da empresa na Região Nordeste para produtos eletrônicos.\n",
        "\n",
        "Essa informação pode auxiliar em estratégias de vendas como, por exemplo:\n",
        "\n",
        "1. Criar promoções em produtos na faixa da mediana para atrair mais consumidores \"típicos\".\n",
        "2. Destacar os produtos de alto valor nas campanhas de marketing para atingir clientes dispostos a gastar mais."
      ]
    },
    {
      "cell_type": "markdown",
      "metadata": {
        "id": "Xr64dC5d7bL0"
      },
      "source": [
        "Como desafio, que tal você analisar também as medianas para os diferentes sexos biológicos?"
      ]
    },
    {
      "cell_type": "markdown",
      "metadata": {
        "id": "I_hLmh_dMarM"
      },
      "source": [
        "## **3.3 Identificando os valores mais frequentes**\n",
        "\n",
        "---\n",
        "\n"
      ]
    },
    {
      "cell_type": "markdown",
      "metadata": {
        "id": "rukYid-iMcTO"
      },
      "source": [
        "### <font color=\"#E23155\" face=\"Verdana\">Demanda 6: Campanha promocional de livros</font>"
      ]
    },
    {
      "cell_type": "markdown",
      "metadata": {
        "id": "90VZ90o98Jbr"
      },
      "source": [
        "A equipe de marketing e vendas da empresa em que estamos prestando consultoria, está planejando uma nova campanha promocional de \"Pague X e Leve Y Livros\". Para definir a quantidade de livros a ofertar no pacote, eles decidiram basear-se na quantidade de livros mais frequentemente comprada pelos clientes. Isso permite criar uma promoção direcionada ao comportamento mais comum dos consumidores.\n",
        "\n",
        "Precisamos então identificar qual ou quais quantidades de livro são mais frequentes para a campanha, maximizando a relevância e atratividade da promoção.\n"
      ]
    },
    {
      "cell_type": "markdown",
      "metadata": {
        "id": "D8xb8DsM8LWc"
      },
      "source": [
        "### **Moda ($M_o$)**\n",
        "\n",
        "A **moda** representa o valor mais frequente de um conjunto de dados. Para obtermos a moda, basta observar a frequência com que os valores aparecem no conjunto de dados.\n",
        "\n",
        "Esta medida é bastante utilizada para dados qualitativos, mas também tem aplicações em dados numéricos como em nosso exemplo."
      ]
    },
    {
      "cell_type": "markdown",
      "metadata": {
        "id": "ZD5pcjT_8NWD"
      },
      "source": [
        "### <font color=\"#E23155\" face=\"Verdana\">Solução:</font>"
      ]
    },
    {
      "cell_type": "code",
      "execution_count": null,
      "metadata": {
        "id": "xf0LLRmcj8fC"
      },
      "outputs": [],
      "source": []
    },
    {
      "cell_type": "markdown",
      "metadata": {
        "id": "xZqpx8Om8PXh"
      },
      "source": [
        "Existem $n$ formas de encontrar a moda de uma variável. Em dados qualitativos, podemos contar, por exemplo, as ocorrências e pegar a que mais se repete. Já fizemos isso por meio das distribuições de frequência para uma variável."
      ]
    },
    {
      "cell_type": "code",
      "execution_count": null,
      "metadata": {
        "id": "dsiCNIj9j9ud"
      },
      "outputs": [],
      "source": []
    },
    {
      "cell_type": "markdown",
      "metadata": {
        "id": "SxQqGkOI8SlR"
      },
      "source": [
        "#### ***Quais cuidados devemos ter com a moda?***\n",
        "\n",
        "Por ser o valor mais frequente em um conjunto de dados, em dados numéricos é possível que haja repetições e, por isso, teremos mais de 1 moda (multimodalidade).\n",
        "\n",
        "É importante decidir como lidar com esses casos para atingir o comportamento desejado.\n"
      ]
    },
    {
      "cell_type": "markdown",
      "metadata": {
        "id": "pMouuOxs8USS"
      },
      "source": [
        "A outra forma, utilizando dados quantitativos e/ou qualitativos é por meio também da contagem para cada ocorrência, mas filtrando os máximos ao final, para verificar se a amostra possui uma única moda ou mais."
      ]
    },
    {
      "cell_type": "code",
      "execution_count": null,
      "metadata": {
        "id": "7v_k3ekFj_yp"
      },
      "outputs": [],
      "source": []
    },
    {
      "cell_type": "code",
      "execution_count": null,
      "metadata": {
        "id": "rP5DfIyyj_tH"
      },
      "outputs": [],
      "source": []
    },
    {
      "cell_type": "markdown",
      "metadata": {
        "id": "vlZxi5ot8WN3"
      },
      "source": [
        "Conseguimos observar aqui que temos **2 modas** na quantidade de livros vendidos (**bimodal**) e, portanto, podemos reportar esse resultado ficando a cargo da empresa qual campanha realizar.\n",
        "\n",
        "Será que vale a pena para menos livros ou para mais livros? Ou seria melhor 2 campanhas como \"Pague 2 e Leve 3\" e \"Pague 4 e leve 6\", verificando qual converte mais clientes e gera mais vendas?"
      ]
    },
    {
      "cell_type": "markdown",
      "metadata": {
        "id": "vaK7ctdMMjSn"
      },
      "source": [
        "## **3.4 Compreendendo a relação entre média, mediana e moda**\n",
        "\n",
        "---\n"
      ]
    },
    {
      "cell_type": "markdown",
      "metadata": {
        "id": "-Nl4kK-MMk2T"
      },
      "source": [
        "### <font color=\"#E23155\" face=\"Verdana\">Demanda 7: Investigando as avaliações e sua relação com o tempo de entrega</font>"
      ]
    },
    {
      "cell_type": "markdown",
      "metadata": {
        "id": "sf4pC1Xf8jEh"
      },
      "source": [
        "A equipe de marketing e vendas da empresa recebeu feedbacks de clientes sobre o tempo de entrega. Eles notaram que avaliações \"Ótima\" (nota 5) podem ter certa  relação com o tempo de entrega.\n",
        "\n",
        "A hipótese é que clientes mais satisfeitos (nota 5) tendem a ter um tempo de entrega mais curto, mas isso só pode ser confirmado analisando os dados.\n",
        "Com isso, queremos explorar:\n",
        "* As distribuições do tempo de entrega e o que as medidas de tendência central podem nos informar.\n",
        "* Se o comportamento das avaliações nota 5 realmente indica que entregas mais rápidas são mais apreciadas pelos clientes.\n"
      ]
    },
    {
      "cell_type": "markdown",
      "metadata": {
        "id": "cTYBcvvP8l7g"
      },
      "source": [
        "### <font color=\"#E23155\" face=\"Verdana\">Solução:</font>"
      ]
    },
    {
      "cell_type": "markdown",
      "metadata": {
        "id": "vDbGJoQg8nXK"
      },
      "source": [
        "Faremos uma análise em duas etapas:\n",
        "\n",
        "1. **Distribuição do tempo de entrega:** calcularemos média, mediana e moda e visualizaremos a curva de densidade.\n",
        "2. **Distribuição para avaliações nota 5:** repetiremos o processo para o caso, comparando os resultados com a distribuição geral."
      ]
    },
    {
      "cell_type": "markdown",
      "metadata": {
        "id": "5_Ue_sy38o-Y"
      },
      "source": [
        "### Relação entre média, mediana e moda:\n",
        "\n",
        "Investigar a relação entre as medidas de tendência central pode ser bastante útil para identificar se uma variável é simétrica ou assimétrica, se precisa de algum tipo de transformação ou se é uma forte candidata a ter \"outliers\".\n",
        "\n",
        "Abaixo, temos 3 tipos de comportamentos e como as estatísticas se posicionam em cada uma delas:\n",
        "\n",
        "![texto do link](https://github.com/afonsosr2/estatistica-r-frequencias-medidas/blob/main/imagens/outros/relacao_media_mediana_moda.png?raw=true)\n"
      ]
    },
    {
      "cell_type": "markdown",
      "metadata": {
        "id": "0iw9Fy0E8qn8"
      },
      "source": [
        "Vamos começar com a distribuição do tempo de entrega. Vou primeiro construir um histograma com uma curva de densidade, semelhante a um dos exemplos de cima para observar o comportamento dos tempos de entrega da empresa."
      ]
    },
    {
      "cell_type": "code",
      "execution_count": null,
      "metadata": {
        "id": "dDPVmhrxkEJA"
      },
      "outputs": [],
      "source": []
    },
    {
      "cell_type": "code",
      "execution_count": null,
      "metadata": {
        "id": "Dw3FccRTkEAc"
      },
      "outputs": [],
      "source": []
    },
    {
      "cell_type": "code",
      "execution_count": null,
      "metadata": {
        "id": "hHNi8Vx_kD8H"
      },
      "outputs": [],
      "source": []
    },
    {
      "cell_type": "markdown",
      "metadata": {
        "id": "9Mmzq0tE8tM2"
      },
      "source": [
        "A análise inicial revelou que o tempo de entrega segue uma **distribuição normal simétrica**.\n",
        "\n",
        "Precisamos agora investigar se a distribuição muda para tempos de entrega com vendas com notas de satisfação 5.\n",
        "\n",
        "Nossa hipótese é que esta distribuição sera apresentada com uma **curva assimétrica à direita**. O que pode sugerir que entregas mais rápidas podem estar relacionadas a maior satisfação do cliente."
      ]
    },
    {
      "cell_type": "code",
      "execution_count": null,
      "metadata": {
        "id": "N1_aN2SCkFQZ"
      },
      "outputs": [],
      "source": []
    },
    {
      "cell_type": "code",
      "execution_count": null,
      "metadata": {
        "id": "hgGl6dyPkFMP"
      },
      "outputs": [],
      "source": []
    },
    {
      "cell_type": "code",
      "execution_count": null,
      "metadata": {
        "id": "ydSIkKLZkGdY"
      },
      "outputs": [],
      "source": []
    },
    {
      "cell_type": "markdown",
      "metadata": {
        "id": "CikmzaqF8waw"
      },
      "source": [
        "Os dados confirmam que entregas mais rápidas estão associadas a avaliações nota 5, embora algumas poucas entregas mais longas ainda recebam notas altas. Esses insights destacam a importância de **manter prazos curtos de entrega para maximizar a satisfação dos clientes**.\n",
        "\n",
        "Com essa análise, a equipe de marketing e vendas aliada à logística pode usar os resultados para:\n",
        "\n",
        "1. Otimizar rotas e processos de entrega para reduzir o tempo de entrega médio.\n",
        "2. Diferenciar campanhas promocionais com base na promessa de entregas rápidas."
      ]
    },
    {
      "cell_type": "markdown",
      "metadata": {
        "id": "AsBGdfK0DzLt"
      },
      "source": [
        "# **4. Investigando os dados dos colaboradores**\n",
        "\n",
        "---"
      ]
    },
    {
      "cell_type": "markdown",
      "metadata": {
        "id": "JRNVKX1YPWLq"
      },
      "source": [
        "Agora, vamos partir para análises das remunerações dos colaboradores, a pedido do setor do RH e financeiro da empresa da empresa de e-commerce.\n",
        "\n",
        "Vamos prosseguir utilizando alguns conceitos da estatística para investigar os dados que trazem informações sobre a remuneração dos colaboradores, passando pelos salários, desempenho atual. Vamos trazer alguns insights analisando criticamente, por exemplo, a equidade salarial entre cargos e gênero e respondendo a perguntas do setor do RH e financeiro da empresa.\n"
      ]
    },
    {
      "cell_type": "markdown",
      "metadata": {
        "id": "aV0q3H8GPXwc"
      },
      "source": [
        "## **4.1 Criando o histograma de salários com amplitude fixa**\n",
        "\n",
        "---\n"
      ]
    },
    {
      "cell_type": "markdown",
      "metadata": {
        "id": "idpRhGOINH5N"
      },
      "source": [
        "### <font color=\"#E23155\" face=\"Verdana\">Demanda 8: Iniciando as análises da remuneração dos colaboradores\n",
        "\n",
        "</font>"
      ]
    },
    {
      "cell_type": "markdown",
      "metadata": {
        "id": "SrgZDsI6-qnt"
      },
      "source": [
        "A equipe de RH e financeiro da empresa de e-commerce que estamos prestando consultoria quer investigar a distribuição dos salários dos colaboradores para identificar possíveis faixas salariais e verificar a concentração de colaboradores em determinados intervalos. Essas informações serão usadas para ajustar benefícios, analisar disparidades salariais e planejar estratégias de retenção de talentos.\n",
        "\n",
        "Nosso objetivo, é ler a base com os dados e criar uma distribuição de frequências com base em classes de salários utilizando os conceitos da estatística tanto para visualizar os dados em um histograma quanto para identificar as faixas salariais mais representativas."
      ]
    },
    {
      "cell_type": "markdown",
      "metadata": {
        "id": "AxJG2Rco-sVZ"
      },
      "source": [
        "### <font color=\"#E23155\" face=\"Verdana\">Solução:</font>"
      ]
    },
    {
      "cell_type": "markdown",
      "metadata": {
        "id": "R05TuMtE-t7-"
      },
      "source": [
        "Para calcular o número de classes utilizaremos a **Regra de Sturges** para em sequência segmentar os salários em faixas e calcular a frequência absoluta e relativa de cada faixa. Por fim, construiremos um histograma para visualizar os dados."
      ]
    },
    {
      "cell_type": "markdown",
      "metadata": {
        "id": "LxHzSOTc-vfT"
      },
      "source": [
        "#### **Definindo o número de classes**"
      ]
    },
    {
      "cell_type": "markdown",
      "metadata": {
        "id": "DoR-Vq-_-wyr"
      },
      "source": [
        "##### **Regra de Sturges**\n",
        "\n",
        "Calcula o número de classes de uma distribuição com base no tamanho da amostra:\n",
        "\n",
        "# $$k = 1 + \\frac {10}{3}\\log_{10}n$$\n",
        "\n",
        "onde,\n",
        "\n",
        "$k$ = número de classes\n",
        "\n",
        "$n$ = número de observações.\n",
        "\n"
      ]
    },
    {
      "cell_type": "code",
      "execution_count": null,
      "metadata": {
        "id": "olLlV3WzkOWG"
      },
      "outputs": [],
      "source": [
        "url = 'https://raw.githubusercontent.com/alura-cursos/Estatisticas-Python-frequencias-medidas/refs/heads/main/dados/colaboradores.csv'\n",
        "colaboradores = pd.read_csv(url)"
      ]
    },
    {
      "cell_type": "code",
      "execution_count": null,
      "metadata": {
        "id": "Zz5gS7AKkORP"
      },
      "outputs": [],
      "source": []
    },
    {
      "cell_type": "code",
      "execution_count": null,
      "metadata": {
        "id": "6cHEXnGFkNpc"
      },
      "outputs": [],
      "source": []
    },
    {
      "cell_type": "code",
      "execution_count": null,
      "metadata": {
        "id": "8AvquegokPk0"
      },
      "outputs": [],
      "source": []
    },
    {
      "cell_type": "code",
      "execution_count": null,
      "metadata": {
        "id": "wzKeKYt1kPhr"
      },
      "outputs": [],
      "source": []
    },
    {
      "cell_type": "markdown",
      "metadata": {
        "id": "OgPd_yXlEP6r"
      },
      "source": [
        "#### **Criando a tabela de frequências**"
      ]
    },
    {
      "cell_type": "code",
      "execution_count": null,
      "metadata": {
        "id": "SLJCp0iIkTSH"
      },
      "outputs": [],
      "source": []
    },
    {
      "cell_type": "code",
      "execution_count": null,
      "metadata": {
        "id": "Dcm3yCMDkULy"
      },
      "outputs": [],
      "source": []
    },
    {
      "cell_type": "markdown",
      "metadata": {
        "id": "9ASbyGcoEVAq"
      },
      "source": [
        "A tabela de frequências mostra os intervalos de salários (faixas) e a concentração de colaboradores em cada uma.\n",
        "\n",
        "* Podemos observar que mais da metade dos colaboradores (52,5%) são remunerados dentro da 1ª faixa (de R\\$ 1.890,00 até R\\$4.080,00).\n",
        "* Proporção de Colaboradores: A coluna de porcentagem fornece insights sobre a distribuição relativa dos colaboradores, útil para comparações."
      ]
    },
    {
      "cell_type": "markdown",
      "metadata": {
        "id": "FwZr9mioEwug"
      },
      "source": [
        "#### **Construindo o histograma**"
      ]
    },
    {
      "cell_type": "code",
      "execution_count": null,
      "metadata": {
        "id": "62qWQRkFkVEF"
      },
      "outputs": [],
      "source": []
    },
    {
      "cell_type": "code",
      "execution_count": null,
      "metadata": {
        "id": "7kyC7KuMkWO2"
      },
      "outputs": [],
      "source": []
    },
    {
      "cell_type": "markdown",
      "metadata": {
        "id": "c046w3VREzYl"
      },
      "source": [
        "O histograma apresenta a distribuição visual da nossa tabela de frequência. Conseguimos notar um comportamento assimétrico à direita, como esperado para salários em uma empresa.\n",
        "Notamos que a distribuição de salários está com mais de 95% das remunerações até R\\$ 10.000,00."
      ]
    },
    {
      "cell_type": "markdown",
      "metadata": {
        "id": "dRX8627hNI49"
      },
      "source": [
        "## **4.2 Avaliando os salários pelas medidas separatrizes**\n",
        "\n",
        "---\n",
        "\n"
      ]
    },
    {
      "cell_type": "markdown",
      "metadata": {
        "id": "64g_fCdINK8E"
      },
      "source": [
        "### <font color=\"#E23155\" face=\"Verdana\">Demanda 9: Análise de remuneração dos colaboradores</font>"
      ]
    },
    {
      "cell_type": "markdown",
      "metadata": {
        "id": "RbShP8iiHDem"
      },
      "source": [
        "Agora, a equipe de RH e financeiro da empresa quer entender melhor a distribuição dos salários dos colaboradores dentro de faixas específicas. Há um interesse em identificar faixas salariais e entender se a remuneração das pessoas coordenadoras estão dentro dos 99% maiores salários.\n",
        "\n",
        "Como calcular e interpretar esses dados para gerar insights úteis ao RH e ao financeiro? Além disso, como comunicar essas análises de forma clara para orientar decisões estratégicas?"
      ]
    },
    {
      "cell_type": "markdown",
      "metadata": {
        "id": "ORygy6BmHIt6"
      },
      "source": [
        "### **Quartis, decis e percentis**\n",
        "\n",
        "São medidas de posição semelhantes à mediana, embora não sejam medidas de tendência central. Como se sabe, a mediana divide a distribuição em duas partes iguais quanto ao número de elementos de cada parte. Para essas 3 medidas temos:\n",
        "\n",
        "* **Quartis:** Dividem os dados em 4 partes iguais de acordo com o número de registros, sendo bastante importante para identificar faixas.\n",
        "\n",
        "* **Decis:** Dividem os dados em 10 partes iguais.\n",
        "\n",
        "* **Percentis:** Dividem os dados em 100 partes iguais, que ajuda em análises mais granulares, como os 5% ou 1% maiores valores.\n",
        "\n"
      ]
    },
    {
      "cell_type": "markdown",
      "metadata": {
        "id": "Q7vNVvtaHKm-"
      },
      "source": [
        "### <font color=\"#E23155\" face=\"Verdana\">Solução:</font>"
      ]
    },
    {
      "cell_type": "markdown",
      "metadata": {
        "id": "CdTHJ72dHMEt"
      },
      "source": [
        "Para os salários, utilizaremos os quartis para observar as faixas salariais e o percentil acima de 99% para identificar se as pessoas coordenadoras estão entre os salários mais altos."
      ]
    },
    {
      "cell_type": "markdown",
      "metadata": {
        "id": "UhWvsw8GHOBv"
      },
      "source": [
        "#### **Calculando os quartis**"
      ]
    },
    {
      "cell_type": "code",
      "execution_count": null,
      "metadata": {
        "id": "jfBvlGIYki3y"
      },
      "outputs": [],
      "source": []
    },
    {
      "cell_type": "markdown",
      "metadata": {
        "id": "aspdJ0sWHRN4"
      },
      "source": [
        "#### **Visualizando os quartis em um Histograma**"
      ]
    },
    {
      "cell_type": "code",
      "execution_count": null,
      "metadata": {
        "id": "mIrPX9shkkUs"
      },
      "outputs": [],
      "source": []
    },
    {
      "cell_type": "markdown",
      "metadata": {
        "id": "ydNDN2O1HTxe"
      },
      "source": [
        "Com os quartis conseguimos dividir as faixas salariais em partes iguais. Aqui conseguimos observar que por conta dos altos salários dos cargos mais gerenciais da empresa, temos uma **distribuição mais assimétrica** da remuneração.\n",
        "\n",
        "O que é um comportamento esperado para salário: muitos recebem um valor base e poucos com altos salários."
      ]
    },
    {
      "cell_type": "markdown",
      "metadata": {
        "id": "K_OSOG2nHU28"
      },
      "source": [
        "#### **Analisando os salários das pessoas coordenadoras**"
      ]
    },
    {
      "cell_type": "markdown",
      "metadata": {
        "id": "ge5YnXvaHW6E"
      },
      "source": [
        "Vamos prosseguir nossa investigação verificando se as pessoas coordenadoras (3º em hierarquia na nossa base) estão entre os 1% com maiores salários."
      ]
    },
    {
      "cell_type": "code",
      "execution_count": null,
      "metadata": {
        "id": "1ttK35IsknRA"
      },
      "outputs": [],
      "source": []
    },
    {
      "cell_type": "code",
      "execution_count": null,
      "metadata": {
        "id": "lARNg46_knLZ"
      },
      "outputs": [],
      "source": []
    },
    {
      "cell_type": "code",
      "execution_count": null,
      "metadata": {
        "id": "J1opdEq9knGJ"
      },
      "outputs": [],
      "source": []
    },
    {
      "cell_type": "markdown",
      "metadata": {
        "id": "fkLSMGyWHbbi"
      },
      "source": [
        "Com isso, conseguimos comprovar que as pessoas coordenadoras estão entre os 1% que recebem maiores salários dentro da empresa. Podemos repassar essa informação para o RH e financeiro da empresa para averiguar se está dentro das políticas salariais. E, se possível, analisando mais perfis, eles poderão definir políticas de remuneração mais transparentes e alinhadas ao mercado."
      ]
    },
    {
      "cell_type": "markdown",
      "metadata": {
        "id": "kmqN1SR1NMmh"
      },
      "source": [
        "## **4.3 Classificando dados pelas medidas separatrizes**\n",
        "\n",
        "---"
      ]
    },
    {
      "cell_type": "markdown",
      "metadata": {
        "id": "5h5AeufUNScL"
      },
      "source": [
        "### <font color=\"#E23155\" face=\"Verdana\">Demanda 10: Pesquisa de colaboradores mais jovens</font>"
      ]
    },
    {
      "cell_type": "markdown",
      "metadata": {
        "id": "1v1JMABGNI7m"
      },
      "source": [
        "Nesta nova demanda, a equipe de RH da empresa quer realizar uma pesquisa em torno das idades dos colaboradores. Isto porque a empresa deseja identificar o grupo mais jovem (**20% mais novos**) para implementar um programa de aceleração profissional com cursos e treinamentos voltados ao desenvolvimento de jovens talentos.\n",
        "\n",
        "Como calcular e interpretar esses dados para repassar ao RH?"
      ]
    },
    {
      "cell_type": "markdown",
      "metadata": {
        "id": "us4698S6NLHE"
      },
      "source": [
        "### <font color=\"#E23155\" face=\"Verdana\">Solução - Analisando as idades:</font>"
      ]
    },
    {
      "cell_type": "markdown",
      "metadata": {
        "id": "26rnBsVYNMjr"
      },
      "source": [
        "Para as idades, visualizaremos a distribuição, classificaremos as idades percentualmente, e determinaremos o ponto de corte para o grupo de 20% mais jovens, que poderão ser contemplados com o programa de aceleração profissional.\n"
      ]
    },
    {
      "cell_type": "markdown",
      "metadata": {
        "id": "zxKGGxb3NPCu"
      },
      "source": [
        "#### **Visualizando a faixa etária desejada**"
      ]
    },
    {
      "cell_type": "code",
      "execution_count": null,
      "metadata": {
        "id": "vwGEMwbekqEn"
      },
      "outputs": [],
      "source": []
    },
    {
      "cell_type": "markdown",
      "metadata": {
        "id": "hh7iH1O6NRdK"
      },
      "source": [
        "#### **Classificando os colaboradores e identificando público**"
      ]
    },
    {
      "cell_type": "code",
      "execution_count": null,
      "metadata": {
        "id": "1MKu8F5Akrj9"
      },
      "outputs": [],
      "source": []
    },
    {
      "cell_type": "code",
      "execution_count": null,
      "metadata": {
        "id": "uUW3osdbks56"
      },
      "outputs": [],
      "source": []
    },
    {
      "cell_type": "code",
      "execution_count": null,
      "metadata": {
        "id": "EgKoTOQfktnO"
      },
      "outputs": [],
      "source": []
    },
    {
      "cell_type": "markdown",
      "metadata": {
        "id": "5z0cbX1LNUZF"
      },
      "source": [
        "Com base na análise, identificamos que há **2.218 pessoas** qualificadas para o programa, representando os **20% mais jovens do total de colaboradores**. Esse grupo pode ser o alvo ideal para o programa de aceleração profissional, já que engloba aqueles que estão no início de suas carreiras.\n",
        "\n",
        "Agora, podemos reportar ao RH a lista de funcionários dentro da qualificação desejada, o que ajudará no planejamento do programa para jovens talentos, fortalecendo a cultura organizacional e promovendo o desenvolvimento profissional."
      ]
    },
    {
      "cell_type": "markdown",
      "metadata": {
        "id": "AvHVpbyxNPyf"
      },
      "source": [
        "## **4.4 Construindo um boxplot para visualização das distribuições**\n",
        "\n",
        "---\n",
        "\n"
      ]
    },
    {
      "cell_type": "markdown",
      "metadata": {
        "id": "SFjXkMJXNVZD"
      },
      "source": [
        "### <font color=\"#E23155\" face=\"Verdana\">Demanda 11: Análise de remuneração dos colaboradores pelo sexo</font>"
      ]
    },
    {
      "cell_type": "markdown",
      "metadata": {
        "id": "Y92NzX12RY3H"
      },
      "source": [
        "A equipe de RH e financeiro da empresa requisitou uma nova análise das distribuições salariais. Ela tem interesse em investigar as diferenças salariais entre os sexos biológicos masculino e feminino, buscando informações para reforçar a importância de garantir a equidade salarial.\n",
        "\n",
        "Os dados salariais não são fáceis de interpretar em tabelas ou gráficos convencionais. É necessário um visual que permita identificar algumas medidas de tendência central , faixas de salário e até possíveis outliers, além de comparar visualmente as distribuições entre diferentes grupos.\n",
        "\n",
        "Com isso, o RH também pode direcionar ações voltadas à igualdade salarial."
      ]
    },
    {
      "cell_type": "markdown",
      "metadata": {
        "id": "OOaRrsWiRax-"
      },
      "source": [
        "### **Boxplot**\n",
        "\n",
        "![texto do link](https://github.com/afonsosr2/estatistica-r-frequencias-medidas/blob/main/imagens/outros/boxplot.png?raw=true)\n",
        "\n",
        "O **boxplot** é uma representação visual que mostra a distribuição de dados quantitativos, facilitando comparações entre variáveis ou categorias.\n",
        "\n",
        "Os elementos principais de um boxplot são:\n",
        "\n",
        "* **Caixa:** Representa o intervalo\n",
        "interquartil (IIQ), que vai do primeiro quartil (Q1 - 25% dos dados) ao terceiro quartil (Q3 - 75% dos dados).\n",
        "\n",
        "* **Linha mediana:** Onde está posicionado a mediana (Q2), valor que separa 50% dos dados.\n",
        "\n",
        "* **Whiskers (\"bigodes\"):** Extensões que mostram a variabilidade fora do intervalo interquartil, geralmente até 1,5 vezes o IIQ a partir dos quartis.\n",
        "\n",
        "* **Outliers:** Pontos individuais que estão fora do alcance dos *whiskers*, indicados separadamente.\n",
        "\n",
        "Essa visualização ajuda a identificar a centralidade, dispersão e possíveis outliers em um conjunto de dados.\n",
        "\n"
      ]
    },
    {
      "cell_type": "markdown",
      "metadata": {
        "id": "7G3SNz1eRc8_"
      },
      "source": [
        "### <font color=\"#E23155\" face=\"Verdana\">Solução:</font>"
      ]
    },
    {
      "cell_type": "markdown",
      "metadata": {
        "id": "l1O0RAJ4ReXV"
      },
      "source": [
        "Vamos construir e interpretar boxplots para visualizar a distribuição das variáveis. Analisaremos diferenças salariais entre os sexos e discutiremos possíveis ações para promover equidade."
      ]
    },
    {
      "cell_type": "code",
      "execution_count": null,
      "metadata": {
        "id": "q-U_hTfckwn2"
      },
      "outputs": [],
      "source": []
    },
    {
      "cell_type": "markdown",
      "metadata": {
        "id": "UysvckB5RgaE"
      },
      "source": [
        "Para sabermos os valores de cada elemento do boxplot, podemos utilizar as funções quando estudamos os quartis das remunerações ou chamar a função `describe()` que resume nossos dados com as principais estatísticas descritivas."
      ]
    },
    {
      "cell_type": "code",
      "execution_count": null,
      "metadata": {
        "id": "71XhI_Uxkxj-"
      },
      "outputs": [],
      "source": []
    },
    {
      "cell_type": "markdown",
      "metadata": {
        "id": "8kLovmQCRi3k"
      },
      "source": [
        "Agora, vamos partir para o foco da nossa análise que é a comparação entre os sexos biológicos:"
      ]
    },
    {
      "cell_type": "code",
      "execution_count": null,
      "metadata": {
        "id": "Wd_fUO_Dky0M"
      },
      "outputs": [],
      "source": []
    },
    {
      "cell_type": "markdown",
      "metadata": {
        "id": "04NFPVJoRlBz"
      },
      "source": [
        "Aplicando a análise visual, conseguimos notar que aparentemente as pessoas do sexo masculino possuem uma distribuição salarial maior que a do sexo feminino, mas com os candidatos à outliers que temos ainda não fica tão clara essa diferença.\n",
        "\n",
        "> **Obs:** Outliers indicam indivíduos com salários significativamente maiores ou menores.\n",
        "\n",
        "Como estudamos anteriormente, mais de 95% das remunerações chegam até R$ 10.000,00. Podemos usar esse fator para filtrar os dados e observar com mais facilidade essa diferença salarial."
      ]
    },
    {
      "cell_type": "code",
      "execution_count": null,
      "metadata": {
        "id": "yvHPC92fk0qO"
      },
      "outputs": [],
      "source": []
    },
    {
      "cell_type": "code",
      "execution_count": null,
      "metadata": {
        "id": "LVd3GkD1k0ib"
      },
      "outputs": [],
      "source": []
    },
    {
      "cell_type": "markdown",
      "metadata": {
        "id": "1LPh0o7yRoID"
      },
      "source": [
        "Notamos aqui que **a mediana dos salários para pessoas do sexo feminino é menor** que a das pessoas com sexo masculino, sendo o primeiro abaixo **R$ 4.000,00** e o segundo acima desse valor.\n",
        "\n",
        "Para reforçar a análise, vamos calcular as estatísticas descritivas para cada grupo."
      ]
    },
    {
      "cell_type": "code",
      "execution_count": null,
      "metadata": {
        "id": "REpuXbHEk4mr"
      },
      "outputs": [],
      "source": []
    },
    {
      "cell_type": "markdown",
      "metadata": {
        "id": "P3roaiKARpNV"
      },
      "source": [
        "Podemos reportar os resultados para o RH da empresa que deve investigar as causas, especialmente ao considerar cargos similares. Com isso, será possível que a equipe realize ações que busquem revisar políticas salariais para garantir igualdade e realizar análises adicionais considerando fatores como cargo, experiência e desempenho."
      ]
    },
    {
      "cell_type": "markdown",
      "metadata": {
        "id": "sVgnDXWKD11k"
      },
      "source": [
        "# **5. Analisando as variações dos dados**\n",
        "\n",
        "---"
      ]
    },
    {
      "cell_type": "markdown",
      "metadata": {
        "id": "MdhnhGk2M3sT"
      },
      "source": [
        "## **5.1 Calculando o desvio médio absoluto**\n",
        "\n",
        "---\n"
      ]
    },
    {
      "cell_type": "markdown",
      "metadata": {
        "id": "-6NYHNLaM7tl"
      },
      "source": [
        "### <font color=\"#E23155\" face=\"Verdana\">Demanda 12: Analisando diferenças salariais - Parte 1</font>"
      ]
    },
    {
      "cell_type": "markdown",
      "metadata": {
        "id": "c7cujIPQWKXw"
      },
      "source": [
        "A equipe de RH e financeiro da empresa de e-commerce recebeu alguns feedbacks sobre uma possível falta de padrão entre os salários dos cargos de **Inteligência comercial** e **Consultor(a) de vendas**.\n",
        "\n",
        "Com que aprendemos até o momento, apenas as medidas de tendência central (média e mediana) não são suficientes para avaliar a uniformidade dos salários. É necessário um indicador de dispersão que mostre como os salários se distribuem em relação à média, revelando inconsistências.\n",
        "\n",
        "O objetivo é investigar as faixas salariais desses cargos.\n",
        "\n",
        "\n",
        "\n"
      ]
    },
    {
      "cell_type": "markdown",
      "metadata": {
        "id": "S3zyeqHfWL-U"
      },
      "source": [
        "#### **Medidas de dispersão**\n",
        "As **medidas de dispersão** são utilizadas para indicar o grau da variação dos valores de uma variável quantitativa em relação à sua média.\n",
        "\n",
        "Embora as medidas de tendência central e de posição forneçam uma sumarização bastante importante dos dados, elas podem não ser suficientes para caracterizar conjuntos distintos, especialmente quando as observações de determinada distribuição apresentarem dados muito dispersos.\n",
        "\n",
        "#### **Desvio médio absoluto (MAD)**\n",
        "O **Desvio Médio Absoluto (MAD)** é uma medida para avaliar a dispersão dos dados que representa a média das diferenças absolutas entre cada valor e a média dos dados.\n",
        "\n",
        "# $$MAD = \\frac 1n\\sum_{i=1}^{n}|X_i-\\bar{X}|$$\n",
        "\n",
        "Onde:\n",
        "\n",
        "$n$ = número de observações\n",
        "\n",
        "$X_i$ = valores da i-ésima variável\n",
        "\n",
        "$\\bar{X}$ = a média da distribuição\n"
      ]
    },
    {
      "cell_type": "markdown",
      "metadata": {
        "id": "FkYIsKmtWN1B"
      },
      "source": [
        "### <font color=\"#E23155\" face=\"Verdana\">Solução:</font>"
      ]
    },
    {
      "cell_type": "markdown",
      "metadata": {
        "id": "Vwh3c12-WPdS"
      },
      "source": [
        "#### **Ler as estatísticas descritivas das remunerações**"
      ]
    },
    {
      "cell_type": "markdown",
      "metadata": {
        "id": "9cajizo0WQp2"
      },
      "source": [
        "Vamos começar lendo os valores de tendência central dos salários dos cargos de Inteligência comercial e Consultor(a) de vendas"
      ]
    },
    {
      "cell_type": "code",
      "execution_count": null,
      "metadata": {
        "id": "s3SCV3bck-dy"
      },
      "outputs": [],
      "source": []
    },
    {
      "cell_type": "code",
      "execution_count": null,
      "metadata": {
        "id": "X8w0irBEk-ZE"
      },
      "outputs": [],
      "source": []
    },
    {
      "cell_type": "markdown",
      "metadata": {
        "id": "Ex3cXDZBWSzh"
      },
      "source": [
        "Conseguimos notar que as médias e medianas estão bem próximas, então parece tudo ok, certo?\n",
        "\n",
        "**Não!** As medidas de tendência central servem para trazer um valor que generaliza nosso dado, mas que não representa a dispersão entre eles. Neste caso precisamos utilizar as medidas de dispersão para ter uma noção."
      ]
    },
    {
      "cell_type": "markdown",
      "metadata": {
        "id": "7oTGKpJgWUml"
      },
      "source": [
        "#### **Observando as variações das remunerações**"
      ]
    },
    {
      "cell_type": "code",
      "execution_count": null,
      "metadata": {
        "id": "ZjUypqt9lANZ"
      },
      "outputs": [],
      "source": []
    },
    {
      "cell_type": "code",
      "execution_count": null,
      "metadata": {
        "id": "2D6Z76f6lAJs"
      },
      "outputs": [],
      "source": []
    },
    {
      "cell_type": "code",
      "execution_count": null,
      "metadata": {
        "id": "xyfMDdHDlAGI"
      },
      "outputs": [],
      "source": []
    },
    {
      "cell_type": "code",
      "execution_count": null,
      "metadata": {
        "id": "UeWhdQlolBsQ"
      },
      "outputs": [],
      "source": []
    },
    {
      "cell_type": "markdown",
      "metadata": {
        "id": "lteF-YqbWXLG"
      },
      "source": [
        "Como dito anteriormente a média e mediana estão próximas entre os dois cargos. E o desvio médio absoluto é ligeiramente maior para as pessoas consultoras,  indicando maior dispersão se comparada com as pessoas da Inteligência comercial. Podemos visualizar graficamente essa variação entre elas."
      ]
    },
    {
      "cell_type": "markdown",
      "metadata": {
        "id": "hq2AbvhmWYxz"
      },
      "source": [
        "#### **Visualizando graficamente**"
      ]
    },
    {
      "cell_type": "code",
      "execution_count": null,
      "metadata": {
        "id": "-kzdzYLSlB_W"
      },
      "outputs": [],
      "source": []
    },
    {
      "cell_type": "markdown",
      "metadata": {
        "id": "H0-5GPh9WcfK"
      },
      "source": [
        "Conseguimos observar os comportamentos dos salários entre os profissionais de inteligência comercial e consultoria de vendas e percebemos que ambos têm média e mediana salariais muito próximas, com uma variação ligeiramente superior do cargo de inteligência comercial, que foi comprovado tanto pelo MAD quanto observando o intervalo interquartil (IIQ).\n",
        "\n",
        "A equipe de RH pode usar esses dados para:\n",
        "\n",
        "* Investigar os critérios de definição salarial para ambos, visto que o esperado era ter o mesmo nível salarial.\n",
        "* Estabelecer políticas salariais mais padronizadas para cargos equivalentes ou ser mais transparente na definição salarial dentro da empresa."
      ]
    },
    {
      "cell_type": "markdown",
      "metadata": {
        "id": "loZM7qj6NBmp"
      },
      "source": [
        "## **5.2 Calculando a variância e desvio padrão**\n",
        "\n",
        "---\n"
      ]
    },
    {
      "cell_type": "markdown",
      "metadata": {
        "id": "xOulTBD4M9qR"
      },
      "source": [
        "### <font color=\"#E23155\" face=\"Verdana\">Demanda 12: Analisando diferenças salariais - Parte 2</font>"
      ]
    },
    {
      "cell_type": "markdown",
      "metadata": {
        "id": "i6pXglhGXri8"
      },
      "source": [
        "A equipe de RH e financeiro da empresa de e-commerce também recebeu alguns feedbacks sobre uma possível falta de padrão entre os salários de dois cargos operacionais, Estoquista e Repositor(a), que representam o maior volume de funcionários da empresa.\n",
        "\n",
        "O objetivo é investigar também as faixas salariais desses cargos, determinar qual deles apresenta maior inconsistência e identificar padrões que possam sugerir desigualdades ou problemas de política salarial."
      ]
    },
    {
      "cell_type": "markdown",
      "metadata": {
        "id": "E9uQVq0qXs0k"
      },
      "source": [
        "#### **Variância ($\\sigma^2$ ou $S^2$)**\n",
        "A **variância** é uma medida de dispersão que mostra o quão distante cada valor de uma variável quantitativa está da média da sua distribuição.\n",
        "\n",
        "Ela é construída a partir das diferenças entre cada observação e a média dos dados, ou seja, o desvio em torno da média. No cálculo da variância, os desvios em torno da média são elevados ao quadrado.\n",
        "\n",
        "##### **Variância populacional**\n",
        "\n",
        "# $$\\sigma^2 = \\frac 1n\\sum_{i=1}^{n}(X_i-\\mu)^2$$\n",
        "\n",
        "##### **Variância amostral**\n",
        "\n",
        "# $$S^2 = \\frac 1{n-1}\\sum_{i=1}^{n}(X_i-\\bar{X})^2$$\n",
        "\n",
        "Onde:\n",
        "\n",
        "$n$ = número de observações\n",
        "\n",
        "$X_i$ = valores da i-ésima variável\n",
        "\n",
        "$\\mu$ e $\\bar{X}$ = média da população e amostra da distribuição, respectivamente\n"
      ]
    },
    {
      "cell_type": "markdown",
      "metadata": {
        "id": "U2EUBdPqXu5R"
      },
      "source": [
        "### <font color=\"#E23155\" face=\"Verdana\">Solução:</font>"
      ]
    },
    {
      "cell_type": "markdown",
      "metadata": {
        "id": "fHOFgkdUXvPn"
      },
      "source": [
        "#### **Ler as estatísticas descritivas das remunerações**"
      ]
    },
    {
      "cell_type": "markdown",
      "metadata": {
        "id": "TQZKhCdgXw80"
      },
      "source": [
        "Vamos começar lendo os valores de tendência central dos salários dos cargos de Estoquista e Repositor(a)"
      ]
    },
    {
      "cell_type": "code",
      "execution_count": null,
      "metadata": {
        "id": "Ydl8ggIulD_c"
      },
      "outputs": [],
      "source": []
    },
    {
      "cell_type": "code",
      "execution_count": null,
      "metadata": {
        "id": "BShyfCPslD7b"
      },
      "outputs": [],
      "source": []
    },
    {
      "cell_type": "code",
      "execution_count": null,
      "metadata": {
        "id": "2ZrHCPIJlD3V"
      },
      "outputs": [],
      "source": []
    },
    {
      "cell_type": "markdown",
      "metadata": {
        "id": "EYfK8WYSX4MX"
      },
      "source": [
        "Conseguimos notar que novamente as médias e medianas estão bem próximas. Precisamos utilizar as medidas de dispersão para ter uma noção se realmente temos uma diferença relevantes entre os salários dos dois cargos."
      ]
    },
    {
      "cell_type": "code",
      "execution_count": null,
      "metadata": {
        "id": "jvpZlNJClGYY"
      },
      "outputs": [],
      "source": []
    },
    {
      "cell_type": "markdown",
      "metadata": {
        "id": "1_QAnMIkX7sy"
      },
      "source": [
        "Números bem altos não é mesmo? O que isso significa?\n",
        "\n",
        "Como variância fornece os valores das medidas ao quadrado, representar o nosso resultado dessa forma dificultaria a comparação da dispersão com as variáveis que a definem.\n",
        "\n",
        "Um modo de eliminar essa dificuldade é utilizando o **desvio padrão**"
      ]
    },
    {
      "cell_type": "markdown",
      "metadata": {
        "id": "5vXAbjBIX9Hd"
      },
      "source": [
        "#### **Desvio padrão ($\\sigma$ ou $S$)**\n",
        "\n",
        "O desvio padrão é uma medida de dispersão que indica o grau de dispersão de um conjunto de dados. É expresso pela raiz quadrada da variância populacional ou amostral.\n",
        "\n",
        "Além de expressar a variabilidade da população, o desvio padrão pode ser utilizado para medir a confiança (nível de acerto esperado de uma estimativa) e geralmente permite sintetizar os resultados de amostras.\n",
        "\n",
        "\n",
        "##### **Desvio padão populacional**\n",
        "\n",
        "# $$\\sigma = \\sqrt{\\frac 1n\\sum_{i=1}^{n}(X_i-\\mu)^2} \\Longrightarrow \\sigma = \\sqrt{\\sigma^2}$$\n",
        "\n",
        "##### **Desvio padrão amostral**\n",
        "\n",
        "# $$S = \\sqrt{\\frac 1{n-1}\\sum_{i=1}^{n}(X_i-\\bar{X})^2} \\Longrightarrow S = \\sqrt{S^2}$$\n",
        "\n",
        "Onde:\n",
        "\n",
        "$n$ = número de observações\n",
        "\n",
        "$X_i$ = valores da i-ésima variável\n",
        "\n",
        "$\\mu$ e $\\bar{X}$ = média da população e amostra da distribuição, respectivamente\n"
      ]
    },
    {
      "cell_type": "code",
      "execution_count": null,
      "metadata": {
        "id": "D98Pw3BYlHX5"
      },
      "outputs": [],
      "source": []
    },
    {
      "cell_type": "markdown",
      "metadata": {
        "id": "OqPkblj4YUSC"
      },
      "source": [
        "O que podemos constatar aqui:\n",
        "1. **Média e Mediana:** Ambos os cargos têm valores próximos, indicando simetria na centralidade.\n",
        "\n",
        "2. **Variância e Desvio Padrão:** O cargo de Estoquista tem maior variância e desvio padrão, revelando maior dispersão nos salários.\n",
        "\n",
        "3. **MAD vs. Desvio Padrão:** Em ambos os casos o MAD é menor em relação ao desvio padrão, indicando que a dispersão está sendo influenciada por valores extremos."
      ]
    },
    {
      "cell_type": "markdown",
      "metadata": {
        "id": "5sfLCyqyYWCI"
      },
      "source": [
        "\n",
        "#### **Visualizando graficamente**"
      ]
    },
    {
      "cell_type": "code",
      "execution_count": null,
      "metadata": {
        "id": "Cjl-HJxHlIUh"
      },
      "outputs": [],
      "source": []
    },
    {
      "cell_type": "markdown",
      "metadata": {
        "id": "7-oIOXAlYYNk"
      },
      "source": [
        "Conseguimos observar os comportamentos dos salários entre os profissionais estoquistas e repositores e percebemos que ambos têm média e mediana salariais muito próximas, entretando notamos uma dispersão considerável entre os salários dos colaboradores, que foi comprovado tanto pelo desvio padrão e MAD quanto observando o intervalo interquartil (IIQ) no gráfico de violino.\n",
        "\n",
        "Consideração para o RH:\n",
        "\n",
        "* As métricas indicam que o cargo de Estoquista possui maior variabilidade salarial.\n",
        "* O RH deve investigar se essa inconsistência reflete discrepâncias injustas ou se há justificativas baseadas em mérito ou experiência.\n",
        "\n",
        "Como sugestão:\n",
        "* Ajuste das políticas para reduzir a inconsistência salarial, promovendo equidade.\n",
        "* Compartilhamento de mais informações para análise de outras métricas para maior robustez na análise."
      ]
    }
  ],
  "metadata": {
    "colab": {
      "collapsed_sections": [
        "aXvD2rsPDicS",
        "UNZZiHpAnSS-",
        "lmFhWRkinnP0",
        "eUBRumYDo7Hu",
        "PjCs3WacJ8xh",
        "lz_rMlOtDtso",
        "zHp0nFexFz6t",
        "GMfPrLjdF8jM",
        "pL3InDboGD42",
        "PG13hWS7L-k_",
        "GNOLac1oMBot",
        "V6iS-yqwDwQm",
        "Y3nmdRYXPJgZ",
        "g3zvC6ITMMWw",
        "tWyxUtqq7UYq",
        "338fE8qL7WGa",
        "I_hLmh_dMarM",
        "vaK7ctdMMjSn",
        "-Nl4kK-MMk2T",
        "5_Ue_sy38o-Y",
        "AsBGdfK0DzLt",
        "aV0q3H8GPXwc",
        "OgPd_yXlEP6r",
        "FwZr9mioEwug",
        "dRX8627hNI49",
        "64g_fCdINK8E",
        "Q7vNVvtaHKm-",
        "UhWvsw8GHOBv",
        "aspdJ0sWHRN4",
        "K_OSOG2nHU28",
        "kmqN1SR1NMmh",
        "hh7iH1O6NRdK",
        "AvHVpbyxNPyf"
      ],
      "include_colab_link": true,
      "provenance": []
    },
    "kernelspec": {
      "display_name": "Python 3",
      "name": "python3"
    },
    "language_info": {
      "name": "python",
      "version": "3.13.2"
    }
  },
<<<<<<< HEAD
  "nbformat": 4,
  "nbformat_minor": 0
}
=======
  "cells": [
    {
      "cell_type": "markdown",
      "metadata": {
        "id": "view-in-github",
        "colab_type": "text"
      },
      "source": [
        "<a href=\"https://colab.research.google.com/github/moises-rb/DataScienceOne/blob/main/Estatistica_MachineLearning/Projeto_Inicial_Estat%C3%ADstica_com_Python_frequencias_e_medidas.ipynb\" target=\"_parent\"><img src=\"https://colab.research.google.com/assets/colab-badge.svg\" alt=\"Open In Colab\"/></a>"
      ]
    },
    {
      "cell_type": "markdown",
      "source": [
        "# <font size=6>**Estatística com Python: resumindo e analisando dados**</font>"
      ],
      "metadata": {
        "id": "aXvD2rsPDicS"
      }
    },
    {
      "cell_type": "markdown",
      "source": [
        "Estamos prestando consultoria como **cientistas de dados** em uma grande rede de varejo que atende em todo Brasil.\n",
        "\n",
        "Aqui, precisaremos utilizar uma série de conceitos da estatística para investigar e auxiliar nos problemas e demandas que essa empresa está enfrentando, baseando suas decisões na análise dos dados recebidos.\n",
        "\n",
        "Neste projeto, vamos ter acesso a duas bases de dados passando por dois contextos distintos dentro da empresa:\n",
        "1. Análise do público e vendas, traçando o perfil da nossa clientela e gerando insights com esses dados respondendo a perguntas levantadas pelo setor de marketing e vendas\n",
        "2. Análise da remuneração dos colaboradores, passando pelos salários, desempenho atual e analisando criticamente a equidade salarial entre cargos e gênero, por exemplo. Isto, respondendo a perguntas do setor do RH e financeiro da empresa.\n",
        "\n",
        "**Base de dados**\n",
        "\n",
        "Vamos importar duas bases de dados:\n",
        "\n",
        "> Dados das vendas do e-commerce, separados pelo código identificador da compra.\n",
        "\n",
        "> Dados da remuneração dos colaboradores da empresa, separados pelo código identificador do(a) colaborador(a).\n",
        "\n",
        "Esses dados serão lidos a partir do repositório compartilhado pelo GitHub.\n",
        "\n",
        "**Desafio**\n",
        "\n",
        "Nosso desafio é aplicar os conceitos de **distribuições de frequência, medidas de tendência central, medidas separatizes e de dispersão e visualização de dados** para cada caso trazido por essa empresa para que possa agregar valor aos times e ajudar nos processos de decisão. Para isso, serão repassados alguns questionamentos ao longo do nosso projeto para que possamos contribuir na execução dessa demanda.\n",
        "\n",
        "Vamos utilizar a **linguagem Python** para responder todos os questionamentos levantados."
      ],
      "metadata": {
        "id": "VtyprZfbDlwW"
      }
    },
    {
      "cell_type": "markdown",
      "source": [
        "# **1. Entendendo os dados**\n",
        "\n",
        "---\n"
      ],
      "metadata": {
        "id": "UNZZiHpAnSS-"
      }
    },
    {
      "cell_type": "markdown",
      "source": [
        "## **1.1  Importando os pacotes e lendo os dados**"
      ],
      "metadata": {
        "id": "AxaRaI7hnZsA"
      }
    },
    {
      "cell_type": "markdown",
      "source": [
        "Como vamos explorar os dados das bases, gerar visualizações e responder a perguntas, vamos trazer um pacote extremamente importante e bastante utilizado por pessoas cientistas e pesquisadoras que é o `pandas`.\n",
        "\n",
        "https://pandas.pydata.org/"
      ],
      "metadata": {
        "id": "SQWrAZuzHh2i"
      }
    },
    {
      "cell_type": "code",
      "source": [
        "import pandas as pd"
      ],
      "metadata": {
        "id": "O6BY_gF0ihGR"
      },
      "execution_count": null,
      "outputs": []
    },
    {
      "cell_type": "markdown",
      "source": [
        "Vamos ler a nossa primeira base de dados para as análises do perfil da nossa clientela de acordo com as compras que realizaram.\n",
        "\n",
        "Vamos também salvar os dados em uma variável, para que possamos manipulá-los"
      ],
      "metadata": {
        "id": "2uF5RbNzIGeo"
      }
    },
    {
      "cell_type": "code",
      "source": [
        "url = 'https://raw.githubusercontent.com/alura-cursos/Estatisticas-Python-frequencias-medidas/refs/heads/main/dados/vendas_ecommerce.csv'\n",
        "df = pd.read_csv(url)\n",
        "df.head()"
      ],
      "metadata": {
        "id": "FSAhtmGJijsk",
        "colab": {
          "base_uri": "https://localhost:8080/"
        },
        "outputId": "b0966124-e7c0-4903-a0fa-976f50032c0f"
      },
      "execution_count": null,
      "outputs": [
        {
          "output_type": "execute_result",
          "data": {
            "text/plain": [
              "                              id_compra sexo_biologico  idade_cliente  \\\n",
              "0  9f86e969-221a-4b1a-9b48-9aba719b61cf      Masculino             33   \n",
              "1  659f9b07-be10-4849-b2ab-dd542498a1e8       Feminino             33   \n",
              "2  d317d7df-1126-42e5-bf4b-0e178bd4e14e       Feminino             36   \n",
              "3  bb99bcf6-b333-493e-9ec2-c39f8695503c       Feminino             21   \n",
              "4  898e4624-84e9-4c41-b181-66d3b7ccfef7      Masculino             31   \n",
              "\n",
              "  regiao_cliente         categoria_produto  preco_unitario  quantidade  \\\n",
              "0            Sul  Ferramentas e Construção           96.80           2   \n",
              "1       Nordeste       Alimentos e Bebidas          247.68           1   \n",
              "2        Sudeste               Eletrônicos          627.46           2   \n",
              "3            Sul               Eletrônicos         2025.07           8   \n",
              "4   Centro-Oeste    Papelaria e Escritório           99.24           5   \n",
              "\n",
              "   total_compra  tempo_entrega  avaliacao  \n",
              "0        193.60             18          1  \n",
              "1        247.68              6          4  \n",
              "2       1254.92              8          5  \n",
              "3      16200.56              6          5  \n",
              "4        496.20             13          5  "
            ],
            "text/html": [
              "\n",
              "  <div id=\"df-57ee3bca-5e51-4e60-86c0-aa1cd096b998\" class=\"colab-df-container\">\n",
              "    <div>\n",
              "<style scoped>\n",
              "    .dataframe tbody tr th:only-of-type {\n",
              "        vertical-align: middle;\n",
              "    }\n",
              "\n",
              "    .dataframe tbody tr th {\n",
              "        vertical-align: top;\n",
              "    }\n",
              "\n",
              "    .dataframe thead th {\n",
              "        text-align: right;\n",
              "    }\n",
              "</style>\n",
              "<table border=\"1\" class=\"dataframe\">\n",
              "  <thead>\n",
              "    <tr style=\"text-align: right;\">\n",
              "      <th></th>\n",
              "      <th>id_compra</th>\n",
              "      <th>sexo_biologico</th>\n",
              "      <th>idade_cliente</th>\n",
              "      <th>regiao_cliente</th>\n",
              "      <th>categoria_produto</th>\n",
              "      <th>preco_unitario</th>\n",
              "      <th>quantidade</th>\n",
              "      <th>total_compra</th>\n",
              "      <th>tempo_entrega</th>\n",
              "      <th>avaliacao</th>\n",
              "    </tr>\n",
              "  </thead>\n",
              "  <tbody>\n",
              "    <tr>\n",
              "      <th>0</th>\n",
              "      <td>9f86e969-221a-4b1a-9b48-9aba719b61cf</td>\n",
              "      <td>Masculino</td>\n",
              "      <td>33</td>\n",
              "      <td>Sul</td>\n",
              "      <td>Ferramentas e Construção</td>\n",
              "      <td>96.80</td>\n",
              "      <td>2</td>\n",
              "      <td>193.60</td>\n",
              "      <td>18</td>\n",
              "      <td>1</td>\n",
              "    </tr>\n",
              "    <tr>\n",
              "      <th>1</th>\n",
              "      <td>659f9b07-be10-4849-b2ab-dd542498a1e8</td>\n",
              "      <td>Feminino</td>\n",
              "      <td>33</td>\n",
              "      <td>Nordeste</td>\n",
              "      <td>Alimentos e Bebidas</td>\n",
              "      <td>247.68</td>\n",
              "      <td>1</td>\n",
              "      <td>247.68</td>\n",
              "      <td>6</td>\n",
              "      <td>4</td>\n",
              "    </tr>\n",
              "    <tr>\n",
              "      <th>2</th>\n",
              "      <td>d317d7df-1126-42e5-bf4b-0e178bd4e14e</td>\n",
              "      <td>Feminino</td>\n",
              "      <td>36</td>\n",
              "      <td>Sudeste</td>\n",
              "      <td>Eletrônicos</td>\n",
              "      <td>627.46</td>\n",
              "      <td>2</td>\n",
              "      <td>1254.92</td>\n",
              "      <td>8</td>\n",
              "      <td>5</td>\n",
              "    </tr>\n",
              "    <tr>\n",
              "      <th>3</th>\n",
              "      <td>bb99bcf6-b333-493e-9ec2-c39f8695503c</td>\n",
              "      <td>Feminino</td>\n",
              "      <td>21</td>\n",
              "      <td>Sul</td>\n",
              "      <td>Eletrônicos</td>\n",
              "      <td>2025.07</td>\n",
              "      <td>8</td>\n",
              "      <td>16200.56</td>\n",
              "      <td>6</td>\n",
              "      <td>5</td>\n",
              "    </tr>\n",
              "    <tr>\n",
              "      <th>4</th>\n",
              "      <td>898e4624-84e9-4c41-b181-66d3b7ccfef7</td>\n",
              "      <td>Masculino</td>\n",
              "      <td>31</td>\n",
              "      <td>Centro-Oeste</td>\n",
              "      <td>Papelaria e Escritório</td>\n",
              "      <td>99.24</td>\n",
              "      <td>5</td>\n",
              "      <td>496.20</td>\n",
              "      <td>13</td>\n",
              "      <td>5</td>\n",
              "    </tr>\n",
              "  </tbody>\n",
              "</table>\n",
              "</div>\n",
              "    <div class=\"colab-df-buttons\">\n",
              "\n",
              "  <div class=\"colab-df-container\">\n",
              "    <button class=\"colab-df-convert\" onclick=\"convertToInteractive('df-57ee3bca-5e51-4e60-86c0-aa1cd096b998')\"\n",
              "            title=\"Convert this dataframe to an interactive table.\"\n",
              "            style=\"display:none;\">\n",
              "\n",
              "  <svg xmlns=\"http://www.w3.org/2000/svg\" height=\"24px\" viewBox=\"0 -960 960 960\">\n",
              "    <path d=\"M120-120v-720h720v720H120Zm60-500h600v-160H180v160Zm220 220h160v-160H400v160Zm0 220h160v-160H400v160ZM180-400h160v-160H180v160Zm440 0h160v-160H620v160ZM180-180h160v-160H180v160Zm440 0h160v-160H620v160Z\"/>\n",
              "  </svg>\n",
              "    </button>\n",
              "\n",
              "  <style>\n",
              "    .colab-df-container {\n",
              "      display:flex;\n",
              "      gap: 12px;\n",
              "    }\n",
              "\n",
              "    .colab-df-convert {\n",
              "      background-color: #E8F0FE;\n",
              "      border: none;\n",
              "      border-radius: 50%;\n",
              "      cursor: pointer;\n",
              "      display: none;\n",
              "      fill: #1967D2;\n",
              "      height: 32px;\n",
              "      padding: 0 0 0 0;\n",
              "      width: 32px;\n",
              "    }\n",
              "\n",
              "    .colab-df-convert:hover {\n",
              "      background-color: #E2EBFA;\n",
              "      box-shadow: 0px 1px 2px rgba(60, 64, 67, 0.3), 0px 1px 3px 1px rgba(60, 64, 67, 0.15);\n",
              "      fill: #174EA6;\n",
              "    }\n",
              "\n",
              "    .colab-df-buttons div {\n",
              "      margin-bottom: 4px;\n",
              "    }\n",
              "\n",
              "    [theme=dark] .colab-df-convert {\n",
              "      background-color: #3B4455;\n",
              "      fill: #D2E3FC;\n",
              "    }\n",
              "\n",
              "    [theme=dark] .colab-df-convert:hover {\n",
              "      background-color: #434B5C;\n",
              "      box-shadow: 0px 1px 3px 1px rgba(0, 0, 0, 0.15);\n",
              "      filter: drop-shadow(0px 1px 2px rgba(0, 0, 0, 0.3));\n",
              "      fill: #FFFFFF;\n",
              "    }\n",
              "  </style>\n",
              "\n",
              "    <script>\n",
              "      const buttonEl =\n",
              "        document.querySelector('#df-57ee3bca-5e51-4e60-86c0-aa1cd096b998 button.colab-df-convert');\n",
              "      buttonEl.style.display =\n",
              "        google.colab.kernel.accessAllowed ? 'block' : 'none';\n",
              "\n",
              "      async function convertToInteractive(key) {\n",
              "        const element = document.querySelector('#df-57ee3bca-5e51-4e60-86c0-aa1cd096b998');\n",
              "        const dataTable =\n",
              "          await google.colab.kernel.invokeFunction('convertToInteractive',\n",
              "                                                    [key], {});\n",
              "        if (!dataTable) return;\n",
              "\n",
              "        const docLinkHtml = 'Like what you see? Visit the ' +\n",
              "          '<a target=\"_blank\" href=https://colab.research.google.com/notebooks/data_table.ipynb>data table notebook</a>'\n",
              "          + ' to learn more about interactive tables.';\n",
              "        element.innerHTML = '';\n",
              "        dataTable['output_type'] = 'display_data';\n",
              "        await google.colab.output.renderOutput(dataTable, element);\n",
              "        const docLink = document.createElement('div');\n",
              "        docLink.innerHTML = docLinkHtml;\n",
              "        element.appendChild(docLink);\n",
              "      }\n",
              "    </script>\n",
              "  </div>\n",
              "\n",
              "\n",
              "    <div id=\"df-4f106471-312c-4e92-a97a-3c6c1a4bf8a9\">\n",
              "      <button class=\"colab-df-quickchart\" onclick=\"quickchart('df-4f106471-312c-4e92-a97a-3c6c1a4bf8a9')\"\n",
              "                title=\"Suggest charts\"\n",
              "                style=\"display:none;\">\n",
              "\n",
              "<svg xmlns=\"http://www.w3.org/2000/svg\" height=\"24px\"viewBox=\"0 0 24 24\"\n",
              "     width=\"24px\">\n",
              "    <g>\n",
              "        <path d=\"M19 3H5c-1.1 0-2 .9-2 2v14c0 1.1.9 2 2 2h14c1.1 0 2-.9 2-2V5c0-1.1-.9-2-2-2zM9 17H7v-7h2v7zm4 0h-2V7h2v10zm4 0h-2v-4h2v4z\"/>\n",
              "    </g>\n",
              "</svg>\n",
              "      </button>\n",
              "\n",
              "<style>\n",
              "  .colab-df-quickchart {\n",
              "      --bg-color: #E8F0FE;\n",
              "      --fill-color: #1967D2;\n",
              "      --hover-bg-color: #E2EBFA;\n",
              "      --hover-fill-color: #174EA6;\n",
              "      --disabled-fill-color: #AAA;\n",
              "      --disabled-bg-color: #DDD;\n",
              "  }\n",
              "\n",
              "  [theme=dark] .colab-df-quickchart {\n",
              "      --bg-color: #3B4455;\n",
              "      --fill-color: #D2E3FC;\n",
              "      --hover-bg-color: #434B5C;\n",
              "      --hover-fill-color: #FFFFFF;\n",
              "      --disabled-bg-color: #3B4455;\n",
              "      --disabled-fill-color: #666;\n",
              "  }\n",
              "\n",
              "  .colab-df-quickchart {\n",
              "    background-color: var(--bg-color);\n",
              "    border: none;\n",
              "    border-radius: 50%;\n",
              "    cursor: pointer;\n",
              "    display: none;\n",
              "    fill: var(--fill-color);\n",
              "    height: 32px;\n",
              "    padding: 0;\n",
              "    width: 32px;\n",
              "  }\n",
              "\n",
              "  .colab-df-quickchart:hover {\n",
              "    background-color: var(--hover-bg-color);\n",
              "    box-shadow: 0 1px 2px rgba(60, 64, 67, 0.3), 0 1px 3px 1px rgba(60, 64, 67, 0.15);\n",
              "    fill: var(--button-hover-fill-color);\n",
              "  }\n",
              "\n",
              "  .colab-df-quickchart-complete:disabled,\n",
              "  .colab-df-quickchart-complete:disabled:hover {\n",
              "    background-color: var(--disabled-bg-color);\n",
              "    fill: var(--disabled-fill-color);\n",
              "    box-shadow: none;\n",
              "  }\n",
              "\n",
              "  .colab-df-spinner {\n",
              "    border: 2px solid var(--fill-color);\n",
              "    border-color: transparent;\n",
              "    border-bottom-color: var(--fill-color);\n",
              "    animation:\n",
              "      spin 1s steps(1) infinite;\n",
              "  }\n",
              "\n",
              "  @keyframes spin {\n",
              "    0% {\n",
              "      border-color: transparent;\n",
              "      border-bottom-color: var(--fill-color);\n",
              "      border-left-color: var(--fill-color);\n",
              "    }\n",
              "    20% {\n",
              "      border-color: transparent;\n",
              "      border-left-color: var(--fill-color);\n",
              "      border-top-color: var(--fill-color);\n",
              "    }\n",
              "    30% {\n",
              "      border-color: transparent;\n",
              "      border-left-color: var(--fill-color);\n",
              "      border-top-color: var(--fill-color);\n",
              "      border-right-color: var(--fill-color);\n",
              "    }\n",
              "    40% {\n",
              "      border-color: transparent;\n",
              "      border-right-color: var(--fill-color);\n",
              "      border-top-color: var(--fill-color);\n",
              "    }\n",
              "    60% {\n",
              "      border-color: transparent;\n",
              "      border-right-color: var(--fill-color);\n",
              "    }\n",
              "    80% {\n",
              "      border-color: transparent;\n",
              "      border-right-color: var(--fill-color);\n",
              "      border-bottom-color: var(--fill-color);\n",
              "    }\n",
              "    90% {\n",
              "      border-color: transparent;\n",
              "      border-bottom-color: var(--fill-color);\n",
              "    }\n",
              "  }\n",
              "</style>\n",
              "\n",
              "      <script>\n",
              "        async function quickchart(key) {\n",
              "          const quickchartButtonEl =\n",
              "            document.querySelector('#' + key + ' button');\n",
              "          quickchartButtonEl.disabled = true;  // To prevent multiple clicks.\n",
              "          quickchartButtonEl.classList.add('colab-df-spinner');\n",
              "          try {\n",
              "            const charts = await google.colab.kernel.invokeFunction(\n",
              "                'suggestCharts', [key], {});\n",
              "          } catch (error) {\n",
              "            console.error('Error during call to suggestCharts:', error);\n",
              "          }\n",
              "          quickchartButtonEl.classList.remove('colab-df-spinner');\n",
              "          quickchartButtonEl.classList.add('colab-df-quickchart-complete');\n",
              "        }\n",
              "        (() => {\n",
              "          let quickchartButtonEl =\n",
              "            document.querySelector('#df-4f106471-312c-4e92-a97a-3c6c1a4bf8a9 button');\n",
              "          quickchartButtonEl.style.display =\n",
              "            google.colab.kernel.accessAllowed ? 'block' : 'none';\n",
              "        })();\n",
              "      </script>\n",
              "    </div>\n",
              "\n",
              "    </div>\n",
              "  </div>\n"
            ],
            "application/vnd.google.colaboratory.intrinsic+json": {
              "type": "dataframe",
              "variable_name": "df"
            }
          },
          "metadata": {},
          "execution_count": 28
        }
      ]
    },
    {
      "cell_type": "markdown",
      "source": [
        "Retornar a quantidade de linhas e colunas do dataset"
      ],
      "metadata": {
        "id": "sTHXHYDHpMJD"
      }
    },
    {
      "cell_type": "code",
      "source": [
        "df.shape"
      ],
      "metadata": {
        "id": "x3UnzGIOilr0",
        "colab": {
          "base_uri": "https://localhost:8080/"
        },
        "outputId": "0a78aa87-94a3-4909-c0ab-f24c62fe194c"
      },
      "execution_count": null,
      "outputs": [
        {
          "output_type": "execute_result",
          "data": {
            "text/plain": [
              "(200000, 10)"
            ]
          },
          "metadata": {},
          "execution_count": 29
        }
      ]
    },
    {
      "cell_type": "markdown",
      "source": [
        "Verificar o nome de cada coluna, a quantidade de dados não nulos existente na coluna em questão e o tipo de dado.\n"
      ],
      "metadata": {
        "id": "qudYCFeSpQwt"
      }
    },
    {
      "cell_type": "code",
      "source": [
        "df.info()"
      ],
      "metadata": {
        "id": "O0nK_TMgio0g",
        "colab": {
          "base_uri": "https://localhost:8080/"
        },
        "outputId": "e26b3ba6-2445-4e9b-808c-1346d46dabad"
      },
      "execution_count": null,
      "outputs": [
        {
          "output_type": "stream",
          "name": "stdout",
          "text": [
            "<class 'pandas.core.frame.DataFrame'>\n",
            "RangeIndex: 200000 entries, 0 to 199999\n",
            "Data columns (total 10 columns):\n",
            " #   Column             Non-Null Count   Dtype  \n",
            "---  ------             --------------   -----  \n",
            " 0   id_compra          200000 non-null  object \n",
            " 1   sexo_biologico     200000 non-null  object \n",
            " 2   idade_cliente      200000 non-null  int64  \n",
            " 3   regiao_cliente     200000 non-null  object \n",
            " 4   categoria_produto  200000 non-null  object \n",
            " 5   preco_unitario     200000 non-null  float64\n",
            " 6   quantidade         200000 non-null  int64  \n",
            " 7   total_compra       200000 non-null  float64\n",
            " 8   tempo_entrega      200000 non-null  int64  \n",
            " 9   avaliacao          200000 non-null  int64  \n",
            "dtypes: float64(2), int64(4), object(4)\n",
            "memory usage: 15.3+ MB\n"
          ]
        }
      ]
    },
    {
      "cell_type": "markdown",
      "source": [
        "Conseguimos observar aqui os dados das vendas da empresa com algumas colunas interessantes.\n",
        "\n",
        "Podemos realizar talvez uma análise de vendas por região, por gênero, podemos explorar os tipos de produtos, o tempo de entrega e avaliação. Ou seja, bastante coisa!\n",
        "\n",
        "Para todas essas análises que podemos traçar, temos 2 pontos extremamente importantes:\n",
        "\n",
        "1. Qual o tipo de dado que tenho?\n",
        "2. O que desejo investigar com este dado?\n",
        "\n",
        "A estatística, é muito importante aqui, pois a depender do tipo do dado e como ele se comporta temos diferentes formas de analisá-lo para responder a necessidade do nosso cliente. Tudo isso focado no tripé da ciência de dados: **estatística**, **programação** e **conhecimento do negócio**\n",
        "\n",
        "Vamos aplicar as 3 aqui apontando o seu potencial na análise de dados e extração de insights utilizando a linguagem Python.\n",
        "\n",
        "Vamos nessa?"
      ],
      "metadata": {
        "id": "s_SxEZvdIZ-U"
      }
    },
    {
      "cell_type": "markdown",
      "source": [
        "## **1.2 Investigando os tipos dos dados**"
      ],
      "metadata": {
        "id": "lmFhWRkinnP0"
      }
    },
    {
      "cell_type": "markdown",
      "source": [
        "Observando rapidamente os dados, podemos notar dados em formato de textos, números inteiros, números com casas decimais. A depender da análise que queremos fazer, cada um tem uma forma de ser trabalhado e adequado para a extração de informação dos dados"
      ],
      "metadata": {
        "id": "AnVZHaxMJIyE"
      }
    },
    {
      "cell_type": "code",
      "source": [
        "df.head()"
      ],
      "metadata": {
        "id": "8mnPTNAzir4M",
        "colab": {
          "base_uri": "https://localhost:8080/"
        },
        "outputId": "1f501749-fc54-4bc0-81a5-19283853a7a3"
      },
      "execution_count": null,
      "outputs": [
        {
          "output_type": "execute_result",
          "data": {
            "text/plain": [
              "                              id_compra sexo_biologico  idade_cliente  \\\n",
              "0  9f86e969-221a-4b1a-9b48-9aba719b61cf      Masculino             33   \n",
              "1  659f9b07-be10-4849-b2ab-dd542498a1e8       Feminino             33   \n",
              "2  d317d7df-1126-42e5-bf4b-0e178bd4e14e       Feminino             36   \n",
              "3  bb99bcf6-b333-493e-9ec2-c39f8695503c       Feminino             21   \n",
              "4  898e4624-84e9-4c41-b181-66d3b7ccfef7      Masculino             31   \n",
              "\n",
              "  regiao_cliente         categoria_produto  preco_unitario  quantidade  \\\n",
              "0            Sul  Ferramentas e Construção           96.80           2   \n",
              "1       Nordeste       Alimentos e Bebidas          247.68           1   \n",
              "2        Sudeste               Eletrônicos          627.46           2   \n",
              "3            Sul               Eletrônicos         2025.07           8   \n",
              "4   Centro-Oeste    Papelaria e Escritório           99.24           5   \n",
              "\n",
              "   total_compra  tempo_entrega  avaliacao  \n",
              "0        193.60             18          1  \n",
              "1        247.68              6          4  \n",
              "2       1254.92              8          5  \n",
              "3      16200.56              6          5  \n",
              "4        496.20             13          5  "
            ],
            "text/html": [
              "\n",
              "  <div id=\"df-f8adeea5-3aa6-4429-b6bc-985520fc2d47\" class=\"colab-df-container\">\n",
              "    <div>\n",
              "<style scoped>\n",
              "    .dataframe tbody tr th:only-of-type {\n",
              "        vertical-align: middle;\n",
              "    }\n",
              "\n",
              "    .dataframe tbody tr th {\n",
              "        vertical-align: top;\n",
              "    }\n",
              "\n",
              "    .dataframe thead th {\n",
              "        text-align: right;\n",
              "    }\n",
              "</style>\n",
              "<table border=\"1\" class=\"dataframe\">\n",
              "  <thead>\n",
              "    <tr style=\"text-align: right;\">\n",
              "      <th></th>\n",
              "      <th>id_compra</th>\n",
              "      <th>sexo_biologico</th>\n",
              "      <th>idade_cliente</th>\n",
              "      <th>regiao_cliente</th>\n",
              "      <th>categoria_produto</th>\n",
              "      <th>preco_unitario</th>\n",
              "      <th>quantidade</th>\n",
              "      <th>total_compra</th>\n",
              "      <th>tempo_entrega</th>\n",
              "      <th>avaliacao</th>\n",
              "    </tr>\n",
              "  </thead>\n",
              "  <tbody>\n",
              "    <tr>\n",
              "      <th>0</th>\n",
              "      <td>9f86e969-221a-4b1a-9b48-9aba719b61cf</td>\n",
              "      <td>Masculino</td>\n",
              "      <td>33</td>\n",
              "      <td>Sul</td>\n",
              "      <td>Ferramentas e Construção</td>\n",
              "      <td>96.80</td>\n",
              "      <td>2</td>\n",
              "      <td>193.60</td>\n",
              "      <td>18</td>\n",
              "      <td>1</td>\n",
              "    </tr>\n",
              "    <tr>\n",
              "      <th>1</th>\n",
              "      <td>659f9b07-be10-4849-b2ab-dd542498a1e8</td>\n",
              "      <td>Feminino</td>\n",
              "      <td>33</td>\n",
              "      <td>Nordeste</td>\n",
              "      <td>Alimentos e Bebidas</td>\n",
              "      <td>247.68</td>\n",
              "      <td>1</td>\n",
              "      <td>247.68</td>\n",
              "      <td>6</td>\n",
              "      <td>4</td>\n",
              "    </tr>\n",
              "    <tr>\n",
              "      <th>2</th>\n",
              "      <td>d317d7df-1126-42e5-bf4b-0e178bd4e14e</td>\n",
              "      <td>Feminino</td>\n",
              "      <td>36</td>\n",
              "      <td>Sudeste</td>\n",
              "      <td>Eletrônicos</td>\n",
              "      <td>627.46</td>\n",
              "      <td>2</td>\n",
              "      <td>1254.92</td>\n",
              "      <td>8</td>\n",
              "      <td>5</td>\n",
              "    </tr>\n",
              "    <tr>\n",
              "      <th>3</th>\n",
              "      <td>bb99bcf6-b333-493e-9ec2-c39f8695503c</td>\n",
              "      <td>Feminino</td>\n",
              "      <td>21</td>\n",
              "      <td>Sul</td>\n",
              "      <td>Eletrônicos</td>\n",
              "      <td>2025.07</td>\n",
              "      <td>8</td>\n",
              "      <td>16200.56</td>\n",
              "      <td>6</td>\n",
              "      <td>5</td>\n",
              "    </tr>\n",
              "    <tr>\n",
              "      <th>4</th>\n",
              "      <td>898e4624-84e9-4c41-b181-66d3b7ccfef7</td>\n",
              "      <td>Masculino</td>\n",
              "      <td>31</td>\n",
              "      <td>Centro-Oeste</td>\n",
              "      <td>Papelaria e Escritório</td>\n",
              "      <td>99.24</td>\n",
              "      <td>5</td>\n",
              "      <td>496.20</td>\n",
              "      <td>13</td>\n",
              "      <td>5</td>\n",
              "    </tr>\n",
              "  </tbody>\n",
              "</table>\n",
              "</div>\n",
              "    <div class=\"colab-df-buttons\">\n",
              "\n",
              "  <div class=\"colab-df-container\">\n",
              "    <button class=\"colab-df-convert\" onclick=\"convertToInteractive('df-f8adeea5-3aa6-4429-b6bc-985520fc2d47')\"\n",
              "            title=\"Convert this dataframe to an interactive table.\"\n",
              "            style=\"display:none;\">\n",
              "\n",
              "  <svg xmlns=\"http://www.w3.org/2000/svg\" height=\"24px\" viewBox=\"0 -960 960 960\">\n",
              "    <path d=\"M120-120v-720h720v720H120Zm60-500h600v-160H180v160Zm220 220h160v-160H400v160Zm0 220h160v-160H400v160ZM180-400h160v-160H180v160Zm440 0h160v-160H620v160ZM180-180h160v-160H180v160Zm440 0h160v-160H620v160Z\"/>\n",
              "  </svg>\n",
              "    </button>\n",
              "\n",
              "  <style>\n",
              "    .colab-df-container {\n",
              "      display:flex;\n",
              "      gap: 12px;\n",
              "    }\n",
              "\n",
              "    .colab-df-convert {\n",
              "      background-color: #E8F0FE;\n",
              "      border: none;\n",
              "      border-radius: 50%;\n",
              "      cursor: pointer;\n",
              "      display: none;\n",
              "      fill: #1967D2;\n",
              "      height: 32px;\n",
              "      padding: 0 0 0 0;\n",
              "      width: 32px;\n",
              "    }\n",
              "\n",
              "    .colab-df-convert:hover {\n",
              "      background-color: #E2EBFA;\n",
              "      box-shadow: 0px 1px 2px rgba(60, 64, 67, 0.3), 0px 1px 3px 1px rgba(60, 64, 67, 0.15);\n",
              "      fill: #174EA6;\n",
              "    }\n",
              "\n",
              "    .colab-df-buttons div {\n",
              "      margin-bottom: 4px;\n",
              "    }\n",
              "\n",
              "    [theme=dark] .colab-df-convert {\n",
              "      background-color: #3B4455;\n",
              "      fill: #D2E3FC;\n",
              "    }\n",
              "\n",
              "    [theme=dark] .colab-df-convert:hover {\n",
              "      background-color: #434B5C;\n",
              "      box-shadow: 0px 1px 3px 1px rgba(0, 0, 0, 0.15);\n",
              "      filter: drop-shadow(0px 1px 2px rgba(0, 0, 0, 0.3));\n",
              "      fill: #FFFFFF;\n",
              "    }\n",
              "  </style>\n",
              "\n",
              "    <script>\n",
              "      const buttonEl =\n",
              "        document.querySelector('#df-f8adeea5-3aa6-4429-b6bc-985520fc2d47 button.colab-df-convert');\n",
              "      buttonEl.style.display =\n",
              "        google.colab.kernel.accessAllowed ? 'block' : 'none';\n",
              "\n",
              "      async function convertToInteractive(key) {\n",
              "        const element = document.querySelector('#df-f8adeea5-3aa6-4429-b6bc-985520fc2d47');\n",
              "        const dataTable =\n",
              "          await google.colab.kernel.invokeFunction('convertToInteractive',\n",
              "                                                    [key], {});\n",
              "        if (!dataTable) return;\n",
              "\n",
              "        const docLinkHtml = 'Like what you see? Visit the ' +\n",
              "          '<a target=\"_blank\" href=https://colab.research.google.com/notebooks/data_table.ipynb>data table notebook</a>'\n",
              "          + ' to learn more about interactive tables.';\n",
              "        element.innerHTML = '';\n",
              "        dataTable['output_type'] = 'display_data';\n",
              "        await google.colab.output.renderOutput(dataTable, element);\n",
              "        const docLink = document.createElement('div');\n",
              "        docLink.innerHTML = docLinkHtml;\n",
              "        element.appendChild(docLink);\n",
              "      }\n",
              "    </script>\n",
              "  </div>\n",
              "\n",
              "\n",
              "    <div id=\"df-ed0bd722-ca63-43b0-9ae3-1ebcfb169625\">\n",
              "      <button class=\"colab-df-quickchart\" onclick=\"quickchart('df-ed0bd722-ca63-43b0-9ae3-1ebcfb169625')\"\n",
              "                title=\"Suggest charts\"\n",
              "                style=\"display:none;\">\n",
              "\n",
              "<svg xmlns=\"http://www.w3.org/2000/svg\" height=\"24px\"viewBox=\"0 0 24 24\"\n",
              "     width=\"24px\">\n",
              "    <g>\n",
              "        <path d=\"M19 3H5c-1.1 0-2 .9-2 2v14c0 1.1.9 2 2 2h14c1.1 0 2-.9 2-2V5c0-1.1-.9-2-2-2zM9 17H7v-7h2v7zm4 0h-2V7h2v10zm4 0h-2v-4h2v4z\"/>\n",
              "    </g>\n",
              "</svg>\n",
              "      </button>\n",
              "\n",
              "<style>\n",
              "  .colab-df-quickchart {\n",
              "      --bg-color: #E8F0FE;\n",
              "      --fill-color: #1967D2;\n",
              "      --hover-bg-color: #E2EBFA;\n",
              "      --hover-fill-color: #174EA6;\n",
              "      --disabled-fill-color: #AAA;\n",
              "      --disabled-bg-color: #DDD;\n",
              "  }\n",
              "\n",
              "  [theme=dark] .colab-df-quickchart {\n",
              "      --bg-color: #3B4455;\n",
              "      --fill-color: #D2E3FC;\n",
              "      --hover-bg-color: #434B5C;\n",
              "      --hover-fill-color: #FFFFFF;\n",
              "      --disabled-bg-color: #3B4455;\n",
              "      --disabled-fill-color: #666;\n",
              "  }\n",
              "\n",
              "  .colab-df-quickchart {\n",
              "    background-color: var(--bg-color);\n",
              "    border: none;\n",
              "    border-radius: 50%;\n",
              "    cursor: pointer;\n",
              "    display: none;\n",
              "    fill: var(--fill-color);\n",
              "    height: 32px;\n",
              "    padding: 0;\n",
              "    width: 32px;\n",
              "  }\n",
              "\n",
              "  .colab-df-quickchart:hover {\n",
              "    background-color: var(--hover-bg-color);\n",
              "    box-shadow: 0 1px 2px rgba(60, 64, 67, 0.3), 0 1px 3px 1px rgba(60, 64, 67, 0.15);\n",
              "    fill: var(--button-hover-fill-color);\n",
              "  }\n",
              "\n",
              "  .colab-df-quickchart-complete:disabled,\n",
              "  .colab-df-quickchart-complete:disabled:hover {\n",
              "    background-color: var(--disabled-bg-color);\n",
              "    fill: var(--disabled-fill-color);\n",
              "    box-shadow: none;\n",
              "  }\n",
              "\n",
              "  .colab-df-spinner {\n",
              "    border: 2px solid var(--fill-color);\n",
              "    border-color: transparent;\n",
              "    border-bottom-color: var(--fill-color);\n",
              "    animation:\n",
              "      spin 1s steps(1) infinite;\n",
              "  }\n",
              "\n",
              "  @keyframes spin {\n",
              "    0% {\n",
              "      border-color: transparent;\n",
              "      border-bottom-color: var(--fill-color);\n",
              "      border-left-color: var(--fill-color);\n",
              "    }\n",
              "    20% {\n",
              "      border-color: transparent;\n",
              "      border-left-color: var(--fill-color);\n",
              "      border-top-color: var(--fill-color);\n",
              "    }\n",
              "    30% {\n",
              "      border-color: transparent;\n",
              "      border-left-color: var(--fill-color);\n",
              "      border-top-color: var(--fill-color);\n",
              "      border-right-color: var(--fill-color);\n",
              "    }\n",
              "    40% {\n",
              "      border-color: transparent;\n",
              "      border-right-color: var(--fill-color);\n",
              "      border-top-color: var(--fill-color);\n",
              "    }\n",
              "    60% {\n",
              "      border-color: transparent;\n",
              "      border-right-color: var(--fill-color);\n",
              "    }\n",
              "    80% {\n",
              "      border-color: transparent;\n",
              "      border-right-color: var(--fill-color);\n",
              "      border-bottom-color: var(--fill-color);\n",
              "    }\n",
              "    90% {\n",
              "      border-color: transparent;\n",
              "      border-bottom-color: var(--fill-color);\n",
              "    }\n",
              "  }\n",
              "</style>\n",
              "\n",
              "      <script>\n",
              "        async function quickchart(key) {\n",
              "          const quickchartButtonEl =\n",
              "            document.querySelector('#' + key + ' button');\n",
              "          quickchartButtonEl.disabled = true;  // To prevent multiple clicks.\n",
              "          quickchartButtonEl.classList.add('colab-df-spinner');\n",
              "          try {\n",
              "            const charts = await google.colab.kernel.invokeFunction(\n",
              "                'suggestCharts', [key], {});\n",
              "          } catch (error) {\n",
              "            console.error('Error during call to suggestCharts:', error);\n",
              "          }\n",
              "          quickchartButtonEl.classList.remove('colab-df-spinner');\n",
              "          quickchartButtonEl.classList.add('colab-df-quickchart-complete');\n",
              "        }\n",
              "        (() => {\n",
              "          let quickchartButtonEl =\n",
              "            document.querySelector('#df-ed0bd722-ca63-43b0-9ae3-1ebcfb169625 button');\n",
              "          quickchartButtonEl.style.display =\n",
              "            google.colab.kernel.accessAllowed ? 'block' : 'none';\n",
              "        })();\n",
              "      </script>\n",
              "    </div>\n",
              "\n",
              "    </div>\n",
              "  </div>\n"
            ],
            "application/vnd.google.colaboratory.intrinsic+json": {
              "type": "dataframe",
              "variable_name": "df"
            }
          },
          "metadata": {},
          "execution_count": 31
        }
      ]
    },
    {
      "cell_type": "markdown",
      "source": [
        "Ou seja, temos aqui dados categóricos (qualitativos) e numéricos (quantitativos)."
      ],
      "metadata": {
        "id": "3u7VM4iMJXCW"
      }
    },
    {
      "cell_type": "markdown",
      "source": [
        "### Tipos de Variáveis:\n",
        "\n",
        "![texto do link](https://github.com/afonsosr2/estatistica-r-frequencias-medidas/blob/main/imagens/outros/tipos_variaveis.png?raw=true)\n",
        "\n",
        "- **Qualitativas (Categóricas):** São variáveis que representam características ou categorias. Geralmente, são usadas para classificar ou categorizar dados. Por exemplo: sexo biólogico e região\n",
        "  - **Nominais:** quando não possuem uma ordem natural. (Ex.: tipo de produto).  \n",
        "  - **Ordinais:** Possuem uma ordem ou hierarquia. (Ex.: Níveis de escolaridade).\n",
        "\n",
        "- **Quantitativas (Numéricas):** São variáveis que representam números e podem ser mensuradas. Estas variáveis têm significado matemático e podem ser usadas para cálculos. Por exemplo: idade e total de compra\n",
        "  - **Discretas:** Valores inteiros e contáveis (Ex.: quantidade de produtos).  \n",
        "  - **Contínuas:** Qualquer valor em um intervalo (Ex.: Altura de pessoas)."
      ],
      "metadata": {
        "id": "_7SMi1PuJQKW"
      }
    },
    {
      "cell_type": "markdown",
      "source": [
        "Podemos então realizar uma análise simples aqui, investigando uma **variável qualitativa nominal** como, por exemplo, a quantidade de vendas por categoria:"
      ],
      "metadata": {
        "id": "2ifPBhSUJkO0"
      }
    },
    {
      "cell_type": "code",
      "source": [
        "df['categoria_produto']"
      ],
      "metadata": {
        "id": "55tKpewIiuzD",
        "colab": {
          "base_uri": "https://localhost:8080/"
        },
        "outputId": "7129bebe-ad59-4954-c8e5-91dd747804d6"
      },
      "execution_count": null,
      "outputs": [
        {
          "output_type": "execute_result",
          "data": {
            "text/plain": [
              "0              Ferramentas e Construção\n",
              "1                   Alimentos e Bebidas\n",
              "2                           Eletrônicos\n",
              "3                           Eletrônicos\n",
              "4                Papelaria e Escritório\n",
              "                      ...              \n",
              "199995                      Eletrônicos\n",
              "199996                      Eletrônicos\n",
              "199997    Roupas, Calçados e Acessórios\n",
              "199998              Alimentos e Bebidas\n",
              "199999       Beleza e Cuidados Pessoais\n",
              "Name: categoria_produto, Length: 200000, dtype: object"
            ],
            "text/html": [
              "<div>\n",
              "<style scoped>\n",
              "    .dataframe tbody tr th:only-of-type {\n",
              "        vertical-align: middle;\n",
              "    }\n",
              "\n",
              "    .dataframe tbody tr th {\n",
              "        vertical-align: top;\n",
              "    }\n",
              "\n",
              "    .dataframe thead th {\n",
              "        text-align: right;\n",
              "    }\n",
              "</style>\n",
              "<table border=\"1\" class=\"dataframe\">\n",
              "  <thead>\n",
              "    <tr style=\"text-align: right;\">\n",
              "      <th></th>\n",
              "      <th>categoria_produto</th>\n",
              "    </tr>\n",
              "  </thead>\n",
              "  <tbody>\n",
              "    <tr>\n",
              "      <th>0</th>\n",
              "      <td>Ferramentas e Construção</td>\n",
              "    </tr>\n",
              "    <tr>\n",
              "      <th>1</th>\n",
              "      <td>Alimentos e Bebidas</td>\n",
              "    </tr>\n",
              "    <tr>\n",
              "      <th>2</th>\n",
              "      <td>Eletrônicos</td>\n",
              "    </tr>\n",
              "    <tr>\n",
              "      <th>3</th>\n",
              "      <td>Eletrônicos</td>\n",
              "    </tr>\n",
              "    <tr>\n",
              "      <th>4</th>\n",
              "      <td>Papelaria e Escritório</td>\n",
              "    </tr>\n",
              "    <tr>\n",
              "      <th>...</th>\n",
              "      <td>...</td>\n",
              "    </tr>\n",
              "    <tr>\n",
              "      <th>199995</th>\n",
              "      <td>Eletrônicos</td>\n",
              "    </tr>\n",
              "    <tr>\n",
              "      <th>199996</th>\n",
              "      <td>Eletrônicos</td>\n",
              "    </tr>\n",
              "    <tr>\n",
              "      <th>199997</th>\n",
              "      <td>Roupas, Calçados e Acessórios</td>\n",
              "    </tr>\n",
              "    <tr>\n",
              "      <th>199998</th>\n",
              "      <td>Alimentos e Bebidas</td>\n",
              "    </tr>\n",
              "    <tr>\n",
              "      <th>199999</th>\n",
              "      <td>Beleza e Cuidados Pessoais</td>\n",
              "    </tr>\n",
              "  </tbody>\n",
              "</table>\n",
              "<p>200000 rows × 1 columns</p>\n",
              "</div><br><label><b>dtype:</b> object</label>"
            ]
          },
          "metadata": {},
          "execution_count": 32
        }
      ]
    },
    {
      "cell_type": "code",
      "source": [
        "df['categoria_produto'].unique()"
      ],
      "metadata": {
        "id": "mRvVjeIXiurJ",
        "colab": {
          "base_uri": "https://localhost:8080/"
        },
        "outputId": "377b109b-b56a-4595-acc9-d856e6503fc5"
      },
      "execution_count": null,
      "outputs": [
        {
          "output_type": "execute_result",
          "data": {
            "text/plain": [
              "array(['Ferramentas e Construção', 'Alimentos e Bebidas', 'Eletrônicos',\n",
              "       'Papelaria e Escritório', 'Beleza e Cuidados Pessoais',\n",
              "       'Casa e Mobílias', 'Roupas, Calçados e Acessórios', 'Livros',\n",
              "       'Brinquedos', 'Esporte e Lazer'], dtype=object)"
            ]
          },
          "metadata": {},
          "execution_count": 33
        }
      ]
    },
    {
      "cell_type": "code",
      "source": [
        "produtos = df['categoria_produto'].value_counts().reset_index()\n",
        "produtos"
      ],
      "metadata": {
        "id": "j4xzQ4h-iuj-",
        "colab": {
          "base_uri": "https://localhost:8080/"
        },
        "outputId": "6848086d-4f78-414e-def4-452efb113d19"
      },
      "execution_count": null,
      "outputs": [
        {
          "output_type": "execute_result",
          "data": {
            "text/plain": [
              "               categoria_produto  count\n",
              "0                    Eletrônicos  36060\n",
              "1  Roupas, Calçados e Acessórios  27917\n",
              "2                Casa e Mobílias  26015\n",
              "3     Beleza e Cuidados Pessoais  22026\n",
              "4                Esporte e Lazer  19939\n",
              "5            Alimentos e Bebidas  18022\n",
              "6         Papelaria e Escritório  13936\n",
              "7                         Livros  13790\n",
              "8       Ferramentas e Construção  12063\n",
              "9                     Brinquedos  10232"
            ],
            "text/html": [
              "\n",
              "  <div id=\"df-43e6833c-9146-4531-9857-b8104e416667\" class=\"colab-df-container\">\n",
              "    <div>\n",
              "<style scoped>\n",
              "    .dataframe tbody tr th:only-of-type {\n",
              "        vertical-align: middle;\n",
              "    }\n",
              "\n",
              "    .dataframe tbody tr th {\n",
              "        vertical-align: top;\n",
              "    }\n",
              "\n",
              "    .dataframe thead th {\n",
              "        text-align: right;\n",
              "    }\n",
              "</style>\n",
              "<table border=\"1\" class=\"dataframe\">\n",
              "  <thead>\n",
              "    <tr style=\"text-align: right;\">\n",
              "      <th></th>\n",
              "      <th>categoria_produto</th>\n",
              "      <th>count</th>\n",
              "    </tr>\n",
              "  </thead>\n",
              "  <tbody>\n",
              "    <tr>\n",
              "      <th>0</th>\n",
              "      <td>Eletrônicos</td>\n",
              "      <td>36060</td>\n",
              "    </tr>\n",
              "    <tr>\n",
              "      <th>1</th>\n",
              "      <td>Roupas, Calçados e Acessórios</td>\n",
              "      <td>27917</td>\n",
              "    </tr>\n",
              "    <tr>\n",
              "      <th>2</th>\n",
              "      <td>Casa e Mobílias</td>\n",
              "      <td>26015</td>\n",
              "    </tr>\n",
              "    <tr>\n",
              "      <th>3</th>\n",
              "      <td>Beleza e Cuidados Pessoais</td>\n",
              "      <td>22026</td>\n",
              "    </tr>\n",
              "    <tr>\n",
              "      <th>4</th>\n",
              "      <td>Esporte e Lazer</td>\n",
              "      <td>19939</td>\n",
              "    </tr>\n",
              "    <tr>\n",
              "      <th>5</th>\n",
              "      <td>Alimentos e Bebidas</td>\n",
              "      <td>18022</td>\n",
              "    </tr>\n",
              "    <tr>\n",
              "      <th>6</th>\n",
              "      <td>Papelaria e Escritório</td>\n",
              "      <td>13936</td>\n",
              "    </tr>\n",
              "    <tr>\n",
              "      <th>7</th>\n",
              "      <td>Livros</td>\n",
              "      <td>13790</td>\n",
              "    </tr>\n",
              "    <tr>\n",
              "      <th>8</th>\n",
              "      <td>Ferramentas e Construção</td>\n",
              "      <td>12063</td>\n",
              "    </tr>\n",
              "    <tr>\n",
              "      <th>9</th>\n",
              "      <td>Brinquedos</td>\n",
              "      <td>10232</td>\n",
              "    </tr>\n",
              "  </tbody>\n",
              "</table>\n",
              "</div>\n",
              "    <div class=\"colab-df-buttons\">\n",
              "\n",
              "  <div class=\"colab-df-container\">\n",
              "    <button class=\"colab-df-convert\" onclick=\"convertToInteractive('df-43e6833c-9146-4531-9857-b8104e416667')\"\n",
              "            title=\"Convert this dataframe to an interactive table.\"\n",
              "            style=\"display:none;\">\n",
              "\n",
              "  <svg xmlns=\"http://www.w3.org/2000/svg\" height=\"24px\" viewBox=\"0 -960 960 960\">\n",
              "    <path d=\"M120-120v-720h720v720H120Zm60-500h600v-160H180v160Zm220 220h160v-160H400v160Zm0 220h160v-160H400v160ZM180-400h160v-160H180v160Zm440 0h160v-160H620v160ZM180-180h160v-160H180v160Zm440 0h160v-160H620v160Z\"/>\n",
              "  </svg>\n",
              "    </button>\n",
              "\n",
              "  <style>\n",
              "    .colab-df-container {\n",
              "      display:flex;\n",
              "      gap: 12px;\n",
              "    }\n",
              "\n",
              "    .colab-df-convert {\n",
              "      background-color: #E8F0FE;\n",
              "      border: none;\n",
              "      border-radius: 50%;\n",
              "      cursor: pointer;\n",
              "      display: none;\n",
              "      fill: #1967D2;\n",
              "      height: 32px;\n",
              "      padding: 0 0 0 0;\n",
              "      width: 32px;\n",
              "    }\n",
              "\n",
              "    .colab-df-convert:hover {\n",
              "      background-color: #E2EBFA;\n",
              "      box-shadow: 0px 1px 2px rgba(60, 64, 67, 0.3), 0px 1px 3px 1px rgba(60, 64, 67, 0.15);\n",
              "      fill: #174EA6;\n",
              "    }\n",
              "\n",
              "    .colab-df-buttons div {\n",
              "      margin-bottom: 4px;\n",
              "    }\n",
              "\n",
              "    [theme=dark] .colab-df-convert {\n",
              "      background-color: #3B4455;\n",
              "      fill: #D2E3FC;\n",
              "    }\n",
              "\n",
              "    [theme=dark] .colab-df-convert:hover {\n",
              "      background-color: #434B5C;\n",
              "      box-shadow: 0px 1px 3px 1px rgba(0, 0, 0, 0.15);\n",
              "      filter: drop-shadow(0px 1px 2px rgba(0, 0, 0, 0.3));\n",
              "      fill: #FFFFFF;\n",
              "    }\n",
              "  </style>\n",
              "\n",
              "    <script>\n",
              "      const buttonEl =\n",
              "        document.querySelector('#df-43e6833c-9146-4531-9857-b8104e416667 button.colab-df-convert');\n",
              "      buttonEl.style.display =\n",
              "        google.colab.kernel.accessAllowed ? 'block' : 'none';\n",
              "\n",
              "      async function convertToInteractive(key) {\n",
              "        const element = document.querySelector('#df-43e6833c-9146-4531-9857-b8104e416667');\n",
              "        const dataTable =\n",
              "          await google.colab.kernel.invokeFunction('convertToInteractive',\n",
              "                                                    [key], {});\n",
              "        if (!dataTable) return;\n",
              "\n",
              "        const docLinkHtml = 'Like what you see? Visit the ' +\n",
              "          '<a target=\"_blank\" href=https://colab.research.google.com/notebooks/data_table.ipynb>data table notebook</a>'\n",
              "          + ' to learn more about interactive tables.';\n",
              "        element.innerHTML = '';\n",
              "        dataTable['output_type'] = 'display_data';\n",
              "        await google.colab.output.renderOutput(dataTable, element);\n",
              "        const docLink = document.createElement('div');\n",
              "        docLink.innerHTML = docLinkHtml;\n",
              "        element.appendChild(docLink);\n",
              "      }\n",
              "    </script>\n",
              "  </div>\n",
              "\n",
              "\n",
              "    <div id=\"df-7b2c1504-4802-40df-a3e4-caa5c437c88b\">\n",
              "      <button class=\"colab-df-quickchart\" onclick=\"quickchart('df-7b2c1504-4802-40df-a3e4-caa5c437c88b')\"\n",
              "                title=\"Suggest charts\"\n",
              "                style=\"display:none;\">\n",
              "\n",
              "<svg xmlns=\"http://www.w3.org/2000/svg\" height=\"24px\"viewBox=\"0 0 24 24\"\n",
              "     width=\"24px\">\n",
              "    <g>\n",
              "        <path d=\"M19 3H5c-1.1 0-2 .9-2 2v14c0 1.1.9 2 2 2h14c1.1 0 2-.9 2-2V5c0-1.1-.9-2-2-2zM9 17H7v-7h2v7zm4 0h-2V7h2v10zm4 0h-2v-4h2v4z\"/>\n",
              "    </g>\n",
              "</svg>\n",
              "      </button>\n",
              "\n",
              "<style>\n",
              "  .colab-df-quickchart {\n",
              "      --bg-color: #E8F0FE;\n",
              "      --fill-color: #1967D2;\n",
              "      --hover-bg-color: #E2EBFA;\n",
              "      --hover-fill-color: #174EA6;\n",
              "      --disabled-fill-color: #AAA;\n",
              "      --disabled-bg-color: #DDD;\n",
              "  }\n",
              "\n",
              "  [theme=dark] .colab-df-quickchart {\n",
              "      --bg-color: #3B4455;\n",
              "      --fill-color: #D2E3FC;\n",
              "      --hover-bg-color: #434B5C;\n",
              "      --hover-fill-color: #FFFFFF;\n",
              "      --disabled-bg-color: #3B4455;\n",
              "      --disabled-fill-color: #666;\n",
              "  }\n",
              "\n",
              "  .colab-df-quickchart {\n",
              "    background-color: var(--bg-color);\n",
              "    border: none;\n",
              "    border-radius: 50%;\n",
              "    cursor: pointer;\n",
              "    display: none;\n",
              "    fill: var(--fill-color);\n",
              "    height: 32px;\n",
              "    padding: 0;\n",
              "    width: 32px;\n",
              "  }\n",
              "\n",
              "  .colab-df-quickchart:hover {\n",
              "    background-color: var(--hover-bg-color);\n",
              "    box-shadow: 0 1px 2px rgba(60, 64, 67, 0.3), 0 1px 3px 1px rgba(60, 64, 67, 0.15);\n",
              "    fill: var(--button-hover-fill-color);\n",
              "  }\n",
              "\n",
              "  .colab-df-quickchart-complete:disabled,\n",
              "  .colab-df-quickchart-complete:disabled:hover {\n",
              "    background-color: var(--disabled-bg-color);\n",
              "    fill: var(--disabled-fill-color);\n",
              "    box-shadow: none;\n",
              "  }\n",
              "\n",
              "  .colab-df-spinner {\n",
              "    border: 2px solid var(--fill-color);\n",
              "    border-color: transparent;\n",
              "    border-bottom-color: var(--fill-color);\n",
              "    animation:\n",
              "      spin 1s steps(1) infinite;\n",
              "  }\n",
              "\n",
              "  @keyframes spin {\n",
              "    0% {\n",
              "      border-color: transparent;\n",
              "      border-bottom-color: var(--fill-color);\n",
              "      border-left-color: var(--fill-color);\n",
              "    }\n",
              "    20% {\n",
              "      border-color: transparent;\n",
              "      border-left-color: var(--fill-color);\n",
              "      border-top-color: var(--fill-color);\n",
              "    }\n",
              "    30% {\n",
              "      border-color: transparent;\n",
              "      border-left-color: var(--fill-color);\n",
              "      border-top-color: var(--fill-color);\n",
              "      border-right-color: var(--fill-color);\n",
              "    }\n",
              "    40% {\n",
              "      border-color: transparent;\n",
              "      border-right-color: var(--fill-color);\n",
              "      border-top-color: var(--fill-color);\n",
              "    }\n",
              "    60% {\n",
              "      border-color: transparent;\n",
              "      border-right-color: var(--fill-color);\n",
              "    }\n",
              "    80% {\n",
              "      border-color: transparent;\n",
              "      border-right-color: var(--fill-color);\n",
              "      border-bottom-color: var(--fill-color);\n",
              "    }\n",
              "    90% {\n",
              "      border-color: transparent;\n",
              "      border-bottom-color: var(--fill-color);\n",
              "    }\n",
              "  }\n",
              "</style>\n",
              "\n",
              "      <script>\n",
              "        async function quickchart(key) {\n",
              "          const quickchartButtonEl =\n",
              "            document.querySelector('#' + key + ' button');\n",
              "          quickchartButtonEl.disabled = true;  // To prevent multiple clicks.\n",
              "          quickchartButtonEl.classList.add('colab-df-spinner');\n",
              "          try {\n",
              "            const charts = await google.colab.kernel.invokeFunction(\n",
              "                'suggestCharts', [key], {});\n",
              "          } catch (error) {\n",
              "            console.error('Error during call to suggestCharts:', error);\n",
              "          }\n",
              "          quickchartButtonEl.classList.remove('colab-df-spinner');\n",
              "          quickchartButtonEl.classList.add('colab-df-quickchart-complete');\n",
              "        }\n",
              "        (() => {\n",
              "          let quickchartButtonEl =\n",
              "            document.querySelector('#df-7b2c1504-4802-40df-a3e4-caa5c437c88b button');\n",
              "          quickchartButtonEl.style.display =\n",
              "            google.colab.kernel.accessAllowed ? 'block' : 'none';\n",
              "        })();\n",
              "      </script>\n",
              "    </div>\n",
              "\n",
              "  <div id=\"id_1b11625b-3f29-4a2c-8bf5-69687ee89620\">\n",
              "    <style>\n",
              "      .colab-df-generate {\n",
              "        background-color: #E8F0FE;\n",
              "        border: none;\n",
              "        border-radius: 50%;\n",
              "        cursor: pointer;\n",
              "        display: none;\n",
              "        fill: #1967D2;\n",
              "        height: 32px;\n",
              "        padding: 0 0 0 0;\n",
              "        width: 32px;\n",
              "      }\n",
              "\n",
              "      .colab-df-generate:hover {\n",
              "        background-color: #E2EBFA;\n",
              "        box-shadow: 0px 1px 2px rgba(60, 64, 67, 0.3), 0px 1px 3px 1px rgba(60, 64, 67, 0.15);\n",
              "        fill: #174EA6;\n",
              "      }\n",
              "\n",
              "      [theme=dark] .colab-df-generate {\n",
              "        background-color: #3B4455;\n",
              "        fill: #D2E3FC;\n",
              "      }\n",
              "\n",
              "      [theme=dark] .colab-df-generate:hover {\n",
              "        background-color: #434B5C;\n",
              "        box-shadow: 0px 1px 3px 1px rgba(0, 0, 0, 0.15);\n",
              "        filter: drop-shadow(0px 1px 2px rgba(0, 0, 0, 0.3));\n",
              "        fill: #FFFFFF;\n",
              "      }\n",
              "    </style>\n",
              "    <button class=\"colab-df-generate\" onclick=\"generateWithVariable('produtos')\"\n",
              "            title=\"Generate code using this dataframe.\"\n",
              "            style=\"display:none;\">\n",
              "\n",
              "  <svg xmlns=\"http://www.w3.org/2000/svg\" height=\"24px\"viewBox=\"0 0 24 24\"\n",
              "       width=\"24px\">\n",
              "    <path d=\"M7,19H8.4L18.45,9,17,7.55,7,17.6ZM5,21V16.75L18.45,3.32a2,2,0,0,1,2.83,0l1.4,1.43a1.91,1.91,0,0,1,.58,1.4,1.91,1.91,0,0,1-.58,1.4L9.25,21ZM18.45,9,17,7.55Zm-12,3A5.31,5.31,0,0,0,4.9,8.1,5.31,5.31,0,0,0,1,6.5,5.31,5.31,0,0,0,4.9,4.9,5.31,5.31,0,0,0,6.5,1,5.31,5.31,0,0,0,8.1,4.9,5.31,5.31,0,0,0,12,6.5,5.46,5.46,0,0,0,6.5,12Z\"/>\n",
              "  </svg>\n",
              "    </button>\n",
              "    <script>\n",
              "      (() => {\n",
              "      const buttonEl =\n",
              "        document.querySelector('#id_1b11625b-3f29-4a2c-8bf5-69687ee89620 button.colab-df-generate');\n",
              "      buttonEl.style.display =\n",
              "        google.colab.kernel.accessAllowed ? 'block' : 'none';\n",
              "\n",
              "      buttonEl.onclick = () => {\n",
              "        google.colab.notebook.generateWithVariable('produtos');\n",
              "      }\n",
              "      })();\n",
              "    </script>\n",
              "  </div>\n",
              "\n",
              "    </div>\n",
              "  </div>\n"
            ],
            "application/vnd.google.colaboratory.intrinsic+json": {
              "type": "dataframe",
              "variable_name": "produtos",
              "summary": "{\n  \"name\": \"produtos\",\n  \"rows\": 10,\n  \"fields\": [\n    {\n      \"column\": \"categoria_produto\",\n      \"properties\": {\n        \"dtype\": \"string\",\n        \"num_unique_values\": 10,\n        \"samples\": [\n          \"Ferramentas e Constru\\u00e7\\u00e3o\",\n          \"Roupas, Cal\\u00e7ados e Acess\\u00f3rios\",\n          \"Alimentos e Bebidas\"\n        ],\n        \"semantic_type\": \"\",\n        \"description\": \"\"\n      }\n    },\n    {\n      \"column\": \"count\",\n      \"properties\": {\n        \"dtype\": \"number\",\n        \"std\": 8155,\n        \"min\": 10232,\n        \"max\": 36060,\n        \"num_unique_values\": 10,\n        \"samples\": [\n          12063,\n          27917,\n          18022\n        ],\n        \"semantic_type\": \"\",\n        \"description\": \"\"\n      }\n    }\n  ]\n}"
            }
          },
          "metadata": {},
          "execution_count": 34
        }
      ]
    },
    {
      "cell_type": "code",
      "source": [
        "import matplotlib.pyplot as plt\n",
        "\n",
        "# Ordena o DataFrame 'produtos' pela coluna 'count' em ordem crescente\n",
        "produtos_ordenado = produtos.sort_values('count', ascending=True)\n",
        "\n",
        "plt.barh(produtos_ordenado['categoria_produto'], produtos_ordenado['count'])\n",
        "plt.xlabel('Quantidade')\n",
        "plt.ylabel('Categoria')\n",
        "plt.title('Quantidade de vendas por categoria')\n",
        "plt.show()"
      ],
      "metadata": {
        "id": "BvkcjXKxiueq",
        "colab": {
          "base_uri": "https://localhost:8080/"
        },
        "outputId": "7900b646-0035-46e3-f816-05110ef1ef18"
      },
      "execution_count": null,
      "outputs": [
        {
          "output_type": "display_data",
          "data": {
            "text/plain": [
              "<Figure size 640x480 with 1 Axes>"
            ],
            "image/png": "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\n"
          },
          "metadata": {}
        }
      ]
    },
    {
      "cell_type": "markdown",
      "source": [
        "Olha só! Apenas analisando uma única coluna já podemos extrair uma informação bem relevante sobre os registros de venda por categoria.\n",
        "\n",
        "Vamos na sequência analisar e aprender como utilizar uma **variável qualitativa ordinal** deixando-a preparada em nossa base."
      ],
      "metadata": {
        "id": "Esn8ePB_abtg"
      }
    },
    {
      "cell_type": "markdown",
      "source": [
        "## **1.3 Manipulando dados qualitativos ordinais**\n",
        "\n",
        "---"
      ],
      "metadata": {
        "id": "eUBRumYDo7Hu"
      }
    },
    {
      "cell_type": "markdown",
      "source": [
        "A gente já observou anteriormente os diferentes tipos de variáveis e começamos a entender como analisar os dados categóricos de uma base.\n",
        "\n",
        "Uma variável bem interessante em nossa base é a `avaliacao` do produto. Mesmo com dados numéricos, pode ser interpretada como uma variável qualitativa, pois as notas representam uma ordem relacionada a satisfação do cliente. Partindo do Péssimo (nota 1) ao Ótimo (nota 5)."
      ],
      "metadata": {
        "id": "pWte-bp4Jysp"
      }
    },
    {
      "cell_type": "code",
      "source": [
        "sorted(df['avaliacao'].unique())"
      ],
      "metadata": {
        "id": "BvU1nTZzjhZF",
        "colab": {
          "base_uri": "https://localhost:8080/"
        },
        "outputId": "728f29aa-5a7d-407f-a12e-4eca54782e5b"
      },
      "execution_count": null,
      "outputs": [
        {
          "output_type": "execute_result",
          "data": {
            "text/plain": [
              "[np.int64(1), np.int64(2), np.int64(3), np.int64(4), np.int64(5)]"
            ]
          },
          "metadata": {},
          "execution_count": 36
        }
      ]
    },
    {
      "cell_type": "code",
      "source": [
        "df['avaliacao_indicador'] = pd.Categorical(\n",
        "    df['avaliacao'],\n",
        "    categories=sorted(df['avaliacao'].unique()),\n",
        "    ordered=True\n",
        ")"
      ],
      "metadata": {
        "id": "QN7LFlcIjhSJ"
      },
      "execution_count": null,
      "outputs": []
    },
    {
      "cell_type": "code",
      "source": [
        "avaliacao_labels = {1: 'Péssimo', 2: 'Ruim', 3: 'Regular', 4: 'Bom', 5: 'Ótimo'}\n",
        "df['avaliacao_indicador'] = df['avaliacao_indicador'].map(avaliacao_labels)"
      ],
      "metadata": {
        "id": "--a0wfacjhNr"
      },
      "execution_count": null,
      "outputs": []
    },
    {
      "cell_type": "code",
      "source": [
        "df.head()"
      ],
      "metadata": {
        "id": "M9Bm5T5PkcXh",
        "colab": {
          "base_uri": "https://localhost:8080/"
        },
        "outputId": "90cb1fce-37af-4ed5-e14d-8f8d2c9d3db0"
      },
      "execution_count": null,
      "outputs": [
        {
          "output_type": "execute_result",
          "data": {
            "text/plain": [
              "                              id_compra sexo_biologico  idade_cliente  \\\n",
              "0  9f86e969-221a-4b1a-9b48-9aba719b61cf      Masculino             33   \n",
              "1  659f9b07-be10-4849-b2ab-dd542498a1e8       Feminino             33   \n",
              "2  d317d7df-1126-42e5-bf4b-0e178bd4e14e       Feminino             36   \n",
              "3  bb99bcf6-b333-493e-9ec2-c39f8695503c       Feminino             21   \n",
              "4  898e4624-84e9-4c41-b181-66d3b7ccfef7      Masculino             31   \n",
              "\n",
              "  regiao_cliente         categoria_produto  preco_unitario  quantidade  \\\n",
              "0            Sul  Ferramentas e Construção           96.80           2   \n",
              "1       Nordeste       Alimentos e Bebidas          247.68           1   \n",
              "2        Sudeste               Eletrônicos          627.46           2   \n",
              "3            Sul               Eletrônicos         2025.07           8   \n",
              "4   Centro-Oeste    Papelaria e Escritório           99.24           5   \n",
              "\n",
              "   total_compra  tempo_entrega  avaliacao avaliacao_indicador  \n",
              "0        193.60             18          1             Péssimo  \n",
              "1        247.68              6          4                 Bom  \n",
              "2       1254.92              8          5               Ótimo  \n",
              "3      16200.56              6          5               Ótimo  \n",
              "4        496.20             13          5               Ótimo  "
            ],
            "text/html": [
              "\n",
              "  <div id=\"df-44f5d224-1927-49eb-95a4-e30434d31fcc\" class=\"colab-df-container\">\n",
              "    <div>\n",
              "<style scoped>\n",
              "    .dataframe tbody tr th:only-of-type {\n",
              "        vertical-align: middle;\n",
              "    }\n",
              "\n",
              "    .dataframe tbody tr th {\n",
              "        vertical-align: top;\n",
              "    }\n",
              "\n",
              "    .dataframe thead th {\n",
              "        text-align: right;\n",
              "    }\n",
              "</style>\n",
              "<table border=\"1\" class=\"dataframe\">\n",
              "  <thead>\n",
              "    <tr style=\"text-align: right;\">\n",
              "      <th></th>\n",
              "      <th>id_compra</th>\n",
              "      <th>sexo_biologico</th>\n",
              "      <th>idade_cliente</th>\n",
              "      <th>regiao_cliente</th>\n",
              "      <th>categoria_produto</th>\n",
              "      <th>preco_unitario</th>\n",
              "      <th>quantidade</th>\n",
              "      <th>total_compra</th>\n",
              "      <th>tempo_entrega</th>\n",
              "      <th>avaliacao</th>\n",
              "      <th>avaliacao_indicador</th>\n",
              "    </tr>\n",
              "  </thead>\n",
              "  <tbody>\n",
              "    <tr>\n",
              "      <th>0</th>\n",
              "      <td>9f86e969-221a-4b1a-9b48-9aba719b61cf</td>\n",
              "      <td>Masculino</td>\n",
              "      <td>33</td>\n",
              "      <td>Sul</td>\n",
              "      <td>Ferramentas e Construção</td>\n",
              "      <td>96.80</td>\n",
              "      <td>2</td>\n",
              "      <td>193.60</td>\n",
              "      <td>18</td>\n",
              "      <td>1</td>\n",
              "      <td>Péssimo</td>\n",
              "    </tr>\n",
              "    <tr>\n",
              "      <th>1</th>\n",
              "      <td>659f9b07-be10-4849-b2ab-dd542498a1e8</td>\n",
              "      <td>Feminino</td>\n",
              "      <td>33</td>\n",
              "      <td>Nordeste</td>\n",
              "      <td>Alimentos e Bebidas</td>\n",
              "      <td>247.68</td>\n",
              "      <td>1</td>\n",
              "      <td>247.68</td>\n",
              "      <td>6</td>\n",
              "      <td>4</td>\n",
              "      <td>Bom</td>\n",
              "    </tr>\n",
              "    <tr>\n",
              "      <th>2</th>\n",
              "      <td>d317d7df-1126-42e5-bf4b-0e178bd4e14e</td>\n",
              "      <td>Feminino</td>\n",
              "      <td>36</td>\n",
              "      <td>Sudeste</td>\n",
              "      <td>Eletrônicos</td>\n",
              "      <td>627.46</td>\n",
              "      <td>2</td>\n",
              "      <td>1254.92</td>\n",
              "      <td>8</td>\n",
              "      <td>5</td>\n",
              "      <td>Ótimo</td>\n",
              "    </tr>\n",
              "    <tr>\n",
              "      <th>3</th>\n",
              "      <td>bb99bcf6-b333-493e-9ec2-c39f8695503c</td>\n",
              "      <td>Feminino</td>\n",
              "      <td>21</td>\n",
              "      <td>Sul</td>\n",
              "      <td>Eletrônicos</td>\n",
              "      <td>2025.07</td>\n",
              "      <td>8</td>\n",
              "      <td>16200.56</td>\n",
              "      <td>6</td>\n",
              "      <td>5</td>\n",
              "      <td>Ótimo</td>\n",
              "    </tr>\n",
              "    <tr>\n",
              "      <th>4</th>\n",
              "      <td>898e4624-84e9-4c41-b181-66d3b7ccfef7</td>\n",
              "      <td>Masculino</td>\n",
              "      <td>31</td>\n",
              "      <td>Centro-Oeste</td>\n",
              "      <td>Papelaria e Escritório</td>\n",
              "      <td>99.24</td>\n",
              "      <td>5</td>\n",
              "      <td>496.20</td>\n",
              "      <td>13</td>\n",
              "      <td>5</td>\n",
              "      <td>Ótimo</td>\n",
              "    </tr>\n",
              "  </tbody>\n",
              "</table>\n",
              "</div>\n",
              "    <div class=\"colab-df-buttons\">\n",
              "\n",
              "  <div class=\"colab-df-container\">\n",
              "    <button class=\"colab-df-convert\" onclick=\"convertToInteractive('df-44f5d224-1927-49eb-95a4-e30434d31fcc')\"\n",
              "            title=\"Convert this dataframe to an interactive table.\"\n",
              "            style=\"display:none;\">\n",
              "\n",
              "  <svg xmlns=\"http://www.w3.org/2000/svg\" height=\"24px\" viewBox=\"0 -960 960 960\">\n",
              "    <path d=\"M120-120v-720h720v720H120Zm60-500h600v-160H180v160Zm220 220h160v-160H400v160Zm0 220h160v-160H400v160ZM180-400h160v-160H180v160Zm440 0h160v-160H620v160ZM180-180h160v-160H180v160Zm440 0h160v-160H620v160Z\"/>\n",
              "  </svg>\n",
              "    </button>\n",
              "\n",
              "  <style>\n",
              "    .colab-df-container {\n",
              "      display:flex;\n",
              "      gap: 12px;\n",
              "    }\n",
              "\n",
              "    .colab-df-convert {\n",
              "      background-color: #E8F0FE;\n",
              "      border: none;\n",
              "      border-radius: 50%;\n",
              "      cursor: pointer;\n",
              "      display: none;\n",
              "      fill: #1967D2;\n",
              "      height: 32px;\n",
              "      padding: 0 0 0 0;\n",
              "      width: 32px;\n",
              "    }\n",
              "\n",
              "    .colab-df-convert:hover {\n",
              "      background-color: #E2EBFA;\n",
              "      box-shadow: 0px 1px 2px rgba(60, 64, 67, 0.3), 0px 1px 3px 1px rgba(60, 64, 67, 0.15);\n",
              "      fill: #174EA6;\n",
              "    }\n",
              "\n",
              "    .colab-df-buttons div {\n",
              "      margin-bottom: 4px;\n",
              "    }\n",
              "\n",
              "    [theme=dark] .colab-df-convert {\n",
              "      background-color: #3B4455;\n",
              "      fill: #D2E3FC;\n",
              "    }\n",
              "\n",
              "    [theme=dark] .colab-df-convert:hover {\n",
              "      background-color: #434B5C;\n",
              "      box-shadow: 0px 1px 3px 1px rgba(0, 0, 0, 0.15);\n",
              "      filter: drop-shadow(0px 1px 2px rgba(0, 0, 0, 0.3));\n",
              "      fill: #FFFFFF;\n",
              "    }\n",
              "  </style>\n",
              "\n",
              "    <script>\n",
              "      const buttonEl =\n",
              "        document.querySelector('#df-44f5d224-1927-49eb-95a4-e30434d31fcc button.colab-df-convert');\n",
              "      buttonEl.style.display =\n",
              "        google.colab.kernel.accessAllowed ? 'block' : 'none';\n",
              "\n",
              "      async function convertToInteractive(key) {\n",
              "        const element = document.querySelector('#df-44f5d224-1927-49eb-95a4-e30434d31fcc');\n",
              "        const dataTable =\n",
              "          await google.colab.kernel.invokeFunction('convertToInteractive',\n",
              "                                                    [key], {});\n",
              "        if (!dataTable) return;\n",
              "\n",
              "        const docLinkHtml = 'Like what you see? Visit the ' +\n",
              "          '<a target=\"_blank\" href=https://colab.research.google.com/notebooks/data_table.ipynb>data table notebook</a>'\n",
              "          + ' to learn more about interactive tables.';\n",
              "        element.innerHTML = '';\n",
              "        dataTable['output_type'] = 'display_data';\n",
              "        await google.colab.output.renderOutput(dataTable, element);\n",
              "        const docLink = document.createElement('div');\n",
              "        docLink.innerHTML = docLinkHtml;\n",
              "        element.appendChild(docLink);\n",
              "      }\n",
              "    </script>\n",
              "  </div>\n",
              "\n",
              "\n",
              "    <div id=\"df-58c6dd9a-1520-460e-b5b7-3a7b3f44ca51\">\n",
              "      <button class=\"colab-df-quickchart\" onclick=\"quickchart('df-58c6dd9a-1520-460e-b5b7-3a7b3f44ca51')\"\n",
              "                title=\"Suggest charts\"\n",
              "                style=\"display:none;\">\n",
              "\n",
              "<svg xmlns=\"http://www.w3.org/2000/svg\" height=\"24px\"viewBox=\"0 0 24 24\"\n",
              "     width=\"24px\">\n",
              "    <g>\n",
              "        <path d=\"M19 3H5c-1.1 0-2 .9-2 2v14c0 1.1.9 2 2 2h14c1.1 0 2-.9 2-2V5c0-1.1-.9-2-2-2zM9 17H7v-7h2v7zm4 0h-2V7h2v10zm4 0h-2v-4h2v4z\"/>\n",
              "    </g>\n",
              "</svg>\n",
              "      </button>\n",
              "\n",
              "<style>\n",
              "  .colab-df-quickchart {\n",
              "      --bg-color: #E8F0FE;\n",
              "      --fill-color: #1967D2;\n",
              "      --hover-bg-color: #E2EBFA;\n",
              "      --hover-fill-color: #174EA6;\n",
              "      --disabled-fill-color: #AAA;\n",
              "      --disabled-bg-color: #DDD;\n",
              "  }\n",
              "\n",
              "  [theme=dark] .colab-df-quickchart {\n",
              "      --bg-color: #3B4455;\n",
              "      --fill-color: #D2E3FC;\n",
              "      --hover-bg-color: #434B5C;\n",
              "      --hover-fill-color: #FFFFFF;\n",
              "      --disabled-bg-color: #3B4455;\n",
              "      --disabled-fill-color: #666;\n",
              "  }\n",
              "\n",
              "  .colab-df-quickchart {\n",
              "    background-color: var(--bg-color);\n",
              "    border: none;\n",
              "    border-radius: 50%;\n",
              "    cursor: pointer;\n",
              "    display: none;\n",
              "    fill: var(--fill-color);\n",
              "    height: 32px;\n",
              "    padding: 0;\n",
              "    width: 32px;\n",
              "  }\n",
              "\n",
              "  .colab-df-quickchart:hover {\n",
              "    background-color: var(--hover-bg-color);\n",
              "    box-shadow: 0 1px 2px rgba(60, 64, 67, 0.3), 0 1px 3px 1px rgba(60, 64, 67, 0.15);\n",
              "    fill: var(--button-hover-fill-color);\n",
              "  }\n",
              "\n",
              "  .colab-df-quickchart-complete:disabled,\n",
              "  .colab-df-quickchart-complete:disabled:hover {\n",
              "    background-color: var(--disabled-bg-color);\n",
              "    fill: var(--disabled-fill-color);\n",
              "    box-shadow: none;\n",
              "  }\n",
              "\n",
              "  .colab-df-spinner {\n",
              "    border: 2px solid var(--fill-color);\n",
              "    border-color: transparent;\n",
              "    border-bottom-color: var(--fill-color);\n",
              "    animation:\n",
              "      spin 1s steps(1) infinite;\n",
              "  }\n",
              "\n",
              "  @keyframes spin {\n",
              "    0% {\n",
              "      border-color: transparent;\n",
              "      border-bottom-color: var(--fill-color);\n",
              "      border-left-color: var(--fill-color);\n",
              "    }\n",
              "    20% {\n",
              "      border-color: transparent;\n",
              "      border-left-color: var(--fill-color);\n",
              "      border-top-color: var(--fill-color);\n",
              "    }\n",
              "    30% {\n",
              "      border-color: transparent;\n",
              "      border-left-color: var(--fill-color);\n",
              "      border-top-color: var(--fill-color);\n",
              "      border-right-color: var(--fill-color);\n",
              "    }\n",
              "    40% {\n",
              "      border-color: transparent;\n",
              "      border-right-color: var(--fill-color);\n",
              "      border-top-color: var(--fill-color);\n",
              "    }\n",
              "    60% {\n",
              "      border-color: transparent;\n",
              "      border-right-color: var(--fill-color);\n",
              "    }\n",
              "    80% {\n",
              "      border-color: transparent;\n",
              "      border-right-color: var(--fill-color);\n",
              "      border-bottom-color: var(--fill-color);\n",
              "    }\n",
              "    90% {\n",
              "      border-color: transparent;\n",
              "      border-bottom-color: var(--fill-color);\n",
              "    }\n",
              "  }\n",
              "</style>\n",
              "\n",
              "      <script>\n",
              "        async function quickchart(key) {\n",
              "          const quickchartButtonEl =\n",
              "            document.querySelector('#' + key + ' button');\n",
              "          quickchartButtonEl.disabled = true;  // To prevent multiple clicks.\n",
              "          quickchartButtonEl.classList.add('colab-df-spinner');\n",
              "          try {\n",
              "            const charts = await google.colab.kernel.invokeFunction(\n",
              "                'suggestCharts', [key], {});\n",
              "          } catch (error) {\n",
              "            console.error('Error during call to suggestCharts:', error);\n",
              "          }\n",
              "          quickchartButtonEl.classList.remove('colab-df-spinner');\n",
              "          quickchartButtonEl.classList.add('colab-df-quickchart-complete');\n",
              "        }\n",
              "        (() => {\n",
              "          let quickchartButtonEl =\n",
              "            document.querySelector('#df-58c6dd9a-1520-460e-b5b7-3a7b3f44ca51 button');\n",
              "          quickchartButtonEl.style.display =\n",
              "            google.colab.kernel.accessAllowed ? 'block' : 'none';\n",
              "        })();\n",
              "      </script>\n",
              "    </div>\n",
              "\n",
              "    </div>\n",
              "  </div>\n"
            ],
            "application/vnd.google.colaboratory.intrinsic+json": {
              "type": "dataframe",
              "variable_name": "df"
            }
          },
          "metadata": {},
          "execution_count": 39
        }
      ]
    },
    {
      "cell_type": "code",
      "source": [
        "df_unico = df[['avaliacao', 'avaliacao_indicador']].drop_duplicates()\n",
        "df_unico"
      ],
      "metadata": {
        "id": "F6dzuzZwlPfE",
        "colab": {
          "base_uri": "https://localhost:8080/"
        },
        "outputId": "47866e98-c3ac-4dae-92b2-f865745188d3"
      },
      "execution_count": null,
      "outputs": [
        {
          "output_type": "execute_result",
          "data": {
            "text/plain": [
              "    avaliacao avaliacao_indicador\n",
              "0           1             Péssimo\n",
              "1           4                 Bom\n",
              "2           5               Ótimo\n",
              "8           3             Regular\n",
              "14          2                Ruim"
            ],
            "text/html": [
              "\n",
              "  <div id=\"df-7ad8f8c6-1022-4b8c-9ded-b6850861dd07\" class=\"colab-df-container\">\n",
              "    <div>\n",
              "<style scoped>\n",
              "    .dataframe tbody tr th:only-of-type {\n",
              "        vertical-align: middle;\n",
              "    }\n",
              "\n",
              "    .dataframe tbody tr th {\n",
              "        vertical-align: top;\n",
              "    }\n",
              "\n",
              "    .dataframe thead th {\n",
              "        text-align: right;\n",
              "    }\n",
              "</style>\n",
              "<table border=\"1\" class=\"dataframe\">\n",
              "  <thead>\n",
              "    <tr style=\"text-align: right;\">\n",
              "      <th></th>\n",
              "      <th>avaliacao</th>\n",
              "      <th>avaliacao_indicador</th>\n",
              "    </tr>\n",
              "  </thead>\n",
              "  <tbody>\n",
              "    <tr>\n",
              "      <th>0</th>\n",
              "      <td>1</td>\n",
              "      <td>Péssimo</td>\n",
              "    </tr>\n",
              "    <tr>\n",
              "      <th>1</th>\n",
              "      <td>4</td>\n",
              "      <td>Bom</td>\n",
              "    </tr>\n",
              "    <tr>\n",
              "      <th>2</th>\n",
              "      <td>5</td>\n",
              "      <td>Ótimo</td>\n",
              "    </tr>\n",
              "    <tr>\n",
              "      <th>8</th>\n",
              "      <td>3</td>\n",
              "      <td>Regular</td>\n",
              "    </tr>\n",
              "    <tr>\n",
              "      <th>14</th>\n",
              "      <td>2</td>\n",
              "      <td>Ruim</td>\n",
              "    </tr>\n",
              "  </tbody>\n",
              "</table>\n",
              "</div>\n",
              "    <div class=\"colab-df-buttons\">\n",
              "\n",
              "  <div class=\"colab-df-container\">\n",
              "    <button class=\"colab-df-convert\" onclick=\"convertToInteractive('df-7ad8f8c6-1022-4b8c-9ded-b6850861dd07')\"\n",
              "            title=\"Convert this dataframe to an interactive table.\"\n",
              "            style=\"display:none;\">\n",
              "\n",
              "  <svg xmlns=\"http://www.w3.org/2000/svg\" height=\"24px\" viewBox=\"0 -960 960 960\">\n",
              "    <path d=\"M120-120v-720h720v720H120Zm60-500h600v-160H180v160Zm220 220h160v-160H400v160Zm0 220h160v-160H400v160ZM180-400h160v-160H180v160Zm440 0h160v-160H620v160ZM180-180h160v-160H180v160Zm440 0h160v-160H620v160Z\"/>\n",
              "  </svg>\n",
              "    </button>\n",
              "\n",
              "  <style>\n",
              "    .colab-df-container {\n",
              "      display:flex;\n",
              "      gap: 12px;\n",
              "    }\n",
              "\n",
              "    .colab-df-convert {\n",
              "      background-color: #E8F0FE;\n",
              "      border: none;\n",
              "      border-radius: 50%;\n",
              "      cursor: pointer;\n",
              "      display: none;\n",
              "      fill: #1967D2;\n",
              "      height: 32px;\n",
              "      padding: 0 0 0 0;\n",
              "      width: 32px;\n",
              "    }\n",
              "\n",
              "    .colab-df-convert:hover {\n",
              "      background-color: #E2EBFA;\n",
              "      box-shadow: 0px 1px 2px rgba(60, 64, 67, 0.3), 0px 1px 3px 1px rgba(60, 64, 67, 0.15);\n",
              "      fill: #174EA6;\n",
              "    }\n",
              "\n",
              "    .colab-df-buttons div {\n",
              "      margin-bottom: 4px;\n",
              "    }\n",
              "\n",
              "    [theme=dark] .colab-df-convert {\n",
              "      background-color: #3B4455;\n",
              "      fill: #D2E3FC;\n",
              "    }\n",
              "\n",
              "    [theme=dark] .colab-df-convert:hover {\n",
              "      background-color: #434B5C;\n",
              "      box-shadow: 0px 1px 3px 1px rgba(0, 0, 0, 0.15);\n",
              "      filter: drop-shadow(0px 1px 2px rgba(0, 0, 0, 0.3));\n",
              "      fill: #FFFFFF;\n",
              "    }\n",
              "  </style>\n",
              "\n",
              "    <script>\n",
              "      const buttonEl =\n",
              "        document.querySelector('#df-7ad8f8c6-1022-4b8c-9ded-b6850861dd07 button.colab-df-convert');\n",
              "      buttonEl.style.display =\n",
              "        google.colab.kernel.accessAllowed ? 'block' : 'none';\n",
              "\n",
              "      async function convertToInteractive(key) {\n",
              "        const element = document.querySelector('#df-7ad8f8c6-1022-4b8c-9ded-b6850861dd07');\n",
              "        const dataTable =\n",
              "          await google.colab.kernel.invokeFunction('convertToInteractive',\n",
              "                                                    [key], {});\n",
              "        if (!dataTable) return;\n",
              "\n",
              "        const docLinkHtml = 'Like what you see? Visit the ' +\n",
              "          '<a target=\"_blank\" href=https://colab.research.google.com/notebooks/data_table.ipynb>data table notebook</a>'\n",
              "          + ' to learn more about interactive tables.';\n",
              "        element.innerHTML = '';\n",
              "        dataTable['output_type'] = 'display_data';\n",
              "        await google.colab.output.renderOutput(dataTable, element);\n",
              "        const docLink = document.createElement('div');\n",
              "        docLink.innerHTML = docLinkHtml;\n",
              "        element.appendChild(docLink);\n",
              "      }\n",
              "    </script>\n",
              "  </div>\n",
              "\n",
              "\n",
              "    <div id=\"df-f8897290-a67d-41c9-a75a-c93f294adbda\">\n",
              "      <button class=\"colab-df-quickchart\" onclick=\"quickchart('df-f8897290-a67d-41c9-a75a-c93f294adbda')\"\n",
              "                title=\"Suggest charts\"\n",
              "                style=\"display:none;\">\n",
              "\n",
              "<svg xmlns=\"http://www.w3.org/2000/svg\" height=\"24px\"viewBox=\"0 0 24 24\"\n",
              "     width=\"24px\">\n",
              "    <g>\n",
              "        <path d=\"M19 3H5c-1.1 0-2 .9-2 2v14c0 1.1.9 2 2 2h14c1.1 0 2-.9 2-2V5c0-1.1-.9-2-2-2zM9 17H7v-7h2v7zm4 0h-2V7h2v10zm4 0h-2v-4h2v4z\"/>\n",
              "    </g>\n",
              "</svg>\n",
              "      </button>\n",
              "\n",
              "<style>\n",
              "  .colab-df-quickchart {\n",
              "      --bg-color: #E8F0FE;\n",
              "      --fill-color: #1967D2;\n",
              "      --hover-bg-color: #E2EBFA;\n",
              "      --hover-fill-color: #174EA6;\n",
              "      --disabled-fill-color: #AAA;\n",
              "      --disabled-bg-color: #DDD;\n",
              "  }\n",
              "\n",
              "  [theme=dark] .colab-df-quickchart {\n",
              "      --bg-color: #3B4455;\n",
              "      --fill-color: #D2E3FC;\n",
              "      --hover-bg-color: #434B5C;\n",
              "      --hover-fill-color: #FFFFFF;\n",
              "      --disabled-bg-color: #3B4455;\n",
              "      --disabled-fill-color: #666;\n",
              "  }\n",
              "\n",
              "  .colab-df-quickchart {\n",
              "    background-color: var(--bg-color);\n",
              "    border: none;\n",
              "    border-radius: 50%;\n",
              "    cursor: pointer;\n",
              "    display: none;\n",
              "    fill: var(--fill-color);\n",
              "    height: 32px;\n",
              "    padding: 0;\n",
              "    width: 32px;\n",
              "  }\n",
              "\n",
              "  .colab-df-quickchart:hover {\n",
              "    background-color: var(--hover-bg-color);\n",
              "    box-shadow: 0 1px 2px rgba(60, 64, 67, 0.3), 0 1px 3px 1px rgba(60, 64, 67, 0.15);\n",
              "    fill: var(--button-hover-fill-color);\n",
              "  }\n",
              "\n",
              "  .colab-df-quickchart-complete:disabled,\n",
              "  .colab-df-quickchart-complete:disabled:hover {\n",
              "    background-color: var(--disabled-bg-color);\n",
              "    fill: var(--disabled-fill-color);\n",
              "    box-shadow: none;\n",
              "  }\n",
              "\n",
              "  .colab-df-spinner {\n",
              "    border: 2px solid var(--fill-color);\n",
              "    border-color: transparent;\n",
              "    border-bottom-color: var(--fill-color);\n",
              "    animation:\n",
              "      spin 1s steps(1) infinite;\n",
              "  }\n",
              "\n",
              "  @keyframes spin {\n",
              "    0% {\n",
              "      border-color: transparent;\n",
              "      border-bottom-color: var(--fill-color);\n",
              "      border-left-color: var(--fill-color);\n",
              "    }\n",
              "    20% {\n",
              "      border-color: transparent;\n",
              "      border-left-color: var(--fill-color);\n",
              "      border-top-color: var(--fill-color);\n",
              "    }\n",
              "    30% {\n",
              "      border-color: transparent;\n",
              "      border-left-color: var(--fill-color);\n",
              "      border-top-color: var(--fill-color);\n",
              "      border-right-color: var(--fill-color);\n",
              "    }\n",
              "    40% {\n",
              "      border-color: transparent;\n",
              "      border-right-color: var(--fill-color);\n",
              "      border-top-color: var(--fill-color);\n",
              "    }\n",
              "    60% {\n",
              "      border-color: transparent;\n",
              "      border-right-color: var(--fill-color);\n",
              "    }\n",
              "    80% {\n",
              "      border-color: transparent;\n",
              "      border-right-color: var(--fill-color);\n",
              "      border-bottom-color: var(--fill-color);\n",
              "    }\n",
              "    90% {\n",
              "      border-color: transparent;\n",
              "      border-bottom-color: var(--fill-color);\n",
              "    }\n",
              "  }\n",
              "</style>\n",
              "\n",
              "      <script>\n",
              "        async function quickchart(key) {\n",
              "          const quickchartButtonEl =\n",
              "            document.querySelector('#' + key + ' button');\n",
              "          quickchartButtonEl.disabled = true;  // To prevent multiple clicks.\n",
              "          quickchartButtonEl.classList.add('colab-df-spinner');\n",
              "          try {\n",
              "            const charts = await google.colab.kernel.invokeFunction(\n",
              "                'suggestCharts', [key], {});\n",
              "          } catch (error) {\n",
              "            console.error('Error during call to suggestCharts:', error);\n",
              "          }\n",
              "          quickchartButtonEl.classList.remove('colab-df-spinner');\n",
              "          quickchartButtonEl.classList.add('colab-df-quickchart-complete');\n",
              "        }\n",
              "        (() => {\n",
              "          let quickchartButtonEl =\n",
              "            document.querySelector('#df-f8897290-a67d-41c9-a75a-c93f294adbda button');\n",
              "          quickchartButtonEl.style.display =\n",
              "            google.colab.kernel.accessAllowed ? 'block' : 'none';\n",
              "        })();\n",
              "      </script>\n",
              "    </div>\n",
              "\n",
              "  <div id=\"id_19b03416-813a-47a0-9e2a-e3d3d5083fa5\">\n",
              "    <style>\n",
              "      .colab-df-generate {\n",
              "        background-color: #E8F0FE;\n",
              "        border: none;\n",
              "        border-radius: 50%;\n",
              "        cursor: pointer;\n",
              "        display: none;\n",
              "        fill: #1967D2;\n",
              "        height: 32px;\n",
              "        padding: 0 0 0 0;\n",
              "        width: 32px;\n",
              "      }\n",
              "\n",
              "      .colab-df-generate:hover {\n",
              "        background-color: #E2EBFA;\n",
              "        box-shadow: 0px 1px 2px rgba(60, 64, 67, 0.3), 0px 1px 3px 1px rgba(60, 64, 67, 0.15);\n",
              "        fill: #174EA6;\n",
              "      }\n",
              "\n",
              "      [theme=dark] .colab-df-generate {\n",
              "        background-color: #3B4455;\n",
              "        fill: #D2E3FC;\n",
              "      }\n",
              "\n",
              "      [theme=dark] .colab-df-generate:hover {\n",
              "        background-color: #434B5C;\n",
              "        box-shadow: 0px 1px 3px 1px rgba(0, 0, 0, 0.15);\n",
              "        filter: drop-shadow(0px 1px 2px rgba(0, 0, 0, 0.3));\n",
              "        fill: #FFFFFF;\n",
              "      }\n",
              "    </style>\n",
              "    <button class=\"colab-df-generate\" onclick=\"generateWithVariable('df_unico')\"\n",
              "            title=\"Generate code using this dataframe.\"\n",
              "            style=\"display:none;\">\n",
              "\n",
              "  <svg xmlns=\"http://www.w3.org/2000/svg\" height=\"24px\"viewBox=\"0 0 24 24\"\n",
              "       width=\"24px\">\n",
              "    <path d=\"M7,19H8.4L18.45,9,17,7.55,7,17.6ZM5,21V16.75L18.45,3.32a2,2,0,0,1,2.83,0l1.4,1.43a1.91,1.91,0,0,1,.58,1.4,1.91,1.91,0,0,1-.58,1.4L9.25,21ZM18.45,9,17,7.55Zm-12,3A5.31,5.31,0,0,0,4.9,8.1,5.31,5.31,0,0,0,1,6.5,5.31,5.31,0,0,0,4.9,4.9,5.31,5.31,0,0,0,6.5,1,5.31,5.31,0,0,0,8.1,4.9,5.31,5.31,0,0,0,12,6.5,5.46,5.46,0,0,0,6.5,12Z\"/>\n",
              "  </svg>\n",
              "    </button>\n",
              "    <script>\n",
              "      (() => {\n",
              "      const buttonEl =\n",
              "        document.querySelector('#id_19b03416-813a-47a0-9e2a-e3d3d5083fa5 button.colab-df-generate');\n",
              "      buttonEl.style.display =\n",
              "        google.colab.kernel.accessAllowed ? 'block' : 'none';\n",
              "\n",
              "      buttonEl.onclick = () => {\n",
              "        google.colab.notebook.generateWithVariable('df_unico');\n",
              "      }\n",
              "      })();\n",
              "    </script>\n",
              "  </div>\n",
              "\n",
              "    </div>\n",
              "  </div>\n"
            ],
            "application/vnd.google.colaboratory.intrinsic+json": {
              "type": "dataframe",
              "variable_name": "df_unico",
              "summary": "{\n  \"name\": \"df_unico\",\n  \"rows\": 5,\n  \"fields\": [\n    {\n      \"column\": \"avaliacao\",\n      \"properties\": {\n        \"dtype\": \"number\",\n        \"std\": 1,\n        \"min\": 1,\n        \"max\": 5,\n        \"num_unique_values\": 5,\n        \"samples\": [\n          4,\n          2,\n          5\n        ],\n        \"semantic_type\": \"\",\n        \"description\": \"\"\n      }\n    },\n    {\n      \"column\": \"avaliacao_indicador\",\n      \"properties\": {\n        \"dtype\": \"category\",\n        \"num_unique_values\": 5,\n        \"samples\": [\n          \"Bom\",\n          \"Ruim\",\n          \"\\u00d3timo\"\n        ],\n        \"semantic_type\": \"\",\n        \"description\": \"\"\n      }\n    }\n  ]\n}"
            }
          },
          "metadata": {},
          "execution_count": 40
        }
      ]
    },
    {
      "cell_type": "markdown",
      "source": [
        "Passando por alguns exemplos de variáveis qualitativas em nosso dado. Mas que tal analisarmos também os diferentes dados numéricos?"
      ],
      "metadata": {
        "id": "t9YXItFpJ6R6"
      }
    },
    {
      "cell_type": "markdown",
      "source": [
        "## **1.4 Diferenciando dados discretos de contínuos**\n",
        "\n",
        "---"
      ],
      "metadata": {
        "id": "PjCs3WacJ8xh"
      }
    },
    {
      "cell_type": "markdown",
      "source": [
        "Temos alguns dados numéricos em nossa base de dados. Mas cada variável  tem a sua forma de ser analisada. Algumas delas até com possibilidades de serem encaixadas em 2 ou mais subdivisões."
      ],
      "metadata": {
        "id": "0J7x2jptJ-va"
      }
    },
    {
      "cell_type": "code",
      "source": [
        "df['quantidade'].unique()"
      ],
      "metadata": {
        "id": "gk_La5MGjcS9",
        "colab": {
          "base_uri": "https://localhost:8080/"
        },
        "outputId": "fb78552b-7d3b-4cb6-e455-8fd019c13e71"
      },
      "execution_count": null,
      "outputs": [
        {
          "output_type": "execute_result",
          "data": {
            "text/plain": [
              "array([ 2,  1,  8,  5,  3,  7,  6,  4, 10,  9])"
            ]
          },
          "metadata": {},
          "execution_count": 41
        }
      ]
    },
    {
      "cell_type": "code",
      "source": [
        "print(f\"Vendemos de {min(df['quantidade'])} até {max(df['quantidade'])} unidades de produto por registro\")"
      ],
      "metadata": {
        "id": "_i1Q4Oaojb_3",
        "colab": {
          "base_uri": "https://localhost:8080/"
        },
        "outputId": "ed62f261-2fd0-40d0-c94d-75c680853f29"
      },
      "execution_count": null,
      "outputs": [
        {
          "output_type": "stream",
          "name": "stdout",
          "text": [
            "Vendemos de 1 até 10 unidades de produto por registro\n"
          ]
        }
      ]
    },
    {
      "cell_type": "code",
      "source": [
        "df['total_compra'].unique()"
      ],
      "metadata": {
        "id": "ZApQiQUujb7D",
        "colab": {
          "base_uri": "https://localhost:8080/"
        },
        "outputId": "10ecec82-3580-45ec-8bff-6e431de36268"
      },
      "execution_count": null,
      "outputs": [
        {
          "output_type": "execute_result",
          "data": {
            "text/plain": [
              "array([  193.6 ,   247.68,  1254.92, ..., 13183.8 ,  1666.33,  1193.03])"
            ]
          },
          "metadata": {},
          "execution_count": 43
        }
      ]
    },
    {
      "cell_type": "code",
      "source": [
        "print(f\"Tivemos vendas a partir de R$ {min(df['total_compra']):,.2f} até R$ {max(df['total_compra']):,.2f}\")"
      ],
      "metadata": {
        "id": "I-zXWVt0jb2Q",
        "colab": {
          "base_uri": "https://localhost:8080/"
        },
        "outputId": "ea2a1fcf-9e45-4c80-c5b0-330ba6a3833e"
      },
      "execution_count": null,
      "outputs": [
        {
          "output_type": "stream",
          "name": "stdout",
          "text": [
            "Tivemos vendas a partir de R$ 5.05 até R$ 20,744.70\n"
          ]
        }
      ]
    },
    {
      "cell_type": "code",
      "source": [
        "df.sort_values(by='total_compra')"
      ],
      "metadata": {
        "id": "IAGw2SkQjeY2",
        "colab": {
          "base_uri": "https://localhost:8080/"
        },
        "outputId": "48ae0b01-083b-47eb-edd1-42bd3b4d35d9"
      },
      "execution_count": null,
      "outputs": [
        {
          "output_type": "execute_result",
          "data": {
            "text/plain": [
              "                                   id_compra sexo_biologico  idade_cliente  \\\n",
              "157075  b866504d-9fe1-4c75-8956-decf7f25dd75      Masculino             35   \n",
              "4562    5a66b58a-2ab0-49c3-b597-f45846130ded       Feminino             37   \n",
              "6279    c67e996c-403c-4f58-81c5-996c1ab676a5      Masculino             34   \n",
              "50155   e7ad75b4-6a0e-4609-801c-ef12adeb837a      Masculino             55   \n",
              "85703   ed88c6a2-2fdd-4278-bfa8-fd54f7e2f357       Feminino             42   \n",
              "...                                      ...            ...            ...   \n",
              "88073   5f125e88-f01c-4499-9a25-c4910bc76dee      Masculino             39   \n",
              "134287  2c3853dc-b9dc-400a-bd70-ff2521fe4d8a       Feminino             35   \n",
              "17790   dbf2429a-3252-42df-ad4e-a11339afceb8       Feminino             33   \n",
              "114561  dc3c4162-5772-480e-b7fa-0ccc41d78a40       Feminino             29   \n",
              "108742  8c971cc6-964e-468d-86f8-1e6955887bd1       Feminino             28   \n",
              "\n",
              "       regiao_cliente       categoria_produto  preco_unitario  quantidade  \\\n",
              "157075        Sudeste  Papelaria e Escritório            5.05           1   \n",
              "4562            Norte  Papelaria e Escritório            5.14           1   \n",
              "6279              Sul  Papelaria e Escritório            5.28           1   \n",
              "50155         Sudeste  Papelaria e Escritório            5.35           1   \n",
              "85703    Centro-Oeste  Papelaria e Escritório            5.78           1   \n",
              "...               ...                     ...             ...         ...   \n",
              "88073        Nordeste             Eletrônicos         2037.44          10   \n",
              "134287            Sul             Eletrônicos         2057.76          10   \n",
              "17790         Sudeste             Eletrônicos         2058.18          10   \n",
              "114561        Sudeste             Eletrônicos         2058.77          10   \n",
              "108742        Sudeste             Eletrônicos         2074.47          10   \n",
              "\n",
              "        total_compra  tempo_entrega  avaliacao avaliacao_indicador  \n",
              "157075          5.05             13          4                 Bom  \n",
              "4562            5.14             11          2                Ruim  \n",
              "6279            5.28              7          3             Regular  \n",
              "50155           5.35             11          5               Ótimo  \n",
              "85703           5.78             16          4                 Bom  \n",
              "...              ...            ...        ...                 ...  \n",
              "88073       20374.40              7          2                Ruim  \n",
              "134287      20577.60              6          2                Ruim  \n",
              "17790       20581.80              4          5               Ótimo  \n",
              "114561      20587.70              6          5               Ótimo  \n",
              "108742      20744.70             11          1             Péssimo  \n",
              "\n",
              "[200000 rows x 11 columns]"
            ],
            "text/html": [
              "\n",
              "  <div id=\"df-9b1045e7-7971-4ff2-84cd-b35b063cfa38\" class=\"colab-df-container\">\n",
              "    <div>\n",
              "<style scoped>\n",
              "    .dataframe tbody tr th:only-of-type {\n",
              "        vertical-align: middle;\n",
              "    }\n",
              "\n",
              "    .dataframe tbody tr th {\n",
              "        vertical-align: top;\n",
              "    }\n",
              "\n",
              "    .dataframe thead th {\n",
              "        text-align: right;\n",
              "    }\n",
              "</style>\n",
              "<table border=\"1\" class=\"dataframe\">\n",
              "  <thead>\n",
              "    <tr style=\"text-align: right;\">\n",
              "      <th></th>\n",
              "      <th>id_compra</th>\n",
              "      <th>sexo_biologico</th>\n",
              "      <th>idade_cliente</th>\n",
              "      <th>regiao_cliente</th>\n",
              "      <th>categoria_produto</th>\n",
              "      <th>preco_unitario</th>\n",
              "      <th>quantidade</th>\n",
              "      <th>total_compra</th>\n",
              "      <th>tempo_entrega</th>\n",
              "      <th>avaliacao</th>\n",
              "      <th>avaliacao_indicador</th>\n",
              "    </tr>\n",
              "  </thead>\n",
              "  <tbody>\n",
              "    <tr>\n",
              "      <th>157075</th>\n",
              "      <td>b866504d-9fe1-4c75-8956-decf7f25dd75</td>\n",
              "      <td>Masculino</td>\n",
              "      <td>35</td>\n",
              "      <td>Sudeste</td>\n",
              "      <td>Papelaria e Escritório</td>\n",
              "      <td>5.05</td>\n",
              "      <td>1</td>\n",
              "      <td>5.05</td>\n",
              "      <td>13</td>\n",
              "      <td>4</td>\n",
              "      <td>Bom</td>\n",
              "    </tr>\n",
              "    <tr>\n",
              "      <th>4562</th>\n",
              "      <td>5a66b58a-2ab0-49c3-b597-f45846130ded</td>\n",
              "      <td>Feminino</td>\n",
              "      <td>37</td>\n",
              "      <td>Norte</td>\n",
              "      <td>Papelaria e Escritório</td>\n",
              "      <td>5.14</td>\n",
              "      <td>1</td>\n",
              "      <td>5.14</td>\n",
              "      <td>11</td>\n",
              "      <td>2</td>\n",
              "      <td>Ruim</td>\n",
              "    </tr>\n",
              "    <tr>\n",
              "      <th>6279</th>\n",
              "      <td>c67e996c-403c-4f58-81c5-996c1ab676a5</td>\n",
              "      <td>Masculino</td>\n",
              "      <td>34</td>\n",
              "      <td>Sul</td>\n",
              "      <td>Papelaria e Escritório</td>\n",
              "      <td>5.28</td>\n",
              "      <td>1</td>\n",
              "      <td>5.28</td>\n",
              "      <td>7</td>\n",
              "      <td>3</td>\n",
              "      <td>Regular</td>\n",
              "    </tr>\n",
              "    <tr>\n",
              "      <th>50155</th>\n",
              "      <td>e7ad75b4-6a0e-4609-801c-ef12adeb837a</td>\n",
              "      <td>Masculino</td>\n",
              "      <td>55</td>\n",
              "      <td>Sudeste</td>\n",
              "      <td>Papelaria e Escritório</td>\n",
              "      <td>5.35</td>\n",
              "      <td>1</td>\n",
              "      <td>5.35</td>\n",
              "      <td>11</td>\n",
              "      <td>5</td>\n",
              "      <td>Ótimo</td>\n",
              "    </tr>\n",
              "    <tr>\n",
              "      <th>85703</th>\n",
              "      <td>ed88c6a2-2fdd-4278-bfa8-fd54f7e2f357</td>\n",
              "      <td>Feminino</td>\n",
              "      <td>42</td>\n",
              "      <td>Centro-Oeste</td>\n",
              "      <td>Papelaria e Escritório</td>\n",
              "      <td>5.78</td>\n",
              "      <td>1</td>\n",
              "      <td>5.78</td>\n",
              "      <td>16</td>\n",
              "      <td>4</td>\n",
              "      <td>Bom</td>\n",
              "    </tr>\n",
              "    <tr>\n",
              "      <th>...</th>\n",
              "      <td>...</td>\n",
              "      <td>...</td>\n",
              "      <td>...</td>\n",
              "      <td>...</td>\n",
              "      <td>...</td>\n",
              "      <td>...</td>\n",
              "      <td>...</td>\n",
              "      <td>...</td>\n",
              "      <td>...</td>\n",
              "      <td>...</td>\n",
              "      <td>...</td>\n",
              "    </tr>\n",
              "    <tr>\n",
              "      <th>88073</th>\n",
              "      <td>5f125e88-f01c-4499-9a25-c4910bc76dee</td>\n",
              "      <td>Masculino</td>\n",
              "      <td>39</td>\n",
              "      <td>Nordeste</td>\n",
              "      <td>Eletrônicos</td>\n",
              "      <td>2037.44</td>\n",
              "      <td>10</td>\n",
              "      <td>20374.40</td>\n",
              "      <td>7</td>\n",
              "      <td>2</td>\n",
              "      <td>Ruim</td>\n",
              "    </tr>\n",
              "    <tr>\n",
              "      <th>134287</th>\n",
              "      <td>2c3853dc-b9dc-400a-bd70-ff2521fe4d8a</td>\n",
              "      <td>Feminino</td>\n",
              "      <td>35</td>\n",
              "      <td>Sul</td>\n",
              "      <td>Eletrônicos</td>\n",
              "      <td>2057.76</td>\n",
              "      <td>10</td>\n",
              "      <td>20577.60</td>\n",
              "      <td>6</td>\n",
              "      <td>2</td>\n",
              "      <td>Ruim</td>\n",
              "    </tr>\n",
              "    <tr>\n",
              "      <th>17790</th>\n",
              "      <td>dbf2429a-3252-42df-ad4e-a11339afceb8</td>\n",
              "      <td>Feminino</td>\n",
              "      <td>33</td>\n",
              "      <td>Sudeste</td>\n",
              "      <td>Eletrônicos</td>\n",
              "      <td>2058.18</td>\n",
              "      <td>10</td>\n",
              "      <td>20581.80</td>\n",
              "      <td>4</td>\n",
              "      <td>5</td>\n",
              "      <td>Ótimo</td>\n",
              "    </tr>\n",
              "    <tr>\n",
              "      <th>114561</th>\n",
              "      <td>dc3c4162-5772-480e-b7fa-0ccc41d78a40</td>\n",
              "      <td>Feminino</td>\n",
              "      <td>29</td>\n",
              "      <td>Sudeste</td>\n",
              "      <td>Eletrônicos</td>\n",
              "      <td>2058.77</td>\n",
              "      <td>10</td>\n",
              "      <td>20587.70</td>\n",
              "      <td>6</td>\n",
              "      <td>5</td>\n",
              "      <td>Ótimo</td>\n",
              "    </tr>\n",
              "    <tr>\n",
              "      <th>108742</th>\n",
              "      <td>8c971cc6-964e-468d-86f8-1e6955887bd1</td>\n",
              "      <td>Feminino</td>\n",
              "      <td>28</td>\n",
              "      <td>Sudeste</td>\n",
              "      <td>Eletrônicos</td>\n",
              "      <td>2074.47</td>\n",
              "      <td>10</td>\n",
              "      <td>20744.70</td>\n",
              "      <td>11</td>\n",
              "      <td>1</td>\n",
              "      <td>Péssimo</td>\n",
              "    </tr>\n",
              "  </tbody>\n",
              "</table>\n",
              "<p>200000 rows × 11 columns</p>\n",
              "</div>\n",
              "    <div class=\"colab-df-buttons\">\n",
              "\n",
              "  <div class=\"colab-df-container\">\n",
              "    <button class=\"colab-df-convert\" onclick=\"convertToInteractive('df-9b1045e7-7971-4ff2-84cd-b35b063cfa38')\"\n",
              "            title=\"Convert this dataframe to an interactive table.\"\n",
              "            style=\"display:none;\">\n",
              "\n",
              "  <svg xmlns=\"http://www.w3.org/2000/svg\" height=\"24px\" viewBox=\"0 -960 960 960\">\n",
              "    <path d=\"M120-120v-720h720v720H120Zm60-500h600v-160H180v160Zm220 220h160v-160H400v160Zm0 220h160v-160H400v160ZM180-400h160v-160H180v160Zm440 0h160v-160H620v160ZM180-180h160v-160H180v160Zm440 0h160v-160H620v160Z\"/>\n",
              "  </svg>\n",
              "    </button>\n",
              "\n",
              "  <style>\n",
              "    .colab-df-container {\n",
              "      display:flex;\n",
              "      gap: 12px;\n",
              "    }\n",
              "\n",
              "    .colab-df-convert {\n",
              "      background-color: #E8F0FE;\n",
              "      border: none;\n",
              "      border-radius: 50%;\n",
              "      cursor: pointer;\n",
              "      display: none;\n",
              "      fill: #1967D2;\n",
              "      height: 32px;\n",
              "      padding: 0 0 0 0;\n",
              "      width: 32px;\n",
              "    }\n",
              "\n",
              "    .colab-df-convert:hover {\n",
              "      background-color: #E2EBFA;\n",
              "      box-shadow: 0px 1px 2px rgba(60, 64, 67, 0.3), 0px 1px 3px 1px rgba(60, 64, 67, 0.15);\n",
              "      fill: #174EA6;\n",
              "    }\n",
              "\n",
              "    .colab-df-buttons div {\n",
              "      margin-bottom: 4px;\n",
              "    }\n",
              "\n",
              "    [theme=dark] .colab-df-convert {\n",
              "      background-color: #3B4455;\n",
              "      fill: #D2E3FC;\n",
              "    }\n",
              "\n",
              "    [theme=dark] .colab-df-convert:hover {\n",
              "      background-color: #434B5C;\n",
              "      box-shadow: 0px 1px 3px 1px rgba(0, 0, 0, 0.15);\n",
              "      filter: drop-shadow(0px 1px 2px rgba(0, 0, 0, 0.3));\n",
              "      fill: #FFFFFF;\n",
              "    }\n",
              "  </style>\n",
              "\n",
              "    <script>\n",
              "      const buttonEl =\n",
              "        document.querySelector('#df-9b1045e7-7971-4ff2-84cd-b35b063cfa38 button.colab-df-convert');\n",
              "      buttonEl.style.display =\n",
              "        google.colab.kernel.accessAllowed ? 'block' : 'none';\n",
              "\n",
              "      async function convertToInteractive(key) {\n",
              "        const element = document.querySelector('#df-9b1045e7-7971-4ff2-84cd-b35b063cfa38');\n",
              "        const dataTable =\n",
              "          await google.colab.kernel.invokeFunction('convertToInteractive',\n",
              "                                                    [key], {});\n",
              "        if (!dataTable) return;\n",
              "\n",
              "        const docLinkHtml = 'Like what you see? Visit the ' +\n",
              "          '<a target=\"_blank\" href=https://colab.research.google.com/notebooks/data_table.ipynb>data table notebook</a>'\n",
              "          + ' to learn more about interactive tables.';\n",
              "        element.innerHTML = '';\n",
              "        dataTable['output_type'] = 'display_data';\n",
              "        await google.colab.output.renderOutput(dataTable, element);\n",
              "        const docLink = document.createElement('div');\n",
              "        docLink.innerHTML = docLinkHtml;\n",
              "        element.appendChild(docLink);\n",
              "      }\n",
              "    </script>\n",
              "  </div>\n",
              "\n",
              "\n",
              "    <div id=\"df-32fa83e4-9a73-424b-a39e-917b83ca1aea\">\n",
              "      <button class=\"colab-df-quickchart\" onclick=\"quickchart('df-32fa83e4-9a73-424b-a39e-917b83ca1aea')\"\n",
              "                title=\"Suggest charts\"\n",
              "                style=\"display:none;\">\n",
              "\n",
              "<svg xmlns=\"http://www.w3.org/2000/svg\" height=\"24px\"viewBox=\"0 0 24 24\"\n",
              "     width=\"24px\">\n",
              "    <g>\n",
              "        <path d=\"M19 3H5c-1.1 0-2 .9-2 2v14c0 1.1.9 2 2 2h14c1.1 0 2-.9 2-2V5c0-1.1-.9-2-2-2zM9 17H7v-7h2v7zm4 0h-2V7h2v10zm4 0h-2v-4h2v4z\"/>\n",
              "    </g>\n",
              "</svg>\n",
              "      </button>\n",
              "\n",
              "<style>\n",
              "  .colab-df-quickchart {\n",
              "      --bg-color: #E8F0FE;\n",
              "      --fill-color: #1967D2;\n",
              "      --hover-bg-color: #E2EBFA;\n",
              "      --hover-fill-color: #174EA6;\n",
              "      --disabled-fill-color: #AAA;\n",
              "      --disabled-bg-color: #DDD;\n",
              "  }\n",
              "\n",
              "  [theme=dark] .colab-df-quickchart {\n",
              "      --bg-color: #3B4455;\n",
              "      --fill-color: #D2E3FC;\n",
              "      --hover-bg-color: #434B5C;\n",
              "      --hover-fill-color: #FFFFFF;\n",
              "      --disabled-bg-color: #3B4455;\n",
              "      --disabled-fill-color: #666;\n",
              "  }\n",
              "\n",
              "  .colab-df-quickchart {\n",
              "    background-color: var(--bg-color);\n",
              "    border: none;\n",
              "    border-radius: 50%;\n",
              "    cursor: pointer;\n",
              "    display: none;\n",
              "    fill: var(--fill-color);\n",
              "    height: 32px;\n",
              "    padding: 0;\n",
              "    width: 32px;\n",
              "  }\n",
              "\n",
              "  .colab-df-quickchart:hover {\n",
              "    background-color: var(--hover-bg-color);\n",
              "    box-shadow: 0 1px 2px rgba(60, 64, 67, 0.3), 0 1px 3px 1px rgba(60, 64, 67, 0.15);\n",
              "    fill: var(--button-hover-fill-color);\n",
              "  }\n",
              "\n",
              "  .colab-df-quickchart-complete:disabled,\n",
              "  .colab-df-quickchart-complete:disabled:hover {\n",
              "    background-color: var(--disabled-bg-color);\n",
              "    fill: var(--disabled-fill-color);\n",
              "    box-shadow: none;\n",
              "  }\n",
              "\n",
              "  .colab-df-spinner {\n",
              "    border: 2px solid var(--fill-color);\n",
              "    border-color: transparent;\n",
              "    border-bottom-color: var(--fill-color);\n",
              "    animation:\n",
              "      spin 1s steps(1) infinite;\n",
              "  }\n",
              "\n",
              "  @keyframes spin {\n",
              "    0% {\n",
              "      border-color: transparent;\n",
              "      border-bottom-color: var(--fill-color);\n",
              "      border-left-color: var(--fill-color);\n",
              "    }\n",
              "    20% {\n",
              "      border-color: transparent;\n",
              "      border-left-color: var(--fill-color);\n",
              "      border-top-color: var(--fill-color);\n",
              "    }\n",
              "    30% {\n",
              "      border-color: transparent;\n",
              "      border-left-color: var(--fill-color);\n",
              "      border-top-color: var(--fill-color);\n",
              "      border-right-color: var(--fill-color);\n",
              "    }\n",
              "    40% {\n",
              "      border-color: transparent;\n",
              "      border-right-color: var(--fill-color);\n",
              "      border-top-color: var(--fill-color);\n",
              "    }\n",
              "    60% {\n",
              "      border-color: transparent;\n",
              "      border-right-color: var(--fill-color);\n",
              "    }\n",
              "    80% {\n",
              "      border-color: transparent;\n",
              "      border-right-color: var(--fill-color);\n",
              "      border-bottom-color: var(--fill-color);\n",
              "    }\n",
              "    90% {\n",
              "      border-color: transparent;\n",
              "      border-bottom-color: var(--fill-color);\n",
              "    }\n",
              "  }\n",
              "</style>\n",
              "\n",
              "      <script>\n",
              "        async function quickchart(key) {\n",
              "          const quickchartButtonEl =\n",
              "            document.querySelector('#' + key + ' button');\n",
              "          quickchartButtonEl.disabled = true;  // To prevent multiple clicks.\n",
              "          quickchartButtonEl.classList.add('colab-df-spinner');\n",
              "          try {\n",
              "            const charts = await google.colab.kernel.invokeFunction(\n",
              "                'suggestCharts', [key], {});\n",
              "          } catch (error) {\n",
              "            console.error('Error during call to suggestCharts:', error);\n",
              "          }\n",
              "          quickchartButtonEl.classList.remove('colab-df-spinner');\n",
              "          quickchartButtonEl.classList.add('colab-df-quickchart-complete');\n",
              "        }\n",
              "        (() => {\n",
              "          let quickchartButtonEl =\n",
              "            document.querySelector('#df-32fa83e4-9a73-424b-a39e-917b83ca1aea button');\n",
              "          quickchartButtonEl.style.display =\n",
              "            google.colab.kernel.accessAllowed ? 'block' : 'none';\n",
              "        })();\n",
              "      </script>\n",
              "    </div>\n",
              "\n",
              "    </div>\n",
              "  </div>\n"
            ],
            "application/vnd.google.colaboratory.intrinsic+json": {
              "type": "dataframe"
            }
          },
          "metadata": {},
          "execution_count": 45
        }
      ]
    },
    {
      "cell_type": "markdown",
      "source": [
        "Agora que já entendemos a importância de como trabalhar e analisar diferentes tipos de dados, estamos prontos(as) para responder às perguntas levantadas pelas lideranças da empresa trazendo informações relevantes para o que desejam."
      ],
      "metadata": {
        "id": "Rv8nz9vMKGvn"
      }
    },
    {
      "cell_type": "markdown",
      "source": [
        "# **2. Identificando o perfil do público**\n",
        "\n",
        "---"
      ],
      "metadata": {
        "id": "lz_rMlOtDtso"
      }
    },
    {
      "cell_type": "markdown",
      "source": [
        "Agora, vamos partir para as análises acerca do perfil do público, como requisitado pelo time de marketing e vendas da empresa varejista que estamos estudando.\n",
        "\n",
        "Para isso, vamos utilizar uma ferramenta estatística muito importante, que organiza e resume dados em grupos ou classes: a distribuição de frequência. Com ela iremos analisar de maneira mais direta e eficiente as informações dos clientes com os dados qualitativos que possuímos.\n",
        "\n",
        "Mas, antes disso, vamos interpretar as perguntas que devemos responder e como este tipo de distribuição poderá nos ajudar."
      ],
      "metadata": {
        "id": "MCK8Qk47FzQz"
      }
    },
    {
      "cell_type": "markdown",
      "source": [
        "## **2.1 Distribuindo frequências de dados qualitativos - 1 variável**\n",
        "\n",
        "---"
      ],
      "metadata": {
        "id": "zHp0nFexFz6t"
      }
    },
    {
      "cell_type": "markdown",
      "source": [
        "### <font color=\"#E23155\" face=\"Verdana\">Demanda 1: Acompanhamento das avaliações dos clientes</font>"
      ],
      "metadata": {
        "id": "GMfPrLjdF8jM"
      }
    },
    {
      "cell_type": "markdown",
      "source": [
        "A empresa quer acompanhar as **avaliações dos clientes** sobre seus produtos a fim de priorizar ações, como melhorar produtos com maior proporção de feedbacks negativos, investigar causas e explorar pontos fortes apontados pelos clientes satisfeitos. Essas avaliações variam entre:\n",
        "\n",
        "1. **Péssimo**\n",
        "2. **Ruim**\n",
        "3. **Regular**\n",
        "4. **Bom**\n",
        "5. **Ótimo**\n",
        "\n",
        "Como a **equipe de marketing e vendas** poderá investigar a percepção geral dos clientes sobre os produtos e identificar possíveis comportamentos para ajustar suas estratégias de comunicação e melhoria de produtos?"
      ],
      "metadata": {
        "id": "W77K13p0F9mz"
      }
    },
    {
      "cell_type": "markdown",
      "source": [
        "### <font color=\"#E23155\" face=\"Verdana\">Solução:</font>"
      ],
      "metadata": {
        "id": "60Ji6SohGDU-"
      }
    },
    {
      "cell_type": "markdown",
      "source": [
        "### **Distribuição de frequência**\n",
        "\n",
        "A **distribuição de frequência** é uma tabela que contêm os dados de acordo com a sua **frequência** ($f_i$ = quantidade de vezes que uma determinada variável ocorre). Ela é utilizada tanto para dados **qualitativos** quanto **quantitativos**.\n",
        "\n",
        "Cada entrada na tabela contém a contagem de ocorrências de valores dentro de um grupo ou intervalo específico, resumindo a distribuição destes valores. Por exemplo, classifica a quantidade de pessoas pelo sexo biológico, a quantidade de itens de um produto vendido, a faixa de renda de pessoas, etc.\n",
        "\n",
        "#### **Frequência absoluta ($f_i$)**\n",
        "\n",
        "É o número de vezes em que uma dada observação aparece numa variável. Para cada valor possível, você tem uma dada frequência, cuja soma seria igual a frequência total absoluta, ou melhor, o número total de registros.\n",
        "\n",
        "# $$F = \\sum_{i=1}^{n}f_i = f_1 + f_2 + ... + f_n$$\n",
        "\n",
        "&nbsp;\n",
        "\n",
        "#### **Como construir:**\n",
        "\n",
        "1.  Ordenar os valores das variáveis em ordem crescente ou decrescente;\n",
        "\n",
        "2.  Determinar a frequência de cada valor;\n",
        "\n",
        "3.  Agrupar os dados em classes ou intervalos"
      ],
      "metadata": {
        "id": "pL3InDboGD42"
      }
    },
    {
      "cell_type": "markdown",
      "source": [
        "As avaliações são armazenadas em uma variável chamada `avaliacao_indicador` dentro do banco de dados da empresa."
      ],
      "metadata": {
        "id": "eYh8sWFRJP-6"
      }
    },
    {
      "cell_type": "code",
      "source": [
        "df.head()"
      ],
      "metadata": {
        "id": "4Dteb-mWjYjK",
        "colab": {
          "base_uri": "https://localhost:8080/",
          "height": 293
        },
        "outputId": "44274b9e-383d-45d9-a077-a98b2df71d20"
      },
      "execution_count": null,
      "outputs": [
        {
          "output_type": "execute_result",
          "data": {
            "text/plain": [
              "                              id_compra sexo_biologico  idade_cliente  \\\n",
              "0  9f86e969-221a-4b1a-9b48-9aba719b61cf      Masculino             33   \n",
              "1  659f9b07-be10-4849-b2ab-dd542498a1e8       Feminino             33   \n",
              "2  d317d7df-1126-42e5-bf4b-0e178bd4e14e       Feminino             36   \n",
              "3  bb99bcf6-b333-493e-9ec2-c39f8695503c       Feminino             21   \n",
              "4  898e4624-84e9-4c41-b181-66d3b7ccfef7      Masculino             31   \n",
              "\n",
              "  regiao_cliente         categoria_produto  preco_unitario  quantidade  \\\n",
              "0            Sul  Ferramentas e Construção           96.80           2   \n",
              "1       Nordeste       Alimentos e Bebidas          247.68           1   \n",
              "2        Sudeste               Eletrônicos          627.46           2   \n",
              "3            Sul               Eletrônicos         2025.07           8   \n",
              "4   Centro-Oeste    Papelaria e Escritório           99.24           5   \n",
              "\n",
              "   total_compra  tempo_entrega  avaliacao avaliacao_indicador  \n",
              "0        193.60             18          1             Péssimo  \n",
              "1        247.68              6          4                 Bom  \n",
              "2       1254.92              8          5               Ótimo  \n",
              "3      16200.56              6          5               Ótimo  \n",
              "4        496.20             13          5               Ótimo  "
            ],
            "text/html": [
              "\n",
              "  <div id=\"df-ce6fd2d3-0363-44b8-9053-fce6e552627f\" class=\"colab-df-container\">\n",
              "    <div>\n",
              "<style scoped>\n",
              "    .dataframe tbody tr th:only-of-type {\n",
              "        vertical-align: middle;\n",
              "    }\n",
              "\n",
              "    .dataframe tbody tr th {\n",
              "        vertical-align: top;\n",
              "    }\n",
              "\n",
              "    .dataframe thead th {\n",
              "        text-align: right;\n",
              "    }\n",
              "</style>\n",
              "<table border=\"1\" class=\"dataframe\">\n",
              "  <thead>\n",
              "    <tr style=\"text-align: right;\">\n",
              "      <th></th>\n",
              "      <th>id_compra</th>\n",
              "      <th>sexo_biologico</th>\n",
              "      <th>idade_cliente</th>\n",
              "      <th>regiao_cliente</th>\n",
              "      <th>categoria_produto</th>\n",
              "      <th>preco_unitario</th>\n",
              "      <th>quantidade</th>\n",
              "      <th>total_compra</th>\n",
              "      <th>tempo_entrega</th>\n",
              "      <th>avaliacao</th>\n",
              "      <th>avaliacao_indicador</th>\n",
              "    </tr>\n",
              "  </thead>\n",
              "  <tbody>\n",
              "    <tr>\n",
              "      <th>0</th>\n",
              "      <td>9f86e969-221a-4b1a-9b48-9aba719b61cf</td>\n",
              "      <td>Masculino</td>\n",
              "      <td>33</td>\n",
              "      <td>Sul</td>\n",
              "      <td>Ferramentas e Construção</td>\n",
              "      <td>96.80</td>\n",
              "      <td>2</td>\n",
              "      <td>193.60</td>\n",
              "      <td>18</td>\n",
              "      <td>1</td>\n",
              "      <td>Péssimo</td>\n",
              "    </tr>\n",
              "    <tr>\n",
              "      <th>1</th>\n",
              "      <td>659f9b07-be10-4849-b2ab-dd542498a1e8</td>\n",
              "      <td>Feminino</td>\n",
              "      <td>33</td>\n",
              "      <td>Nordeste</td>\n",
              "      <td>Alimentos e Bebidas</td>\n",
              "      <td>247.68</td>\n",
              "      <td>1</td>\n",
              "      <td>247.68</td>\n",
              "      <td>6</td>\n",
              "      <td>4</td>\n",
              "      <td>Bom</td>\n",
              "    </tr>\n",
              "    <tr>\n",
              "      <th>2</th>\n",
              "      <td>d317d7df-1126-42e5-bf4b-0e178bd4e14e</td>\n",
              "      <td>Feminino</td>\n",
              "      <td>36</td>\n",
              "      <td>Sudeste</td>\n",
              "      <td>Eletrônicos</td>\n",
              "      <td>627.46</td>\n",
              "      <td>2</td>\n",
              "      <td>1254.92</td>\n",
              "      <td>8</td>\n",
              "      <td>5</td>\n",
              "      <td>Ótimo</td>\n",
              "    </tr>\n",
              "    <tr>\n",
              "      <th>3</th>\n",
              "      <td>bb99bcf6-b333-493e-9ec2-c39f8695503c</td>\n",
              "      <td>Feminino</td>\n",
              "      <td>21</td>\n",
              "      <td>Sul</td>\n",
              "      <td>Eletrônicos</td>\n",
              "      <td>2025.07</td>\n",
              "      <td>8</td>\n",
              "      <td>16200.56</td>\n",
              "      <td>6</td>\n",
              "      <td>5</td>\n",
              "      <td>Ótimo</td>\n",
              "    </tr>\n",
              "    <tr>\n",
              "      <th>4</th>\n",
              "      <td>898e4624-84e9-4c41-b181-66d3b7ccfef7</td>\n",
              "      <td>Masculino</td>\n",
              "      <td>31</td>\n",
              "      <td>Centro-Oeste</td>\n",
              "      <td>Papelaria e Escritório</td>\n",
              "      <td>99.24</td>\n",
              "      <td>5</td>\n",
              "      <td>496.20</td>\n",
              "      <td>13</td>\n",
              "      <td>5</td>\n",
              "      <td>Ótimo</td>\n",
              "    </tr>\n",
              "  </tbody>\n",
              "</table>\n",
              "</div>\n",
              "    <div class=\"colab-df-buttons\">\n",
              "\n",
              "  <div class=\"colab-df-container\">\n",
              "    <button class=\"colab-df-convert\" onclick=\"convertToInteractive('df-ce6fd2d3-0363-44b8-9053-fce6e552627f')\"\n",
              "            title=\"Convert this dataframe to an interactive table.\"\n",
              "            style=\"display:none;\">\n",
              "\n",
              "  <svg xmlns=\"http://www.w3.org/2000/svg\" height=\"24px\" viewBox=\"0 -960 960 960\">\n",
              "    <path d=\"M120-120v-720h720v720H120Zm60-500h600v-160H180v160Zm220 220h160v-160H400v160Zm0 220h160v-160H400v160ZM180-400h160v-160H180v160Zm440 0h160v-160H620v160ZM180-180h160v-160H180v160Zm440 0h160v-160H620v160Z\"/>\n",
              "  </svg>\n",
              "    </button>\n",
              "\n",
              "  <style>\n",
              "    .colab-df-container {\n",
              "      display:flex;\n",
              "      gap: 12px;\n",
              "    }\n",
              "\n",
              "    .colab-df-convert {\n",
              "      background-color: #E8F0FE;\n",
              "      border: none;\n",
              "      border-radius: 50%;\n",
              "      cursor: pointer;\n",
              "      display: none;\n",
              "      fill: #1967D2;\n",
              "      height: 32px;\n",
              "      padding: 0 0 0 0;\n",
              "      width: 32px;\n",
              "    }\n",
              "\n",
              "    .colab-df-convert:hover {\n",
              "      background-color: #E2EBFA;\n",
              "      box-shadow: 0px 1px 2px rgba(60, 64, 67, 0.3), 0px 1px 3px 1px rgba(60, 64, 67, 0.15);\n",
              "      fill: #174EA6;\n",
              "    }\n",
              "\n",
              "    .colab-df-buttons div {\n",
              "      margin-bottom: 4px;\n",
              "    }\n",
              "\n",
              "    [theme=dark] .colab-df-convert {\n",
              "      background-color: #3B4455;\n",
              "      fill: #D2E3FC;\n",
              "    }\n",
              "\n",
              "    [theme=dark] .colab-df-convert:hover {\n",
              "      background-color: #434B5C;\n",
              "      box-shadow: 0px 1px 3px 1px rgba(0, 0, 0, 0.15);\n",
              "      filter: drop-shadow(0px 1px 2px rgba(0, 0, 0, 0.3));\n",
              "      fill: #FFFFFF;\n",
              "    }\n",
              "  </style>\n",
              "\n",
              "    <script>\n",
              "      const buttonEl =\n",
              "        document.querySelector('#df-ce6fd2d3-0363-44b8-9053-fce6e552627f button.colab-df-convert');\n",
              "      buttonEl.style.display =\n",
              "        google.colab.kernel.accessAllowed ? 'block' : 'none';\n",
              "\n",
              "      async function convertToInteractive(key) {\n",
              "        const element = document.querySelector('#df-ce6fd2d3-0363-44b8-9053-fce6e552627f');\n",
              "        const dataTable =\n",
              "          await google.colab.kernel.invokeFunction('convertToInteractive',\n",
              "                                                    [key], {});\n",
              "        if (!dataTable) return;\n",
              "\n",
              "        const docLinkHtml = 'Like what you see? Visit the ' +\n",
              "          '<a target=\"_blank\" href=https://colab.research.google.com/notebooks/data_table.ipynb>data table notebook</a>'\n",
              "          + ' to learn more about interactive tables.';\n",
              "        element.innerHTML = '';\n",
              "        dataTable['output_type'] = 'display_data';\n",
              "        await google.colab.output.renderOutput(dataTable, element);\n",
              "        const docLink = document.createElement('div');\n",
              "        docLink.innerHTML = docLinkHtml;\n",
              "        element.appendChild(docLink);\n",
              "      }\n",
              "    </script>\n",
              "  </div>\n",
              "\n",
              "\n",
              "    <div id=\"df-3e89b10a-a14d-4ad3-9dc9-90259640e5e5\">\n",
              "      <button class=\"colab-df-quickchart\" onclick=\"quickchart('df-3e89b10a-a14d-4ad3-9dc9-90259640e5e5')\"\n",
              "                title=\"Suggest charts\"\n",
              "                style=\"display:none;\">\n",
              "\n",
              "<svg xmlns=\"http://www.w3.org/2000/svg\" height=\"24px\"viewBox=\"0 0 24 24\"\n",
              "     width=\"24px\">\n",
              "    <g>\n",
              "        <path d=\"M19 3H5c-1.1 0-2 .9-2 2v14c0 1.1.9 2 2 2h14c1.1 0 2-.9 2-2V5c0-1.1-.9-2-2-2zM9 17H7v-7h2v7zm4 0h-2V7h2v10zm4 0h-2v-4h2v4z\"/>\n",
              "    </g>\n",
              "</svg>\n",
              "      </button>\n",
              "\n",
              "<style>\n",
              "  .colab-df-quickchart {\n",
              "      --bg-color: #E8F0FE;\n",
              "      --fill-color: #1967D2;\n",
              "      --hover-bg-color: #E2EBFA;\n",
              "      --hover-fill-color: #174EA6;\n",
              "      --disabled-fill-color: #AAA;\n",
              "      --disabled-bg-color: #DDD;\n",
              "  }\n",
              "\n",
              "  [theme=dark] .colab-df-quickchart {\n",
              "      --bg-color: #3B4455;\n",
              "      --fill-color: #D2E3FC;\n",
              "      --hover-bg-color: #434B5C;\n",
              "      --hover-fill-color: #FFFFFF;\n",
              "      --disabled-bg-color: #3B4455;\n",
              "      --disabled-fill-color: #666;\n",
              "  }\n",
              "\n",
              "  .colab-df-quickchart {\n",
              "    background-color: var(--bg-color);\n",
              "    border: none;\n",
              "    border-radius: 50%;\n",
              "    cursor: pointer;\n",
              "    display: none;\n",
              "    fill: var(--fill-color);\n",
              "    height: 32px;\n",
              "    padding: 0;\n",
              "    width: 32px;\n",
              "  }\n",
              "\n",
              "  .colab-df-quickchart:hover {\n",
              "    background-color: var(--hover-bg-color);\n",
              "    box-shadow: 0 1px 2px rgba(60, 64, 67, 0.3), 0 1px 3px 1px rgba(60, 64, 67, 0.15);\n",
              "    fill: var(--button-hover-fill-color);\n",
              "  }\n",
              "\n",
              "  .colab-df-quickchart-complete:disabled,\n",
              "  .colab-df-quickchart-complete:disabled:hover {\n",
              "    background-color: var(--disabled-bg-color);\n",
              "    fill: var(--disabled-fill-color);\n",
              "    box-shadow: none;\n",
              "  }\n",
              "\n",
              "  .colab-df-spinner {\n",
              "    border: 2px solid var(--fill-color);\n",
              "    border-color: transparent;\n",
              "    border-bottom-color: var(--fill-color);\n",
              "    animation:\n",
              "      spin 1s steps(1) infinite;\n",
              "  }\n",
              "\n",
              "  @keyframes spin {\n",
              "    0% {\n",
              "      border-color: transparent;\n",
              "      border-bottom-color: var(--fill-color);\n",
              "      border-left-color: var(--fill-color);\n",
              "    }\n",
              "    20% {\n",
              "      border-color: transparent;\n",
              "      border-left-color: var(--fill-color);\n",
              "      border-top-color: var(--fill-color);\n",
              "    }\n",
              "    30% {\n",
              "      border-color: transparent;\n",
              "      border-left-color: var(--fill-color);\n",
              "      border-top-color: var(--fill-color);\n",
              "      border-right-color: var(--fill-color);\n",
              "    }\n",
              "    40% {\n",
              "      border-color: transparent;\n",
              "      border-right-color: var(--fill-color);\n",
              "      border-top-color: var(--fill-color);\n",
              "    }\n",
              "    60% {\n",
              "      border-color: transparent;\n",
              "      border-right-color: var(--fill-color);\n",
              "    }\n",
              "    80% {\n",
              "      border-color: transparent;\n",
              "      border-right-color: var(--fill-color);\n",
              "      border-bottom-color: var(--fill-color);\n",
              "    }\n",
              "    90% {\n",
              "      border-color: transparent;\n",
              "      border-bottom-color: var(--fill-color);\n",
              "    }\n",
              "  }\n",
              "</style>\n",
              "\n",
              "      <script>\n",
              "        async function quickchart(key) {\n",
              "          const quickchartButtonEl =\n",
              "            document.querySelector('#' + key + ' button');\n",
              "          quickchartButtonEl.disabled = true;  // To prevent multiple clicks.\n",
              "          quickchartButtonEl.classList.add('colab-df-spinner');\n",
              "          try {\n",
              "            const charts = await google.colab.kernel.invokeFunction(\n",
              "                'suggestCharts', [key], {});\n",
              "          } catch (error) {\n",
              "            console.error('Error during call to suggestCharts:', error);\n",
              "          }\n",
              "          quickchartButtonEl.classList.remove('colab-df-spinner');\n",
              "          quickchartButtonEl.classList.add('colab-df-quickchart-complete');\n",
              "        }\n",
              "        (() => {\n",
              "          let quickchartButtonEl =\n",
              "            document.querySelector('#df-3e89b10a-a14d-4ad3-9dc9-90259640e5e5 button');\n",
              "          quickchartButtonEl.style.display =\n",
              "            google.colab.kernel.accessAllowed ? 'block' : 'none';\n",
              "        })();\n",
              "      </script>\n",
              "    </div>\n",
              "\n",
              "    </div>\n",
              "  </div>\n"
            ],
            "application/vnd.google.colaboratory.intrinsic+json": {
              "type": "dataframe",
              "variable_name": "df"
            }
          },
          "metadata": {},
          "execution_count": 46
        }
      ]
    },
    {
      "cell_type": "code",
      "source": [
        "freq_avaliacoes = (df.groupby('avaliacao_indicador', observed=False)\n",
        "                    .size()\n",
        "                    .reset_index(name='freq_absoluta')\n",
        "                    .sort_values(by='avaliacao_indicador', ascending=False))\n",
        "freq_avaliacoes"
      ],
      "metadata": {
        "id": "08cp-Ig_jYfD",
        "colab": {
          "base_uri": "https://localhost:8080/",
          "height": 206
        },
        "outputId": "13724114-e280-4b0d-9ada-76499b3a281a"
      },
      "execution_count": null,
      "outputs": [
        {
          "output_type": "execute_result",
          "data": {
            "text/plain": [
              "  avaliacao_indicador  freq_absoluta\n",
              "4               Ótimo          66076\n",
              "3                 Bom          40980\n",
              "2             Regular          32282\n",
              "1                Ruim          28239\n",
              "0             Péssimo          32423"
            ],
            "text/html": [
              "\n",
              "  <div id=\"df-00d59c06-ff1c-40a8-a390-690634e104a4\" class=\"colab-df-container\">\n",
              "    <div>\n",
              "<style scoped>\n",
              "    .dataframe tbody tr th:only-of-type {\n",
              "        vertical-align: middle;\n",
              "    }\n",
              "\n",
              "    .dataframe tbody tr th {\n",
              "        vertical-align: top;\n",
              "    }\n",
              "\n",
              "    .dataframe thead th {\n",
              "        text-align: right;\n",
              "    }\n",
              "</style>\n",
              "<table border=\"1\" class=\"dataframe\">\n",
              "  <thead>\n",
              "    <tr style=\"text-align: right;\">\n",
              "      <th></th>\n",
              "      <th>avaliacao_indicador</th>\n",
              "      <th>freq_absoluta</th>\n",
              "    </tr>\n",
              "  </thead>\n",
              "  <tbody>\n",
              "    <tr>\n",
              "      <th>4</th>\n",
              "      <td>Ótimo</td>\n",
              "      <td>66076</td>\n",
              "    </tr>\n",
              "    <tr>\n",
              "      <th>3</th>\n",
              "      <td>Bom</td>\n",
              "      <td>40980</td>\n",
              "    </tr>\n",
              "    <tr>\n",
              "      <th>2</th>\n",
              "      <td>Regular</td>\n",
              "      <td>32282</td>\n",
              "    </tr>\n",
              "    <tr>\n",
              "      <th>1</th>\n",
              "      <td>Ruim</td>\n",
              "      <td>28239</td>\n",
              "    </tr>\n",
              "    <tr>\n",
              "      <th>0</th>\n",
              "      <td>Péssimo</td>\n",
              "      <td>32423</td>\n",
              "    </tr>\n",
              "  </tbody>\n",
              "</table>\n",
              "</div>\n",
              "    <div class=\"colab-df-buttons\">\n",
              "\n",
              "  <div class=\"colab-df-container\">\n",
              "    <button class=\"colab-df-convert\" onclick=\"convertToInteractive('df-00d59c06-ff1c-40a8-a390-690634e104a4')\"\n",
              "            title=\"Convert this dataframe to an interactive table.\"\n",
              "            style=\"display:none;\">\n",
              "\n",
              "  <svg xmlns=\"http://www.w3.org/2000/svg\" height=\"24px\" viewBox=\"0 -960 960 960\">\n",
              "    <path d=\"M120-120v-720h720v720H120Zm60-500h600v-160H180v160Zm220 220h160v-160H400v160Zm0 220h160v-160H400v160ZM180-400h160v-160H180v160Zm440 0h160v-160H620v160ZM180-180h160v-160H180v160Zm440 0h160v-160H620v160Z\"/>\n",
              "  </svg>\n",
              "    </button>\n",
              "\n",
              "  <style>\n",
              "    .colab-df-container {\n",
              "      display:flex;\n",
              "      gap: 12px;\n",
              "    }\n",
              "\n",
              "    .colab-df-convert {\n",
              "      background-color: #E8F0FE;\n",
              "      border: none;\n",
              "      border-radius: 50%;\n",
              "      cursor: pointer;\n",
              "      display: none;\n",
              "      fill: #1967D2;\n",
              "      height: 32px;\n",
              "      padding: 0 0 0 0;\n",
              "      width: 32px;\n",
              "    }\n",
              "\n",
              "    .colab-df-convert:hover {\n",
              "      background-color: #E2EBFA;\n",
              "      box-shadow: 0px 1px 2px rgba(60, 64, 67, 0.3), 0px 1px 3px 1px rgba(60, 64, 67, 0.15);\n",
              "      fill: #174EA6;\n",
              "    }\n",
              "\n",
              "    .colab-df-buttons div {\n",
              "      margin-bottom: 4px;\n",
              "    }\n",
              "\n",
              "    [theme=dark] .colab-df-convert {\n",
              "      background-color: #3B4455;\n",
              "      fill: #D2E3FC;\n",
              "    }\n",
              "\n",
              "    [theme=dark] .colab-df-convert:hover {\n",
              "      background-color: #434B5C;\n",
              "      box-shadow: 0px 1px 3px 1px rgba(0, 0, 0, 0.15);\n",
              "      filter: drop-shadow(0px 1px 2px rgba(0, 0, 0, 0.3));\n",
              "      fill: #FFFFFF;\n",
              "    }\n",
              "  </style>\n",
              "\n",
              "    <script>\n",
              "      const buttonEl =\n",
              "        document.querySelector('#df-00d59c06-ff1c-40a8-a390-690634e104a4 button.colab-df-convert');\n",
              "      buttonEl.style.display =\n",
              "        google.colab.kernel.accessAllowed ? 'block' : 'none';\n",
              "\n",
              "      async function convertToInteractive(key) {\n",
              "        const element = document.querySelector('#df-00d59c06-ff1c-40a8-a390-690634e104a4');\n",
              "        const dataTable =\n",
              "          await google.colab.kernel.invokeFunction('convertToInteractive',\n",
              "                                                    [key], {});\n",
              "        if (!dataTable) return;\n",
              "\n",
              "        const docLinkHtml = 'Like what you see? Visit the ' +\n",
              "          '<a target=\"_blank\" href=https://colab.research.google.com/notebooks/data_table.ipynb>data table notebook</a>'\n",
              "          + ' to learn more about interactive tables.';\n",
              "        element.innerHTML = '';\n",
              "        dataTable['output_type'] = 'display_data';\n",
              "        await google.colab.output.renderOutput(dataTable, element);\n",
              "        const docLink = document.createElement('div');\n",
              "        docLink.innerHTML = docLinkHtml;\n",
              "        element.appendChild(docLink);\n",
              "      }\n",
              "    </script>\n",
              "  </div>\n",
              "\n",
              "\n",
              "    <div id=\"df-59d5d63d-55c3-4ed0-89fe-864cbb333992\">\n",
              "      <button class=\"colab-df-quickchart\" onclick=\"quickchart('df-59d5d63d-55c3-4ed0-89fe-864cbb333992')\"\n",
              "                title=\"Suggest charts\"\n",
              "                style=\"display:none;\">\n",
              "\n",
              "<svg xmlns=\"http://www.w3.org/2000/svg\" height=\"24px\"viewBox=\"0 0 24 24\"\n",
              "     width=\"24px\">\n",
              "    <g>\n",
              "        <path d=\"M19 3H5c-1.1 0-2 .9-2 2v14c0 1.1.9 2 2 2h14c1.1 0 2-.9 2-2V5c0-1.1-.9-2-2-2zM9 17H7v-7h2v7zm4 0h-2V7h2v10zm4 0h-2v-4h2v4z\"/>\n",
              "    </g>\n",
              "</svg>\n",
              "      </button>\n",
              "\n",
              "<style>\n",
              "  .colab-df-quickchart {\n",
              "      --bg-color: #E8F0FE;\n",
              "      --fill-color: #1967D2;\n",
              "      --hover-bg-color: #E2EBFA;\n",
              "      --hover-fill-color: #174EA6;\n",
              "      --disabled-fill-color: #AAA;\n",
              "      --disabled-bg-color: #DDD;\n",
              "  }\n",
              "\n",
              "  [theme=dark] .colab-df-quickchart {\n",
              "      --bg-color: #3B4455;\n",
              "      --fill-color: #D2E3FC;\n",
              "      --hover-bg-color: #434B5C;\n",
              "      --hover-fill-color: #FFFFFF;\n",
              "      --disabled-bg-color: #3B4455;\n",
              "      --disabled-fill-color: #666;\n",
              "  }\n",
              "\n",
              "  .colab-df-quickchart {\n",
              "    background-color: var(--bg-color);\n",
              "    border: none;\n",
              "    border-radius: 50%;\n",
              "    cursor: pointer;\n",
              "    display: none;\n",
              "    fill: var(--fill-color);\n",
              "    height: 32px;\n",
              "    padding: 0;\n",
              "    width: 32px;\n",
              "  }\n",
              "\n",
              "  .colab-df-quickchart:hover {\n",
              "    background-color: var(--hover-bg-color);\n",
              "    box-shadow: 0 1px 2px rgba(60, 64, 67, 0.3), 0 1px 3px 1px rgba(60, 64, 67, 0.15);\n",
              "    fill: var(--button-hover-fill-color);\n",
              "  }\n",
              "\n",
              "  .colab-df-quickchart-complete:disabled,\n",
              "  .colab-df-quickchart-complete:disabled:hover {\n",
              "    background-color: var(--disabled-bg-color);\n",
              "    fill: var(--disabled-fill-color);\n",
              "    box-shadow: none;\n",
              "  }\n",
              "\n",
              "  .colab-df-spinner {\n",
              "    border: 2px solid var(--fill-color);\n",
              "    border-color: transparent;\n",
              "    border-bottom-color: var(--fill-color);\n",
              "    animation:\n",
              "      spin 1s steps(1) infinite;\n",
              "  }\n",
              "\n",
              "  @keyframes spin {\n",
              "    0% {\n",
              "      border-color: transparent;\n",
              "      border-bottom-color: var(--fill-color);\n",
              "      border-left-color: var(--fill-color);\n",
              "    }\n",
              "    20% {\n",
              "      border-color: transparent;\n",
              "      border-left-color: var(--fill-color);\n",
              "      border-top-color: var(--fill-color);\n",
              "    }\n",
              "    30% {\n",
              "      border-color: transparent;\n",
              "      border-left-color: var(--fill-color);\n",
              "      border-top-color: var(--fill-color);\n",
              "      border-right-color: var(--fill-color);\n",
              "    }\n",
              "    40% {\n",
              "      border-color: transparent;\n",
              "      border-right-color: var(--fill-color);\n",
              "      border-top-color: var(--fill-color);\n",
              "    }\n",
              "    60% {\n",
              "      border-color: transparent;\n",
              "      border-right-color: var(--fill-color);\n",
              "    }\n",
              "    80% {\n",
              "      border-color: transparent;\n",
              "      border-right-color: var(--fill-color);\n",
              "      border-bottom-color: var(--fill-color);\n",
              "    }\n",
              "    90% {\n",
              "      border-color: transparent;\n",
              "      border-bottom-color: var(--fill-color);\n",
              "    }\n",
              "  }\n",
              "</style>\n",
              "\n",
              "      <script>\n",
              "        async function quickchart(key) {\n",
              "          const quickchartButtonEl =\n",
              "            document.querySelector('#' + key + ' button');\n",
              "          quickchartButtonEl.disabled = true;  // To prevent multiple clicks.\n",
              "          quickchartButtonEl.classList.add('colab-df-spinner');\n",
              "          try {\n",
              "            const charts = await google.colab.kernel.invokeFunction(\n",
              "                'suggestCharts', [key], {});\n",
              "          } catch (error) {\n",
              "            console.error('Error during call to suggestCharts:', error);\n",
              "          }\n",
              "          quickchartButtonEl.classList.remove('colab-df-spinner');\n",
              "          quickchartButtonEl.classList.add('colab-df-quickchart-complete');\n",
              "        }\n",
              "        (() => {\n",
              "          let quickchartButtonEl =\n",
              "            document.querySelector('#df-59d5d63d-55c3-4ed0-89fe-864cbb333992 button');\n",
              "          quickchartButtonEl.style.display =\n",
              "            google.colab.kernel.accessAllowed ? 'block' : 'none';\n",
              "        })();\n",
              "      </script>\n",
              "    </div>\n",
              "\n",
              "  <div id=\"id_4909b2bd-df8b-40c2-87ad-05e774fb0566\">\n",
              "    <style>\n",
              "      .colab-df-generate {\n",
              "        background-color: #E8F0FE;\n",
              "        border: none;\n",
              "        border-radius: 50%;\n",
              "        cursor: pointer;\n",
              "        display: none;\n",
              "        fill: #1967D2;\n",
              "        height: 32px;\n",
              "        padding: 0 0 0 0;\n",
              "        width: 32px;\n",
              "      }\n",
              "\n",
              "      .colab-df-generate:hover {\n",
              "        background-color: #E2EBFA;\n",
              "        box-shadow: 0px 1px 2px rgba(60, 64, 67, 0.3), 0px 1px 3px 1px rgba(60, 64, 67, 0.15);\n",
              "        fill: #174EA6;\n",
              "      }\n",
              "\n",
              "      [theme=dark] .colab-df-generate {\n",
              "        background-color: #3B4455;\n",
              "        fill: #D2E3FC;\n",
              "      }\n",
              "\n",
              "      [theme=dark] .colab-df-generate:hover {\n",
              "        background-color: #434B5C;\n",
              "        box-shadow: 0px 1px 3px 1px rgba(0, 0, 0, 0.15);\n",
              "        filter: drop-shadow(0px 1px 2px rgba(0, 0, 0, 0.3));\n",
              "        fill: #FFFFFF;\n",
              "      }\n",
              "    </style>\n",
              "    <button class=\"colab-df-generate\" onclick=\"generateWithVariable('freq_avaliacoes')\"\n",
              "            title=\"Generate code using this dataframe.\"\n",
              "            style=\"display:none;\">\n",
              "\n",
              "  <svg xmlns=\"http://www.w3.org/2000/svg\" height=\"24px\"viewBox=\"0 0 24 24\"\n",
              "       width=\"24px\">\n",
              "    <path d=\"M7,19H8.4L18.45,9,17,7.55,7,17.6ZM5,21V16.75L18.45,3.32a2,2,0,0,1,2.83,0l1.4,1.43a1.91,1.91,0,0,1,.58,1.4,1.91,1.91,0,0,1-.58,1.4L9.25,21ZM18.45,9,17,7.55Zm-12,3A5.31,5.31,0,0,0,4.9,8.1,5.31,5.31,0,0,0,1,6.5,5.31,5.31,0,0,0,4.9,4.9,5.31,5.31,0,0,0,6.5,1,5.31,5.31,0,0,0,8.1,4.9,5.31,5.31,0,0,0,12,6.5,5.46,5.46,0,0,0,6.5,12Z\"/>\n",
              "  </svg>\n",
              "    </button>\n",
              "    <script>\n",
              "      (() => {\n",
              "      const buttonEl =\n",
              "        document.querySelector('#id_4909b2bd-df8b-40c2-87ad-05e774fb0566 button.colab-df-generate');\n",
              "      buttonEl.style.display =\n",
              "        google.colab.kernel.accessAllowed ? 'block' : 'none';\n",
              "\n",
              "      buttonEl.onclick = () => {\n",
              "        google.colab.notebook.generateWithVariable('freq_avaliacoes');\n",
              "      }\n",
              "      })();\n",
              "    </script>\n",
              "  </div>\n",
              "\n",
              "    </div>\n",
              "  </div>\n"
            ],
            "application/vnd.google.colaboratory.intrinsic+json": {
              "type": "dataframe",
              "variable_name": "freq_avaliacoes",
              "summary": "{\n  \"name\": \"freq_avaliacoes\",\n  \"rows\": 5,\n  \"fields\": [\n    {\n      \"column\": \"avaliacao_indicador\",\n      \"properties\": {\n        \"dtype\": \"category\",\n        \"num_unique_values\": 5,\n        \"samples\": [\n          \"Bom\",\n          \"P\\u00e9ssimo\",\n          \"Regular\"\n        ],\n        \"semantic_type\": \"\",\n        \"description\": \"\"\n      }\n    },\n    {\n      \"column\": \"freq_absoluta\",\n      \"properties\": {\n        \"dtype\": \"number\",\n        \"std\": 15298,\n        \"min\": 28239,\n        \"max\": 66076,\n        \"num_unique_values\": 5,\n        \"samples\": [\n          40980,\n          32423,\n          32282\n        ],\n        \"semantic_type\": \"\",\n        \"description\": \"\"\n      }\n    }\n  ]\n}"
            }
          },
          "metadata": {},
          "execution_count": 47
        }
      ]
    },
    {
      "cell_type": "markdown",
      "source": [
        "#### **Frequência relativa ($f_{ri}$)**\n",
        "\n",
        "Ela é dada pela razão entre a frequência absoluta de cada classe e a frequência total ou soma das frequências absolutas:\n",
        "\n",
        "# $$f_{ri} = \\frac{f_i}{F}$$\n",
        "\n",
        "Para valores percentuais, basta multiplicar cada frequência relativa por 100."
      ],
      "metadata": {
        "id": "xPQj8G88L2Ss"
      }
    },
    {
      "cell_type": "code",
      "source": [
        "freq_avaliacoes['freq_relativa'] = round((freq_avaliacoes['freq_absoluta']/freq_avaliacoes['freq_absoluta'].sum())*100, 1)"
      ],
      "metadata": {
        "id": "8qTzyU0LjW9H"
      },
      "execution_count": null,
      "outputs": []
    },
    {
      "cell_type": "code",
      "source": [
        "freq_avaliacoes"
      ],
      "metadata": {
        "id": "ScDP5E1sjW4W",
        "colab": {
          "base_uri": "https://localhost:8080/",
          "height": 206
        },
        "outputId": "acef5529-4e3e-4fc1-e70b-1b57e53aef62"
      },
      "execution_count": null,
      "outputs": [
        {
          "output_type": "execute_result",
          "data": {
            "text/plain": [
              "  avaliacao_indicador  freq_absoluta  freq_relativa\n",
              "4               Ótimo          66076           33.0\n",
              "3                 Bom          40980           20.5\n",
              "2             Regular          32282           16.1\n",
              "1                Ruim          28239           14.1\n",
              "0             Péssimo          32423           16.2"
            ],
            "text/html": [
              "\n",
              "  <div id=\"df-e2711876-4d39-42d9-8738-0d5c0549e663\" class=\"colab-df-container\">\n",
              "    <div>\n",
              "<style scoped>\n",
              "    .dataframe tbody tr th:only-of-type {\n",
              "        vertical-align: middle;\n",
              "    }\n",
              "\n",
              "    .dataframe tbody tr th {\n",
              "        vertical-align: top;\n",
              "    }\n",
              "\n",
              "    .dataframe thead th {\n",
              "        text-align: right;\n",
              "    }\n",
              "</style>\n",
              "<table border=\"1\" class=\"dataframe\">\n",
              "  <thead>\n",
              "    <tr style=\"text-align: right;\">\n",
              "      <th></th>\n",
              "      <th>avaliacao_indicador</th>\n",
              "      <th>freq_absoluta</th>\n",
              "      <th>freq_relativa</th>\n",
              "    </tr>\n",
              "  </thead>\n",
              "  <tbody>\n",
              "    <tr>\n",
              "      <th>4</th>\n",
              "      <td>Ótimo</td>\n",
              "      <td>66076</td>\n",
              "      <td>33.0</td>\n",
              "    </tr>\n",
              "    <tr>\n",
              "      <th>3</th>\n",
              "      <td>Bom</td>\n",
              "      <td>40980</td>\n",
              "      <td>20.5</td>\n",
              "    </tr>\n",
              "    <tr>\n",
              "      <th>2</th>\n",
              "      <td>Regular</td>\n",
              "      <td>32282</td>\n",
              "      <td>16.1</td>\n",
              "    </tr>\n",
              "    <tr>\n",
              "      <th>1</th>\n",
              "      <td>Ruim</td>\n",
              "      <td>28239</td>\n",
              "      <td>14.1</td>\n",
              "    </tr>\n",
              "    <tr>\n",
              "      <th>0</th>\n",
              "      <td>Péssimo</td>\n",
              "      <td>32423</td>\n",
              "      <td>16.2</td>\n",
              "    </tr>\n",
              "  </tbody>\n",
              "</table>\n",
              "</div>\n",
              "    <div class=\"colab-df-buttons\">\n",
              "\n",
              "  <div class=\"colab-df-container\">\n",
              "    <button class=\"colab-df-convert\" onclick=\"convertToInteractive('df-e2711876-4d39-42d9-8738-0d5c0549e663')\"\n",
              "            title=\"Convert this dataframe to an interactive table.\"\n",
              "            style=\"display:none;\">\n",
              "\n",
              "  <svg xmlns=\"http://www.w3.org/2000/svg\" height=\"24px\" viewBox=\"0 -960 960 960\">\n",
              "    <path d=\"M120-120v-720h720v720H120Zm60-500h600v-160H180v160Zm220 220h160v-160H400v160Zm0 220h160v-160H400v160ZM180-400h160v-160H180v160Zm440 0h160v-160H620v160ZM180-180h160v-160H180v160Zm440 0h160v-160H620v160Z\"/>\n",
              "  </svg>\n",
              "    </button>\n",
              "\n",
              "  <style>\n",
              "    .colab-df-container {\n",
              "      display:flex;\n",
              "      gap: 12px;\n",
              "    }\n",
              "\n",
              "    .colab-df-convert {\n",
              "      background-color: #E8F0FE;\n",
              "      border: none;\n",
              "      border-radius: 50%;\n",
              "      cursor: pointer;\n",
              "      display: none;\n",
              "      fill: #1967D2;\n",
              "      height: 32px;\n",
              "      padding: 0 0 0 0;\n",
              "      width: 32px;\n",
              "    }\n",
              "\n",
              "    .colab-df-convert:hover {\n",
              "      background-color: #E2EBFA;\n",
              "      box-shadow: 0px 1px 2px rgba(60, 64, 67, 0.3), 0px 1px 3px 1px rgba(60, 64, 67, 0.15);\n",
              "      fill: #174EA6;\n",
              "    }\n",
              "\n",
              "    .colab-df-buttons div {\n",
              "      margin-bottom: 4px;\n",
              "    }\n",
              "\n",
              "    [theme=dark] .colab-df-convert {\n",
              "      background-color: #3B4455;\n",
              "      fill: #D2E3FC;\n",
              "    }\n",
              "\n",
              "    [theme=dark] .colab-df-convert:hover {\n",
              "      background-color: #434B5C;\n",
              "      box-shadow: 0px 1px 3px 1px rgba(0, 0, 0, 0.15);\n",
              "      filter: drop-shadow(0px 1px 2px rgba(0, 0, 0, 0.3));\n",
              "      fill: #FFFFFF;\n",
              "    }\n",
              "  </style>\n",
              "\n",
              "    <script>\n",
              "      const buttonEl =\n",
              "        document.querySelector('#df-e2711876-4d39-42d9-8738-0d5c0549e663 button.colab-df-convert');\n",
              "      buttonEl.style.display =\n",
              "        google.colab.kernel.accessAllowed ? 'block' : 'none';\n",
              "\n",
              "      async function convertToInteractive(key) {\n",
              "        const element = document.querySelector('#df-e2711876-4d39-42d9-8738-0d5c0549e663');\n",
              "        const dataTable =\n",
              "          await google.colab.kernel.invokeFunction('convertToInteractive',\n",
              "                                                    [key], {});\n",
              "        if (!dataTable) return;\n",
              "\n",
              "        const docLinkHtml = 'Like what you see? Visit the ' +\n",
              "          '<a target=\"_blank\" href=https://colab.research.google.com/notebooks/data_table.ipynb>data table notebook</a>'\n",
              "          + ' to learn more about interactive tables.';\n",
              "        element.innerHTML = '';\n",
              "        dataTable['output_type'] = 'display_data';\n",
              "        await google.colab.output.renderOutput(dataTable, element);\n",
              "        const docLink = document.createElement('div');\n",
              "        docLink.innerHTML = docLinkHtml;\n",
              "        element.appendChild(docLink);\n",
              "      }\n",
              "    </script>\n",
              "  </div>\n",
              "\n",
              "\n",
              "    <div id=\"df-fbe1dd61-643b-4e6f-83a6-f0f8496b87a3\">\n",
              "      <button class=\"colab-df-quickchart\" onclick=\"quickchart('df-fbe1dd61-643b-4e6f-83a6-f0f8496b87a3')\"\n",
              "                title=\"Suggest charts\"\n",
              "                style=\"display:none;\">\n",
              "\n",
              "<svg xmlns=\"http://www.w3.org/2000/svg\" height=\"24px\"viewBox=\"0 0 24 24\"\n",
              "     width=\"24px\">\n",
              "    <g>\n",
              "        <path d=\"M19 3H5c-1.1 0-2 .9-2 2v14c0 1.1.9 2 2 2h14c1.1 0 2-.9 2-2V5c0-1.1-.9-2-2-2zM9 17H7v-7h2v7zm4 0h-2V7h2v10zm4 0h-2v-4h2v4z\"/>\n",
              "    </g>\n",
              "</svg>\n",
              "      </button>\n",
              "\n",
              "<style>\n",
              "  .colab-df-quickchart {\n",
              "      --bg-color: #E8F0FE;\n",
              "      --fill-color: #1967D2;\n",
              "      --hover-bg-color: #E2EBFA;\n",
              "      --hover-fill-color: #174EA6;\n",
              "      --disabled-fill-color: #AAA;\n",
              "      --disabled-bg-color: #DDD;\n",
              "  }\n",
              "\n",
              "  [theme=dark] .colab-df-quickchart {\n",
              "      --bg-color: #3B4455;\n",
              "      --fill-color: #D2E3FC;\n",
              "      --hover-bg-color: #434B5C;\n",
              "      --hover-fill-color: #FFFFFF;\n",
              "      --disabled-bg-color: #3B4455;\n",
              "      --disabled-fill-color: #666;\n",
              "  }\n",
              "\n",
              "  .colab-df-quickchart {\n",
              "    background-color: var(--bg-color);\n",
              "    border: none;\n",
              "    border-radius: 50%;\n",
              "    cursor: pointer;\n",
              "    display: none;\n",
              "    fill: var(--fill-color);\n",
              "    height: 32px;\n",
              "    padding: 0;\n",
              "    width: 32px;\n",
              "  }\n",
              "\n",
              "  .colab-df-quickchart:hover {\n",
              "    background-color: var(--hover-bg-color);\n",
              "    box-shadow: 0 1px 2px rgba(60, 64, 67, 0.3), 0 1px 3px 1px rgba(60, 64, 67, 0.15);\n",
              "    fill: var(--button-hover-fill-color);\n",
              "  }\n",
              "\n",
              "  .colab-df-quickchart-complete:disabled,\n",
              "  .colab-df-quickchart-complete:disabled:hover {\n",
              "    background-color: var(--disabled-bg-color);\n",
              "    fill: var(--disabled-fill-color);\n",
              "    box-shadow: none;\n",
              "  }\n",
              "\n",
              "  .colab-df-spinner {\n",
              "    border: 2px solid var(--fill-color);\n",
              "    border-color: transparent;\n",
              "    border-bottom-color: var(--fill-color);\n",
              "    animation:\n",
              "      spin 1s steps(1) infinite;\n",
              "  }\n",
              "\n",
              "  @keyframes spin {\n",
              "    0% {\n",
              "      border-color: transparent;\n",
              "      border-bottom-color: var(--fill-color);\n",
              "      border-left-color: var(--fill-color);\n",
              "    }\n",
              "    20% {\n",
              "      border-color: transparent;\n",
              "      border-left-color: var(--fill-color);\n",
              "      border-top-color: var(--fill-color);\n",
              "    }\n",
              "    30% {\n",
              "      border-color: transparent;\n",
              "      border-left-color: var(--fill-color);\n",
              "      border-top-color: var(--fill-color);\n",
              "      border-right-color: var(--fill-color);\n",
              "    }\n",
              "    40% {\n",
              "      border-color: transparent;\n",
              "      border-right-color: var(--fill-color);\n",
              "      border-top-color: var(--fill-color);\n",
              "    }\n",
              "    60% {\n",
              "      border-color: transparent;\n",
              "      border-right-color: var(--fill-color);\n",
              "    }\n",
              "    80% {\n",
              "      border-color: transparent;\n",
              "      border-right-color: var(--fill-color);\n",
              "      border-bottom-color: var(--fill-color);\n",
              "    }\n",
              "    90% {\n",
              "      border-color: transparent;\n",
              "      border-bottom-color: var(--fill-color);\n",
              "    }\n",
              "  }\n",
              "</style>\n",
              "\n",
              "      <script>\n",
              "        async function quickchart(key) {\n",
              "          const quickchartButtonEl =\n",
              "            document.querySelector('#' + key + ' button');\n",
              "          quickchartButtonEl.disabled = true;  // To prevent multiple clicks.\n",
              "          quickchartButtonEl.classList.add('colab-df-spinner');\n",
              "          try {\n",
              "            const charts = await google.colab.kernel.invokeFunction(\n",
              "                'suggestCharts', [key], {});\n",
              "          } catch (error) {\n",
              "            console.error('Error during call to suggestCharts:', error);\n",
              "          }\n",
              "          quickchartButtonEl.classList.remove('colab-df-spinner');\n",
              "          quickchartButtonEl.classList.add('colab-df-quickchart-complete');\n",
              "        }\n",
              "        (() => {\n",
              "          let quickchartButtonEl =\n",
              "            document.querySelector('#df-fbe1dd61-643b-4e6f-83a6-f0f8496b87a3 button');\n",
              "          quickchartButtonEl.style.display =\n",
              "            google.colab.kernel.accessAllowed ? 'block' : 'none';\n",
              "        })();\n",
              "      </script>\n",
              "    </div>\n",
              "\n",
              "  <div id=\"id_59c1d7f9-ff50-4e4e-9385-83bcef0aea84\">\n",
              "    <style>\n",
              "      .colab-df-generate {\n",
              "        background-color: #E8F0FE;\n",
              "        border: none;\n",
              "        border-radius: 50%;\n",
              "        cursor: pointer;\n",
              "        display: none;\n",
              "        fill: #1967D2;\n",
              "        height: 32px;\n",
              "        padding: 0 0 0 0;\n",
              "        width: 32px;\n",
              "      }\n",
              "\n",
              "      .colab-df-generate:hover {\n",
              "        background-color: #E2EBFA;\n",
              "        box-shadow: 0px 1px 2px rgba(60, 64, 67, 0.3), 0px 1px 3px 1px rgba(60, 64, 67, 0.15);\n",
              "        fill: #174EA6;\n",
              "      }\n",
              "\n",
              "      [theme=dark] .colab-df-generate {\n",
              "        background-color: #3B4455;\n",
              "        fill: #D2E3FC;\n",
              "      }\n",
              "\n",
              "      [theme=dark] .colab-df-generate:hover {\n",
              "        background-color: #434B5C;\n",
              "        box-shadow: 0px 1px 3px 1px rgba(0, 0, 0, 0.15);\n",
              "        filter: drop-shadow(0px 1px 2px rgba(0, 0, 0, 0.3));\n",
              "        fill: #FFFFFF;\n",
              "      }\n",
              "    </style>\n",
              "    <button class=\"colab-df-generate\" onclick=\"generateWithVariable('freq_avaliacoes')\"\n",
              "            title=\"Generate code using this dataframe.\"\n",
              "            style=\"display:none;\">\n",
              "\n",
              "  <svg xmlns=\"http://www.w3.org/2000/svg\" height=\"24px\"viewBox=\"0 0 24 24\"\n",
              "       width=\"24px\">\n",
              "    <path d=\"M7,19H8.4L18.45,9,17,7.55,7,17.6ZM5,21V16.75L18.45,3.32a2,2,0,0,1,2.83,0l1.4,1.43a1.91,1.91,0,0,1,.58,1.4,1.91,1.91,0,0,1-.58,1.4L9.25,21ZM18.45,9,17,7.55Zm-12,3A5.31,5.31,0,0,0,4.9,8.1,5.31,5.31,0,0,0,1,6.5,5.31,5.31,0,0,0,4.9,4.9,5.31,5.31,0,0,0,6.5,1,5.31,5.31,0,0,0,8.1,4.9,5.31,5.31,0,0,0,12,6.5,5.46,5.46,0,0,0,6.5,12Z\"/>\n",
              "  </svg>\n",
              "    </button>\n",
              "    <script>\n",
              "      (() => {\n",
              "      const buttonEl =\n",
              "        document.querySelector('#id_59c1d7f9-ff50-4e4e-9385-83bcef0aea84 button.colab-df-generate');\n",
              "      buttonEl.style.display =\n",
              "        google.colab.kernel.accessAllowed ? 'block' : 'none';\n",
              "\n",
              "      buttonEl.onclick = () => {\n",
              "        google.colab.notebook.generateWithVariable('freq_avaliacoes');\n",
              "      }\n",
              "      })();\n",
              "    </script>\n",
              "  </div>\n",
              "\n",
              "    </div>\n",
              "  </div>\n"
            ],
            "application/vnd.google.colaboratory.intrinsic+json": {
              "type": "dataframe",
              "variable_name": "freq_avaliacoes",
              "summary": "{\n  \"name\": \"freq_avaliacoes\",\n  \"rows\": 5,\n  \"fields\": [\n    {\n      \"column\": \"avaliacao_indicador\",\n      \"properties\": {\n        \"dtype\": \"category\",\n        \"num_unique_values\": 5,\n        \"samples\": [\n          \"Bom\",\n          \"P\\u00e9ssimo\",\n          \"Regular\"\n        ],\n        \"semantic_type\": \"\",\n        \"description\": \"\"\n      }\n    },\n    {\n      \"column\": \"freq_absoluta\",\n      \"properties\": {\n        \"dtype\": \"number\",\n        \"std\": 15298,\n        \"min\": 28239,\n        \"max\": 66076,\n        \"num_unique_values\": 5,\n        \"samples\": [\n          40980,\n          32423,\n          32282\n        ],\n        \"semantic_type\": \"\",\n        \"description\": \"\"\n      }\n    },\n    {\n      \"column\": \"freq_relativa\",\n      \"properties\": {\n        \"dtype\": \"number\",\n        \"std\": 7.643755621420663,\n        \"min\": 14.1,\n        \"max\": 33.0,\n        \"num_unique_values\": 5,\n        \"samples\": [\n          20.5,\n          16.2,\n          16.1\n        ],\n        \"semantic_type\": \"\",\n        \"description\": \"\"\n      }\n    }\n  ]\n}"
            }
          },
          "metadata": {},
          "execution_count": 49
        }
      ]
    },
    {
      "cell_type": "code",
      "source": [
        "freq_avaliacoes.columns = ['Avaliação', 'Quantidade', 'Porcentagem (%)']\n",
        "freq_avaliacoes"
      ],
      "metadata": {
        "id": "6JfIP9YcCKQA",
        "colab": {
          "base_uri": "https://localhost:8080/",
          "height": 206
        },
        "outputId": "01304e9d-8a7e-4e02-fc56-045a24a6474d"
      },
      "execution_count": null,
      "outputs": [
        {
          "output_type": "execute_result",
          "data": {
            "text/plain": [
              "  Avaliação  Quantidade  Porcentagem (%)\n",
              "4     Ótimo       66076             33.0\n",
              "3       Bom       40980             20.5\n",
              "2   Regular       32282             16.1\n",
              "1      Ruim       28239             14.1\n",
              "0   Péssimo       32423             16.2"
            ],
            "text/html": [
              "\n",
              "  <div id=\"df-3eda04df-eea6-44c0-ab90-cf6936d28407\" class=\"colab-df-container\">\n",
              "    <div>\n",
              "<style scoped>\n",
              "    .dataframe tbody tr th:only-of-type {\n",
              "        vertical-align: middle;\n",
              "    }\n",
              "\n",
              "    .dataframe tbody tr th {\n",
              "        vertical-align: top;\n",
              "    }\n",
              "\n",
              "    .dataframe thead th {\n",
              "        text-align: right;\n",
              "    }\n",
              "</style>\n",
              "<table border=\"1\" class=\"dataframe\">\n",
              "  <thead>\n",
              "    <tr style=\"text-align: right;\">\n",
              "      <th></th>\n",
              "      <th>Avaliação</th>\n",
              "      <th>Quantidade</th>\n",
              "      <th>Porcentagem (%)</th>\n",
              "    </tr>\n",
              "  </thead>\n",
              "  <tbody>\n",
              "    <tr>\n",
              "      <th>4</th>\n",
              "      <td>Ótimo</td>\n",
              "      <td>66076</td>\n",
              "      <td>33.0</td>\n",
              "    </tr>\n",
              "    <tr>\n",
              "      <th>3</th>\n",
              "      <td>Bom</td>\n",
              "      <td>40980</td>\n",
              "      <td>20.5</td>\n",
              "    </tr>\n",
              "    <tr>\n",
              "      <th>2</th>\n",
              "      <td>Regular</td>\n",
              "      <td>32282</td>\n",
              "      <td>16.1</td>\n",
              "    </tr>\n",
              "    <tr>\n",
              "      <th>1</th>\n",
              "      <td>Ruim</td>\n",
              "      <td>28239</td>\n",
              "      <td>14.1</td>\n",
              "    </tr>\n",
              "    <tr>\n",
              "      <th>0</th>\n",
              "      <td>Péssimo</td>\n",
              "      <td>32423</td>\n",
              "      <td>16.2</td>\n",
              "    </tr>\n",
              "  </tbody>\n",
              "</table>\n",
              "</div>\n",
              "    <div class=\"colab-df-buttons\">\n",
              "\n",
              "  <div class=\"colab-df-container\">\n",
              "    <button class=\"colab-df-convert\" onclick=\"convertToInteractive('df-3eda04df-eea6-44c0-ab90-cf6936d28407')\"\n",
              "            title=\"Convert this dataframe to an interactive table.\"\n",
              "            style=\"display:none;\">\n",
              "\n",
              "  <svg xmlns=\"http://www.w3.org/2000/svg\" height=\"24px\" viewBox=\"0 -960 960 960\">\n",
              "    <path d=\"M120-120v-720h720v720H120Zm60-500h600v-160H180v160Zm220 220h160v-160H400v160Zm0 220h160v-160H400v160ZM180-400h160v-160H180v160Zm440 0h160v-160H620v160ZM180-180h160v-160H180v160Zm440 0h160v-160H620v160Z\"/>\n",
              "  </svg>\n",
              "    </button>\n",
              "\n",
              "  <style>\n",
              "    .colab-df-container {\n",
              "      display:flex;\n",
              "      gap: 12px;\n",
              "    }\n",
              "\n",
              "    .colab-df-convert {\n",
              "      background-color: #E8F0FE;\n",
              "      border: none;\n",
              "      border-radius: 50%;\n",
              "      cursor: pointer;\n",
              "      display: none;\n",
              "      fill: #1967D2;\n",
              "      height: 32px;\n",
              "      padding: 0 0 0 0;\n",
              "      width: 32px;\n",
              "    }\n",
              "\n",
              "    .colab-df-convert:hover {\n",
              "      background-color: #E2EBFA;\n",
              "      box-shadow: 0px 1px 2px rgba(60, 64, 67, 0.3), 0px 1px 3px 1px rgba(60, 64, 67, 0.15);\n",
              "      fill: #174EA6;\n",
              "    }\n",
              "\n",
              "    .colab-df-buttons div {\n",
              "      margin-bottom: 4px;\n",
              "    }\n",
              "\n",
              "    [theme=dark] .colab-df-convert {\n",
              "      background-color: #3B4455;\n",
              "      fill: #D2E3FC;\n",
              "    }\n",
              "\n",
              "    [theme=dark] .colab-df-convert:hover {\n",
              "      background-color: #434B5C;\n",
              "      box-shadow: 0px 1px 3px 1px rgba(0, 0, 0, 0.15);\n",
              "      filter: drop-shadow(0px 1px 2px rgba(0, 0, 0, 0.3));\n",
              "      fill: #FFFFFF;\n",
              "    }\n",
              "  </style>\n",
              "\n",
              "    <script>\n",
              "      const buttonEl =\n",
              "        document.querySelector('#df-3eda04df-eea6-44c0-ab90-cf6936d28407 button.colab-df-convert');\n",
              "      buttonEl.style.display =\n",
              "        google.colab.kernel.accessAllowed ? 'block' : 'none';\n",
              "\n",
              "      async function convertToInteractive(key) {\n",
              "        const element = document.querySelector('#df-3eda04df-eea6-44c0-ab90-cf6936d28407');\n",
              "        const dataTable =\n",
              "          await google.colab.kernel.invokeFunction('convertToInteractive',\n",
              "                                                    [key], {});\n",
              "        if (!dataTable) return;\n",
              "\n",
              "        const docLinkHtml = 'Like what you see? Visit the ' +\n",
              "          '<a target=\"_blank\" href=https://colab.research.google.com/notebooks/data_table.ipynb>data table notebook</a>'\n",
              "          + ' to learn more about interactive tables.';\n",
              "        element.innerHTML = '';\n",
              "        dataTable['output_type'] = 'display_data';\n",
              "        await google.colab.output.renderOutput(dataTable, element);\n",
              "        const docLink = document.createElement('div');\n",
              "        docLink.innerHTML = docLinkHtml;\n",
              "        element.appendChild(docLink);\n",
              "      }\n",
              "    </script>\n",
              "  </div>\n",
              "\n",
              "\n",
              "    <div id=\"df-b0d50711-2f42-4e24-b9b9-309cc83e1fa2\">\n",
              "      <button class=\"colab-df-quickchart\" onclick=\"quickchart('df-b0d50711-2f42-4e24-b9b9-309cc83e1fa2')\"\n",
              "                title=\"Suggest charts\"\n",
              "                style=\"display:none;\">\n",
              "\n",
              "<svg xmlns=\"http://www.w3.org/2000/svg\" height=\"24px\"viewBox=\"0 0 24 24\"\n",
              "     width=\"24px\">\n",
              "    <g>\n",
              "        <path d=\"M19 3H5c-1.1 0-2 .9-2 2v14c0 1.1.9 2 2 2h14c1.1 0 2-.9 2-2V5c0-1.1-.9-2-2-2zM9 17H7v-7h2v7zm4 0h-2V7h2v10zm4 0h-2v-4h2v4z\"/>\n",
              "    </g>\n",
              "</svg>\n",
              "      </button>\n",
              "\n",
              "<style>\n",
              "  .colab-df-quickchart {\n",
              "      --bg-color: #E8F0FE;\n",
              "      --fill-color: #1967D2;\n",
              "      --hover-bg-color: #E2EBFA;\n",
              "      --hover-fill-color: #174EA6;\n",
              "      --disabled-fill-color: #AAA;\n",
              "      --disabled-bg-color: #DDD;\n",
              "  }\n",
              "\n",
              "  [theme=dark] .colab-df-quickchart {\n",
              "      --bg-color: #3B4455;\n",
              "      --fill-color: #D2E3FC;\n",
              "      --hover-bg-color: #434B5C;\n",
              "      --hover-fill-color: #FFFFFF;\n",
              "      --disabled-bg-color: #3B4455;\n",
              "      --disabled-fill-color: #666;\n",
              "  }\n",
              "\n",
              "  .colab-df-quickchart {\n",
              "    background-color: var(--bg-color);\n",
              "    border: none;\n",
              "    border-radius: 50%;\n",
              "    cursor: pointer;\n",
              "    display: none;\n",
              "    fill: var(--fill-color);\n",
              "    height: 32px;\n",
              "    padding: 0;\n",
              "    width: 32px;\n",
              "  }\n",
              "\n",
              "  .colab-df-quickchart:hover {\n",
              "    background-color: var(--hover-bg-color);\n",
              "    box-shadow: 0 1px 2px rgba(60, 64, 67, 0.3), 0 1px 3px 1px rgba(60, 64, 67, 0.15);\n",
              "    fill: var(--button-hover-fill-color);\n",
              "  }\n",
              "\n",
              "  .colab-df-quickchart-complete:disabled,\n",
              "  .colab-df-quickchart-complete:disabled:hover {\n",
              "    background-color: var(--disabled-bg-color);\n",
              "    fill: var(--disabled-fill-color);\n",
              "    box-shadow: none;\n",
              "  }\n",
              "\n",
              "  .colab-df-spinner {\n",
              "    border: 2px solid var(--fill-color);\n",
              "    border-color: transparent;\n",
              "    border-bottom-color: var(--fill-color);\n",
              "    animation:\n",
              "      spin 1s steps(1) infinite;\n",
              "  }\n",
              "\n",
              "  @keyframes spin {\n",
              "    0% {\n",
              "      border-color: transparent;\n",
              "      border-bottom-color: var(--fill-color);\n",
              "      border-left-color: var(--fill-color);\n",
              "    }\n",
              "    20% {\n",
              "      border-color: transparent;\n",
              "      border-left-color: var(--fill-color);\n",
              "      border-top-color: var(--fill-color);\n",
              "    }\n",
              "    30% {\n",
              "      border-color: transparent;\n",
              "      border-left-color: var(--fill-color);\n",
              "      border-top-color: var(--fill-color);\n",
              "      border-right-color: var(--fill-color);\n",
              "    }\n",
              "    40% {\n",
              "      border-color: transparent;\n",
              "      border-right-color: var(--fill-color);\n",
              "      border-top-color: var(--fill-color);\n",
              "    }\n",
              "    60% {\n",
              "      border-color: transparent;\n",
              "      border-right-color: var(--fill-color);\n",
              "    }\n",
              "    80% {\n",
              "      border-color: transparent;\n",
              "      border-right-color: var(--fill-color);\n",
              "      border-bottom-color: var(--fill-color);\n",
              "    }\n",
              "    90% {\n",
              "      border-color: transparent;\n",
              "      border-bottom-color: var(--fill-color);\n",
              "    }\n",
              "  }\n",
              "</style>\n",
              "\n",
              "      <script>\n",
              "        async function quickchart(key) {\n",
              "          const quickchartButtonEl =\n",
              "            document.querySelector('#' + key + ' button');\n",
              "          quickchartButtonEl.disabled = true;  // To prevent multiple clicks.\n",
              "          quickchartButtonEl.classList.add('colab-df-spinner');\n",
              "          try {\n",
              "            const charts = await google.colab.kernel.invokeFunction(\n",
              "                'suggestCharts', [key], {});\n",
              "          } catch (error) {\n",
              "            console.error('Error during call to suggestCharts:', error);\n",
              "          }\n",
              "          quickchartButtonEl.classList.remove('colab-df-spinner');\n",
              "          quickchartButtonEl.classList.add('colab-df-quickchart-complete');\n",
              "        }\n",
              "        (() => {\n",
              "          let quickchartButtonEl =\n",
              "            document.querySelector('#df-b0d50711-2f42-4e24-b9b9-309cc83e1fa2 button');\n",
              "          quickchartButtonEl.style.display =\n",
              "            google.colab.kernel.accessAllowed ? 'block' : 'none';\n",
              "        })();\n",
              "      </script>\n",
              "    </div>\n",
              "\n",
              "  <div id=\"id_12da560a-7696-418e-9ac9-9c9580174718\">\n",
              "    <style>\n",
              "      .colab-df-generate {\n",
              "        background-color: #E8F0FE;\n",
              "        border: none;\n",
              "        border-radius: 50%;\n",
              "        cursor: pointer;\n",
              "        display: none;\n",
              "        fill: #1967D2;\n",
              "        height: 32px;\n",
              "        padding: 0 0 0 0;\n",
              "        width: 32px;\n",
              "      }\n",
              "\n",
              "      .colab-df-generate:hover {\n",
              "        background-color: #E2EBFA;\n",
              "        box-shadow: 0px 1px 2px rgba(60, 64, 67, 0.3), 0px 1px 3px 1px rgba(60, 64, 67, 0.15);\n",
              "        fill: #174EA6;\n",
              "      }\n",
              "\n",
              "      [theme=dark] .colab-df-generate {\n",
              "        background-color: #3B4455;\n",
              "        fill: #D2E3FC;\n",
              "      }\n",
              "\n",
              "      [theme=dark] .colab-df-generate:hover {\n",
              "        background-color: #434B5C;\n",
              "        box-shadow: 0px 1px 3px 1px rgba(0, 0, 0, 0.15);\n",
              "        filter: drop-shadow(0px 1px 2px rgba(0, 0, 0, 0.3));\n",
              "        fill: #FFFFFF;\n",
              "      }\n",
              "    </style>\n",
              "    <button class=\"colab-df-generate\" onclick=\"generateWithVariable('freq_avaliacoes')\"\n",
              "            title=\"Generate code using this dataframe.\"\n",
              "            style=\"display:none;\">\n",
              "\n",
              "  <svg xmlns=\"http://www.w3.org/2000/svg\" height=\"24px\"viewBox=\"0 0 24 24\"\n",
              "       width=\"24px\">\n",
              "    <path d=\"M7,19H8.4L18.45,9,17,7.55,7,17.6ZM5,21V16.75L18.45,3.32a2,2,0,0,1,2.83,0l1.4,1.43a1.91,1.91,0,0,1,.58,1.4,1.91,1.91,0,0,1-.58,1.4L9.25,21ZM18.45,9,17,7.55Zm-12,3A5.31,5.31,0,0,0,4.9,8.1,5.31,5.31,0,0,0,1,6.5,5.31,5.31,0,0,0,4.9,4.9,5.31,5.31,0,0,0,6.5,1,5.31,5.31,0,0,0,8.1,4.9,5.31,5.31,0,0,0,12,6.5,5.46,5.46,0,0,0,6.5,12Z\"/>\n",
              "  </svg>\n",
              "    </button>\n",
              "    <script>\n",
              "      (() => {\n",
              "      const buttonEl =\n",
              "        document.querySelector('#id_12da560a-7696-418e-9ac9-9c9580174718 button.colab-df-generate');\n",
              "      buttonEl.style.display =\n",
              "        google.colab.kernel.accessAllowed ? 'block' : 'none';\n",
              "\n",
              "      buttonEl.onclick = () => {\n",
              "        google.colab.notebook.generateWithVariable('freq_avaliacoes');\n",
              "      }\n",
              "      })();\n",
              "    </script>\n",
              "  </div>\n",
              "\n",
              "    </div>\n",
              "  </div>\n"
            ],
            "application/vnd.google.colaboratory.intrinsic+json": {
              "type": "dataframe",
              "variable_name": "freq_avaliacoes",
              "summary": "{\n  \"name\": \"freq_avaliacoes\",\n  \"rows\": 5,\n  \"fields\": [\n    {\n      \"column\": \"Avalia\\u00e7\\u00e3o\",\n      \"properties\": {\n        \"dtype\": \"category\",\n        \"num_unique_values\": 5,\n        \"samples\": [\n          \"Bom\",\n          \"P\\u00e9ssimo\",\n          \"Regular\"\n        ],\n        \"semantic_type\": \"\",\n        \"description\": \"\"\n      }\n    },\n    {\n      \"column\": \"Quantidade\",\n      \"properties\": {\n        \"dtype\": \"number\",\n        \"std\": 15298,\n        \"min\": 28239,\n        \"max\": 66076,\n        \"num_unique_values\": 5,\n        \"samples\": [\n          40980,\n          32423,\n          32282\n        ],\n        \"semantic_type\": \"\",\n        \"description\": \"\"\n      }\n    },\n    {\n      \"column\": \"Porcentagem (%)\",\n      \"properties\": {\n        \"dtype\": \"number\",\n        \"std\": 7.643755621420663,\n        \"min\": 14.1,\n        \"max\": 33.0,\n        \"num_unique_values\": 5,\n        \"samples\": [\n          20.5,\n          16.2,\n          16.1\n        ],\n        \"semantic_type\": \"\",\n        \"description\": \"\"\n      }\n    }\n  ]\n}"
            }
          },
          "metadata": {},
          "execution_count": 50
        }
      ]
    },
    {
      "cell_type": "code",
      "source": [
        "import seaborn as sns\n",
        "\n",
        "plt.figure(figsize=(10, 6))\n",
        "sns.barplot(data=freq_avaliacoes, x='Avaliação', y='Quantidade')\n",
        "\n",
        "# Adicionando título e rótulos aos eixos\n",
        "plt.xlabel('Avaliação')\n",
        "plt.ylabel('Quantidade')\n",
        "plt.title('Distribuição de frequência por avaliação')\n",
        "\n",
        "# Adicionando os rótulos com valores de frequência e porcentagem\n",
        "for index, row in freq_avaliacoes.iterrows():\n",
        "    plt.text(index, row['Quantidade'] + 0.1, f\"{row['Quantidade']} ({row['Porcentagem (%)']:.1f}%)\",\n",
        "       ha='center', va='bottom', fontsize=12)\n",
        "\n",
        "plt.show()\n"
      ],
      "metadata": {
        "id": "2RSwUXWajVPd",
        "colab": {
          "base_uri": "https://localhost:8080/",
          "height": 565
        },
        "outputId": "16d29d8b-34db-454e-bf9f-637ddba0df65"
      },
      "execution_count": null,
      "outputs": [
        {
          "output_type": "display_data",
          "data": {
            "text/plain": [
              "<Figure size 1000x600 with 1 Axes>"
            ],
            "image/png": "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\n"
          },
          "metadata": {}
        }
      ]
    },
    {
      "cell_type": "markdown",
      "source": [
        "Conseguimos perceber que de modo geral possuímos mais avaliações positivas (\"Ótimo\" e \"Bom\") que negativas (\"Péssimo\" e \"Ruim\"), porém o número de avaliações \"Péssimo\" está acima das avaliações neutras.\n",
        "\n",
        "Reportar esse comportamento pode ser importante, pois a equipe de marketing poderá investigar com mais detalhes o que levou a esse nível de avaliação negativa."
      ],
      "metadata": {
        "id": "XktCzlTwtP0J"
      }
    },
    {
      "cell_type": "markdown",
      "source": [
        "## **2.2 Distribuindo frequências de dados qualitativos - 2 variáveis**\n",
        "\n",
        "---\n"
      ],
      "metadata": {
        "id": "PG13hWS7L-k_"
      }
    },
    {
      "cell_type": "markdown",
      "source": [
        "### <font color=\"#E23155\" face=\"Verdana\">Demanda 2: Avaliações dos clientes por região</font>"
      ],
      "metadata": {
        "id": "12OWccByMAGl"
      }
    },
    {
      "cell_type": "markdown",
      "source": [
        "A equipe de marketing e vendas da empresa trouxe uma nova demanda para a análise das avaliações. Além de entender o comportamento geral das avaliações (avaliacao_indicador), agora desejam saber também como essas avaliações variam de acordo com a região do país.\n",
        "\n",
        "Com isso, gostariam de identificar como as percepções dos clientes variam regionalmente, respondendo questões como:\n",
        "\n",
        "* Qual região tem mais avaliações positivas?\n",
        "* Alguma região concentra a maior parte das avaliações negativas?\n",
        "* Existe alguma diferença relevante que indique a necessidade de ações específicas para uma região?"
      ],
      "metadata": {
        "id": "I5UEG4lYwmlv"
      }
    },
    {
      "cell_type": "markdown",
      "source": [
        "### <font color=\"#E23155\" face=\"Verdana\">Solução:</font>"
      ],
      "metadata": {
        "id": "VOyJcglDwnHl"
      }
    },
    {
      "cell_type": "markdown",
      "source": [
        "### **Tabela de contingência (distribuição de frequência bivariada)**\n",
        "\n",
        "A **tabela de contingência**, também conhecida como tabela cruzada ou tabela bidirecional, tem como objetivo representar de forma resumida a relação entre diferentes variáveis categóricas. Ela é uma espécie de **distribuição de frequência entre 2 variáveis** que analisa a relação entre as variáveis qualitativas, sejam elas dependentes ou independentes.\n",
        "\n",
        "Geralmente, ela é construída com base em dados qualitativos, os quais são divididos em grupos mutuamente exclusivos. Por exemplo: quantidade de pessoas por sexo biológico e grau de instrução.\n",
        "\n",
        "Uma das principais utilizações de uma tabela de contingência é analisar a relação entre dados que não são facilmente identificáveis."
      ],
      "metadata": {
        "id": "DG17O0LEwqXq"
      }
    },
    {
      "cell_type": "code",
      "source": [
        "tab_avaliacoes_regiao = pd.crosstab(df['avaliacao_indicador'], df['regiao_cliente'])"
      ],
      "metadata": {
        "id": "Mh-WWywQjQ_O"
      },
      "execution_count": null,
      "outputs": []
    },
    {
      "cell_type": "code",
      "source": [
        "tab_avaliacoes_regiao"
      ],
      "metadata": {
        "id": "qa3ln_rxwvGg",
        "colab": {
          "base_uri": "https://localhost:8080/",
          "height": 237
        },
        "outputId": "403c9f34-27b3-4988-c9a1-e8ad84c5b7e7"
      },
      "execution_count": null,
      "outputs": [
        {
          "output_type": "execute_result",
          "data": {
            "text/plain": [
              "regiao_cliente       Centro-Oeste  Nordeste  Norte  Sudeste    Sul\n",
              "avaliacao_indicador                                               \n",
              "Péssimo                      5005      7880   2757     9838   6943\n",
              "Ruim                         4473      6809   2545     8810   5602\n",
              "Regular                      3587      5701   3811    13454   5729\n",
              "Bom                          7378     11834   3058    11845   6865\n",
              "Ótimo                       11124     17343   5490    20656  11463"
            ],
            "text/html": [
              "\n",
              "  <div id=\"df-370412c0-2c16-4f8c-a7cd-d63e7d9efd67\" class=\"colab-df-container\">\n",
              "    <div>\n",
              "<style scoped>\n",
              "    .dataframe tbody tr th:only-of-type {\n",
              "        vertical-align: middle;\n",
              "    }\n",
              "\n",
              "    .dataframe tbody tr th {\n",
              "        vertical-align: top;\n",
              "    }\n",
              "\n",
              "    .dataframe thead th {\n",
              "        text-align: right;\n",
              "    }\n",
              "</style>\n",
              "<table border=\"1\" class=\"dataframe\">\n",
              "  <thead>\n",
              "    <tr style=\"text-align: right;\">\n",
              "      <th>regiao_cliente</th>\n",
              "      <th>Centro-Oeste</th>\n",
              "      <th>Nordeste</th>\n",
              "      <th>Norte</th>\n",
              "      <th>Sudeste</th>\n",
              "      <th>Sul</th>\n",
              "    </tr>\n",
              "    <tr>\n",
              "      <th>avaliacao_indicador</th>\n",
              "      <th></th>\n",
              "      <th></th>\n",
              "      <th></th>\n",
              "      <th></th>\n",
              "      <th></th>\n",
              "    </tr>\n",
              "  </thead>\n",
              "  <tbody>\n",
              "    <tr>\n",
              "      <th>Péssimo</th>\n",
              "      <td>5005</td>\n",
              "      <td>7880</td>\n",
              "      <td>2757</td>\n",
              "      <td>9838</td>\n",
              "      <td>6943</td>\n",
              "    </tr>\n",
              "    <tr>\n",
              "      <th>Ruim</th>\n",
              "      <td>4473</td>\n",
              "      <td>6809</td>\n",
              "      <td>2545</td>\n",
              "      <td>8810</td>\n",
              "      <td>5602</td>\n",
              "    </tr>\n",
              "    <tr>\n",
              "      <th>Regular</th>\n",
              "      <td>3587</td>\n",
              "      <td>5701</td>\n",
              "      <td>3811</td>\n",
              "      <td>13454</td>\n",
              "      <td>5729</td>\n",
              "    </tr>\n",
              "    <tr>\n",
              "      <th>Bom</th>\n",
              "      <td>7378</td>\n",
              "      <td>11834</td>\n",
              "      <td>3058</td>\n",
              "      <td>11845</td>\n",
              "      <td>6865</td>\n",
              "    </tr>\n",
              "    <tr>\n",
              "      <th>Ótimo</th>\n",
              "      <td>11124</td>\n",
              "      <td>17343</td>\n",
              "      <td>5490</td>\n",
              "      <td>20656</td>\n",
              "      <td>11463</td>\n",
              "    </tr>\n",
              "  </tbody>\n",
              "</table>\n",
              "</div>\n",
              "    <div class=\"colab-df-buttons\">\n",
              "\n",
              "  <div class=\"colab-df-container\">\n",
              "    <button class=\"colab-df-convert\" onclick=\"convertToInteractive('df-370412c0-2c16-4f8c-a7cd-d63e7d9efd67')\"\n",
              "            title=\"Convert this dataframe to an interactive table.\"\n",
              "            style=\"display:none;\">\n",
              "\n",
              "  <svg xmlns=\"http://www.w3.org/2000/svg\" height=\"24px\" viewBox=\"0 -960 960 960\">\n",
              "    <path d=\"M120-120v-720h720v720H120Zm60-500h600v-160H180v160Zm220 220h160v-160H400v160Zm0 220h160v-160H400v160ZM180-400h160v-160H180v160Zm440 0h160v-160H620v160ZM180-180h160v-160H180v160Zm440 0h160v-160H620v160Z\"/>\n",
              "  </svg>\n",
              "    </button>\n",
              "\n",
              "  <style>\n",
              "    .colab-df-container {\n",
              "      display:flex;\n",
              "      gap: 12px;\n",
              "    }\n",
              "\n",
              "    .colab-df-convert {\n",
              "      background-color: #E8F0FE;\n",
              "      border: none;\n",
              "      border-radius: 50%;\n",
              "      cursor: pointer;\n",
              "      display: none;\n",
              "      fill: #1967D2;\n",
              "      height: 32px;\n",
              "      padding: 0 0 0 0;\n",
              "      width: 32px;\n",
              "    }\n",
              "\n",
              "    .colab-df-convert:hover {\n",
              "      background-color: #E2EBFA;\n",
              "      box-shadow: 0px 1px 2px rgba(60, 64, 67, 0.3), 0px 1px 3px 1px rgba(60, 64, 67, 0.15);\n",
              "      fill: #174EA6;\n",
              "    }\n",
              "\n",
              "    .colab-df-buttons div {\n",
              "      margin-bottom: 4px;\n",
              "    }\n",
              "\n",
              "    [theme=dark] .colab-df-convert {\n",
              "      background-color: #3B4455;\n",
              "      fill: #D2E3FC;\n",
              "    }\n",
              "\n",
              "    [theme=dark] .colab-df-convert:hover {\n",
              "      background-color: #434B5C;\n",
              "      box-shadow: 0px 1px 3px 1px rgba(0, 0, 0, 0.15);\n",
              "      filter: drop-shadow(0px 1px 2px rgba(0, 0, 0, 0.3));\n",
              "      fill: #FFFFFF;\n",
              "    }\n",
              "  </style>\n",
              "\n",
              "    <script>\n",
              "      const buttonEl =\n",
              "        document.querySelector('#df-370412c0-2c16-4f8c-a7cd-d63e7d9efd67 button.colab-df-convert');\n",
              "      buttonEl.style.display =\n",
              "        google.colab.kernel.accessAllowed ? 'block' : 'none';\n",
              "\n",
              "      async function convertToInteractive(key) {\n",
              "        const element = document.querySelector('#df-370412c0-2c16-4f8c-a7cd-d63e7d9efd67');\n",
              "        const dataTable =\n",
              "          await google.colab.kernel.invokeFunction('convertToInteractive',\n",
              "                                                    [key], {});\n",
              "        if (!dataTable) return;\n",
              "\n",
              "        const docLinkHtml = 'Like what you see? Visit the ' +\n",
              "          '<a target=\"_blank\" href=https://colab.research.google.com/notebooks/data_table.ipynb>data table notebook</a>'\n",
              "          + ' to learn more about interactive tables.';\n",
              "        element.innerHTML = '';\n",
              "        dataTable['output_type'] = 'display_data';\n",
              "        await google.colab.output.renderOutput(dataTable, element);\n",
              "        const docLink = document.createElement('div');\n",
              "        docLink.innerHTML = docLinkHtml;\n",
              "        element.appendChild(docLink);\n",
              "      }\n",
              "    </script>\n",
              "  </div>\n",
              "\n",
              "\n",
              "    <div id=\"df-e7792566-58e9-4c0d-b2a4-7357c45dc5a0\">\n",
              "      <button class=\"colab-df-quickchart\" onclick=\"quickchart('df-e7792566-58e9-4c0d-b2a4-7357c45dc5a0')\"\n",
              "                title=\"Suggest charts\"\n",
              "                style=\"display:none;\">\n",
              "\n",
              "<svg xmlns=\"http://www.w3.org/2000/svg\" height=\"24px\"viewBox=\"0 0 24 24\"\n",
              "     width=\"24px\">\n",
              "    <g>\n",
              "        <path d=\"M19 3H5c-1.1 0-2 .9-2 2v14c0 1.1.9 2 2 2h14c1.1 0 2-.9 2-2V5c0-1.1-.9-2-2-2zM9 17H7v-7h2v7zm4 0h-2V7h2v10zm4 0h-2v-4h2v4z\"/>\n",
              "    </g>\n",
              "</svg>\n",
              "      </button>\n",
              "\n",
              "<style>\n",
              "  .colab-df-quickchart {\n",
              "      --bg-color: #E8F0FE;\n",
              "      --fill-color: #1967D2;\n",
              "      --hover-bg-color: #E2EBFA;\n",
              "      --hover-fill-color: #174EA6;\n",
              "      --disabled-fill-color: #AAA;\n",
              "      --disabled-bg-color: #DDD;\n",
              "  }\n",
              "\n",
              "  [theme=dark] .colab-df-quickchart {\n",
              "      --bg-color: #3B4455;\n",
              "      --fill-color: #D2E3FC;\n",
              "      --hover-bg-color: #434B5C;\n",
              "      --hover-fill-color: #FFFFFF;\n",
              "      --disabled-bg-color: #3B4455;\n",
              "      --disabled-fill-color: #666;\n",
              "  }\n",
              "\n",
              "  .colab-df-quickchart {\n",
              "    background-color: var(--bg-color);\n",
              "    border: none;\n",
              "    border-radius: 50%;\n",
              "    cursor: pointer;\n",
              "    display: none;\n",
              "    fill: var(--fill-color);\n",
              "    height: 32px;\n",
              "    padding: 0;\n",
              "    width: 32px;\n",
              "  }\n",
              "\n",
              "  .colab-df-quickchart:hover {\n",
              "    background-color: var(--hover-bg-color);\n",
              "    box-shadow: 0 1px 2px rgba(60, 64, 67, 0.3), 0 1px 3px 1px rgba(60, 64, 67, 0.15);\n",
              "    fill: var(--button-hover-fill-color);\n",
              "  }\n",
              "\n",
              "  .colab-df-quickchart-complete:disabled,\n",
              "  .colab-df-quickchart-complete:disabled:hover {\n",
              "    background-color: var(--disabled-bg-color);\n",
              "    fill: var(--disabled-fill-color);\n",
              "    box-shadow: none;\n",
              "  }\n",
              "\n",
              "  .colab-df-spinner {\n",
              "    border: 2px solid var(--fill-color);\n",
              "    border-color: transparent;\n",
              "    border-bottom-color: var(--fill-color);\n",
              "    animation:\n",
              "      spin 1s steps(1) infinite;\n",
              "  }\n",
              "\n",
              "  @keyframes spin {\n",
              "    0% {\n",
              "      border-color: transparent;\n",
              "      border-bottom-color: var(--fill-color);\n",
              "      border-left-color: var(--fill-color);\n",
              "    }\n",
              "    20% {\n",
              "      border-color: transparent;\n",
              "      border-left-color: var(--fill-color);\n",
              "      border-top-color: var(--fill-color);\n",
              "    }\n",
              "    30% {\n",
              "      border-color: transparent;\n",
              "      border-left-color: var(--fill-color);\n",
              "      border-top-color: var(--fill-color);\n",
              "      border-right-color: var(--fill-color);\n",
              "    }\n",
              "    40% {\n",
              "      border-color: transparent;\n",
              "      border-right-color: var(--fill-color);\n",
              "      border-top-color: var(--fill-color);\n",
              "    }\n",
              "    60% {\n",
              "      border-color: transparent;\n",
              "      border-right-color: var(--fill-color);\n",
              "    }\n",
              "    80% {\n",
              "      border-color: transparent;\n",
              "      border-right-color: var(--fill-color);\n",
              "      border-bottom-color: var(--fill-color);\n",
              "    }\n",
              "    90% {\n",
              "      border-color: transparent;\n",
              "      border-bottom-color: var(--fill-color);\n",
              "    }\n",
              "  }\n",
              "</style>\n",
              "\n",
              "      <script>\n",
              "        async function quickchart(key) {\n",
              "          const quickchartButtonEl =\n",
              "            document.querySelector('#' + key + ' button');\n",
              "          quickchartButtonEl.disabled = true;  // To prevent multiple clicks.\n",
              "          quickchartButtonEl.classList.add('colab-df-spinner');\n",
              "          try {\n",
              "            const charts = await google.colab.kernel.invokeFunction(\n",
              "                'suggestCharts', [key], {});\n",
              "          } catch (error) {\n",
              "            console.error('Error during call to suggestCharts:', error);\n",
              "          }\n",
              "          quickchartButtonEl.classList.remove('colab-df-spinner');\n",
              "          quickchartButtonEl.classList.add('colab-df-quickchart-complete');\n",
              "        }\n",
              "        (() => {\n",
              "          let quickchartButtonEl =\n",
              "            document.querySelector('#df-e7792566-58e9-4c0d-b2a4-7357c45dc5a0 button');\n",
              "          quickchartButtonEl.style.display =\n",
              "            google.colab.kernel.accessAllowed ? 'block' : 'none';\n",
              "        })();\n",
              "      </script>\n",
              "    </div>\n",
              "\n",
              "  <div id=\"id_d8e97376-e54b-4cc5-ab0b-15c0c15065c5\">\n",
              "    <style>\n",
              "      .colab-df-generate {\n",
              "        background-color: #E8F0FE;\n",
              "        border: none;\n",
              "        border-radius: 50%;\n",
              "        cursor: pointer;\n",
              "        display: none;\n",
              "        fill: #1967D2;\n",
              "        height: 32px;\n",
              "        padding: 0 0 0 0;\n",
              "        width: 32px;\n",
              "      }\n",
              "\n",
              "      .colab-df-generate:hover {\n",
              "        background-color: #E2EBFA;\n",
              "        box-shadow: 0px 1px 2px rgba(60, 64, 67, 0.3), 0px 1px 3px 1px rgba(60, 64, 67, 0.15);\n",
              "        fill: #174EA6;\n",
              "      }\n",
              "\n",
              "      [theme=dark] .colab-df-generate {\n",
              "        background-color: #3B4455;\n",
              "        fill: #D2E3FC;\n",
              "      }\n",
              "\n",
              "      [theme=dark] .colab-df-generate:hover {\n",
              "        background-color: #434B5C;\n",
              "        box-shadow: 0px 1px 3px 1px rgba(0, 0, 0, 0.15);\n",
              "        filter: drop-shadow(0px 1px 2px rgba(0, 0, 0, 0.3));\n",
              "        fill: #FFFFFF;\n",
              "      }\n",
              "    </style>\n",
              "    <button class=\"colab-df-generate\" onclick=\"generateWithVariable('tab_avaliacoes_regiao')\"\n",
              "            title=\"Generate code using this dataframe.\"\n",
              "            style=\"display:none;\">\n",
              "\n",
              "  <svg xmlns=\"http://www.w3.org/2000/svg\" height=\"24px\"viewBox=\"0 0 24 24\"\n",
              "       width=\"24px\">\n",
              "    <path d=\"M7,19H8.4L18.45,9,17,7.55,7,17.6ZM5,21V16.75L18.45,3.32a2,2,0,0,1,2.83,0l1.4,1.43a1.91,1.91,0,0,1,.58,1.4,1.91,1.91,0,0,1-.58,1.4L9.25,21ZM18.45,9,17,7.55Zm-12,3A5.31,5.31,0,0,0,4.9,8.1,5.31,5.31,0,0,0,1,6.5,5.31,5.31,0,0,0,4.9,4.9,5.31,5.31,0,0,0,6.5,1,5.31,5.31,0,0,0,8.1,4.9,5.31,5.31,0,0,0,12,6.5,5.46,5.46,0,0,0,6.5,12Z\"/>\n",
              "  </svg>\n",
              "    </button>\n",
              "    <script>\n",
              "      (() => {\n",
              "      const buttonEl =\n",
              "        document.querySelector('#id_d8e97376-e54b-4cc5-ab0b-15c0c15065c5 button.colab-df-generate');\n",
              "      buttonEl.style.display =\n",
              "        google.colab.kernel.accessAllowed ? 'block' : 'none';\n",
              "\n",
              "      buttonEl.onclick = () => {\n",
              "        google.colab.notebook.generateWithVariable('tab_avaliacoes_regiao');\n",
              "      }\n",
              "      })();\n",
              "    </script>\n",
              "  </div>\n",
              "\n",
              "    </div>\n",
              "  </div>\n"
            ],
            "application/vnd.google.colaboratory.intrinsic+json": {
              "type": "dataframe",
              "variable_name": "tab_avaliacoes_regiao",
              "summary": "{\n  \"name\": \"tab_avaliacoes_regiao\",\n  \"rows\": 5,\n  \"fields\": [\n    {\n      \"column\": \"avaliacao_indicador\",\n      \"properties\": {\n        \"dtype\": \"category\",\n        \"num_unique_values\": 5,\n        \"samples\": [\n          \"Ruim\",\n          \"\\u00d3timo\",\n          \"Regular\"\n        ],\n        \"semantic_type\": \"\",\n        \"description\": \"\"\n      }\n    },\n    {\n      \"column\": \"Centro-Oeste\",\n      \"properties\": {\n        \"dtype\": \"number\",\n        \"std\": 3033,\n        \"min\": 3587,\n        \"max\": 11124,\n        \"num_unique_values\": 5,\n        \"samples\": [\n          4473,\n          11124,\n          3587\n        ],\n        \"semantic_type\": \"\",\n        \"description\": \"\"\n      }\n    },\n    {\n      \"column\": \"Nordeste\",\n      \"properties\": {\n        \"dtype\": \"number\",\n        \"std\": 4754,\n        \"min\": 5701,\n        \"max\": 17343,\n        \"num_unique_values\": 5,\n        \"samples\": [\n          6809,\n          17343,\n          5701\n        ],\n        \"semantic_type\": \"\",\n        \"description\": \"\"\n      }\n    },\n    {\n      \"column\": \"Norte\",\n      \"properties\": {\n        \"dtype\": \"number\",\n        \"std\": 1194,\n        \"min\": 2545,\n        \"max\": 5490,\n        \"num_unique_values\": 5,\n        \"samples\": [\n          2545,\n          5490,\n          3811\n        ],\n        \"semantic_type\": \"\",\n        \"description\": \"\"\n      }\n    },\n    {\n      \"column\": \"Sudeste\",\n      \"properties\": {\n        \"dtype\": \"number\",\n        \"std\": 4681,\n        \"min\": 8810,\n        \"max\": 20656,\n        \"num_unique_values\": 5,\n        \"samples\": [\n          8810,\n          20656,\n          13454\n        ],\n        \"semantic_type\": \"\",\n        \"description\": \"\"\n      }\n    },\n    {\n      \"column\": \"Sul\",\n      \"properties\": {\n        \"dtype\": \"number\",\n        \"std\": 2397,\n        \"min\": 5602,\n        \"max\": 11463,\n        \"num_unique_values\": 5,\n        \"samples\": [\n          5602,\n          11463,\n          5729\n        ],\n        \"semantic_type\": \"\",\n        \"description\": \"\"\n      }\n    }\n  ]\n}"
            }
          },
          "metadata": {},
          "execution_count": 55
        }
      ]
    },
    {
      "cell_type": "markdown",
      "source": [
        "#### **Quais as vantagens de uma tabela de contigência**\n",
        "\n",
        "1. **Visualização das informações:** Organiza dados categóricos num formato compacto e legível, que podem ser transformadas em gráficos;\n",
        "\n",
        "2. **Análises rápidas:** correlaciona variáveis de forma rápida e visual auxiliando na tomada de decisões informadas e com agilidade;\n",
        "\n",
        "3. **Testes estatísticos:** Serve como base para realizar testes estatísticos a fim de avaliar a independência entre variáveis categóricas."
      ],
      "metadata": {
        "id": "4fxcIrt5w2cf"
      }
    },
    {
      "cell_type": "code",
      "source": [
        "tab_avaliacoes_regiao_relativa = pd.crosstab(df['avaliacao_indicador'], df['regiao_cliente'], normalize = 'columns') * 100\n",
        "\n",
        "tab_avaliacoes_regiao_relativa = round(tab_avaliacoes_regiao_relativa, 1)\n",
        "\n",
        "tab_avaliacoes_regiao_relativa"
      ],
      "metadata": {
        "id": "hTYX1DmhjNP4",
        "colab": {
          "base_uri": "https://localhost:8080/",
          "height": 237
        },
        "outputId": "5daf174b-bce0-4543-9fa6-32800badeed4"
      },
      "execution_count": null,
      "outputs": [
        {
          "output_type": "execute_result",
          "data": {
            "text/plain": [
              "regiao_cliente       Centro-Oeste  Nordeste  Norte  Sudeste   Sul\n",
              "avaliacao_indicador                                              \n",
              "Péssimo                      15.9      15.9   15.6     15.2  19.0\n",
              "Ruim                         14.2      13.7   14.4     13.6  15.3\n",
              "Regular                      11.4      11.5   21.6     20.8  15.7\n",
              "Bom                          23.4      23.9   17.3     18.3  18.8\n",
              "Ótimo                        35.2      35.0   31.1     32.0  31.3"
            ],
            "text/html": [
              "\n",
              "  <div id=\"df-0675ff11-b98a-4588-af87-ac3088e722b8\" class=\"colab-df-container\">\n",
              "    <div>\n",
              "<style scoped>\n",
              "    .dataframe tbody tr th:only-of-type {\n",
              "        vertical-align: middle;\n",
              "    }\n",
              "\n",
              "    .dataframe tbody tr th {\n",
              "        vertical-align: top;\n",
              "    }\n",
              "\n",
              "    .dataframe thead th {\n",
              "        text-align: right;\n",
              "    }\n",
              "</style>\n",
              "<table border=\"1\" class=\"dataframe\">\n",
              "  <thead>\n",
              "    <tr style=\"text-align: right;\">\n",
              "      <th>regiao_cliente</th>\n",
              "      <th>Centro-Oeste</th>\n",
              "      <th>Nordeste</th>\n",
              "      <th>Norte</th>\n",
              "      <th>Sudeste</th>\n",
              "      <th>Sul</th>\n",
              "    </tr>\n",
              "    <tr>\n",
              "      <th>avaliacao_indicador</th>\n",
              "      <th></th>\n",
              "      <th></th>\n",
              "      <th></th>\n",
              "      <th></th>\n",
              "      <th></th>\n",
              "    </tr>\n",
              "  </thead>\n",
              "  <tbody>\n",
              "    <tr>\n",
              "      <th>Péssimo</th>\n",
              "      <td>15.9</td>\n",
              "      <td>15.9</td>\n",
              "      <td>15.6</td>\n",
              "      <td>15.2</td>\n",
              "      <td>19.0</td>\n",
              "    </tr>\n",
              "    <tr>\n",
              "      <th>Ruim</th>\n",
              "      <td>14.2</td>\n",
              "      <td>13.7</td>\n",
              "      <td>14.4</td>\n",
              "      <td>13.6</td>\n",
              "      <td>15.3</td>\n",
              "    </tr>\n",
              "    <tr>\n",
              "      <th>Regular</th>\n",
              "      <td>11.4</td>\n",
              "      <td>11.5</td>\n",
              "      <td>21.6</td>\n",
              "      <td>20.8</td>\n",
              "      <td>15.7</td>\n",
              "    </tr>\n",
              "    <tr>\n",
              "      <th>Bom</th>\n",
              "      <td>23.4</td>\n",
              "      <td>23.9</td>\n",
              "      <td>17.3</td>\n",
              "      <td>18.3</td>\n",
              "      <td>18.8</td>\n",
              "    </tr>\n",
              "    <tr>\n",
              "      <th>Ótimo</th>\n",
              "      <td>35.2</td>\n",
              "      <td>35.0</td>\n",
              "      <td>31.1</td>\n",
              "      <td>32.0</td>\n",
              "      <td>31.3</td>\n",
              "    </tr>\n",
              "  </tbody>\n",
              "</table>\n",
              "</div>\n",
              "    <div class=\"colab-df-buttons\">\n",
              "\n",
              "  <div class=\"colab-df-container\">\n",
              "    <button class=\"colab-df-convert\" onclick=\"convertToInteractive('df-0675ff11-b98a-4588-af87-ac3088e722b8')\"\n",
              "            title=\"Convert this dataframe to an interactive table.\"\n",
              "            style=\"display:none;\">\n",
              "\n",
              "  <svg xmlns=\"http://www.w3.org/2000/svg\" height=\"24px\" viewBox=\"0 -960 960 960\">\n",
              "    <path d=\"M120-120v-720h720v720H120Zm60-500h600v-160H180v160Zm220 220h160v-160H400v160Zm0 220h160v-160H400v160ZM180-400h160v-160H180v160Zm440 0h160v-160H620v160ZM180-180h160v-160H180v160Zm440 0h160v-160H620v160Z\"/>\n",
              "  </svg>\n",
              "    </button>\n",
              "\n",
              "  <style>\n",
              "    .colab-df-container {\n",
              "      display:flex;\n",
              "      gap: 12px;\n",
              "    }\n",
              "\n",
              "    .colab-df-convert {\n",
              "      background-color: #E8F0FE;\n",
              "      border: none;\n",
              "      border-radius: 50%;\n",
              "      cursor: pointer;\n",
              "      display: none;\n",
              "      fill: #1967D2;\n",
              "      height: 32px;\n",
              "      padding: 0 0 0 0;\n",
              "      width: 32px;\n",
              "    }\n",
              "\n",
              "    .colab-df-convert:hover {\n",
              "      background-color: #E2EBFA;\n",
              "      box-shadow: 0px 1px 2px rgba(60, 64, 67, 0.3), 0px 1px 3px 1px rgba(60, 64, 67, 0.15);\n",
              "      fill: #174EA6;\n",
              "    }\n",
              "\n",
              "    .colab-df-buttons div {\n",
              "      margin-bottom: 4px;\n",
              "    }\n",
              "\n",
              "    [theme=dark] .colab-df-convert {\n",
              "      background-color: #3B4455;\n",
              "      fill: #D2E3FC;\n",
              "    }\n",
              "\n",
              "    [theme=dark] .colab-df-convert:hover {\n",
              "      background-color: #434B5C;\n",
              "      box-shadow: 0px 1px 3px 1px rgba(0, 0, 0, 0.15);\n",
              "      filter: drop-shadow(0px 1px 2px rgba(0, 0, 0, 0.3));\n",
              "      fill: #FFFFFF;\n",
              "    }\n",
              "  </style>\n",
              "\n",
              "    <script>\n",
              "      const buttonEl =\n",
              "        document.querySelector('#df-0675ff11-b98a-4588-af87-ac3088e722b8 button.colab-df-convert');\n",
              "      buttonEl.style.display =\n",
              "        google.colab.kernel.accessAllowed ? 'block' : 'none';\n",
              "\n",
              "      async function convertToInteractive(key) {\n",
              "        const element = document.querySelector('#df-0675ff11-b98a-4588-af87-ac3088e722b8');\n",
              "        const dataTable =\n",
              "          await google.colab.kernel.invokeFunction('convertToInteractive',\n",
              "                                                    [key], {});\n",
              "        if (!dataTable) return;\n",
              "\n",
              "        const docLinkHtml = 'Like what you see? Visit the ' +\n",
              "          '<a target=\"_blank\" href=https://colab.research.google.com/notebooks/data_table.ipynb>data table notebook</a>'\n",
              "          + ' to learn more about interactive tables.';\n",
              "        element.innerHTML = '';\n",
              "        dataTable['output_type'] = 'display_data';\n",
              "        await google.colab.output.renderOutput(dataTable, element);\n",
              "        const docLink = document.createElement('div');\n",
              "        docLink.innerHTML = docLinkHtml;\n",
              "        element.appendChild(docLink);\n",
              "      }\n",
              "    </script>\n",
              "  </div>\n",
              "\n",
              "\n",
              "    <div id=\"df-2a38f473-4cf6-40c7-9d48-2156d33064e1\">\n",
              "      <button class=\"colab-df-quickchart\" onclick=\"quickchart('df-2a38f473-4cf6-40c7-9d48-2156d33064e1')\"\n",
              "                title=\"Suggest charts\"\n",
              "                style=\"display:none;\">\n",
              "\n",
              "<svg xmlns=\"http://www.w3.org/2000/svg\" height=\"24px\"viewBox=\"0 0 24 24\"\n",
              "     width=\"24px\">\n",
              "    <g>\n",
              "        <path d=\"M19 3H5c-1.1 0-2 .9-2 2v14c0 1.1.9 2 2 2h14c1.1 0 2-.9 2-2V5c0-1.1-.9-2-2-2zM9 17H7v-7h2v7zm4 0h-2V7h2v10zm4 0h-2v-4h2v4z\"/>\n",
              "    </g>\n",
              "</svg>\n",
              "      </button>\n",
              "\n",
              "<style>\n",
              "  .colab-df-quickchart {\n",
              "      --bg-color: #E8F0FE;\n",
              "      --fill-color: #1967D2;\n",
              "      --hover-bg-color: #E2EBFA;\n",
              "      --hover-fill-color: #174EA6;\n",
              "      --disabled-fill-color: #AAA;\n",
              "      --disabled-bg-color: #DDD;\n",
              "  }\n",
              "\n",
              "  [theme=dark] .colab-df-quickchart {\n",
              "      --bg-color: #3B4455;\n",
              "      --fill-color: #D2E3FC;\n",
              "      --hover-bg-color: #434B5C;\n",
              "      --hover-fill-color: #FFFFFF;\n",
              "      --disabled-bg-color: #3B4455;\n",
              "      --disabled-fill-color: #666;\n",
              "  }\n",
              "\n",
              "  .colab-df-quickchart {\n",
              "    background-color: var(--bg-color);\n",
              "    border: none;\n",
              "    border-radius: 50%;\n",
              "    cursor: pointer;\n",
              "    display: none;\n",
              "    fill: var(--fill-color);\n",
              "    height: 32px;\n",
              "    padding: 0;\n",
              "    width: 32px;\n",
              "  }\n",
              "\n",
              "  .colab-df-quickchart:hover {\n",
              "    background-color: var(--hover-bg-color);\n",
              "    box-shadow: 0 1px 2px rgba(60, 64, 67, 0.3), 0 1px 3px 1px rgba(60, 64, 67, 0.15);\n",
              "    fill: var(--button-hover-fill-color);\n",
              "  }\n",
              "\n",
              "  .colab-df-quickchart-complete:disabled,\n",
              "  .colab-df-quickchart-complete:disabled:hover {\n",
              "    background-color: var(--disabled-bg-color);\n",
              "    fill: var(--disabled-fill-color);\n",
              "    box-shadow: none;\n",
              "  }\n",
              "\n",
              "  .colab-df-spinner {\n",
              "    border: 2px solid var(--fill-color);\n",
              "    border-color: transparent;\n",
              "    border-bottom-color: var(--fill-color);\n",
              "    animation:\n",
              "      spin 1s steps(1) infinite;\n",
              "  }\n",
              "\n",
              "  @keyframes spin {\n",
              "    0% {\n",
              "      border-color: transparent;\n",
              "      border-bottom-color: var(--fill-color);\n",
              "      border-left-color: var(--fill-color);\n",
              "    }\n",
              "    20% {\n",
              "      border-color: transparent;\n",
              "      border-left-color: var(--fill-color);\n",
              "      border-top-color: var(--fill-color);\n",
              "    }\n",
              "    30% {\n",
              "      border-color: transparent;\n",
              "      border-left-color: var(--fill-color);\n",
              "      border-top-color: var(--fill-color);\n",
              "      border-right-color: var(--fill-color);\n",
              "    }\n",
              "    40% {\n",
              "      border-color: transparent;\n",
              "      border-right-color: var(--fill-color);\n",
              "      border-top-color: var(--fill-color);\n",
              "    }\n",
              "    60% {\n",
              "      border-color: transparent;\n",
              "      border-right-color: var(--fill-color);\n",
              "    }\n",
              "    80% {\n",
              "      border-color: transparent;\n",
              "      border-right-color: var(--fill-color);\n",
              "      border-bottom-color: var(--fill-color);\n",
              "    }\n",
              "    90% {\n",
              "      border-color: transparent;\n",
              "      border-bottom-color: var(--fill-color);\n",
              "    }\n",
              "  }\n",
              "</style>\n",
              "\n",
              "      <script>\n",
              "        async function quickchart(key) {\n",
              "          const quickchartButtonEl =\n",
              "            document.querySelector('#' + key + ' button');\n",
              "          quickchartButtonEl.disabled = true;  // To prevent multiple clicks.\n",
              "          quickchartButtonEl.classList.add('colab-df-spinner');\n",
              "          try {\n",
              "            const charts = await google.colab.kernel.invokeFunction(\n",
              "                'suggestCharts', [key], {});\n",
              "          } catch (error) {\n",
              "            console.error('Error during call to suggestCharts:', error);\n",
              "          }\n",
              "          quickchartButtonEl.classList.remove('colab-df-spinner');\n",
              "          quickchartButtonEl.classList.add('colab-df-quickchart-complete');\n",
              "        }\n",
              "        (() => {\n",
              "          let quickchartButtonEl =\n",
              "            document.querySelector('#df-2a38f473-4cf6-40c7-9d48-2156d33064e1 button');\n",
              "          quickchartButtonEl.style.display =\n",
              "            google.colab.kernel.accessAllowed ? 'block' : 'none';\n",
              "        })();\n",
              "      </script>\n",
              "    </div>\n",
              "\n",
              "  <div id=\"id_23efcda9-3488-4110-aa66-dc48a8291e13\">\n",
              "    <style>\n",
              "      .colab-df-generate {\n",
              "        background-color: #E8F0FE;\n",
              "        border: none;\n",
              "        border-radius: 50%;\n",
              "        cursor: pointer;\n",
              "        display: none;\n",
              "        fill: #1967D2;\n",
              "        height: 32px;\n",
              "        padding: 0 0 0 0;\n",
              "        width: 32px;\n",
              "      }\n",
              "\n",
              "      .colab-df-generate:hover {\n",
              "        background-color: #E2EBFA;\n",
              "        box-shadow: 0px 1px 2px rgba(60, 64, 67, 0.3), 0px 1px 3px 1px rgba(60, 64, 67, 0.15);\n",
              "        fill: #174EA6;\n",
              "      }\n",
              "\n",
              "      [theme=dark] .colab-df-generate {\n",
              "        background-color: #3B4455;\n",
              "        fill: #D2E3FC;\n",
              "      }\n",
              "\n",
              "      [theme=dark] .colab-df-generate:hover {\n",
              "        background-color: #434B5C;\n",
              "        box-shadow: 0px 1px 3px 1px rgba(0, 0, 0, 0.15);\n",
              "        filter: drop-shadow(0px 1px 2px rgba(0, 0, 0, 0.3));\n",
              "        fill: #FFFFFF;\n",
              "      }\n",
              "    </style>\n",
              "    <button class=\"colab-df-generate\" onclick=\"generateWithVariable('tab_avaliacoes_regiao_relativa')\"\n",
              "            title=\"Generate code using this dataframe.\"\n",
              "            style=\"display:none;\">\n",
              "\n",
              "  <svg xmlns=\"http://www.w3.org/2000/svg\" height=\"24px\"viewBox=\"0 0 24 24\"\n",
              "       width=\"24px\">\n",
              "    <path d=\"M7,19H8.4L18.45,9,17,7.55,7,17.6ZM5,21V16.75L18.45,3.32a2,2,0,0,1,2.83,0l1.4,1.43a1.91,1.91,0,0,1,.58,1.4,1.91,1.91,0,0,1-.58,1.4L9.25,21ZM18.45,9,17,7.55Zm-12,3A5.31,5.31,0,0,0,4.9,8.1,5.31,5.31,0,0,0,1,6.5,5.31,5.31,0,0,0,4.9,4.9,5.31,5.31,0,0,0,6.5,1,5.31,5.31,0,0,0,8.1,4.9,5.31,5.31,0,0,0,12,6.5,5.46,5.46,0,0,0,6.5,12Z\"/>\n",
              "  </svg>\n",
              "    </button>\n",
              "    <script>\n",
              "      (() => {\n",
              "      const buttonEl =\n",
              "        document.querySelector('#id_23efcda9-3488-4110-aa66-dc48a8291e13 button.colab-df-generate');\n",
              "      buttonEl.style.display =\n",
              "        google.colab.kernel.accessAllowed ? 'block' : 'none';\n",
              "\n",
              "      buttonEl.onclick = () => {\n",
              "        google.colab.notebook.generateWithVariable('tab_avaliacoes_regiao_relativa');\n",
              "      }\n",
              "      })();\n",
              "    </script>\n",
              "  </div>\n",
              "\n",
              "    </div>\n",
              "  </div>\n"
            ],
            "application/vnd.google.colaboratory.intrinsic+json": {
              "type": "dataframe",
              "variable_name": "tab_avaliacoes_regiao_relativa",
              "summary": "{\n  \"name\": \"tab_avaliacoes_regiao_relativa\",\n  \"rows\": 5,\n  \"fields\": [\n    {\n      \"column\": \"avaliacao_indicador\",\n      \"properties\": {\n        \"dtype\": \"category\",\n        \"num_unique_values\": 5,\n        \"samples\": [\n          \"Ruim\",\n          \"\\u00d3timo\",\n          \"Regular\"\n        ],\n        \"semantic_type\": \"\",\n        \"description\": \"\"\n      }\n    },\n    {\n      \"column\": \"Centro-Oeste\",\n      \"properties\": {\n        \"dtype\": \"number\",\n        \"std\": 9.578726428915276,\n        \"min\": 11.4,\n        \"max\": 35.2,\n        \"num_unique_values\": 5,\n        \"samples\": [\n          14.2,\n          35.2,\n          11.4\n        ],\n        \"semantic_type\": \"\",\n        \"description\": \"\"\n      }\n    },\n    {\n      \"column\": \"Nordeste\",\n      \"properties\": {\n        \"dtype\": \"number\",\n        \"std\": 9.604165762834375,\n        \"min\": 11.5,\n        \"max\": 35.0,\n        \"num_unique_values\": 5,\n        \"samples\": [\n          13.7,\n          35.0,\n          11.5\n        ],\n        \"semantic_type\": \"\",\n        \"description\": \"\"\n      }\n    },\n    {\n      \"column\": \"Norte\",\n      \"properties\": {\n        \"dtype\": \"number\",\n        \"std\": 6.778274116617003,\n        \"min\": 14.4,\n        \"max\": 31.1,\n        \"num_unique_values\": 5,\n        \"samples\": [\n          14.4,\n          31.1,\n          21.6\n        ],\n        \"semantic_type\": \"\",\n        \"description\": \"\"\n      }\n    },\n    {\n      \"column\": \"Sudeste\",\n      \"properties\": {\n        \"dtype\": \"number\",\n        \"std\": 7.272001100109928,\n        \"min\": 13.6,\n        \"max\": 32.0,\n        \"num_unique_values\": 5,\n        \"samples\": [\n          13.6,\n          32.0,\n          20.8\n        ],\n        \"semantic_type\": \"\",\n        \"description\": \"\"\n      }\n    },\n    {\n      \"column\": \"Sul\",\n      \"properties\": {\n        \"dtype\": \"number\",\n        \"std\": 6.5327635805989495,\n        \"min\": 15.3,\n        \"max\": 31.3,\n        \"num_unique_values\": 5,\n        \"samples\": [\n          15.3,\n          31.3,\n          15.7\n        ],\n        \"semantic_type\": \"\",\n        \"description\": \"\"\n      }\n    }\n  ]\n}"
            }
          },
          "metadata": {},
          "execution_count": 56
        }
      ]
    },
    {
      "cell_type": "markdown",
      "source": [
        "#### ***Qual região tem mais avaliações positivas?***\n",
        "\n",
        "Considerando \"Ótimo\" e \"Bom\" as Regiões Centro-Oeste e Nordeste dividem o ranking de avaliações mais positivas com mais de 55% de satisfação com as compras"
      ],
      "metadata": {
        "id": "q_L4Hc--w-aU"
      }
    },
    {
      "cell_type": "code",
      "source": [
        "tab_avaliacoes_filtrada = tab_avaliacoes_regiao_relativa[tab_avaliacoes_regiao_relativa.index.isin(['Ótimo', 'Bom'])]\n",
        "\n",
        "resultado = tab_avaliacoes_filtrada.sum()\n",
        "resultado"
      ],
      "metadata": {
        "id": "bfzcuAVWjNsH",
        "colab": {
          "base_uri": "https://localhost:8080/",
          "height": 272
        },
        "outputId": "93889630-d656-4757-f11d-b393f7eb34f8"
      },
      "execution_count": null,
      "outputs": [
        {
          "output_type": "execute_result",
          "data": {
            "text/plain": [
              "regiao_cliente\n",
              "Centro-Oeste    58.6\n",
              "Nordeste        58.9\n",
              "Norte           48.4\n",
              "Sudeste         50.3\n",
              "Sul             50.1\n",
              "dtype: float64"
            ],
            "text/html": [
              "<div>\n",
              "<style scoped>\n",
              "    .dataframe tbody tr th:only-of-type {\n",
              "        vertical-align: middle;\n",
              "    }\n",
              "\n",
              "    .dataframe tbody tr th {\n",
              "        vertical-align: top;\n",
              "    }\n",
              "\n",
              "    .dataframe thead th {\n",
              "        text-align: right;\n",
              "    }\n",
              "</style>\n",
              "<table border=\"1\" class=\"dataframe\">\n",
              "  <thead>\n",
              "    <tr style=\"text-align: right;\">\n",
              "      <th></th>\n",
              "      <th>0</th>\n",
              "    </tr>\n",
              "    <tr>\n",
              "      <th>regiao_cliente</th>\n",
              "      <th></th>\n",
              "    </tr>\n",
              "  </thead>\n",
              "  <tbody>\n",
              "    <tr>\n",
              "      <th>Centro-Oeste</th>\n",
              "      <td>58.6</td>\n",
              "    </tr>\n",
              "    <tr>\n",
              "      <th>Nordeste</th>\n",
              "      <td>58.9</td>\n",
              "    </tr>\n",
              "    <tr>\n",
              "      <th>Norte</th>\n",
              "      <td>48.4</td>\n",
              "    </tr>\n",
              "    <tr>\n",
              "      <th>Sudeste</th>\n",
              "      <td>50.3</td>\n",
              "    </tr>\n",
              "    <tr>\n",
              "      <th>Sul</th>\n",
              "      <td>50.1</td>\n",
              "    </tr>\n",
              "  </tbody>\n",
              "</table>\n",
              "</div><br><label><b>dtype:</b> float64</label>"
            ]
          },
          "metadata": {},
          "execution_count": 57
        }
      ]
    },
    {
      "cell_type": "markdown",
      "source": [
        "#### ***Alguma região concentra a maior parte das avaliações negativas?***\n",
        "\n",
        "Analisando a tabela de valores absolutos conseguimos notar que a Região Sul tem a maior porcentagem de avaliações negativas (34.3%), sendo a única com quase 20% das notas no nível de satisfação \"Péssimo\"."
      ],
      "metadata": {
        "id": "2ZBErGC-xBrT"
      }
    },
    {
      "cell_type": "code",
      "source": [
        "tab_avaliacoes_filtrada = tab_avaliacoes_regiao_relativa[tab_avaliacoes_regiao_relativa.index.isin(['Ruim', 'Péssimo'])]\n",
        "\n",
        "resultado = tab_avaliacoes_filtrada.sum()\n",
        "\n",
        "resultado"
      ],
      "metadata": {
        "id": "pWoIWukojPSc",
        "colab": {
          "base_uri": "https://localhost:8080/",
          "height": 272
        },
        "outputId": "981e65d1-f71e-46a5-e277-9a9af70ea77f"
      },
      "execution_count": null,
      "outputs": [
        {
          "output_type": "execute_result",
          "data": {
            "text/plain": [
              "regiao_cliente\n",
              "Centro-Oeste    30.1\n",
              "Nordeste        29.6\n",
              "Norte           30.0\n",
              "Sudeste         28.8\n",
              "Sul             34.3\n",
              "dtype: float64"
            ],
            "text/html": [
              "<div>\n",
              "<style scoped>\n",
              "    .dataframe tbody tr th:only-of-type {\n",
              "        vertical-align: middle;\n",
              "    }\n",
              "\n",
              "    .dataframe tbody tr th {\n",
              "        vertical-align: top;\n",
              "    }\n",
              "\n",
              "    .dataframe thead th {\n",
              "        text-align: right;\n",
              "    }\n",
              "</style>\n",
              "<table border=\"1\" class=\"dataframe\">\n",
              "  <thead>\n",
              "    <tr style=\"text-align: right;\">\n",
              "      <th></th>\n",
              "      <th>0</th>\n",
              "    </tr>\n",
              "    <tr>\n",
              "      <th>regiao_cliente</th>\n",
              "      <th></th>\n",
              "    </tr>\n",
              "  </thead>\n",
              "  <tbody>\n",
              "    <tr>\n",
              "      <th>Centro-Oeste</th>\n",
              "      <td>30.1</td>\n",
              "    </tr>\n",
              "    <tr>\n",
              "      <th>Nordeste</th>\n",
              "      <td>29.6</td>\n",
              "    </tr>\n",
              "    <tr>\n",
              "      <th>Norte</th>\n",
              "      <td>30.0</td>\n",
              "    </tr>\n",
              "    <tr>\n",
              "      <th>Sudeste</th>\n",
              "      <td>28.8</td>\n",
              "    </tr>\n",
              "    <tr>\n",
              "      <th>Sul</th>\n",
              "      <td>34.3</td>\n",
              "    </tr>\n",
              "  </tbody>\n",
              "</table>\n",
              "</div><br><label><b>dtype:</b> float64</label>"
            ]
          },
          "metadata": {},
          "execution_count": 58
        }
      ]
    },
    {
      "cell_type": "markdown",
      "source": [
        "#### ***Existe alguma diferença relevante que indique a necessidade de ações específicas para uma região?***\n",
        "\n",
        "Sim! Como vimos anteriormente é necessário investigar a baixa avaliação na Região Sul comparada às outras regiões. Outro ponto de atenção está também nas Regiões Sudeste e Norte que concentram cada uma mais de 20% de notas \"Regular\".\n",
        "\n",
        "Seriam pontos interessantes de reportar as partes interessadas!"
      ],
      "metadata": {
        "id": "xzKZE1AuxEBG"
      }
    },
    {
      "cell_type": "markdown",
      "source": [
        "## **2.3 Cruzando os dados dos clientes**\n",
        "\n",
        "---\n"
      ],
      "metadata": {
        "id": "GNOLac1oMBot"
      }
    },
    {
      "cell_type": "markdown",
      "source": [
        "### <font color=\"#E23155\" face=\"Verdana\">Demanda 3: Perfil dos clientes</font>"
      ],
      "metadata": {
        "id": "x4GnMOdAMDaa"
      }
    },
    {
      "cell_type": "markdown",
      "source": [
        "A equipe de marketing e vendas da empresa trouxe mais uma demanda, desta vez, visando traçar o **perfil dos clientes** para melhorar suas campanhas publicitárias. Ela quer entender como o **ticket médio** varia entre o **sexo biológico** e a **região** onde a clientela reside. Com base nessa análise, será possível identificar oportunidades para segmentação de mercado e personalização de campanhas.\n",
        "\n",
        "Não existe ainda uma análise cruzada dessas informações, portanto, a equipe precisa de uma tabela ou visual que resuma o **ticket médio por sexo e região** para extrair insights sobre o comportamento de consumo."
      ],
      "metadata": {
        "id": "L-3eRgUzxb9q"
      }
    },
    {
      "cell_type": "markdown",
      "source": [
        "### <font color=\"#E23155\" face=\"Verdana\">Solução:</font>"
      ],
      "metadata": {
        "id": "2md7fHcQxeTX"
      }
    },
    {
      "cell_type": "markdown",
      "source": [
        "A gente já aprendeu a criar uma distribuição de frequência cruzando duas variáveis diferentes. Para este problema precisamos adicionar a estatística descritiva de uma variável quantitativa, no caso a média, dentro dessa nova tabela."
      ],
      "metadata": {
        "id": "Eq0sYi5DxhgF"
      }
    },
    {
      "cell_type": "markdown",
      "source": [
        "Temos o total de cada compra dentro do nosso dataset. Precisamos então calcular o ticket médio das pessoas por sexo e região para encontrar, por exemplo, a média de compras de uma pessoa do sexo masculino da região Sudeste ou uma pessoa do sexo feminino da região Norte. Bem interessante, não é?"
      ],
      "metadata": {
        "id": "S4XYUAUvxkHr"
      }
    },
    {
      "cell_type": "code",
      "source": [
        "ticket_medio = round(pd.crosstab(df['sexo_biologico'], df['regiao_cliente'], values=df['total_compra'], aggfunc='mean'), 2)\n",
        "\n",
        "ticket_medio"
      ],
      "metadata": {
        "id": "VOWDn8PtjoWx",
        "colab": {
          "base_uri": "https://localhost:8080/",
          "height": 143
        },
        "outputId": "d2cf97cb-e98e-4a21-edb2-5629387c165f"
      },
      "execution_count": null,
      "outputs": [
        {
          "output_type": "execute_result",
          "data": {
            "text/plain": [
              "regiao_cliente  Centro-Oeste  Nordeste    Norte  Sudeste      Sul\n",
              "sexo_biologico                                                   \n",
              "Feminino             1887.12   1861.09  1828.61  2160.82  2176.44\n",
              "Masculino            2025.24   2005.31  1830.54  1881.08  1871.38"
            ],
            "text/html": [
              "\n",
              "  <div id=\"df-46d95346-f39c-47be-b3b1-4e144280c29c\" class=\"colab-df-container\">\n",
              "    <div>\n",
              "<style scoped>\n",
              "    .dataframe tbody tr th:only-of-type {\n",
              "        vertical-align: middle;\n",
              "    }\n",
              "\n",
              "    .dataframe tbody tr th {\n",
              "        vertical-align: top;\n",
              "    }\n",
              "\n",
              "    .dataframe thead th {\n",
              "        text-align: right;\n",
              "    }\n",
              "</style>\n",
              "<table border=\"1\" class=\"dataframe\">\n",
              "  <thead>\n",
              "    <tr style=\"text-align: right;\">\n",
              "      <th>regiao_cliente</th>\n",
              "      <th>Centro-Oeste</th>\n",
              "      <th>Nordeste</th>\n",
              "      <th>Norte</th>\n",
              "      <th>Sudeste</th>\n",
              "      <th>Sul</th>\n",
              "    </tr>\n",
              "    <tr>\n",
              "      <th>sexo_biologico</th>\n",
              "      <th></th>\n",
              "      <th></th>\n",
              "      <th></th>\n",
              "      <th></th>\n",
              "      <th></th>\n",
              "    </tr>\n",
              "  </thead>\n",
              "  <tbody>\n",
              "    <tr>\n",
              "      <th>Feminino</th>\n",
              "      <td>1887.12</td>\n",
              "      <td>1861.09</td>\n",
              "      <td>1828.61</td>\n",
              "      <td>2160.82</td>\n",
              "      <td>2176.44</td>\n",
              "    </tr>\n",
              "    <tr>\n",
              "      <th>Masculino</th>\n",
              "      <td>2025.24</td>\n",
              "      <td>2005.31</td>\n",
              "      <td>1830.54</td>\n",
              "      <td>1881.08</td>\n",
              "      <td>1871.38</td>\n",
              "    </tr>\n",
              "  </tbody>\n",
              "</table>\n",
              "</div>\n",
              "    <div class=\"colab-df-buttons\">\n",
              "\n",
              "  <div class=\"colab-df-container\">\n",
              "    <button class=\"colab-df-convert\" onclick=\"convertToInteractive('df-46d95346-f39c-47be-b3b1-4e144280c29c')\"\n",
              "            title=\"Convert this dataframe to an interactive table.\"\n",
              "            style=\"display:none;\">\n",
              "\n",
              "  <svg xmlns=\"http://www.w3.org/2000/svg\" height=\"24px\" viewBox=\"0 -960 960 960\">\n",
              "    <path d=\"M120-120v-720h720v720H120Zm60-500h600v-160H180v160Zm220 220h160v-160H400v160Zm0 220h160v-160H400v160ZM180-400h160v-160H180v160Zm440 0h160v-160H620v160ZM180-180h160v-160H180v160Zm440 0h160v-160H620v160Z\"/>\n",
              "  </svg>\n",
              "    </button>\n",
              "\n",
              "  <style>\n",
              "    .colab-df-container {\n",
              "      display:flex;\n",
              "      gap: 12px;\n",
              "    }\n",
              "\n",
              "    .colab-df-convert {\n",
              "      background-color: #E8F0FE;\n",
              "      border: none;\n",
              "      border-radius: 50%;\n",
              "      cursor: pointer;\n",
              "      display: none;\n",
              "      fill: #1967D2;\n",
              "      height: 32px;\n",
              "      padding: 0 0 0 0;\n",
              "      width: 32px;\n",
              "    }\n",
              "\n",
              "    .colab-df-convert:hover {\n",
              "      background-color: #E2EBFA;\n",
              "      box-shadow: 0px 1px 2px rgba(60, 64, 67, 0.3), 0px 1px 3px 1px rgba(60, 64, 67, 0.15);\n",
              "      fill: #174EA6;\n",
              "    }\n",
              "\n",
              "    .colab-df-buttons div {\n",
              "      margin-bottom: 4px;\n",
              "    }\n",
              "\n",
              "    [theme=dark] .colab-df-convert {\n",
              "      background-color: #3B4455;\n",
              "      fill: #D2E3FC;\n",
              "    }\n",
              "\n",
              "    [theme=dark] .colab-df-convert:hover {\n",
              "      background-color: #434B5C;\n",
              "      box-shadow: 0px 1px 3px 1px rgba(0, 0, 0, 0.15);\n",
              "      filter: drop-shadow(0px 1px 2px rgba(0, 0, 0, 0.3));\n",
              "      fill: #FFFFFF;\n",
              "    }\n",
              "  </style>\n",
              "\n",
              "    <script>\n",
              "      const buttonEl =\n",
              "        document.querySelector('#df-46d95346-f39c-47be-b3b1-4e144280c29c button.colab-df-convert');\n",
              "      buttonEl.style.display =\n",
              "        google.colab.kernel.accessAllowed ? 'block' : 'none';\n",
              "\n",
              "      async function convertToInteractive(key) {\n",
              "        const element = document.querySelector('#df-46d95346-f39c-47be-b3b1-4e144280c29c');\n",
              "        const dataTable =\n",
              "          await google.colab.kernel.invokeFunction('convertToInteractive',\n",
              "                                                    [key], {});\n",
              "        if (!dataTable) return;\n",
              "\n",
              "        const docLinkHtml = 'Like what you see? Visit the ' +\n",
              "          '<a target=\"_blank\" href=https://colab.research.google.com/notebooks/data_table.ipynb>data table notebook</a>'\n",
              "          + ' to learn more about interactive tables.';\n",
              "        element.innerHTML = '';\n",
              "        dataTable['output_type'] = 'display_data';\n",
              "        await google.colab.output.renderOutput(dataTable, element);\n",
              "        const docLink = document.createElement('div');\n",
              "        docLink.innerHTML = docLinkHtml;\n",
              "        element.appendChild(docLink);\n",
              "      }\n",
              "    </script>\n",
              "  </div>\n",
              "\n",
              "\n",
              "    <div id=\"df-e2de2347-5976-4be9-8b1e-55cab827d711\">\n",
              "      <button class=\"colab-df-quickchart\" onclick=\"quickchart('df-e2de2347-5976-4be9-8b1e-55cab827d711')\"\n",
              "                title=\"Suggest charts\"\n",
              "                style=\"display:none;\">\n",
              "\n",
              "<svg xmlns=\"http://www.w3.org/2000/svg\" height=\"24px\"viewBox=\"0 0 24 24\"\n",
              "     width=\"24px\">\n",
              "    <g>\n",
              "        <path d=\"M19 3H5c-1.1 0-2 .9-2 2v14c0 1.1.9 2 2 2h14c1.1 0 2-.9 2-2V5c0-1.1-.9-2-2-2zM9 17H7v-7h2v7zm4 0h-2V7h2v10zm4 0h-2v-4h2v4z\"/>\n",
              "    </g>\n",
              "</svg>\n",
              "      </button>\n",
              "\n",
              "<style>\n",
              "  .colab-df-quickchart {\n",
              "      --bg-color: #E8F0FE;\n",
              "      --fill-color: #1967D2;\n",
              "      --hover-bg-color: #E2EBFA;\n",
              "      --hover-fill-color: #174EA6;\n",
              "      --disabled-fill-color: #AAA;\n",
              "      --disabled-bg-color: #DDD;\n",
              "  }\n",
              "\n",
              "  [theme=dark] .colab-df-quickchart {\n",
              "      --bg-color: #3B4455;\n",
              "      --fill-color: #D2E3FC;\n",
              "      --hover-bg-color: #434B5C;\n",
              "      --hover-fill-color: #FFFFFF;\n",
              "      --disabled-bg-color: #3B4455;\n",
              "      --disabled-fill-color: #666;\n",
              "  }\n",
              "\n",
              "  .colab-df-quickchart {\n",
              "    background-color: var(--bg-color);\n",
              "    border: none;\n",
              "    border-radius: 50%;\n",
              "    cursor: pointer;\n",
              "    display: none;\n",
              "    fill: var(--fill-color);\n",
              "    height: 32px;\n",
              "    padding: 0;\n",
              "    width: 32px;\n",
              "  }\n",
              "\n",
              "  .colab-df-quickchart:hover {\n",
              "    background-color: var(--hover-bg-color);\n",
              "    box-shadow: 0 1px 2px rgba(60, 64, 67, 0.3), 0 1px 3px 1px rgba(60, 64, 67, 0.15);\n",
              "    fill: var(--button-hover-fill-color);\n",
              "  }\n",
              "\n",
              "  .colab-df-quickchart-complete:disabled,\n",
              "  .colab-df-quickchart-complete:disabled:hover {\n",
              "    background-color: var(--disabled-bg-color);\n",
              "    fill: var(--disabled-fill-color);\n",
              "    box-shadow: none;\n",
              "  }\n",
              "\n",
              "  .colab-df-spinner {\n",
              "    border: 2px solid var(--fill-color);\n",
              "    border-color: transparent;\n",
              "    border-bottom-color: var(--fill-color);\n",
              "    animation:\n",
              "      spin 1s steps(1) infinite;\n",
              "  }\n",
              "\n",
              "  @keyframes spin {\n",
              "    0% {\n",
              "      border-color: transparent;\n",
              "      border-bottom-color: var(--fill-color);\n",
              "      border-left-color: var(--fill-color);\n",
              "    }\n",
              "    20% {\n",
              "      border-color: transparent;\n",
              "      border-left-color: var(--fill-color);\n",
              "      border-top-color: var(--fill-color);\n",
              "    }\n",
              "    30% {\n",
              "      border-color: transparent;\n",
              "      border-left-color: var(--fill-color);\n",
              "      border-top-color: var(--fill-color);\n",
              "      border-right-color: var(--fill-color);\n",
              "    }\n",
              "    40% {\n",
              "      border-color: transparent;\n",
              "      border-right-color: var(--fill-color);\n",
              "      border-top-color: var(--fill-color);\n",
              "    }\n",
              "    60% {\n",
              "      border-color: transparent;\n",
              "      border-right-color: var(--fill-color);\n",
              "    }\n",
              "    80% {\n",
              "      border-color: transparent;\n",
              "      border-right-color: var(--fill-color);\n",
              "      border-bottom-color: var(--fill-color);\n",
              "    }\n",
              "    90% {\n",
              "      border-color: transparent;\n",
              "      border-bottom-color: var(--fill-color);\n",
              "    }\n",
              "  }\n",
              "</style>\n",
              "\n",
              "      <script>\n",
              "        async function quickchart(key) {\n",
              "          const quickchartButtonEl =\n",
              "            document.querySelector('#' + key + ' button');\n",
              "          quickchartButtonEl.disabled = true;  // To prevent multiple clicks.\n",
              "          quickchartButtonEl.classList.add('colab-df-spinner');\n",
              "          try {\n",
              "            const charts = await google.colab.kernel.invokeFunction(\n",
              "                'suggestCharts', [key], {});\n",
              "          } catch (error) {\n",
              "            console.error('Error during call to suggestCharts:', error);\n",
              "          }\n",
              "          quickchartButtonEl.classList.remove('colab-df-spinner');\n",
              "          quickchartButtonEl.classList.add('colab-df-quickchart-complete');\n",
              "        }\n",
              "        (() => {\n",
              "          let quickchartButtonEl =\n",
              "            document.querySelector('#df-e2de2347-5976-4be9-8b1e-55cab827d711 button');\n",
              "          quickchartButtonEl.style.display =\n",
              "            google.colab.kernel.accessAllowed ? 'block' : 'none';\n",
              "        })();\n",
              "      </script>\n",
              "    </div>\n",
              "\n",
              "  <div id=\"id_debfb97c-8ae2-4673-b930-0ff71b3b0a61\">\n",
              "    <style>\n",
              "      .colab-df-generate {\n",
              "        background-color: #E8F0FE;\n",
              "        border: none;\n",
              "        border-radius: 50%;\n",
              "        cursor: pointer;\n",
              "        display: none;\n",
              "        fill: #1967D2;\n",
              "        height: 32px;\n",
              "        padding: 0 0 0 0;\n",
              "        width: 32px;\n",
              "      }\n",
              "\n",
              "      .colab-df-generate:hover {\n",
              "        background-color: #E2EBFA;\n",
              "        box-shadow: 0px 1px 2px rgba(60, 64, 67, 0.3), 0px 1px 3px 1px rgba(60, 64, 67, 0.15);\n",
              "        fill: #174EA6;\n",
              "      }\n",
              "\n",
              "      [theme=dark] .colab-df-generate {\n",
              "        background-color: #3B4455;\n",
              "        fill: #D2E3FC;\n",
              "      }\n",
              "\n",
              "      [theme=dark] .colab-df-generate:hover {\n",
              "        background-color: #434B5C;\n",
              "        box-shadow: 0px 1px 3px 1px rgba(0, 0, 0, 0.15);\n",
              "        filter: drop-shadow(0px 1px 2px rgba(0, 0, 0, 0.3));\n",
              "        fill: #FFFFFF;\n",
              "      }\n",
              "    </style>\n",
              "    <button class=\"colab-df-generate\" onclick=\"generateWithVariable('ticket_medio')\"\n",
              "            title=\"Generate code using this dataframe.\"\n",
              "            style=\"display:none;\">\n",
              "\n",
              "  <svg xmlns=\"http://www.w3.org/2000/svg\" height=\"24px\"viewBox=\"0 0 24 24\"\n",
              "       width=\"24px\">\n",
              "    <path d=\"M7,19H8.4L18.45,9,17,7.55,7,17.6ZM5,21V16.75L18.45,3.32a2,2,0,0,1,2.83,0l1.4,1.43a1.91,1.91,0,0,1,.58,1.4,1.91,1.91,0,0,1-.58,1.4L9.25,21ZM18.45,9,17,7.55Zm-12,3A5.31,5.31,0,0,0,4.9,8.1,5.31,5.31,0,0,0,1,6.5,5.31,5.31,0,0,0,4.9,4.9,5.31,5.31,0,0,0,6.5,1,5.31,5.31,0,0,0,8.1,4.9,5.31,5.31,0,0,0,12,6.5,5.46,5.46,0,0,0,6.5,12Z\"/>\n",
              "  </svg>\n",
              "    </button>\n",
              "    <script>\n",
              "      (() => {\n",
              "      const buttonEl =\n",
              "        document.querySelector('#id_debfb97c-8ae2-4673-b930-0ff71b3b0a61 button.colab-df-generate');\n",
              "      buttonEl.style.display =\n",
              "        google.colab.kernel.accessAllowed ? 'block' : 'none';\n",
              "\n",
              "      buttonEl.onclick = () => {\n",
              "        google.colab.notebook.generateWithVariable('ticket_medio');\n",
              "      }\n",
              "      })();\n",
              "    </script>\n",
              "  </div>\n",
              "\n",
              "    </div>\n",
              "  </div>\n"
            ],
            "application/vnd.google.colaboratory.intrinsic+json": {
              "type": "dataframe",
              "variable_name": "ticket_medio",
              "summary": "{\n  \"name\": \"ticket_medio\",\n  \"rows\": 2,\n  \"fields\": [\n    {\n      \"column\": \"sexo_biologico\",\n      \"properties\": {\n        \"dtype\": \"string\",\n        \"num_unique_values\": 2,\n        \"samples\": [\n          \"Masculino\",\n          \"Feminino\"\n        ],\n        \"semantic_type\": \"\",\n        \"description\": \"\"\n      }\n    },\n    {\n      \"column\": \"Centro-Oeste\",\n      \"properties\": {\n        \"dtype\": \"number\",\n        \"std\": 97.66558861748602,\n        \"min\": 1887.12,\n        \"max\": 2025.24,\n        \"num_unique_values\": 2,\n        \"samples\": [\n          2025.24,\n          1887.12\n        ],\n        \"semantic_type\": \"\",\n        \"description\": \"\"\n      }\n    },\n    {\n      \"column\": \"Nordeste\",\n      \"properties\": {\n        \"dtype\": \"number\",\n        \"std\": 101.9789399827239,\n        \"min\": 1861.09,\n        \"max\": 2005.31,\n        \"num_unique_values\": 2,\n        \"samples\": [\n          2005.31,\n          1861.09\n        ],\n        \"semantic_type\": \"\",\n        \"description\": \"\"\n      }\n    },\n    {\n      \"column\": \"Norte\",\n      \"properties\": {\n        \"dtype\": \"number\",\n        \"std\": 1.3647160876900817,\n        \"min\": 1828.61,\n        \"max\": 1830.54,\n        \"num_unique_values\": 2,\n        \"samples\": [\n          1830.54,\n          1828.61\n        ],\n        \"semantic_type\": \"\",\n        \"description\": \"\"\n      }\n    },\n    {\n      \"column\": \"Sudeste\",\n      \"properties\": {\n        \"dtype\": \"number\",\n        \"std\": 197.80605096912498,\n        \"min\": 1881.08,\n        \"max\": 2160.82,\n        \"num_unique_values\": 2,\n        \"samples\": [\n          1881.08,\n          2160.82\n        ],\n        \"semantic_type\": \"\",\n        \"description\": \"\"\n      }\n    },\n    {\n      \"column\": \"Sul\",\n      \"properties\": {\n        \"dtype\": \"number\",\n        \"std\": 215.70999466876816,\n        \"min\": 1871.38,\n        \"max\": 2176.44,\n        \"num_unique_values\": 2,\n        \"samples\": [\n          1871.38,\n          2176.44\n        ],\n        \"semantic_type\": \"\",\n        \"description\": \"\"\n      }\n    }\n  ]\n}"
            }
          },
          "metadata": {},
          "execution_count": 60
        }
      ]
    },
    {
      "cell_type": "markdown",
      "source": [
        "Observando a matriz, percebemos que as pessoas de sexo biológico masculino possuem um ticket médio acima do feminino nas regiões Centro-Oeste e Nordeste, com uma diferença próxima de **R\\$150,00**. Em contrapartida, as pessoas de sexo biológico feminino gastam mais do que o masculino nas regiões Sul e Sudeste, com uma diferença por volta de **R\\$300,00** reais.\n",
        "\n",
        "A análise de ticket médio aqui nos ajudou a entender o comportamento de consumo de diferentes segmentos de clientes."
      ],
      "metadata": {
        "id": "q6C0M73FxoIR"
      }
    },
    {
      "cell_type": "markdown",
      "source": [
        "# **3. Analisando a tendência dos dados**\n",
        "\n",
        "---\n"
      ],
      "metadata": {
        "id": "V6iS-yqwDwQm"
      }
    },
    {
      "cell_type": "markdown",
      "source": [
        "## **3.1 Calculando a média de uma variável**\n",
        "\n",
        "---\n"
      ],
      "metadata": {
        "id": "Y3nmdRYXPJgZ"
      }
    },
    {
      "cell_type": "markdown",
      "source": [
        "### <font color=\"#E23155\" face=\"Verdana\">Demanda 4: Tempo de entrega por tipo de produto</font>"
      ],
      "metadata": {
        "id": "eQxC56cwPLm8"
      }
    },
    {
      "cell_type": "markdown",
      "source": [
        "A equipe de marketing e vendas está buscando formas de melhorar a experiência do cliente, e percebeu que o **tempo de entrega** é um fator crítico para aumentar a satisfação.\n",
        "\n",
        "Por exemplo, produtos de categorias diferentes, como eletrônicos e roupas, podem ter tempos de entrega distintos devido a fatores como peso, localização dos fornecedores e demanda.\n",
        "\n",
        "Por isso, precisamos calcular o **tempo médio de entrega para cada categoria de produto** com base nos dados históricos, visando fornecer estimativas mais precisas no site e permitir ajustes na logística."
      ],
      "metadata": {
        "id": "YtGCCinfPMJ_"
      }
    },
    {
      "cell_type": "markdown",
      "source": [
        "### **Medidas de Tendência Central**\n",
        "\n",
        "As **medidas de tendência central** são ferramentas estatísticas que ajudam a descrever as características dos dados resumindo-os em um único valor. Essas medidas (média, mediana e moda) são utilizadas em diversas análises e técnicas visando extrair informações dos dados.\n",
        "\n",
        "### **Média aritmética ($\\mu$)**\n",
        "\n",
        "A **média aritmética**  é uma das mais conhecidas medidas de resumo. Ela é a soma de todos os valores divididos pelo número de observações. Representa um ponto central dos dados, ou seja, um ponto de equilíbrio.\n",
        "\n",
        "\n",
        "# $$\\mu = \\frac 1n\\sum_{i=1}^{n}X_i = \\frac{X_1 + X_2 + ... + X_n}{n}$$\n",
        "\n",
        "Onde:\n",
        "\n",
        "$n$ = número de observações (registros)\n",
        "\n",
        "$X_i$ = valor da i-ésima observação (registro)"
      ],
      "metadata": {
        "id": "fqVLiEFNPOLr"
      }
    },
    {
      "cell_type": "markdown",
      "source": [
        "### <font color=\"#E23155\" face=\"Verdana\">Solução:</font>"
      ],
      "metadata": {
        "id": "zUPF3EKovM-H"
      }
    },
    {
      "cell_type": "code",
      "source": [
        "df.tempo_entrega.mean()"
      ],
      "metadata": {
        "id": "usZVyOnDjspA",
        "colab": {
          "base_uri": "https://localhost:8080/"
        },
        "outputId": "73f3300e-19aa-46b4-fd80-9f5fbe4e07be"
      },
      "execution_count": null,
      "outputs": [
        {
          "output_type": "execute_result",
          "data": {
            "text/plain": [
              "np.float64(10.043535)"
            ]
          },
          "metadata": {},
          "execution_count": 61
        }
      ]
    },
    {
      "cell_type": "code",
      "source": [
        "media_entrega = df.tempo_entrega.mean()\n",
        "media_entrega"
      ],
      "metadata": {
        "id": "3psl3zMmjsi5",
        "colab": {
          "base_uri": "https://localhost:8080/"
        },
        "outputId": "95380c43-f472-4c29-844c-0bac557e6cb1"
      },
      "execution_count": null,
      "outputs": [
        {
          "output_type": "execute_result",
          "data": {
            "text/plain": [
              "np.float64(10.043535)"
            ]
          },
          "metadata": {},
          "execution_count": 62
        }
      ]
    },
    {
      "cell_type": "markdown",
      "source": [
        "#### ***A média é sempre a melhor forma de resumir os dados***\n",
        "\n",
        "A resposta é **não**! Por ser um ponto de equilíbrio, em algumas análises ela pode não ser a forma mais correta de indicar a tendência central.\n",
        "\n",
        "Isto porque ela é muito influenciada pelos extremos da distribuição. Entretanto, com outras informações aliadas à média podemos tirar boas conclusões e investigar se precisamos ou não de algum tratamento e/ou transformação do dado."
      ],
      "metadata": {
        "id": "U6m4kbzAvVFR"
      }
    },
    {
      "cell_type": "code",
      "source": [
        "media_entrega_cat = df.groupby('categoria_produto')['tempo_entrega'].mean().reset_index().round(1)\n",
        "media_entrega_cat"
      ],
      "metadata": {
        "id": "kXRQXvX7jvCM",
        "colab": {
          "base_uri": "https://localhost:8080/",
          "height": 363
        },
        "outputId": "0bc5d586-fec3-409a-985b-db45fce74476"
      },
      "execution_count": null,
      "outputs": [
        {
          "output_type": "execute_result",
          "data": {
            "text/plain": [
              "               categoria_produto  tempo_entrega\n",
              "0            Alimentos e Bebidas            7.7\n",
              "1     Beleza e Cuidados Pessoais            8.9\n",
              "2                     Brinquedos           10.1\n",
              "3                Casa e Mobílias           14.4\n",
              "4                    Eletrônicos            7.2\n",
              "5                Esporte e Lazer           10.7\n",
              "6       Ferramentas e Construção           13.6\n",
              "7                         Livros            9.5\n",
              "8         Papelaria e Escritório           12.0\n",
              "9  Roupas, Calçados e Acessórios            9.2"
            ],
            "text/html": [
              "\n",
              "  <div id=\"df-82dd5fb9-0fb4-4624-8bfa-7d6130d0d2aa\" class=\"colab-df-container\">\n",
              "    <div>\n",
              "<style scoped>\n",
              "    .dataframe tbody tr th:only-of-type {\n",
              "        vertical-align: middle;\n",
              "    }\n",
              "\n",
              "    .dataframe tbody tr th {\n",
              "        vertical-align: top;\n",
              "    }\n",
              "\n",
              "    .dataframe thead th {\n",
              "        text-align: right;\n",
              "    }\n",
              "</style>\n",
              "<table border=\"1\" class=\"dataframe\">\n",
              "  <thead>\n",
              "    <tr style=\"text-align: right;\">\n",
              "      <th></th>\n",
              "      <th>categoria_produto</th>\n",
              "      <th>tempo_entrega</th>\n",
              "    </tr>\n",
              "  </thead>\n",
              "  <tbody>\n",
              "    <tr>\n",
              "      <th>0</th>\n",
              "      <td>Alimentos e Bebidas</td>\n",
              "      <td>7.7</td>\n",
              "    </tr>\n",
              "    <tr>\n",
              "      <th>1</th>\n",
              "      <td>Beleza e Cuidados Pessoais</td>\n",
              "      <td>8.9</td>\n",
              "    </tr>\n",
              "    <tr>\n",
              "      <th>2</th>\n",
              "      <td>Brinquedos</td>\n",
              "      <td>10.1</td>\n",
              "    </tr>\n",
              "    <tr>\n",
              "      <th>3</th>\n",
              "      <td>Casa e Mobílias</td>\n",
              "      <td>14.4</td>\n",
              "    </tr>\n",
              "    <tr>\n",
              "      <th>4</th>\n",
              "      <td>Eletrônicos</td>\n",
              "      <td>7.2</td>\n",
              "    </tr>\n",
              "    <tr>\n",
              "      <th>5</th>\n",
              "      <td>Esporte e Lazer</td>\n",
              "      <td>10.7</td>\n",
              "    </tr>\n",
              "    <tr>\n",
              "      <th>6</th>\n",
              "      <td>Ferramentas e Construção</td>\n",
              "      <td>13.6</td>\n",
              "    </tr>\n",
              "    <tr>\n",
              "      <th>7</th>\n",
              "      <td>Livros</td>\n",
              "      <td>9.5</td>\n",
              "    </tr>\n",
              "    <tr>\n",
              "      <th>8</th>\n",
              "      <td>Papelaria e Escritório</td>\n",
              "      <td>12.0</td>\n",
              "    </tr>\n",
              "    <tr>\n",
              "      <th>9</th>\n",
              "      <td>Roupas, Calçados e Acessórios</td>\n",
              "      <td>9.2</td>\n",
              "    </tr>\n",
              "  </tbody>\n",
              "</table>\n",
              "</div>\n",
              "    <div class=\"colab-df-buttons\">\n",
              "\n",
              "  <div class=\"colab-df-container\">\n",
              "    <button class=\"colab-df-convert\" onclick=\"convertToInteractive('df-82dd5fb9-0fb4-4624-8bfa-7d6130d0d2aa')\"\n",
              "            title=\"Convert this dataframe to an interactive table.\"\n",
              "            style=\"display:none;\">\n",
              "\n",
              "  <svg xmlns=\"http://www.w3.org/2000/svg\" height=\"24px\" viewBox=\"0 -960 960 960\">\n",
              "    <path d=\"M120-120v-720h720v720H120Zm60-500h600v-160H180v160Zm220 220h160v-160H400v160Zm0 220h160v-160H400v160ZM180-400h160v-160H180v160Zm440 0h160v-160H620v160ZM180-180h160v-160H180v160Zm440 0h160v-160H620v160Z\"/>\n",
              "  </svg>\n",
              "    </button>\n",
              "\n",
              "  <style>\n",
              "    .colab-df-container {\n",
              "      display:flex;\n",
              "      gap: 12px;\n",
              "    }\n",
              "\n",
              "    .colab-df-convert {\n",
              "      background-color: #E8F0FE;\n",
              "      border: none;\n",
              "      border-radius: 50%;\n",
              "      cursor: pointer;\n",
              "      display: none;\n",
              "      fill: #1967D2;\n",
              "      height: 32px;\n",
              "      padding: 0 0 0 0;\n",
              "      width: 32px;\n",
              "    }\n",
              "\n",
              "    .colab-df-convert:hover {\n",
              "      background-color: #E2EBFA;\n",
              "      box-shadow: 0px 1px 2px rgba(60, 64, 67, 0.3), 0px 1px 3px 1px rgba(60, 64, 67, 0.15);\n",
              "      fill: #174EA6;\n",
              "    }\n",
              "\n",
              "    .colab-df-buttons div {\n",
              "      margin-bottom: 4px;\n",
              "    }\n",
              "\n",
              "    [theme=dark] .colab-df-convert {\n",
              "      background-color: #3B4455;\n",
              "      fill: #D2E3FC;\n",
              "    }\n",
              "\n",
              "    [theme=dark] .colab-df-convert:hover {\n",
              "      background-color: #434B5C;\n",
              "      box-shadow: 0px 1px 3px 1px rgba(0, 0, 0, 0.15);\n",
              "      filter: drop-shadow(0px 1px 2px rgba(0, 0, 0, 0.3));\n",
              "      fill: #FFFFFF;\n",
              "    }\n",
              "  </style>\n",
              "\n",
              "    <script>\n",
              "      const buttonEl =\n",
              "        document.querySelector('#df-82dd5fb9-0fb4-4624-8bfa-7d6130d0d2aa button.colab-df-convert');\n",
              "      buttonEl.style.display =\n",
              "        google.colab.kernel.accessAllowed ? 'block' : 'none';\n",
              "\n",
              "      async function convertToInteractive(key) {\n",
              "        const element = document.querySelector('#df-82dd5fb9-0fb4-4624-8bfa-7d6130d0d2aa');\n",
              "        const dataTable =\n",
              "          await google.colab.kernel.invokeFunction('convertToInteractive',\n",
              "                                                    [key], {});\n",
              "        if (!dataTable) return;\n",
              "\n",
              "        const docLinkHtml = 'Like what you see? Visit the ' +\n",
              "          '<a target=\"_blank\" href=https://colab.research.google.com/notebooks/data_table.ipynb>data table notebook</a>'\n",
              "          + ' to learn more about interactive tables.';\n",
              "        element.innerHTML = '';\n",
              "        dataTable['output_type'] = 'display_data';\n",
              "        await google.colab.output.renderOutput(dataTable, element);\n",
              "        const docLink = document.createElement('div');\n",
              "        docLink.innerHTML = docLinkHtml;\n",
              "        element.appendChild(docLink);\n",
              "      }\n",
              "    </script>\n",
              "  </div>\n",
              "\n",
              "\n",
              "    <div id=\"df-8aaf05f6-6f6c-488d-a321-e920d1e8ebb9\">\n",
              "      <button class=\"colab-df-quickchart\" onclick=\"quickchart('df-8aaf05f6-6f6c-488d-a321-e920d1e8ebb9')\"\n",
              "                title=\"Suggest charts\"\n",
              "                style=\"display:none;\">\n",
              "\n",
              "<svg xmlns=\"http://www.w3.org/2000/svg\" height=\"24px\"viewBox=\"0 0 24 24\"\n",
              "     width=\"24px\">\n",
              "    <g>\n",
              "        <path d=\"M19 3H5c-1.1 0-2 .9-2 2v14c0 1.1.9 2 2 2h14c1.1 0 2-.9 2-2V5c0-1.1-.9-2-2-2zM9 17H7v-7h2v7zm4 0h-2V7h2v10zm4 0h-2v-4h2v4z\"/>\n",
              "    </g>\n",
              "</svg>\n",
              "      </button>\n",
              "\n",
              "<style>\n",
              "  .colab-df-quickchart {\n",
              "      --bg-color: #E8F0FE;\n",
              "      --fill-color: #1967D2;\n",
              "      --hover-bg-color: #E2EBFA;\n",
              "      --hover-fill-color: #174EA6;\n",
              "      --disabled-fill-color: #AAA;\n",
              "      --disabled-bg-color: #DDD;\n",
              "  }\n",
              "\n",
              "  [theme=dark] .colab-df-quickchart {\n",
              "      --bg-color: #3B4455;\n",
              "      --fill-color: #D2E3FC;\n",
              "      --hover-bg-color: #434B5C;\n",
              "      --hover-fill-color: #FFFFFF;\n",
              "      --disabled-bg-color: #3B4455;\n",
              "      --disabled-fill-color: #666;\n",
              "  }\n",
              "\n",
              "  .colab-df-quickchart {\n",
              "    background-color: var(--bg-color);\n",
              "    border: none;\n",
              "    border-radius: 50%;\n",
              "    cursor: pointer;\n",
              "    display: none;\n",
              "    fill: var(--fill-color);\n",
              "    height: 32px;\n",
              "    padding: 0;\n",
              "    width: 32px;\n",
              "  }\n",
              "\n",
              "  .colab-df-quickchart:hover {\n",
              "    background-color: var(--hover-bg-color);\n",
              "    box-shadow: 0 1px 2px rgba(60, 64, 67, 0.3), 0 1px 3px 1px rgba(60, 64, 67, 0.15);\n",
              "    fill: var(--button-hover-fill-color);\n",
              "  }\n",
              "\n",
              "  .colab-df-quickchart-complete:disabled,\n",
              "  .colab-df-quickchart-complete:disabled:hover {\n",
              "    background-color: var(--disabled-bg-color);\n",
              "    fill: var(--disabled-fill-color);\n",
              "    box-shadow: none;\n",
              "  }\n",
              "\n",
              "  .colab-df-spinner {\n",
              "    border: 2px solid var(--fill-color);\n",
              "    border-color: transparent;\n",
              "    border-bottom-color: var(--fill-color);\n",
              "    animation:\n",
              "      spin 1s steps(1) infinite;\n",
              "  }\n",
              "\n",
              "  @keyframes spin {\n",
              "    0% {\n",
              "      border-color: transparent;\n",
              "      border-bottom-color: var(--fill-color);\n",
              "      border-left-color: var(--fill-color);\n",
              "    }\n",
              "    20% {\n",
              "      border-color: transparent;\n",
              "      border-left-color: var(--fill-color);\n",
              "      border-top-color: var(--fill-color);\n",
              "    }\n",
              "    30% {\n",
              "      border-color: transparent;\n",
              "      border-left-color: var(--fill-color);\n",
              "      border-top-color: var(--fill-color);\n",
              "      border-right-color: var(--fill-color);\n",
              "    }\n",
              "    40% {\n",
              "      border-color: transparent;\n",
              "      border-right-color: var(--fill-color);\n",
              "      border-top-color: var(--fill-color);\n",
              "    }\n",
              "    60% {\n",
              "      border-color: transparent;\n",
              "      border-right-color: var(--fill-color);\n",
              "    }\n",
              "    80% {\n",
              "      border-color: transparent;\n",
              "      border-right-color: var(--fill-color);\n",
              "      border-bottom-color: var(--fill-color);\n",
              "    }\n",
              "    90% {\n",
              "      border-color: transparent;\n",
              "      border-bottom-color: var(--fill-color);\n",
              "    }\n",
              "  }\n",
              "</style>\n",
              "\n",
              "      <script>\n",
              "        async function quickchart(key) {\n",
              "          const quickchartButtonEl =\n",
              "            document.querySelector('#' + key + ' button');\n",
              "          quickchartButtonEl.disabled = true;  // To prevent multiple clicks.\n",
              "          quickchartButtonEl.classList.add('colab-df-spinner');\n",
              "          try {\n",
              "            const charts = await google.colab.kernel.invokeFunction(\n",
              "                'suggestCharts', [key], {});\n",
              "          } catch (error) {\n",
              "            console.error('Error during call to suggestCharts:', error);\n",
              "          }\n",
              "          quickchartButtonEl.classList.remove('colab-df-spinner');\n",
              "          quickchartButtonEl.classList.add('colab-df-quickchart-complete');\n",
              "        }\n",
              "        (() => {\n",
              "          let quickchartButtonEl =\n",
              "            document.querySelector('#df-8aaf05f6-6f6c-488d-a321-e920d1e8ebb9 button');\n",
              "          quickchartButtonEl.style.display =\n",
              "            google.colab.kernel.accessAllowed ? 'block' : 'none';\n",
              "        })();\n",
              "      </script>\n",
              "    </div>\n",
              "\n",
              "  <div id=\"id_f4f110c5-fc05-4b59-9501-db33c5fb0fb8\">\n",
              "    <style>\n",
              "      .colab-df-generate {\n",
              "        background-color: #E8F0FE;\n",
              "        border: none;\n",
              "        border-radius: 50%;\n",
              "        cursor: pointer;\n",
              "        display: none;\n",
              "        fill: #1967D2;\n",
              "        height: 32px;\n",
              "        padding: 0 0 0 0;\n",
              "        width: 32px;\n",
              "      }\n",
              "\n",
              "      .colab-df-generate:hover {\n",
              "        background-color: #E2EBFA;\n",
              "        box-shadow: 0px 1px 2px rgba(60, 64, 67, 0.3), 0px 1px 3px 1px rgba(60, 64, 67, 0.15);\n",
              "        fill: #174EA6;\n",
              "      }\n",
              "\n",
              "      [theme=dark] .colab-df-generate {\n",
              "        background-color: #3B4455;\n",
              "        fill: #D2E3FC;\n",
              "      }\n",
              "\n",
              "      [theme=dark] .colab-df-generate:hover {\n",
              "        background-color: #434B5C;\n",
              "        box-shadow: 0px 1px 3px 1px rgba(0, 0, 0, 0.15);\n",
              "        filter: drop-shadow(0px 1px 2px rgba(0, 0, 0, 0.3));\n",
              "        fill: #FFFFFF;\n",
              "      }\n",
              "    </style>\n",
              "    <button class=\"colab-df-generate\" onclick=\"generateWithVariable('media_entrega_cat')\"\n",
              "            title=\"Generate code using this dataframe.\"\n",
              "            style=\"display:none;\">\n",
              "\n",
              "  <svg xmlns=\"http://www.w3.org/2000/svg\" height=\"24px\"viewBox=\"0 0 24 24\"\n",
              "       width=\"24px\">\n",
              "    <path d=\"M7,19H8.4L18.45,9,17,7.55,7,17.6ZM5,21V16.75L18.45,3.32a2,2,0,0,1,2.83,0l1.4,1.43a1.91,1.91,0,0,1,.58,1.4,1.91,1.91,0,0,1-.58,1.4L9.25,21ZM18.45,9,17,7.55Zm-12,3A5.31,5.31,0,0,0,4.9,8.1,5.31,5.31,0,0,0,1,6.5,5.31,5.31,0,0,0,4.9,4.9,5.31,5.31,0,0,0,6.5,1,5.31,5.31,0,0,0,8.1,4.9,5.31,5.31,0,0,0,12,6.5,5.46,5.46,0,0,0,6.5,12Z\"/>\n",
              "  </svg>\n",
              "    </button>\n",
              "    <script>\n",
              "      (() => {\n",
              "      const buttonEl =\n",
              "        document.querySelector('#id_f4f110c5-fc05-4b59-9501-db33c5fb0fb8 button.colab-df-generate');\n",
              "      buttonEl.style.display =\n",
              "        google.colab.kernel.accessAllowed ? 'block' : 'none';\n",
              "\n",
              "      buttonEl.onclick = () => {\n",
              "        google.colab.notebook.generateWithVariable('media_entrega_cat');\n",
              "      }\n",
              "      })();\n",
              "    </script>\n",
              "  </div>\n",
              "\n",
              "    </div>\n",
              "  </div>\n"
            ],
            "application/vnd.google.colaboratory.intrinsic+json": {
              "type": "dataframe",
              "variable_name": "media_entrega_cat",
              "summary": "{\n  \"name\": \"media_entrega_cat\",\n  \"rows\": 10,\n  \"fields\": [\n    {\n      \"column\": \"categoria_produto\",\n      \"properties\": {\n        \"dtype\": \"string\",\n        \"num_unique_values\": 10,\n        \"samples\": [\n          \"Papelaria e Escrit\\u00f3rio\",\n          \"Beleza e Cuidados Pessoais\",\n          \"Esporte e Lazer\"\n        ],\n        \"semantic_type\": \"\",\n        \"description\": \"\"\n      }\n    },\n    {\n      \"column\": \"tempo_entrega\",\n      \"properties\": {\n        \"dtype\": \"number\",\n        \"std\": 2.3795657867210425,\n        \"min\": 7.2,\n        \"max\": 14.4,\n        \"num_unique_values\": 10,\n        \"samples\": [\n          12.0,\n          8.9,\n          10.7\n        ],\n        \"semantic_type\": \"\",\n        \"description\": \"\"\n      }\n    }\n  ]\n}"
            }
          },
          "metadata": {},
          "execution_count": 63
        }
      ]
    },
    {
      "cell_type": "code",
      "source": [
        "media_entrega_cat.columns = ['categoria_produto', 'media_tempo']\n",
        "media_entrega_cat = media_entrega_cat.sort_values(by='media_tempo', ascending=False)\n",
        "media_entrega_cat"
      ],
      "metadata": {
        "id": "b3syv8W-ju9S",
        "colab": {
          "base_uri": "https://localhost:8080/",
          "height": 363
        },
        "outputId": "b5fa34a9-eed9-4139-baf4-f5beccc6e3b1"
      },
      "execution_count": null,
      "outputs": [
        {
          "output_type": "execute_result",
          "data": {
            "text/plain": [
              "               categoria_produto  media_tempo\n",
              "3                Casa e Mobílias         14.4\n",
              "6       Ferramentas e Construção         13.6\n",
              "8         Papelaria e Escritório         12.0\n",
              "5                Esporte e Lazer         10.7\n",
              "2                     Brinquedos         10.1\n",
              "7                         Livros          9.5\n",
              "9  Roupas, Calçados e Acessórios          9.2\n",
              "1     Beleza e Cuidados Pessoais          8.9\n",
              "0            Alimentos e Bebidas          7.7\n",
              "4                    Eletrônicos          7.2"
            ],
            "text/html": [
              "\n",
              "  <div id=\"df-3b160436-8cff-434f-9a95-4262b515c69e\" class=\"colab-df-container\">\n",
              "    <div>\n",
              "<style scoped>\n",
              "    .dataframe tbody tr th:only-of-type {\n",
              "        vertical-align: middle;\n",
              "    }\n",
              "\n",
              "    .dataframe tbody tr th {\n",
              "        vertical-align: top;\n",
              "    }\n",
              "\n",
              "    .dataframe thead th {\n",
              "        text-align: right;\n",
              "    }\n",
              "</style>\n",
              "<table border=\"1\" class=\"dataframe\">\n",
              "  <thead>\n",
              "    <tr style=\"text-align: right;\">\n",
              "      <th></th>\n",
              "      <th>categoria_produto</th>\n",
              "      <th>media_tempo</th>\n",
              "    </tr>\n",
              "  </thead>\n",
              "  <tbody>\n",
              "    <tr>\n",
              "      <th>3</th>\n",
              "      <td>Casa e Mobílias</td>\n",
              "      <td>14.4</td>\n",
              "    </tr>\n",
              "    <tr>\n",
              "      <th>6</th>\n",
              "      <td>Ferramentas e Construção</td>\n",
              "      <td>13.6</td>\n",
              "    </tr>\n",
              "    <tr>\n",
              "      <th>8</th>\n",
              "      <td>Papelaria e Escritório</td>\n",
              "      <td>12.0</td>\n",
              "    </tr>\n",
              "    <tr>\n",
              "      <th>5</th>\n",
              "      <td>Esporte e Lazer</td>\n",
              "      <td>10.7</td>\n",
              "    </tr>\n",
              "    <tr>\n",
              "      <th>2</th>\n",
              "      <td>Brinquedos</td>\n",
              "      <td>10.1</td>\n",
              "    </tr>\n",
              "    <tr>\n",
              "      <th>7</th>\n",
              "      <td>Livros</td>\n",
              "      <td>9.5</td>\n",
              "    </tr>\n",
              "    <tr>\n",
              "      <th>9</th>\n",
              "      <td>Roupas, Calçados e Acessórios</td>\n",
              "      <td>9.2</td>\n",
              "    </tr>\n",
              "    <tr>\n",
              "      <th>1</th>\n",
              "      <td>Beleza e Cuidados Pessoais</td>\n",
              "      <td>8.9</td>\n",
              "    </tr>\n",
              "    <tr>\n",
              "      <th>0</th>\n",
              "      <td>Alimentos e Bebidas</td>\n",
              "      <td>7.7</td>\n",
              "    </tr>\n",
              "    <tr>\n",
              "      <th>4</th>\n",
              "      <td>Eletrônicos</td>\n",
              "      <td>7.2</td>\n",
              "    </tr>\n",
              "  </tbody>\n",
              "</table>\n",
              "</div>\n",
              "    <div class=\"colab-df-buttons\">\n",
              "\n",
              "  <div class=\"colab-df-container\">\n",
              "    <button class=\"colab-df-convert\" onclick=\"convertToInteractive('df-3b160436-8cff-434f-9a95-4262b515c69e')\"\n",
              "            title=\"Convert this dataframe to an interactive table.\"\n",
              "            style=\"display:none;\">\n",
              "\n",
              "  <svg xmlns=\"http://www.w3.org/2000/svg\" height=\"24px\" viewBox=\"0 -960 960 960\">\n",
              "    <path d=\"M120-120v-720h720v720H120Zm60-500h600v-160H180v160Zm220 220h160v-160H400v160Zm0 220h160v-160H400v160ZM180-400h160v-160H180v160Zm440 0h160v-160H620v160ZM180-180h160v-160H180v160Zm440 0h160v-160H620v160Z\"/>\n",
              "  </svg>\n",
              "    </button>\n",
              "\n",
              "  <style>\n",
              "    .colab-df-container {\n",
              "      display:flex;\n",
              "      gap: 12px;\n",
              "    }\n",
              "\n",
              "    .colab-df-convert {\n",
              "      background-color: #E8F0FE;\n",
              "      border: none;\n",
              "      border-radius: 50%;\n",
              "      cursor: pointer;\n",
              "      display: none;\n",
              "      fill: #1967D2;\n",
              "      height: 32px;\n",
              "      padding: 0 0 0 0;\n",
              "      width: 32px;\n",
              "    }\n",
              "\n",
              "    .colab-df-convert:hover {\n",
              "      background-color: #E2EBFA;\n",
              "      box-shadow: 0px 1px 2px rgba(60, 64, 67, 0.3), 0px 1px 3px 1px rgba(60, 64, 67, 0.15);\n",
              "      fill: #174EA6;\n",
              "    }\n",
              "\n",
              "    .colab-df-buttons div {\n",
              "      margin-bottom: 4px;\n",
              "    }\n",
              "\n",
              "    [theme=dark] .colab-df-convert {\n",
              "      background-color: #3B4455;\n",
              "      fill: #D2E3FC;\n",
              "    }\n",
              "\n",
              "    [theme=dark] .colab-df-convert:hover {\n",
              "      background-color: #434B5C;\n",
              "      box-shadow: 0px 1px 3px 1px rgba(0, 0, 0, 0.15);\n",
              "      filter: drop-shadow(0px 1px 2px rgba(0, 0, 0, 0.3));\n",
              "      fill: #FFFFFF;\n",
              "    }\n",
              "  </style>\n",
              "\n",
              "    <script>\n",
              "      const buttonEl =\n",
              "        document.querySelector('#df-3b160436-8cff-434f-9a95-4262b515c69e button.colab-df-convert');\n",
              "      buttonEl.style.display =\n",
              "        google.colab.kernel.accessAllowed ? 'block' : 'none';\n",
              "\n",
              "      async function convertToInteractive(key) {\n",
              "        const element = document.querySelector('#df-3b160436-8cff-434f-9a95-4262b515c69e');\n",
              "        const dataTable =\n",
              "          await google.colab.kernel.invokeFunction('convertToInteractive',\n",
              "                                                    [key], {});\n",
              "        if (!dataTable) return;\n",
              "\n",
              "        const docLinkHtml = 'Like what you see? Visit the ' +\n",
              "          '<a target=\"_blank\" href=https://colab.research.google.com/notebooks/data_table.ipynb>data table notebook</a>'\n",
              "          + ' to learn more about interactive tables.';\n",
              "        element.innerHTML = '';\n",
              "        dataTable['output_type'] = 'display_data';\n",
              "        await google.colab.output.renderOutput(dataTable, element);\n",
              "        const docLink = document.createElement('div');\n",
              "        docLink.innerHTML = docLinkHtml;\n",
              "        element.appendChild(docLink);\n",
              "      }\n",
              "    </script>\n",
              "  </div>\n",
              "\n",
              "\n",
              "    <div id=\"df-27e86f72-8aaf-404b-968f-50d2019ca262\">\n",
              "      <button class=\"colab-df-quickchart\" onclick=\"quickchart('df-27e86f72-8aaf-404b-968f-50d2019ca262')\"\n",
              "                title=\"Suggest charts\"\n",
              "                style=\"display:none;\">\n",
              "\n",
              "<svg xmlns=\"http://www.w3.org/2000/svg\" height=\"24px\"viewBox=\"0 0 24 24\"\n",
              "     width=\"24px\">\n",
              "    <g>\n",
              "        <path d=\"M19 3H5c-1.1 0-2 .9-2 2v14c0 1.1.9 2 2 2h14c1.1 0 2-.9 2-2V5c0-1.1-.9-2-2-2zM9 17H7v-7h2v7zm4 0h-2V7h2v10zm4 0h-2v-4h2v4z\"/>\n",
              "    </g>\n",
              "</svg>\n",
              "      </button>\n",
              "\n",
              "<style>\n",
              "  .colab-df-quickchart {\n",
              "      --bg-color: #E8F0FE;\n",
              "      --fill-color: #1967D2;\n",
              "      --hover-bg-color: #E2EBFA;\n",
              "      --hover-fill-color: #174EA6;\n",
              "      --disabled-fill-color: #AAA;\n",
              "      --disabled-bg-color: #DDD;\n",
              "  }\n",
              "\n",
              "  [theme=dark] .colab-df-quickchart {\n",
              "      --bg-color: #3B4455;\n",
              "      --fill-color: #D2E3FC;\n",
              "      --hover-bg-color: #434B5C;\n",
              "      --hover-fill-color: #FFFFFF;\n",
              "      --disabled-bg-color: #3B4455;\n",
              "      --disabled-fill-color: #666;\n",
              "  }\n",
              "\n",
              "  .colab-df-quickchart {\n",
              "    background-color: var(--bg-color);\n",
              "    border: none;\n",
              "    border-radius: 50%;\n",
              "    cursor: pointer;\n",
              "    display: none;\n",
              "    fill: var(--fill-color);\n",
              "    height: 32px;\n",
              "    padding: 0;\n",
              "    width: 32px;\n",
              "  }\n",
              "\n",
              "  .colab-df-quickchart:hover {\n",
              "    background-color: var(--hover-bg-color);\n",
              "    box-shadow: 0 1px 2px rgba(60, 64, 67, 0.3), 0 1px 3px 1px rgba(60, 64, 67, 0.15);\n",
              "    fill: var(--button-hover-fill-color);\n",
              "  }\n",
              "\n",
              "  .colab-df-quickchart-complete:disabled,\n",
              "  .colab-df-quickchart-complete:disabled:hover {\n",
              "    background-color: var(--disabled-bg-color);\n",
              "    fill: var(--disabled-fill-color);\n",
              "    box-shadow: none;\n",
              "  }\n",
              "\n",
              "  .colab-df-spinner {\n",
              "    border: 2px solid var(--fill-color);\n",
              "    border-color: transparent;\n",
              "    border-bottom-color: var(--fill-color);\n",
              "    animation:\n",
              "      spin 1s steps(1) infinite;\n",
              "  }\n",
              "\n",
              "  @keyframes spin {\n",
              "    0% {\n",
              "      border-color: transparent;\n",
              "      border-bottom-color: var(--fill-color);\n",
              "      border-left-color: var(--fill-color);\n",
              "    }\n",
              "    20% {\n",
              "      border-color: transparent;\n",
              "      border-left-color: var(--fill-color);\n",
              "      border-top-color: var(--fill-color);\n",
              "    }\n",
              "    30% {\n",
              "      border-color: transparent;\n",
              "      border-left-color: var(--fill-color);\n",
              "      border-top-color: var(--fill-color);\n",
              "      border-right-color: var(--fill-color);\n",
              "    }\n",
              "    40% {\n",
              "      border-color: transparent;\n",
              "      border-right-color: var(--fill-color);\n",
              "      border-top-color: var(--fill-color);\n",
              "    }\n",
              "    60% {\n",
              "      border-color: transparent;\n",
              "      border-right-color: var(--fill-color);\n",
              "    }\n",
              "    80% {\n",
              "      border-color: transparent;\n",
              "      border-right-color: var(--fill-color);\n",
              "      border-bottom-color: var(--fill-color);\n",
              "    }\n",
              "    90% {\n",
              "      border-color: transparent;\n",
              "      border-bottom-color: var(--fill-color);\n",
              "    }\n",
              "  }\n",
              "</style>\n",
              "\n",
              "      <script>\n",
              "        async function quickchart(key) {\n",
              "          const quickchartButtonEl =\n",
              "            document.querySelector('#' + key + ' button');\n",
              "          quickchartButtonEl.disabled = true;  // To prevent multiple clicks.\n",
              "          quickchartButtonEl.classList.add('colab-df-spinner');\n",
              "          try {\n",
              "            const charts = await google.colab.kernel.invokeFunction(\n",
              "                'suggestCharts', [key], {});\n",
              "          } catch (error) {\n",
              "            console.error('Error during call to suggestCharts:', error);\n",
              "          }\n",
              "          quickchartButtonEl.classList.remove('colab-df-spinner');\n",
              "          quickchartButtonEl.classList.add('colab-df-quickchart-complete');\n",
              "        }\n",
              "        (() => {\n",
              "          let quickchartButtonEl =\n",
              "            document.querySelector('#df-27e86f72-8aaf-404b-968f-50d2019ca262 button');\n",
              "          quickchartButtonEl.style.display =\n",
              "            google.colab.kernel.accessAllowed ? 'block' : 'none';\n",
              "        })();\n",
              "      </script>\n",
              "    </div>\n",
              "\n",
              "  <div id=\"id_b9f218a0-d995-4dc6-9668-ec9d91bb3992\">\n",
              "    <style>\n",
              "      .colab-df-generate {\n",
              "        background-color: #E8F0FE;\n",
              "        border: none;\n",
              "        border-radius: 50%;\n",
              "        cursor: pointer;\n",
              "        display: none;\n",
              "        fill: #1967D2;\n",
              "        height: 32px;\n",
              "        padding: 0 0 0 0;\n",
              "        width: 32px;\n",
              "      }\n",
              "\n",
              "      .colab-df-generate:hover {\n",
              "        background-color: #E2EBFA;\n",
              "        box-shadow: 0px 1px 2px rgba(60, 64, 67, 0.3), 0px 1px 3px 1px rgba(60, 64, 67, 0.15);\n",
              "        fill: #174EA6;\n",
              "      }\n",
              "\n",
              "      [theme=dark] .colab-df-generate {\n",
              "        background-color: #3B4455;\n",
              "        fill: #D2E3FC;\n",
              "      }\n",
              "\n",
              "      [theme=dark] .colab-df-generate:hover {\n",
              "        background-color: #434B5C;\n",
              "        box-shadow: 0px 1px 3px 1px rgba(0, 0, 0, 0.15);\n",
              "        filter: drop-shadow(0px 1px 2px rgba(0, 0, 0, 0.3));\n",
              "        fill: #FFFFFF;\n",
              "      }\n",
              "    </style>\n",
              "    <button class=\"colab-df-generate\" onclick=\"generateWithVariable('media_entrega_cat')\"\n",
              "            title=\"Generate code using this dataframe.\"\n",
              "            style=\"display:none;\">\n",
              "\n",
              "  <svg xmlns=\"http://www.w3.org/2000/svg\" height=\"24px\"viewBox=\"0 0 24 24\"\n",
              "       width=\"24px\">\n",
              "    <path d=\"M7,19H8.4L18.45,9,17,7.55,7,17.6ZM5,21V16.75L18.45,3.32a2,2,0,0,1,2.83,0l1.4,1.43a1.91,1.91,0,0,1,.58,1.4,1.91,1.91,0,0,1-.58,1.4L9.25,21ZM18.45,9,17,7.55Zm-12,3A5.31,5.31,0,0,0,4.9,8.1,5.31,5.31,0,0,0,1,6.5,5.31,5.31,0,0,0,4.9,4.9,5.31,5.31,0,0,0,6.5,1,5.31,5.31,0,0,0,8.1,4.9,5.31,5.31,0,0,0,12,6.5,5.46,5.46,0,0,0,6.5,12Z\"/>\n",
              "  </svg>\n",
              "    </button>\n",
              "    <script>\n",
              "      (() => {\n",
              "      const buttonEl =\n",
              "        document.querySelector('#id_b9f218a0-d995-4dc6-9668-ec9d91bb3992 button.colab-df-generate');\n",
              "      buttonEl.style.display =\n",
              "        google.colab.kernel.accessAllowed ? 'block' : 'none';\n",
              "\n",
              "      buttonEl.onclick = () => {\n",
              "        google.colab.notebook.generateWithVariable('media_entrega_cat');\n",
              "      }\n",
              "      })();\n",
              "    </script>\n",
              "  </div>\n",
              "\n",
              "    </div>\n",
              "  </div>\n"
            ],
            "application/vnd.google.colaboratory.intrinsic+json": {
              "type": "dataframe",
              "variable_name": "media_entrega_cat",
              "summary": "{\n  \"name\": \"media_entrega_cat\",\n  \"rows\": 10,\n  \"fields\": [\n    {\n      \"column\": \"categoria_produto\",\n      \"properties\": {\n        \"dtype\": \"string\",\n        \"num_unique_values\": 10,\n        \"samples\": [\n          \"Alimentos e Bebidas\",\n          \"Ferramentas e Constru\\u00e7\\u00e3o\",\n          \"Livros\"\n        ],\n        \"semantic_type\": \"\",\n        \"description\": \"\"\n      }\n    },\n    {\n      \"column\": \"media_tempo\",\n      \"properties\": {\n        \"dtype\": \"number\",\n        \"std\": 2.3795657867210425,\n        \"min\": 7.2,\n        \"max\": 14.4,\n        \"num_unique_values\": 10,\n        \"samples\": [\n          7.7,\n          13.6,\n          9.5\n        ],\n        \"semantic_type\": \"\",\n        \"description\": \"\"\n      }\n    }\n  ]\n}"
            }
          },
          "metadata": {},
          "execution_count": 67
        }
      ]
    },
    {
      "cell_type": "code",
      "source": [
        "# Criando o gráfico de barras com seaborn\n",
        "plt.figure(figsize=(8, 6))\n",
        "sns.barplot(data=media_entrega_cat, x='media_tempo', y='categoria_produto')\n",
        "plt.axvline(media_entrega, color='red')\n",
        "\n",
        "\n",
        "plt.xlabel('Tempo de Entrega')\n",
        "plt.ylabel('Categoria de Produto')\n",
        "\n",
        "\n",
        "plt.show()"
      ],
      "metadata": {
        "id": "2Gs0aZ2ejxtC",
        "colab": {
          "base_uri": "https://localhost:8080/",
          "height": 542
        },
        "outputId": "4c7d2d61-972f-4b3f-92c5-58e5b2c1baf3"
      },
      "execution_count": null,
      "outputs": [
        {
          "output_type": "display_data",
          "data": {
            "text/plain": [
              "<Figure size 800x600 with 1 Axes>"
            ],
            "image/png": "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\n"
          },
          "metadata": {}
        }
      ]
    },
    {
      "cell_type": "markdown",
      "source": [
        "Como a empresa não possuia informações precisas sobre como os tempos de entrega variam entre as categorias de produtos, isso dificultava a definição de estimativas para os clientes, gerando frustrações quando o tempo real de entrega não corresponde ao esperado.\n",
        "\n",
        "Aqui conseguimos apontar os gargalos e quais as categorias que precisam de atenção, seja pela dificuldade de transporte ou outros problemas."
      ],
      "metadata": {
        "id": "01oDFiZtvXkn"
      }
    },
    {
      "cell_type": "markdown",
      "source": [
        "## **3.2 Aplicando a mediana na investigação dos dados**\n",
        "\n",
        "---"
      ],
      "metadata": {
        "id": "g3zvC6ITMMWw"
      }
    },
    {
      "cell_type": "markdown",
      "source": [
        "### <font color=\"#E23155\" face=\"Verdana\">Demanda 5: Vendas de eletrônicos na região Nordeste</font>"
      ],
      "metadata": {
        "id": "vx45hn83MN-K"
      }
    },
    {
      "cell_type": "markdown",
      "source": [
        "Para nossa nova demanda, a divisão da equipe de marketing e vendas que cuida das vendas no Nordeste está buscando investigar o comportamento dos consumidores nessa área, devido ao crescimento significativo nas vendas de **Eletrônicos**. A equipe deseja entender melhor a distribuição dos valores de vendas para ajustar sua estratégia de preços e campanhas.\n",
        "\n",
        "Embora a média das vendas de eletrônicos forneça uma visão geral, ela pode ser influenciada por valores extremos, como compras muito altas ou muito baixas.\n",
        "\n",
        "Para capturar um retrato mais representativo do comportamento típico dos consumidores qual medida podemos utilizar?"
      ],
      "metadata": {
        "id": "GcRbqpbN7I28"
      }
    },
    {
      "cell_type": "markdown",
      "source": [
        "### **Mediana ($M_d$)**\n",
        "\n",
        "A **mediana** representa o valor central de um conjunto de dados, passando o número que divide um conjunto de dados exatamente ao meio. Para obtermos a mediana de uma conjunto de dados devemos proceder da seguinte maneira:\n",
        "\n",
        "1. Ordenar o conjunto de dados;\n",
        "2. Identificar o número de observações (registros) do conjunto de dados ($n$);\n",
        "3. Identificar o elemento mediano:\n",
        "\n",
        "$$ Elemento_{Md} = \\left\\{\\begin{matrix}\n",
        "\\frac{n+1}2 & ,se \\ n \\ for \\ ímpar \\\\\n",
        " &  \\\\\n",
        "\\frac{n}2 & ,se \\ n \\ for \\ par \\\\\n",
        "\\end{matrix}\\right.$$\n",
        "\n",
        "&nbsp;\n",
        "\n",
        "4. Obter a mediana:\n",
        "\n",
        "$$ M_d = \\left\\{\\begin{matrix}\n",
        "X_{Elemento_{Md}} & ,se \\ n \\ for \\ ímpar \\\\\n",
        " &  \\\\\n",
        "\\frac{X_{Elemento_{Md}} + X_{Elemento_{Md}+1}}2 & ,se \\ n \\ for \\ par \\\\\n",
        "\\end{matrix}\\right.$$\n",
        "\n",
        "&nbsp;"
      ],
      "metadata": {
        "id": "Jt3utyFQ7Kn4"
      }
    },
    {
      "cell_type": "markdown",
      "source": [
        "### <font color=\"#E23155\" face=\"Verdana\">Solução:</font>"
      ],
      "metadata": {
        "id": "WVbkrC4g7Mm5"
      }
    },
    {
      "cell_type": "markdown",
      "source": [
        "##### **Usando a fórmula**"
      ],
      "metadata": {
        "id": "nX-DvrzN7OWb"
      }
    },
    {
      "cell_type": "code",
      "source": [
        "dados_nordeste = df[(df['regiao_cliente'] == 'Nordeste') & (df['categoria_produto'] == 'Eletrônicos')]\n",
        "dados_nordeste = dados_nordeste.sort_values('total_compra')\n",
        "dados_nordeste.head()"
      ],
      "metadata": {
        "id": "ad8GTBgQj5nn",
        "colab": {
          "base_uri": "https://localhost:8080/",
          "height": 379
        },
        "outputId": "40606268-8fa2-4f38-9e23-82464a1bcf17"
      },
      "execution_count": null,
      "outputs": [
        {
          "output_type": "execute_result",
          "data": {
            "text/plain": [
              "                                   id_compra sexo_biologico  idade_cliente  \\\n",
              "78891   b398ddb6-2790-443a-9d32-15ff5778ca19       Feminino             25   \n",
              "36398   76f5e991-cf96-4b4c-b6f5-4f84e763fdb9       Feminino             26   \n",
              "71461   689e13d1-85f7-44ac-997f-e46ed8c1fdde       Feminino             34   \n",
              "112356  b2878a8d-e3cc-40af-a46c-d9ae1b8e3aa6       Feminino             27   \n",
              "29317   23e748d7-2f72-4c3c-97ce-ac9fc5624ea8       Feminino             39   \n",
              "\n",
              "       regiao_cliente categoria_produto  preco_unitario  quantidade  \\\n",
              "78891        Nordeste       Eletrônicos           25.35           1   \n",
              "36398        Nordeste       Eletrônicos           26.34           1   \n",
              "71461        Nordeste       Eletrônicos           29.85           1   \n",
              "112356       Nordeste       Eletrônicos           30.09           1   \n",
              "29317        Nordeste       Eletrônicos           32.92           1   \n",
              "\n",
              "        total_compra  tempo_entrega  avaliacao avaliacao_indicador  \n",
              "78891          25.35              9          3             Regular  \n",
              "36398          26.34              9          3             Regular  \n",
              "71461          29.85              7          5               Ótimo  \n",
              "112356         30.09              4          5               Ótimo  \n",
              "29317          32.92              6          2                Ruim  "
            ],
            "text/html": [
              "\n",
              "  <div id=\"df-3f29956b-6b67-4f01-8857-da8168eea206\" class=\"colab-df-container\">\n",
              "    <div>\n",
              "<style scoped>\n",
              "    .dataframe tbody tr th:only-of-type {\n",
              "        vertical-align: middle;\n",
              "    }\n",
              "\n",
              "    .dataframe tbody tr th {\n",
              "        vertical-align: top;\n",
              "    }\n",
              "\n",
              "    .dataframe thead th {\n",
              "        text-align: right;\n",
              "    }\n",
              "</style>\n",
              "<table border=\"1\" class=\"dataframe\">\n",
              "  <thead>\n",
              "    <tr style=\"text-align: right;\">\n",
              "      <th></th>\n",
              "      <th>id_compra</th>\n",
              "      <th>sexo_biologico</th>\n",
              "      <th>idade_cliente</th>\n",
              "      <th>regiao_cliente</th>\n",
              "      <th>categoria_produto</th>\n",
              "      <th>preco_unitario</th>\n",
              "      <th>quantidade</th>\n",
              "      <th>total_compra</th>\n",
              "      <th>tempo_entrega</th>\n",
              "      <th>avaliacao</th>\n",
              "      <th>avaliacao_indicador</th>\n",
              "    </tr>\n",
              "  </thead>\n",
              "  <tbody>\n",
              "    <tr>\n",
              "      <th>78891</th>\n",
              "      <td>b398ddb6-2790-443a-9d32-15ff5778ca19</td>\n",
              "      <td>Feminino</td>\n",
              "      <td>25</td>\n",
              "      <td>Nordeste</td>\n",
              "      <td>Eletrônicos</td>\n",
              "      <td>25.35</td>\n",
              "      <td>1</td>\n",
              "      <td>25.35</td>\n",
              "      <td>9</td>\n",
              "      <td>3</td>\n",
              "      <td>Regular</td>\n",
              "    </tr>\n",
              "    <tr>\n",
              "      <th>36398</th>\n",
              "      <td>76f5e991-cf96-4b4c-b6f5-4f84e763fdb9</td>\n",
              "      <td>Feminino</td>\n",
              "      <td>26</td>\n",
              "      <td>Nordeste</td>\n",
              "      <td>Eletrônicos</td>\n",
              "      <td>26.34</td>\n",
              "      <td>1</td>\n",
              "      <td>26.34</td>\n",
              "      <td>9</td>\n",
              "      <td>3</td>\n",
              "      <td>Regular</td>\n",
              "    </tr>\n",
              "    <tr>\n",
              "      <th>71461</th>\n",
              "      <td>689e13d1-85f7-44ac-997f-e46ed8c1fdde</td>\n",
              "      <td>Feminino</td>\n",
              "      <td>34</td>\n",
              "      <td>Nordeste</td>\n",
              "      <td>Eletrônicos</td>\n",
              "      <td>29.85</td>\n",
              "      <td>1</td>\n",
              "      <td>29.85</td>\n",
              "      <td>7</td>\n",
              "      <td>5</td>\n",
              "      <td>Ótimo</td>\n",
              "    </tr>\n",
              "    <tr>\n",
              "      <th>112356</th>\n",
              "      <td>b2878a8d-e3cc-40af-a46c-d9ae1b8e3aa6</td>\n",
              "      <td>Feminino</td>\n",
              "      <td>27</td>\n",
              "      <td>Nordeste</td>\n",
              "      <td>Eletrônicos</td>\n",
              "      <td>30.09</td>\n",
              "      <td>1</td>\n",
              "      <td>30.09</td>\n",
              "      <td>4</td>\n",
              "      <td>5</td>\n",
              "      <td>Ótimo</td>\n",
              "    </tr>\n",
              "    <tr>\n",
              "      <th>29317</th>\n",
              "      <td>23e748d7-2f72-4c3c-97ce-ac9fc5624ea8</td>\n",
              "      <td>Feminino</td>\n",
              "      <td>39</td>\n",
              "      <td>Nordeste</td>\n",
              "      <td>Eletrônicos</td>\n",
              "      <td>32.92</td>\n",
              "      <td>1</td>\n",
              "      <td>32.92</td>\n",
              "      <td>6</td>\n",
              "      <td>2</td>\n",
              "      <td>Ruim</td>\n",
              "    </tr>\n",
              "  </tbody>\n",
              "</table>\n",
              "</div>\n",
              "    <div class=\"colab-df-buttons\">\n",
              "\n",
              "  <div class=\"colab-df-container\">\n",
              "    <button class=\"colab-df-convert\" onclick=\"convertToInteractive('df-3f29956b-6b67-4f01-8857-da8168eea206')\"\n",
              "            title=\"Convert this dataframe to an interactive table.\"\n",
              "            style=\"display:none;\">\n",
              "\n",
              "  <svg xmlns=\"http://www.w3.org/2000/svg\" height=\"24px\" viewBox=\"0 -960 960 960\">\n",
              "    <path d=\"M120-120v-720h720v720H120Zm60-500h600v-160H180v160Zm220 220h160v-160H400v160Zm0 220h160v-160H400v160ZM180-400h160v-160H180v160Zm440 0h160v-160H620v160ZM180-180h160v-160H180v160Zm440 0h160v-160H620v160Z\"/>\n",
              "  </svg>\n",
              "    </button>\n",
              "\n",
              "  <style>\n",
              "    .colab-df-container {\n",
              "      display:flex;\n",
              "      gap: 12px;\n",
              "    }\n",
              "\n",
              "    .colab-df-convert {\n",
              "      background-color: #E8F0FE;\n",
              "      border: none;\n",
              "      border-radius: 50%;\n",
              "      cursor: pointer;\n",
              "      display: none;\n",
              "      fill: #1967D2;\n",
              "      height: 32px;\n",
              "      padding: 0 0 0 0;\n",
              "      width: 32px;\n",
              "    }\n",
              "\n",
              "    .colab-df-convert:hover {\n",
              "      background-color: #E2EBFA;\n",
              "      box-shadow: 0px 1px 2px rgba(60, 64, 67, 0.3), 0px 1px 3px 1px rgba(60, 64, 67, 0.15);\n",
              "      fill: #174EA6;\n",
              "    }\n",
              "\n",
              "    .colab-df-buttons div {\n",
              "      margin-bottom: 4px;\n",
              "    }\n",
              "\n",
              "    [theme=dark] .colab-df-convert {\n",
              "      background-color: #3B4455;\n",
              "      fill: #D2E3FC;\n",
              "    }\n",
              "\n",
              "    [theme=dark] .colab-df-convert:hover {\n",
              "      background-color: #434B5C;\n",
              "      box-shadow: 0px 1px 3px 1px rgba(0, 0, 0, 0.15);\n",
              "      filter: drop-shadow(0px 1px 2px rgba(0, 0, 0, 0.3));\n",
              "      fill: #FFFFFF;\n",
              "    }\n",
              "  </style>\n",
              "\n",
              "    <script>\n",
              "      const buttonEl =\n",
              "        document.querySelector('#df-3f29956b-6b67-4f01-8857-da8168eea206 button.colab-df-convert');\n",
              "      buttonEl.style.display =\n",
              "        google.colab.kernel.accessAllowed ? 'block' : 'none';\n",
              "\n",
              "      async function convertToInteractive(key) {\n",
              "        const element = document.querySelector('#df-3f29956b-6b67-4f01-8857-da8168eea206');\n",
              "        const dataTable =\n",
              "          await google.colab.kernel.invokeFunction('convertToInteractive',\n",
              "                                                    [key], {});\n",
              "        if (!dataTable) return;\n",
              "\n",
              "        const docLinkHtml = 'Like what you see? Visit the ' +\n",
              "          '<a target=\"_blank\" href=https://colab.research.google.com/notebooks/data_table.ipynb>data table notebook</a>'\n",
              "          + ' to learn more about interactive tables.';\n",
              "        element.innerHTML = '';\n",
              "        dataTable['output_type'] = 'display_data';\n",
              "        await google.colab.output.renderOutput(dataTable, element);\n",
              "        const docLink = document.createElement('div');\n",
              "        docLink.innerHTML = docLinkHtml;\n",
              "        element.appendChild(docLink);\n",
              "      }\n",
              "    </script>\n",
              "  </div>\n",
              "\n",
              "\n",
              "    <div id=\"df-ac770a33-b37e-485b-83e7-2c741cfbe87b\">\n",
              "      <button class=\"colab-df-quickchart\" onclick=\"quickchart('df-ac770a33-b37e-485b-83e7-2c741cfbe87b')\"\n",
              "                title=\"Suggest charts\"\n",
              "                style=\"display:none;\">\n",
              "\n",
              "<svg xmlns=\"http://www.w3.org/2000/svg\" height=\"24px\"viewBox=\"0 0 24 24\"\n",
              "     width=\"24px\">\n",
              "    <g>\n",
              "        <path d=\"M19 3H5c-1.1 0-2 .9-2 2v14c0 1.1.9 2 2 2h14c1.1 0 2-.9 2-2V5c0-1.1-.9-2-2-2zM9 17H7v-7h2v7zm4 0h-2V7h2v10zm4 0h-2v-4h2v4z\"/>\n",
              "    </g>\n",
              "</svg>\n",
              "      </button>\n",
              "\n",
              "<style>\n",
              "  .colab-df-quickchart {\n",
              "      --bg-color: #E8F0FE;\n",
              "      --fill-color: #1967D2;\n",
              "      --hover-bg-color: #E2EBFA;\n",
              "      --hover-fill-color: #174EA6;\n",
              "      --disabled-fill-color: #AAA;\n",
              "      --disabled-bg-color: #DDD;\n",
              "  }\n",
              "\n",
              "  [theme=dark] .colab-df-quickchart {\n",
              "      --bg-color: #3B4455;\n",
              "      --fill-color: #D2E3FC;\n",
              "      --hover-bg-color: #434B5C;\n",
              "      --hover-fill-color: #FFFFFF;\n",
              "      --disabled-bg-color: #3B4455;\n",
              "      --disabled-fill-color: #666;\n",
              "  }\n",
              "\n",
              "  .colab-df-quickchart {\n",
              "    background-color: var(--bg-color);\n",
              "    border: none;\n",
              "    border-radius: 50%;\n",
              "    cursor: pointer;\n",
              "    display: none;\n",
              "    fill: var(--fill-color);\n",
              "    height: 32px;\n",
              "    padding: 0;\n",
              "    width: 32px;\n",
              "  }\n",
              "\n",
              "  .colab-df-quickchart:hover {\n",
              "    background-color: var(--hover-bg-color);\n",
              "    box-shadow: 0 1px 2px rgba(60, 64, 67, 0.3), 0 1px 3px 1px rgba(60, 64, 67, 0.15);\n",
              "    fill: var(--button-hover-fill-color);\n",
              "  }\n",
              "\n",
              "  .colab-df-quickchart-complete:disabled,\n",
              "  .colab-df-quickchart-complete:disabled:hover {\n",
              "    background-color: var(--disabled-bg-color);\n",
              "    fill: var(--disabled-fill-color);\n",
              "    box-shadow: none;\n",
              "  }\n",
              "\n",
              "  .colab-df-spinner {\n",
              "    border: 2px solid var(--fill-color);\n",
              "    border-color: transparent;\n",
              "    border-bottom-color: var(--fill-color);\n",
              "    animation:\n",
              "      spin 1s steps(1) infinite;\n",
              "  }\n",
              "\n",
              "  @keyframes spin {\n",
              "    0% {\n",
              "      border-color: transparent;\n",
              "      border-bottom-color: var(--fill-color);\n",
              "      border-left-color: var(--fill-color);\n",
              "    }\n",
              "    20% {\n",
              "      border-color: transparent;\n",
              "      border-left-color: var(--fill-color);\n",
              "      border-top-color: var(--fill-color);\n",
              "    }\n",
              "    30% {\n",
              "      border-color: transparent;\n",
              "      border-left-color: var(--fill-color);\n",
              "      border-top-color: var(--fill-color);\n",
              "      border-right-color: var(--fill-color);\n",
              "    }\n",
              "    40% {\n",
              "      border-color: transparent;\n",
              "      border-right-color: var(--fill-color);\n",
              "      border-top-color: var(--fill-color);\n",
              "    }\n",
              "    60% {\n",
              "      border-color: transparent;\n",
              "      border-right-color: var(--fill-color);\n",
              "    }\n",
              "    80% {\n",
              "      border-color: transparent;\n",
              "      border-right-color: var(--fill-color);\n",
              "      border-bottom-color: var(--fill-color);\n",
              "    }\n",
              "    90% {\n",
              "      border-color: transparent;\n",
              "      border-bottom-color: var(--fill-color);\n",
              "    }\n",
              "  }\n",
              "</style>\n",
              "\n",
              "      <script>\n",
              "        async function quickchart(key) {\n",
              "          const quickchartButtonEl =\n",
              "            document.querySelector('#' + key + ' button');\n",
              "          quickchartButtonEl.disabled = true;  // To prevent multiple clicks.\n",
              "          quickchartButtonEl.classList.add('colab-df-spinner');\n",
              "          try {\n",
              "            const charts = await google.colab.kernel.invokeFunction(\n",
              "                'suggestCharts', [key], {});\n",
              "          } catch (error) {\n",
              "            console.error('Error during call to suggestCharts:', error);\n",
              "          }\n",
              "          quickchartButtonEl.classList.remove('colab-df-spinner');\n",
              "          quickchartButtonEl.classList.add('colab-df-quickchart-complete');\n",
              "        }\n",
              "        (() => {\n",
              "          let quickchartButtonEl =\n",
              "            document.querySelector('#df-ac770a33-b37e-485b-83e7-2c741cfbe87b button');\n",
              "          quickchartButtonEl.style.display =\n",
              "            google.colab.kernel.accessAllowed ? 'block' : 'none';\n",
              "        })();\n",
              "      </script>\n",
              "    </div>\n",
              "\n",
              "    </div>\n",
              "  </div>\n"
            ],
            "application/vnd.google.colaboratory.intrinsic+json": {
              "type": "dataframe",
              "variable_name": "dados_nordeste",
              "summary": "{\n  \"name\": \"dados_nordeste\",\n  \"rows\": 8872,\n  \"fields\": [\n    {\n      \"column\": \"id_compra\",\n      \"properties\": {\n        \"dtype\": \"string\",\n        \"num_unique_values\": 8872,\n        \"samples\": [\n          \"bc774cc6-068f-4f6c-96ef-6f6ce06b56cb\",\n          \"3e775546-54b8-4cbc-ad89-6728d749988f\",\n          \"4963ec13-7156-4f85-a4e8-b1371254d14c\"\n        ],\n        \"semantic_type\": \"\",\n        \"description\": \"\"\n      }\n    },\n    {\n      \"column\": \"sexo_biologico\",\n      \"properties\": {\n        \"dtype\": \"category\",\n        \"num_unique_values\": 2,\n        \"samples\": [\n          \"Masculino\",\n          \"Feminino\"\n        ],\n        \"semantic_type\": \"\",\n        \"description\": \"\"\n      }\n    },\n    {\n      \"column\": \"idade_cliente\",\n      \"properties\": {\n        \"dtype\": \"number\",\n        \"std\": 8,\n        \"min\": 15,\n        \"max\": 60,\n        \"num_unique_values\": 46,\n        \"samples\": [\n          58,\n          41\n        ],\n        \"semantic_type\": \"\",\n        \"description\": \"\"\n      }\n    },\n    {\n      \"column\": \"regiao_cliente\",\n      \"properties\": {\n        \"dtype\": \"category\",\n        \"num_unique_values\": 1,\n        \"samples\": [\n          \"Nordeste\"\n        ],\n        \"semantic_type\": \"\",\n        \"description\": \"\"\n      }\n    },\n    {\n      \"column\": \"categoria_produto\",\n      \"properties\": {\n        \"dtype\": \"category\",\n        \"num_unique_values\": 1,\n        \"samples\": [\n          \"Eletr\\u00f4nicos\"\n        ],\n        \"semantic_type\": \"\",\n        \"description\": \"\"\n      }\n    },\n    {\n      \"column\": \"preco_unitario\",\n      \"properties\": {\n        \"dtype\": \"number\",\n        \"std\": 569.9174412217656,\n        \"min\": 20.07,\n        \"max\": 2045.14,\n        \"num_unique_values\": 8683,\n        \"samples\": [\n          67.45\n        ],\n        \"semantic_type\": \"\",\n        \"description\": \"\"\n      }\n    },\n    {\n      \"column\": \"quantidade\",\n      \"properties\": {\n        \"dtype\": \"number\",\n        \"std\": 2,\n        \"min\": 1,\n        \"max\": 10,\n        \"num_unique_values\": 10,\n        \"samples\": [\n          10\n        ],\n        \"semantic_type\": \"\",\n        \"description\": \"\"\n      }\n    },\n    {\n      \"column\": \"total_compra\",\n      \"properties\": {\n        \"dtype\": \"number\",\n        \"std\": 3410.4152732952334,\n        \"min\": 25.35,\n        \"max\": 20374.4,\n        \"num_unique_values\": 8802,\n        \"samples\": [\n          130.33\n        ],\n        \"semantic_type\": \"\",\n        \"description\": \"\"\n      }\n    },\n    {\n      \"column\": \"tempo_entrega\",\n      \"properties\": {\n        \"dtype\": \"number\",\n        \"std\": 2,\n        \"min\": 1,\n        \"max\": 18,\n        \"num_unique_values\": 18,\n        \"samples\": [\n          9\n        ],\n        \"semantic_type\": \"\",\n        \"description\": \"\"\n      }\n    },\n    {\n      \"column\": \"avaliacao\",\n      \"properties\": {\n        \"dtype\": \"number\",\n        \"std\": 1,\n        \"min\": 1,\n        \"max\": 5,\n        \"num_unique_values\": 5,\n        \"samples\": [\n          5\n        ],\n        \"semantic_type\": \"\",\n        \"description\": \"\"\n      }\n    },\n    {\n      \"column\": \"avaliacao_indicador\",\n      \"properties\": {\n        \"dtype\": \"category\",\n        \"num_unique_values\": 5,\n        \"samples\": [\n          \"\\u00d3timo\"\n        ],\n        \"semantic_type\": \"\",\n        \"description\": \"\"\n      }\n    }\n  ]\n}"
            }
          },
          "metadata": {},
          "execution_count": 69
        }
      ]
    },
    {
      "cell_type": "code",
      "source": [
        "n = len(dados_nordeste)\n",
        "n"
      ],
      "metadata": {
        "id": "vnIzYHr5j5h5",
        "colab": {
          "base_uri": "https://localhost:8080/"
        },
        "outputId": "ca8186e4-b57b-4c2d-90e1-269ec03420a4"
      },
      "execution_count": null,
      "outputs": [
        {
          "output_type": "execute_result",
          "data": {
            "text/plain": [
              "8872"
            ]
          },
          "metadata": {},
          "execution_count": 70
        }
      ]
    },
    {
      "cell_type": "code",
      "source": [
        "elemento_md = int(n / 2)\n",
        "elemento_md"
      ],
      "metadata": {
        "id": "k-m1URvNj5av",
        "colab": {
          "base_uri": "https://localhost:8080/"
        },
        "outputId": "bcc29e51-d0f5-4fed-94cd-1afdce2cf596"
      },
      "execution_count": null,
      "outputs": [
        {
          "output_type": "execute_result",
          "data": {
            "text/plain": [
              "4436"
            ]
          },
          "metadata": {},
          "execution_count": 71
        }
      ]
    },
    {
      "cell_type": "code",
      "source": [
        "# Calculando a média entre o valor no índice 'elemento_md' e o próximo valor\n",
        "round((dados_nordeste['total_compra'].iloc[elemento_md - 1] + dados_nordeste['total_compra'].iloc[elemento_md]) / 2,2)"
      ],
      "metadata": {
        "id": "LhyuApCtj5UJ",
        "colab": {
          "base_uri": "https://localhost:8080/"
        },
        "outputId": "4c169e3d-7a46-4a7d-95c6-cc526040e32f"
      },
      "execution_count": null,
      "outputs": [
        {
          "output_type": "execute_result",
          "data": {
            "text/plain": [
              "np.float64(2989.62)"
            ]
          },
          "metadata": {},
          "execution_count": 72
        }
      ]
    },
    {
      "cell_type": "code",
      "source": [
        "dados_nordeste.total_compra.median()"
      ],
      "metadata": {
        "id": "6JCffF2Kj5Pg",
        "colab": {
          "base_uri": "https://localhost:8080/"
        },
        "outputId": "3b07c69b-03bd-44bb-da2b-6c89dcc3098c"
      },
      "execution_count": null,
      "outputs": [
        {
          "output_type": "execute_result",
          "data": {
            "text/plain": [
              "2989.62"
            ]
          },
          "metadata": {},
          "execution_count": 73
        }
      ]
    },
    {
      "cell_type": "markdown",
      "source": [
        "##### **Usando a função `median()`**"
      ],
      "metadata": {
        "id": "Y8Lb4RpO7Rlx"
      }
    },
    {
      "cell_type": "code",
      "source": [
        "dados_nordeste.total_compra.mean()"
      ],
      "metadata": {
        "id": "BI2m6lP1j0SN",
        "colab": {
          "base_uri": "https://localhost:8080/"
        },
        "outputId": "37420c19-2cd6-4451-b021-19f4320f452c"
      },
      "execution_count": null,
      "outputs": [
        {
          "output_type": "execute_result",
          "data": {
            "text/plain": [
              "np.float64(3969.225537646528)"
            ]
          },
          "metadata": {},
          "execution_count": 74
        }
      ]
    },
    {
      "cell_type": "code",
      "source": [
        "sns.histplot(dados_nordeste.total_compra, bins=30)\n",
        "plt.show()"
      ],
      "metadata": {
        "id": "JUY8KyNHj0OF",
        "colab": {
          "base_uri": "https://localhost:8080/",
          "height": 450
        },
        "outputId": "e7a3e9eb-d93a-4378-b656-887a69ab2014"
      },
      "execution_count": null,
      "outputs": [
        {
          "output_type": "display_data",
          "data": {
            "text/plain": [
              "<Figure size 640x480 with 1 Axes>"
            ],
            "image/png": "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\n"
          },
          "metadata": {}
        }
      ]
    },
    {
      "cell_type": "markdown",
      "source": [
        "#### ***Por que usar a mediana ao invés da média neste caso?***\n",
        "\n",
        "Porque a **média** pode ser influenciada por valores extremos, enquanto a **mediana** reflete o ponto central das vendas, oferecendo uma medida de tendência central mais adequada em casos de dados assimétricos.\n",
        "\n",
        "A mediana indica aqui que metade dos clientes gasta até, aproximadamente, R\\$ 2.990,00 em eletrônicos, enquanto a média (R$ 3.970,00) sugere que há vendas bastante altas puxando o valor médio para cima.\n",
        "\n",
        "---\n",
        "\n"
      ],
      "metadata": {
        "id": "tWyxUtqq7UYq"
      }
    },
    {
      "cell_type": "markdown",
      "source": [
        "##### **Visualizando diferença graficamente**\n",
        "\n",
        "Para visualizar essa discrepância entre os dados, vamos criar um gráfico chamado **histograma**. Ele é uma espécie de gráfico de barras que demonstra uma distribuição de frequências.\n",
        "\n",
        "No histograma, a base de cada uma das barras representa uma classe e a altura representa a quantidade ou frequência absoluta com que o valor de cada classe ocorre."
      ],
      "metadata": {
        "id": "338fE8qL7WGa"
      }
    },
    {
      "cell_type": "code",
      "source": [],
      "metadata": {
        "id": "SuOptAnsj2p9"
      },
      "execution_count": null,
      "outputs": []
    },
    {
      "cell_type": "markdown",
      "source": [
        "Como os dados de vendas de eletrônicos tiveram valores muito altos, o que elevou a média para **uma diferença de quase R$1.000,00** em relação à mediana, a mediana oferece uma métrica mais confiável para entender o comportamento típico do consumidor.\n",
        "\n",
        "Neste caso, a mediana seria o ideal para reportar ao time de vendas como valor esperado de compra das pessoas clientes da empresa na Região Nordeste para produtos eletrônicos.\n",
        "\n",
        "Essa informação pode auxiliar em estratégias de vendas como, por exemplo:\n",
        "\n",
        "1. Criar promoções em produtos na faixa da mediana para atrair mais consumidores \"típicos\".\n",
        "2. Destacar os produtos de alto valor nas campanhas de marketing para atingir clientes dispostos a gastar mais."
      ],
      "metadata": {
        "id": "6qKzxqOa7ZPd"
      }
    },
    {
      "cell_type": "markdown",
      "source": [
        "Como desafio, que tal você analisar também as medianas para os diferentes sexos biológicos?"
      ],
      "metadata": {
        "id": "Xr64dC5d7bL0"
      }
    },
    {
      "cell_type": "markdown",
      "source": [
        "## **3.3 Identificando os valores mais frequentes**\n",
        "\n",
        "---\n",
        "\n"
      ],
      "metadata": {
        "id": "I_hLmh_dMarM"
      }
    },
    {
      "cell_type": "markdown",
      "source": [
        "### <font color=\"#E23155\" face=\"Verdana\">Demanda 6: Campanha promocional de livros</font>"
      ],
      "metadata": {
        "id": "rukYid-iMcTO"
      }
    },
    {
      "cell_type": "markdown",
      "source": [
        "A equipe de marketing e vendas da empresa em que estamos prestando consultoria, está planejando uma nova campanha promocional de \"Pague X e Leve Y Livros\". Para definir a quantidade de livros a ofertar no pacote, eles decidiram basear-se na quantidade de livros mais frequentemente comprada pelos clientes. Isso permite criar uma promoção direcionada ao comportamento mais comum dos consumidores.\n",
        "\n",
        "Precisamos então identificar qual ou quais quantidades de livro são mais frequentes para a campanha, maximizando a relevância e atratividade da promoção.\n"
      ],
      "metadata": {
        "id": "90VZ90o98Jbr"
      }
    },
    {
      "cell_type": "markdown",
      "source": [
        "### **Moda ($M_o$)**\n",
        "\n",
        "A **moda** representa o valor mais frequente de um conjunto de dados. Para obtermos a moda, basta observar a frequência com que os valores aparecem no conjunto de dados.\n",
        "\n",
        "Esta medida é bastante utilizada para dados qualitativos, mas também tem aplicações em dados numéricos como em nosso exemplo."
      ],
      "metadata": {
        "id": "D8xb8DsM8LWc"
      }
    },
    {
      "cell_type": "markdown",
      "source": [
        "### <font color=\"#E23155\" face=\"Verdana\">Solução:</font>"
      ],
      "metadata": {
        "id": "ZD5pcjT_8NWD"
      }
    },
    {
      "cell_type": "code",
      "source": [
        "df['regiao_cliente'].value_counts()"
      ],
      "metadata": {
        "id": "xf0LLRmcj8fC",
        "colab": {
          "base_uri": "https://localhost:8080/",
          "height": 272
        },
        "outputId": "ee23c012-d720-4f76-d4d4-0d776af723e9"
      },
      "execution_count": null,
      "outputs": [
        {
          "output_type": "execute_result",
          "data": {
            "text/plain": [
              "regiao_cliente\n",
              "Sudeste         64603\n",
              "Nordeste        49567\n",
              "Sul             36602\n",
              "Centro-Oeste    31567\n",
              "Norte           17661\n",
              "Name: count, dtype: int64"
            ],
            "text/html": [
              "<div>\n",
              "<style scoped>\n",
              "    .dataframe tbody tr th:only-of-type {\n",
              "        vertical-align: middle;\n",
              "    }\n",
              "\n",
              "    .dataframe tbody tr th {\n",
              "        vertical-align: top;\n",
              "    }\n",
              "\n",
              "    .dataframe thead th {\n",
              "        text-align: right;\n",
              "    }\n",
              "</style>\n",
              "<table border=\"1\" class=\"dataframe\">\n",
              "  <thead>\n",
              "    <tr style=\"text-align: right;\">\n",
              "      <th></th>\n",
              "      <th>count</th>\n",
              "    </tr>\n",
              "    <tr>\n",
              "      <th>regiao_cliente</th>\n",
              "      <th></th>\n",
              "    </tr>\n",
              "  </thead>\n",
              "  <tbody>\n",
              "    <tr>\n",
              "      <th>Sudeste</th>\n",
              "      <td>64603</td>\n",
              "    </tr>\n",
              "    <tr>\n",
              "      <th>Nordeste</th>\n",
              "      <td>49567</td>\n",
              "    </tr>\n",
              "    <tr>\n",
              "      <th>Sul</th>\n",
              "      <td>36602</td>\n",
              "    </tr>\n",
              "    <tr>\n",
              "      <th>Centro-Oeste</th>\n",
              "      <td>31567</td>\n",
              "    </tr>\n",
              "    <tr>\n",
              "      <th>Norte</th>\n",
              "      <td>17661</td>\n",
              "    </tr>\n",
              "  </tbody>\n",
              "</table>\n",
              "</div><br><label><b>dtype:</b> int64</label>"
            ]
          },
          "metadata": {},
          "execution_count": 76
        }
      ]
    },
    {
      "cell_type": "markdown",
      "source": [
        "Existem $n$ formas de encontrar a moda de uma variável. Em dados qualitativos, podemos contar, por exemplo, as ocorrências e pegar a que mais se repete. Já fizemos isso por meio das distribuições de frequência para uma variável."
      ],
      "metadata": {
        "id": "xZqpx8Om8PXh"
      }
    },
    {
      "cell_type": "code",
      "source": [
        "dados_filtrados = df[df['categoria_produto'] == 'Livros']\n",
        "dados_filtrados.head()"
      ],
      "metadata": {
        "id": "dsiCNIj9j9ud",
        "colab": {
          "base_uri": "https://localhost:8080/",
          "height": 293
        },
        "outputId": "fc8a733a-a13d-458e-99a3-c769b9c65057"
      },
      "execution_count": null,
      "outputs": [
        {
          "output_type": "execute_result",
          "data": {
            "text/plain": [
              "                               id_compra sexo_biologico  idade_cliente  \\\n",
              "11  b0494b41-df5b-488f-b305-43dda2916737       Feminino             24   \n",
              "60  7c1da24d-871d-4a84-a21b-b25ad422676a      Masculino             44   \n",
              "61  7dd0a745-207a-41bc-a3bf-c5ff6e1cd274      Masculino             47   \n",
              "83  fa44d7e6-e17b-4fef-8326-e9b3035699e5      Masculino             35   \n",
              "92  399a3765-c43e-434f-b9eb-8cb7eb4a21ff       Feminino             26   \n",
              "\n",
              "   regiao_cliente categoria_produto  preco_unitario  quantidade  total_compra  \\\n",
              "11   Centro-Oeste            Livros          300.07           2        600.14   \n",
              "60        Sudeste            Livros          177.15           2        354.30   \n",
              "61        Sudeste            Livros          354.72           1        354.72   \n",
              "83            Sul            Livros          116.94           3        350.82   \n",
              "92            Sul            Livros          129.11           4        516.44   \n",
              "\n",
              "    tempo_entrega  avaliacao avaliacao_indicador  \n",
              "11             10          4                 Bom  \n",
              "60             11          1             Péssimo  \n",
              "61              9          3             Regular  \n",
              "83             16          3             Regular  \n",
              "92             10          4                 Bom  "
            ],
            "text/html": [
              "\n",
              "  <div id=\"df-006a0e79-800c-452a-807b-da94653a1347\" class=\"colab-df-container\">\n",
              "    <div>\n",
              "<style scoped>\n",
              "    .dataframe tbody tr th:only-of-type {\n",
              "        vertical-align: middle;\n",
              "    }\n",
              "\n",
              "    .dataframe tbody tr th {\n",
              "        vertical-align: top;\n",
              "    }\n",
              "\n",
              "    .dataframe thead th {\n",
              "        text-align: right;\n",
              "    }\n",
              "</style>\n",
              "<table border=\"1\" class=\"dataframe\">\n",
              "  <thead>\n",
              "    <tr style=\"text-align: right;\">\n",
              "      <th></th>\n",
              "      <th>id_compra</th>\n",
              "      <th>sexo_biologico</th>\n",
              "      <th>idade_cliente</th>\n",
              "      <th>regiao_cliente</th>\n",
              "      <th>categoria_produto</th>\n",
              "      <th>preco_unitario</th>\n",
              "      <th>quantidade</th>\n",
              "      <th>total_compra</th>\n",
              "      <th>tempo_entrega</th>\n",
              "      <th>avaliacao</th>\n",
              "      <th>avaliacao_indicador</th>\n",
              "    </tr>\n",
              "  </thead>\n",
              "  <tbody>\n",
              "    <tr>\n",
              "      <th>11</th>\n",
              "      <td>b0494b41-df5b-488f-b305-43dda2916737</td>\n",
              "      <td>Feminino</td>\n",
              "      <td>24</td>\n",
              "      <td>Centro-Oeste</td>\n",
              "      <td>Livros</td>\n",
              "      <td>300.07</td>\n",
              "      <td>2</td>\n",
              "      <td>600.14</td>\n",
              "      <td>10</td>\n",
              "      <td>4</td>\n",
              "      <td>Bom</td>\n",
              "    </tr>\n",
              "    <tr>\n",
              "      <th>60</th>\n",
              "      <td>7c1da24d-871d-4a84-a21b-b25ad422676a</td>\n",
              "      <td>Masculino</td>\n",
              "      <td>44</td>\n",
              "      <td>Sudeste</td>\n",
              "      <td>Livros</td>\n",
              "      <td>177.15</td>\n",
              "      <td>2</td>\n",
              "      <td>354.30</td>\n",
              "      <td>11</td>\n",
              "      <td>1</td>\n",
              "      <td>Péssimo</td>\n",
              "    </tr>\n",
              "    <tr>\n",
              "      <th>61</th>\n",
              "      <td>7dd0a745-207a-41bc-a3bf-c5ff6e1cd274</td>\n",
              "      <td>Masculino</td>\n",
              "      <td>47</td>\n",
              "      <td>Sudeste</td>\n",
              "      <td>Livros</td>\n",
              "      <td>354.72</td>\n",
              "      <td>1</td>\n",
              "      <td>354.72</td>\n",
              "      <td>9</td>\n",
              "      <td>3</td>\n",
              "      <td>Regular</td>\n",
              "    </tr>\n",
              "    <tr>\n",
              "      <th>83</th>\n",
              "      <td>fa44d7e6-e17b-4fef-8326-e9b3035699e5</td>\n",
              "      <td>Masculino</td>\n",
              "      <td>35</td>\n",
              "      <td>Sul</td>\n",
              "      <td>Livros</td>\n",
              "      <td>116.94</td>\n",
              "      <td>3</td>\n",
              "      <td>350.82</td>\n",
              "      <td>16</td>\n",
              "      <td>3</td>\n",
              "      <td>Regular</td>\n",
              "    </tr>\n",
              "    <tr>\n",
              "      <th>92</th>\n",
              "      <td>399a3765-c43e-434f-b9eb-8cb7eb4a21ff</td>\n",
              "      <td>Feminino</td>\n",
              "      <td>26</td>\n",
              "      <td>Sul</td>\n",
              "      <td>Livros</td>\n",
              "      <td>129.11</td>\n",
              "      <td>4</td>\n",
              "      <td>516.44</td>\n",
              "      <td>10</td>\n",
              "      <td>4</td>\n",
              "      <td>Bom</td>\n",
              "    </tr>\n",
              "  </tbody>\n",
              "</table>\n",
              "</div>\n",
              "    <div class=\"colab-df-buttons\">\n",
              "\n",
              "  <div class=\"colab-df-container\">\n",
              "    <button class=\"colab-df-convert\" onclick=\"convertToInteractive('df-006a0e79-800c-452a-807b-da94653a1347')\"\n",
              "            title=\"Convert this dataframe to an interactive table.\"\n",
              "            style=\"display:none;\">\n",
              "\n",
              "  <svg xmlns=\"http://www.w3.org/2000/svg\" height=\"24px\" viewBox=\"0 -960 960 960\">\n",
              "    <path d=\"M120-120v-720h720v720H120Zm60-500h600v-160H180v160Zm220 220h160v-160H400v160Zm0 220h160v-160H400v160ZM180-400h160v-160H180v160Zm440 0h160v-160H620v160ZM180-180h160v-160H180v160Zm440 0h160v-160H620v160Z\"/>\n",
              "  </svg>\n",
              "    </button>\n",
              "\n",
              "  <style>\n",
              "    .colab-df-container {\n",
              "      display:flex;\n",
              "      gap: 12px;\n",
              "    }\n",
              "\n",
              "    .colab-df-convert {\n",
              "      background-color: #E8F0FE;\n",
              "      border: none;\n",
              "      border-radius: 50%;\n",
              "      cursor: pointer;\n",
              "      display: none;\n",
              "      fill: #1967D2;\n",
              "      height: 32px;\n",
              "      padding: 0 0 0 0;\n",
              "      width: 32px;\n",
              "    }\n",
              "\n",
              "    .colab-df-convert:hover {\n",
              "      background-color: #E2EBFA;\n",
              "      box-shadow: 0px 1px 2px rgba(60, 64, 67, 0.3), 0px 1px 3px 1px rgba(60, 64, 67, 0.15);\n",
              "      fill: #174EA6;\n",
              "    }\n",
              "\n",
              "    .colab-df-buttons div {\n",
              "      margin-bottom: 4px;\n",
              "    }\n",
              "\n",
              "    [theme=dark] .colab-df-convert {\n",
              "      background-color: #3B4455;\n",
              "      fill: #D2E3FC;\n",
              "    }\n",
              "\n",
              "    [theme=dark] .colab-df-convert:hover {\n",
              "      background-color: #434B5C;\n",
              "      box-shadow: 0px 1px 3px 1px rgba(0, 0, 0, 0.15);\n",
              "      filter: drop-shadow(0px 1px 2px rgba(0, 0, 0, 0.3));\n",
              "      fill: #FFFFFF;\n",
              "    }\n",
              "  </style>\n",
              "\n",
              "    <script>\n",
              "      const buttonEl =\n",
              "        document.querySelector('#df-006a0e79-800c-452a-807b-da94653a1347 button.colab-df-convert');\n",
              "      buttonEl.style.display =\n",
              "        google.colab.kernel.accessAllowed ? 'block' : 'none';\n",
              "\n",
              "      async function convertToInteractive(key) {\n",
              "        const element = document.querySelector('#df-006a0e79-800c-452a-807b-da94653a1347');\n",
              "        const dataTable =\n",
              "          await google.colab.kernel.invokeFunction('convertToInteractive',\n",
              "                                                    [key], {});\n",
              "        if (!dataTable) return;\n",
              "\n",
              "        const docLinkHtml = 'Like what you see? Visit the ' +\n",
              "          '<a target=\"_blank\" href=https://colab.research.google.com/notebooks/data_table.ipynb>data table notebook</a>'\n",
              "          + ' to learn more about interactive tables.';\n",
              "        element.innerHTML = '';\n",
              "        dataTable['output_type'] = 'display_data';\n",
              "        await google.colab.output.renderOutput(dataTable, element);\n",
              "        const docLink = document.createElement('div');\n",
              "        docLink.innerHTML = docLinkHtml;\n",
              "        element.appendChild(docLink);\n",
              "      }\n",
              "    </script>\n",
              "  </div>\n",
              "\n",
              "\n",
              "    <div id=\"df-0cd0cbc6-43fd-4b9d-8fd4-73e4001fe594\">\n",
              "      <button class=\"colab-df-quickchart\" onclick=\"quickchart('df-0cd0cbc6-43fd-4b9d-8fd4-73e4001fe594')\"\n",
              "                title=\"Suggest charts\"\n",
              "                style=\"display:none;\">\n",
              "\n",
              "<svg xmlns=\"http://www.w3.org/2000/svg\" height=\"24px\"viewBox=\"0 0 24 24\"\n",
              "     width=\"24px\">\n",
              "    <g>\n",
              "        <path d=\"M19 3H5c-1.1 0-2 .9-2 2v14c0 1.1.9 2 2 2h14c1.1 0 2-.9 2-2V5c0-1.1-.9-2-2-2zM9 17H7v-7h2v7zm4 0h-2V7h2v10zm4 0h-2v-4h2v4z\"/>\n",
              "    </g>\n",
              "</svg>\n",
              "      </button>\n",
              "\n",
              "<style>\n",
              "  .colab-df-quickchart {\n",
              "      --bg-color: #E8F0FE;\n",
              "      --fill-color: #1967D2;\n",
              "      --hover-bg-color: #E2EBFA;\n",
              "      --hover-fill-color: #174EA6;\n",
              "      --disabled-fill-color: #AAA;\n",
              "      --disabled-bg-color: #DDD;\n",
              "  }\n",
              "\n",
              "  [theme=dark] .colab-df-quickchart {\n",
              "      --bg-color: #3B4455;\n",
              "      --fill-color: #D2E3FC;\n",
              "      --hover-bg-color: #434B5C;\n",
              "      --hover-fill-color: #FFFFFF;\n",
              "      --disabled-bg-color: #3B4455;\n",
              "      --disabled-fill-color: #666;\n",
              "  }\n",
              "\n",
              "  .colab-df-quickchart {\n",
              "    background-color: var(--bg-color);\n",
              "    border: none;\n",
              "    border-radius: 50%;\n",
              "    cursor: pointer;\n",
              "    display: none;\n",
              "    fill: var(--fill-color);\n",
              "    height: 32px;\n",
              "    padding: 0;\n",
              "    width: 32px;\n",
              "  }\n",
              "\n",
              "  .colab-df-quickchart:hover {\n",
              "    background-color: var(--hover-bg-color);\n",
              "    box-shadow: 0 1px 2px rgba(60, 64, 67, 0.3), 0 1px 3px 1px rgba(60, 64, 67, 0.15);\n",
              "    fill: var(--button-hover-fill-color);\n",
              "  }\n",
              "\n",
              "  .colab-df-quickchart-complete:disabled,\n",
              "  .colab-df-quickchart-complete:disabled:hover {\n",
              "    background-color: var(--disabled-bg-color);\n",
              "    fill: var(--disabled-fill-color);\n",
              "    box-shadow: none;\n",
              "  }\n",
              "\n",
              "  .colab-df-spinner {\n",
              "    border: 2px solid var(--fill-color);\n",
              "    border-color: transparent;\n",
              "    border-bottom-color: var(--fill-color);\n",
              "    animation:\n",
              "      spin 1s steps(1) infinite;\n",
              "  }\n",
              "\n",
              "  @keyframes spin {\n",
              "    0% {\n",
              "      border-color: transparent;\n",
              "      border-bottom-color: var(--fill-color);\n",
              "      border-left-color: var(--fill-color);\n",
              "    }\n",
              "    20% {\n",
              "      border-color: transparent;\n",
              "      border-left-color: var(--fill-color);\n",
              "      border-top-color: var(--fill-color);\n",
              "    }\n",
              "    30% {\n",
              "      border-color: transparent;\n",
              "      border-left-color: var(--fill-color);\n",
              "      border-top-color: var(--fill-color);\n",
              "      border-right-color: var(--fill-color);\n",
              "    }\n",
              "    40% {\n",
              "      border-color: transparent;\n",
              "      border-right-color: var(--fill-color);\n",
              "      border-top-color: var(--fill-color);\n",
              "    }\n",
              "    60% {\n",
              "      border-color: transparent;\n",
              "      border-right-color: var(--fill-color);\n",
              "    }\n",
              "    80% {\n",
              "      border-color: transparent;\n",
              "      border-right-color: var(--fill-color);\n",
              "      border-bottom-color: var(--fill-color);\n",
              "    }\n",
              "    90% {\n",
              "      border-color: transparent;\n",
              "      border-bottom-color: var(--fill-color);\n",
              "    }\n",
              "  }\n",
              "</style>\n",
              "\n",
              "      <script>\n",
              "        async function quickchart(key) {\n",
              "          const quickchartButtonEl =\n",
              "            document.querySelector('#' + key + ' button');\n",
              "          quickchartButtonEl.disabled = true;  // To prevent multiple clicks.\n",
              "          quickchartButtonEl.classList.add('colab-df-spinner');\n",
              "          try {\n",
              "            const charts = await google.colab.kernel.invokeFunction(\n",
              "                'suggestCharts', [key], {});\n",
              "          } catch (error) {\n",
              "            console.error('Error during call to suggestCharts:', error);\n",
              "          }\n",
              "          quickchartButtonEl.classList.remove('colab-df-spinner');\n",
              "          quickchartButtonEl.classList.add('colab-df-quickchart-complete');\n",
              "        }\n",
              "        (() => {\n",
              "          let quickchartButtonEl =\n",
              "            document.querySelector('#df-0cd0cbc6-43fd-4b9d-8fd4-73e4001fe594 button');\n",
              "          quickchartButtonEl.style.display =\n",
              "            google.colab.kernel.accessAllowed ? 'block' : 'none';\n",
              "        })();\n",
              "      </script>\n",
              "    </div>\n",
              "\n",
              "    </div>\n",
              "  </div>\n"
            ],
            "application/vnd.google.colaboratory.intrinsic+json": {
              "type": "dataframe",
              "variable_name": "dados_filtrados",
              "summary": "{\n  \"name\": \"dados_filtrados\",\n  \"rows\": 13790,\n  \"fields\": [\n    {\n      \"column\": \"id_compra\",\n      \"properties\": {\n        \"dtype\": \"string\",\n        \"num_unique_values\": 13790,\n        \"samples\": [\n          \"59b1cc97-e09b-48ae-b649-e83eff05b746\",\n          \"732fa6a7-b9b0-48fb-a628-69c98fe8acdd\",\n          \"d1b1bd17-4537-40f5-9021-fb8d6a673c42\"\n        ],\n        \"semantic_type\": \"\",\n        \"description\": \"\"\n      }\n    },\n    {\n      \"column\": \"sexo_biologico\",\n      \"properties\": {\n        \"dtype\": \"category\",\n        \"num_unique_values\": 2,\n        \"samples\": [\n          \"Masculino\",\n          \"Feminino\"\n        ],\n        \"semantic_type\": \"\",\n        \"description\": \"\"\n      }\n    },\n    {\n      \"column\": \"idade_cliente\",\n      \"properties\": {\n        \"dtype\": \"number\",\n        \"std\": 7,\n        \"min\": 15,\n        \"max\": 60,\n        \"num_unique_values\": 46,\n        \"samples\": [\n          56,\n          23\n        ],\n        \"semantic_type\": \"\",\n        \"description\": \"\"\n      }\n    },\n    {\n      \"column\": \"regiao_cliente\",\n      \"properties\": {\n        \"dtype\": \"category\",\n        \"num_unique_values\": 5,\n        \"samples\": [\n          \"Sudeste\",\n          \"Norte\"\n        ],\n        \"semantic_type\": \"\",\n        \"description\": \"\"\n      }\n    },\n    {\n      \"column\": \"categoria_produto\",\n      \"properties\": {\n        \"dtype\": \"category\",\n        \"num_unique_values\": 1,\n        \"samples\": [\n          \"Livros\"\n        ],\n        \"semantic_type\": \"\",\n        \"description\": \"\"\n      }\n    },\n    {\n      \"column\": \"preco_unitario\",\n      \"properties\": {\n        \"dtype\": \"number\",\n        \"std\": 117.33685935699674,\n        \"min\": 10.14,\n        \"max\": 497.84,\n        \"num_unique_values\": 11823,\n        \"samples\": [\n          128.68\n        ],\n        \"semantic_type\": \"\",\n        \"description\": \"\"\n      }\n    },\n    {\n      \"column\": \"quantidade\",\n      \"properties\": {\n        \"dtype\": \"number\",\n        \"std\": 2,\n        \"min\": 1,\n        \"max\": 10,\n        \"num_unique_values\": 10,\n        \"samples\": [\n          7\n        ],\n        \"semantic_type\": \"\",\n        \"description\": \"\"\n      }\n    },\n    {\n      \"column\": \"total_compra\",\n      \"properties\": {\n        \"dtype\": \"number\",\n        \"std\": 826.6376955014642,\n        \"min\": 11.1,\n        \"max\": 4923.3,\n        \"num_unique_values\": 13074,\n        \"samples\": [\n          1053.08\n        ],\n        \"semantic_type\": \"\",\n        \"description\": \"\"\n      }\n    },\n    {\n      \"column\": \"tempo_entrega\",\n      \"properties\": {\n        \"dtype\": \"number\",\n        \"std\": 2,\n        \"min\": 1,\n        \"max\": 20,\n        \"num_unique_values\": 20,\n        \"samples\": [\n          10\n        ],\n        \"semantic_type\": \"\",\n        \"description\": \"\"\n      }\n    },\n    {\n      \"column\": \"avaliacao\",\n      \"properties\": {\n        \"dtype\": \"number\",\n        \"std\": 1,\n        \"min\": 1,\n        \"max\": 5,\n        \"num_unique_values\": 5,\n        \"samples\": [\n          1\n        ],\n        \"semantic_type\": \"\",\n        \"description\": \"\"\n      }\n    },\n    {\n      \"column\": \"avaliacao_indicador\",\n      \"properties\": {\n        \"dtype\": \"category\",\n        \"num_unique_values\": 5,\n        \"samples\": [\n          \"P\\u00e9ssimo\"\n        ],\n        \"semantic_type\": \"\",\n        \"description\": \"\"\n      }\n    }\n  ]\n}"
            }
          },
          "metadata": {},
          "execution_count": 77
        }
      ]
    },
    {
      "cell_type": "markdown",
      "source": [
        "#### ***Quais cuidados devemos ter com a moda?***\n",
        "\n",
        "Por ser o valor mais frequente em um conjunto de dados, em dados numéricos é possível que haja repetições e, por isso, teremos mais de 1 moda (multimodalidade).\n",
        "\n",
        "É importante decidir como lidar com esses casos para atingir o comportamento desejado.\n"
      ],
      "metadata": {
        "id": "SxQqGkOI8SlR"
      }
    },
    {
      "cell_type": "markdown",
      "source": [
        "A outra forma, utilizando dados quantitativos e/ou qualitativos é por meio também da contagem para cada ocorrência, mas filtrando os máximos ao final, para verificar se a amostra possui uma única moda ou mais."
      ],
      "metadata": {
        "id": "pMouuOxs8USS"
      }
    },
    {
      "cell_type": "code",
      "source": [
        "moda = dados_filtrados.quantidade.mode()\n",
        "moda"
      ],
      "metadata": {
        "id": "7v_k3ekFj_yp",
        "colab": {
          "base_uri": "https://localhost:8080/",
          "height": 147
        },
        "outputId": "c4e91fda-67a2-4fba-80b7-fce808a2d37b"
      },
      "execution_count": null,
      "outputs": [
        {
          "output_type": "execute_result",
          "data": {
            "text/plain": [
              "0    2\n",
              "1    4\n",
              "Name: quantidade, dtype: int64"
            ],
            "text/html": [
              "<div>\n",
              "<style scoped>\n",
              "    .dataframe tbody tr th:only-of-type {\n",
              "        vertical-align: middle;\n",
              "    }\n",
              "\n",
              "    .dataframe tbody tr th {\n",
              "        vertical-align: top;\n",
              "    }\n",
              "\n",
              "    .dataframe thead th {\n",
              "        text-align: right;\n",
              "    }\n",
              "</style>\n",
              "<table border=\"1\" class=\"dataframe\">\n",
              "  <thead>\n",
              "    <tr style=\"text-align: right;\">\n",
              "      <th></th>\n",
              "      <th>quantidade</th>\n",
              "    </tr>\n",
              "  </thead>\n",
              "  <tbody>\n",
              "    <tr>\n",
              "      <th>0</th>\n",
              "      <td>2</td>\n",
              "    </tr>\n",
              "    <tr>\n",
              "      <th>1</th>\n",
              "      <td>4</td>\n",
              "    </tr>\n",
              "  </tbody>\n",
              "</table>\n",
              "</div><br><label><b>dtype:</b> int64</label>"
            ]
          },
          "metadata": {},
          "execution_count": 78
        }
      ]
    },
    {
      "cell_type": "markdown",
      "source": [
        "Conseguimos observar aqui que temos **2 modas** na quantidade de livros vendidos (**bimodal**) e, portanto, podemos reportar esse resultado ficando a cargo da empresa qual campanha realizar.\n",
        "\n",
        "Será que vale a pena para menos livros ou para mais livros? Ou seria melhor 2 campanhas como \"Pague 2 e Leve 3\" e \"Pague 4 e leve 6\", verificando qual converte mais clientes e gera mais vendas?"
      ],
      "metadata": {
        "id": "vlZxi5ot8WN3"
      }
    },
    {
      "cell_type": "markdown",
      "source": [
        "## **3.4 Compreendendo a relação entre média, mediana e moda**\n",
        "\n",
        "---\n"
      ],
      "metadata": {
        "id": "vaK7ctdMMjSn"
      }
    },
    {
      "cell_type": "markdown",
      "source": [
        "### <font color=\"#E23155\" face=\"Verdana\">Demanda 7: Investigando as avaliações e sua relação com o tempo de entrega</font>"
      ],
      "metadata": {
        "id": "-Nl4kK-MMk2T"
      }
    },
    {
      "cell_type": "markdown",
      "source": [
        "A equipe de marketing e vendas da empresa recebeu feedbacks de clientes sobre o tempo de entrega. Eles notaram que avaliações \"Ótima\" (nota 5) podem ter certa  relação com o tempo de entrega.\n",
        "\n",
        "A hipótese é que clientes mais satisfeitos (nota 5) tendem a ter um tempo de entrega mais curto, mas isso só pode ser confirmado analisando os dados.\n",
        "Com isso, queremos explorar:\n",
        "* As distribuições do tempo de entrega e o que as medidas de tendência central podem nos informar.\n",
        "* Se o comportamento das avaliações nota 5 realmente indica que entregas mais rápidas são mais apreciadas pelos clientes.\n"
      ],
      "metadata": {
        "id": "sf4pC1Xf8jEh"
      }
    },
    {
      "cell_type": "markdown",
      "source": [
        "### <font color=\"#E23155\" face=\"Verdana\">Solução:</font>"
      ],
      "metadata": {
        "id": "cTYBcvvP8l7g"
      }
    },
    {
      "cell_type": "markdown",
      "source": [
        "Faremos uma análise em duas etapas:\n",
        "\n",
        "1. **Distribuição do tempo de entrega:** calcularemos média, mediana e moda e visualizaremos a curva de densidade.\n",
        "2. **Distribuição para avaliações nota 5:** repetiremos o processo para o caso, comparando os resultados com a distribuição geral."
      ],
      "metadata": {
        "id": "vDbGJoQg8nXK"
      }
    },
    {
      "cell_type": "markdown",
      "source": [
        "### Relação entre média, mediana e moda:\n",
        "\n",
        "Investigar a relação entre as medidas de tendência central pode ser bastante útil para identificar se uma variável é simétrica ou assimétrica, se precisa de algum tipo de transformação ou se é uma forte candidata a ter \"outliers\".\n",
        "\n",
        "Abaixo, temos 3 tipos de comportamentos e como as estatísticas se posicionam em cada uma delas:\n",
        "\n",
        "![texto do link](https://github.com/afonsosr2/estatistica-r-frequencias-medidas/blob/main/imagens/outros/relacao_media_mediana_moda.png?raw=true)\n"
      ],
      "metadata": {
        "id": "5_Ue_sy38o-Y"
      }
    },
    {
      "cell_type": "markdown",
      "source": [
        "Vamos começar com a distribuição do tempo de entrega. Vou primeiro construir um histograma com uma curva de densidade, semelhante a um dos exemplos de cima para observar o comportamento dos tempos de entrega da empresa."
      ],
      "metadata": {
        "id": "0iw9Fy0E8qn8"
      }
    },
    {
      "cell_type": "code",
      "source": [
        "sns.histplot(data = df, x='tempo_entrega', kde=True, bins=21, kde_kws={'bw_adjust':2})\n",
        "plt.show()"
      ],
      "metadata": {
        "id": "dDPVmhrxkEJA",
        "colab": {
          "base_uri": "https://localhost:8080/",
          "height": 449
        },
        "outputId": "2bbff590-a37e-4eb8-d037-0401de04d614"
      },
      "execution_count": null,
      "outputs": [
        {
          "output_type": "display_data",
          "data": {
            "text/plain": [
              "<Figure size 640x480 with 1 Axes>"
            ],
            "image/png": "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\n"
          },
          "metadata": {}
        }
      ]
    },
    {
      "cell_type": "code",
      "source": [
        "df.tempo_entrega.mode()[0]"
      ],
      "metadata": {
        "id": "Dw3FccRTkEAc",
        "colab": {
          "base_uri": "https://localhost:8080/"
        },
        "outputId": "1a966431-edf7-4b75-e44e-c8cc626628cc"
      },
      "execution_count": null,
      "outputs": [
        {
          "output_type": "execute_result",
          "data": {
            "text/plain": [
              "np.int64(10)"
            ]
          },
          "metadata": {},
          "execution_count": 83
        }
      ]
    },
    {
      "cell_type": "code",
      "source": [
        "tempo_entrega_resumo = {\n",
        "    'Média': df.tempo_entrega.mean(),\n",
        "    'Mediana': df.tempo_entrega.median(),\n",
        "    'Moda': df.tempo_entrega.mode()[0]\n",
        "}\n",
        "\n",
        "tempo_entrega_resumo\n"
      ],
      "metadata": {
        "id": "hHNi8Vx_kD8H",
        "colab": {
          "base_uri": "https://localhost:8080/"
        },
        "outputId": "cb63ae6d-b313-4e41-846f-e8c22a97da34"
      },
      "execution_count": null,
      "outputs": [
        {
          "output_type": "execute_result",
          "data": {
            "text/plain": [
              "{'Média': np.float64(10.043535), 'Mediana': 10.0, 'Moda': np.int64(10)}"
            ]
          },
          "metadata": {},
          "execution_count": 84
        }
      ]
    },
    {
      "cell_type": "markdown",
      "source": [
        "A análise inicial revelou que o tempo de entrega segue uma **distribuição normal simétrica**.\n",
        "\n",
        "Precisamos agora investigar se a distribuição muda para tempos de entrega com vendas com notas de satisfação 5.\n",
        "\n",
        "Nossa hipótese é que esta distribuição sera apresentada com uma **curva assimétrica à direita**. O que pode sugerir que entregas mais rápidas podem estar relacionadas a maior satisfação do cliente."
      ],
      "metadata": {
        "id": "9Mmzq0tE8tM2"
      }
    },
    {
      "cell_type": "code",
      "source": [
        "dados_nota_5 = df[df['avaliacao'] == 5]\n",
        "dados_nota_5.head()"
      ],
      "metadata": {
        "id": "N1_aN2SCkFQZ",
        "colab": {
          "base_uri": "https://localhost:8080/",
          "height": 293
        },
        "outputId": "86151825-192f-4eac-b229-222627833513"
      },
      "execution_count": null,
      "outputs": [
        {
          "output_type": "execute_result",
          "data": {
            "text/plain": [
              "                              id_compra sexo_biologico  idade_cliente  \\\n",
              "2  d317d7df-1126-42e5-bf4b-0e178bd4e14e       Feminino             36   \n",
              "3  bb99bcf6-b333-493e-9ec2-c39f8695503c       Feminino             21   \n",
              "4  898e4624-84e9-4c41-b181-66d3b7ccfef7      Masculino             31   \n",
              "5  bbbaecc2-2d97-4c02-a69c-77ccfb2c8a26      Masculino             29   \n",
              "6  923d6915-1488-485b-9398-4fbcf7146496      Masculino             44   \n",
              "\n",
              "  regiao_cliente           categoria_produto  preco_unitario  quantidade  \\\n",
              "2        Sudeste                 Eletrônicos          627.46           2   \n",
              "3            Sul                 Eletrônicos         2025.07           8   \n",
              "4   Centro-Oeste      Papelaria e Escritório           99.24           5   \n",
              "5       Nordeste  Beleza e Cuidados Pessoais          131.20           1   \n",
              "6   Centro-Oeste             Casa e Mobílias          909.83           2   \n",
              "\n",
              "   total_compra  tempo_entrega  avaliacao avaliacao_indicador  \n",
              "2       1254.92              8          5               Ótimo  \n",
              "3      16200.56              6          5               Ótimo  \n",
              "4        496.20             13          5               Ótimo  \n",
              "5        131.20             13          5               Ótimo  \n",
              "6       1819.66             14          5               Ótimo  "
            ],
            "text/html": [
              "\n",
              "  <div id=\"df-caa8b332-9625-466e-850a-3a9e1622fa08\" class=\"colab-df-container\">\n",
              "    <div>\n",
              "<style scoped>\n",
              "    .dataframe tbody tr th:only-of-type {\n",
              "        vertical-align: middle;\n",
              "    }\n",
              "\n",
              "    .dataframe tbody tr th {\n",
              "        vertical-align: top;\n",
              "    }\n",
              "\n",
              "    .dataframe thead th {\n",
              "        text-align: right;\n",
              "    }\n",
              "</style>\n",
              "<table border=\"1\" class=\"dataframe\">\n",
              "  <thead>\n",
              "    <tr style=\"text-align: right;\">\n",
              "      <th></th>\n",
              "      <th>id_compra</th>\n",
              "      <th>sexo_biologico</th>\n",
              "      <th>idade_cliente</th>\n",
              "      <th>regiao_cliente</th>\n",
              "      <th>categoria_produto</th>\n",
              "      <th>preco_unitario</th>\n",
              "      <th>quantidade</th>\n",
              "      <th>total_compra</th>\n",
              "      <th>tempo_entrega</th>\n",
              "      <th>avaliacao</th>\n",
              "      <th>avaliacao_indicador</th>\n",
              "    </tr>\n",
              "  </thead>\n",
              "  <tbody>\n",
              "    <tr>\n",
              "      <th>2</th>\n",
              "      <td>d317d7df-1126-42e5-bf4b-0e178bd4e14e</td>\n",
              "      <td>Feminino</td>\n",
              "      <td>36</td>\n",
              "      <td>Sudeste</td>\n",
              "      <td>Eletrônicos</td>\n",
              "      <td>627.46</td>\n",
              "      <td>2</td>\n",
              "      <td>1254.92</td>\n",
              "      <td>8</td>\n",
              "      <td>5</td>\n",
              "      <td>Ótimo</td>\n",
              "    </tr>\n",
              "    <tr>\n",
              "      <th>3</th>\n",
              "      <td>bb99bcf6-b333-493e-9ec2-c39f8695503c</td>\n",
              "      <td>Feminino</td>\n",
              "      <td>21</td>\n",
              "      <td>Sul</td>\n",
              "      <td>Eletrônicos</td>\n",
              "      <td>2025.07</td>\n",
              "      <td>8</td>\n",
              "      <td>16200.56</td>\n",
              "      <td>6</td>\n",
              "      <td>5</td>\n",
              "      <td>Ótimo</td>\n",
              "    </tr>\n",
              "    <tr>\n",
              "      <th>4</th>\n",
              "      <td>898e4624-84e9-4c41-b181-66d3b7ccfef7</td>\n",
              "      <td>Masculino</td>\n",
              "      <td>31</td>\n",
              "      <td>Centro-Oeste</td>\n",
              "      <td>Papelaria e Escritório</td>\n",
              "      <td>99.24</td>\n",
              "      <td>5</td>\n",
              "      <td>496.20</td>\n",
              "      <td>13</td>\n",
              "      <td>5</td>\n",
              "      <td>Ótimo</td>\n",
              "    </tr>\n",
              "    <tr>\n",
              "      <th>5</th>\n",
              "      <td>bbbaecc2-2d97-4c02-a69c-77ccfb2c8a26</td>\n",
              "      <td>Masculino</td>\n",
              "      <td>29</td>\n",
              "      <td>Nordeste</td>\n",
              "      <td>Beleza e Cuidados Pessoais</td>\n",
              "      <td>131.20</td>\n",
              "      <td>1</td>\n",
              "      <td>131.20</td>\n",
              "      <td>13</td>\n",
              "      <td>5</td>\n",
              "      <td>Ótimo</td>\n",
              "    </tr>\n",
              "    <tr>\n",
              "      <th>6</th>\n",
              "      <td>923d6915-1488-485b-9398-4fbcf7146496</td>\n",
              "      <td>Masculino</td>\n",
              "      <td>44</td>\n",
              "      <td>Centro-Oeste</td>\n",
              "      <td>Casa e Mobílias</td>\n",
              "      <td>909.83</td>\n",
              "      <td>2</td>\n",
              "      <td>1819.66</td>\n",
              "      <td>14</td>\n",
              "      <td>5</td>\n",
              "      <td>Ótimo</td>\n",
              "    </tr>\n",
              "  </tbody>\n",
              "</table>\n",
              "</div>\n",
              "    <div class=\"colab-df-buttons\">\n",
              "\n",
              "  <div class=\"colab-df-container\">\n",
              "    <button class=\"colab-df-convert\" onclick=\"convertToInteractive('df-caa8b332-9625-466e-850a-3a9e1622fa08')\"\n",
              "            title=\"Convert this dataframe to an interactive table.\"\n",
              "            style=\"display:none;\">\n",
              "\n",
              "  <svg xmlns=\"http://www.w3.org/2000/svg\" height=\"24px\" viewBox=\"0 -960 960 960\">\n",
              "    <path d=\"M120-120v-720h720v720H120Zm60-500h600v-160H180v160Zm220 220h160v-160H400v160Zm0 220h160v-160H400v160ZM180-400h160v-160H180v160Zm440 0h160v-160H620v160ZM180-180h160v-160H180v160Zm440 0h160v-160H620v160Z\"/>\n",
              "  </svg>\n",
              "    </button>\n",
              "\n",
              "  <style>\n",
              "    .colab-df-container {\n",
              "      display:flex;\n",
              "      gap: 12px;\n",
              "    }\n",
              "\n",
              "    .colab-df-convert {\n",
              "      background-color: #E8F0FE;\n",
              "      border: none;\n",
              "      border-radius: 50%;\n",
              "      cursor: pointer;\n",
              "      display: none;\n",
              "      fill: #1967D2;\n",
              "      height: 32px;\n",
              "      padding: 0 0 0 0;\n",
              "      width: 32px;\n",
              "    }\n",
              "\n",
              "    .colab-df-convert:hover {\n",
              "      background-color: #E2EBFA;\n",
              "      box-shadow: 0px 1px 2px rgba(60, 64, 67, 0.3), 0px 1px 3px 1px rgba(60, 64, 67, 0.15);\n",
              "      fill: #174EA6;\n",
              "    }\n",
              "\n",
              "    .colab-df-buttons div {\n",
              "      margin-bottom: 4px;\n",
              "    }\n",
              "\n",
              "    [theme=dark] .colab-df-convert {\n",
              "      background-color: #3B4455;\n",
              "      fill: #D2E3FC;\n",
              "    }\n",
              "\n",
              "    [theme=dark] .colab-df-convert:hover {\n",
              "      background-color: #434B5C;\n",
              "      box-shadow: 0px 1px 3px 1px rgba(0, 0, 0, 0.15);\n",
              "      filter: drop-shadow(0px 1px 2px rgba(0, 0, 0, 0.3));\n",
              "      fill: #FFFFFF;\n",
              "    }\n",
              "  </style>\n",
              "\n",
              "    <script>\n",
              "      const buttonEl =\n",
              "        document.querySelector('#df-caa8b332-9625-466e-850a-3a9e1622fa08 button.colab-df-convert');\n",
              "      buttonEl.style.display =\n",
              "        google.colab.kernel.accessAllowed ? 'block' : 'none';\n",
              "\n",
              "      async function convertToInteractive(key) {\n",
              "        const element = document.querySelector('#df-caa8b332-9625-466e-850a-3a9e1622fa08');\n",
              "        const dataTable =\n",
              "          await google.colab.kernel.invokeFunction('convertToInteractive',\n",
              "                                                    [key], {});\n",
              "        if (!dataTable) return;\n",
              "\n",
              "        const docLinkHtml = 'Like what you see? Visit the ' +\n",
              "          '<a target=\"_blank\" href=https://colab.research.google.com/notebooks/data_table.ipynb>data table notebook</a>'\n",
              "          + ' to learn more about interactive tables.';\n",
              "        element.innerHTML = '';\n",
              "        dataTable['output_type'] = 'display_data';\n",
              "        await google.colab.output.renderOutput(dataTable, element);\n",
              "        const docLink = document.createElement('div');\n",
              "        docLink.innerHTML = docLinkHtml;\n",
              "        element.appendChild(docLink);\n",
              "      }\n",
              "    </script>\n",
              "  </div>\n",
              "\n",
              "\n",
              "    <div id=\"df-ca8cf3c6-960e-4dba-bfae-b35af345254d\">\n",
              "      <button class=\"colab-df-quickchart\" onclick=\"quickchart('df-ca8cf3c6-960e-4dba-bfae-b35af345254d')\"\n",
              "                title=\"Suggest charts\"\n",
              "                style=\"display:none;\">\n",
              "\n",
              "<svg xmlns=\"http://www.w3.org/2000/svg\" height=\"24px\"viewBox=\"0 0 24 24\"\n",
              "     width=\"24px\">\n",
              "    <g>\n",
              "        <path d=\"M19 3H5c-1.1 0-2 .9-2 2v14c0 1.1.9 2 2 2h14c1.1 0 2-.9 2-2V5c0-1.1-.9-2-2-2zM9 17H7v-7h2v7zm4 0h-2V7h2v10zm4 0h-2v-4h2v4z\"/>\n",
              "    </g>\n",
              "</svg>\n",
              "      </button>\n",
              "\n",
              "<style>\n",
              "  .colab-df-quickchart {\n",
              "      --bg-color: #E8F0FE;\n",
              "      --fill-color: #1967D2;\n",
              "      --hover-bg-color: #E2EBFA;\n",
              "      --hover-fill-color: #174EA6;\n",
              "      --disabled-fill-color: #AAA;\n",
              "      --disabled-bg-color: #DDD;\n",
              "  }\n",
              "\n",
              "  [theme=dark] .colab-df-quickchart {\n",
              "      --bg-color: #3B4455;\n",
              "      --fill-color: #D2E3FC;\n",
              "      --hover-bg-color: #434B5C;\n",
              "      --hover-fill-color: #FFFFFF;\n",
              "      --disabled-bg-color: #3B4455;\n",
              "      --disabled-fill-color: #666;\n",
              "  }\n",
              "\n",
              "  .colab-df-quickchart {\n",
              "    background-color: var(--bg-color);\n",
              "    border: none;\n",
              "    border-radius: 50%;\n",
              "    cursor: pointer;\n",
              "    display: none;\n",
              "    fill: var(--fill-color);\n",
              "    height: 32px;\n",
              "    padding: 0;\n",
              "    width: 32px;\n",
              "  }\n",
              "\n",
              "  .colab-df-quickchart:hover {\n",
              "    background-color: var(--hover-bg-color);\n",
              "    box-shadow: 0 1px 2px rgba(60, 64, 67, 0.3), 0 1px 3px 1px rgba(60, 64, 67, 0.15);\n",
              "    fill: var(--button-hover-fill-color);\n",
              "  }\n",
              "\n",
              "  .colab-df-quickchart-complete:disabled,\n",
              "  .colab-df-quickchart-complete:disabled:hover {\n",
              "    background-color: var(--disabled-bg-color);\n",
              "    fill: var(--disabled-fill-color);\n",
              "    box-shadow: none;\n",
              "  }\n",
              "\n",
              "  .colab-df-spinner {\n",
              "    border: 2px solid var(--fill-color);\n",
              "    border-color: transparent;\n",
              "    border-bottom-color: var(--fill-color);\n",
              "    animation:\n",
              "      spin 1s steps(1) infinite;\n",
              "  }\n",
              "\n",
              "  @keyframes spin {\n",
              "    0% {\n",
              "      border-color: transparent;\n",
              "      border-bottom-color: var(--fill-color);\n",
              "      border-left-color: var(--fill-color);\n",
              "    }\n",
              "    20% {\n",
              "      border-color: transparent;\n",
              "      border-left-color: var(--fill-color);\n",
              "      border-top-color: var(--fill-color);\n",
              "    }\n",
              "    30% {\n",
              "      border-color: transparent;\n",
              "      border-left-color: var(--fill-color);\n",
              "      border-top-color: var(--fill-color);\n",
              "      border-right-color: var(--fill-color);\n",
              "    }\n",
              "    40% {\n",
              "      border-color: transparent;\n",
              "      border-right-color: var(--fill-color);\n",
              "      border-top-color: var(--fill-color);\n",
              "    }\n",
              "    60% {\n",
              "      border-color: transparent;\n",
              "      border-right-color: var(--fill-color);\n",
              "    }\n",
              "    80% {\n",
              "      border-color: transparent;\n",
              "      border-right-color: var(--fill-color);\n",
              "      border-bottom-color: var(--fill-color);\n",
              "    }\n",
              "    90% {\n",
              "      border-color: transparent;\n",
              "      border-bottom-color: var(--fill-color);\n",
              "    }\n",
              "  }\n",
              "</style>\n",
              "\n",
              "      <script>\n",
              "        async function quickchart(key) {\n",
              "          const quickchartButtonEl =\n",
              "            document.querySelector('#' + key + ' button');\n",
              "          quickchartButtonEl.disabled = true;  // To prevent multiple clicks.\n",
              "          quickchartButtonEl.classList.add('colab-df-spinner');\n",
              "          try {\n",
              "            const charts = await google.colab.kernel.invokeFunction(\n",
              "                'suggestCharts', [key], {});\n",
              "          } catch (error) {\n",
              "            console.error('Error during call to suggestCharts:', error);\n",
              "          }\n",
              "          quickchartButtonEl.classList.remove('colab-df-spinner');\n",
              "          quickchartButtonEl.classList.add('colab-df-quickchart-complete');\n",
              "        }\n",
              "        (() => {\n",
              "          let quickchartButtonEl =\n",
              "            document.querySelector('#df-ca8cf3c6-960e-4dba-bfae-b35af345254d button');\n",
              "          quickchartButtonEl.style.display =\n",
              "            google.colab.kernel.accessAllowed ? 'block' : 'none';\n",
              "        })();\n",
              "      </script>\n",
              "    </div>\n",
              "\n",
              "    </div>\n",
              "  </div>\n"
            ],
            "application/vnd.google.colaboratory.intrinsic+json": {
              "type": "dataframe",
              "variable_name": "dados_nota_5",
              "summary": "{\n  \"name\": \"dados_nota_5\",\n  \"rows\": 66076,\n  \"fields\": [\n    {\n      \"column\": \"id_compra\",\n      \"properties\": {\n        \"dtype\": \"string\",\n        \"num_unique_values\": 66076,\n        \"samples\": [\n          \"bf993b5c-d03a-4d1c-ac54-7e0029352af6\",\n          \"aaeaff57-4c9e-45ac-869d-5d0a7742f632\",\n          \"15810c84-58f4-4c48-ae79-5545890b3c1e\"\n        ],\n        \"semantic_type\": \"\",\n        \"description\": \"\"\n      }\n    },\n    {\n      \"column\": \"sexo_biologico\",\n      \"properties\": {\n        \"dtype\": \"category\",\n        \"num_unique_values\": 2,\n        \"samples\": [\n          \"Masculino\",\n          \"Feminino\"\n        ],\n        \"semantic_type\": \"\",\n        \"description\": \"\"\n      }\n    },\n    {\n      \"column\": \"idade_cliente\",\n      \"properties\": {\n        \"dtype\": \"number\",\n        \"std\": 7,\n        \"min\": 15,\n        \"max\": 60,\n        \"num_unique_values\": 46,\n        \"samples\": [\n          51,\n          45\n        ],\n        \"semantic_type\": \"\",\n        \"description\": \"\"\n      }\n    },\n    {\n      \"column\": \"regiao_cliente\",\n      \"properties\": {\n        \"dtype\": \"category\",\n        \"num_unique_values\": 5,\n        \"samples\": [\n          \"Sul\",\n          \"Norte\"\n        ],\n        \"semantic_type\": \"\",\n        \"description\": \"\"\n      }\n    },\n    {\n      \"column\": \"categoria_produto\",\n      \"properties\": {\n        \"dtype\": \"category\",\n        \"num_unique_values\": 10,\n        \"samples\": [\n          \"Brinquedos\",\n          \"Papelaria e Escrit\\u00f3rio\"\n        ],\n        \"semantic_type\": \"\",\n        \"description\": \"\"\n      }\n    },\n    {\n      \"column\": \"preco_unitario\",\n      \"properties\": {\n        \"dtype\": \"number\",\n        \"std\": 498.87075743284095,\n        \"min\": 5.06,\n        \"max\": 2094.87,\n        \"num_unique_values\": 49271,\n        \"samples\": [\n          18.6,\n          52.31\n        ],\n        \"semantic_type\": \"\",\n        \"description\": \"\"\n      }\n    },\n    {\n      \"column\": \"quantidade\",\n      \"properties\": {\n        \"dtype\": \"number\",\n        \"std\": 2,\n        \"min\": 1,\n        \"max\": 10,\n        \"num_unique_values\": 10,\n        \"samples\": [\n          9,\n          8\n        ],\n        \"semantic_type\": \"\",\n        \"description\": \"\"\n      }\n    },\n    {\n      \"column\": \"total_compra\",\n      \"properties\": {\n        \"dtype\": \"number\",\n        \"std\": 2540.5451216678334,\n        \"min\": 5.35,\n        \"max\": 20587.7,\n        \"num_unique_values\": 58020,\n        \"samples\": [\n          1194.78,\n          84.31\n        ],\n        \"semantic_type\": \"\",\n        \"description\": \"\"\n      }\n    },\n    {\n      \"column\": \"tempo_entrega\",\n      \"properties\": {\n        \"dtype\": \"number\",\n        \"std\": 3,\n        \"min\": 1,\n        \"max\": 21,\n        \"num_unique_values\": 21,\n        \"samples\": [\n          8,\n          18\n        ],\n        \"semantic_type\": \"\",\n        \"description\": \"\"\n      }\n    },\n    {\n      \"column\": \"avaliacao\",\n      \"properties\": {\n        \"dtype\": \"number\",\n        \"std\": 0,\n        \"min\": 5,\n        \"max\": 5,\n        \"num_unique_values\": 1,\n        \"samples\": [\n          5\n        ],\n        \"semantic_type\": \"\",\n        \"description\": \"\"\n      }\n    },\n    {\n      \"column\": \"avaliacao_indicador\",\n      \"properties\": {\n        \"dtype\": \"category\",\n        \"num_unique_values\": 1,\n        \"samples\": [\n          \"\\u00d3timo\"\n        ],\n        \"semantic_type\": \"\",\n        \"description\": \"\"\n      }\n    }\n  ]\n}"
            }
          },
          "metadata": {},
          "execution_count": 86
        }
      ]
    },
    {
      "cell_type": "code",
      "source": [
        "sns.histplot(data = dados_nota_5, x='tempo_entrega', kde=True, bins=21, kde_kws={'bw_adjust':2})\n",
        "plt.show()"
      ],
      "metadata": {
        "id": "hgGl6dyPkFMP",
        "colab": {
          "base_uri": "https://localhost:8080/",
          "height": 449
        },
        "outputId": "27e139d7-db5e-4aa2-f2f4-688c2cd0f288"
      },
      "execution_count": null,
      "outputs": [
        {
          "output_type": "display_data",
          "data": {
            "text/plain": [
              "<Figure size 640x480 with 1 Axes>"
            ],
            "image/png": "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\n"
          },
          "metadata": {}
        }
      ]
    },
    {
      "cell_type": "code",
      "source": [
        "resumo = {\n",
        "    'Média': dados_nota_5.tempo_entrega.mean(),\n",
        "    'Mediana': dados_nota_5.tempo_entrega.median(),\n",
        "    'Moda': dados_nota_5.tempo_entrega.mode()[0]\n",
        "}\n",
        "\n",
        "resumo"
      ],
      "metadata": {
        "id": "ydSIkKLZkGdY",
        "colab": {
          "base_uri": "https://localhost:8080/"
        },
        "outputId": "57f76533-99e3-4676-e855-5367c7a50037"
      },
      "execution_count": null,
      "outputs": [
        {
          "output_type": "execute_result",
          "data": {
            "text/plain": [
              "{'Média': np.float64(8.290680428597373), 'Mediana': 7.0, 'Moda': np.int64(6)}"
            ]
          },
          "metadata": {},
          "execution_count": 88
        }
      ]
    },
    {
      "cell_type": "markdown",
      "source": [
        "Os dados confirmam que entregas mais rápidas estão associadas a avaliações nota 5, embora algumas poucas entregas mais longas ainda recebam notas altas. Esses insights destacam a importância de **manter prazos curtos de entrega para maximizar a satisfação dos clientes**.\n",
        "\n",
        "Com essa análise, a equipe de marketing e vendas aliada à logística pode usar os resultados para:\n",
        "\n",
        "1. Otimizar rotas e processos de entrega para reduzir o tempo de entrega médio.\n",
        "2. Diferenciar campanhas promocionais com base na promessa de entregas rápidas."
      ],
      "metadata": {
        "id": "CikmzaqF8waw"
      }
    },
    {
      "cell_type": "markdown",
      "source": [
        "# **4. Investigando os dados dos colaboradores**\n",
        "\n",
        "---"
      ],
      "metadata": {
        "id": "AsBGdfK0DzLt"
      }
    },
    {
      "cell_type": "markdown",
      "source": [
        "Agora, vamos partir para análises das remunerações dos colaboradores, a pedido do setor do RH e financeiro da empresa da empresa de e-commerce.\n",
        "\n",
        "Vamos prosseguir utilizando alguns conceitos da estatística para investigar os dados que trazem informações sobre a remuneração dos colaboradores, passando pelos salários, desempenho atual. Vamos trazer alguns insights analisando criticamente, por exemplo, a equidade salarial entre cargos e gênero e respondendo a perguntas do setor do RH e financeiro da empresa.\n"
      ],
      "metadata": {
        "id": "JRNVKX1YPWLq"
      }
    },
    {
      "cell_type": "markdown",
      "source": [
        "## **4.1 Criando o histograma de salários com amplitude fixa**\n",
        "\n",
        "---\n"
      ],
      "metadata": {
        "id": "aV0q3H8GPXwc"
      }
    },
    {
      "cell_type": "markdown",
      "source": [
        "### <font color=\"#E23155\" face=\"Verdana\">Demanda 8: Iniciando as análises da remuneração dos colaboradores\n",
        "\n",
        "</font>"
      ],
      "metadata": {
        "id": "idpRhGOINH5N"
      }
    },
    {
      "cell_type": "markdown",
      "source": [
        "A equipe de RH e financeiro da empresa de e-commerce que estamos prestando consultoria quer investigar a distribuição dos salários dos colaboradores para identificar possíveis faixas salariais e verificar a concentração de colaboradores em determinados intervalos. Essas informações serão usadas para ajustar benefícios, analisar disparidades salariais e planejar estratégias de retenção de talentos.\n",
        "\n",
        "Nosso objetivo, é ler a base com os dados e criar uma distribuição de frequências com base em classes de salários utilizando os conceitos da estatística tanto para visualizar os dados em um histograma quanto para identificar as faixas salariais mais representativas."
      ],
      "metadata": {
        "id": "SrgZDsI6-qnt"
      }
    },
    {
      "cell_type": "markdown",
      "source": [
        "### <font color=\"#E23155\" face=\"Verdana\">Solução:</font>"
      ],
      "metadata": {
        "id": "AxJG2Rco-sVZ"
      }
    },
    {
      "cell_type": "markdown",
      "source": [
        "Para calcular o número de classes utilizaremos a **Regra de Sturges** para em sequência segmentar os salários em faixas e calcular a frequência absoluta e relativa de cada faixa. Por fim, construiremos um histograma para visualizar os dados."
      ],
      "metadata": {
        "id": "R05TuMtE-t7-"
      }
    },
    {
      "cell_type": "markdown",
      "source": [
        "#### **Definindo o número de classes**"
      ],
      "metadata": {
        "id": "LxHzSOTc-vfT"
      }
    },
    {
      "cell_type": "markdown",
      "source": [
        "##### **Regra de Sturges**\n",
        "\n",
        "Calcula o número de classes de uma distribuição com base no tamanho da amostra:\n",
        "\n",
        "# $$k = 1 + \\frac {10}{3}\\log_{10}n$$\n",
        "\n",
        "onde,\n",
        "\n",
        "$k$ = número de classes\n",
        "\n",
        "$n$ = número de observações.\n",
        "\n"
      ],
      "metadata": {
        "id": "DoR-Vq-_-wyr"
      }
    },
    {
      "cell_type": "code",
      "source": [
        "url = 'https://raw.githubusercontent.com/alura-cursos/Estatisticas-Python-frequencias-medidas/refs/heads/main/dados/colaboradores.csv'\n",
        "colaboradores = pd.read_csv(url)"
      ],
      "metadata": {
        "id": "olLlV3WzkOWG"
      },
      "execution_count": null,
      "outputs": []
    },
    {
      "cell_type": "code",
      "source": [],
      "metadata": {
        "id": "Zz5gS7AKkORP"
      },
      "execution_count": null,
      "outputs": []
    },
    {
      "cell_type": "code",
      "source": [],
      "metadata": {
        "id": "6cHEXnGFkNpc"
      },
      "execution_count": null,
      "outputs": []
    },
    {
      "cell_type": "code",
      "source": [],
      "metadata": {
        "id": "8AvquegokPk0"
      },
      "execution_count": null,
      "outputs": []
    },
    {
      "cell_type": "code",
      "source": [],
      "metadata": {
        "id": "wzKeKYt1kPhr"
      },
      "execution_count": null,
      "outputs": []
    },
    {
      "cell_type": "markdown",
      "source": [
        "#### **Criando a tabela de frequências**"
      ],
      "metadata": {
        "id": "OgPd_yXlEP6r"
      }
    },
    {
      "cell_type": "code",
      "source": [],
      "metadata": {
        "id": "SLJCp0iIkTSH"
      },
      "execution_count": null,
      "outputs": []
    },
    {
      "cell_type": "code",
      "source": [],
      "metadata": {
        "id": "Dcm3yCMDkULy"
      },
      "execution_count": null,
      "outputs": []
    },
    {
      "cell_type": "markdown",
      "source": [
        "A tabela de frequências mostra os intervalos de salários (faixas) e a concentração de colaboradores em cada uma.\n",
        "\n",
        "* Podemos observar que mais da metade dos colaboradores (52,5%) são remunerados dentro da 1ª faixa (de R\\$ 1.890,00 até R\\$4.080,00).\n",
        "* Proporção de Colaboradores: A coluna de porcentagem fornece insights sobre a distribuição relativa dos colaboradores, útil para comparações."
      ],
      "metadata": {
        "id": "9ASbyGcoEVAq"
      }
    },
    {
      "cell_type": "markdown",
      "source": [
        "#### **Construindo o histograma**"
      ],
      "metadata": {
        "id": "FwZr9mioEwug"
      }
    },
    {
      "cell_type": "code",
      "source": [],
      "metadata": {
        "id": "62qWQRkFkVEF"
      },
      "execution_count": null,
      "outputs": []
    },
    {
      "cell_type": "code",
      "source": [],
      "metadata": {
        "id": "7kyC7KuMkWO2"
      },
      "execution_count": null,
      "outputs": []
    },
    {
      "cell_type": "markdown",
      "source": [
        "O histograma apresenta a distribuição visual da nossa tabela de frequência. Conseguimos notar um comportamento assimétrico à direita, como esperado para salários em uma empresa.\n",
        "Notamos que a distribuição de salários está com mais de 95% das remunerações até R\\$ 10.000,00."
      ],
      "metadata": {
        "id": "c046w3VREzYl"
      }
    },
    {
      "cell_type": "markdown",
      "source": [
        "## **4.2 Avaliando os salários pelas medidas separatrizes**\n",
        "\n",
        "---\n",
        "\n"
      ],
      "metadata": {
        "id": "dRX8627hNI49"
      }
    },
    {
      "cell_type": "markdown",
      "source": [
        "### <font color=\"#E23155\" face=\"Verdana\">Demanda 9: Análise de remuneração dos colaboradores</font>"
      ],
      "metadata": {
        "id": "64g_fCdINK8E"
      }
    },
    {
      "cell_type": "markdown",
      "source": [
        "Agora, a equipe de RH e financeiro da empresa quer entender melhor a distribuição dos salários dos colaboradores dentro de faixas específicas. Há um interesse em identificar faixas salariais e entender se a remuneração das pessoas coordenadoras estão dentro dos 99% maiores salários.\n",
        "\n",
        "Como calcular e interpretar esses dados para gerar insights úteis ao RH e ao financeiro? Além disso, como comunicar essas análises de forma clara para orientar decisões estratégicas?"
      ],
      "metadata": {
        "id": "RbShP8iiHDem"
      }
    },
    {
      "cell_type": "markdown",
      "source": [
        "### **Quartis, decis e percentis**\n",
        "\n",
        "São medidas de posição semelhantes à mediana, embora não sejam medidas de tendência central. Como se sabe, a mediana divide a distribuição em duas partes iguais quanto ao número de elementos de cada parte. Para essas 3 medidas temos:\n",
        "\n",
        "* **Quartis:** Dividem os dados em 4 partes iguais de acordo com o número de registros, sendo bastante importante para identificar faixas.\n",
        "\n",
        "* **Decis:** Dividem os dados em 10 partes iguais.\n",
        "\n",
        "* **Percentis:** Dividem os dados em 100 partes iguais, que ajuda em análises mais granulares, como os 5% ou 1% maiores valores.\n",
        "\n"
      ],
      "metadata": {
        "id": "ORygy6BmHIt6"
      }
    },
    {
      "cell_type": "markdown",
      "source": [
        "### <font color=\"#E23155\" face=\"Verdana\">Solução:</font>"
      ],
      "metadata": {
        "id": "Q7vNVvtaHKm-"
      }
    },
    {
      "cell_type": "markdown",
      "source": [
        "Para os salários, utilizaremos os quartis para observar as faixas salariais e o percentil acima de 99% para identificar se as pessoas coordenadoras estão entre os salários mais altos."
      ],
      "metadata": {
        "id": "CdTHJ72dHMEt"
      }
    },
    {
      "cell_type": "markdown",
      "source": [
        "#### **Calculando os quartis**"
      ],
      "metadata": {
        "id": "UhWvsw8GHOBv"
      }
    },
    {
      "cell_type": "code",
      "source": [],
      "metadata": {
        "id": "jfBvlGIYki3y"
      },
      "execution_count": null,
      "outputs": []
    },
    {
      "cell_type": "markdown",
      "source": [
        "#### **Visualizando os quartis em um Histograma**"
      ],
      "metadata": {
        "id": "aspdJ0sWHRN4"
      }
    },
    {
      "cell_type": "code",
      "source": [],
      "metadata": {
        "id": "mIrPX9shkkUs"
      },
      "execution_count": null,
      "outputs": []
    },
    {
      "cell_type": "markdown",
      "source": [
        "Com os quartis conseguimos dividir as faixas salariais em partes iguais. Aqui conseguimos observar que por conta dos altos salários dos cargos mais gerenciais da empresa, temos uma **distribuição mais assimétrica** da remuneração.\n",
        "\n",
        "O que é um comportamento esperado para salário: muitos recebem um valor base e poucos com altos salários."
      ],
      "metadata": {
        "id": "ydNDN2O1HTxe"
      }
    },
    {
      "cell_type": "markdown",
      "source": [
        "#### **Analisando os salários das pessoas coordenadoras**"
      ],
      "metadata": {
        "id": "K_OSOG2nHU28"
      }
    },
    {
      "cell_type": "markdown",
      "source": [
        "Vamos prosseguir nossa investigação verificando se as pessoas coordenadoras (3º em hierarquia na nossa base) estão entre os 1% com maiores salários."
      ],
      "metadata": {
        "id": "ge5YnXvaHW6E"
      }
    },
    {
      "cell_type": "code",
      "source": [],
      "metadata": {
        "id": "1ttK35IsknRA"
      },
      "execution_count": null,
      "outputs": []
    },
    {
      "cell_type": "code",
      "source": [],
      "metadata": {
        "id": "lARNg46_knLZ"
      },
      "execution_count": null,
      "outputs": []
    },
    {
      "cell_type": "code",
      "source": [],
      "metadata": {
        "id": "J1opdEq9knGJ"
      },
      "execution_count": null,
      "outputs": []
    },
    {
      "cell_type": "markdown",
      "source": [
        "Com isso, conseguimos comprovar que as pessoas coordenadoras estão entre os 1% que recebem maiores salários dentro da empresa. Podemos repassar essa informação para o RH e financeiro da empresa para averiguar se está dentro das políticas salariais. E, se possível, analisando mais perfis, eles poderão definir políticas de remuneração mais transparentes e alinhadas ao mercado."
      ],
      "metadata": {
        "id": "fkLSMGyWHbbi"
      }
    },
    {
      "cell_type": "markdown",
      "source": [
        "## **4.3 Classificando dados pelas medidas separatrizes**\n",
        "\n",
        "---"
      ],
      "metadata": {
        "id": "kmqN1SR1NMmh"
      }
    },
    {
      "cell_type": "markdown",
      "source": [
        "### <font color=\"#E23155\" face=\"Verdana\">Demanda 10: Pesquisa de colaboradores mais jovens</font>"
      ],
      "metadata": {
        "id": "5h5AeufUNScL"
      }
    },
    {
      "cell_type": "markdown",
      "source": [
        "Nesta nova demanda, a equipe de RH da empresa quer realizar uma pesquisa em torno das idades dos colaboradores. Isto porque a empresa deseja identificar o grupo mais jovem (**20% mais novos**) para implementar um programa de aceleração profissional com cursos e treinamentos voltados ao desenvolvimento de jovens talentos.\n",
        "\n",
        "Como calcular e interpretar esses dados para repassar ao RH?"
      ],
      "metadata": {
        "id": "1v1JMABGNI7m"
      }
    },
    {
      "cell_type": "markdown",
      "source": [
        "### <font color=\"#E23155\" face=\"Verdana\">Solução - Analisando as idades:</font>"
      ],
      "metadata": {
        "id": "us4698S6NLHE"
      }
    },
    {
      "cell_type": "markdown",
      "source": [
        "Para as idades, visualizaremos a distribuição, classificaremos as idades percentualmente, e determinaremos o ponto de corte para o grupo de 20% mais jovens, que poderão ser contemplados com o programa de aceleração profissional.\n"
      ],
      "metadata": {
        "id": "26rnBsVYNMjr"
      }
    },
    {
      "cell_type": "markdown",
      "source": [
        "#### **Visualizando a faixa etária desejada**"
      ],
      "metadata": {
        "id": "zxKGGxb3NPCu"
      }
    },
    {
      "cell_type": "code",
      "source": [],
      "metadata": {
        "id": "vwGEMwbekqEn"
      },
      "execution_count": null,
      "outputs": []
    },
    {
      "cell_type": "markdown",
      "source": [
        "#### **Classificando os colaboradores e identificando público**"
      ],
      "metadata": {
        "id": "hh7iH1O6NRdK"
      }
    },
    {
      "cell_type": "code",
      "source": [],
      "metadata": {
        "id": "1MKu8F5Akrj9"
      },
      "execution_count": null,
      "outputs": []
    },
    {
      "cell_type": "code",
      "source": [],
      "metadata": {
        "id": "uUW3osdbks56"
      },
      "execution_count": null,
      "outputs": []
    },
    {
      "cell_type": "code",
      "source": [],
      "metadata": {
        "id": "EgKoTOQfktnO"
      },
      "execution_count": null,
      "outputs": []
    },
    {
      "cell_type": "markdown",
      "source": [
        "Com base na análise, identificamos que há **2.218 pessoas** qualificadas para o programa, representando os **20% mais jovens do total de colaboradores**. Esse grupo pode ser o alvo ideal para o programa de aceleração profissional, já que engloba aqueles que estão no início de suas carreiras.\n",
        "\n",
        "Agora, podemos reportar ao RH a lista de funcionários dentro da qualificação desejada, o que ajudará no planejamento do programa para jovens talentos, fortalecendo a cultura organizacional e promovendo o desenvolvimento profissional."
      ],
      "metadata": {
        "id": "5z0cbX1LNUZF"
      }
    },
    {
      "cell_type": "markdown",
      "source": [
        "## **4.4 Construindo um boxplot para visualização das distribuições**\n",
        "\n",
        "---\n",
        "\n"
      ],
      "metadata": {
        "id": "AvHVpbyxNPyf"
      }
    },
    {
      "cell_type": "markdown",
      "source": [
        "### <font color=\"#E23155\" face=\"Verdana\">Demanda 11: Análise de remuneração dos colaboradores pelo sexo</font>"
      ],
      "metadata": {
        "id": "SFjXkMJXNVZD"
      }
    },
    {
      "cell_type": "markdown",
      "source": [
        "A equipe de RH e financeiro da empresa requisitou uma nova análise das distribuições salariais. Ela tem interesse em investigar as diferenças salariais entre os sexos biológicos masculino e feminino, buscando informações para reforçar a importância de garantir a equidade salarial.\n",
        "\n",
        "Os dados salariais não são fáceis de interpretar em tabelas ou gráficos convencionais. É necessário um visual que permita identificar algumas medidas de tendência central , faixas de salário e até possíveis outliers, além de comparar visualmente as distribuições entre diferentes grupos.\n",
        "\n",
        "Com isso, o RH também pode direcionar ações voltadas à igualdade salarial."
      ],
      "metadata": {
        "id": "Y92NzX12RY3H"
      }
    },
    {
      "cell_type": "markdown",
      "source": [
        "### **Boxplot**\n",
        "\n",
        "![texto do link](https://github.com/afonsosr2/estatistica-r-frequencias-medidas/blob/main/imagens/outros/boxplot.png?raw=true)\n",
        "\n",
        "O **boxplot** é uma representação visual que mostra a distribuição de dados quantitativos, facilitando comparações entre variáveis ou categorias.\n",
        "\n",
        "Os elementos principais de um boxplot são:\n",
        "\n",
        "* **Caixa:** Representa o intervalo\n",
        "interquartil (IIQ), que vai do primeiro quartil (Q1 - 25% dos dados) ao terceiro quartil (Q3 - 75% dos dados).\n",
        "\n",
        "* **Linha mediana:** Onde está posicionado a mediana (Q2), valor que separa 50% dos dados.\n",
        "\n",
        "* **Whiskers (\"bigodes\"):** Extensões que mostram a variabilidade fora do intervalo interquartil, geralmente até 1,5 vezes o IIQ a partir dos quartis.\n",
        "\n",
        "* **Outliers:** Pontos individuais que estão fora do alcance dos *whiskers*, indicados separadamente.\n",
        "\n",
        "Essa visualização ajuda a identificar a centralidade, dispersão e possíveis outliers em um conjunto de dados.\n",
        "\n"
      ],
      "metadata": {
        "id": "OOaRrsWiRax-"
      }
    },
    {
      "cell_type": "markdown",
      "source": [
        "### <font color=\"#E23155\" face=\"Verdana\">Solução:</font>"
      ],
      "metadata": {
        "id": "7G3SNz1eRc8_"
      }
    },
    {
      "cell_type": "markdown",
      "source": [
        "Vamos construir e interpretar boxplots para visualizar a distribuição das variáveis. Analisaremos diferenças salariais entre os sexos e discutiremos possíveis ações para promover equidade."
      ],
      "metadata": {
        "id": "l1O0RAJ4ReXV"
      }
    },
    {
      "cell_type": "code",
      "source": [],
      "metadata": {
        "id": "q-U_hTfckwn2"
      },
      "execution_count": null,
      "outputs": []
    },
    {
      "cell_type": "markdown",
      "source": [
        "Para sabermos os valores de cada elemento do boxplot, podemos utilizar as funções quando estudamos os quartis das remunerações ou chamar a função `describe()` que resume nossos dados com as principais estatísticas descritivas."
      ],
      "metadata": {
        "id": "UysvckB5RgaE"
      }
    },
    {
      "cell_type": "code",
      "source": [],
      "metadata": {
        "id": "71XhI_Uxkxj-"
      },
      "execution_count": null,
      "outputs": []
    },
    {
      "cell_type": "markdown",
      "source": [
        "Agora, vamos partir para o foco da nossa análise que é a comparação entre os sexos biológicos:"
      ],
      "metadata": {
        "id": "8kLovmQCRi3k"
      }
    },
    {
      "cell_type": "code",
      "source": [],
      "metadata": {
        "id": "Wd_fUO_Dky0M"
      },
      "execution_count": null,
      "outputs": []
    },
    {
      "cell_type": "markdown",
      "source": [
        "Aplicando a análise visual, conseguimos notar que aparentemente as pessoas do sexo masculino possuem uma distribuição salarial maior que a do sexo feminino, mas com os candidatos à outliers que temos ainda não fica tão clara essa diferença.\n",
        "\n",
        "> **Obs:** Outliers indicam indivíduos com salários significativamente maiores ou menores.\n",
        "\n",
        "Como estudamos anteriormente, mais de 95% das remunerações chegam até R$ 10.000,00. Podemos usar esse fator para filtrar os dados e observar com mais facilidade essa diferença salarial."
      ],
      "metadata": {
        "id": "04NFPVJoRlBz"
      }
    },
    {
      "cell_type": "code",
      "source": [],
      "metadata": {
        "id": "yvHPC92fk0qO"
      },
      "execution_count": null,
      "outputs": []
    },
    {
      "cell_type": "code",
      "source": [],
      "metadata": {
        "id": "LVd3GkD1k0ib"
      },
      "execution_count": null,
      "outputs": []
    },
    {
      "cell_type": "markdown",
      "source": [
        "Notamos aqui que **a mediana dos salários para pessoas do sexo feminino é menor** que a das pessoas com sexo masculino, sendo o primeiro abaixo **R$ 4.000,00** e o segundo acima desse valor.\n",
        "\n",
        "Para reforçar a análise, vamos calcular as estatísticas descritivas para cada grupo."
      ],
      "metadata": {
        "id": "1LPh0o7yRoID"
      }
    },
    {
      "cell_type": "code",
      "source": [],
      "metadata": {
        "id": "REpuXbHEk4mr"
      },
      "execution_count": null,
      "outputs": []
    },
    {
      "cell_type": "markdown",
      "source": [
        "Podemos reportar os resultados para o RH da empresa que deve investigar as causas, especialmente ao considerar cargos similares. Com isso, será possível que a equipe realize ações que busquem revisar políticas salariais para garantir igualdade e realizar análises adicionais considerando fatores como cargo, experiência e desempenho."
      ],
      "metadata": {
        "id": "P3roaiKARpNV"
      }
    },
    {
      "cell_type": "markdown",
      "source": [
        "# **5. Analisando as variações dos dados**\n",
        "\n",
        "---"
      ],
      "metadata": {
        "id": "sVgnDXWKD11k"
      }
    },
    {
      "cell_type": "markdown",
      "source": [
        "## **5.1 Calculando o desvio médio absoluto**\n",
        "\n",
        "---\n"
      ],
      "metadata": {
        "id": "MdhnhGk2M3sT"
      }
    },
    {
      "cell_type": "markdown",
      "source": [
        "### <font color=\"#E23155\" face=\"Verdana\">Demanda 12: Analisando diferenças salariais - Parte 1</font>"
      ],
      "metadata": {
        "id": "-6NYHNLaM7tl"
      }
    },
    {
      "cell_type": "markdown",
      "source": [
        "A equipe de RH e financeiro da empresa de e-commerce recebeu alguns feedbacks sobre uma possível falta de padrão entre os salários dos cargos de **Inteligência comercial** e **Consultor(a) de vendas**.\n",
        "\n",
        "Com que aprendemos até o momento, apenas as medidas de tendência central (média e mediana) não são suficientes para avaliar a uniformidade dos salários. É necessário um indicador de dispersão que mostre como os salários se distribuem em relação à média, revelando inconsistências.\n",
        "\n",
        "O objetivo é investigar as faixas salariais desses cargos.\n",
        "\n",
        "\n",
        "\n"
      ],
      "metadata": {
        "id": "c7cujIPQWKXw"
      }
    },
    {
      "cell_type": "markdown",
      "source": [
        "#### **Medidas de dispersão**\n",
        "As **medidas de dispersão** são utilizadas para indicar o grau da variação dos valores de uma variável quantitativa em relação à sua média.\n",
        "\n",
        "Embora as medidas de tendência central e de posição forneçam uma sumarização bastante importante dos dados, elas podem não ser suficientes para caracterizar conjuntos distintos, especialmente quando as observações de determinada distribuição apresentarem dados muito dispersos.\n",
        "\n",
        "#### **Desvio médio absoluto (MAD)**\n",
        "O **Desvio Médio Absoluto (MAD)** é uma medida para avaliar a dispersão dos dados que representa a média das diferenças absolutas entre cada valor e a média dos dados.\n",
        "\n",
        "# $$MAD = \\frac 1n\\sum_{i=1}^{n}|X_i-\\bar{X}|$$\n",
        "\n",
        "Onde:\n",
        "\n",
        "$n$ = número de observações\n",
        "\n",
        "$X_i$ = valores da i-ésima variável\n",
        "\n",
        "$\\bar{X}$ = a média da distribuição\n"
      ],
      "metadata": {
        "id": "S3zyeqHfWL-U"
      }
    },
    {
      "cell_type": "markdown",
      "source": [
        "### <font color=\"#E23155\" face=\"Verdana\">Solução:</font>"
      ],
      "metadata": {
        "id": "FkYIsKmtWN1B"
      }
    },
    {
      "cell_type": "markdown",
      "source": [
        "#### **Ler as estatísticas descritivas das remunerações**"
      ],
      "metadata": {
        "id": "Vwh3c12-WPdS"
      }
    },
    {
      "cell_type": "markdown",
      "source": [
        "Vamos começar lendo os valores de tendência central dos salários dos cargos de Inteligência comercial e Consultor(a) de vendas"
      ],
      "metadata": {
        "id": "9cajizo0WQp2"
      }
    },
    {
      "cell_type": "code",
      "source": [],
      "metadata": {
        "id": "s3SCV3bck-dy"
      },
      "execution_count": null,
      "outputs": []
    },
    {
      "cell_type": "code",
      "source": [],
      "metadata": {
        "id": "X8w0irBEk-ZE"
      },
      "execution_count": null,
      "outputs": []
    },
    {
      "cell_type": "markdown",
      "source": [
        "Conseguimos notar que as médias e medianas estão bem próximas, então parece tudo ok, certo?\n",
        "\n",
        "**Não!** As medidas de tendência central servem para trazer um valor que generaliza nosso dado, mas que não representa a dispersão entre eles. Neste caso precisamos utilizar as medidas de dispersão para ter uma noção."
      ],
      "metadata": {
        "id": "Ex3cXDZBWSzh"
      }
    },
    {
      "cell_type": "markdown",
      "source": [
        "#### **Observando as variações das remunerações**"
      ],
      "metadata": {
        "id": "7oTGKpJgWUml"
      }
    },
    {
      "cell_type": "code",
      "source": [],
      "metadata": {
        "id": "ZjUypqt9lANZ"
      },
      "execution_count": null,
      "outputs": []
    },
    {
      "cell_type": "code",
      "source": [],
      "metadata": {
        "id": "2D6Z76f6lAJs"
      },
      "execution_count": null,
      "outputs": []
    },
    {
      "cell_type": "code",
      "source": [],
      "metadata": {
        "id": "xyfMDdHDlAGI"
      },
      "execution_count": null,
      "outputs": []
    },
    {
      "cell_type": "code",
      "source": [],
      "metadata": {
        "id": "UeWhdQlolBsQ"
      },
      "execution_count": null,
      "outputs": []
    },
    {
      "cell_type": "markdown",
      "source": [
        "Como dito anteriormente a média e mediana estão próximas entre os dois cargos. E o desvio médio absoluto é ligeiramente maior para as pessoas consultoras,  indicando maior dispersão se comparada com as pessoas da Inteligência comercial. Podemos visualizar graficamente essa variação entre elas."
      ],
      "metadata": {
        "id": "lteF-YqbWXLG"
      }
    },
    {
      "cell_type": "markdown",
      "source": [
        "#### **Visualizando graficamente**"
      ],
      "metadata": {
        "id": "hq2AbvhmWYxz"
      }
    },
    {
      "cell_type": "code",
      "source": [],
      "metadata": {
        "id": "-kzdzYLSlB_W"
      },
      "execution_count": null,
      "outputs": []
    },
    {
      "cell_type": "markdown",
      "source": [
        "Conseguimos observar os comportamentos dos salários entre os profissionais de inteligência comercial e consultoria de vendas e percebemos que ambos têm média e mediana salariais muito próximas, com uma variação ligeiramente superior do cargo de inteligência comercial, que foi comprovado tanto pelo MAD quanto observando o intervalo interquartil (IIQ).\n",
        "\n",
        "A equipe de RH pode usar esses dados para:\n",
        "\n",
        "* Investigar os critérios de definição salarial para ambos, visto que o esperado era ter o mesmo nível salarial.\n",
        "* Estabelecer políticas salariais mais padronizadas para cargos equivalentes ou ser mais transparente na definição salarial dentro da empresa."
      ],
      "metadata": {
        "id": "H0-5GPh9WcfK"
      }
    },
    {
      "cell_type": "markdown",
      "source": [
        "## **5.2 Calculando a variância e desvio padrão**\n",
        "\n",
        "---\n"
      ],
      "metadata": {
        "id": "loZM7qj6NBmp"
      }
    },
    {
      "cell_type": "markdown",
      "source": [
        "### <font color=\"#E23155\" face=\"Verdana\">Demanda 12: Analisando diferenças salariais - Parte 2</font>"
      ],
      "metadata": {
        "id": "xOulTBD4M9qR"
      }
    },
    {
      "cell_type": "markdown",
      "source": [
        "A equipe de RH e financeiro da empresa de e-commerce também recebeu alguns feedbacks sobre uma possível falta de padrão entre os salários de dois cargos operacionais, Estoquista e Repositor(a), que representam o maior volume de funcionários da empresa.\n",
        "\n",
        "O objetivo é investigar também as faixas salariais desses cargos, determinar qual deles apresenta maior inconsistência e identificar padrões que possam sugerir desigualdades ou problemas de política salarial."
      ],
      "metadata": {
        "id": "i6pXglhGXri8"
      }
    },
    {
      "cell_type": "markdown",
      "source": [
        "#### **Variância ($\\sigma^2$ ou $S^2$)**\n",
        "A **variância** é uma medida de dispersão que mostra o quão distante cada valor de uma variável quantitativa está da média da sua distribuição.\n",
        "\n",
        "Ela é construída a partir das diferenças entre cada observação e a média dos dados, ou seja, o desvio em torno da média. No cálculo da variância, os desvios em torno da média são elevados ao quadrado.\n",
        "\n",
        "##### **Variância populacional**\n",
        "\n",
        "# $$\\sigma^2 = \\frac 1n\\sum_{i=1}^{n}(X_i-\\mu)^2$$\n",
        "\n",
        "##### **Variância amostral**\n",
        "\n",
        "# $$S^2 = \\frac 1{n-1}\\sum_{i=1}^{n}(X_i-\\bar{X})^2$$\n",
        "\n",
        "Onde:\n",
        "\n",
        "$n$ = número de observações\n",
        "\n",
        "$X_i$ = valores da i-ésima variável\n",
        "\n",
        "$\\mu$ e $\\bar{X}$ = média da população e amostra da distribuição, respectivamente\n"
      ],
      "metadata": {
        "id": "E9uQVq0qXs0k"
      }
    },
    {
      "cell_type": "markdown",
      "source": [
        "### <font color=\"#E23155\" face=\"Verdana\">Solução:</font>"
      ],
      "metadata": {
        "id": "U2EUBdPqXu5R"
      }
    },
    {
      "cell_type": "markdown",
      "source": [
        "#### **Ler as estatísticas descritivas das remunerações**"
      ],
      "metadata": {
        "id": "fHOFgkdUXvPn"
      }
    },
    {
      "cell_type": "markdown",
      "source": [
        "Vamos começar lendo os valores de tendência central dos salários dos cargos de Estoquista e Repositor(a)"
      ],
      "metadata": {
        "id": "TQZKhCdgXw80"
      }
    },
    {
      "cell_type": "code",
      "source": [],
      "metadata": {
        "id": "Ydl8ggIulD_c"
      },
      "execution_count": null,
      "outputs": []
    },
    {
      "cell_type": "code",
      "source": [],
      "metadata": {
        "id": "BShyfCPslD7b"
      },
      "execution_count": null,
      "outputs": []
    },
    {
      "cell_type": "code",
      "source": [],
      "metadata": {
        "id": "2ZrHCPIJlD3V"
      },
      "execution_count": null,
      "outputs": []
    },
    {
      "cell_type": "markdown",
      "source": [
        "Conseguimos notar que novamente as médias e medianas estão bem próximas. Precisamos utilizar as medidas de dispersão para ter uma noção se realmente temos uma diferença relevantes entre os salários dos dois cargos."
      ],
      "metadata": {
        "id": "EYfK8WYSX4MX"
      }
    },
    {
      "cell_type": "code",
      "source": [],
      "metadata": {
        "id": "jvpZlNJClGYY"
      },
      "execution_count": null,
      "outputs": []
    },
    {
      "cell_type": "markdown",
      "source": [
        "Números bem altos não é mesmo? O que isso significa?\n",
        "\n",
        "Como variância fornece os valores das medidas ao quadrado, representar o nosso resultado dessa forma dificultaria a comparação da dispersão com as variáveis que a definem.\n",
        "\n",
        "Um modo de eliminar essa dificuldade é utilizando o **desvio padrão**"
      ],
      "metadata": {
        "id": "1_QAnMIkX7sy"
      }
    },
    {
      "cell_type": "markdown",
      "source": [
        "#### **Desvio padrão ($\\sigma$ ou $S$)**\n",
        "\n",
        "O desvio padrão é uma medida de dispersão que indica o grau de dispersão de um conjunto de dados. É expresso pela raiz quadrada da variância populacional ou amostral.\n",
        "\n",
        "Além de expressar a variabilidade da população, o desvio padrão pode ser utilizado para medir a confiança (nível de acerto esperado de uma estimativa) e geralmente permite sintetizar os resultados de amostras.\n",
        "\n",
        "\n",
        "##### **Desvio padão populacional**\n",
        "\n",
        "# $$\\sigma = \\sqrt{\\frac 1n\\sum_{i=1}^{n}(X_i-\\mu)^2} \\Longrightarrow \\sigma = \\sqrt{\\sigma^2}$$\n",
        "\n",
        "##### **Desvio padrão amostral**\n",
        "\n",
        "# $$S = \\sqrt{\\frac 1{n-1}\\sum_{i=1}^{n}(X_i-\\bar{X})^2} \\Longrightarrow S = \\sqrt{S^2}$$\n",
        "\n",
        "Onde:\n",
        "\n",
        "$n$ = número de observações\n",
        "\n",
        "$X_i$ = valores da i-ésima variável\n",
        "\n",
        "$\\mu$ e $\\bar{X}$ = média da população e amostra da distribuição, respectivamente\n"
      ],
      "metadata": {
        "id": "5vXAbjBIX9Hd"
      }
    },
    {
      "cell_type": "code",
      "source": [],
      "metadata": {
        "id": "D98Pw3BYlHX5"
      },
      "execution_count": null,
      "outputs": []
    },
    {
      "cell_type": "markdown",
      "source": [
        "O que podemos constatar aqui:\n",
        "1. **Média e Mediana:** Ambos os cargos têm valores próximos, indicando simetria na centralidade.\n",
        "\n",
        "2. **Variância e Desvio Padrão:** O cargo de Estoquista tem maior variância e desvio padrão, revelando maior dispersão nos salários.\n",
        "\n",
        "3. **MAD vs. Desvio Padrão:** Em ambos os casos o MAD é menor em relação ao desvio padrão, indicando que a dispersão está sendo influenciada por valores extremos."
      ],
      "metadata": {
        "id": "OqPkblj4YUSC"
      }
    },
    {
      "cell_type": "markdown",
      "source": [
        "\n",
        "#### **Visualizando graficamente**"
      ],
      "metadata": {
        "id": "5sfLCyqyYWCI"
      }
    },
    {
      "cell_type": "code",
      "source": [],
      "metadata": {
        "id": "Cjl-HJxHlIUh"
      },
      "execution_count": null,
      "outputs": []
    },
    {
      "cell_type": "markdown",
      "source": [
        "Conseguimos observar os comportamentos dos salários entre os profissionais estoquistas e repositores e percebemos que ambos têm média e mediana salariais muito próximas, entretando notamos uma dispersão considerável entre os salários dos colaboradores, que foi comprovado tanto pelo desvio padrão e MAD quanto observando o intervalo interquartil (IIQ) no gráfico de violino.\n",
        "\n",
        "Consideração para o RH:\n",
        "\n",
        "* As métricas indicam que o cargo de Estoquista possui maior variabilidade salarial.\n",
        "* O RH deve investigar se essa inconsistência reflete discrepâncias injustas ou se há justificativas baseadas em mérito ou experiência.\n",
        "\n",
        "Como sugestão:\n",
        "* Ajuste das políticas para reduzir a inconsistência salarial, promovendo equidade.\n",
        "* Compartilhamento de mais informações para análise de outras métricas para maior robustez na análise."
      ],
      "metadata": {
        "id": "7-oIOXAlYYNk"
      }
    }
  ]
}
>>>>>>> fd7e8e5bc68caa0b578f1f4960222f3f3c9a64ff
