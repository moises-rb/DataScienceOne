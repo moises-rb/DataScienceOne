{
  "cells": [
    {
      "cell_type": "markdown",
      "metadata": {
        "colab_type": "text",
        "id": "view-in-github"
      },
      "source": [
        "<a href=\"https://colab.research.google.com/github/moises-rb/DataScienceOne/blob/main/Estatistica_MachineLearning/Desafios.ipynb\" target=\"_parent\"><img src=\"https://colab.research.google.com/assets/colab-badge.svg\" alt=\"Open In Colab\"/></a>"
      ]
    },
    {
      "cell_type": "markdown",
      "metadata": {
        "id": "qxah03ikONCD"
      },
      "source": [
        "# **Sobre o notebook**\n",
        "\n",
        "Aproveite esse espaço para as atividades do curso de **Estatística com Python: resumindo e analisando dados** da Alura. Aqui você pode escrever e testar os códigos dos diversos exercícios do **Mão na Massa** envolvendo os aprendizados de cada aula.\n",
        "\n",
        "Utilizando os conhecimentos adquiridos ao longo do curso, você precisará realizar uma **análise descritiva** básica de um conjunto de dados retirados da **Pesquisa Nacional por Amostra de Domicílios - 2015** do IBGE.\n",
        "\n",
        "Nele, você irá avaliar os tipos dos dados e suas distribuições, calcular as medidas de tendência central, medidas separatrizes e de dispersão dos dados e construirá visuais como histogramas, boxplot, entre outras para responder às perguntas.\n",
        "\n",
        "Este notebook foi construído com espaços para adicionar as células dos desafios propostos no curso, com eles você tem espaço para construir e executar suas soluções.\n",
        "\n",
        "\n",
        "\n"
      ]
    },
    {
      "cell_type": "markdown",
      "metadata": {
        "id": "ouMWQS5PkxIr"
      },
      "source": [
        "## **Dataset do Projeto**"
      ]
    },
    {
      "cell_type": "markdown",
      "metadata": {
        "id": "eeErXl4El6tC"
      },
      "source": [
        "O conjunto de dados que será explorado aqui é uma adaptação dos dados da **Pesquisa Nacional por Amostra de Domicílios - PNAD**. Ela investiga anualmente, de forma permanente, características gerais da população, de educação, trabalho, rendimento e habitação e outras, com periodicidade variável, de acordo com as necessidades de informação para o país, como as características sobre migração, fecundidade, nupcialidade, saúde, segurança alimentar, entre outros temas.\n",
        "\n",
        "O levantamento dessas estatísticas constitui, ao longo dos 49 anos de realização da pesquisa, um importante instrumento para formulação, validação e avaliação de políticas orientadas para o desenvolvimento socioeconômico e a melhoria das condições de vida no Brasil."
      ]
    },
    {
      "cell_type": "markdown",
      "metadata": {
        "id": "_vpi0QThnfJ6"
      },
      "source": [
        "### **Fonte dos Dados**\n",
        "\n",
        "https://www.ibge.gov.br/estatisticas/sociais/populacao/9127-pesquisa-nacional-por-amostra-de-domicilios.html?edicao=9128"
      ]
    },
    {
      "cell_type": "markdown",
      "metadata": {
        "id": "zrMeV3e5rQxd"
      },
      "source": [
        "### **Variáveis do dataset**\n",
        "\n",
        "> ### UF\n",
        "> ***\n",
        "\n",
        "Unidade federativa da pessoa responsável\n",
        "\n",
        "> ### Sexo\n",
        "> ***\n",
        "\n",
        "Sexo biológico da pessoa responsável\n",
        "\n",
        "<br>\n",
        "\n",
        "|Código|Descrição|\n",
        "|---|---|\n",
        "|0|Masculino|\n",
        "|1|Feminino|\n",
        "\n",
        "> ### Idade\n",
        "> ***\n",
        "\n",
        "Idade da pessoa responsável na data de referência em anos.\n",
        "\n",
        "> ### Cor\n",
        "> ***\n",
        "\n",
        "Cor ou raça da pessoa responsável com base na autodeclaração\n",
        "\n",
        "<br>\n",
        "\n",
        "|Código|Descrição|\n",
        "|---|---|\n",
        "|0|Indígena|\n",
        "|2|Branca|\n",
        "|4|Preta|\n",
        "|6|Amarela|\n",
        "|8|Parda|\n",
        "\n",
        "> ### Anos de Estudo\n",
        "> ***\n",
        "\n",
        "Anos de estudo da pessoa responsável\n",
        "\n",
        "<br>\n",
        "\n",
        "|Código|Descrição|\n",
        "|---|---|\n",
        "|1|Sem instrução e menos de 1 ano|\n",
        "|2|1 ano|\n",
        "|3|2 anos|\n",
        "|4|3 anos|\n",
        "|5|4 anos|\n",
        "|6|5 anos|\n",
        "|7|6 anos|\n",
        "|8|7 anos|\n",
        "|9|8 anos|\n",
        "|10|9 anos|\n",
        "|11|10 anos|\n",
        "|12|11 anos|\n",
        "|13|12 anos|\n",
        "|14|13 anos|\n",
        "|15|14 anos|\n",
        "|16|15 anos ou mais|\n",
        "|17|Não determinados|\n",
        "\n",
        "> ### Renda\n",
        "> ***\n",
        "\n",
        "Rendimento mensal do trabalho principal da pessoa responsável para 10 anos ou mais de idade.\n",
        "\n",
        "> ### Altura (elaboração própria - dado sintético)\n",
        "> ***\n",
        "\n",
        "Altura da pessoa responsável em metros."
      ]
    },
    {
      "cell_type": "markdown",
      "metadata": {
        "id": "sIlkOh1BvGsM"
      },
      "source": [
        "#### <font color='red'>Observação</font>\n",
        "***\n",
        "> Os seguintes tratamentos foram realizados nos dados originais:\n",
        "> 1. Foram eliminados os registros onde a **Renda** era inválida (999 999 999 999);\n",
        "> 2. Foram eliminados os registros onde a **Renda** era missing;\n",
        "> 3. Foram considerados somente os registros das **Pessoas de Referência** de cada domicílio (responsável pelo domicílio)."
      ]
    },
    {
      "cell_type": "markdown",
      "metadata": {
        "id": "IA3M1eso_L2Z"
      },
      "source": [
        "## **Aula 01 - Entendendo os dados**"
      ]
    },
    {
      "cell_type": "markdown",
      "metadata": {
        "id": "AmpR_VE4CImQ"
      },
      "source": [
        "### **Mão na Massa - Explorando novos dados**\n",
        "\n",
        "\n"
      ]
    },
    {
      "cell_type": "markdown",
      "metadata": {
        "id": "k2YfI6iDYmo4"
      },
      "source": [
        "Você está treinando para ser uma pessoa cientista de dados e recebeu a demanda de investigar os dados da PNAD de 2015. A fim de testar as suas habilidades de análise de dados e os conceitos da estatística descritiva, responda às perguntas ao longo do notebook compartilhado."
      ]
    },
    {
      "cell_type": "markdown",
      "metadata": {
        "id": "QDUU7jVGiMiZ"
      },
      "source": [
        "#### **Importando os pacotes e configurando o ambiente**"
      ]
    },
    {
      "cell_type": "code",
      "execution_count": 93,
      "metadata": {
        "id": "ZruvypSoO6oP"
      },
      "outputs": [],
      "source": [
        "# Importando os pacotes do projeto\n",
        "import pandas as pd\n",
        "import numpy as np\n",
        "import seaborn as sns\n",
        "import matplotlib.pyplot as plt"
      ]
    },
    {
      "cell_type": "markdown",
      "metadata": {
        "id": "MqXopokVzjV8"
      },
      "source": [
        "#### **Importe o dataset e armazene o conteúdo em um DataFrame**"
      ]
    },
    {
      "cell_type": "markdown",
      "metadata": {
        "id": "pr2UTRm70Tsq"
      },
      "source": [
        "**Dica:** Passe a url para a função que lê um arquivo do tipo `.csv`"
      ]
    },
    {
      "cell_type": "code",
      "execution_count": 94,
      "metadata": {
        "colab": {
          "base_uri": "https://localhost:8080/",
          "height": 206
        },
        "id": "cndAfPzKzjBs",
        "outputId": "ac5f4b7d-d89b-4cd4-9e9a-22bcefffa428"
      },
      "outputs": [
        {
          "data": {
            "application/vnd.microsoft.datawrangler.viewer.v0+json": {
              "columns": [
                {
                  "name": "index",
                  "rawType": "int64",
                  "type": "integer"
                },
                {
                  "name": "UF",
                  "rawType": "object",
                  "type": "string"
                },
                {
                  "name": "Sexo",
                  "rawType": "int64",
                  "type": "integer"
                },
                {
                  "name": "Idade",
                  "rawType": "int64",
                  "type": "integer"
                },
                {
                  "name": "Cor",
                  "rawType": "int64",
                  "type": "integer"
                },
                {
                  "name": "Anos.de.Estudo",
                  "rawType": "int64",
                  "type": "integer"
                },
                {
                  "name": "Renda",
                  "rawType": "int64",
                  "type": "integer"
                },
                {
                  "name": "Altura",
                  "rawType": "float64",
                  "type": "float"
                }
              ],
              "ref": "17e0994f-258f-4d80-8951-a5791a114bd3",
              "rows": [
                [
                  "0",
                  "Rondônia",
                  "0",
                  "23",
                  "8",
                  "12",
                  "800",
                  "1.6"
                ],
                [
                  "1",
                  "Rondônia",
                  "1",
                  "23",
                  "2",
                  "12",
                  "1150",
                  "1.74"
                ],
                [
                  "2",
                  "Rondônia",
                  "1",
                  "35",
                  "8",
                  "15",
                  "880",
                  "1.76"
                ],
                [
                  "3",
                  "Rondônia",
                  "0",
                  "46",
                  "2",
                  "6",
                  "3500",
                  "1.78"
                ],
                [
                  "4",
                  "Rondônia",
                  "1",
                  "47",
                  "8",
                  "9",
                  "150",
                  "1.69"
                ]
              ],
              "shape": {
                "columns": 7,
                "rows": 5
              }
            },
            "text/html": [
              "<div>\n",
              "<style scoped>\n",
              "    .dataframe tbody tr th:only-of-type {\n",
              "        vertical-align: middle;\n",
              "    }\n",
              "\n",
              "    .dataframe tbody tr th {\n",
              "        vertical-align: top;\n",
              "    }\n",
              "\n",
              "    .dataframe thead th {\n",
              "        text-align: right;\n",
              "    }\n",
              "</style>\n",
              "<table border=\"1\" class=\"dataframe\">\n",
              "  <thead>\n",
              "    <tr style=\"text-align: right;\">\n",
              "      <th></th>\n",
              "      <th>UF</th>\n",
              "      <th>Sexo</th>\n",
              "      <th>Idade</th>\n",
              "      <th>Cor</th>\n",
              "      <th>Anos.de.Estudo</th>\n",
              "      <th>Renda</th>\n",
              "      <th>Altura</th>\n",
              "    </tr>\n",
              "  </thead>\n",
              "  <tbody>\n",
              "    <tr>\n",
              "      <th>0</th>\n",
              "      <td>Rondônia</td>\n",
              "      <td>0</td>\n",
              "      <td>23</td>\n",
              "      <td>8</td>\n",
              "      <td>12</td>\n",
              "      <td>800</td>\n",
              "      <td>1.60</td>\n",
              "    </tr>\n",
              "    <tr>\n",
              "      <th>1</th>\n",
              "      <td>Rondônia</td>\n",
              "      <td>1</td>\n",
              "      <td>23</td>\n",
              "      <td>2</td>\n",
              "      <td>12</td>\n",
              "      <td>1150</td>\n",
              "      <td>1.74</td>\n",
              "    </tr>\n",
              "    <tr>\n",
              "      <th>2</th>\n",
              "      <td>Rondônia</td>\n",
              "      <td>1</td>\n",
              "      <td>35</td>\n",
              "      <td>8</td>\n",
              "      <td>15</td>\n",
              "      <td>880</td>\n",
              "      <td>1.76</td>\n",
              "    </tr>\n",
              "    <tr>\n",
              "      <th>3</th>\n",
              "      <td>Rondônia</td>\n",
              "      <td>0</td>\n",
              "      <td>46</td>\n",
              "      <td>2</td>\n",
              "      <td>6</td>\n",
              "      <td>3500</td>\n",
              "      <td>1.78</td>\n",
              "    </tr>\n",
              "    <tr>\n",
              "      <th>4</th>\n",
              "      <td>Rondônia</td>\n",
              "      <td>1</td>\n",
              "      <td>47</td>\n",
              "      <td>8</td>\n",
              "      <td>9</td>\n",
              "      <td>150</td>\n",
              "      <td>1.69</td>\n",
              "    </tr>\n",
              "  </tbody>\n",
              "</table>\n",
              "</div>"
            ],
            "text/plain": [
              "         UF  Sexo  Idade  Cor  Anos.de.Estudo  Renda  Altura\n",
              "0  Rondônia     0     23    8              12    800    1.60\n",
              "1  Rondônia     1     23    2              12   1150    1.74\n",
              "2  Rondônia     1     35    8              15    880    1.76\n",
              "3  Rondônia     0     46    2               6   3500    1.78\n",
              "4  Rondônia     1     47    8               9    150    1.69"
            ]
          },
          "execution_count": 94,
          "metadata": {},
          "output_type": "execute_result"
        }
      ],
      "source": [
        "url = \"https://raw.githubusercontent.com/alura-cursos/Estatisticas-Python-frequencias-medidas/refs/heads/main/dados/dados_desafio.csv\"\n",
        "dados = pd.read_csv(url)\n",
        "dados.head()"
      ]
    },
    {
      "cell_type": "markdown",
      "metadata": {
        "id": "CKddW-tNzuP1"
      },
      "source": [
        "#### **Visualize o conteúdo do DataFrame e leia as infos sobre os dados (linhas, colunas, tipos)**"
      ]
    },
    {
      "cell_type": "markdown",
      "metadata": {
        "id": "exRQ_Tuf0jrD"
      },
      "source": [
        "**Dica:** Para observar as infos dos dados, utilize a função `info`"
      ]
    },
    {
      "cell_type": "code",
      "execution_count": 95,
      "metadata": {
        "colab": {
          "base_uri": "https://localhost:8080/"
        },
        "id": "OLc-_Q4oXttA",
        "outputId": "54f498a9-0a64-4209-daa4-e5113ceaca25"
      },
      "outputs": [
        {
          "data": {
            "text/plain": [
              "(76840, 7)"
            ]
          },
          "execution_count": 95,
          "metadata": {},
          "output_type": "execute_result"
        }
      ],
      "source": [
        "dados.shape"
      ]
    },
    {
      "cell_type": "code",
      "execution_count": 96,
      "metadata": {
        "colab": {
          "base_uri": "https://localhost:8080/"
        },
        "id": "NVm1btZMXttA",
        "outputId": "99aad6ee-d678-4288-896d-786dd93d6320"
      },
      "outputs": [
        {
          "name": "stdout",
          "output_type": "stream",
          "text": [
            "<class 'pandas.core.frame.DataFrame'>\n",
            "RangeIndex: 76840 entries, 0 to 76839\n",
            "Data columns (total 7 columns):\n",
            " #   Column          Non-Null Count  Dtype  \n",
            "---  ------          --------------  -----  \n",
            " 0   UF              76840 non-null  object \n",
            " 1   Sexo            76840 non-null  int64  \n",
            " 2   Idade           76840 non-null  int64  \n",
            " 3   Cor             76840 non-null  int64  \n",
            " 4   Anos.de.Estudo  76840 non-null  int64  \n",
            " 5   Renda           76840 non-null  int64  \n",
            " 6   Altura          76840 non-null  float64\n",
            "dtypes: float64(1), int64(5), object(1)\n",
            "memory usage: 4.1+ MB\n"
          ]
        }
      ],
      "source": [
        "dados.info()"
      ]
    },
    {
      "cell_type": "markdown",
      "metadata": {
        "id": "RAmtjJFi0-ni"
      },
      "source": [
        "#### **Explore brevemente a variável `UF` e investigue quantos dados possuímos para cada estado**"
      ]
    },
    {
      "cell_type": "markdown",
      "metadata": {
        "id": "FeK6odCN9O1m"
      },
      "source": [
        "**Dica:** Para explorar, utilize as funções `unique`, `value_counts`, `reset_index` e `barplot`\n",
        "\n"
      ]
    },
    {
      "cell_type": "code",
      "execution_count": 97,
      "metadata": {
        "colab": {
          "base_uri": "https://localhost:8080/"
        },
        "id": "8LCZ_HX_XttB",
        "outputId": "f7988b99-df26-4a8a-a6de-b9bfb3c47087"
      },
      "outputs": [
        {
          "data": {
            "text/plain": [
              "array(['Rondônia', 'Acre', 'Amazonas', 'Roraima', 'Pará', 'Amapá',\n",
              "       'Tocantins', 'Maranhão', 'Piauí', 'Ceará', 'Rio Grande do Norte',\n",
              "       'Paraíba', 'Pernambuco', 'Alagoas', 'Sergipe', 'Bahia',\n",
              "       'Minas Gerais', 'Espírito Santo', 'Rio de Janeiro', 'São Paulo',\n",
              "       'Paraná', 'Santa Catarina', 'Rio Grande do Sul',\n",
              "       'Mato Grosso do Sul', 'Mato Grosso', 'Goiás', 'Distrito Federal'],\n",
              "      dtype=object)"
            ]
          },
          "execution_count": 97,
          "metadata": {},
          "output_type": "execute_result"
        }
      ],
      "source": [
        "dados.UF.unique() # O CÓDIGO TAMBÉM PODE SER ESCRITO ASSIM: dados['UF'].unique()"
      ]
    },
    {
      "cell_type": "code",
      "execution_count": 98,
      "metadata": {
        "colab": {
          "base_uri": "https://localhost:8080/",
          "height": 896
        },
        "id": "7thCb1O1XttB",
        "outputId": "e8486b3b-bbbd-4c18-981c-d836ac608102"
      },
      "outputs": [
        {
          "data": {
            "application/vnd.microsoft.datawrangler.viewer.v0+json": {
              "columns": [
                {
                  "name": "index",
                  "rawType": "int64",
                  "type": "integer"
                },
                {
                  "name": "UF",
                  "rawType": "object",
                  "type": "string"
                },
                {
                  "name": "count",
                  "rawType": "int64",
                  "type": "integer"
                }
              ],
              "ref": "8485f50a-b133-4e41-976e-dcd3f6d2b5e2",
              "rows": [
                [
                  "0",
                  "São Paulo",
                  "8544"
                ],
                [
                  "1",
                  "Minas Gerais",
                  "7686"
                ],
                [
                  "2",
                  "Rio Grande do Sul",
                  "6322"
                ],
                [
                  "3",
                  "Bahia",
                  "5717"
                ],
                [
                  "4",
                  "Rio de Janeiro",
                  "5556"
                ],
                [
                  "5",
                  "Pará",
                  "4449"
                ],
                [
                  "6",
                  "Paraná",
                  "4356"
                ],
                [
                  "7",
                  "Pernambuco",
                  "3820"
                ],
                [
                  "8",
                  "Goiás",
                  "3478"
                ],
                [
                  "9",
                  "Ceará",
                  "3359"
                ],
                [
                  "10",
                  "Santa Catarina",
                  "2275"
                ],
                [
                  "11",
                  "Amazonas",
                  "2206"
                ],
                [
                  "12",
                  "Distrito Federal",
                  "2054"
                ],
                [
                  "13",
                  "Mato Grosso",
                  "1800"
                ],
                [
                  "14",
                  "Maranhão",
                  "1787"
                ],
                [
                  "15",
                  "Rondônia",
                  "1537"
                ],
                [
                  "16",
                  "Espírito Santo",
                  "1511"
                ],
                [
                  "17",
                  "Mato Grosso do Sul",
                  "1440"
                ],
                [
                  "18",
                  "Tocantins",
                  "1306"
                ],
                [
                  "19",
                  "Sergipe",
                  "1287"
                ],
                [
                  "20",
                  "Paraíba",
                  "1274"
                ],
                [
                  "21",
                  "Piauí",
                  "1211"
                ],
                [
                  "22",
                  "Rio Grande do Norte",
                  "973"
                ],
                [
                  "23",
                  "Acre",
                  "937"
                ],
                [
                  "24",
                  "Alagoas",
                  "903"
                ],
                [
                  "25",
                  "Roraima",
                  "540"
                ],
                [
                  "26",
                  "Amapá",
                  "512"
                ]
              ],
              "shape": {
                "columns": 2,
                "rows": 27
              }
            },
            "text/html": [
              "<div>\n",
              "<style scoped>\n",
              "    .dataframe tbody tr th:only-of-type {\n",
              "        vertical-align: middle;\n",
              "    }\n",
              "\n",
              "    .dataframe tbody tr th {\n",
              "        vertical-align: top;\n",
              "    }\n",
              "\n",
              "    .dataframe thead th {\n",
              "        text-align: right;\n",
              "    }\n",
              "</style>\n",
              "<table border=\"1\" class=\"dataframe\">\n",
              "  <thead>\n",
              "    <tr style=\"text-align: right;\">\n",
              "      <th></th>\n",
              "      <th>UF</th>\n",
              "      <th>count</th>\n",
              "    </tr>\n",
              "  </thead>\n",
              "  <tbody>\n",
              "    <tr>\n",
              "      <th>0</th>\n",
              "      <td>São Paulo</td>\n",
              "      <td>8544</td>\n",
              "    </tr>\n",
              "    <tr>\n",
              "      <th>1</th>\n",
              "      <td>Minas Gerais</td>\n",
              "      <td>7686</td>\n",
              "    </tr>\n",
              "    <tr>\n",
              "      <th>2</th>\n",
              "      <td>Rio Grande do Sul</td>\n",
              "      <td>6322</td>\n",
              "    </tr>\n",
              "    <tr>\n",
              "      <th>3</th>\n",
              "      <td>Bahia</td>\n",
              "      <td>5717</td>\n",
              "    </tr>\n",
              "    <tr>\n",
              "      <th>4</th>\n",
              "      <td>Rio de Janeiro</td>\n",
              "      <td>5556</td>\n",
              "    </tr>\n",
              "    <tr>\n",
              "      <th>5</th>\n",
              "      <td>Pará</td>\n",
              "      <td>4449</td>\n",
              "    </tr>\n",
              "    <tr>\n",
              "      <th>6</th>\n",
              "      <td>Paraná</td>\n",
              "      <td>4356</td>\n",
              "    </tr>\n",
              "    <tr>\n",
              "      <th>7</th>\n",
              "      <td>Pernambuco</td>\n",
              "      <td>3820</td>\n",
              "    </tr>\n",
              "    <tr>\n",
              "      <th>8</th>\n",
              "      <td>Goiás</td>\n",
              "      <td>3478</td>\n",
              "    </tr>\n",
              "    <tr>\n",
              "      <th>9</th>\n",
              "      <td>Ceará</td>\n",
              "      <td>3359</td>\n",
              "    </tr>\n",
              "    <tr>\n",
              "      <th>10</th>\n",
              "      <td>Santa Catarina</td>\n",
              "      <td>2275</td>\n",
              "    </tr>\n",
              "    <tr>\n",
              "      <th>11</th>\n",
              "      <td>Amazonas</td>\n",
              "      <td>2206</td>\n",
              "    </tr>\n",
              "    <tr>\n",
              "      <th>12</th>\n",
              "      <td>Distrito Federal</td>\n",
              "      <td>2054</td>\n",
              "    </tr>\n",
              "    <tr>\n",
              "      <th>13</th>\n",
              "      <td>Mato Grosso</td>\n",
              "      <td>1800</td>\n",
              "    </tr>\n",
              "    <tr>\n",
              "      <th>14</th>\n",
              "      <td>Maranhão</td>\n",
              "      <td>1787</td>\n",
              "    </tr>\n",
              "    <tr>\n",
              "      <th>15</th>\n",
              "      <td>Rondônia</td>\n",
              "      <td>1537</td>\n",
              "    </tr>\n",
              "    <tr>\n",
              "      <th>16</th>\n",
              "      <td>Espírito Santo</td>\n",
              "      <td>1511</td>\n",
              "    </tr>\n",
              "    <tr>\n",
              "      <th>17</th>\n",
              "      <td>Mato Grosso do Sul</td>\n",
              "      <td>1440</td>\n",
              "    </tr>\n",
              "    <tr>\n",
              "      <th>18</th>\n",
              "      <td>Tocantins</td>\n",
              "      <td>1306</td>\n",
              "    </tr>\n",
              "    <tr>\n",
              "      <th>19</th>\n",
              "      <td>Sergipe</td>\n",
              "      <td>1287</td>\n",
              "    </tr>\n",
              "    <tr>\n",
              "      <th>20</th>\n",
              "      <td>Paraíba</td>\n",
              "      <td>1274</td>\n",
              "    </tr>\n",
              "    <tr>\n",
              "      <th>21</th>\n",
              "      <td>Piauí</td>\n",
              "      <td>1211</td>\n",
              "    </tr>\n",
              "    <tr>\n",
              "      <th>22</th>\n",
              "      <td>Rio Grande do Norte</td>\n",
              "      <td>973</td>\n",
              "    </tr>\n",
              "    <tr>\n",
              "      <th>23</th>\n",
              "      <td>Acre</td>\n",
              "      <td>937</td>\n",
              "    </tr>\n",
              "    <tr>\n",
              "      <th>24</th>\n",
              "      <td>Alagoas</td>\n",
              "      <td>903</td>\n",
              "    </tr>\n",
              "    <tr>\n",
              "      <th>25</th>\n",
              "      <td>Roraima</td>\n",
              "      <td>540</td>\n",
              "    </tr>\n",
              "    <tr>\n",
              "      <th>26</th>\n",
              "      <td>Amapá</td>\n",
              "      <td>512</td>\n",
              "    </tr>\n",
              "  </tbody>\n",
              "</table>\n",
              "</div>"
            ],
            "text/plain": [
              "                     UF  count\n",
              "0             São Paulo   8544\n",
              "1          Minas Gerais   7686\n",
              "2     Rio Grande do Sul   6322\n",
              "3                 Bahia   5717\n",
              "4        Rio de Janeiro   5556\n",
              "5                  Pará   4449\n",
              "6                Paraná   4356\n",
              "7            Pernambuco   3820\n",
              "8                 Goiás   3478\n",
              "9                 Ceará   3359\n",
              "10       Santa Catarina   2275\n",
              "11             Amazonas   2206\n",
              "12     Distrito Federal   2054\n",
              "13          Mato Grosso   1800\n",
              "14             Maranhão   1787\n",
              "15             Rondônia   1537\n",
              "16       Espírito Santo   1511\n",
              "17   Mato Grosso do Sul   1440\n",
              "18            Tocantins   1306\n",
              "19              Sergipe   1287\n",
              "20              Paraíba   1274\n",
              "21                Piauí   1211\n",
              "22  Rio Grande do Norte    973\n",
              "23                 Acre    937\n",
              "24              Alagoas    903\n",
              "25              Roraima    540\n",
              "26                Amapá    512"
            ]
          },
          "execution_count": 98,
          "metadata": {},
          "output_type": "execute_result"
        }
      ],
      "source": [
        "estados = dados['UF'].value_counts().reset_index()\n",
        "estados"
      ]
    },
    {
      "cell_type": "code",
      "execution_count": 99,
      "metadata": {
        "colab": {
          "base_uri": "https://localhost:8080/",
          "height": 472
        },
        "id": "-M7-GwhVXttB",
        "outputId": "e9481ab8-4352-4909-df6a-4db4dd8e64fd"
      },
      "outputs": [
        {
          "data": {
            "image/png": "[encoded data removed]",
            "text/plain": [
              "<Figure size 640x480 with 1 Axes>"
            ]
          },
          "metadata": {},
          "output_type": "display_data"
        }
      ],
      "source": [
        "# Ordena o DataFrame 'estados' pela coluna 'count' em ordem crescente\n",
        "estados_ordenado = estados.sort_values('count', ascending=True)\n",
        "\n",
        "plt.barh(estados_ordenado['UF'], estados_ordenado['count'])\n",
        "plt.xlabel('Populaçao')\n",
        "plt.ylabel('Estado')\n",
        "plt.title('Quantidade da pesquisa por Estado')\n",
        "plt.show()"
      ]
    },
    {
      "cell_type": "code",
      "execution_count": null,
      "metadata": {
        "id": "A_Wm9zumXttB"
      },
      "outputs": [],
      "source": []
    },
    {
      "cell_type": "markdown",
      "metadata": {
        "id": "8fTFk94y-ZUK"
      },
      "source": [
        "#### **Transforme as variáveis `Sexo`, `Cor` e `Anos.de.Estudo` em Categorical e observe o resultado**"
      ]
    },
    {
      "cell_type": "markdown",
      "metadata": {
        "id": "UUIelOM4-s9J"
      },
      "source": [
        "**Dica 1:** Para te auxiliar neste processo, a célula abaixo traz os vetores com os valores de cada coluna na ordem desejada.\n",
        "\n",
        "**Dica 2:** Utilize a tabela no início do documento para fazer a relação dos valores atuais para os desejados."
      ]
    },
    {
      "cell_type": "code",
      "execution_count": 100,
      "metadata": {
        "id": "P2QOn38uXttB"
      },
      "outputs": [],
      "source": [
        "# Definindo as variáveis\n",
        "sexo = {0: 'Masculino', 1: 'Feminino'}\n",
        "\n",
        "cor = {0:'Indígena', 2:'Branca', 4:'Preta', 6:'Amarela', 8:'Parda'}\n",
        "\n",
        "anos_de_estudo = {1:'Sem instrução e menos de 1 ano', 2:'1 ano', 3:'2 anos', 4:'3 anos', 5:'4 anos', 6:'5 anos',\n",
        "    7:'6 anos', 8:'7 anos', 9:'8 anos', 10:'9 anos', 11:'10 anos', 12:'11 anos', 13:'12 anos',14:'13 anos',\n",
        "    15:'14 anos', 16:'15 anos ou mais', 17:'Não determinados'\n",
        "}"
      ]
    },
    {
      "cell_type": "code",
      "execution_count": null,
      "metadata": {
        "id": "X25HkFyJXttB"
      },
      "outputs": [],
      "source": []
    },
    {
      "cell_type": "markdown",
      "metadata": {
        "id": "oNXrD7nYbu9L"
      },
      "source": [
        "##### Sexo"
      ]
    },
    {
      "cell_type": "code",
      "execution_count": 101,
      "metadata": {
        "id": "IoLIMTCyXttC"
      },
      "outputs": [],
      "source": [
        "dados['sexo_biologico'] = pd.Categorical(\n",
        "    dados['Sexo'],\n",
        "    categories=sorted(dados['Sexo'].unique()))"
      ]
    },
    {
      "cell_type": "code",
      "execution_count": 102,
      "metadata": {
        "id": "Dl4hvWsDXttC"
      },
      "outputs": [],
      "source": [
        "sexo_biologico_labels = sexo\n",
        "dados['sexo_biologico'] = dados['sexo_biologico'].map(sexo_biologico_labels)\n"
      ]
    },
    {
      "cell_type": "code",
      "execution_count": 103,
      "metadata": {
        "colab": {
          "base_uri": "https://localhost:8080/",
          "height": 206
        },
        "id": "xzR96CjyXttC",
        "outputId": "b38c83f5-8093-4922-e280-e457b4959681"
      },
      "outputs": [
        {
          "data": {
            "application/vnd.microsoft.datawrangler.viewer.v0+json": {
              "columns": [
                {
                  "name": "index",
                  "rawType": "int64",
                  "type": "integer"
                },
                {
                  "name": "UF",
                  "rawType": "object",
                  "type": "string"
                },
                {
                  "name": "Sexo",
                  "rawType": "int64",
                  "type": "integer"
                },
                {
                  "name": "Idade",
                  "rawType": "int64",
                  "type": "integer"
                },
                {
                  "name": "Cor",
                  "rawType": "int64",
                  "type": "integer"
                },
                {
                  "name": "Anos.de.Estudo",
                  "rawType": "int64",
                  "type": "integer"
                },
                {
                  "name": "Renda",
                  "rawType": "int64",
                  "type": "integer"
                },
                {
                  "name": "Altura",
                  "rawType": "float64",
                  "type": "float"
                },
                {
                  "name": "sexo_biologico",
                  "rawType": "category",
                  "type": "unknown"
                }
              ],
              "ref": "0d7d11a6-d262-4321-9b53-6eaf8f50026e",
              "rows": [
                [
                  "0",
                  "Rondônia",
                  "0",
                  "23",
                  "8",
                  "12",
                  "800",
                  "1.6",
                  "Masculino"
                ],
                [
                  "1",
                  "Rondônia",
                  "1",
                  "23",
                  "2",
                  "12",
                  "1150",
                  "1.74",
                  "Feminino"
                ],
                [
                  "2",
                  "Rondônia",
                  "1",
                  "35",
                  "8",
                  "15",
                  "880",
                  "1.76",
                  "Feminino"
                ],
                [
                  "3",
                  "Rondônia",
                  "0",
                  "46",
                  "2",
                  "6",
                  "3500",
                  "1.78",
                  "Masculino"
                ],
                [
                  "4",
                  "Rondônia",
                  "1",
                  "47",
                  "8",
                  "9",
                  "150",
                  "1.69",
                  "Feminino"
                ]
              ],
              "shape": {
                "columns": 8,
                "rows": 5
              }
            },
            "text/html": [
              "<div>\n",
              "<style scoped>\n",
              "    .dataframe tbody tr th:only-of-type {\n",
              "        vertical-align: middle;\n",
              "    }\n",
              "\n",
              "    .dataframe tbody tr th {\n",
              "        vertical-align: top;\n",
              "    }\n",
              "\n",
              "    .dataframe thead th {\n",
              "        text-align: right;\n",
              "    }\n",
              "</style>\n",
              "<table border=\"1\" class=\"dataframe\">\n",
              "  <thead>\n",
              "    <tr style=\"text-align: right;\">\n",
              "      <th></th>\n",
              "      <th>UF</th>\n",
              "      <th>Sexo</th>\n",
              "      <th>Idade</th>\n",
              "      <th>Cor</th>\n",
              "      <th>Anos.de.Estudo</th>\n",
              "      <th>Renda</th>\n",
              "      <th>Altura</th>\n",
              "      <th>sexo_biologico</th>\n",
              "    </tr>\n",
              "  </thead>\n",
              "  <tbody>\n",
              "    <tr>\n",
              "      <th>0</th>\n",
              "      <td>Rondônia</td>\n",
              "      <td>0</td>\n",
              "      <td>23</td>\n",
              "      <td>8</td>\n",
              "      <td>12</td>\n",
              "      <td>800</td>\n",
              "      <td>1.60</td>\n",
              "      <td>Masculino</td>\n",
              "    </tr>\n",
              "    <tr>\n",
              "      <th>1</th>\n",
              "      <td>Rondônia</td>\n",
              "      <td>1</td>\n",
              "      <td>23</td>\n",
              "      <td>2</td>\n",
              "      <td>12</td>\n",
              "      <td>1150</td>\n",
              "      <td>1.74</td>\n",
              "      <td>Feminino</td>\n",
              "    </tr>\n",
              "    <tr>\n",
              "      <th>2</th>\n",
              "      <td>Rondônia</td>\n",
              "      <td>1</td>\n",
              "      <td>35</td>\n",
              "      <td>8</td>\n",
              "      <td>15</td>\n",
              "      <td>880</td>\n",
              "      <td>1.76</td>\n",
              "      <td>Feminino</td>\n",
              "    </tr>\n",
              "    <tr>\n",
              "      <th>3</th>\n",
              "      <td>Rondônia</td>\n",
              "      <td>0</td>\n",
              "      <td>46</td>\n",
              "      <td>2</td>\n",
              "      <td>6</td>\n",
              "      <td>3500</td>\n",
              "      <td>1.78</td>\n",
              "      <td>Masculino</td>\n",
              "    </tr>\n",
              "    <tr>\n",
              "      <th>4</th>\n",
              "      <td>Rondônia</td>\n",
              "      <td>1</td>\n",
              "      <td>47</td>\n",
              "      <td>8</td>\n",
              "      <td>9</td>\n",
              "      <td>150</td>\n",
              "      <td>1.69</td>\n",
              "      <td>Feminino</td>\n",
              "    </tr>\n",
              "  </tbody>\n",
              "</table>\n",
              "</div>"
            ],
            "text/plain": [
              "         UF  Sexo  Idade  Cor  Anos.de.Estudo  Renda  Altura sexo_biologico\n",
              "0  Rondônia     0     23    8              12    800    1.60      Masculino\n",
              "1  Rondônia     1     23    2              12   1150    1.74       Feminino\n",
              "2  Rondônia     1     35    8              15    880    1.76       Feminino\n",
              "3  Rondônia     0     46    2               6   3500    1.78      Masculino\n",
              "4  Rondônia     1     47    8               9    150    1.69       Feminino"
            ]
          },
          "execution_count": 103,
          "metadata": {},
          "output_type": "execute_result"
        }
      ],
      "source": [
        "dados.head()"
      ]
    },
    {
      "cell_type": "code",
      "execution_count": 104,
      "metadata": {
        "colab": {
          "base_uri": "https://localhost:8080/",
          "height": 125
        },
        "id": "HoLAtYBP_LbT",
        "outputId": "0e1d39fd-ebfd-4ee9-8a2c-be50591466bc"
      },
      "outputs": [
        {
          "data": {
            "application/vnd.microsoft.datawrangler.viewer.v0+json": {
              "columns": [
                {
                  "name": "index",
                  "rawType": "int64",
                  "type": "integer"
                },
                {
                  "name": "sexo_biologico",
                  "rawType": "category",
                  "type": "unknown"
                },
                {
                  "name": "count",
                  "rawType": "int64",
                  "type": "integer"
                }
              ],
              "ref": "cf15b50d-16bb-4af4-bf34-e8bee426c9c4",
              "rows": [
                [
                  "0",
                  "Masculino",
                  "53250"
                ],
                [
                  "1",
                  "Feminino",
                  "23590"
                ]
              ],
              "shape": {
                "columns": 2,
                "rows": 2
              }
            },
            "text/html": [
              "<div>\n",
              "<style scoped>\n",
              "    .dataframe tbody tr th:only-of-type {\n",
              "        vertical-align: middle;\n",
              "    }\n",
              "\n",
              "    .dataframe tbody tr th {\n",
              "        vertical-align: top;\n",
              "    }\n",
              "\n",
              "    .dataframe thead th {\n",
              "        text-align: right;\n",
              "    }\n",
              "</style>\n",
              "<table border=\"1\" class=\"dataframe\">\n",
              "  <thead>\n",
              "    <tr style=\"text-align: right;\">\n",
              "      <th></th>\n",
              "      <th>sexo_biologico</th>\n",
              "      <th>count</th>\n",
              "    </tr>\n",
              "  </thead>\n",
              "  <tbody>\n",
              "    <tr>\n",
              "      <th>0</th>\n",
              "      <td>Masculino</td>\n",
              "      <td>53250</td>\n",
              "    </tr>\n",
              "    <tr>\n",
              "      <th>1</th>\n",
              "      <td>Feminino</td>\n",
              "      <td>23590</td>\n",
              "    </tr>\n",
              "  </tbody>\n",
              "</table>\n",
              "</div>"
            ],
            "text/plain": [
              "  sexo_biologico  count\n",
              "0      Masculino  53250\n",
              "1       Feminino  23590"
            ]
          },
          "execution_count": 104,
          "metadata": {},
          "output_type": "execute_result"
        }
      ],
      "source": [
        "sexo_quantidade = dados['sexo_biologico'].value_counts().reset_index()\n",
        "sexo_quantidade"
      ]
    },
    {
      "cell_type": "code",
      "execution_count": 105,
      "metadata": {
        "colab": {
          "base_uri": "https://localhost:8080/",
          "height": 472
        },
        "id": "c-HanKrE_zqw",
        "outputId": "94ed72fb-b795-4f7f-aeda-7fe5fd97a20e"
      },
      "outputs": [
        {
          "data": {
            "image/png": "[encoded data removed]",
            "text/plain": [
              "<Figure size 640x480 with 1 Axes>"
            ]
          },
          "metadata": {},
          "output_type": "display_data"
        }
      ],
      "source": [
        "plt.bar(sexo_quantidade['sexo_biologico'], sexo_quantidade['count'])\n",
        "plt.xlabel('Categoria')\n",
        "plt.ylabel('Quantidade')\n",
        "plt.title('Quantidade de pessoas entrevistadas por categoria')\n",
        "plt.show()"
      ]
    },
    {
      "cell_type": "markdown",
      "metadata": {
        "id": "qrrZ2J9kcCFl"
      },
      "source": [
        "##### Cor"
      ]
    },
    {
      "cell_type": "code",
      "execution_count": 106,
      "metadata": {
        "id": "_py-S1n4XttC"
      },
      "outputs": [],
      "source": [
        "dados['cor_pele'] = pd.Categorical(\n",
        "    dados['Cor'],\n",
        "    categories=sorted(dados['Cor'].unique()))"
      ]
    },
    {
      "cell_type": "code",
      "execution_count": 107,
      "metadata": {
        "colab": {
          "base_uri": "https://localhost:8080/",
          "height": 206
        },
        "id": "aaICZDtuXttC",
        "outputId": "5093f33c-b32d-43e4-a06c-848c3e5425cd"
      },
      "outputs": [
        {
          "data": {
            "application/vnd.microsoft.datawrangler.viewer.v0+json": {
              "columns": [
                {
                  "name": "index",
                  "rawType": "int64",
                  "type": "integer"
                },
                {
                  "name": "UF",
                  "rawType": "object",
                  "type": "string"
                },
                {
                  "name": "Sexo",
                  "rawType": "int64",
                  "type": "integer"
                },
                {
                  "name": "Idade",
                  "rawType": "int64",
                  "type": "integer"
                },
                {
                  "name": "Cor",
                  "rawType": "int64",
                  "type": "integer"
                },
                {
                  "name": "Anos.de.Estudo",
                  "rawType": "int64",
                  "type": "integer"
                },
                {
                  "name": "Renda",
                  "rawType": "int64",
                  "type": "integer"
                },
                {
                  "name": "Altura",
                  "rawType": "float64",
                  "type": "float"
                },
                {
                  "name": "sexo_biologico",
                  "rawType": "category",
                  "type": "unknown"
                },
                {
                  "name": "cor_pele",
                  "rawType": "category",
                  "type": "unknown"
                }
              ],
              "ref": "a5fab8e9-0cde-427d-b277-469c9f74e46b",
              "rows": [
                [
                  "0",
                  "Rondônia",
                  "0",
                  "23",
                  "8",
                  "12",
                  "800",
                  "1.6",
                  "Masculino",
                  "Parda"
                ],
                [
                  "1",
                  "Rondônia",
                  "1",
                  "23",
                  "2",
                  "12",
                  "1150",
                  "1.74",
                  "Feminino",
                  "Branca"
                ],
                [
                  "2",
                  "Rondônia",
                  "1",
                  "35",
                  "8",
                  "15",
                  "880",
                  "1.76",
                  "Feminino",
                  "Parda"
                ],
                [
                  "3",
                  "Rondônia",
                  "0",
                  "46",
                  "2",
                  "6",
                  "3500",
                  "1.78",
                  "Masculino",
                  "Branca"
                ],
                [
                  "4",
                  "Rondônia",
                  "1",
                  "47",
                  "8",
                  "9",
                  "150",
                  "1.69",
                  "Feminino",
                  "Parda"
                ]
              ],
              "shape": {
                "columns": 9,
                "rows": 5
              }
            },
            "text/html": [
              "<div>\n",
              "<style scoped>\n",
              "    .dataframe tbody tr th:only-of-type {\n",
              "        vertical-align: middle;\n",
              "    }\n",
              "\n",
              "    .dataframe tbody tr th {\n",
              "        vertical-align: top;\n",
              "    }\n",
              "\n",
              "    .dataframe thead th {\n",
              "        text-align: right;\n",
              "    }\n",
              "</style>\n",
              "<table border=\"1\" class=\"dataframe\">\n",
              "  <thead>\n",
              "    <tr style=\"text-align: right;\">\n",
              "      <th></th>\n",
              "      <th>UF</th>\n",
              "      <th>Sexo</th>\n",
              "      <th>Idade</th>\n",
              "      <th>Cor</th>\n",
              "      <th>Anos.de.Estudo</th>\n",
              "      <th>Renda</th>\n",
              "      <th>Altura</th>\n",
              "      <th>sexo_biologico</th>\n",
              "      <th>cor_pele</th>\n",
              "    </tr>\n",
              "  </thead>\n",
              "  <tbody>\n",
              "    <tr>\n",
              "      <th>0</th>\n",
              "      <td>Rondônia</td>\n",
              "      <td>0</td>\n",
              "      <td>23</td>\n",
              "      <td>8</td>\n",
              "      <td>12</td>\n",
              "      <td>800</td>\n",
              "      <td>1.60</td>\n",
              "      <td>Masculino</td>\n",
              "      <td>Parda</td>\n",
              "    </tr>\n",
              "    <tr>\n",
              "      <th>1</th>\n",
              "      <td>Rondônia</td>\n",
              "      <td>1</td>\n",
              "      <td>23</td>\n",
              "      <td>2</td>\n",
              "      <td>12</td>\n",
              "      <td>1150</td>\n",
              "      <td>1.74</td>\n",
              "      <td>Feminino</td>\n",
              "      <td>Branca</td>\n",
              "    </tr>\n",
              "    <tr>\n",
              "      <th>2</th>\n",
              "      <td>Rondônia</td>\n",
              "      <td>1</td>\n",
              "      <td>35</td>\n",
              "      <td>8</td>\n",
              "      <td>15</td>\n",
              "      <td>880</td>\n",
              "      <td>1.76</td>\n",
              "      <td>Feminino</td>\n",
              "      <td>Parda</td>\n",
              "    </tr>\n",
              "    <tr>\n",
              "      <th>3</th>\n",
              "      <td>Rondônia</td>\n",
              "      <td>0</td>\n",
              "      <td>46</td>\n",
              "      <td>2</td>\n",
              "      <td>6</td>\n",
              "      <td>3500</td>\n",
              "      <td>1.78</td>\n",
              "      <td>Masculino</td>\n",
              "      <td>Branca</td>\n",
              "    </tr>\n",
              "    <tr>\n",
              "      <th>4</th>\n",
              "      <td>Rondônia</td>\n",
              "      <td>1</td>\n",
              "      <td>47</td>\n",
              "      <td>8</td>\n",
              "      <td>9</td>\n",
              "      <td>150</td>\n",
              "      <td>1.69</td>\n",
              "      <td>Feminino</td>\n",
              "      <td>Parda</td>\n",
              "    </tr>\n",
              "  </tbody>\n",
              "</table>\n",
              "</div>"
            ],
            "text/plain": [
              "         UF  Sexo  Idade  Cor  Anos.de.Estudo  Renda  Altura sexo_biologico  \\\n",
              "0  Rondônia     0     23    8              12    800    1.60      Masculino   \n",
              "1  Rondônia     1     23    2              12   1150    1.74       Feminino   \n",
              "2  Rondônia     1     35    8              15    880    1.76       Feminino   \n",
              "3  Rondônia     0     46    2               6   3500    1.78      Masculino   \n",
              "4  Rondônia     1     47    8               9    150    1.69       Feminino   \n",
              "\n",
              "  cor_pele  \n",
              "0    Parda  \n",
              "1   Branca  \n",
              "2    Parda  \n",
              "3   Branca  \n",
              "4    Parda  "
            ]
          },
          "execution_count": 107,
          "metadata": {},
          "output_type": "execute_result"
        }
      ],
      "source": [
        "cor_pele_labels = cor\n",
        "dados['cor_pele'] = dados['cor_pele'].map(cor_pele_labels)\n",
        "dados.head()"
      ]
    },
    {
      "cell_type": "code",
      "execution_count": 108,
      "metadata": {
        "colab": {
          "base_uri": "https://localhost:8080/",
          "height": 206
        },
        "id": "9zQloxflBnSM",
        "outputId": "12fb2bea-9cce-4c6f-f757-b212b999314c"
      },
      "outputs": [
        {
          "data": {
            "application/vnd.microsoft.datawrangler.viewer.v0+json": {
              "columns": [
                {
                  "name": "index",
                  "rawType": "int64",
                  "type": "integer"
                },
                {
                  "name": "cor_pele",
                  "rawType": "category",
                  "type": "unknown"
                },
                {
                  "name": "count",
                  "rawType": "int64",
                  "type": "integer"
                }
              ],
              "ref": "9502fc59-7d25-4b28-b286-9e181c759114",
              "rows": [
                [
                  "0",
                  "Parda",
                  "35925"
                ],
                [
                  "1",
                  "Branca",
                  "31815"
                ],
                [
                  "2",
                  "Preta",
                  "8391"
                ],
                [
                  "3",
                  "Indígena",
                  "357"
                ],
                [
                  "4",
                  "Amarela",
                  "352"
                ]
              ],
              "shape": {
                "columns": 2,
                "rows": 5
              }
            },
            "text/html": [
              "<div>\n",
              "<style scoped>\n",
              "    .dataframe tbody tr th:only-of-type {\n",
              "        vertical-align: middle;\n",
              "    }\n",
              "\n",
              "    .dataframe tbody tr th {\n",
              "        vertical-align: top;\n",
              "    }\n",
              "\n",
              "    .dataframe thead th {\n",
              "        text-align: right;\n",
              "    }\n",
              "</style>\n",
              "<table border=\"1\" class=\"dataframe\">\n",
              "  <thead>\n",
              "    <tr style=\"text-align: right;\">\n",
              "      <th></th>\n",
              "      <th>cor_pele</th>\n",
              "      <th>count</th>\n",
              "    </tr>\n",
              "  </thead>\n",
              "  <tbody>\n",
              "    <tr>\n",
              "      <th>0</th>\n",
              "      <td>Parda</td>\n",
              "      <td>35925</td>\n",
              "    </tr>\n",
              "    <tr>\n",
              "      <th>1</th>\n",
              "      <td>Branca</td>\n",
              "      <td>31815</td>\n",
              "    </tr>\n",
              "    <tr>\n",
              "      <th>2</th>\n",
              "      <td>Preta</td>\n",
              "      <td>8391</td>\n",
              "    </tr>\n",
              "    <tr>\n",
              "      <th>3</th>\n",
              "      <td>Indígena</td>\n",
              "      <td>357</td>\n",
              "    </tr>\n",
              "    <tr>\n",
              "      <th>4</th>\n",
              "      <td>Amarela</td>\n",
              "      <td>352</td>\n",
              "    </tr>\n",
              "  </tbody>\n",
              "</table>\n",
              "</div>"
            ],
            "text/plain": [
              "   cor_pele  count\n",
              "0     Parda  35925\n",
              "1    Branca  31815\n",
              "2     Preta   8391\n",
              "3  Indígena    357\n",
              "4   Amarela    352"
            ]
          },
          "execution_count": 108,
          "metadata": {},
          "output_type": "execute_result"
        }
      ],
      "source": [
        "cor_quantidade = dados['cor_pele'].value_counts().reset_index()\n",
        "cor_quantidade"
      ]
    },
    {
      "cell_type": "code",
      "execution_count": 109,
      "metadata": {
        "colab": {
          "base_uri": "https://localhost:8080/",
          "height": 472
        },
        "id": "dWGOdLStB6OJ",
        "outputId": "de3af580-e68a-4d7c-efba-c1423ecdead0"
      },
      "outputs": [
        {
          "data": {
            "image/png": "[encoded data removed]",
            "text/plain": [
              "<Figure size 640x480 with 1 Axes>"
            ]
          },
          "metadata": {},
          "output_type": "display_data"
        }
      ],
      "source": [
        "plt.bar(cor_quantidade['cor_pele'], cor_quantidade['count'])\n",
        "plt.xlabel('Categoria')\n",
        "plt.ylabel('Quantidade')\n",
        "plt.title('Quantidade de pessoas entrevistadas por cor da pele')\n",
        "plt.show()"
      ]
    },
    {
      "cell_type": "markdown",
      "metadata": {
        "id": "ssIG-8t6cE5r"
      },
      "source": [
        "##### Anos de Estudo"
      ]
    },
    {
      "cell_type": "code",
      "execution_count": 110,
      "metadata": {
        "id": "qow6gO1oXttD"
      },
      "outputs": [],
      "source": [
        "dados['anos_estudados'] = pd.Categorical(\n",
        "    dados['Anos.de.Estudo'],\n",
        "    categories=sorted(dados['Anos.de.Estudo'].unique()))"
      ]
    },
    {
      "cell_type": "code",
      "execution_count": 111,
      "metadata": {
        "colab": {
          "base_uri": "https://localhost:8080/",
          "height": 206
        },
        "id": "xLxEV5HYXttD",
        "outputId": "e7d4daf5-a31c-4e9c-a286-3a4518c05fcf"
      },
      "outputs": [
        {
          "data": {
            "application/vnd.microsoft.datawrangler.viewer.v0+json": {
              "columns": [
                {
                  "name": "index",
                  "rawType": "int64",
                  "type": "integer"
                },
                {
                  "name": "UF",
                  "rawType": "object",
                  "type": "string"
                },
                {
                  "name": "Sexo",
                  "rawType": "int64",
                  "type": "integer"
                },
                {
                  "name": "Idade",
                  "rawType": "int64",
                  "type": "integer"
                },
                {
                  "name": "Cor",
                  "rawType": "int64",
                  "type": "integer"
                },
                {
                  "name": "Anos.de.Estudo",
                  "rawType": "int64",
                  "type": "integer"
                },
                {
                  "name": "Renda",
                  "rawType": "int64",
                  "type": "integer"
                },
                {
                  "name": "Altura",
                  "rawType": "float64",
                  "type": "float"
                },
                {
                  "name": "sexo_biologico",
                  "rawType": "category",
                  "type": "unknown"
                },
                {
                  "name": "cor_pele",
                  "rawType": "category",
                  "type": "unknown"
                },
                {
                  "name": "anos_estudados",
                  "rawType": "category",
                  "type": "unknown"
                }
              ],
              "ref": "d7ebbc6e-edae-4987-8fae-ec6f687b70aa",
              "rows": [
                [
                  "0",
                  "Rondônia",
                  "0",
                  "23",
                  "8",
                  "12",
                  "800",
                  "1.6",
                  "Masculino",
                  "Parda",
                  "11 anos"
                ],
                [
                  "1",
                  "Rondônia",
                  "1",
                  "23",
                  "2",
                  "12",
                  "1150",
                  "1.74",
                  "Feminino",
                  "Branca",
                  "11 anos"
                ],
                [
                  "2",
                  "Rondônia",
                  "1",
                  "35",
                  "8",
                  "15",
                  "880",
                  "1.76",
                  "Feminino",
                  "Parda",
                  "14 anos"
                ],
                [
                  "3",
                  "Rondônia",
                  "0",
                  "46",
                  "2",
                  "6",
                  "3500",
                  "1.78",
                  "Masculino",
                  "Branca",
                  "5 anos"
                ],
                [
                  "4",
                  "Rondônia",
                  "1",
                  "47",
                  "8",
                  "9",
                  "150",
                  "1.69",
                  "Feminino",
                  "Parda",
                  "8 anos"
                ]
              ],
              "shape": {
                "columns": 10,
                "rows": 5
              }
            },
            "text/html": [
              "<div>\n",
              "<style scoped>\n",
              "    .dataframe tbody tr th:only-of-type {\n",
              "        vertical-align: middle;\n",
              "    }\n",
              "\n",
              "    .dataframe tbody tr th {\n",
              "        vertical-align: top;\n",
              "    }\n",
              "\n",
              "    .dataframe thead th {\n",
              "        text-align: right;\n",
              "    }\n",
              "</style>\n",
              "<table border=\"1\" class=\"dataframe\">\n",
              "  <thead>\n",
              "    <tr style=\"text-align: right;\">\n",
              "      <th></th>\n",
              "      <th>UF</th>\n",
              "      <th>Sexo</th>\n",
              "      <th>Idade</th>\n",
              "      <th>Cor</th>\n",
              "      <th>Anos.de.Estudo</th>\n",
              "      <th>Renda</th>\n",
              "      <th>Altura</th>\n",
              "      <th>sexo_biologico</th>\n",
              "      <th>cor_pele</th>\n",
              "      <th>anos_estudados</th>\n",
              "    </tr>\n",
              "  </thead>\n",
              "  <tbody>\n",
              "    <tr>\n",
              "      <th>0</th>\n",
              "      <td>Rondônia</td>\n",
              "      <td>0</td>\n",
              "      <td>23</td>\n",
              "      <td>8</td>\n",
              "      <td>12</td>\n",
              "      <td>800</td>\n",
              "      <td>1.60</td>\n",
              "      <td>Masculino</td>\n",
              "      <td>Parda</td>\n",
              "      <td>11 anos</td>\n",
              "    </tr>\n",
              "    <tr>\n",
              "      <th>1</th>\n",
              "      <td>Rondônia</td>\n",
              "      <td>1</td>\n",
              "      <td>23</td>\n",
              "      <td>2</td>\n",
              "      <td>12</td>\n",
              "      <td>1150</td>\n",
              "      <td>1.74</td>\n",
              "      <td>Feminino</td>\n",
              "      <td>Branca</td>\n",
              "      <td>11 anos</td>\n",
              "    </tr>\n",
              "    <tr>\n",
              "      <th>2</th>\n",
              "      <td>Rondônia</td>\n",
              "      <td>1</td>\n",
              "      <td>35</td>\n",
              "      <td>8</td>\n",
              "      <td>15</td>\n",
              "      <td>880</td>\n",
              "      <td>1.76</td>\n",
              "      <td>Feminino</td>\n",
              "      <td>Parda</td>\n",
              "      <td>14 anos</td>\n",
              "    </tr>\n",
              "    <tr>\n",
              "      <th>3</th>\n",
              "      <td>Rondônia</td>\n",
              "      <td>0</td>\n",
              "      <td>46</td>\n",
              "      <td>2</td>\n",
              "      <td>6</td>\n",
              "      <td>3500</td>\n",
              "      <td>1.78</td>\n",
              "      <td>Masculino</td>\n",
              "      <td>Branca</td>\n",
              "      <td>5 anos</td>\n",
              "    </tr>\n",
              "    <tr>\n",
              "      <th>4</th>\n",
              "      <td>Rondônia</td>\n",
              "      <td>1</td>\n",
              "      <td>47</td>\n",
              "      <td>8</td>\n",
              "      <td>9</td>\n",
              "      <td>150</td>\n",
              "      <td>1.69</td>\n",
              "      <td>Feminino</td>\n",
              "      <td>Parda</td>\n",
              "      <td>8 anos</td>\n",
              "    </tr>\n",
              "  </tbody>\n",
              "</table>\n",
              "</div>"
            ],
            "text/plain": [
              "         UF  Sexo  Idade  Cor  Anos.de.Estudo  Renda  Altura sexo_biologico  \\\n",
              "0  Rondônia     0     23    8              12    800    1.60      Masculino   \n",
              "1  Rondônia     1     23    2              12   1150    1.74       Feminino   \n",
              "2  Rondônia     1     35    8              15    880    1.76       Feminino   \n",
              "3  Rondônia     0     46    2               6   3500    1.78      Masculino   \n",
              "4  Rondônia     1     47    8               9    150    1.69       Feminino   \n",
              "\n",
              "  cor_pele anos_estudados  \n",
              "0    Parda        11 anos  \n",
              "1   Branca        11 anos  \n",
              "2    Parda        14 anos  \n",
              "3   Branca         5 anos  \n",
              "4    Parda         8 anos  "
            ]
          },
          "execution_count": 111,
          "metadata": {},
          "output_type": "execute_result"
        }
      ],
      "source": [
        "anos_estudados_labels = anos_de_estudo\n",
        "dados['anos_estudados'] = dados['anos_estudados'].map(anos_estudados_labels)\n",
        "dados.head()"
      ]
    },
    {
      "cell_type": "code",
      "execution_count": 112,
      "metadata": {
        "colab": {
          "base_uri": "https://localhost:8080/",
          "height": 582
        },
        "id": "i4C4N9F4XttH",
        "outputId": "d7df4c1b-b68d-4267-ea4a-4896359deb75"
      },
      "outputs": [
        {
          "data": {
            "application/vnd.microsoft.datawrangler.viewer.v0+json": {
              "columns": [
                {
                  "name": "index",
                  "rawType": "int64",
                  "type": "integer"
                },
                {
                  "name": "anos_estudados",
                  "rawType": "category",
                  "type": "unknown"
                },
                {
                  "name": "count",
                  "rawType": "int64",
                  "type": "integer"
                }
              ],
              "ref": "1b9dc5bd-205a-44ce-a1dc-884fe93df924",
              "rows": [
                [
                  "0",
                  "11 anos",
                  "20848"
                ],
                [
                  "1",
                  "15 anos ou mais",
                  "10795"
                ],
                [
                  "2",
                  "8 anos",
                  "7980"
                ],
                [
                  "3",
                  "4 anos",
                  "6729"
                ],
                [
                  "4",
                  "Sem instrução e menos de 1 ano",
                  "5849"
                ],
                [
                  "5",
                  "5 anos",
                  "4499"
                ],
                [
                  "6",
                  "3 anos",
                  "2891"
                ],
                [
                  "7",
                  "7 anos",
                  "2689"
                ],
                [
                  "8",
                  "6 anos",
                  "2445"
                ],
                [
                  "9",
                  "10 anos",
                  "2118"
                ],
                [
                  "10",
                  "2 anos",
                  "2101"
                ],
                [
                  "11",
                  "9 anos",
                  "1840"
                ],
                [
                  "12",
                  "12 anos",
                  "1836"
                ],
                [
                  "13",
                  "1 ano",
                  "1388"
                ],
                [
                  "14",
                  "14 anos",
                  "1388"
                ],
                [
                  "15",
                  "13 anos",
                  "1253"
                ],
                [
                  "16",
                  "Não determinados",
                  "191"
                ]
              ],
              "shape": {
                "columns": 2,
                "rows": 17
              }
            },
            "text/html": [
              "<div>\n",
              "<style scoped>\n",
              "    .dataframe tbody tr th:only-of-type {\n",
              "        vertical-align: middle;\n",
              "    }\n",
              "\n",
              "    .dataframe tbody tr th {\n",
              "        vertical-align: top;\n",
              "    }\n",
              "\n",
              "    .dataframe thead th {\n",
              "        text-align: right;\n",
              "    }\n",
              "</style>\n",
              "<table border=\"1\" class=\"dataframe\">\n",
              "  <thead>\n",
              "    <tr style=\"text-align: right;\">\n",
              "      <th></th>\n",
              "      <th>anos_estudados</th>\n",
              "      <th>count</th>\n",
              "    </tr>\n",
              "  </thead>\n",
              "  <tbody>\n",
              "    <tr>\n",
              "      <th>0</th>\n",
              "      <td>11 anos</td>\n",
              "      <td>20848</td>\n",
              "    </tr>\n",
              "    <tr>\n",
              "      <th>1</th>\n",
              "      <td>15 anos ou mais</td>\n",
              "      <td>10795</td>\n",
              "    </tr>\n",
              "    <tr>\n",
              "      <th>2</th>\n",
              "      <td>8 anos</td>\n",
              "      <td>7980</td>\n",
              "    </tr>\n",
              "    <tr>\n",
              "      <th>3</th>\n",
              "      <td>4 anos</td>\n",
              "      <td>6729</td>\n",
              "    </tr>\n",
              "    <tr>\n",
              "      <th>4</th>\n",
              "      <td>Sem instrução e menos de 1 ano</td>\n",
              "      <td>5849</td>\n",
              "    </tr>\n",
              "    <tr>\n",
              "      <th>5</th>\n",
              "      <td>5 anos</td>\n",
              "      <td>4499</td>\n",
              "    </tr>\n",
              "    <tr>\n",
              "      <th>6</th>\n",
              "      <td>3 anos</td>\n",
              "      <td>2891</td>\n",
              "    </tr>\n",
              "    <tr>\n",
              "      <th>7</th>\n",
              "      <td>7 anos</td>\n",
              "      <td>2689</td>\n",
              "    </tr>\n",
              "    <tr>\n",
              "      <th>8</th>\n",
              "      <td>6 anos</td>\n",
              "      <td>2445</td>\n",
              "    </tr>\n",
              "    <tr>\n",
              "      <th>9</th>\n",
              "      <td>10 anos</td>\n",
              "      <td>2118</td>\n",
              "    </tr>\n",
              "    <tr>\n",
              "      <th>10</th>\n",
              "      <td>2 anos</td>\n",
              "      <td>2101</td>\n",
              "    </tr>\n",
              "    <tr>\n",
              "      <th>11</th>\n",
              "      <td>9 anos</td>\n",
              "      <td>1840</td>\n",
              "    </tr>\n",
              "    <tr>\n",
              "      <th>12</th>\n",
              "      <td>12 anos</td>\n",
              "      <td>1836</td>\n",
              "    </tr>\n",
              "    <tr>\n",
              "      <th>13</th>\n",
              "      <td>1 ano</td>\n",
              "      <td>1388</td>\n",
              "    </tr>\n",
              "    <tr>\n",
              "      <th>14</th>\n",
              "      <td>14 anos</td>\n",
              "      <td>1388</td>\n",
              "    </tr>\n",
              "    <tr>\n",
              "      <th>15</th>\n",
              "      <td>13 anos</td>\n",
              "      <td>1253</td>\n",
              "    </tr>\n",
              "    <tr>\n",
              "      <th>16</th>\n",
              "      <td>Não determinados</td>\n",
              "      <td>191</td>\n",
              "    </tr>\n",
              "  </tbody>\n",
              "</table>\n",
              "</div>"
            ],
            "text/plain": [
              "                    anos_estudados  count\n",
              "0                          11 anos  20848\n",
              "1                  15 anos ou mais  10795\n",
              "2                           8 anos   7980\n",
              "3                           4 anos   6729\n",
              "4   Sem instrução e menos de 1 ano   5849\n",
              "5                           5 anos   4499\n",
              "6                           3 anos   2891\n",
              "7                           7 anos   2689\n",
              "8                           6 anos   2445\n",
              "9                          10 anos   2118\n",
              "10                          2 anos   2101\n",
              "11                          9 anos   1840\n",
              "12                         12 anos   1836\n",
              "13                           1 ano   1388\n",
              "14                         14 anos   1388\n",
              "15                         13 anos   1253\n",
              "16                Não determinados    191"
            ]
          },
          "execution_count": 112,
          "metadata": {},
          "output_type": "execute_result"
        }
      ],
      "source": [
        "anos_estudados_quantidade = dados['anos_estudados'].value_counts().reset_index()\n",
        "anos_estudados_quantidade"
      ]
    },
    {
      "cell_type": "code",
      "execution_count": 113,
      "metadata": {
        "colab": {
          "base_uri": "https://localhost:8080/",
          "height": 472
        },
        "id": "DW6bPDXtFHUY",
        "outputId": "b1fadcbe-2055-4008-adfd-e4b1d7a8110d"
      },
      "outputs": [
        {
          "data": {
            "image/png": "[encoded data removed]",
            "text/plain": [
              "<Figure size 640x480 with 1 Axes>"
            ]
          },
          "metadata": {},
          "output_type": "display_data"
        }
      ],
      "source": [
        "plt.barh(anos_estudados_quantidade['anos_estudados'], anos_estudados_quantidade['count'])\n",
        "plt.xlabel('Quantidade')\n",
        "plt.ylabel('Categoria')\n",
        "plt.title('Quantidade de pessoas entrevistadas por anos de estudo')\n",
        "plt.show()"
      ]
    },
    {
      "cell_type": "markdown",
      "metadata": {
        "id": "WKyt39VYTgo4"
      },
      "source": [
        "### Aqui um exemplo de como calcular frequências"
      ]
    },
    {
      "cell_type": "code",
      "execution_count": 114,
      "metadata": {
        "colab": {
          "base_uri": "https://localhost:8080/",
          "height": 175
        },
        "id": "GHQLaJ9sTun1",
        "outputId": "078bb6ba-3c32-4d5c-e765-fd31d7c142d5"
      },
      "outputs": [
        {
          "data": {
            "application/vnd.microsoft.datawrangler.viewer.v0+json": {
              "columns": [
                {
                  "name": "index",
                  "rawType": "int64",
                  "type": "integer"
                },
                {
                  "name": "Meio_Transporte",
                  "rawType": "object",
                  "type": "string"
                },
                {
                  "name": "Fi",
                  "rawType": "int64",
                  "type": "integer"
                },
                {
                  "name": "Fri",
                  "rawType": "float64",
                  "type": "float"
                },
                {
                  "name": "F",
                  "rawType": "int64",
                  "type": "integer"
                },
                {
                  "name": "Fri_acum",
                  "rawType": "float64",
                  "type": "float"
                }
              ],
              "ref": "3ce0f8a0-7791-42ef-818f-2f178bd48475",
              "rows": [
                [
                  "1",
                  "Carro",
                  "14",
                  "0.29",
                  "26",
                  "0.54"
                ],
                [
                  "0",
                  "Bicicleta",
                  "12",
                  "0.25",
                  "12",
                  "0.25"
                ],
                [
                  "2",
                  "Metrô",
                  "11",
                  "0.23",
                  "37",
                  "0.77"
                ],
                [
                  "3",
                  "Ônibus",
                  "11",
                  "0.23",
                  "48",
                  "1.0"
                ]
              ],
              "shape": {
                "columns": 5,
                "rows": 4
              }
            },
            "text/html": [
              "<div>\n",
              "<style scoped>\n",
              "    .dataframe tbody tr th:only-of-type {\n",
              "        vertical-align: middle;\n",
              "    }\n",
              "\n",
              "    .dataframe tbody tr th {\n",
              "        vertical-align: top;\n",
              "    }\n",
              "\n",
              "    .dataframe thead th {\n",
              "        text-align: right;\n",
              "    }\n",
              "</style>\n",
              "<table border=\"1\" class=\"dataframe\">\n",
              "  <thead>\n",
              "    <tr style=\"text-align: right;\">\n",
              "      <th></th>\n",
              "      <th>Meio_Transporte</th>\n",
              "      <th>Fi</th>\n",
              "      <th>Fri</th>\n",
              "      <th>F</th>\n",
              "      <th>Fri_acum</th>\n",
              "    </tr>\n",
              "  </thead>\n",
              "  <tbody>\n",
              "    <tr>\n",
              "      <th>1</th>\n",
              "      <td>Carro</td>\n",
              "      <td>14</td>\n",
              "      <td>0.29</td>\n",
              "      <td>26</td>\n",
              "      <td>0.54</td>\n",
              "    </tr>\n",
              "    <tr>\n",
              "      <th>0</th>\n",
              "      <td>Bicicleta</td>\n",
              "      <td>12</td>\n",
              "      <td>0.25</td>\n",
              "      <td>12</td>\n",
              "      <td>0.25</td>\n",
              "    </tr>\n",
              "    <tr>\n",
              "      <th>2</th>\n",
              "      <td>Metrô</td>\n",
              "      <td>11</td>\n",
              "      <td>0.23</td>\n",
              "      <td>37</td>\n",
              "      <td>0.77</td>\n",
              "    </tr>\n",
              "    <tr>\n",
              "      <th>3</th>\n",
              "      <td>Ônibus</td>\n",
              "      <td>11</td>\n",
              "      <td>0.23</td>\n",
              "      <td>48</td>\n",
              "      <td>1.00</td>\n",
              "    </tr>\n",
              "  </tbody>\n",
              "</table>\n",
              "</div>"
            ],
            "text/plain": [
              "  Meio_Transporte  Fi   Fri   F  Fri_acum\n",
              "1           Carro  14  0.29  26      0.54\n",
              "0       Bicicleta  12  0.25  12      0.25\n",
              "2           Metrô  11  0.23  37      0.77\n",
              "3          Ônibus  11  0.23  48      1.00"
            ]
          },
          "execution_count": 114,
          "metadata": {},
          "output_type": "execute_result"
        }
      ],
      "source": [
        "# Dados das preferências de transporte\n",
        "transporte = [\n",
        "    \"Carro\", \"Ônibus\", \"Bicicleta\", \"Carro\", \"Metrô\", \"Ônibus\",\n",
        "    \"Bicicleta\", \"Carro\", \"Metrô\", \"Bicicleta\", \"Carro\", \"Ônibus\",\n",
        "    \"Bicicleta\", \"Carro\", \"Metrô\", \"Carro\", \"Ônibus\", \"Bicicleta\",\n",
        "    \"Carro\", \"Metrô\", \"Ônibus\", \"Bicicleta\", \"Metrô\", \"Carro\",\n",
        "    \"Bicicleta\", \"Carro\", \"Metrô\", \"Ônibus\", \"Carro\", \"Bicicleta\",\n",
        "    \"Metrô\", \"Ônibus\", \"Carro\", \"Bicicleta\", \"Ônibus\", \"Metrô\",\n",
        "    \"Carro\", \"Ônibus\", \"Metrô\", \"Bicicleta\", \"Carro\", \"Metrô\",\n",
        "    \"Bicicleta\", \"Ônibus\", \"Carro\", \"Metrô\", \"Ônibus\", \"Bicicleta\"\n",
        "]\n",
        "\n",
        "# Transformando em um DataFrame\n",
        "df_transporte = pd.DataFrame(transporte, columns=['Meio_Transporte'])\n",
        "\n",
        "# Calculando a distribuição de frequência e ordenando por frequência absoluta\n",
        "tabela_freq = (\n",
        "    df_transporte.groupby('Meio_Transporte')\n",
        "    .size()\n",
        "    .reset_index(name='Fi')  # Frequência absoluta\n",
        ")\n",
        "\n",
        "# Calculando a frequência relativa\n",
        "tabela_freq['Fri'] = round(tabela_freq['Fi'] / tabela_freq['Fi'].sum(),2)\n",
        "\n",
        "# Calculando a frequência acumulada\n",
        "tabela_freq['F'] = tabela_freq['Fi'].cumsum()\n",
        "\n",
        "# Calculando a frequência relativa acumulada\n",
        "tabela_freq['Fri_acum'] = tabela_freq['Fri'].cumsum()\n",
        "\n",
        "# Ordenando pela frequência absoluta\n",
        "tabela_freq = tabela_freq.sort_values(by='Fi', ascending=False)\n",
        "\n",
        "tabela_freq"
      ]
    },
    {
      "cell_type": "markdown",
      "metadata": {
        "id": "kZO79aSSgp7w"
      },
      "source": [
        "#### **Apresente em texto a menor e maior `Renda` da base de dados**"
      ]
    },
    {
      "cell_type": "markdown",
      "metadata": {
        "id": "L3vbQxRRiMF0"
      },
      "source": [
        "**Dica:** A renda é uma medida discreta. Utilizamos f-strings para formatar a string de forma mais legível e eficiente, substituindo diretamente as variáveis dentro da string"
      ]
    },
    {
      "cell_type": "code",
      "execution_count": 115,
      "metadata": {
        "id": "E93TUzf0XttI"
      },
      "outputs": [
        {
          "name": "stdout",
          "output_type": "stream",
          "text": [
            "A menor Renda da base de dados é de R$0.00 e a maior é de R$ 200,000\n"
          ]
        }
      ],
      "source": [
        "print(f\"A menor Renda da base de dados é de R${min(dados['Renda']):,.2f} e a maior é de R$ {max(dados['Renda']):,.0f}\")"
      ]
    },
    {
      "cell_type": "markdown",
      "metadata": {
        "id": "ix1N_JAH_T1C"
      },
      "source": [
        "## **Aula 02 - Identificando o perfil do público**"
      ]
    },
    {
      "cell_type": "markdown",
      "metadata": {
        "id": "J_4eNIp7i6Rh"
      },
      "source": [
        "### **Mão na Massa - Analisando o perfil das pessoas responsáveis**"
      ]
    },
    {
      "cell_type": "markdown",
      "metadata": {
        "id": "0rBGP9HaAQJj"
      },
      "source": [
        "Vamos prosseguir no treinamento, agora identificando o perfil das pessoas responsáveis pelo domicílio de acordo com os dados da PNAD de 2015. Responda às perguntas abaixo e reflita sobre os achados."
      ]
    },
    {
      "cell_type": "markdown",
      "metadata": {
        "id": "IMiAX2onkchv"
      },
      "source": [
        "#### **Construa uma tabela de frequências das pessoas responsáveis pelo domicílio por `Cat.Sexo`. Adicione também uma coluna com esse valor em porcentagem.**"
      ]
    },
    {
      "cell_type": "code",
      "execution_count": 116,
      "metadata": {
        "id": "wFMEzZ_qXttI"
      },
      "outputs": [
        {
          "data": {
            "application/vnd.microsoft.datawrangler.viewer.v0+json": {
              "columns": [
                {
                  "name": "index",
                  "rawType": "int64",
                  "type": "integer"
                },
                {
                  "name": "UF",
                  "rawType": "object",
                  "type": "string"
                },
                {
                  "name": "Sexo",
                  "rawType": "int64",
                  "type": "integer"
                },
                {
                  "name": "Idade",
                  "rawType": "int64",
                  "type": "integer"
                },
                {
                  "name": "Cor",
                  "rawType": "int64",
                  "type": "integer"
                },
                {
                  "name": "Anos.de.Estudo",
                  "rawType": "int64",
                  "type": "integer"
                },
                {
                  "name": "Renda",
                  "rawType": "int64",
                  "type": "integer"
                },
                {
                  "name": "Altura",
                  "rawType": "float64",
                  "type": "float"
                },
                {
                  "name": "sexo_biologico",
                  "rawType": "category",
                  "type": "unknown"
                },
                {
                  "name": "cor_pele",
                  "rawType": "category",
                  "type": "unknown"
                },
                {
                  "name": "anos_estudados",
                  "rawType": "category",
                  "type": "unknown"
                }
              ],
              "ref": "0321f3d8-8c21-4e3b-9268-4d97931d1011",
              "rows": [
                [
                  "0",
                  "Rondônia",
                  "0",
                  "23",
                  "8",
                  "12",
                  "800",
                  "1.6",
                  "Masculino",
                  "Parda",
                  "11 anos"
                ],
                [
                  "1",
                  "Rondônia",
                  "1",
                  "23",
                  "2",
                  "12",
                  "1150",
                  "1.74",
                  "Feminino",
                  "Branca",
                  "11 anos"
                ],
                [
                  "2",
                  "Rondônia",
                  "1",
                  "35",
                  "8",
                  "15",
                  "880",
                  "1.76",
                  "Feminino",
                  "Parda",
                  "14 anos"
                ],
                [
                  "3",
                  "Rondônia",
                  "0",
                  "46",
                  "2",
                  "6",
                  "3500",
                  "1.78",
                  "Masculino",
                  "Branca",
                  "5 anos"
                ],
                [
                  "4",
                  "Rondônia",
                  "1",
                  "47",
                  "8",
                  "9",
                  "150",
                  "1.69",
                  "Feminino",
                  "Parda",
                  "8 anos"
                ],
                [
                  "5",
                  "Rondônia",
                  "1",
                  "34",
                  "8",
                  "12",
                  "790",
                  "1.64",
                  "Feminino",
                  "Parda",
                  "11 anos"
                ],
                [
                  "6",
                  "Rondônia",
                  "0",
                  "57",
                  "8",
                  "12",
                  "3150",
                  "1.57",
                  "Masculino",
                  "Parda",
                  "11 anos"
                ],
                [
                  "7",
                  "Rondônia",
                  "1",
                  "60",
                  "8",
                  "12",
                  "1700",
                  "1.61",
                  "Feminino",
                  "Parda",
                  "11 anos"
                ],
                [
                  "8",
                  "Rondônia",
                  "1",
                  "50",
                  "4",
                  "14",
                  "1800",
                  "1.78",
                  "Feminino",
                  "Preta",
                  "13 anos"
                ],
                [
                  "9",
                  "Rondônia",
                  "0",
                  "26",
                  "8",
                  "12",
                  "1150",
                  "1.79",
                  "Masculino",
                  "Parda",
                  "11 anos"
                ],
                [
                  "10",
                  "Rondônia",
                  "1",
                  "46",
                  "8",
                  "12",
                  "3000",
                  "1.79",
                  "Feminino",
                  "Parda",
                  "11 anos"
                ],
                [
                  "11",
                  "Rondônia",
                  "1",
                  "49",
                  "8",
                  "6",
                  "2500",
                  "1.71",
                  "Feminino",
                  "Parda",
                  "5 anos"
                ],
                [
                  "12",
                  "Rondônia",
                  "1",
                  "52",
                  "2",
                  "6",
                  "1200",
                  "1.74",
                  "Feminino",
                  "Branca",
                  "5 anos"
                ],
                [
                  "13",
                  "Rondônia",
                  "0",
                  "38",
                  "8",
                  "12",
                  "2000",
                  "1.75",
                  "Masculino",
                  "Parda",
                  "11 anos"
                ],
                [
                  "14",
                  "Rondônia",
                  "0",
                  "45",
                  "2",
                  "12",
                  "2000",
                  "1.78",
                  "Masculino",
                  "Branca",
                  "11 anos"
                ],
                [
                  "15",
                  "Rondônia",
                  "0",
                  "34",
                  "2",
                  "16",
                  "6000",
                  "1.71",
                  "Masculino",
                  "Branca",
                  "15 anos ou mais"
                ],
                [
                  "16",
                  "Rondônia",
                  "1",
                  "43",
                  "8",
                  "10",
                  "1050",
                  "1.79",
                  "Feminino",
                  "Parda",
                  "9 anos"
                ],
                [
                  "17",
                  "Rondônia",
                  "0",
                  "53",
                  "8",
                  "16",
                  "7000",
                  "1.67",
                  "Masculino",
                  "Parda",
                  "15 anos ou mais"
                ],
                [
                  "18",
                  "Rondônia",
                  "0",
                  "57",
                  "2",
                  "12",
                  "2000",
                  "1.72",
                  "Masculino",
                  "Branca",
                  "11 anos"
                ],
                [
                  "19",
                  "Rondônia",
                  "1",
                  "62",
                  "8",
                  "12",
                  "1150",
                  "1.77",
                  "Feminino",
                  "Parda",
                  "11 anos"
                ],
                [
                  "20",
                  "Rondônia",
                  "0",
                  "69",
                  "8",
                  "1",
                  "3030",
                  "1.75",
                  "Masculino",
                  "Parda",
                  "Sem instrução e menos de 1 ano"
                ],
                [
                  "21",
                  "Rondônia",
                  "1",
                  "41",
                  "8",
                  "16",
                  "4000",
                  "1.66",
                  "Feminino",
                  "Parda",
                  "15 anos ou mais"
                ],
                [
                  "22",
                  "Rondônia",
                  "0",
                  "34",
                  "8",
                  "5",
                  "788",
                  "1.75",
                  "Masculino",
                  "Parda",
                  "4 anos"
                ],
                [
                  "23",
                  "Rondônia",
                  "0",
                  "25",
                  "8",
                  "12",
                  "1000",
                  "1.73",
                  "Masculino",
                  "Parda",
                  "11 anos"
                ],
                [
                  "24",
                  "Rondônia",
                  "0",
                  "33",
                  "8",
                  "9",
                  "800",
                  "1.78",
                  "Masculino",
                  "Parda",
                  "8 anos"
                ],
                [
                  "25",
                  "Rondônia",
                  "1",
                  "44",
                  "8",
                  "5",
                  "788",
                  "1.67",
                  "Feminino",
                  "Parda",
                  "4 anos"
                ],
                [
                  "26",
                  "Rondônia",
                  "0",
                  "33",
                  "2",
                  "16",
                  "1600",
                  "1.78",
                  "Masculino",
                  "Branca",
                  "15 anos ou mais"
                ],
                [
                  "27",
                  "Rondônia",
                  "0",
                  "65",
                  "2",
                  "12",
                  "1700",
                  "1.87",
                  "Masculino",
                  "Branca",
                  "11 anos"
                ],
                [
                  "28",
                  "Rondônia",
                  "0",
                  "33",
                  "8",
                  "14",
                  "2000",
                  "1.89",
                  "Masculino",
                  "Parda",
                  "13 anos"
                ],
                [
                  "29",
                  "Rondônia",
                  "0",
                  "32",
                  "8",
                  "12",
                  "2400",
                  "1.66",
                  "Masculino",
                  "Parda",
                  "11 anos"
                ],
                [
                  "30",
                  "Rondônia",
                  "0",
                  "43",
                  "8",
                  "5",
                  "3000",
                  "1.64",
                  "Masculino",
                  "Parda",
                  "4 anos"
                ],
                [
                  "31",
                  "Rondônia",
                  "0",
                  "30",
                  "8",
                  "1",
                  "920",
                  "1.69",
                  "Masculino",
                  "Parda",
                  "Sem instrução e menos de 1 ano"
                ],
                [
                  "32",
                  "Rondônia",
                  "0",
                  "26",
                  "2",
                  "10",
                  "1300",
                  "1.68",
                  "Masculino",
                  "Branca",
                  "9 anos"
                ],
                [
                  "33",
                  "Rondônia",
                  "0",
                  "52",
                  "2",
                  "15",
                  "2000",
                  "1.67",
                  "Masculino",
                  "Branca",
                  "14 anos"
                ],
                [
                  "34",
                  "Rondônia",
                  "0",
                  "62",
                  "8",
                  "1",
                  "1300",
                  "1.63",
                  "Masculino",
                  "Parda",
                  "Sem instrução e menos de 1 ano"
                ],
                [
                  "35",
                  "Rondônia",
                  "0",
                  "64",
                  "6",
                  "5",
                  "600",
                  "1.71",
                  "Masculino",
                  "Amarela",
                  "4 anos"
                ],
                [
                  "36",
                  "Rondônia",
                  "0",
                  "31",
                  "8",
                  "7",
                  "1200",
                  "1.76",
                  "Masculino",
                  "Parda",
                  "6 anos"
                ],
                [
                  "37",
                  "Rondônia",
                  "0",
                  "63",
                  "2",
                  "3",
                  "1000",
                  "1.69",
                  "Masculino",
                  "Branca",
                  "2 anos"
                ],
                [
                  "38",
                  "Rondônia",
                  "1",
                  "40",
                  "2",
                  "9",
                  "1000",
                  "1.71",
                  "Feminino",
                  "Branca",
                  "8 anos"
                ],
                [
                  "39",
                  "Rondônia",
                  "0",
                  "47",
                  "4",
                  "9",
                  "1500",
                  "1.67",
                  "Masculino",
                  "Preta",
                  "8 anos"
                ],
                [
                  "40",
                  "Rondônia",
                  "0",
                  "34",
                  "2",
                  "7",
                  "900",
                  "1.65",
                  "Masculino",
                  "Branca",
                  "6 anos"
                ],
                [
                  "41",
                  "Rondônia",
                  "0",
                  "33",
                  "8",
                  "6",
                  "900",
                  "1.81",
                  "Masculino",
                  "Parda",
                  "5 anos"
                ],
                [
                  "42",
                  "Rondônia",
                  "0",
                  "63",
                  "8",
                  "6",
                  "0",
                  "1.65",
                  "Masculino",
                  "Parda",
                  "5 anos"
                ],
                [
                  "43",
                  "Rondônia",
                  "1",
                  "40",
                  "8",
                  "2",
                  "300",
                  "1.76",
                  "Feminino",
                  "Parda",
                  "1 ano"
                ],
                [
                  "44",
                  "Rondônia",
                  "0",
                  "41",
                  "8",
                  "6",
                  "1600",
                  "1.61",
                  "Masculino",
                  "Parda",
                  "5 anos"
                ],
                [
                  "45",
                  "Rondônia",
                  "0",
                  "28",
                  "2",
                  "10",
                  "1500",
                  "1.69",
                  "Masculino",
                  "Branca",
                  "9 anos"
                ],
                [
                  "46",
                  "Rondônia",
                  "1",
                  "32",
                  "8",
                  "12",
                  "750",
                  "1.68",
                  "Feminino",
                  "Parda",
                  "11 anos"
                ],
                [
                  "47",
                  "Rondônia",
                  "0",
                  "44",
                  "2",
                  "1",
                  "800",
                  "1.7",
                  "Masculino",
                  "Branca",
                  "Sem instrução e menos de 1 ano"
                ],
                [
                  "48",
                  "Rondônia",
                  "1",
                  "38",
                  "2",
                  "12",
                  "3600",
                  "1.6",
                  "Feminino",
                  "Branca",
                  "11 anos"
                ],
                [
                  "49",
                  "Rondônia",
                  "0",
                  "41",
                  "2",
                  "4",
                  "1500",
                  "1.65",
                  "Masculino",
                  "Branca",
                  "3 anos"
                ]
              ],
              "shape": {
                "columns": 10,
                "rows": 76840
              }
            },
            "text/html": [
              "<div>\n",
              "<style scoped>\n",
              "    .dataframe tbody tr th:only-of-type {\n",
              "        vertical-align: middle;\n",
              "    }\n",
              "\n",
              "    .dataframe tbody tr th {\n",
              "        vertical-align: top;\n",
              "    }\n",
              "\n",
              "    .dataframe thead th {\n",
              "        text-align: right;\n",
              "    }\n",
              "</style>\n",
              "<table border=\"1\" class=\"dataframe\">\n",
              "  <thead>\n",
              "    <tr style=\"text-align: right;\">\n",
              "      <th></th>\n",
              "      <th>UF</th>\n",
              "      <th>Sexo</th>\n",
              "      <th>Idade</th>\n",
              "      <th>Cor</th>\n",
              "      <th>Anos.de.Estudo</th>\n",
              "      <th>Renda</th>\n",
              "      <th>Altura</th>\n",
              "      <th>sexo_biologico</th>\n",
              "      <th>cor_pele</th>\n",
              "      <th>anos_estudados</th>\n",
              "    </tr>\n",
              "  </thead>\n",
              "  <tbody>\n",
              "    <tr>\n",
              "      <th>0</th>\n",
              "      <td>Rondônia</td>\n",
              "      <td>0</td>\n",
              "      <td>23</td>\n",
              "      <td>8</td>\n",
              "      <td>12</td>\n",
              "      <td>800</td>\n",
              "      <td>1.60</td>\n",
              "      <td>Masculino</td>\n",
              "      <td>Parda</td>\n",
              "      <td>11 anos</td>\n",
              "    </tr>\n",
              "    <tr>\n",
              "      <th>1</th>\n",
              "      <td>Rondônia</td>\n",
              "      <td>1</td>\n",
              "      <td>23</td>\n",
              "      <td>2</td>\n",
              "      <td>12</td>\n",
              "      <td>1150</td>\n",
              "      <td>1.74</td>\n",
              "      <td>Feminino</td>\n",
              "      <td>Branca</td>\n",
              "      <td>11 anos</td>\n",
              "    </tr>\n",
              "    <tr>\n",
              "      <th>2</th>\n",
              "      <td>Rondônia</td>\n",
              "      <td>1</td>\n",
              "      <td>35</td>\n",
              "      <td>8</td>\n",
              "      <td>15</td>\n",
              "      <td>880</td>\n",
              "      <td>1.76</td>\n",
              "      <td>Feminino</td>\n",
              "      <td>Parda</td>\n",
              "      <td>14 anos</td>\n",
              "    </tr>\n",
              "    <tr>\n",
              "      <th>3</th>\n",
              "      <td>Rondônia</td>\n",
              "      <td>0</td>\n",
              "      <td>46</td>\n",
              "      <td>2</td>\n",
              "      <td>6</td>\n",
              "      <td>3500</td>\n",
              "      <td>1.78</td>\n",
              "      <td>Masculino</td>\n",
              "      <td>Branca</td>\n",
              "      <td>5 anos</td>\n",
              "    </tr>\n",
              "    <tr>\n",
              "      <th>4</th>\n",
              "      <td>Rondônia</td>\n",
              "      <td>1</td>\n",
              "      <td>47</td>\n",
              "      <td>8</td>\n",
              "      <td>9</td>\n",
              "      <td>150</td>\n",
              "      <td>1.69</td>\n",
              "      <td>Feminino</td>\n",
              "      <td>Parda</td>\n",
              "      <td>8 anos</td>\n",
              "    </tr>\n",
              "    <tr>\n",
              "      <th>...</th>\n",
              "      <td>...</td>\n",
              "      <td>...</td>\n",
              "      <td>...</td>\n",
              "      <td>...</td>\n",
              "      <td>...</td>\n",
              "      <td>...</td>\n",
              "      <td>...</td>\n",
              "      <td>...</td>\n",
              "      <td>...</td>\n",
              "      <td>...</td>\n",
              "    </tr>\n",
              "    <tr>\n",
              "      <th>76835</th>\n",
              "      <td>Distrito Federal</td>\n",
              "      <td>1</td>\n",
              "      <td>46</td>\n",
              "      <td>2</td>\n",
              "      <td>11</td>\n",
              "      <td>812</td>\n",
              "      <td>1.69</td>\n",
              "      <td>Feminino</td>\n",
              "      <td>Branca</td>\n",
              "      <td>10 anos</td>\n",
              "    </tr>\n",
              "    <tr>\n",
              "      <th>76836</th>\n",
              "      <td>Distrito Federal</td>\n",
              "      <td>0</td>\n",
              "      <td>30</td>\n",
              "      <td>4</td>\n",
              "      <td>7</td>\n",
              "      <td>1500</td>\n",
              "      <td>1.79</td>\n",
              "      <td>Masculino</td>\n",
              "      <td>Preta</td>\n",
              "      <td>6 anos</td>\n",
              "    </tr>\n",
              "    <tr>\n",
              "      <th>76837</th>\n",
              "      <td>Distrito Federal</td>\n",
              "      <td>0</td>\n",
              "      <td>32</td>\n",
              "      <td>8</td>\n",
              "      <td>12</td>\n",
              "      <td>1300</td>\n",
              "      <td>1.83</td>\n",
              "      <td>Masculino</td>\n",
              "      <td>Parda</td>\n",
              "      <td>11 anos</td>\n",
              "    </tr>\n",
              "    <tr>\n",
              "      <th>76838</th>\n",
              "      <td>Distrito Federal</td>\n",
              "      <td>0</td>\n",
              "      <td>57</td>\n",
              "      <td>8</td>\n",
              "      <td>4</td>\n",
              "      <td>1500</td>\n",
              "      <td>1.73</td>\n",
              "      <td>Masculino</td>\n",
              "      <td>Parda</td>\n",
              "      <td>3 anos</td>\n",
              "    </tr>\n",
              "    <tr>\n",
              "      <th>76839</th>\n",
              "      <td>Distrito Federal</td>\n",
              "      <td>0</td>\n",
              "      <td>38</td>\n",
              "      <td>8</td>\n",
              "      <td>4</td>\n",
              "      <td>900</td>\n",
              "      <td>1.66</td>\n",
              "      <td>Masculino</td>\n",
              "      <td>Parda</td>\n",
              "      <td>3 anos</td>\n",
              "    </tr>\n",
              "  </tbody>\n",
              "</table>\n",
              "<p>76840 rows × 10 columns</p>\n",
              "</div>"
            ],
            "text/plain": [
              "                     UF  Sexo  Idade  Cor  Anos.de.Estudo  Renda  Altura  \\\n",
              "0              Rondônia     0     23    8              12    800    1.60   \n",
              "1              Rondônia     1     23    2              12   1150    1.74   \n",
              "2              Rondônia     1     35    8              15    880    1.76   \n",
              "3              Rondônia     0     46    2               6   3500    1.78   \n",
              "4              Rondônia     1     47    8               9    150    1.69   \n",
              "...                 ...   ...    ...  ...             ...    ...     ...   \n",
              "76835  Distrito Federal     1     46    2              11    812    1.69   \n",
              "76836  Distrito Federal     0     30    4               7   1500    1.79   \n",
              "76837  Distrito Federal     0     32    8              12   1300    1.83   \n",
              "76838  Distrito Federal     0     57    8               4   1500    1.73   \n",
              "76839  Distrito Federal     0     38    8               4    900    1.66   \n",
              "\n",
              "      sexo_biologico cor_pele anos_estudados  \n",
              "0          Masculino    Parda        11 anos  \n",
              "1           Feminino   Branca        11 anos  \n",
              "2           Feminino    Parda        14 anos  \n",
              "3          Masculino   Branca         5 anos  \n",
              "4           Feminino    Parda         8 anos  \n",
              "...              ...      ...            ...  \n",
              "76835       Feminino   Branca        10 anos  \n",
              "76836      Masculino    Preta         6 anos  \n",
              "76837      Masculino    Parda        11 anos  \n",
              "76838      Masculino    Parda         3 anos  \n",
              "76839      Masculino    Parda         3 anos  \n",
              "\n",
              "[76840 rows x 10 columns]"
            ]
          },
          "execution_count": 116,
          "metadata": {},
          "output_type": "execute_result"
        }
      ],
      "source": [
        "dados"
      ]
    },
    {
      "cell_type": "code",
      "execution_count": 117,
      "metadata": {
        "id": "kAj1hTmaXttJ"
      },
      "outputs": [
        {
          "data": {
            "application/vnd.microsoft.datawrangler.viewer.v0+json": {
              "columns": [
                {
                  "name": "index",
                  "rawType": "int64",
                  "type": "integer"
                },
                {
                  "name": "sexo_biologico",
                  "rawType": "category",
                  "type": "unknown"
                },
                {
                  "name": "freq_absoluta",
                  "rawType": "int64",
                  "type": "integer"
                }
              ],
              "ref": "3c4b37f6-7b4f-40ff-8ec2-32d95c094c5c",
              "rows": [
                [
                  "0",
                  "Masculino",
                  "53250"
                ],
                [
                  "1",
                  "Feminino",
                  "23590"
                ]
              ],
              "shape": {
                "columns": 2,
                "rows": 2
              }
            },
            "text/html": [
              "<div>\n",
              "<style scoped>\n",
              "    .dataframe tbody tr th:only-of-type {\n",
              "        vertical-align: middle;\n",
              "    }\n",
              "\n",
              "    .dataframe tbody tr th {\n",
              "        vertical-align: top;\n",
              "    }\n",
              "\n",
              "    .dataframe thead th {\n",
              "        text-align: right;\n",
              "    }\n",
              "</style>\n",
              "<table border=\"1\" class=\"dataframe\">\n",
              "  <thead>\n",
              "    <tr style=\"text-align: right;\">\n",
              "      <th></th>\n",
              "      <th>sexo_biologico</th>\n",
              "      <th>freq_absoluta</th>\n",
              "    </tr>\n",
              "  </thead>\n",
              "  <tbody>\n",
              "    <tr>\n",
              "      <th>0</th>\n",
              "      <td>Masculino</td>\n",
              "      <td>53250</td>\n",
              "    </tr>\n",
              "    <tr>\n",
              "      <th>1</th>\n",
              "      <td>Feminino</td>\n",
              "      <td>23590</td>\n",
              "    </tr>\n",
              "  </tbody>\n",
              "</table>\n",
              "</div>"
            ],
            "text/plain": [
              "  sexo_biologico  freq_absoluta\n",
              "0      Masculino          53250\n",
              "1       Feminino          23590"
            ]
          },
          "execution_count": 117,
          "metadata": {},
          "output_type": "execute_result"
        }
      ],
      "source": [
        "# Calculando a frequência absoluta\n",
        "freq_sexo = dados.groupby('sexo_biologico', observed=False).size().reset_index(name='freq_absoluta')\n",
        "\n",
        "freq_sexo"
      ]
    },
    {
      "cell_type": "code",
      "execution_count": 118,
      "metadata": {
        "id": "K6DkUjl0XttJ"
      },
      "outputs": [
        {
          "data": {
            "application/vnd.microsoft.datawrangler.viewer.v0+json": {
              "columns": [
                {
                  "name": "index",
                  "rawType": "int64",
                  "type": "integer"
                },
                {
                  "name": "sexo_biologico",
                  "rawType": "category",
                  "type": "unknown"
                },
                {
                  "name": "freq_absoluta",
                  "rawType": "int64",
                  "type": "integer"
                },
                {
                  "name": "freq_relativa",
                  "rawType": "float64",
                  "type": "float"
                }
              ],
              "ref": "c51d25f3-9e1b-4f94-abb9-b512786fdcca",
              "rows": [
                [
                  "0",
                  "Masculino",
                  "53250",
                  "69.3"
                ],
                [
                  "1",
                  "Feminino",
                  "23590",
                  "30.7"
                ]
              ],
              "shape": {
                "columns": 3,
                "rows": 2
              }
            },
            "text/html": [
              "<div>\n",
              "<style scoped>\n",
              "    .dataframe tbody tr th:only-of-type {\n",
              "        vertical-align: middle;\n",
              "    }\n",
              "\n",
              "    .dataframe tbody tr th {\n",
              "        vertical-align: top;\n",
              "    }\n",
              "\n",
              "    .dataframe thead th {\n",
              "        text-align: right;\n",
              "    }\n",
              "</style>\n",
              "<table border=\"1\" class=\"dataframe\">\n",
              "  <thead>\n",
              "    <tr style=\"text-align: right;\">\n",
              "      <th></th>\n",
              "      <th>sexo_biologico</th>\n",
              "      <th>freq_absoluta</th>\n",
              "      <th>freq_relativa</th>\n",
              "    </tr>\n",
              "  </thead>\n",
              "  <tbody>\n",
              "    <tr>\n",
              "      <th>0</th>\n",
              "      <td>Masculino</td>\n",
              "      <td>53250</td>\n",
              "      <td>69.3</td>\n",
              "    </tr>\n",
              "    <tr>\n",
              "      <th>1</th>\n",
              "      <td>Feminino</td>\n",
              "      <td>23590</td>\n",
              "      <td>30.7</td>\n",
              "    </tr>\n",
              "  </tbody>\n",
              "</table>\n",
              "</div>"
            ],
            "text/plain": [
              "  sexo_biologico  freq_absoluta  freq_relativa\n",
              "0      Masculino          53250           69.3\n",
              "1       Feminino          23590           30.7"
            ]
          },
          "execution_count": 118,
          "metadata": {},
          "output_type": "execute_result"
        }
      ],
      "source": [
        "freq_sexo['freq_relativa'] = round((freq_sexo['freq_absoluta'] / freq_sexo['freq_absoluta'].sum()) * 100, 1)\n",
        "freq_sexo\n",
        "     "
      ]
    },
    {
      "cell_type": "code",
      "execution_count": 119,
      "metadata": {},
      "outputs": [
        {
          "data": {
            "application/vnd.microsoft.datawrangler.viewer.v0+json": {
              "columns": [
                {
                  "name": "index",
                  "rawType": "int64",
                  "type": "integer"
                },
                {
                  "name": "Sexo",
                  "rawType": "category",
                  "type": "unknown"
                },
                {
                  "name": "Quantidade",
                  "rawType": "int64",
                  "type": "integer"
                },
                {
                  "name": "Porcentagem (%)",
                  "rawType": "float64",
                  "type": "float"
                }
              ],
              "ref": "56f8ee86-313a-4fe5-a4ed-819d20e60097",
              "rows": [
                [
                  "0",
                  "Masculino",
                  "53250",
                  "69.3"
                ],
                [
                  "1",
                  "Feminino",
                  "23590",
                  "30.7"
                ]
              ],
              "shape": {
                "columns": 3,
                "rows": 2
              }
            },
            "text/html": [
              "<div>\n",
              "<style scoped>\n",
              "    .dataframe tbody tr th:only-of-type {\n",
              "        vertical-align: middle;\n",
              "    }\n",
              "\n",
              "    .dataframe tbody tr th {\n",
              "        vertical-align: top;\n",
              "    }\n",
              "\n",
              "    .dataframe thead th {\n",
              "        text-align: right;\n",
              "    }\n",
              "</style>\n",
              "<table border=\"1\" class=\"dataframe\">\n",
              "  <thead>\n",
              "    <tr style=\"text-align: right;\">\n",
              "      <th></th>\n",
              "      <th>Sexo</th>\n",
              "      <th>Quantidade</th>\n",
              "      <th>Porcentagem (%)</th>\n",
              "    </tr>\n",
              "  </thead>\n",
              "  <tbody>\n",
              "    <tr>\n",
              "      <th>0</th>\n",
              "      <td>Masculino</td>\n",
              "      <td>53250</td>\n",
              "      <td>69.3</td>\n",
              "    </tr>\n",
              "    <tr>\n",
              "      <th>1</th>\n",
              "      <td>Feminino</td>\n",
              "      <td>23590</td>\n",
              "      <td>30.7</td>\n",
              "    </tr>\n",
              "  </tbody>\n",
              "</table>\n",
              "</div>"
            ],
            "text/plain": [
              "        Sexo  Quantidade  Porcentagem (%)\n",
              "0  Masculino       53250             69.3\n",
              "1   Feminino       23590             30.7"
            ]
          },
          "execution_count": 119,
          "metadata": {},
          "output_type": "execute_result"
        }
      ],
      "source": [
        "freq_sexo.columns = ['Sexo', 'Quantidade', 'Porcentagem (%)']\n",
        "freq_sexo"
      ]
    },
    {
      "cell_type": "markdown",
      "metadata": {
        "id": "oN452vflnRlO"
      },
      "source": [
        "#### **Construa uma tabela de frequências absolutas e outra de relativas cruzando as variáveis `Cat.Sexo` e `Cat.Cor` das pessoas responsáveis pelo domicílio.**"
      ]
    },
    {
      "cell_type": "code",
      "execution_count": 120,
      "metadata": {
        "id": "7i2AkjumXttL"
      },
      "outputs": [
        {
          "data": {
            "application/vnd.microsoft.datawrangler.viewer.v0+json": {
              "columns": [
                {
                  "name": "sexo_biologico",
                  "rawType": "category",
                  "type": "unknown"
                },
                {
                  "name": "Indígena",
                  "rawType": "int64",
                  "type": "integer"
                },
                {
                  "name": "Branca",
                  "rawType": "int64",
                  "type": "integer"
                },
                {
                  "name": "Preta",
                  "rawType": "int64",
                  "type": "integer"
                },
                {
                  "name": "Amarela",
                  "rawType": "int64",
                  "type": "integer"
                },
                {
                  "name": "Parda",
                  "rawType": "int64",
                  "type": "integer"
                }
              ],
              "ref": "0e18f4cb-9f9d-42cf-81a0-281636cdf358",
              "rows": [
                [
                  "Masculino",
                  "256",
                  "22194",
                  "5502",
                  "235",
                  "25063"
                ],
                [
                  "Feminino",
                  "101",
                  "9621",
                  "2889",
                  "117",
                  "10862"
                ]
              ],
              "shape": {
                "columns": 5,
                "rows": 2
              }
            },
            "text/html": [
              "<div>\n",
              "<style scoped>\n",
              "    .dataframe tbody tr th:only-of-type {\n",
              "        vertical-align: middle;\n",
              "    }\n",
              "\n",
              "    .dataframe tbody tr th {\n",
              "        vertical-align: top;\n",
              "    }\n",
              "\n",
              "    .dataframe thead th {\n",
              "        text-align: right;\n",
              "    }\n",
              "</style>\n",
              "<table border=\"1\" class=\"dataframe\">\n",
              "  <thead>\n",
              "    <tr style=\"text-align: right;\">\n",
              "      <th>cor_pele</th>\n",
              "      <th>Indígena</th>\n",
              "      <th>Branca</th>\n",
              "      <th>Preta</th>\n",
              "      <th>Amarela</th>\n",
              "      <th>Parda</th>\n",
              "    </tr>\n",
              "    <tr>\n",
              "      <th>sexo_biologico</th>\n",
              "      <th></th>\n",
              "      <th></th>\n",
              "      <th></th>\n",
              "      <th></th>\n",
              "      <th></th>\n",
              "    </tr>\n",
              "  </thead>\n",
              "  <tbody>\n",
              "    <tr>\n",
              "      <th>Masculino</th>\n",
              "      <td>256</td>\n",
              "      <td>22194</td>\n",
              "      <td>5502</td>\n",
              "      <td>235</td>\n",
              "      <td>25063</td>\n",
              "    </tr>\n",
              "    <tr>\n",
              "      <th>Feminino</th>\n",
              "      <td>101</td>\n",
              "      <td>9621</td>\n",
              "      <td>2889</td>\n",
              "      <td>117</td>\n",
              "      <td>10862</td>\n",
              "    </tr>\n",
              "  </tbody>\n",
              "</table>\n",
              "</div>"
            ],
            "text/plain": [
              "cor_pele        Indígena  Branca  Preta  Amarela  Parda\n",
              "sexo_biologico                                         \n",
              "Masculino            256   22194   5502      235  25063\n",
              "Feminino             101    9621   2889      117  10862"
            ]
          },
          "execution_count": 120,
          "metadata": {},
          "output_type": "execute_result"
        }
      ],
      "source": [
        "dist_freq = pd.crosstab(dados['sexo_biologico'], dados['cor_pele'])\n",
        "dist_freq    "
      ]
    },
    {
      "cell_type": "code",
      "execution_count": 121,
      "metadata": {
        "id": "GrtfAeCBXttL"
      },
      "outputs": [
        {
          "data": {
            "application/vnd.microsoft.datawrangler.viewer.v0+json": {
              "columns": [
                {
                  "name": "sexo_biologico",
                  "rawType": "category",
                  "type": "unknown"
                },
                {
                  "name": "Indígena",
                  "rawType": "float64",
                  "type": "float"
                },
                {
                  "name": "Branca",
                  "rawType": "float64",
                  "type": "float"
                },
                {
                  "name": "Preta",
                  "rawType": "float64",
                  "type": "float"
                },
                {
                  "name": "Amarela",
                  "rawType": "float64",
                  "type": "float"
                },
                {
                  "name": "Parda",
                  "rawType": "float64",
                  "type": "float"
                }
              ],
              "ref": "1b22c95f-b8ff-4b28-b0c2-5eb50f7f8c03",
              "rows": [
                [
                  "Masculino",
                  "0.33",
                  "28.88",
                  "7.16",
                  "0.31",
                  "32.62"
                ],
                [
                  "Feminino",
                  "0.13",
                  "12.52",
                  "3.76",
                  "0.15",
                  "14.14"
                ]
              ],
              "shape": {
                "columns": 5,
                "rows": 2
              }
            },
            "text/html": [
              "<div>\n",
              "<style scoped>\n",
              "    .dataframe tbody tr th:only-of-type {\n",
              "        vertical-align: middle;\n",
              "    }\n",
              "\n",
              "    .dataframe tbody tr th {\n",
              "        vertical-align: top;\n",
              "    }\n",
              "\n",
              "    .dataframe thead th {\n",
              "        text-align: right;\n",
              "    }\n",
              "</style>\n",
              "<table border=\"1\" class=\"dataframe\">\n",
              "  <thead>\n",
              "    <tr style=\"text-align: right;\">\n",
              "      <th>cor_pele</th>\n",
              "      <th>Indígena</th>\n",
              "      <th>Branca</th>\n",
              "      <th>Preta</th>\n",
              "      <th>Amarela</th>\n",
              "      <th>Parda</th>\n",
              "    </tr>\n",
              "    <tr>\n",
              "      <th>sexo_biologico</th>\n",
              "      <th></th>\n",
              "      <th></th>\n",
              "      <th></th>\n",
              "      <th></th>\n",
              "      <th></th>\n",
              "    </tr>\n",
              "  </thead>\n",
              "  <tbody>\n",
              "    <tr>\n",
              "      <th>Masculino</th>\n",
              "      <td>0.33</td>\n",
              "      <td>28.88</td>\n",
              "      <td>7.16</td>\n",
              "      <td>0.31</td>\n",
              "      <td>32.62</td>\n",
              "    </tr>\n",
              "    <tr>\n",
              "      <th>Feminino</th>\n",
              "      <td>0.13</td>\n",
              "      <td>12.52</td>\n",
              "      <td>3.76</td>\n",
              "      <td>0.15</td>\n",
              "      <td>14.14</td>\n",
              "    </tr>\n",
              "  </tbody>\n",
              "</table>\n",
              "</div>"
            ],
            "text/plain": [
              "cor_pele        Indígena  Branca  Preta  Amarela  Parda\n",
              "sexo_biologico                                         \n",
              "Masculino           0.33   28.88   7.16     0.31  32.62\n",
              "Feminino            0.13   12.52   3.76     0.15  14.14"
            ]
          },
          "execution_count": 121,
          "metadata": {},
          "output_type": "execute_result"
        }
      ],
      "source": [
        "freq_relativa = round(pd.crosstab(dados['sexo_biologico'], dados['cor_pele'], normalize = 'all') * 100,2)\n",
        "freq_relativa   "
      ]
    },
    {
      "cell_type": "markdown",
      "metadata": {
        "id": "gxFG42FfwpN1"
      },
      "source": [
        "> #### Conclusões\n",
        "\n",
        "Escreva suas conclusões aqui..."
      ]
    },
    {
      "cell_type": "markdown",
      "metadata": {
        "id": "Opcp5rprwrlX"
      },
      "source": [
        "#### **Construa uma tabela cruzada para calcular a `Renda` média das pessoas responsáveis pelo domicílio em relação ao `Cat.Sexo` e `Cat.Cor`.**"
      ]
    },
    {
      "cell_type": "code",
      "execution_count": 122,
      "metadata": {
        "id": "V1kWR01jXttM"
      },
      "outputs": [
        {
          "data": {
            "application/vnd.microsoft.datawrangler.viewer.v0+json": {
              "columns": [
                {
                  "name": "sexo_biologico",
                  "rawType": "category",
                  "type": "unknown"
                },
                {
                  "name": "Indígena",
                  "rawType": "float64",
                  "type": "float"
                },
                {
                  "name": "Branca",
                  "rawType": "float64",
                  "type": "float"
                },
                {
                  "name": "Preta",
                  "rawType": "float64",
                  "type": "float"
                },
                {
                  "name": "Amarela",
                  "rawType": "float64",
                  "type": "float"
                },
                {
                  "name": "Parda",
                  "rawType": "float64",
                  "type": "float"
                }
              ],
              "ref": "107132ae-c2c4-47ac-b6bb-e1c441170568",
              "rows": [
                [
                  "Masculino",
                  "1081.71",
                  "2925.74",
                  "1603.86",
                  "4758.25",
                  "1659.58"
                ],
                [
                  "Feminino",
                  "2464.39",
                  "2109.87",
                  "1134.6",
                  "3027.34",
                  "1176.76"
                ]
              ],
              "shape": {
                "columns": 5,
                "rows": 2
              }
            },
            "text/html": [
              "<div>\n",
              "<style scoped>\n",
              "    .dataframe tbody tr th:only-of-type {\n",
              "        vertical-align: middle;\n",
              "    }\n",
              "\n",
              "    .dataframe tbody tr th {\n",
              "        vertical-align: top;\n",
              "    }\n",
              "\n",
              "    .dataframe thead th {\n",
              "        text-align: right;\n",
              "    }\n",
              "</style>\n",
              "<table border=\"1\" class=\"dataframe\">\n",
              "  <thead>\n",
              "    <tr style=\"text-align: right;\">\n",
              "      <th>cor_pele</th>\n",
              "      <th>Indígena</th>\n",
              "      <th>Branca</th>\n",
              "      <th>Preta</th>\n",
              "      <th>Amarela</th>\n",
              "      <th>Parda</th>\n",
              "    </tr>\n",
              "    <tr>\n",
              "      <th>sexo_biologico</th>\n",
              "      <th></th>\n",
              "      <th></th>\n",
              "      <th></th>\n",
              "      <th></th>\n",
              "      <th></th>\n",
              "    </tr>\n",
              "  </thead>\n",
              "  <tbody>\n",
              "    <tr>\n",
              "      <th>Masculino</th>\n",
              "      <td>1081.71</td>\n",
              "      <td>2925.74</td>\n",
              "      <td>1603.86</td>\n",
              "      <td>4758.25</td>\n",
              "      <td>1659.58</td>\n",
              "    </tr>\n",
              "    <tr>\n",
              "      <th>Feminino</th>\n",
              "      <td>2464.39</td>\n",
              "      <td>2109.87</td>\n",
              "      <td>1134.60</td>\n",
              "      <td>3027.34</td>\n",
              "      <td>1176.76</td>\n",
              "    </tr>\n",
              "  </tbody>\n",
              "</table>\n",
              "</div>"
            ],
            "text/plain": [
              "cor_pele        Indígena   Branca    Preta  Amarela    Parda\n",
              "sexo_biologico                                              \n",
              "Masculino        1081.71  2925.74  1603.86  4758.25  1659.58\n",
              "Feminino         2464.39  2109.87  1134.60  3027.34  1176.76"
            ]
          },
          "execution_count": 122,
          "metadata": {},
          "output_type": "execute_result"
        }
      ],
      "source": [
        "ticket_medio = round(pd.crosstab(dados['sexo_biologico'], dados['cor_pele'], values=dados['Renda'], aggfunc='mean'), 2)\n",
        "\n",
        "ticket_medio"
      ]
    },
    {
      "cell_type": "markdown",
      "metadata": {
        "id": "d5Iwt1EKwNfp"
      },
      "source": [
        "> #### Conclusões\n",
        "\n",
        "Escreva suas conclusões aqui..."
      ]
    },
    {
      "cell_type": "markdown",
      "metadata": {
        "id": "6R3KlAkeKnyG"
      },
      "source": []
    },
    {
      "cell_type": "code",
      "execution_count": 123,
      "metadata": {
        "colab": {
          "base_uri": "https://localhost:8080/",
          "height": 206
        },
        "id": "glSigY3cKohD",
        "outputId": "bd49f76f-2965-462f-f172-6713373bab0c"
      },
      "outputs": [
        {
          "data": {
            "application/vnd.microsoft.datawrangler.viewer.v0+json": {
              "columns": [
                {
                  "name": "index",
                  "rawType": "int64",
                  "type": "integer"
                },
                {
                  "name": "Estilo_Musical",
                  "rawType": "object",
                  "type": "string"
                },
                {
                  "name": "Regiao",
                  "rawType": "object",
                  "type": "string"
                }
              ],
              "ref": "bb3c4143-57d2-48dd-a4b2-f227d80fc1a6",
              "rows": [
                [
                  "0",
                  "Eletrônica",
                  "Sul"
                ],
                [
                  "1",
                  "Sertanejo",
                  "Norte"
                ],
                [
                  "2",
                  "Eletrônica",
                  "Nordeste"
                ],
                [
                  "3",
                  "Pop",
                  "Sudeste"
                ],
                [
                  "4",
                  "Funk",
                  "Nordeste"
                ]
              ],
              "shape": {
                "columns": 2,
                "rows": 5
              }
            },
            "text/html": [
              "<div>\n",
              "<style scoped>\n",
              "    .dataframe tbody tr th:only-of-type {\n",
              "        vertical-align: middle;\n",
              "    }\n",
              "\n",
              "    .dataframe tbody tr th {\n",
              "        vertical-align: top;\n",
              "    }\n",
              "\n",
              "    .dataframe thead th {\n",
              "        text-align: right;\n",
              "    }\n",
              "</style>\n",
              "<table border=\"1\" class=\"dataframe\">\n",
              "  <thead>\n",
              "    <tr style=\"text-align: right;\">\n",
              "      <th></th>\n",
              "      <th>Estilo_Musical</th>\n",
              "      <th>Regiao</th>\n",
              "    </tr>\n",
              "  </thead>\n",
              "  <tbody>\n",
              "    <tr>\n",
              "      <th>0</th>\n",
              "      <td>Eletrônica</td>\n",
              "      <td>Sul</td>\n",
              "    </tr>\n",
              "    <tr>\n",
              "      <th>1</th>\n",
              "      <td>Sertanejo</td>\n",
              "      <td>Norte</td>\n",
              "    </tr>\n",
              "    <tr>\n",
              "      <th>2</th>\n",
              "      <td>Eletrônica</td>\n",
              "      <td>Nordeste</td>\n",
              "    </tr>\n",
              "    <tr>\n",
              "      <th>3</th>\n",
              "      <td>Pop</td>\n",
              "      <td>Sudeste</td>\n",
              "    </tr>\n",
              "    <tr>\n",
              "      <th>4</th>\n",
              "      <td>Funk</td>\n",
              "      <td>Nordeste</td>\n",
              "    </tr>\n",
              "  </tbody>\n",
              "</table>\n",
              "</div>"
            ],
            "text/plain": [
              "  Estilo_Musical    Regiao\n",
              "0     Eletrônica       Sul\n",
              "1      Sertanejo     Norte\n",
              "2     Eletrônica  Nordeste\n",
              "3            Pop   Sudeste\n",
              "4           Funk  Nordeste"
            ]
          },
          "execution_count": 123,
          "metadata": {},
          "output_type": "execute_result"
        }
      ],
      "source": [
        "import pandas as pd\n",
        "import numpy as np\n",
        "\n",
        "# Definindo a semente para garantir resultados reproduzíveis\n",
        "np.random.seed(123)\n",
        "\n",
        "# Criando o conjunto de dados fictício\n",
        "estilos_musicais = [\"Rock\", \"Pop\", \"Eletrônica\", \"Funk\", \"Sertanejo\"]\n",
        "regioes = [\"Centro-Oeste\", \"Nordeste\", \"Norte\", \"Sudeste\", \"Sul\"]\n",
        "\n",
        "# Gerando 500 amostras para cada variável\n",
        "dados_musica = pd.DataFrame({\n",
        "    'Estilo_Musical': np.random.choice(estilos_musicais, 500, replace=True),\n",
        "    'Regiao': np.random.choice(regioes, 500, replace=True)\n",
        "})\n",
        "\n",
        "dados_musica.head()"
      ]
    },
    {
      "cell_type": "code",
      "execution_count": 124,
      "metadata": {
        "colab": {
          "base_uri": "https://localhost:8080/",
          "height": 237
        },
        "id": "GQ9urIy7KvRB",
        "outputId": "c455fe8c-e5db-4ce2-9b8e-f97f57b8e322"
      },
      "outputs": [
        {
          "data": {
            "application/vnd.microsoft.datawrangler.viewer.v0+json": {
              "columns": [
                {
                  "name": "Estilo_Musical",
                  "rawType": "object",
                  "type": "string"
                },
                {
                  "name": "Centro-Oeste",
                  "rawType": "int64",
                  "type": "integer"
                },
                {
                  "name": "Nordeste",
                  "rawType": "int64",
                  "type": "integer"
                },
                {
                  "name": "Norte",
                  "rawType": "int64",
                  "type": "integer"
                },
                {
                  "name": "Sudeste",
                  "rawType": "int64",
                  "type": "integer"
                },
                {
                  "name": "Sul",
                  "rawType": "int64",
                  "type": "integer"
                }
              ],
              "ref": "44293cb8-31e8-4125-be16-8aa1f40f4eea",
              "rows": [
                [
                  "Eletrônica",
                  "22",
                  "14",
                  "15",
                  "21",
                  "21"
                ],
                [
                  "Funk",
                  "27",
                  "24",
                  "12",
                  "26",
                  "15"
                ],
                [
                  "Pop",
                  "19",
                  "25",
                  "20",
                  "26",
                  "18"
                ],
                [
                  "Rock",
                  "22",
                  "23",
                  "17",
                  "22",
                  "15"
                ],
                [
                  "Sertanejo",
                  "14",
                  "12",
                  "22",
                  "25",
                  "23"
                ]
              ],
              "shape": {
                "columns": 5,
                "rows": 5
              }
            },
            "text/html": [
              "<div>\n",
              "<style scoped>\n",
              "    .dataframe tbody tr th:only-of-type {\n",
              "        vertical-align: middle;\n",
              "    }\n",
              "\n",
              "    .dataframe tbody tr th {\n",
              "        vertical-align: top;\n",
              "    }\n",
              "\n",
              "    .dataframe thead th {\n",
              "        text-align: right;\n",
              "    }\n",
              "</style>\n",
              "<table border=\"1\" class=\"dataframe\">\n",
              "  <thead>\n",
              "    <tr style=\"text-align: right;\">\n",
              "      <th>Regiao</th>\n",
              "      <th>Centro-Oeste</th>\n",
              "      <th>Nordeste</th>\n",
              "      <th>Norte</th>\n",
              "      <th>Sudeste</th>\n",
              "      <th>Sul</th>\n",
              "    </tr>\n",
              "    <tr>\n",
              "      <th>Estilo_Musical</th>\n",
              "      <th></th>\n",
              "      <th></th>\n",
              "      <th></th>\n",
              "      <th></th>\n",
              "      <th></th>\n",
              "    </tr>\n",
              "  </thead>\n",
              "  <tbody>\n",
              "    <tr>\n",
              "      <th>Eletrônica</th>\n",
              "      <td>22</td>\n",
              "      <td>14</td>\n",
              "      <td>15</td>\n",
              "      <td>21</td>\n",
              "      <td>21</td>\n",
              "    </tr>\n",
              "    <tr>\n",
              "      <th>Funk</th>\n",
              "      <td>27</td>\n",
              "      <td>24</td>\n",
              "      <td>12</td>\n",
              "      <td>26</td>\n",
              "      <td>15</td>\n",
              "    </tr>\n",
              "    <tr>\n",
              "      <th>Pop</th>\n",
              "      <td>19</td>\n",
              "      <td>25</td>\n",
              "      <td>20</td>\n",
              "      <td>26</td>\n",
              "      <td>18</td>\n",
              "    </tr>\n",
              "    <tr>\n",
              "      <th>Rock</th>\n",
              "      <td>22</td>\n",
              "      <td>23</td>\n",
              "      <td>17</td>\n",
              "      <td>22</td>\n",
              "      <td>15</td>\n",
              "    </tr>\n",
              "    <tr>\n",
              "      <th>Sertanejo</th>\n",
              "      <td>14</td>\n",
              "      <td>12</td>\n",
              "      <td>22</td>\n",
              "      <td>25</td>\n",
              "      <td>23</td>\n",
              "    </tr>\n",
              "  </tbody>\n",
              "</table>\n",
              "</div>"
            ],
            "text/plain": [
              "Regiao          Centro-Oeste  Nordeste  Norte  Sudeste  Sul\n",
              "Estilo_Musical                                             \n",
              "Eletrônica                22        14     15       21   21\n",
              "Funk                      27        24     12       26   15\n",
              "Pop                       19        25     20       26   18\n",
              "Rock                      22        23     17       22   15\n",
              "Sertanejo                 14        12     22       25   23"
            ]
          },
          "execution_count": 124,
          "metadata": {},
          "output_type": "execute_result"
        }
      ],
      "source": [
        "tab_musical_regiao = pd.crosstab(dados_musica['Estilo_Musical'], dados_musica['Regiao'])\n",
        "\n",
        "tab_musical_regiao"
      ]
    },
    {
      "cell_type": "code",
      "execution_count": 125,
      "metadata": {
        "colab": {
          "base_uri": "https://localhost:8080/",
          "height": 237
        },
        "id": "CCopAlPqK3Uh",
        "outputId": "11a5fc94-d0e8-4010-eae5-0b53b0ec4279"
      },
      "outputs": [
        {
          "data": {
            "application/vnd.microsoft.datawrangler.viewer.v0+json": {
              "columns": [
                {
                  "name": "Estilo_Musical",
                  "rawType": "object",
                  "type": "string"
                },
                {
                  "name": "Centro-Oeste",
                  "rawType": "float64",
                  "type": "float"
                },
                {
                  "name": "Nordeste",
                  "rawType": "float64",
                  "type": "float"
                },
                {
                  "name": "Norte",
                  "rawType": "float64",
                  "type": "float"
                },
                {
                  "name": "Sudeste",
                  "rawType": "float64",
                  "type": "float"
                },
                {
                  "name": "Sul",
                  "rawType": "float64",
                  "type": "float"
                }
              ],
              "ref": "ec2b52c8-0c91-4fd1-a0fc-30574363a6e9",
              "rows": [
                [
                  "Eletrônica",
                  "21.2",
                  "14.3",
                  "17.4",
                  "17.5",
                  "22.8"
                ],
                [
                  "Funk",
                  "26.0",
                  "24.5",
                  "14.0",
                  "21.7",
                  "16.3"
                ],
                [
                  "Pop",
                  "18.3",
                  "25.5",
                  "23.3",
                  "21.7",
                  "19.6"
                ],
                [
                  "Rock",
                  "21.2",
                  "23.5",
                  "19.8",
                  "18.3",
                  "16.3"
                ],
                [
                  "Sertanejo",
                  "13.5",
                  "12.2",
                  "25.6",
                  "20.8",
                  "25.0"
                ]
              ],
              "shape": {
                "columns": 5,
                "rows": 5
              }
            },
            "text/html": [
              "<div>\n",
              "<style scoped>\n",
              "    .dataframe tbody tr th:only-of-type {\n",
              "        vertical-align: middle;\n",
              "    }\n",
              "\n",
              "    .dataframe tbody tr th {\n",
              "        vertical-align: top;\n",
              "    }\n",
              "\n",
              "    .dataframe thead th {\n",
              "        text-align: right;\n",
              "    }\n",
              "</style>\n",
              "<table border=\"1\" class=\"dataframe\">\n",
              "  <thead>\n",
              "    <tr style=\"text-align: right;\">\n",
              "      <th>Regiao</th>\n",
              "      <th>Centro-Oeste</th>\n",
              "      <th>Nordeste</th>\n",
              "      <th>Norte</th>\n",
              "      <th>Sudeste</th>\n",
              "      <th>Sul</th>\n",
              "    </tr>\n",
              "    <tr>\n",
              "      <th>Estilo_Musical</th>\n",
              "      <th></th>\n",
              "      <th></th>\n",
              "      <th></th>\n",
              "      <th></th>\n",
              "      <th></th>\n",
              "    </tr>\n",
              "  </thead>\n",
              "  <tbody>\n",
              "    <tr>\n",
              "      <th>Eletrônica</th>\n",
              "      <td>21.2</td>\n",
              "      <td>14.3</td>\n",
              "      <td>17.4</td>\n",
              "      <td>17.5</td>\n",
              "      <td>22.8</td>\n",
              "    </tr>\n",
              "    <tr>\n",
              "      <th>Funk</th>\n",
              "      <td>26.0</td>\n",
              "      <td>24.5</td>\n",
              "      <td>14.0</td>\n",
              "      <td>21.7</td>\n",
              "      <td>16.3</td>\n",
              "    </tr>\n",
              "    <tr>\n",
              "      <th>Pop</th>\n",
              "      <td>18.3</td>\n",
              "      <td>25.5</td>\n",
              "      <td>23.3</td>\n",
              "      <td>21.7</td>\n",
              "      <td>19.6</td>\n",
              "    </tr>\n",
              "    <tr>\n",
              "      <th>Rock</th>\n",
              "      <td>21.2</td>\n",
              "      <td>23.5</td>\n",
              "      <td>19.8</td>\n",
              "      <td>18.3</td>\n",
              "      <td>16.3</td>\n",
              "    </tr>\n",
              "    <tr>\n",
              "      <th>Sertanejo</th>\n",
              "      <td>13.5</td>\n",
              "      <td>12.2</td>\n",
              "      <td>25.6</td>\n",
              "      <td>20.8</td>\n",
              "      <td>25.0</td>\n",
              "    </tr>\n",
              "  </tbody>\n",
              "</table>\n",
              "</div>"
            ],
            "text/plain": [
              "Regiao          Centro-Oeste  Nordeste  Norte  Sudeste   Sul\n",
              "Estilo_Musical                                              \n",
              "Eletrônica              21.2      14.3   17.4     17.5  22.8\n",
              "Funk                    26.0      24.5   14.0     21.7  16.3\n",
              "Pop                     18.3      25.5   23.3     21.7  19.6\n",
              "Rock                    21.2      23.5   19.8     18.3  16.3\n",
              "Sertanejo               13.5      12.2   25.6     20.8  25.0"
            ]
          },
          "execution_count": 125,
          "metadata": {},
          "output_type": "execute_result"
        }
      ],
      "source": [
        "tab_musical_regiao = round(pd.crosstab(dados_musica['Estilo_Musical'], dados_musica['Regiao'], normalize = 'columns') * 100,1)\n",
        "tab_musical_regiao"
      ]
    },
    {
      "cell_type": "code",
      "execution_count": 126,
      "metadata": {
        "colab": {
          "base_uri": "https://localhost:8080/",
          "height": 237
        },
        "id": "zx4YS0wOLER-",
        "outputId": "bf656408-0270-4151-83bd-6e1297778a7d"
      },
      "outputs": [
        {
          "data": {
            "application/vnd.microsoft.datawrangler.viewer.v0+json": {
              "columns": [
                {
                  "name": "Estilo_Musical",
                  "rawType": "object",
                  "type": "string"
                },
                {
                  "name": "Centro-Oeste",
                  "rawType": "float64",
                  "type": "float"
                },
                {
                  "name": "Nordeste",
                  "rawType": "float64",
                  "type": "float"
                },
                {
                  "name": "Norte",
                  "rawType": "float64",
                  "type": "float"
                },
                {
                  "name": "Sudeste",
                  "rawType": "float64",
                  "type": "float"
                },
                {
                  "name": "Sul",
                  "rawType": "float64",
                  "type": "float"
                }
              ],
              "ref": "dcc6dfd7-84ec-4b87-8278-2f1c43418e25",
              "rows": [
                [
                  "Eletrônica",
                  "23.7",
                  "15.1",
                  "16.1",
                  "22.6",
                  "22.6"
                ],
                [
                  "Funk",
                  "26.0",
                  "23.1",
                  "11.5",
                  "25.0",
                  "14.4"
                ],
                [
                  "Pop",
                  "17.6",
                  "23.1",
                  "18.5",
                  "24.1",
                  "16.7"
                ],
                [
                  "Rock",
                  "22.2",
                  "23.2",
                  "17.2",
                  "22.2",
                  "15.2"
                ],
                [
                  "Sertanejo",
                  "14.6",
                  "12.5",
                  "22.9",
                  "26.0",
                  "24.0"
                ]
              ],
              "shape": {
                "columns": 5,
                "rows": 5
              }
            },
            "text/html": [
              "<div>\n",
              "<style scoped>\n",
              "    .dataframe tbody tr th:only-of-type {\n",
              "        vertical-align: middle;\n",
              "    }\n",
              "\n",
              "    .dataframe tbody tr th {\n",
              "        vertical-align: top;\n",
              "    }\n",
              "\n",
              "    .dataframe thead th {\n",
              "        text-align: right;\n",
              "    }\n",
              "</style>\n",
              "<table border=\"1\" class=\"dataframe\">\n",
              "  <thead>\n",
              "    <tr style=\"text-align: right;\">\n",
              "      <th>Regiao</th>\n",
              "      <th>Centro-Oeste</th>\n",
              "      <th>Nordeste</th>\n",
              "      <th>Norte</th>\n",
              "      <th>Sudeste</th>\n",
              "      <th>Sul</th>\n",
              "    </tr>\n",
              "    <tr>\n",
              "      <th>Estilo_Musical</th>\n",
              "      <th></th>\n",
              "      <th></th>\n",
              "      <th></th>\n",
              "      <th></th>\n",
              "      <th></th>\n",
              "    </tr>\n",
              "  </thead>\n",
              "  <tbody>\n",
              "    <tr>\n",
              "      <th>Eletrônica</th>\n",
              "      <td>23.7</td>\n",
              "      <td>15.1</td>\n",
              "      <td>16.1</td>\n",
              "      <td>22.6</td>\n",
              "      <td>22.6</td>\n",
              "    </tr>\n",
              "    <tr>\n",
              "      <th>Funk</th>\n",
              "      <td>26.0</td>\n",
              "      <td>23.1</td>\n",
              "      <td>11.5</td>\n",
              "      <td>25.0</td>\n",
              "      <td>14.4</td>\n",
              "    </tr>\n",
              "    <tr>\n",
              "      <th>Pop</th>\n",
              "      <td>17.6</td>\n",
              "      <td>23.1</td>\n",
              "      <td>18.5</td>\n",
              "      <td>24.1</td>\n",
              "      <td>16.7</td>\n",
              "    </tr>\n",
              "    <tr>\n",
              "      <th>Rock</th>\n",
              "      <td>22.2</td>\n",
              "      <td>23.2</td>\n",
              "      <td>17.2</td>\n",
              "      <td>22.2</td>\n",
              "      <td>15.2</td>\n",
              "    </tr>\n",
              "    <tr>\n",
              "      <th>Sertanejo</th>\n",
              "      <td>14.6</td>\n",
              "      <td>12.5</td>\n",
              "      <td>22.9</td>\n",
              "      <td>26.0</td>\n",
              "      <td>24.0</td>\n",
              "    </tr>\n",
              "  </tbody>\n",
              "</table>\n",
              "</div>"
            ],
            "text/plain": [
              "Regiao          Centro-Oeste  Nordeste  Norte  Sudeste   Sul\n",
              "Estilo_Musical                                              \n",
              "Eletrônica              23.7      15.1   16.1     22.6  22.6\n",
              "Funk                    26.0      23.1   11.5     25.0  14.4\n",
              "Pop                     17.6      23.1   18.5     24.1  16.7\n",
              "Rock                    22.2      23.2   17.2     22.2  15.2\n",
              "Sertanejo               14.6      12.5   22.9     26.0  24.0"
            ]
          },
          "execution_count": 126,
          "metadata": {},
          "output_type": "execute_result"
        }
      ],
      "source": [
        "tab_musical_regiao = round(pd.crosstab(dados_musica['Estilo_Musical'], dados_musica['Regiao'], normalize = 'index') * 100,1)\n",
        "tab_musical_regiao"
      ]
    },
    {
      "cell_type": "code",
      "execution_count": 127,
      "metadata": {
        "colab": {
          "base_uri": "https://localhost:8080/",
          "height": 237
        },
        "id": "ffZ-naOULZ2U",
        "outputId": "d747fea9-14d1-4fda-e14d-9135cb630525"
      },
      "outputs": [
        {
          "data": {
            "application/vnd.microsoft.datawrangler.viewer.v0+json": {
              "columns": [
                {
                  "name": "Estilo_Musical",
                  "rawType": "object",
                  "type": "string"
                },
                {
                  "name": "Centro-Oeste",
                  "rawType": "float64",
                  "type": "float"
                },
                {
                  "name": "Nordeste",
                  "rawType": "float64",
                  "type": "float"
                },
                {
                  "name": "Norte",
                  "rawType": "float64",
                  "type": "float"
                },
                {
                  "name": "Sudeste",
                  "rawType": "float64",
                  "type": "float"
                },
                {
                  "name": "Sul",
                  "rawType": "float64",
                  "type": "float"
                }
              ],
              "ref": "b69fc1e9-bc67-4ace-8f1b-1d9703a2c9fb",
              "rows": [
                [
                  "Eletrônica",
                  "4.4",
                  "2.8",
                  "3.0",
                  "4.2",
                  "4.2"
                ],
                [
                  "Funk",
                  "5.4",
                  "4.8",
                  "2.4",
                  "5.2",
                  "3.0"
                ],
                [
                  "Pop",
                  "3.8",
                  "5.0",
                  "4.0",
                  "5.2",
                  "3.6"
                ],
                [
                  "Rock",
                  "4.4",
                  "4.6",
                  "3.4",
                  "4.4",
                  "3.0"
                ],
                [
                  "Sertanejo",
                  "2.8",
                  "2.4",
                  "4.4",
                  "5.0",
                  "4.6"
                ]
              ],
              "shape": {
                "columns": 5,
                "rows": 5
              }
            },
            "text/html": [
              "<div>\n",
              "<style scoped>\n",
              "    .dataframe tbody tr th:only-of-type {\n",
              "        vertical-align: middle;\n",
              "    }\n",
              "\n",
              "    .dataframe tbody tr th {\n",
              "        vertical-align: top;\n",
              "    }\n",
              "\n",
              "    .dataframe thead th {\n",
              "        text-align: right;\n",
              "    }\n",
              "</style>\n",
              "<table border=\"1\" class=\"dataframe\">\n",
              "  <thead>\n",
              "    <tr style=\"text-align: right;\">\n",
              "      <th>Regiao</th>\n",
              "      <th>Centro-Oeste</th>\n",
              "      <th>Nordeste</th>\n",
              "      <th>Norte</th>\n",
              "      <th>Sudeste</th>\n",
              "      <th>Sul</th>\n",
              "    </tr>\n",
              "    <tr>\n",
              "      <th>Estilo_Musical</th>\n",
              "      <th></th>\n",
              "      <th></th>\n",
              "      <th></th>\n",
              "      <th></th>\n",
              "      <th></th>\n",
              "    </tr>\n",
              "  </thead>\n",
              "  <tbody>\n",
              "    <tr>\n",
              "      <th>Eletrônica</th>\n",
              "      <td>4.4</td>\n",
              "      <td>2.8</td>\n",
              "      <td>3.0</td>\n",
              "      <td>4.2</td>\n",
              "      <td>4.2</td>\n",
              "    </tr>\n",
              "    <tr>\n",
              "      <th>Funk</th>\n",
              "      <td>5.4</td>\n",
              "      <td>4.8</td>\n",
              "      <td>2.4</td>\n",
              "      <td>5.2</td>\n",
              "      <td>3.0</td>\n",
              "    </tr>\n",
              "    <tr>\n",
              "      <th>Pop</th>\n",
              "      <td>3.8</td>\n",
              "      <td>5.0</td>\n",
              "      <td>4.0</td>\n",
              "      <td>5.2</td>\n",
              "      <td>3.6</td>\n",
              "    </tr>\n",
              "    <tr>\n",
              "      <th>Rock</th>\n",
              "      <td>4.4</td>\n",
              "      <td>4.6</td>\n",
              "      <td>3.4</td>\n",
              "      <td>4.4</td>\n",
              "      <td>3.0</td>\n",
              "    </tr>\n",
              "    <tr>\n",
              "      <th>Sertanejo</th>\n",
              "      <td>2.8</td>\n",
              "      <td>2.4</td>\n",
              "      <td>4.4</td>\n",
              "      <td>5.0</td>\n",
              "      <td>4.6</td>\n",
              "    </tr>\n",
              "  </tbody>\n",
              "</table>\n",
              "</div>"
            ],
            "text/plain": [
              "Regiao          Centro-Oeste  Nordeste  Norte  Sudeste  Sul\n",
              "Estilo_Musical                                             \n",
              "Eletrônica               4.4       2.8    3.0      4.2  4.2\n",
              "Funk                     5.4       4.8    2.4      5.2  3.0\n",
              "Pop                      3.8       5.0    4.0      5.2  3.6\n",
              "Rock                     4.4       4.6    3.4      4.4  3.0\n",
              "Sertanejo                2.8       2.4    4.4      5.0  4.6"
            ]
          },
          "execution_count": 127,
          "metadata": {},
          "output_type": "execute_result"
        }
      ],
      "source": [
        "tab_musical_regiao = round(pd.crosstab(dados_musica['Estilo_Musical'], dados_musica['Regiao'], normalize = 'all') * 100,1)\n",
        "tab_musical_regiao"
      ]
    },
    {
      "cell_type": "markdown",
      "metadata": {
        "id": "1uTAdILB_T6m"
      },
      "source": [
        "## **Aula 03 - Analisando a tendência dos dados**"
      ]
    },
    {
      "cell_type": "markdown",
      "metadata": {
        "id": "vJ0a5l-Di79U"
      },
      "source": [
        "### **Mão na Massa - Analisando a renda das pessoas responsáveis**"
      ]
    },
    {
      "cell_type": "markdown",
      "metadata": {
        "id": "xAZjitTs-roh"
      },
      "source": [
        "Nesta etapa do treinamento, vamos analisar mais dados das pessoas responsáveis pelo domicílio de acordo com os dados da PNAD de 2015, focando na renda e na variável que criamos com as suas alturas. Responda às perguntas abaixo e reflita sobre os achados."
      ]
    },
    {
      "cell_type": "markdown",
      "metadata": {
        "id": "pTpoxoY7-roj"
      },
      "source": [
        "#### **Calcule as medidas de tendência central (média, mediana e moda) para a variável `Renda`**"
      ]
    },
    {
      "cell_type": "code",
      "execution_count": 128,
      "metadata": {
        "id": "bl8w7WoKXttN"
      },
      "outputs": [
        {
          "data": {
            "text/plain": [
              "np.float64(2000.38)"
            ]
          },
          "execution_count": 128,
          "metadata": {},
          "output_type": "execute_result"
        }
      ],
      "source": [
        "round(dados.Renda.mean(), 2)"
      ]
    },
    {
      "cell_type": "code",
      "execution_count": 129,
      "metadata": {
        "id": "szcR7gjBXttN"
      },
      "outputs": [
        {
          "data": {
            "text/plain": [
              "np.float64(1200.0)"
            ]
          },
          "execution_count": 129,
          "metadata": {},
          "output_type": "execute_result"
        }
      ],
      "source": [
        "dados.Renda.median()"
      ]
    },
    {
      "cell_type": "code",
      "execution_count": 130,
      "metadata": {
        "id": "v3T4O-ckXttN"
      },
      "outputs": [],
      "source": [
        "moda = dados.Renda.mode()"
      ]
    },
    {
      "cell_type": "code",
      "execution_count": 131,
      "metadata": {
        "id": "7dfubW93XttO"
      },
      "outputs": [
        {
          "data": {
            "application/vnd.microsoft.datawrangler.viewer.v0+json": {
              "columns": [
                {
                  "name": "Renda",
                  "rawType": "int64",
                  "type": "integer"
                },
                {
                  "name": "count",
                  "rawType": "int64",
                  "type": "integer"
                }
              ],
              "ref": "c11238f5-fd38-4fc4-b20c-11afbaee388d",
              "rows": [
                [
                  "788",
                  "6881"
                ]
              ],
              "shape": {
                "columns": 1,
                "rows": 1
              }
            },
            "text/plain": [
              "Renda\n",
              "788    6881\n",
              "Name: count, dtype: int64"
            ]
          },
          "execution_count": 131,
          "metadata": {},
          "output_type": "execute_result"
        }
      ],
      "source": [
        "frequencia = dados[dados['Renda'].isin(moda.values)]\n",
        "frequencia.Renda.value_counts()"
      ]
    },
    {
      "cell_type": "markdown",
      "metadata": {
        "id": "ICXWPxBCB9F3"
      },
      "source": [
        "#### **Crie um gráfico de barras do Top 5 estados pela médias de `Renda`**"
      ]
    },
    {
      "cell_type": "markdown",
      "metadata": {
        "id": "Fn0HRjQTFcqc"
      },
      "source": [
        "**Dica:** Para conseguir apresentar apenas os Top 5 estados utilize a função `head()` passando como variável quantos valores deseja apresentar."
      ]
    },
    {
      "cell_type": "code",
      "execution_count": 132,
      "metadata": {
        "id": "fMCt_o-yXttO"
      },
      "outputs": [
        {
          "data": {
            "application/vnd.microsoft.datawrangler.viewer.v0+json": {
              "columns": [
                {
                  "name": "index",
                  "rawType": "int64",
                  "type": "integer"
                },
                {
                  "name": "UF",
                  "rawType": "object",
                  "type": "string"
                },
                {
                  "name": "Sexo",
                  "rawType": "int64",
                  "type": "integer"
                },
                {
                  "name": "Idade",
                  "rawType": "int64",
                  "type": "integer"
                },
                {
                  "name": "Cor",
                  "rawType": "int64",
                  "type": "integer"
                },
                {
                  "name": "Anos.de.Estudo",
                  "rawType": "int64",
                  "type": "integer"
                },
                {
                  "name": "Renda",
                  "rawType": "int64",
                  "type": "integer"
                },
                {
                  "name": "Altura",
                  "rawType": "float64",
                  "type": "float"
                },
                {
                  "name": "sexo_biologico",
                  "rawType": "category",
                  "type": "unknown"
                },
                {
                  "name": "cor_pele",
                  "rawType": "category",
                  "type": "unknown"
                },
                {
                  "name": "anos_estudados",
                  "rawType": "category",
                  "type": "unknown"
                }
              ],
              "ref": "af1dad22-fadb-4fa3-8bd6-b93bd7483079",
              "rows": [
                [
                  "0",
                  "Rondônia",
                  "0",
                  "23",
                  "8",
                  "12",
                  "800",
                  "1.6",
                  "Masculino",
                  "Parda",
                  "11 anos"
                ],
                [
                  "1",
                  "Rondônia",
                  "1",
                  "23",
                  "2",
                  "12",
                  "1150",
                  "1.74",
                  "Feminino",
                  "Branca",
                  "11 anos"
                ],
                [
                  "2",
                  "Rondônia",
                  "1",
                  "35",
                  "8",
                  "15",
                  "880",
                  "1.76",
                  "Feminino",
                  "Parda",
                  "14 anos"
                ]
              ],
              "shape": {
                "columns": 10,
                "rows": 3
              }
            },
            "text/html": [
              "<div>\n",
              "<style scoped>\n",
              "    .dataframe tbody tr th:only-of-type {\n",
              "        vertical-align: middle;\n",
              "    }\n",
              "\n",
              "    .dataframe tbody tr th {\n",
              "        vertical-align: top;\n",
              "    }\n",
              "\n",
              "    .dataframe thead th {\n",
              "        text-align: right;\n",
              "    }\n",
              "</style>\n",
              "<table border=\"1\" class=\"dataframe\">\n",
              "  <thead>\n",
              "    <tr style=\"text-align: right;\">\n",
              "      <th></th>\n",
              "      <th>UF</th>\n",
              "      <th>Sexo</th>\n",
              "      <th>Idade</th>\n",
              "      <th>Cor</th>\n",
              "      <th>Anos.de.Estudo</th>\n",
              "      <th>Renda</th>\n",
              "      <th>Altura</th>\n",
              "      <th>sexo_biologico</th>\n",
              "      <th>cor_pele</th>\n",
              "      <th>anos_estudados</th>\n",
              "    </tr>\n",
              "  </thead>\n",
              "  <tbody>\n",
              "    <tr>\n",
              "      <th>0</th>\n",
              "      <td>Rondônia</td>\n",
              "      <td>0</td>\n",
              "      <td>23</td>\n",
              "      <td>8</td>\n",
              "      <td>12</td>\n",
              "      <td>800</td>\n",
              "      <td>1.60</td>\n",
              "      <td>Masculino</td>\n",
              "      <td>Parda</td>\n",
              "      <td>11 anos</td>\n",
              "    </tr>\n",
              "    <tr>\n",
              "      <th>1</th>\n",
              "      <td>Rondônia</td>\n",
              "      <td>1</td>\n",
              "      <td>23</td>\n",
              "      <td>2</td>\n",
              "      <td>12</td>\n",
              "      <td>1150</td>\n",
              "      <td>1.74</td>\n",
              "      <td>Feminino</td>\n",
              "      <td>Branca</td>\n",
              "      <td>11 anos</td>\n",
              "    </tr>\n",
              "    <tr>\n",
              "      <th>2</th>\n",
              "      <td>Rondônia</td>\n",
              "      <td>1</td>\n",
              "      <td>35</td>\n",
              "      <td>8</td>\n",
              "      <td>15</td>\n",
              "      <td>880</td>\n",
              "      <td>1.76</td>\n",
              "      <td>Feminino</td>\n",
              "      <td>Parda</td>\n",
              "      <td>14 anos</td>\n",
              "    </tr>\n",
              "  </tbody>\n",
              "</table>\n",
              "</div>"
            ],
            "text/plain": [
              "         UF  Sexo  Idade  Cor  Anos.de.Estudo  Renda  Altura sexo_biologico  \\\n",
              "0  Rondônia     0     23    8              12    800    1.60      Masculino   \n",
              "1  Rondônia     1     23    2              12   1150    1.74       Feminino   \n",
              "2  Rondônia     1     35    8              15    880    1.76       Feminino   \n",
              "\n",
              "  cor_pele anos_estudados  \n",
              "0    Parda        11 anos  \n",
              "1   Branca        11 anos  \n",
              "2    Parda        14 anos  "
            ]
          },
          "execution_count": 132,
          "metadata": {},
          "output_type": "execute_result"
        }
      ],
      "source": [
        "dados.head(3)"
      ]
    },
    {
      "cell_type": "code",
      "execution_count": 133,
      "metadata": {
        "id": "m09IJri9XttO"
      },
      "outputs": [
        {
          "data": {
            "application/vnd.microsoft.datawrangler.viewer.v0+json": {
              "columns": [
                {
                  "name": "index",
                  "rawType": "int64",
                  "type": "integer"
                },
                {
                  "name": "UF",
                  "rawType": "object",
                  "type": "string"
                },
                {
                  "name": "media",
                  "rawType": "float64",
                  "type": "float"
                }
              ],
              "ref": "75089d89-b781-4e86-9347-a0cdfe9f75ee",
              "rows": [
                [
                  "6",
                  "Distrito Federal",
                  "4241.95"
                ],
                [
                  "25",
                  "São Paulo",
                  "2638.1"
                ],
                [
                  "20",
                  "Rio de Janeiro",
                  "2496.4"
                ],
                [
                  "13",
                  "Paraná",
                  "2493.87"
                ],
                [
                  "23",
                  "Santa Catarina",
                  "2470.85"
                ]
              ],
              "shape": {
                "columns": 2,
                "rows": 5
              }
            },
            "text/html": [
              "<div>\n",
              "<style scoped>\n",
              "    .dataframe tbody tr th:only-of-type {\n",
              "        vertical-align: middle;\n",
              "    }\n",
              "\n",
              "    .dataframe tbody tr th {\n",
              "        vertical-align: top;\n",
              "    }\n",
              "\n",
              "    .dataframe thead th {\n",
              "        text-align: right;\n",
              "    }\n",
              "</style>\n",
              "<table border=\"1\" class=\"dataframe\">\n",
              "  <thead>\n",
              "    <tr style=\"text-align: right;\">\n",
              "      <th></th>\n",
              "      <th>UF</th>\n",
              "      <th>media</th>\n",
              "    </tr>\n",
              "  </thead>\n",
              "  <tbody>\n",
              "    <tr>\n",
              "      <th>6</th>\n",
              "      <td>Distrito Federal</td>\n",
              "      <td>4241.95</td>\n",
              "    </tr>\n",
              "    <tr>\n",
              "      <th>25</th>\n",
              "      <td>São Paulo</td>\n",
              "      <td>2638.10</td>\n",
              "    </tr>\n",
              "    <tr>\n",
              "      <th>20</th>\n",
              "      <td>Rio de Janeiro</td>\n",
              "      <td>2496.40</td>\n",
              "    </tr>\n",
              "    <tr>\n",
              "      <th>13</th>\n",
              "      <td>Paraná</td>\n",
              "      <td>2493.87</td>\n",
              "    </tr>\n",
              "    <tr>\n",
              "      <th>23</th>\n",
              "      <td>Santa Catarina</td>\n",
              "      <td>2470.85</td>\n",
              "    </tr>\n",
              "  </tbody>\n",
              "</table>\n",
              "</div>"
            ],
            "text/plain": [
              "                  UF    media\n",
              "6   Distrito Federal  4241.95\n",
              "25         São Paulo  2638.10\n",
              "20    Rio de Janeiro  2496.40\n",
              "13            Paraná  2493.87\n",
              "23    Santa Catarina  2470.85"
            ]
          },
          "execution_count": 133,
          "metadata": {},
          "output_type": "execute_result"
        }
      ],
      "source": [
        "# Calculando a média de renda por UF\n",
        "top5_renda = dados.groupby('UF').agg(media=('Renda', 'mean')).reset_index()\n",
        "\n",
        "# Ordenando e selecionando os 5 estados com as maiores médias de renda\n",
        "top5_renda = round(top5_renda.sort_values(by='media', ascending=False).head(5),2)\n",
        "\n",
        "top5_renda"
      ]
    },
    {
      "cell_type": "code",
      "execution_count": 134,
      "metadata": {
        "id": "RGDhPHhUXttO"
      },
      "outputs": [
        {
          "data": {
            "image/png": "[encoded data removed]",
            "text/plain": [
              "<Figure size 640x480 with 1 Axes>"
            ]
          },
          "metadata": {},
          "output_type": "display_data"
        }
      ],
      "source": [
        "sns.barplot(data=top5_renda, x='media', y='UF')\n",
        "plt.show()"
      ]
    },
    {
      "cell_type": "markdown",
      "metadata": {
        "id": "-3RjEjJrKa0J"
      },
      "source": [
        "> #### Conclusões\n",
        "\n",
        "Escreva suas conclusões aqui..."
      ]
    },
    {
      "cell_type": "markdown",
      "metadata": {
        "id": "7wYIJXkt-roo"
      },
      "source": [
        "#### **Construa 3 tabelas cruzadas calculando a média, mediana e valores máximos de `Renda` relacionando as pessoas responsáveis por estado da Região Sudeste (`UF`) e por `Cat.Sexo`**"
      ]
    },
    {
      "cell_type": "code",
      "execution_count": 135,
      "metadata": {
        "id": "1H0p2Cr_XttP"
      },
      "outputs": [
        {
          "data": {
            "application/vnd.microsoft.datawrangler.viewer.v0+json": {
              "columns": [
                {
                  "name": "index",
                  "rawType": "int64",
                  "type": "integer"
                },
                {
                  "name": "UF",
                  "rawType": "object",
                  "type": "string"
                },
                {
                  "name": "Sexo",
                  "rawType": "int64",
                  "type": "integer"
                },
                {
                  "name": "Idade",
                  "rawType": "int64",
                  "type": "integer"
                },
                {
                  "name": "Cor",
                  "rawType": "int64",
                  "type": "integer"
                },
                {
                  "name": "Anos.de.Estudo",
                  "rawType": "int64",
                  "type": "integer"
                },
                {
                  "name": "Renda",
                  "rawType": "int64",
                  "type": "integer"
                },
                {
                  "name": "Altura",
                  "rawType": "float64",
                  "type": "float"
                },
                {
                  "name": "sexo_biologico",
                  "rawType": "category",
                  "type": "unknown"
                },
                {
                  "name": "cor_pele",
                  "rawType": "category",
                  "type": "unknown"
                },
                {
                  "name": "anos_estudados",
                  "rawType": "category",
                  "type": "unknown"
                }
              ],
              "ref": "af313171-c6d6-40c5-a66b-38e64e1022fe",
              "rows": [
                [
                  "31818",
                  "Minas Gerais",
                  "0",
                  "40",
                  "2",
                  "12",
                  "1600",
                  "1.62",
                  "Masculino",
                  "Branca",
                  "11 anos"
                ],
                [
                  "31819",
                  "Minas Gerais",
                  "0",
                  "58",
                  "8",
                  "5",
                  "850",
                  "1.58",
                  "Masculino",
                  "Parda",
                  "4 anos"
                ],
                [
                  "31820",
                  "Minas Gerais",
                  "0",
                  "36",
                  "8",
                  "3",
                  "1400",
                  "1.75",
                  "Masculino",
                  "Parda",
                  "2 anos"
                ],
                [
                  "31821",
                  "Minas Gerais",
                  "0",
                  "21",
                  "8",
                  "11",
                  "1500",
                  "1.66",
                  "Masculino",
                  "Parda",
                  "10 anos"
                ],
                [
                  "31822",
                  "Minas Gerais",
                  "0",
                  "28",
                  "2",
                  "9",
                  "1600",
                  "1.62",
                  "Masculino",
                  "Branca",
                  "8 anos"
                ],
                [
                  "31823",
                  "Minas Gerais",
                  "0",
                  "39",
                  "2",
                  "3",
                  "1100",
                  "1.63",
                  "Masculino",
                  "Branca",
                  "2 anos"
                ],
                [
                  "31824",
                  "Minas Gerais",
                  "0",
                  "21",
                  "2",
                  "8",
                  "1200",
                  "1.73",
                  "Masculino",
                  "Branca",
                  "7 anos"
                ],
                [
                  "31825",
                  "Minas Gerais",
                  "0",
                  "51",
                  "8",
                  "5",
                  "1800",
                  "1.67",
                  "Masculino",
                  "Parda",
                  "4 anos"
                ],
                [
                  "31826",
                  "Minas Gerais",
                  "0",
                  "37",
                  "8",
                  "11",
                  "2100",
                  "1.61",
                  "Masculino",
                  "Parda",
                  "10 anos"
                ],
                [
                  "31827",
                  "Minas Gerais",
                  "0",
                  "29",
                  "8",
                  "12",
                  "2500",
                  "1.79",
                  "Masculino",
                  "Parda",
                  "11 anos"
                ],
                [
                  "31828",
                  "Minas Gerais",
                  "0",
                  "59",
                  "2",
                  "9",
                  "1600",
                  "1.68",
                  "Masculino",
                  "Branca",
                  "8 anos"
                ],
                [
                  "31829",
                  "Minas Gerais",
                  "0",
                  "45",
                  "8",
                  "1",
                  "0",
                  "1.61",
                  "Masculino",
                  "Parda",
                  "Sem instrução e menos de 1 ano"
                ],
                [
                  "31830",
                  "Minas Gerais",
                  "0",
                  "62",
                  "8",
                  "4",
                  "1200",
                  "1.61",
                  "Masculino",
                  "Parda",
                  "3 anos"
                ],
                [
                  "31831",
                  "Minas Gerais",
                  "0",
                  "47",
                  "8",
                  "5",
                  "1200",
                  "1.71",
                  "Masculino",
                  "Parda",
                  "4 anos"
                ],
                [
                  "31832",
                  "Minas Gerais",
                  "0",
                  "66",
                  "8",
                  "2",
                  "1400",
                  "1.67",
                  "Masculino",
                  "Parda",
                  "1 ano"
                ],
                [
                  "31833",
                  "Minas Gerais",
                  "1",
                  "43",
                  "8",
                  "12",
                  "200",
                  "1.84",
                  "Feminino",
                  "Parda",
                  "11 anos"
                ],
                [
                  "31834",
                  "Minas Gerais",
                  "0",
                  "43",
                  "8",
                  "6",
                  "788",
                  "1.69",
                  "Masculino",
                  "Parda",
                  "5 anos"
                ],
                [
                  "31835",
                  "Minas Gerais",
                  "0",
                  "48",
                  "8",
                  "1",
                  "788",
                  "1.62",
                  "Masculino",
                  "Parda",
                  "Sem instrução e menos de 1 ano"
                ],
                [
                  "31836",
                  "Minas Gerais",
                  "0",
                  "53",
                  "8",
                  "7",
                  "1200",
                  "1.72",
                  "Masculino",
                  "Parda",
                  "6 anos"
                ],
                [
                  "31837",
                  "Minas Gerais",
                  "0",
                  "45",
                  "8",
                  "7",
                  "1000",
                  "1.79",
                  "Masculino",
                  "Parda",
                  "6 anos"
                ],
                [
                  "31838",
                  "Minas Gerais",
                  "0",
                  "42",
                  "8",
                  "2",
                  "1350",
                  "1.76",
                  "Masculino",
                  "Parda",
                  "1 ano"
                ],
                [
                  "31839",
                  "Minas Gerais",
                  "0",
                  "50",
                  "2",
                  "5",
                  "3000",
                  "1.8",
                  "Masculino",
                  "Branca",
                  "4 anos"
                ],
                [
                  "31840",
                  "Minas Gerais",
                  "0",
                  "83",
                  "4",
                  "3",
                  "600",
                  "1.76",
                  "Masculino",
                  "Preta",
                  "2 anos"
                ],
                [
                  "31841",
                  "Minas Gerais",
                  "0",
                  "55",
                  "8",
                  "12",
                  "788",
                  "1.63",
                  "Masculino",
                  "Parda",
                  "11 anos"
                ],
                [
                  "31842",
                  "Minas Gerais",
                  "0",
                  "33",
                  "8",
                  "11",
                  "2100",
                  "1.75",
                  "Masculino",
                  "Parda",
                  "10 anos"
                ],
                [
                  "31843",
                  "Minas Gerais",
                  "0",
                  "53",
                  "8",
                  "1",
                  "1000",
                  "1.61",
                  "Masculino",
                  "Parda",
                  "Sem instrução e menos de 1 ano"
                ],
                [
                  "31844",
                  "Minas Gerais",
                  "0",
                  "64",
                  "2",
                  "5",
                  "700",
                  "1.6",
                  "Masculino",
                  "Branca",
                  "4 anos"
                ],
                [
                  "31845",
                  "Minas Gerais",
                  "0",
                  "55",
                  "4",
                  "4",
                  "1100",
                  "1.72",
                  "Masculino",
                  "Preta",
                  "3 anos"
                ],
                [
                  "31846",
                  "Minas Gerais",
                  "0",
                  "61",
                  "8",
                  "1",
                  "1200",
                  "1.67",
                  "Masculino",
                  "Parda",
                  "Sem instrução e menos de 1 ano"
                ],
                [
                  "31847",
                  "Minas Gerais",
                  "0",
                  "64",
                  "8",
                  "4",
                  "0",
                  "1.75",
                  "Masculino",
                  "Parda",
                  "3 anos"
                ],
                [
                  "31848",
                  "Minas Gerais",
                  "0",
                  "45",
                  "2",
                  "5",
                  "1660",
                  "1.51",
                  "Masculino",
                  "Branca",
                  "4 anos"
                ],
                [
                  "31849",
                  "Minas Gerais",
                  "0",
                  "74",
                  "8",
                  "2",
                  "1600",
                  "1.9",
                  "Masculino",
                  "Parda",
                  "1 ano"
                ],
                [
                  "31850",
                  "Minas Gerais",
                  "0",
                  "29",
                  "8",
                  "12",
                  "1000",
                  "1.72",
                  "Masculino",
                  "Parda",
                  "11 anos"
                ],
                [
                  "31851",
                  "Minas Gerais",
                  "0",
                  "70",
                  "8",
                  "1",
                  "400",
                  "1.59",
                  "Masculino",
                  "Parda",
                  "Sem instrução e menos de 1 ano"
                ],
                [
                  "31852",
                  "Minas Gerais",
                  "0",
                  "68",
                  "4",
                  "5",
                  "1200",
                  "1.69",
                  "Masculino",
                  "Preta",
                  "4 anos"
                ],
                [
                  "31853",
                  "Minas Gerais",
                  "1",
                  "36",
                  "2",
                  "12",
                  "200",
                  "1.65",
                  "Feminino",
                  "Branca",
                  "11 anos"
                ],
                [
                  "31854",
                  "Minas Gerais",
                  "0",
                  "41",
                  "2",
                  "12",
                  "1500",
                  "1.65",
                  "Masculino",
                  "Branca",
                  "11 anos"
                ],
                [
                  "31855",
                  "Minas Gerais",
                  "0",
                  "43",
                  "2",
                  "16",
                  "3500",
                  "1.91",
                  "Masculino",
                  "Branca",
                  "15 anos ou mais"
                ],
                [
                  "31856",
                  "Minas Gerais",
                  "1",
                  "51",
                  "8",
                  "16",
                  "788",
                  "1.55",
                  "Feminino",
                  "Parda",
                  "15 anos ou mais"
                ],
                [
                  "31857",
                  "Minas Gerais",
                  "0",
                  "55",
                  "2",
                  "16",
                  "6000",
                  "1.55",
                  "Masculino",
                  "Branca",
                  "15 anos ou mais"
                ],
                [
                  "31858",
                  "Minas Gerais",
                  "0",
                  "53",
                  "8",
                  "12",
                  "2900",
                  "1.73",
                  "Masculino",
                  "Parda",
                  "11 anos"
                ],
                [
                  "31859",
                  "Minas Gerais",
                  "1",
                  "47",
                  "2",
                  "16",
                  "3000",
                  "1.75",
                  "Feminino",
                  "Branca",
                  "15 anos ou mais"
                ],
                [
                  "31860",
                  "Minas Gerais",
                  "0",
                  "52",
                  "2",
                  "11",
                  "1100",
                  "1.82",
                  "Masculino",
                  "Branca",
                  "10 anos"
                ],
                [
                  "31861",
                  "Minas Gerais",
                  "0",
                  "37",
                  "8",
                  "12",
                  "1100",
                  "1.7",
                  "Masculino",
                  "Parda",
                  "11 anos"
                ],
                [
                  "31862",
                  "Minas Gerais",
                  "1",
                  "62",
                  "2",
                  "1",
                  "600",
                  "1.64",
                  "Feminino",
                  "Branca",
                  "Sem instrução e menos de 1 ano"
                ],
                [
                  "31863",
                  "Minas Gerais",
                  "1",
                  "39",
                  "2",
                  "16",
                  "3000",
                  "1.68",
                  "Feminino",
                  "Branca",
                  "15 anos ou mais"
                ],
                [
                  "31864",
                  "Minas Gerais",
                  "0",
                  "45",
                  "2",
                  "15",
                  "2000",
                  "1.68",
                  "Masculino",
                  "Branca",
                  "14 anos"
                ],
                [
                  "31865",
                  "Minas Gerais",
                  "1",
                  "48",
                  "2",
                  "16",
                  "2000",
                  "1.65",
                  "Feminino",
                  "Branca",
                  "15 anos ou mais"
                ],
                [
                  "31866",
                  "Minas Gerais",
                  "0",
                  "44",
                  "8",
                  "6",
                  "1680",
                  "1.66",
                  "Masculino",
                  "Parda",
                  "5 anos"
                ],
                [
                  "31867",
                  "Minas Gerais",
                  "0",
                  "23",
                  "2",
                  "12",
                  "788",
                  "1.9",
                  "Masculino",
                  "Branca",
                  "11 anos"
                ]
              ],
              "shape": {
                "columns": 10,
                "rows": 23297
              }
            },
            "text/html": [
              "<div>\n",
              "<style scoped>\n",
              "    .dataframe tbody tr th:only-of-type {\n",
              "        vertical-align: middle;\n",
              "    }\n",
              "\n",
              "    .dataframe tbody tr th {\n",
              "        vertical-align: top;\n",
              "    }\n",
              "\n",
              "    .dataframe thead th {\n",
              "        text-align: right;\n",
              "    }\n",
              "</style>\n",
              "<table border=\"1\" class=\"dataframe\">\n",
              "  <thead>\n",
              "    <tr style=\"text-align: right;\">\n",
              "      <th></th>\n",
              "      <th>UF</th>\n",
              "      <th>Sexo</th>\n",
              "      <th>Idade</th>\n",
              "      <th>Cor</th>\n",
              "      <th>Anos.de.Estudo</th>\n",
              "      <th>Renda</th>\n",
              "      <th>Altura</th>\n",
              "      <th>sexo_biologico</th>\n",
              "      <th>cor_pele</th>\n",
              "      <th>anos_estudados</th>\n",
              "    </tr>\n",
              "  </thead>\n",
              "  <tbody>\n",
              "    <tr>\n",
              "      <th>31818</th>\n",
              "      <td>Minas Gerais</td>\n",
              "      <td>0</td>\n",
              "      <td>40</td>\n",
              "      <td>2</td>\n",
              "      <td>12</td>\n",
              "      <td>1600</td>\n",
              "      <td>1.62</td>\n",
              "      <td>Masculino</td>\n",
              "      <td>Branca</td>\n",
              "      <td>11 anos</td>\n",
              "    </tr>\n",
              "    <tr>\n",
              "      <th>31819</th>\n",
              "      <td>Minas Gerais</td>\n",
              "      <td>0</td>\n",
              "      <td>58</td>\n",
              "      <td>8</td>\n",
              "      <td>5</td>\n",
              "      <td>850</td>\n",
              "      <td>1.58</td>\n",
              "      <td>Masculino</td>\n",
              "      <td>Parda</td>\n",
              "      <td>4 anos</td>\n",
              "    </tr>\n",
              "    <tr>\n",
              "      <th>31820</th>\n",
              "      <td>Minas Gerais</td>\n",
              "      <td>0</td>\n",
              "      <td>36</td>\n",
              "      <td>8</td>\n",
              "      <td>3</td>\n",
              "      <td>1400</td>\n",
              "      <td>1.75</td>\n",
              "      <td>Masculino</td>\n",
              "      <td>Parda</td>\n",
              "      <td>2 anos</td>\n",
              "    </tr>\n",
              "    <tr>\n",
              "      <th>31821</th>\n",
              "      <td>Minas Gerais</td>\n",
              "      <td>0</td>\n",
              "      <td>21</td>\n",
              "      <td>8</td>\n",
              "      <td>11</td>\n",
              "      <td>1500</td>\n",
              "      <td>1.66</td>\n",
              "      <td>Masculino</td>\n",
              "      <td>Parda</td>\n",
              "      <td>10 anos</td>\n",
              "    </tr>\n",
              "    <tr>\n",
              "      <th>31822</th>\n",
              "      <td>Minas Gerais</td>\n",
              "      <td>0</td>\n",
              "      <td>28</td>\n",
              "      <td>2</td>\n",
              "      <td>9</td>\n",
              "      <td>1600</td>\n",
              "      <td>1.62</td>\n",
              "      <td>Masculino</td>\n",
              "      <td>Branca</td>\n",
              "      <td>8 anos</td>\n",
              "    </tr>\n",
              "    <tr>\n",
              "      <th>...</th>\n",
              "      <td>...</td>\n",
              "      <td>...</td>\n",
              "      <td>...</td>\n",
              "      <td>...</td>\n",
              "      <td>...</td>\n",
              "      <td>...</td>\n",
              "      <td>...</td>\n",
              "      <td>...</td>\n",
              "      <td>...</td>\n",
              "      <td>...</td>\n",
              "    </tr>\n",
              "    <tr>\n",
              "      <th>55110</th>\n",
              "      <td>São Paulo</td>\n",
              "      <td>0</td>\n",
              "      <td>52</td>\n",
              "      <td>8</td>\n",
              "      <td>12</td>\n",
              "      <td>1500</td>\n",
              "      <td>1.82</td>\n",
              "      <td>Masculino</td>\n",
              "      <td>Parda</td>\n",
              "      <td>11 anos</td>\n",
              "    </tr>\n",
              "    <tr>\n",
              "      <th>55111</th>\n",
              "      <td>São Paulo</td>\n",
              "      <td>0</td>\n",
              "      <td>30</td>\n",
              "      <td>8</td>\n",
              "      <td>12</td>\n",
              "      <td>1500</td>\n",
              "      <td>1.48</td>\n",
              "      <td>Masculino</td>\n",
              "      <td>Parda</td>\n",
              "      <td>11 anos</td>\n",
              "    </tr>\n",
              "    <tr>\n",
              "      <th>55112</th>\n",
              "      <td>São Paulo</td>\n",
              "      <td>0</td>\n",
              "      <td>43</td>\n",
              "      <td>8</td>\n",
              "      <td>5</td>\n",
              "      <td>1100</td>\n",
              "      <td>1.72</td>\n",
              "      <td>Masculino</td>\n",
              "      <td>Parda</td>\n",
              "      <td>4 anos</td>\n",
              "    </tr>\n",
              "    <tr>\n",
              "      <th>55113</th>\n",
              "      <td>São Paulo</td>\n",
              "      <td>1</td>\n",
              "      <td>51</td>\n",
              "      <td>8</td>\n",
              "      <td>16</td>\n",
              "      <td>1600</td>\n",
              "      <td>1.75</td>\n",
              "      <td>Feminino</td>\n",
              "      <td>Parda</td>\n",
              "      <td>15 anos ou mais</td>\n",
              "    </tr>\n",
              "    <tr>\n",
              "      <th>55114</th>\n",
              "      <td>São Paulo</td>\n",
              "      <td>0</td>\n",
              "      <td>59</td>\n",
              "      <td>8</td>\n",
              "      <td>12</td>\n",
              "      <td>1600</td>\n",
              "      <td>1.72</td>\n",
              "      <td>Masculino</td>\n",
              "      <td>Parda</td>\n",
              "      <td>11 anos</td>\n",
              "    </tr>\n",
              "  </tbody>\n",
              "</table>\n",
              "<p>23297 rows × 10 columns</p>\n",
              "</div>"
            ],
            "text/plain": [
              "                 UF  Sexo  Idade  Cor  Anos.de.Estudo  Renda  Altura  \\\n",
              "31818  Minas Gerais     0     40    2              12   1600    1.62   \n",
              "31819  Minas Gerais     0     58    8               5    850    1.58   \n",
              "31820  Minas Gerais     0     36    8               3   1400    1.75   \n",
              "31821  Minas Gerais     0     21    8              11   1500    1.66   \n",
              "31822  Minas Gerais     0     28    2               9   1600    1.62   \n",
              "...             ...   ...    ...  ...             ...    ...     ...   \n",
              "55110     São Paulo     0     52    8              12   1500    1.82   \n",
              "55111     São Paulo     0     30    8              12   1500    1.48   \n",
              "55112     São Paulo     0     43    8               5   1100    1.72   \n",
              "55113     São Paulo     1     51    8              16   1600    1.75   \n",
              "55114     São Paulo     0     59    8              12   1600    1.72   \n",
              "\n",
              "      sexo_biologico cor_pele   anos_estudados  \n",
              "31818      Masculino   Branca          11 anos  \n",
              "31819      Masculino    Parda           4 anos  \n",
              "31820      Masculino    Parda           2 anos  \n",
              "31821      Masculino    Parda          10 anos  \n",
              "31822      Masculino   Branca           8 anos  \n",
              "...              ...      ...              ...  \n",
              "55110      Masculino    Parda          11 anos  \n",
              "55111      Masculino    Parda          11 anos  \n",
              "55112      Masculino    Parda           4 anos  \n",
              "55113       Feminino    Parda  15 anos ou mais  \n",
              "55114      Masculino    Parda          11 anos  \n",
              "\n",
              "[23297 rows x 10 columns]"
            ]
          },
          "execution_count": 135,
          "metadata": {},
          "output_type": "execute_result"
        }
      ],
      "source": [
        "dados_sudeste = dados[dados['UF'].isin(['Espírito Santo', 'Minas Gerais', 'Rio de Janeiro', 'São Paulo'])]\n",
        "\n",
        "dados_sudeste"
      ]
    },
    {
      "cell_type": "markdown",
      "metadata": {
        "id": "FtNN9kkiKfK4"
      },
      "source": [
        "##### **Média**"
      ]
    },
    {
      "cell_type": "code",
      "execution_count": 138,
      "metadata": {
        "id": "68tKsDfKXttP"
      },
      "outputs": [
        {
          "data": {
            "application/vnd.microsoft.datawrangler.viewer.v0+json": {
              "columns": [
                {
                  "name": "sexo_biologico",
                  "rawType": "category",
                  "type": "unknown"
                },
                {
                  "name": "Espírito Santo",
                  "rawType": "float64",
                  "type": "float"
                },
                {
                  "name": "Minas Gerais",
                  "rawType": "float64",
                  "type": "float"
                },
                {
                  "name": "Rio de Janeiro",
                  "rawType": "float64",
                  "type": "float"
                },
                {
                  "name": "São Paulo",
                  "rawType": "float64",
                  "type": "float"
                }
              ],
              "ref": "2f823e45-6f42-48ce-8c67-ae307f54336e",
              "rows": [
                [
                  "Masculino",
                  "2129.32",
                  "2283.16",
                  "2777.55",
                  "2947.74"
                ],
                [
                  "Feminino",
                  "1752.71",
                  "1489.62",
                  "1971.53",
                  "1950.18"
                ]
              ],
              "shape": {
                "columns": 4,
                "rows": 2
              }
            },
            "text/html": [
              "<div>\n",
              "<style scoped>\n",
              "    .dataframe tbody tr th:only-of-type {\n",
              "        vertical-align: middle;\n",
              "    }\n",
              "\n",
              "    .dataframe tbody tr th {\n",
              "        vertical-align: top;\n",
              "    }\n",
              "\n",
              "    .dataframe thead th {\n",
              "        text-align: right;\n",
              "    }\n",
              "</style>\n",
              "<table border=\"1\" class=\"dataframe\">\n",
              "  <thead>\n",
              "    <tr style=\"text-align: right;\">\n",
              "      <th>UF</th>\n",
              "      <th>Espírito Santo</th>\n",
              "      <th>Minas Gerais</th>\n",
              "      <th>Rio de Janeiro</th>\n",
              "      <th>São Paulo</th>\n",
              "    </tr>\n",
              "    <tr>\n",
              "      <th>sexo_biologico</th>\n",
              "      <th></th>\n",
              "      <th></th>\n",
              "      <th></th>\n",
              "      <th></th>\n",
              "    </tr>\n",
              "  </thead>\n",
              "  <tbody>\n",
              "    <tr>\n",
              "      <th>Masculino</th>\n",
              "      <td>2129.32</td>\n",
              "      <td>2283.16</td>\n",
              "      <td>2777.55</td>\n",
              "      <td>2947.74</td>\n",
              "    </tr>\n",
              "    <tr>\n",
              "      <th>Feminino</th>\n",
              "      <td>1752.71</td>\n",
              "      <td>1489.62</td>\n",
              "      <td>1971.53</td>\n",
              "      <td>1950.18</td>\n",
              "    </tr>\n",
              "  </tbody>\n",
              "</table>\n",
              "</div>"
            ],
            "text/plain": [
              "UF              Espírito Santo  Minas Gerais  Rio de Janeiro  São Paulo\n",
              "sexo_biologico                                                         \n",
              "Masculino              2129.32       2283.16         2777.55    2947.74\n",
              "Feminino               1752.71       1489.62         1971.53    1950.18"
            ]
          },
          "execution_count": 138,
          "metadata": {},
          "output_type": "execute_result"
        }
      ],
      "source": [
        "renda_media = round(pd.crosstab(dados_sudeste['sexo_biologico'], dados_sudeste['UF'], values=dados_sudeste['Renda'], aggfunc='mean'), 2)\n",
        "\n",
        "renda_media"
      ]
    },
    {
      "cell_type": "markdown",
      "metadata": {
        "id": "I_HNBCdWKjyX"
      },
      "source": [
        "##### **Mediana**"
      ]
    },
    {
      "cell_type": "code",
      "execution_count": 139,
      "metadata": {
        "id": "4Nn7xbxXXttQ"
      },
      "outputs": [
        {
          "data": {
            "application/vnd.microsoft.datawrangler.viewer.v0+json": {
              "columns": [
                {
                  "name": "sexo_biologico",
                  "rawType": "category",
                  "type": "unknown"
                },
                {
                  "name": "Espírito Santo",
                  "rawType": "float64",
                  "type": "float"
                },
                {
                  "name": "Minas Gerais",
                  "rawType": "float64",
                  "type": "float"
                },
                {
                  "name": "Rio de Janeiro",
                  "rawType": "float64",
                  "type": "float"
                },
                {
                  "name": "São Paulo",
                  "rawType": "float64",
                  "type": "float"
                }
              ],
              "ref": "3169bba3-5276-433d-b99e-99ca91cd1342",
              "rows": [
                [
                  "Masculino",
                  "1500.0",
                  "1400.0",
                  "1510.0",
                  "1820.0"
                ],
                [
                  "Feminino",
                  "927.0",
                  "900.0",
                  "1040.5",
                  "1200.0"
                ]
              ],
              "shape": {
                "columns": 4,
                "rows": 2
              }
            },
            "text/html": [
              "<div>\n",
              "<style scoped>\n",
              "    .dataframe tbody tr th:only-of-type {\n",
              "        vertical-align: middle;\n",
              "    }\n",
              "\n",
              "    .dataframe tbody tr th {\n",
              "        vertical-align: top;\n",
              "    }\n",
              "\n",
              "    .dataframe thead th {\n",
              "        text-align: right;\n",
              "    }\n",
              "</style>\n",
              "<table border=\"1\" class=\"dataframe\">\n",
              "  <thead>\n",
              "    <tr style=\"text-align: right;\">\n",
              "      <th>UF</th>\n",
              "      <th>Espírito Santo</th>\n",
              "      <th>Minas Gerais</th>\n",
              "      <th>Rio de Janeiro</th>\n",
              "      <th>São Paulo</th>\n",
              "    </tr>\n",
              "    <tr>\n",
              "      <th>sexo_biologico</th>\n",
              "      <th></th>\n",
              "      <th></th>\n",
              "      <th></th>\n",
              "      <th></th>\n",
              "    </tr>\n",
              "  </thead>\n",
              "  <tbody>\n",
              "    <tr>\n",
              "      <th>Masculino</th>\n",
              "      <td>1500.0</td>\n",
              "      <td>1400.0</td>\n",
              "      <td>1510.0</td>\n",
              "      <td>1820.0</td>\n",
              "    </tr>\n",
              "    <tr>\n",
              "      <th>Feminino</th>\n",
              "      <td>927.0</td>\n",
              "      <td>900.0</td>\n",
              "      <td>1040.5</td>\n",
              "      <td>1200.0</td>\n",
              "    </tr>\n",
              "  </tbody>\n",
              "</table>\n",
              "</div>"
            ],
            "text/plain": [
              "UF              Espírito Santo  Minas Gerais  Rio de Janeiro  São Paulo\n",
              "sexo_biologico                                                         \n",
              "Masculino               1500.0        1400.0          1510.0     1820.0\n",
              "Feminino                 927.0         900.0          1040.5     1200.0"
            ]
          },
          "execution_count": 139,
          "metadata": {},
          "output_type": "execute_result"
        }
      ],
      "source": [
        "renda_mediana = round(pd.crosstab(dados_sudeste['sexo_biologico'], dados_sudeste['UF'], values=dados_sudeste['Renda'], aggfunc='median'), 2)\n",
        "\n",
        "renda_mediana"
      ]
    },
    {
      "cell_type": "markdown",
      "metadata": {
        "id": "m4bFpespKk2Y"
      },
      "source": [
        "##### **Renda Máxima**"
      ]
    },
    {
      "cell_type": "code",
      "execution_count": 140,
      "metadata": {
        "id": "vC9JWpSbXttR"
      },
      "outputs": [
        {
          "data": {
            "application/vnd.microsoft.datawrangler.viewer.v0+json": {
              "columns": [
                {
                  "name": "sexo_biologico",
                  "rawType": "category",
                  "type": "unknown"
                },
                {
                  "name": "Espírito Santo",
                  "rawType": "int64",
                  "type": "integer"
                },
                {
                  "name": "Minas Gerais",
                  "rawType": "int64",
                  "type": "integer"
                },
                {
                  "name": "Rio de Janeiro",
                  "rawType": "int64",
                  "type": "integer"
                },
                {
                  "name": "São Paulo",
                  "rawType": "int64",
                  "type": "integer"
                }
              ],
              "ref": "c77ab0eb-2977-48bc-88fe-f08989b1e78d",
              "rows": [
                [
                  "Masculino",
                  "40000",
                  "100000",
                  "200000",
                  "80000"
                ],
                [
                  "Feminino",
                  "100000",
                  "30000",
                  "120000",
                  "50000"
                ]
              ],
              "shape": {
                "columns": 4,
                "rows": 2
              }
            },
            "text/html": [
              "<div>\n",
              "<style scoped>\n",
              "    .dataframe tbody tr th:only-of-type {\n",
              "        vertical-align: middle;\n",
              "    }\n",
              "\n",
              "    .dataframe tbody tr th {\n",
              "        vertical-align: top;\n",
              "    }\n",
              "\n",
              "    .dataframe thead th {\n",
              "        text-align: right;\n",
              "    }\n",
              "</style>\n",
              "<table border=\"1\" class=\"dataframe\">\n",
              "  <thead>\n",
              "    <tr style=\"text-align: right;\">\n",
              "      <th>UF</th>\n",
              "      <th>Espírito Santo</th>\n",
              "      <th>Minas Gerais</th>\n",
              "      <th>Rio de Janeiro</th>\n",
              "      <th>São Paulo</th>\n",
              "    </tr>\n",
              "    <tr>\n",
              "      <th>sexo_biologico</th>\n",
              "      <th></th>\n",
              "      <th></th>\n",
              "      <th></th>\n",
              "      <th></th>\n",
              "    </tr>\n",
              "  </thead>\n",
              "  <tbody>\n",
              "    <tr>\n",
              "      <th>Masculino</th>\n",
              "      <td>40000</td>\n",
              "      <td>100000</td>\n",
              "      <td>200000</td>\n",
              "      <td>80000</td>\n",
              "    </tr>\n",
              "    <tr>\n",
              "      <th>Feminino</th>\n",
              "      <td>100000</td>\n",
              "      <td>30000</td>\n",
              "      <td>120000</td>\n",
              "      <td>50000</td>\n",
              "    </tr>\n",
              "  </tbody>\n",
              "</table>\n",
              "</div>"
            ],
            "text/plain": [
              "UF              Espírito Santo  Minas Gerais  Rio de Janeiro  São Paulo\n",
              "sexo_biologico                                                         \n",
              "Masculino                40000        100000          200000      80000\n",
              "Feminino                100000         30000          120000      50000"
            ]
          },
          "execution_count": 140,
          "metadata": {},
          "output_type": "execute_result"
        }
      ],
      "source": [
        "renda_max = round(pd.crosstab(dados_sudeste['sexo_biologico'], dados_sudeste['UF'], values=dados_sudeste['Renda'], aggfunc='max'), 2)\n",
        "\n",
        "renda_max"
      ]
    },
    {
      "cell_type": "markdown",
      "metadata": {
        "id": "4d19wJraKcQX"
      },
      "source": [
        "> #### Conclusões\n",
        "\n",
        "Escreva suas conclusões aqui..."
      ]
    },
    {
      "cell_type": "markdown",
      "metadata": {
        "id": "Jk7hNSEKC6Bf"
      },
      "source": [
        "#### **Construa 2 histogramas com curva de densidade com os valores das colunas `Altura` e `Idade` de todas as pessoas responsáveis e compare as curvas obtidas com as suas  MTCs**"
      ]
    },
    {
      "cell_type": "markdown",
      "metadata": {
        "id": "zE321QEALLSH"
      },
      "source": [
        "##### **Altura**"
      ]
    },
    {
      "cell_type": "code",
      "execution_count": 141,
      "metadata": {
        "id": "Rq519uIhXttR"
      },
      "outputs": [
        {
          "data": {
            "image/png": "[encoded data removed]",
            "text/plain": [
              "<Figure size 640x480 with 1 Axes>"
            ]
          },
          "metadata": {},
          "output_type": "display_data"
        }
      ],
      "source": [
        "sns.histplot(bins=15, data=dados, x='Altura', kde=True, kde_kws={'bw_adjust':2})\n",
        "\n",
        "plt.title('Distribuição das alturas das pessoas responsáveis pelo domicílio')\n",
        "plt.xlabel('Altura (metros)')\n",
        "plt.ylabel('Densidade')\n",
        "\n",
        "plt.show()"
      ]
    },
    {
      "cell_type": "code",
      "execution_count": 142,
      "metadata": {
        "id": "bc55wq1ZXttR"
      },
      "outputs": [
        {
          "data": {
            "text/plain": [
              "{'media': np.float64(1.7), 'mediana': np.float64(1.7), 'moda': np.float64(1.7)}"
            ]
          },
          "execution_count": 142,
          "metadata": {},
          "output_type": "execute_result"
        }
      ],
      "source": [
        "altura_resumo = {\n",
        "    'media': round(dados['Altura'].mean(),2),\n",
        "    'mediana': dados['Altura'].median(),\n",
        "    'moda': dados['Altura'].mode()[0]\n",
        "}\n",
        "\n",
        "altura_resumo"
      ]
    },
    {
      "cell_type": "markdown",
      "metadata": {
        "id": "B5ZUa7OF-ror"
      },
      "source": [
        "> #### Conclusões\n",
        "\n",
        "Escreva suas conclusões aqui..."
      ]
    },
    {
      "cell_type": "markdown",
      "metadata": {
        "id": "whm6etapM6Ni"
      },
      "source": [
        "##### **Idade**"
      ]
    },
    {
      "cell_type": "code",
      "execution_count": 143,
      "metadata": {
        "id": "lY6T5WxfXttS"
      },
      "outputs": [
        {
          "data": {
            "image/png": "[encoded data removed]",
            "text/plain": [
              "<Figure size 640x480 with 1 Axes>"
            ]
          },
          "metadata": {},
          "output_type": "display_data"
        }
      ],
      "source": [
        "sns.histplot(bins=15, data=dados, x='Idade', kde=True, kde_kws={'bw_adjust':2})\n",
        "\n",
        "plt.title('Distribuição das idades das pessoas responsáveis pelo domicílio')\n",
        "plt.xlabel('Idade (metros)')\n",
        "plt.ylabel('Densidade')\n",
        "\n",
        "plt.show()"
      ]
    },
    {
      "cell_type": "code",
      "execution_count": 144,
      "metadata": {
        "id": "i2wdO4uqXttS"
      },
      "outputs": [
        {
          "data": {
            "text/plain": [
              "{'media': np.float64(44.07), 'mediana': np.float64(43.0), 'moda': np.int64(40)}"
            ]
          },
          "execution_count": 144,
          "metadata": {},
          "output_type": "execute_result"
        }
      ],
      "source": [
        "idade_resumo = {\n",
        "    'media': round(dados['Idade'].mean(),2),\n",
        "    'mediana': dados['Idade'].median(),\n",
        "    'moda': dados['Idade'].mode()[0]\n",
        "}\n",
        "\n",
        "idade_resumo"
      ]
    },
    {
      "cell_type": "markdown",
      "metadata": {
        "id": "8E3XCvRYM9Qz"
      },
      "source": [
        "> #### Conclusões\n",
        "\n",
        "Escreva suas conclusões aqui..."
      ]
    },
    {
      "cell_type": "markdown",
      "metadata": {},
      "source": [
        "Diferença entre Média e Mediana\n",
        "Um tema bem importante é a análise da diferença entre a média e a mediana. Dizemos anteriormente que a média é sensível a valores extremos ou outliers.\n",
        "\n",
        "Por exemplo, em uma empresa, se a maioria dos funcionários ganha entre R$ 2.000 e R$ 5.000, mas o CEO ganha R$ 50.000, a média salarial será puxada para cima, não refletindo a realidade da maioria dos funcionários. A mediana, neste caso, seria uma medida mais adequada, pois não seria tão influenciada pelo salário do CEO.\n",
        "\n",
        "Ou seja, a análise pela mediana é mais vantajosa que a média quando você está lidando com dados mais assimétricos ou quando há outliers significativos.\n",
        "\n",
        "Vamos considerar um conjunto de dados hipotético sobre os salários em uma pequena empresa para ilustrar a diferença entre média e mediana em uma visualização:"
      ]
    },
    {
      "cell_type": "code",
      "execution_count": null,
      "metadata": {},
      "outputs": [
        {
          "data": {
            "image/png": "[encoded data removed]",
            "text/plain": [
              "<Figure size 1000x800 with 1 Axes>"
            ]
          },
          "metadata": {},
          "output_type": "display_data"
        }
      ],
      "source": [
        "import numpy as np\n",
        "import pandas as pd\n",
        "import seaborn as sns\n",
        "import matplotlib.pyplot as plt\n",
        "\n",
        "# Definindo a semente para garantir resultados reproduzíveis\n",
        "np.random.seed(123)\n",
        "\n",
        "# Simulando dados de salários\n",
        "salarios = np.concatenate([np.random.normal(3000, 500, 100), [10000] * 10, [20000] * 5, [25000] * 2])\n",
        "\n",
        "# Criando o DataFrame\n",
        "dados = pd.DataFrame(salarios, columns=['salarios'])\n",
        "\n",
        "# Calculando a média e a mediana\n",
        "media_salarios = dados['salarios'].mean()\n",
        "mediana_salarios = dados['salarios'].median()\n",
        "\n",
        "# Ajustando o tamanho do gráfico\n",
        "plt.figure(figsize=(10, 8))\n",
        "\n",
        "sns.set_style('darkgrid')\n",
        "# Criando o histograma e a linha de densidade\n",
        "sns.histplot(dados['salarios'], bins=30, color='steelblue', alpha=0.3)\n",
        "\n",
        "# Adicionando as linhas para média e mediana\n",
        "plt.axvline(media_salarios, color=\"red\", linestyle=\"--\", label=f'Média: {media_salarios:.2f}')\n",
        "plt.axvline(mediana_salarios, color=\"green\", linestyle=\"--\", label=f'Mediana: {mediana_salarios:.2f}')\n",
        "\n",
        "# Adicionando título e rótulos aos eixos\n",
        "plt.title(\"Comparação entre Média e Mediana dos Salários\", fontsize=22, ha='center')\n",
        "plt.xlabel(\"Salários (R$)\", fontsize=16)\n",
        "plt.ylabel(\"Frequência\", fontsize=16)\n",
        "\n",
        "sns.despine()\n",
        "\n",
        "# Adicionando a legenda\n",
        "plt.legend(title='', fontsize=14)\n",
        "\n",
        "plt.show()"
      ]
    },
    {
      "cell_type": "code",
      "execution_count": null,
      "metadata": {},
      "outputs": [
        {
          "data": {
            "application/vnd.microsoft.datawrangler.viewer.v0+json": {
              "columns": [
                {
                  "name": "index",
                  "rawType": "int64",
                  "type": "integer"
                },
                {
                  "name": "salarios",
                  "rawType": "float64",
                  "type": "float"
                }
              ],
              "ref": "8329e036-04f0-49d7-96b7-06d9dca42de0",
              "rows": [
                [
                  "0",
                  "10000.0"
                ]
              ],
              "shape": {
                "columns": 1,
                "rows": 1
              }
            },
            "text/plain": [
              "0    10000.0\n",
              "Name: salarios, dtype: float64"
            ]
          },
          "execution_count": 89,
          "metadata": {},
          "output_type": "execute_result"
        }
      ],
      "source": [
        "dados.salarios.mode()"
      ]
    },
    {
      "cell_type": "markdown",
      "metadata": {},
      "source": [
        "Durante o verão, o consumo de energia aumenta devido ao uso de ar condicionado. No entanto, algumas residências, especialmente as desocupadas ou com sistemas de energia eficientes, apresentam consumos muito baixos, o que pode resultar em uma distribuição assimétrica à esquerda.\n",
        "\n",
        "Vamos simular esses dados para consumo mensal a fim de compreender a distribuição. A função rvs() gera 10.000 amostras de uma distribuição Beta com parâmetros a = 10 e b = 4."
      ]
    },
    {
      "cell_type": "code",
      "execution_count": null,
      "metadata": {},
      "outputs": [
        {
          "data": {
            "application/vnd.microsoft.datawrangler.viewer.v0+json": {
              "columns": [
                {
                  "name": "index",
                  "rawType": "int64",
                  "type": "integer"
                },
                {
                  "name": "Consumo",
                  "rawType": "float64",
                  "type": "float"
                }
              ],
              "ref": "5a723b82-2784-4071-a542-a9cc411ca7e7",
              "rows": [
                [
                  "0",
                  "154.0"
                ],
                [
                  "1",
                  "146.0"
                ],
                [
                  "2",
                  "148.0"
                ],
                [
                  "3",
                  "126.0"
                ],
                [
                  "4",
                  "182.0"
                ]
              ],
              "shape": {
                "columns": 1,
                "rows": 5
              }
            },
            "text/html": [
              "<div>\n",
              "<style scoped>\n",
              "    .dataframe tbody tr th:only-of-type {\n",
              "        vertical-align: middle;\n",
              "    }\n",
              "\n",
              "    .dataframe tbody tr th {\n",
              "        vertical-align: top;\n",
              "    }\n",
              "\n",
              "    .dataframe thead th {\n",
              "        text-align: right;\n",
              "    }\n",
              "</style>\n",
              "<table border=\"1\" class=\"dataframe\">\n",
              "  <thead>\n",
              "    <tr style=\"text-align: right;\">\n",
              "      <th></th>\n",
              "      <th>Consumo</th>\n",
              "    </tr>\n",
              "  </thead>\n",
              "  <tbody>\n",
              "    <tr>\n",
              "      <th>0</th>\n",
              "      <td>154.0</td>\n",
              "    </tr>\n",
              "    <tr>\n",
              "      <th>1</th>\n",
              "      <td>146.0</td>\n",
              "    </tr>\n",
              "    <tr>\n",
              "      <th>2</th>\n",
              "      <td>148.0</td>\n",
              "    </tr>\n",
              "    <tr>\n",
              "      <th>3</th>\n",
              "      <td>126.0</td>\n",
              "    </tr>\n",
              "    <tr>\n",
              "      <th>4</th>\n",
              "      <td>182.0</td>\n",
              "    </tr>\n",
              "  </tbody>\n",
              "</table>\n",
              "</div>"
            ],
            "text/plain": [
              "   Consumo\n",
              "0    154.0\n",
              "1    146.0\n",
              "2    148.0\n",
              "3    126.0\n",
              "4    182.0"
            ]
          },
          "execution_count": 90,
          "metadata": {},
          "output_type": "execute_result"
        }
      ],
      "source": [
        "import numpy as np\n",
        "import pandas as pd\n",
        "from scipy.stats import beta\n",
        "\n",
        "# Definir a semente para garantir resultados reproduzíveis\n",
        "np.random.seed(42)\n",
        "\n",
        "# Gerando os dados de consumo de energia (distribuição Beta com parâmetros a=10, b=4)\n",
        "consumo_energia = 2 * np.round(100 * beta.rvs(10, 4, size=10000), 0)\n",
        "\n",
        "# Criando o DataFrame\n",
        "df_consumo = pd.DataFrame(consumo_energia, columns=['Consumo'])\n",
        "\n",
        "# Exibindo as primeiras linhas\n",
        "df_consumo.head()"
      ]
    },
    {
      "cell_type": "code",
      "execution_count": null,
      "metadata": {},
      "outputs": [],
      "source": [
        "# Agora, vamos calcular as medidas de tendência central para ter uma noção da distribuição dos dados:\n",
        "# Exibindo as medidas\n",
        "medidas = {\n",
        "    'media': df_consumo['Consumo'].mean(),\n",
        "    'mediana': df_consumo['Consumo'].median(),\n",
        "    'moda': df_consumo['Consumo'].mode()[0]\n",
        "}\n",
        "medidas\n",
        "\n",
        "media = df_consumo['Consumo'].mean()\n",
        "mediana = df_consumo['Consumo'].median()\n",
        "moda = df_consumo['Consumo'].mode()[0]"
      ]
    },
    {
      "cell_type": "code",
      "execution_count": null,
      "metadata": {},
      "outputs": [
        {
          "data": {
            "image/png": "[encoded data removed]",
            "text/plain": [
              "<Figure size 1000x800 with 1 Axes>"
            ]
          },
          "metadata": {},
          "output_type": "display_data"
        }
      ],
      "source": [
        "# Ajustando o tamanho do gráfico\n",
        "plt.figure(figsize=(10, 8))\n",
        "\n",
        "sns.set_style('darkgrid')\n",
        "\n",
        "# Criando o histograma\n",
        "sns.histplot(df_consumo['Consumo'], bins=15, color='steelblue', alpha=0.3)\n",
        "\n",
        "# Adicionando as linhas para média, mediana e moda\n",
        "plt.axvline(media, color=\"red\", linestyle=\"--\", label=f'Média: {media:.2f}')\n",
        "plt.axvline(mediana, color=\"green\", linestyle=\"-.\", label=f'Mediana: {mediana:.2f}')\n",
        "plt.axvline(moda, color=\"black\", linestyle=\":\", label=f'Moda: {moda:.2f}')\n",
        "\n",
        "# Títulos e rótulos\n",
        "plt.title('Distribuição do consumo de energia no verão em residências', fontsize=22, ha='center')\n",
        "plt.xlabel('Consumo de Energia (kWh)', fontsize=16)\n",
        "plt.ylabel('Frequência', fontsize=16)\n",
        "\n",
        "# Adicionando a legenda\n",
        "plt.legend(title='', fontsize=14)\n",
        "\n",
        "# Exibindo o gráfico\n",
        "plt.show()"
      ]
    },
    {
      "cell_type": "markdown",
      "metadata": {},
      "source": [
        "Alguns comportamentos interessantes que podemos observar aqui:\n",
        "\n",
        "Média: tem menor valor porque é influenciada pelos valores mais baixos.\n",
        "Mediana: representa o ponto central, menos afetado pelos extremos que a média.\n",
        "Moda: reflete o valor mais comum, concentrado em um ponto alto na distribuição.\n",
        "Simetria da Distribuição: a relação moda > mediana > médiademonstra que a distribuição é assimétrica à esquerda. Assim, identificar assimetria ajuda a decidir se transformações (como log ou raiz quadrada) são necessárias para análises estatísticas e os candidatos a outliers podem ser explorados para entender padrões incomuns no consumo.\n",
        "\n",
        "Conseguimos observar que a análise das relações entre média, mediana e moda é uma etapa essencial na exploração de dados. Essas medidas ajudam a entender padrões, identificar extremos e guiar decisões sobre ajustes ou modelagens futuras. A abordagem visual também facilitou a comunicação dessas características."
      ]
    },
    {
      "cell_type": "markdown",
      "metadata": {
        "id": "i_X1NcH9_T-u"
      },
      "source": [
        "## **Aula 04 - Investigando os dados dos colaboradores**"
      ]
    },
    {
      "cell_type": "markdown",
      "metadata": {
        "id": "hd7f_bUIi8ty"
      },
      "source": [
        "### **Mão na Massa - Analisando as rendas e suas divisões**"
      ]
    },
    {
      "cell_type": "markdown",
      "metadata": {
        "id": "_PehOjjeVL1Y"
      },
      "source": [
        "Nesta etapa do treinamento, vamos analisar os dados das pessoas responsáveis pelo domicílio de acordo com os dados da PNAD de 2015, por meio das medidas separatrizes. Responda às perguntas abaixo e reflita sobre os achados.\n"
      ]
    },
    {
      "cell_type": "markdown",
      "metadata": {
        "id": "NENRGQVdY3fq"
      },
      "source": [
        "#### **Calcule o número de classes para `Renda` até R$15.000 utilizando a regra de Sturges**"
      ]
    },
    {
      "cell_type": "markdown",
      "metadata": {
        "id": "cBeURnT-1mvR"
      },
      "source": [
        "$$k = 1 + \\frac {10}{3}\\log_{10}n$$\n",
        "\n",
        "onde,\n",
        "\n",
        "$k$ = número de classes\n",
        "\n",
        "$n$ = número de observações.\n"
      ]
    },
    {
      "cell_type": "code",
      "execution_count": null,
      "metadata": {
        "id": "TmDnTrpCXttT"
      },
      "outputs": [],
      "source": []
    },
    {
      "cell_type": "code",
      "execution_count": null,
      "metadata": {
        "id": "EXGfDn8hXttT"
      },
      "outputs": [],
      "source": []
    },
    {
      "cell_type": "code",
      "execution_count": null,
      "metadata": {
        "id": "5LMK0dCDXttU"
      },
      "outputs": [],
      "source": []
    },
    {
      "cell_type": "code",
      "execution_count": null,
      "metadata": {
        "id": "_hGEfSObXttU"
      },
      "outputs": [],
      "source": []
    },
    {
      "cell_type": "code",
      "execution_count": null,
      "metadata": {
        "id": "sy21NWJuXttU"
      },
      "outputs": [],
      "source": []
    },
    {
      "cell_type": "markdown",
      "metadata": {
        "id": "jOLZSNmHY3fv"
      },
      "source": [
        "#### **Crie o histograma da `Renda` das pessoas responsáveis até R$15.000 seguindo o número de classes calculado anteriormente**"
      ]
    },
    {
      "cell_type": "markdown",
      "metadata": {
        "id": "ycnq6L-I24cO"
      },
      "source": [
        "> **Observação:** Ao rodar o código para dividir os dados em faixas é possível que você observe o limite inferior da 1ª faixa com um valor negativo. Isto porque a *Regra de Sturges* define o intervalo mínimo da 1ª classe pela seguinte fórmula: $min(Renda) - (max(Renda) - min(Renda)) * 0.001$.\n",
        "\n"
      ]
    },
    {
      "cell_type": "code",
      "execution_count": null,
      "metadata": {
        "id": "wkl2gz47XttU"
      },
      "outputs": [],
      "source": []
    },
    {
      "cell_type": "code",
      "execution_count": null,
      "metadata": {
        "id": "P2yIL7HvXttU"
      },
      "outputs": [],
      "source": []
    },
    {
      "cell_type": "code",
      "execution_count": null,
      "metadata": {
        "id": "OqVelsvIXttV"
      },
      "outputs": [],
      "source": []
    },
    {
      "cell_type": "markdown",
      "metadata": {
        "id": "MRRzLUVVY3fz"
      },
      "source": [
        "> #### Conclusões\n",
        "\n",
        "Escreva suas conclusões aqui..."
      ]
    },
    {
      "cell_type": "markdown",
      "metadata": {
        "id": "CY3P_t7CiUmK"
      },
      "source": [
        "#### **Responda as seguintes questões sobre o nosso dataset completo utilizando os conceitos que estudamos até aqui:**"
      ]
    },
    {
      "cell_type": "markdown",
      "metadata": {
        "id": "1eRC8Ko0B-8u"
      },
      "source": [
        "##### **1. Qual o percentual de pessoas responsáveis que ganhava até um salário mínimo em 2015 (R$ 788,00)?**\n",
        "\n"
      ]
    },
    {
      "cell_type": "code",
      "execution_count": null,
      "metadata": {
        "id": "R7iobsP9XttV"
      },
      "outputs": [],
      "source": []
    },
    {
      "cell_type": "markdown",
      "metadata": {
        "id": "DG8AZfpRY3f3"
      },
      "source": [
        "##### **2. Qual a renda máxima de 95% das pessoas responsáveis na pesquisa?**\n"
      ]
    },
    {
      "cell_type": "code",
      "execution_count": null,
      "metadata": {
        "id": "YawjpiflXttW"
      },
      "outputs": [],
      "source": []
    },
    {
      "cell_type": "markdown",
      "metadata": {
        "id": "uPqMZkacY3f5"
      },
      "source": [
        "##### **3.   Qual a renda mínima dos 1% mais bem pagos da pesquisa?**"
      ]
    },
    {
      "cell_type": "code",
      "execution_count": null,
      "metadata": {
        "id": "B3Zeil0eXttW"
      },
      "outputs": [],
      "source": []
    },
    {
      "cell_type": "markdown",
      "metadata": {
        "id": "J8R5TK2_Y3f1"
      },
      "source": [
        "##### **4. Qual a renda máxima de 25%, 50% e 75% das pessoas responsáveis que receberam até R$ 6.000 de rendimento mensal? Construa o boxplot e traga o resumo desses dados.**\n"
      ]
    },
    {
      "cell_type": "code",
      "execution_count": null,
      "metadata": {
        "id": "j4-anz8SXttW"
      },
      "outputs": [],
      "source": []
    },
    {
      "cell_type": "code",
      "execution_count": null,
      "metadata": {
        "id": "VbzETKR2XttW"
      },
      "outputs": [],
      "source": []
    },
    {
      "cell_type": "code",
      "execution_count": null,
      "metadata": {
        "id": "KiN6NB7NXttW"
      },
      "outputs": [],
      "source": []
    },
    {
      "cell_type": "markdown",
      "metadata": {
        "id": "OEVJhNXlY3f6"
      },
      "source": [
        "> #### Conclusões\n",
        "\n",
        "Escreva suas conclusões aqui..."
      ]
    },
    {
      "cell_type": "markdown",
      "metadata": {
        "id": "ZGVF4ZrrY3f7"
      },
      "source": [
        "#### **Construa o boxplot da `Renda` até o percentil 95% (`renda_6k`) das pessoas responsáveis por `Cat.Sexo` e `Cat.Cor`. Interprete o resultado.**"
      ]
    },
    {
      "cell_type": "markdown",
      "metadata": {
        "id": "hmcRkp8GHsT3"
      },
      "source": [
        "**Dica:** Para incluir uma 3ª variável na construção de um boxplot, utilize o parâmetro `hue` da seguinte maneira: `(x = Renda, y = Cat.Cor, hue = Cat.Sexo)`."
      ]
    },
    {
      "cell_type": "code",
      "execution_count": null,
      "metadata": {
        "id": "WBOTVg-lXttX"
      },
      "outputs": [],
      "source": []
    },
    {
      "cell_type": "markdown",
      "metadata": {
        "id": "u5QwAmCdlsW_"
      },
      "source": [
        "#### **Qual a idade limite para 20% da população? Construa o histograma acumulado com curva de densidade, definindo a idade limite e quantas pessoas se encaixam nessa porcentagem.**"
      ]
    },
    {
      "cell_type": "markdown",
      "metadata": {
        "id": "xtzRs-kPJnoX"
      },
      "source": [
        "**Dica:** Para ler os últimos valores de um DataFrame utilize a função `tail()`.\n",
        "\n",
        "Exemplo: `df.tail(3)` lê os ultimos 3 registros do DataFrame `df`."
      ]
    },
    {
      "cell_type": "code",
      "execution_count": null,
      "metadata": {
        "id": "TyQV3zwIXttY"
      },
      "outputs": [],
      "source": []
    },
    {
      "cell_type": "code",
      "execution_count": null,
      "metadata": {
        "id": "Zm_zltjkXttY"
      },
      "outputs": [],
      "source": []
    },
    {
      "cell_type": "code",
      "execution_count": null,
      "metadata": {
        "id": "h9OcEyx5XttY"
      },
      "outputs": [],
      "source": []
    },
    {
      "cell_type": "code",
      "execution_count": null,
      "metadata": {
        "id": "0ss0U2TKXttY"
      },
      "outputs": [],
      "source": []
    },
    {
      "cell_type": "code",
      "execution_count": null,
      "metadata": {
        "id": "c-8l5oecXttZ"
      },
      "outputs": [],
      "source": []
    },
    {
      "cell_type": "code",
      "execution_count": null,
      "metadata": {
        "id": "k84MfaZrXttZ"
      },
      "outputs": [],
      "source": []
    },
    {
      "cell_type": "code",
      "execution_count": null,
      "metadata": {
        "id": "-IATmc0gXttZ"
      },
      "outputs": [],
      "source": []
    },
    {
      "cell_type": "markdown",
      "metadata": {
        "id": "4D6YPAnvY3f-"
      },
      "source": [
        "> #### Conclusões\n",
        "\n",
        "Escreva suas conclusões aqui..."
      ]
    },
    {
      "cell_type": "markdown",
      "metadata": {
        "id": "8oiQ6DsahpRv"
      },
      "source": [
        "## **Aula 05 - Analisando a variação dos dados**"
      ]
    },
    {
      "cell_type": "markdown",
      "metadata": {
        "id": "41X1NLZpi9Z_"
      },
      "source": [
        "### **Mão na Massa - Analisando a variação da Renda das pessoas responsáveis**"
      ]
    },
    {
      "cell_type": "markdown",
      "metadata": {
        "id": "iBC8rHu8MJw5"
      },
      "source": [
        "Nesta última etapa do treinamento, vamos analisar os dados de renda das pessoas responsáveis pelo domicílio de acordo com os dados da PNAD de 2015, calculando a variação desta para determinadas características da amostra. Responda às perguntas abaixo e reflita sobre os achados.\n"
      ]
    },
    {
      "cell_type": "markdown",
      "metadata": {
        "id": "_M9dh9-Bnnak"
      },
      "source": [
        "#### **Responda as seguintes questões sobre o nosso dataset utilizando os conceitos que estudamos até aqui:**"
      ]
    },
    {
      "cell_type": "markdown",
      "metadata": {
        "id": "s3M82GT_nnal"
      },
      "source": [
        "##### **1.   Qual o desvio médio absoluto, a variância e desvio padrão da renda das pessoas responsáveis na pesquisa?**\n",
        "\n",
        "\n",
        "\n"
      ]
    },
    {
      "cell_type": "code",
      "execution_count": null,
      "metadata": {
        "id": "WTyxha0KXttd"
      },
      "outputs": [],
      "source": []
    },
    {
      "cell_type": "markdown",
      "metadata": {
        "id": "6F0H8I-MdhB9"
      },
      "source": [
        "##### **2. Construa uma tabela com a média, mediana e desvio padrão para a renda das pessoas em relação aos Anos de Estudo. O que podemos interpretar com esses dados?**"
      ]
    },
    {
      "cell_type": "code",
      "execution_count": null,
      "metadata": {
        "id": "fHD3A9zjXtte"
      },
      "outputs": [],
      "source": []
    },
    {
      "cell_type": "markdown",
      "metadata": {
        "id": "BUI1Zps3eseQ"
      },
      "source": [
        "> #### Conclusões\n",
        "\n",
        "Escreva suas conclusões aqui..."
      ]
    },
    {
      "cell_type": "markdown",
      "metadata": {
        "id": "upuAC7ZuddUd"
      },
      "source": [
        "##### **3.   Construa uma tabela com a média, mediana e desvio padrão para a renda das pessoas do sexo biológico masculino e feminino até R$ 15.000. O que podemos interpretar com esses dados?**"
      ]
    },
    {
      "cell_type": "code",
      "execution_count": null,
      "metadata": {
        "id": "_APol7btXttf"
      },
      "outputs": [],
      "source": []
    },
    {
      "cell_type": "markdown",
      "metadata": {
        "id": "4EcHVWU3etkV"
      },
      "source": [
        "> #### Conclusões\n",
        "\n",
        "Escreva suas conclusões aqui..."
      ]
    },
    {
      "cell_type": "markdown",
      "metadata": {
        "id": "Z-zoKBPRnnal"
      },
      "source": [
        "#### **Construa um boxplot da `Renda` dos estados da Região Centro-Oeste até R$ 10.000 segundo o `Cat.Sexo`. Para interpretar o resultado construa 3 tabelas com cada uma das estatísticas descritivas (média, mediana e desvio padrão).**"
      ]
    },
    {
      "cell_type": "code",
      "execution_count": null,
      "metadata": {
        "id": "sOQE8rbkXttf"
      },
      "outputs": [],
      "source": []
    },
    {
      "cell_type": "code",
      "execution_count": null,
      "metadata": {
        "id": "-RXYntHRXttf"
      },
      "outputs": [],
      "source": []
    },
    {
      "cell_type": "markdown",
      "metadata": {
        "id": "RSyeOjU3oA6t"
      },
      "source": [
        "##### **Média**"
      ]
    },
    {
      "cell_type": "code",
      "execution_count": null,
      "metadata": {
        "id": "BgCrJDFtXttg"
      },
      "outputs": [],
      "source": []
    },
    {
      "cell_type": "markdown",
      "metadata": {
        "id": "-IAhXYjDoDjU"
      },
      "source": [
        "##### **Mediana**"
      ]
    },
    {
      "cell_type": "code",
      "execution_count": null,
      "metadata": {
        "id": "A1-P7p3yXttg"
      },
      "outputs": [],
      "source": []
    },
    {
      "cell_type": "markdown",
      "metadata": {
        "id": "TaiN5Uk9oG1D"
      },
      "source": [
        "##### **Desvio Padrão**"
      ]
    },
    {
      "cell_type": "code",
      "execution_count": null,
      "metadata": {
        "id": "fG2n4hMPXttg"
      },
      "outputs": [],
      "source": []
    },
    {
      "cell_type": "markdown",
      "metadata": {
        "id": "Yvhlg_qWewNB"
      },
      "source": [
        "> #### Conclusões\n",
        "\n",
        "Escreva suas conclusões aqui..."
      ]
    }
  ],
  "metadata": {
    "colab": {
      "collapsed_sections": [
        "pTpoxoY7-roj"
      ],
      "include_colab_link": true,
      "provenance": []
    },
    "kernelspec": {
      "display_name": "Python 3",
      "name": "python3"
    },
    "language_info": {
      "codemirror_mode": {
        "name": "ipython",
        "version": 3
      },
      "file_extension": ".py",
      "mimetype": "text/x-python",
      "name": "python",
      "nbconvert_exporter": "python",
      "pygments_lexer": "ipython3",
      "version": "3.13.2"
    },
    "orig_nbformat": 4
  },
  "nbformat": 4,
  "nbformat_minor": 0
}
